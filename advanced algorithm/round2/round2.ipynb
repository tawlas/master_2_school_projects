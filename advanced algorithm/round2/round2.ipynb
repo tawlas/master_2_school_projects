{
 "cells": [
  {
   "cell_type": "code",
   "execution_count": 58,
   "metadata": {},
   "outputs": [
    {
     "name": "stdout",
     "output_type": "stream",
     "text": [
      "Requirement already satisfied: sympy in /Users/lastaw/anaconda3/lib/python3.7/site-packages (1.4)\r\n",
      "Requirement already satisfied: mpmath>=0.19 in /Users/lastaw/anaconda3/lib/python3.7/site-packages (from sympy) (1.1.0)\r\n"
     ]
    }
   ],
   "source": [
    "!pip install sympy"
   ]
  },
  {
   "cell_type": "code",
   "execution_count": null,
   "metadata": {},
   "outputs": [],
   "source": [
    "# Pour chacun des fichiers en entrée \n",
    "for data_filename in sorted(os.listdir(input_dir)):\n",
    "    # importer la liste des nombres\n",
    "    data_file = open(os.path.join(input_dir, data_filename), \"r\")\n",
    "    numbers = [int(line) for line in data_file.readlines()]        \n",
    "\n",
    "    # decomposition en facteurs premiers\n",
    "    D = factorize(numbers)\n",
    "\n",
    "    # fichier des reponses depose dans le output_dir\n",
    "    output_filename = 'answer_{}'.format(data_filename)             \n",
    "    output_file = open(os.path.join(output_dir, output_filename), 'w')\n",
    "\n",
    "    # ecriture des resultats\n",
    "    for (n, primes) in D.items():\n",
    "        output_file.write('{} {}\\n'.format(n, primes))\n",
    "\n",
    "    output_file.close()"
   ]
  },
  {
   "cell_type": "code",
   "execution_count": 20,
   "metadata": {},
   "outputs": [],
   "source": [
    "import math\n",
    "import os\n",
    "import matplotlib.pyplot as plt"
   ]
  },
  {
   "cell_type": "code",
   "execution_count": 4,
   "metadata": {},
   "outputs": [],
   "source": [
    "input_dir = \"./public_dataset\"\n",
    "# output_dir = os.path.abspath(sys.argv[2])\n",
    "\n",
    "# un repertoire des fichiers en entree doit être passé en parametre 1\n",
    "if not os.path.isdir(input_dir):\n",
    "    print(input_dir, \"doesn't exist\")\n",
    "#     exit()       \n"
   ]
  },
  {
   "cell_type": "code",
   "execution_count": 5,
   "metadata": {},
   "outputs": [],
   "source": [
    "files = sorted(os.listdir(input_dir))\n",
    "data_files = []\n",
    "for data_filename in files:\n",
    "    with open(os.path.join(input_dir, data_filename), \"r\") as data_file:\n",
    "        data_files.append([int(line) for line in data_file.readlines()])"
   ]
  },
  {
   "cell_type": "code",
   "execution_count": 6,
   "metadata": {},
   "outputs": [],
   "source": [
    "def primeFactors():\n",
    "    pass\n",
    "\n",
    "def factorize(numbers):\n",
    "    result = {}\n",
    "    for n in numbers:\n",
    "        prime_factors = []\n",
    "        # Print the number of two's that divide n \n",
    "        while n % 2 == 0: \n",
    "            prime_factors.append(2), \n",
    "            n = n / 2\n",
    "\n",
    "        # n must be odd at this point \n",
    "        # so a skip of 2 ( i = i + 2) can be used \n",
    "        for i in range(3,int(math.sqrt(n))+1,2): \n",
    "\n",
    "            # while i divides n , print i ad divide n \n",
    "            while n % i== 0: \n",
    "                prime_factors.append(i), \n",
    "                n = n / i \n",
    "\n",
    "        # Condition if n is a prime \n",
    "        # number greater than 2 \n",
    "        if n > 2: \n",
    "            prime_factors.append(n)\n",
    "        result[n] = prime_factors\n",
    "    return result"
   ]
  },
  {
   "cell_type": "code",
   "execution_count": 20,
   "metadata": {},
   "outputs": [
    {
     "data": {
      "text/plain": [
       "True"
      ]
     },
     "execution_count": 20,
     "metadata": {},
     "output_type": "execute_result"
    }
   ],
   "source": [
    "all(len(data_files[k]) == 20 for k in range(9))"
   ]
  },
  {
   "cell_type": "code",
   "execution_count": 21,
   "metadata": {},
   "outputs": [],
   "source": []
  },
  {
   "cell_type": "code",
   "execution_count": 25,
   "metadata": {},
   "outputs": [
    {
     "name": "stdout",
     "output_type": "stream",
     "text": [
      "11509273177.0\n"
     ]
    }
   ],
   "source": [
    "primeFactors(11509273177.0)"
   ]
  },
  {
   "cell_type": "code",
   "execution_count": 18,
   "metadata": {},
   "outputs": [
    {
     "name": "stdout",
     "output_type": "stream",
     "text": [
      "prime factorization for 10403 : 101 103 "
     ]
    }
   ],
   "source": [
    "import math as mt \n",
    "\n",
    "MAXN = 10405\n",
    "\n",
    "# stores smallest prime factor for \n",
    "# every number \n",
    "spf = [0 for i in range(MAXN)] \n",
    "\n",
    "# Calculating SPF (Smallest Prime Factor) \n",
    "# for every number till MAXN. \n",
    "# Time Complexity : O(nloglogn) \n",
    "def sieve(): \n",
    "\tspf[1] = 1\n",
    "\tfor i in range(2, MAXN): \n",
    "\t\t\n",
    "\t\t# marking smallest prime factor \n",
    "\t\t# for every number to be itself. \n",
    "\t\tspf[i] = i \n",
    "\n",
    "\t# separately marking spf for \n",
    "\t# every even number as 2 \n",
    "\tfor i in range(4, MAXN, 2): \n",
    "\t\tspf[i] = 2\n",
    "\n",
    "\tfor i in range(3, mt.ceil(mt.sqrt(MAXN))): \n",
    "\t\t\n",
    "\t\t# checking if i is prime \n",
    "\t\tif (spf[i] == i): \n",
    "\t\t\t\n",
    "\t\t\t# marking SPF for all numbers \n",
    "\t\t\t# divisible by i \n",
    "\t\t\tfor j in range(i * i, MAXN, i): \n",
    "\t\t\t\t\n",
    "\t\t\t\t# marking spf[j] if it is \n",
    "\t\t\t\t# not previously marked \n",
    "\t\t\t\tif (spf[j] == j): \n",
    "\t\t\t\t\tspf[j] = i \n",
    "\n",
    "# A O(log n) function returning prime \n",
    "# factorization by dividing by smallest \n",
    "# prime factor at every step \n",
    "def getFactorization(x): \n",
    "\tret = list() \n",
    "\twhile (x != 1): \n",
    "\t\tret.append(spf[x]) \n",
    "\t\tx = x // spf[x] \n",
    "\n",
    "\treturn ret \n",
    "\n",
    "# Driver code \n",
    "\n",
    "# precalculating Smallest Prime Factor \n",
    "sieve() \n",
    "x = 10403\n",
    "print(\"prime factorization for\", x, \": \", \n",
    "\t\t\t\t\t\t\t\tend = \"\") \n",
    "\n",
    "# calling getFactorization function \n",
    "p = getFactorization(x) \n",
    "\n",
    "for i in range(len(p)): \n",
    "\tprint(p[i], end = \" \") \n",
    "\n",
    "# This code is contributed \n",
    "# by Mohit kumar 29 \n"
   ]
  },
  {
   "cell_type": "code",
   "execution_count": 44,
   "metadata": {},
   "outputs": [],
   "source": [
    "def is_prime(n):\n",
    "    \"\"\"\n",
    "    Assumes that n is a positive natural number\n",
    "    \"\"\"\n",
    "    # We know 1 is not a prime number\n",
    "    if n == 1:\n",
    "        return False\n",
    "\n",
    "    i = 2\n",
    "    # This will loop from 2 to int(sqrt(x))\n",
    "    while i*i <= n:\n",
    "        # Check if i divides x without leaving a remainder\n",
    "        if n % i == 0:\n",
    "            # This means that n has a factor in between 2 and sqrt(n)\n",
    "            # So it is not a prime number\n",
    "            return False\n",
    "        i += 1\n",
    "    # If we did not find any factor in the above loop,\n",
    "    # then n is a prime number\n",
    "    return True"
   ]
  },
  {
   "cell_type": "code",
   "execution_count": 52,
   "metadata": {},
   "outputs": [
    {
     "data": {
      "text/plain": [
       "False"
      ]
     },
     "execution_count": 52,
     "metadata": {},
     "output_type": "execute_result"
    }
   ],
   "source": [
    "is_prime(965210839229613)"
   ]
  },
  {
   "cell_type": "code",
   "execution_count": 40,
   "metadata": {},
   "outputs": [],
   "source": [
    "import math\n",
    "def primeFactors(n): \n",
    "    factors = []\n",
    "    # Print the number of two's that divide n \n",
    "    while n % 2 == 0: \n",
    "        factors.append(2), \n",
    "        n = n / 2\n",
    "          \n",
    "    # n must be odd at this point \n",
    "    # so a skip of 2 ( i = i + 2) can be used \n",
    "    for i in range(3,int(math.sqrt(n))+1,2): \n",
    "          \n",
    "        # while i divides n , print i ad divide n \n",
    "        while n % i== 0: \n",
    "            factors.append(i), \n",
    "            n = n / i \n",
    "              \n",
    "    # Condition if n is a prime \n",
    "    # number greater than 2 \n",
    "    if n > 2: \n",
    "        factors.append(n)\n",
    "    return factors"
   ]
  },
  {
   "cell_type": "code",
   "execution_count": 1,
   "metadata": {},
   "outputs": [],
   "source": [
    "def gcd(a,b):\n",
    "    if b==0:\n",
    "        return a;\n",
    "    else:\n",
    "        return gcd(b,a%b);"
   ]
  },
  {
   "cell_type": "code",
   "execution_count": 102,
   "metadata": {},
   "outputs": [],
   "source": [
    "# from math import gcd\n",
    "\n",
    "def pollards_rho(n, failmax=600):\n",
    "    x = 2; y = 2; d = 1\n",
    "    f = lambda x: (x**2 + 1) % n\n",
    "    fail = 0\n",
    "    while d == 1 and fail < failmax:\n",
    "        x = f(x); y = f(f(y))\n",
    "    #         print(x, y)\n",
    "        d = gcd(abs(x-y), n)\n",
    "        fail += 1\n",
    "        \n",
    "    if d != n and d != 1:\n",
    "        return d\n",
    "    else:\n",
    "        return n\n",
    "\n",
    "# # n = 47508355408452438672873207975244607143697401672601919005182981061393486991065174351724507009558369983282837049901\n",
    "# n = 67031076799885573\n",
    "# p = pollards_rho(n)\n",
    "# print('{} = {} * {}'.format(n, p, n/p))"
   ]
  },
  {
   "cell_type": "code",
   "execution_count": 96,
   "metadata": {
    "collapsed": true
   },
   "outputs": [
    {
     "name": "stdout",
     "output_type": "stream",
     "text": [
      "fail\n",
      "fail\n",
      "fail\n",
      "fail\n",
      "fail\n",
      "fail\n",
      "fail\n",
      "fail\n",
      "fail\n",
      "fail\n",
      "fail\n",
      "fail\n",
      "fail\n",
      "fail\n",
      "fail\n",
      "fail\n",
      "fail\n",
      "fail\n",
      "fail\n",
      "fail\n",
      "fail\n",
      "fail\n",
      "fail\n",
      "fail\n",
      "fail\n",
      "fail\n",
      "fail\n",
      "fail\n",
      "fail\n",
      "fail\n",
      "fail\n",
      "fail\n",
      "fail\n",
      "fail\n",
      "fail\n",
      "fail\n",
      "fail\n",
      "fail\n",
      "fail\n",
      "fail\n",
      "fail\n",
      "fail\n",
      "fail\n",
      "fail\n",
      "fail\n",
      "fail\n",
      "fail\n",
      "fail\n",
      "fail\n",
      "fail\n",
      "fail\n",
      "fail\n",
      "fail\n",
      "fail\n",
      "fail\n",
      "fail\n",
      "fail\n",
      "fail\n",
      "fail\n",
      "fail\n"
     ]
    },
    {
     "data": {
      "text/plain": [
       "321736946409871"
      ]
     },
     "execution_count": 96,
     "metadata": {},
     "output_type": "execute_result"
    }
   ],
   "source": [
    "pollards_rho(321736946409871)"
   ]
  },
  {
   "cell_type": "code",
   "execution_count": 113,
   "metadata": {},
   "outputs": [],
   "source": [
    "def factorize(n):\n",
    "    factors = []\n",
    "    p = 0\n",
    "    curr = n\n",
    "    while p != curr and curr != 1:\n",
    "#         print('curr', curr)\n",
    "        p = pollards_rho(curr)\n",
    "#         print('p',p)\n",
    "#         print('after pollard func')\n",
    "        factors.append(int(p))\n",
    "        curr = curr / p\n",
    "    return factors"
   ]
  },
  {
   "cell_type": "code",
   "execution_count": 114,
   "metadata": {},
   "outputs": [
    {
     "name": "stdout",
     "output_type": "stream",
     "text": [
      "[3, 321736946409871]\n",
      "True\n"
     ]
    }
   ],
   "source": [
    "k = 965210839229613\n",
    "D = factorize(k)\n",
    "m = 1\n",
    "for p in D:\n",
    "    m *= p\n",
    "print(D)\n",
    "print(m == k)"
   ]
  },
  {
   "cell_type": "code",
   "execution_count": 119,
   "metadata": {},
   "outputs": [],
   "source": [
    "def check_termination(n, factors):\n",
    "    m = 1\n",
    "    for p in factors:\n",
    "        m *= p\n",
    "    return int(m) == int(n)"
   ]
  },
  {
   "cell_type": "code",
   "execution_count": 138,
   "metadata": {},
   "outputs": [],
   "source": [
    "l = [965210839229610,\n",
    "965210839229611,\n",
    "965210839229612,\n",
    "965210839229613,\n",
    "965210839229614,\n",
    "965210839229615,\n",
    "965210839229616,\n",
    "965210839229617,\n",
    "965210839229618,\n",
    "965210839229619,\n",
    "965210839229620,\n",
    "965210839229621,\n",
    "965210839229622,\n",
    "965210839229623,\n",
    "965210839229624,\n",
    "965210839229625,\n",
    "965210839229626,\n",
    "965210839229627,\n",
    "965210839229628,\n",
    "965210839229629]"
   ]
  },
  {
   "cell_type": "code",
   "execution_count": 120,
   "metadata": {},
   "outputs": [],
   "source": [
    "l = [102000,\n",
    "102001,\n",
    "102002,\n",
    "102003,\n",
    "102004,\n",
    "102005,\n",
    "102006,\n",
    "102007,\n",
    "102008,\n",
    "102009,\n",
    "102010,\n",
    "102011,\n",
    "102012,\n",
    "102013,\n",
    "102014,\n",
    "102015,\n",
    "102016,\n",
    "102017,\n",
    "102018,\n",
    "102019]"
   ]
  },
  {
   "cell_type": "code",
   "execution_count": 139,
   "metadata": {},
   "outputs": [
    {
     "name": "stdout",
     "output_type": "stream",
     "text": [
      "[2, 3, 3, 5, 151, 71023608479]\n",
      "it 0: 0.00037980079650878906\n",
      "[13, 19, 23, 169901573531]\n",
      "it 1: 0.00015091896057128906\n",
      "[2, 2, 29, 157, 52998618451]\n",
      "it 2: 0.00013589859008789062\n",
      "[3, 321736946409871]\n",
      "it 3: 0.00016117095947265625\n",
      "[2, 10496831, 45976297]\n",
      "it 4: 0.021955251693725586\n",
      "[5, 11, 17549287985993]\n",
      "it 5: 0.00010180473327636719\n",
      "[2, 2, 2, 2, 3, 7, 31, 216653, 427717]\n",
      "it 6: 0.0008950233459472656\n",
      "[15497, 7523, 8279107]\n",
      "it 7: 0.0016498565673828125\n",
      "[2, 4229, 114118094021]\n",
      "it 8: 0.0002551078796386719\n",
      "[3, 3, 3, 71, 503500698607]\n",
      "it 9: 0.00010418891906738281\n",
      "[2, 2, 5, 113, 427084442137]\n",
      "it 10: 8.678436279296875e-05\n",
      "[61, 15823128511961]\n",
      "it 11: 9.012222290039062e-05\n",
      "[2, 3, 5149301, 31240837]\n",
      "it 12: 0.014638662338256836\n",
      "[7, 2832163, 48686203]\n",
      "it 13: 0.013985872268676758\n",
      "[2, 2, 2, 13, 1361, 12329, 553099]\n",
      "it 14: 0.0005838871002197266\n",
      "[3, 5, 5, 5, 107, 251, 2777, 34511]\n",
      "it 15: 8.821487426757812e-05\n",
      "[2, 11, 17, 2580777644999]\n",
      "it 16: 9.870529174804688e-05\n",
      "[965210839229627]\n",
      "it 17: 9.989738464355469e-05\n",
      "[2, 2, 3, 3, 199, 919, 146605783]\n",
      "it 18: 5.412101745605469e-05\n",
      "[137, 197, 35763119761]\n",
      "it 19: 8.797645568847656e-05\n",
      "Total time : 0.056181907653808594\n"
     ]
    }
   ],
   "source": [
    "import time\n",
    "s = time.time()\n",
    "for i, n in enumerate(l):\n",
    "    st = time.time()\n",
    "#     print(list(factorint(n, use_trial=True, use_rho=True, use_pm1=False).keys()))\n",
    "#     print(factorize(n))\n",
    "    print(primefactors(n))\n",
    "    et = time.time()\n",
    "    print(f'it {i}: {et-st}')\n",
    "e = time.time()\n",
    "print(f'Total time : {e-s}')"
   ]
  },
  {
   "cell_type": "code",
   "execution_count": 140,
   "metadata": {},
   "outputs": [
    {
     "name": "stdout",
     "output_type": "stream",
     "text": [
      "[2, 3, 3, 5, 151, 71023608479.0]\n",
      "it 0: 1.0013148784637451\n",
      "[13, 19, 23, 169901573531.0]\n",
      "it 1: 1.4266901016235352\n",
      "[2, 2, 29, 157, 52998618451.0]\n",
      "it 2: 0.6997177600860596\n",
      "[3, 321736946409871.0]\n",
      "it 3: 1.7895710468292236\n",
      "[2, 10496831, 45976297.0]\n",
      "it 4: 1.0795841217041016\n",
      "[5, 11, 17549287985993.0]\n",
      "it 5: 1.6433322429656982\n",
      "[2, 2, 2, 2, 3, 7, 31, 216653, 427717]\n",
      "it 6: 0.29308295249938965\n",
      "[7523, 15497, 8279107]\n",
      "it 7: 1.1827259063720703\n",
      "[2, 4229, 114118094021.0]\n",
      "it 8: 1.0074760913848877\n",
      "[3, 3, 3, 71, 503500698607.0]\n",
      "it 9: 1.4581620693206787\n",
      "[2, 2, 5, 113, 427084442137.0]\n",
      "it 10: 0.7479608058929443\n",
      "[61, 15823128511961.0]\n",
      "it 11: 1.6072032451629639\n",
      "[2, 3, 5149301, 31240837.0]\n",
      "it 12: 0.96732497215271\n",
      "[7, 2832163, 48686203.0]\n",
      "it 13: 1.390951156616211\n",
      "[2, 2, 2, 13, 1361, 12329, 553099]\n",
      "it 14: 0.40921759605407715\n",
      "[3, 5, 5, 5, 107, 251, 2777, 34511]\n",
      "it 15: 1.1675450801849365\n",
      "[2, 11, 17, 2580777644999.0]\n",
      "it 16: 1.1080808639526367\n",
      "[965210839229627]\n",
      "it 17: 1.6169238090515137\n",
      "[2, 2, 3, 3, 199, 919, 146605783.0]\n",
      "it 18: 0.6488380432128906\n",
      "[137, 197, 35763119761.0]\n",
      "it 19: 1.3764832019805908\n",
      "Total time : 22.623221158981323\n"
     ]
    }
   ],
   "source": [
    "import time\n",
    "s = time.time()\n",
    "for i, n in enumerate(l):\n",
    "    st = time.time()\n",
    "#     print(list(factorint(n, use_trial=True, use_rho=True, use_pm1=False).keys()))\n",
    "#     print(factorize(n))\n",
    "    print(primeFactors(n))\n",
    "    et = time.time()\n",
    "    print(f'it {i}: {et-st}')\n",
    "e = time.time()\n",
    "print(f'Total time : {e-s}')"
   ]
  },
  {
   "cell_type": "code",
   "execution_count": 127,
   "metadata": {},
   "outputs": [
    {
     "data": {
      "text/plain": [
       "[11040151, 103962857.0]"
      ]
     },
     "execution_count": 127,
     "metadata": {},
     "output_type": "execute_result"
    }
   ],
   "source": [
    "primeFactors(1147765639671407)"
   ]
  },
  {
   "cell_type": "code",
   "execution_count": 88,
   "metadata": {
    "collapsed": true
   },
   "outputs": [
    {
     "name": "stdout",
     "output_type": "stream",
     "text": [
      "13590\n",
      "it 0: 0.0011150836944580078\n",
      "5681\n",
      "it 1: 0.0007331371307373047\n",
      "18212\n",
      "it 2: 0.0005211830139160156\n",
      "3\n",
      "it 3: 0.0006299018859863281\n",
      "2\n",
      "it 4: 0.0005249977111816406\n",
      "55\n",
      "it 5: 0.0004868507385253906\n",
      "10416\n",
      "it 6: 0.0004715919494628906\n",
      "15497\n",
      "it 7: 0.001528024673461914\n",
      "2\n",
      "it 8: 0.0005707740783691406\n",
      "27\n",
      "it 9: 0.0004849433898925781\n",
      "2260\n",
      "it 10: 0.0004830360412597656\n",
      "61\n",
      "it 11: 0.0007660388946533203\n",
      "6\n",
      "it 12: 0.0005018711090087891\n",
      "7\n",
      "it 13: 0.0004909038543701172\n",
      "104\n",
      "it 14: 0.0005238056182861328\n",
      "10071375\n",
      "it 15: 0.0005249977111816406\n",
      "374\n",
      "it 16: 0.0004150867462158203\n"
     ]
    },
    {
     "ename": "KeyboardInterrupt",
     "evalue": "",
     "output_type": "error",
     "traceback": [
      "\u001b[0;31m---------------------------------------------------------------------------\u001b[0m",
      "\u001b[0;31mKeyboardInterrupt\u001b[0m                         Traceback (most recent call last)",
      "\u001b[0;32m<ipython-input-88-b811f77304ac>\u001b[0m in \u001b[0;36m<module>\u001b[0;34m\u001b[0m\n\u001b[1;32m      3\u001b[0m \u001b[0;32mfor\u001b[0m \u001b[0mi\u001b[0m\u001b[0;34m,\u001b[0m \u001b[0mn\u001b[0m \u001b[0;32min\u001b[0m \u001b[0menumerate\u001b[0m\u001b[0;34m(\u001b[0m\u001b[0ml\u001b[0m\u001b[0;34m)\u001b[0m\u001b[0;34m:\u001b[0m\u001b[0;34m\u001b[0m\u001b[0;34m\u001b[0m\u001b[0m\n\u001b[1;32m      4\u001b[0m     \u001b[0mst\u001b[0m \u001b[0;34m=\u001b[0m \u001b[0mtime\u001b[0m\u001b[0;34m.\u001b[0m\u001b[0mtime\u001b[0m\u001b[0;34m(\u001b[0m\u001b[0;34m)\u001b[0m\u001b[0;34m\u001b[0m\u001b[0;34m\u001b[0m\u001b[0m\n\u001b[0;32m----> 5\u001b[0;31m     \u001b[0mprint\u001b[0m\u001b[0;34m(\u001b[0m\u001b[0mpollards_rho\u001b[0m\u001b[0;34m(\u001b[0m\u001b[0mn\u001b[0m\u001b[0;34m)\u001b[0m\u001b[0;34m)\u001b[0m\u001b[0;34m\u001b[0m\u001b[0;34m\u001b[0m\u001b[0m\n\u001b[0m\u001b[1;32m      6\u001b[0m     \u001b[0met\u001b[0m \u001b[0;34m=\u001b[0m \u001b[0mtime\u001b[0m\u001b[0;34m.\u001b[0m\u001b[0mtime\u001b[0m\u001b[0;34m(\u001b[0m\u001b[0;34m)\u001b[0m\u001b[0;34m\u001b[0m\u001b[0;34m\u001b[0m\u001b[0m\n\u001b[1;32m      7\u001b[0m     \u001b[0mprint\u001b[0m\u001b[0;34m(\u001b[0m\u001b[0;34mf'it {i}: {et-st}'\u001b[0m\u001b[0;34m)\u001b[0m\u001b[0;34m\u001b[0m\u001b[0;34m\u001b[0m\u001b[0m\n",
      "\u001b[0;32m<ipython-input-87-336702908fb1>\u001b[0m in \u001b[0;36mpollards_rho\u001b[0;34m(n, failmax)\u001b[0m\n\u001b[1;32m      9\u001b[0m         \u001b[0mx\u001b[0m \u001b[0;34m=\u001b[0m \u001b[0mf\u001b[0m\u001b[0;34m(\u001b[0m\u001b[0mx\u001b[0m\u001b[0;34m)\u001b[0m\u001b[0;34m;\u001b[0m \u001b[0my\u001b[0m \u001b[0;34m=\u001b[0m \u001b[0mf\u001b[0m\u001b[0;34m(\u001b[0m\u001b[0mf\u001b[0m\u001b[0;34m(\u001b[0m\u001b[0my\u001b[0m\u001b[0;34m)\u001b[0m\u001b[0;34m)\u001b[0m\u001b[0;34m\u001b[0m\u001b[0;34m\u001b[0m\u001b[0m\n\u001b[1;32m     10\u001b[0m     \u001b[0;31m#         print(x, y)\u001b[0m\u001b[0;34m\u001b[0m\u001b[0;34m\u001b[0m\u001b[0;34m\u001b[0m\u001b[0m\n\u001b[0;32m---> 11\u001b[0;31m         \u001b[0md\u001b[0m \u001b[0;34m=\u001b[0m \u001b[0mgcd\u001b[0m\u001b[0;34m(\u001b[0m\u001b[0mabs\u001b[0m\u001b[0;34m(\u001b[0m\u001b[0mx\u001b[0m\u001b[0;34m-\u001b[0m\u001b[0my\u001b[0m\u001b[0;34m)\u001b[0m\u001b[0;34m,\u001b[0m \u001b[0mn\u001b[0m\u001b[0;34m)\u001b[0m\u001b[0;34m\u001b[0m\u001b[0;34m\u001b[0m\u001b[0m\n\u001b[0m\u001b[1;32m     12\u001b[0m         \u001b[0mfail\u001b[0m \u001b[0;34m+=\u001b[0m \u001b[0;36m1\u001b[0m\u001b[0;34m\u001b[0m\u001b[0;34m\u001b[0m\u001b[0m\n\u001b[1;32m     13\u001b[0m \u001b[0;34m\u001b[0m\u001b[0m\n",
      "\u001b[0;32m<ipython-input-1-a3e8aeb498a4>\u001b[0m in \u001b[0;36mgcd\u001b[0;34m(a, b)\u001b[0m\n\u001b[1;32m      3\u001b[0m         \u001b[0;32mreturn\u001b[0m \u001b[0ma\u001b[0m\u001b[0;34m;\u001b[0m\u001b[0;34m\u001b[0m\u001b[0;34m\u001b[0m\u001b[0m\n\u001b[1;32m      4\u001b[0m     \u001b[0;32melse\u001b[0m\u001b[0;34m:\u001b[0m\u001b[0;34m\u001b[0m\u001b[0;34m\u001b[0m\u001b[0m\n\u001b[0;32m----> 5\u001b[0;31m         \u001b[0;32mreturn\u001b[0m \u001b[0mgcd\u001b[0m\u001b[0;34m(\u001b[0m\u001b[0mb\u001b[0m\u001b[0;34m,\u001b[0m\u001b[0ma\u001b[0m\u001b[0;34m%\u001b[0m\u001b[0mb\u001b[0m\u001b[0;34m)\u001b[0m\u001b[0;34m;\u001b[0m\u001b[0;34m\u001b[0m\u001b[0;34m\u001b[0m\u001b[0m\n\u001b[0m",
      "\u001b[0;32m<ipython-input-1-a3e8aeb498a4>\u001b[0m in \u001b[0;36mgcd\u001b[0;34m(a, b)\u001b[0m\n\u001b[1;32m      3\u001b[0m         \u001b[0;32mreturn\u001b[0m \u001b[0ma\u001b[0m\u001b[0;34m;\u001b[0m\u001b[0;34m\u001b[0m\u001b[0;34m\u001b[0m\u001b[0m\n\u001b[1;32m      4\u001b[0m     \u001b[0;32melse\u001b[0m\u001b[0;34m:\u001b[0m\u001b[0;34m\u001b[0m\u001b[0;34m\u001b[0m\u001b[0m\n\u001b[0;32m----> 5\u001b[0;31m         \u001b[0;32mreturn\u001b[0m \u001b[0mgcd\u001b[0m\u001b[0;34m(\u001b[0m\u001b[0mb\u001b[0m\u001b[0;34m,\u001b[0m\u001b[0ma\u001b[0m\u001b[0;34m%\u001b[0m\u001b[0mb\u001b[0m\u001b[0;34m)\u001b[0m\u001b[0;34m;\u001b[0m\u001b[0;34m\u001b[0m\u001b[0;34m\u001b[0m\u001b[0m\n\u001b[0m",
      "\u001b[0;32m<ipython-input-1-a3e8aeb498a4>\u001b[0m in \u001b[0;36mgcd\u001b[0;34m(a, b)\u001b[0m\n\u001b[1;32m      3\u001b[0m         \u001b[0;32mreturn\u001b[0m \u001b[0ma\u001b[0m\u001b[0;34m;\u001b[0m\u001b[0;34m\u001b[0m\u001b[0;34m\u001b[0m\u001b[0m\n\u001b[1;32m      4\u001b[0m     \u001b[0;32melse\u001b[0m\u001b[0;34m:\u001b[0m\u001b[0;34m\u001b[0m\u001b[0;34m\u001b[0m\u001b[0m\n\u001b[0;32m----> 5\u001b[0;31m         \u001b[0;32mreturn\u001b[0m \u001b[0mgcd\u001b[0m\u001b[0;34m(\u001b[0m\u001b[0mb\u001b[0m\u001b[0;34m,\u001b[0m\u001b[0ma\u001b[0m\u001b[0;34m%\u001b[0m\u001b[0mb\u001b[0m\u001b[0;34m)\u001b[0m\u001b[0;34m;\u001b[0m\u001b[0;34m\u001b[0m\u001b[0;34m\u001b[0m\u001b[0m\n\u001b[0m",
      "\u001b[0;32m<ipython-input-1-a3e8aeb498a4>\u001b[0m in \u001b[0;36mgcd\u001b[0;34m(a, b)\u001b[0m\n\u001b[1;32m      3\u001b[0m         \u001b[0;32mreturn\u001b[0m \u001b[0ma\u001b[0m\u001b[0;34m;\u001b[0m\u001b[0;34m\u001b[0m\u001b[0;34m\u001b[0m\u001b[0m\n\u001b[1;32m      4\u001b[0m     \u001b[0;32melse\u001b[0m\u001b[0;34m:\u001b[0m\u001b[0;34m\u001b[0m\u001b[0;34m\u001b[0m\u001b[0m\n\u001b[0;32m----> 5\u001b[0;31m         \u001b[0;32mreturn\u001b[0m \u001b[0mgcd\u001b[0m\u001b[0;34m(\u001b[0m\u001b[0mb\u001b[0m\u001b[0;34m,\u001b[0m\u001b[0ma\u001b[0m\u001b[0;34m%\u001b[0m\u001b[0mb\u001b[0m\u001b[0;34m)\u001b[0m\u001b[0;34m;\u001b[0m\u001b[0;34m\u001b[0m\u001b[0;34m\u001b[0m\u001b[0m\n\u001b[0m",
      "\u001b[0;32m<ipython-input-1-a3e8aeb498a4>\u001b[0m in \u001b[0;36mgcd\u001b[0;34m(a, b)\u001b[0m\n\u001b[1;32m      3\u001b[0m         \u001b[0;32mreturn\u001b[0m \u001b[0ma\u001b[0m\u001b[0;34m;\u001b[0m\u001b[0;34m\u001b[0m\u001b[0;34m\u001b[0m\u001b[0m\n\u001b[1;32m      4\u001b[0m     \u001b[0;32melse\u001b[0m\u001b[0;34m:\u001b[0m\u001b[0;34m\u001b[0m\u001b[0;34m\u001b[0m\u001b[0m\n\u001b[0;32m----> 5\u001b[0;31m         \u001b[0;32mreturn\u001b[0m \u001b[0mgcd\u001b[0m\u001b[0;34m(\u001b[0m\u001b[0mb\u001b[0m\u001b[0;34m,\u001b[0m\u001b[0ma\u001b[0m\u001b[0;34m%\u001b[0m\u001b[0mb\u001b[0m\u001b[0;34m)\u001b[0m\u001b[0;34m;\u001b[0m\u001b[0;34m\u001b[0m\u001b[0;34m\u001b[0m\u001b[0m\n\u001b[0m",
      "\u001b[0;32m<ipython-input-1-a3e8aeb498a4>\u001b[0m in \u001b[0;36mgcd\u001b[0;34m(a, b)\u001b[0m\n\u001b[1;32m      3\u001b[0m         \u001b[0;32mreturn\u001b[0m \u001b[0ma\u001b[0m\u001b[0;34m;\u001b[0m\u001b[0;34m\u001b[0m\u001b[0;34m\u001b[0m\u001b[0m\n\u001b[1;32m      4\u001b[0m     \u001b[0;32melse\u001b[0m\u001b[0;34m:\u001b[0m\u001b[0;34m\u001b[0m\u001b[0;34m\u001b[0m\u001b[0m\n\u001b[0;32m----> 5\u001b[0;31m         \u001b[0;32mreturn\u001b[0m \u001b[0mgcd\u001b[0m\u001b[0;34m(\u001b[0m\u001b[0mb\u001b[0m\u001b[0;34m,\u001b[0m\u001b[0ma\u001b[0m\u001b[0;34m%\u001b[0m\u001b[0mb\u001b[0m\u001b[0;34m)\u001b[0m\u001b[0;34m;\u001b[0m\u001b[0;34m\u001b[0m\u001b[0;34m\u001b[0m\u001b[0m\n\u001b[0m",
      "\u001b[0;32m<ipython-input-1-a3e8aeb498a4>\u001b[0m in \u001b[0;36mgcd\u001b[0;34m(a, b)\u001b[0m\n\u001b[1;32m      3\u001b[0m         \u001b[0;32mreturn\u001b[0m \u001b[0ma\u001b[0m\u001b[0;34m;\u001b[0m\u001b[0;34m\u001b[0m\u001b[0;34m\u001b[0m\u001b[0m\n\u001b[1;32m      4\u001b[0m     \u001b[0;32melse\u001b[0m\u001b[0;34m:\u001b[0m\u001b[0;34m\u001b[0m\u001b[0;34m\u001b[0m\u001b[0m\n\u001b[0;32m----> 5\u001b[0;31m         \u001b[0;32mreturn\u001b[0m \u001b[0mgcd\u001b[0m\u001b[0;34m(\u001b[0m\u001b[0mb\u001b[0m\u001b[0;34m,\u001b[0m\u001b[0ma\u001b[0m\u001b[0;34m%\u001b[0m\u001b[0mb\u001b[0m\u001b[0;34m)\u001b[0m\u001b[0;34m;\u001b[0m\u001b[0;34m\u001b[0m\u001b[0;34m\u001b[0m\u001b[0m\n\u001b[0m",
      "\u001b[0;32m<ipython-input-1-a3e8aeb498a4>\u001b[0m in \u001b[0;36mgcd\u001b[0;34m(a, b)\u001b[0m\n\u001b[1;32m      3\u001b[0m         \u001b[0;32mreturn\u001b[0m \u001b[0ma\u001b[0m\u001b[0;34m;\u001b[0m\u001b[0;34m\u001b[0m\u001b[0;34m\u001b[0m\u001b[0m\n\u001b[1;32m      4\u001b[0m     \u001b[0;32melse\u001b[0m\u001b[0;34m:\u001b[0m\u001b[0;34m\u001b[0m\u001b[0;34m\u001b[0m\u001b[0m\n\u001b[0;32m----> 5\u001b[0;31m         \u001b[0;32mreturn\u001b[0m \u001b[0mgcd\u001b[0m\u001b[0;34m(\u001b[0m\u001b[0mb\u001b[0m\u001b[0;34m,\u001b[0m\u001b[0ma\u001b[0m\u001b[0;34m%\u001b[0m\u001b[0mb\u001b[0m\u001b[0;34m)\u001b[0m\u001b[0;34m;\u001b[0m\u001b[0;34m\u001b[0m\u001b[0;34m\u001b[0m\u001b[0m\n\u001b[0m",
      "\u001b[0;32m<ipython-input-1-a3e8aeb498a4>\u001b[0m in \u001b[0;36mgcd\u001b[0;34m(a, b)\u001b[0m\n\u001b[1;32m      3\u001b[0m         \u001b[0;32mreturn\u001b[0m \u001b[0ma\u001b[0m\u001b[0;34m;\u001b[0m\u001b[0;34m\u001b[0m\u001b[0;34m\u001b[0m\u001b[0m\n\u001b[1;32m      4\u001b[0m     \u001b[0;32melse\u001b[0m\u001b[0;34m:\u001b[0m\u001b[0;34m\u001b[0m\u001b[0;34m\u001b[0m\u001b[0m\n\u001b[0;32m----> 5\u001b[0;31m         \u001b[0;32mreturn\u001b[0m \u001b[0mgcd\u001b[0m\u001b[0;34m(\u001b[0m\u001b[0mb\u001b[0m\u001b[0;34m,\u001b[0m\u001b[0ma\u001b[0m\u001b[0;34m%\u001b[0m\u001b[0mb\u001b[0m\u001b[0;34m)\u001b[0m\u001b[0;34m;\u001b[0m\u001b[0;34m\u001b[0m\u001b[0;34m\u001b[0m\u001b[0m\n\u001b[0m",
      "\u001b[0;32m<ipython-input-1-a3e8aeb498a4>\u001b[0m in \u001b[0;36mgcd\u001b[0;34m(a, b)\u001b[0m\n\u001b[1;32m      3\u001b[0m         \u001b[0;32mreturn\u001b[0m \u001b[0ma\u001b[0m\u001b[0;34m;\u001b[0m\u001b[0;34m\u001b[0m\u001b[0;34m\u001b[0m\u001b[0m\n\u001b[1;32m      4\u001b[0m     \u001b[0;32melse\u001b[0m\u001b[0;34m:\u001b[0m\u001b[0;34m\u001b[0m\u001b[0;34m\u001b[0m\u001b[0m\n\u001b[0;32m----> 5\u001b[0;31m         \u001b[0;32mreturn\u001b[0m \u001b[0mgcd\u001b[0m\u001b[0;34m(\u001b[0m\u001b[0mb\u001b[0m\u001b[0;34m,\u001b[0m\u001b[0ma\u001b[0m\u001b[0;34m%\u001b[0m\u001b[0mb\u001b[0m\u001b[0;34m)\u001b[0m\u001b[0;34m;\u001b[0m\u001b[0;34m\u001b[0m\u001b[0;34m\u001b[0m\u001b[0m\n\u001b[0m",
      "\u001b[0;31mKeyboardInterrupt\u001b[0m: "
     ]
    }
   ],
   "source": [
    "# import time\n",
    "# s = time.time()\n",
    "# for i, n in enumerate(l):\n",
    "#     st = time.time()\n",
    "#     print(pollards_rho(n))\n",
    "#     et = time.time()\n",
    "#     print(f'it {i}: {et-st}')\n",
    "# e = time.time()\n",
    "# print(f'Total time : {e-s}')"
   ]
  },
  {
   "cell_type": "code",
   "execution_count": 57,
   "metadata": {
    "collapsed": true
   },
   "outputs": [
    {
     "name": "stdout",
     "output_type": "stream",
     "text": [
      "[2, 3, 3, 5, 151, 71023608479.0]\n",
      "it 0: 1.007716178894043\n",
      "[13, 19, 23, 169901573531.0]\n",
      "it 1: 1.4225401878356934\n",
      "[2, 2, 29, 157, 52998618451.0]\n",
      "it 2: 0.7480731010437012\n",
      "[3, 321736946409871.0]\n",
      "it 3: 1.8480217456817627\n",
      "[2, 10496831, 45976297.0]\n",
      "it 4: 1.1024038791656494\n",
      "[5, 11, 17549287985993.0]\n",
      "it 5: 1.6783013343811035\n",
      "[2, 2, 2, 2, 3, 7, 31, 216653, 427717]\n",
      "it 6: 0.3060011863708496\n",
      "[7523, 15497, 8279107]\n",
      "it 7: 1.1816611289978027\n",
      "[2, 4229, 114118094021.0]\n",
      "it 8: 1.024878978729248\n",
      "[3, 3, 3, 71, 503500698607.0]\n",
      "it 9: 1.465083122253418\n",
      "[2, 2, 5, 113, 427084442137.0]\n",
      "it 10: 0.7573068141937256\n",
      "[61, 15823128511961.0]\n",
      "it 11: 1.6486499309539795\n",
      "[2, 3, 5149301, 31240837.0]\n",
      "it 12: 0.968386173248291\n",
      "[7, 2832163, 48686203.0]\n",
      "it 13: 1.2804429531097412\n",
      "[2, 2, 2, 13, 1361, 12329, 553099]\n",
      "it 14: 0.4137990474700928\n",
      "[3, 5, 5, 5, 107, 251, 2777, 34511]\n",
      "it 15: 1.1525778770446777\n",
      "[2, 11, 17, 2580777644999.0]\n",
      "it 16: 1.094886064529419\n",
      "[965210839229627]\n",
      "it 17: 1.626573085784912\n",
      "[2, 2, 3, 3, 199, 919, 146605783.0]\n",
      "it 18: 0.6395390033721924\n",
      "[137, 197, 35763119761.0]\n",
      "it 19: 1.3699231147766113\n",
      "Total time : 22.737581729888916\n"
     ]
    }
   ],
   "source": [
    "import time\n",
    "s = time.time()\n",
    "for i, n in enumerate(l):\n",
    "    st = time.time()\n",
    "    print(primeFactors(n))\n",
    "    et = time.time()\n",
    "    print(f'it {i}: {et-st}')\n",
    "e = time.time()\n",
    "print(f'Total time : {e-s}')"
   ]
  },
  {
   "cell_type": "code",
   "execution_count": null,
   "metadata": {},
   "outputs": [],
   "source": []
  },
  {
   "cell_type": "code",
   "execution_count": null,
   "metadata": {},
   "outputs": [],
   "source": []
  },
  {
   "cell_type": "code",
   "execution_count": null,
   "metadata": {},
   "outputs": [],
   "source": []
  },
  {
   "cell_type": "code",
   "execution_count": 15,
   "metadata": {},
   "outputs": [
    {
     "data": {
      "text/plain": [
       "1218958631449247.0"
      ]
     },
     "execution_count": 15,
     "metadata": {},
     "output_type": "execute_result"
    }
   ],
   "source": [
    "13*8147*11509273177.0"
   ]
  },
  {
   "cell_type": "code",
   "execution_count": 81,
   "metadata": {},
   "outputs": [
    {
     "data": {
      "text/plain": [
       "True"
      ]
     },
     "execution_count": 81,
     "metadata": {},
     "output_type": "execute_result"
    }
   ],
   "source": [
    "1218958631449247 == 1218958631449247"
   ]
  },
  {
   "cell_type": "code",
   "execution_count": 19,
   "metadata": {},
   "outputs": [],
   "source": []
  },
  {
   "cell_type": "code",
   "execution_count": 27,
   "metadata": {},
   "outputs": [],
   "source": [
    "import fractions\n",
    "\n",
    "def pollard_Rho(n):\n",
    "\n",
    "    def f(xn):\n",
    "        if xn == 0:\n",
    "            return 2\n",
    "        return f(xn - 1) ** 2 + 1\n",
    "    i = 0\n",
    "    x = f(i)\n",
    "    y = f(f(i))\n",
    "    d = fractions.gcd(abs(x - y), n)\n",
    "    while d == 1:\n",
    "        i = i + 1\n",
    "        d = fractions.gcd(abs(x - y), n)\n",
    "    root1 = d\n",
    "    root2 = n / d\n",
    "    print(i + 1)\n",
    "    return (root1, root2)"
   ]
  },
  {
   "cell_type": "code",
   "execution_count": 28,
   "metadata": {
    "collapsed": true
   },
   "outputs": [
    {
     "name": "stderr",
     "output_type": "stream",
     "text": [
      "/Users/lastaw/anaconda3/lib/python3.7/site-packages/ipykernel_launcher.py:12: DeprecationWarning: fractions.gcd() is deprecated. Use math.gcd() instead.\n",
      "  if sys.path[0] == '':\n",
      "/Users/lastaw/anaconda3/lib/python3.7/site-packages/ipykernel_launcher.py:15: DeprecationWarning: fractions.gcd() is deprecated. Use math.gcd() instead.\n",
      "  from ipykernel import kernelapp as app\n"
     ]
    },
    {
     "ename": "KeyboardInterrupt",
     "evalue": "",
     "output_type": "error",
     "traceback": [
      "\u001b[0;31m---------------------------------------------------------------------------\u001b[0m",
      "\u001b[0;31mKeyboardInterrupt\u001b[0m                         Traceback (most recent call last)",
      "\u001b[0;32m<ipython-input-28-a89536af65c6>\u001b[0m in \u001b[0;36m<module>\u001b[0;34m\u001b[0m\n\u001b[0;32m----> 1\u001b[0;31m \u001b[0mpollard_Rho\u001b[0m\u001b[0;34m(\u001b[0m\u001b[0;36m1218958631449247\u001b[0m\u001b[0;34m)\u001b[0m\u001b[0;34m\u001b[0m\u001b[0;34m\u001b[0m\u001b[0m\n\u001b[0m",
      "\u001b[0;32m<ipython-input-27-7e586a12ca76>\u001b[0m in \u001b[0;36mpollard_Rho\u001b[0;34m(n)\u001b[0m\n\u001b[1;32m     13\u001b[0m     \u001b[0;32mwhile\u001b[0m \u001b[0md\u001b[0m \u001b[0;34m==\u001b[0m \u001b[0;36m1\u001b[0m\u001b[0;34m:\u001b[0m\u001b[0;34m\u001b[0m\u001b[0;34m\u001b[0m\u001b[0m\n\u001b[1;32m     14\u001b[0m         \u001b[0mi\u001b[0m \u001b[0;34m=\u001b[0m \u001b[0mi\u001b[0m \u001b[0;34m+\u001b[0m \u001b[0;36m1\u001b[0m\u001b[0;34m\u001b[0m\u001b[0;34m\u001b[0m\u001b[0m\n\u001b[0;32m---> 15\u001b[0;31m         \u001b[0md\u001b[0m \u001b[0;34m=\u001b[0m \u001b[0mfractions\u001b[0m\u001b[0;34m.\u001b[0m\u001b[0mgcd\u001b[0m\u001b[0;34m(\u001b[0m\u001b[0mabs\u001b[0m\u001b[0;34m(\u001b[0m\u001b[0mx\u001b[0m \u001b[0;34m-\u001b[0m \u001b[0my\u001b[0m\u001b[0;34m)\u001b[0m\u001b[0;34m,\u001b[0m \u001b[0mn\u001b[0m\u001b[0;34m)\u001b[0m\u001b[0;34m\u001b[0m\u001b[0;34m\u001b[0m\u001b[0m\n\u001b[0m\u001b[1;32m     16\u001b[0m     \u001b[0mroot1\u001b[0m \u001b[0;34m=\u001b[0m \u001b[0md\u001b[0m\u001b[0;34m\u001b[0m\u001b[0;34m\u001b[0m\u001b[0m\n\u001b[1;32m     17\u001b[0m     \u001b[0mroot2\u001b[0m \u001b[0;34m=\u001b[0m \u001b[0mn\u001b[0m \u001b[0;34m/\u001b[0m \u001b[0md\u001b[0m\u001b[0;34m\u001b[0m\u001b[0;34m\u001b[0m\u001b[0m\n",
      "\u001b[0;32m~/anaconda3/lib/python3.7/fractions.py\u001b[0m in \u001b[0;36mgcd\u001b[0;34m(a, b)\u001b[0m\n\u001b[1;32m     21\u001b[0m     b is divided by it, the result comes out positive).\n\u001b[1;32m     22\u001b[0m     \"\"\"\n\u001b[0;32m---> 23\u001b[0;31m     \u001b[0;32mimport\u001b[0m \u001b[0mwarnings\u001b[0m\u001b[0;34m\u001b[0m\u001b[0;34m\u001b[0m\u001b[0m\n\u001b[0m\u001b[1;32m     24\u001b[0m     warnings.warn('fractions.gcd() is deprecated. Use math.gcd() instead.',\n\u001b[1;32m     25\u001b[0m                   DeprecationWarning, 2)\n",
      "\u001b[0;31mKeyboardInterrupt\u001b[0m: "
     ]
    }
   ],
   "source": [
    "pollard_Rho(1218958631449247)"
   ]
  },
  {
   "cell_type": "code",
   "execution_count": 97,
   "metadata": {},
   "outputs": [
    {
     "data": {
      "text/plain": [
       "[321736946409871]"
      ]
     },
     "execution_count": 97,
     "metadata": {},
     "output_type": "execute_result"
    }
   ],
   "source": [
    "primeFactors(321736946409871)"
   ]
  },
  {
   "cell_type": "code",
   "execution_count": 59,
   "metadata": {},
   "outputs": [],
   "source": [
    "from sympy.ntheory import factorint"
   ]
  },
  {
   "cell_type": "code",
   "execution_count": null,
   "metadata": {},
   "outputs": [],
   "source": [
    "factorint()"
   ]
  },
  {
   "cell_type": "code",
   "execution_count": null,
   "metadata": {},
   "outputs": [],
   "source": []
  },
  {
   "cell_type": "code",
   "execution_count": null,
   "metadata": {},
   "outputs": [],
   "source": []
  },
  {
   "cell_type": "code",
   "execution_count": null,
   "metadata": {},
   "outputs": [],
   "source": []
  },
  {
   "cell_type": "code",
   "execution_count": null,
   "metadata": {},
   "outputs": [],
   "source": []
  },
  {
   "cell_type": "code",
   "execution_count": 34,
   "metadata": {},
   "outputs": [],
   "source": [
    "from random import randint\n",
    "def pollard_rhob(n):\n",
    "    s = set()\n",
    "    i = 0\n",
    "    xi = randint(0, n-1)\n",
    "    y = xi\n",
    "    k = 2\n",
    "    while i < 2 * n:\n",
    "        i += 1\n",
    "        xi = ((xi^2) - 1)%n\n",
    "        d = gcd(y - xi, n)\n",
    "        if d != 1 and d != n:\n",
    "            s.add(d)\n",
    "        if i == k:\n",
    "            y = xi\n",
    "            k *= 2\n",
    "    return sorted(s)"
   ]
  },
  {
   "cell_type": "code",
   "execution_count": 35,
   "metadata": {
    "collapsed": true
   },
   "outputs": [
    {
     "name": "stderr",
     "output_type": "stream",
     "text": [
      "/Users/lastaw/anaconda3/lib/python3.7/site-packages/ipykernel_launcher.py:11: DeprecationWarning: fractions.gcd() is deprecated. Use math.gcd() instead.\n",
      "  # This is added back by InteractiveShellApp.init_path()\n"
     ]
    },
    {
     "ename": "KeyboardInterrupt",
     "evalue": "",
     "output_type": "error",
     "traceback": [
      "\u001b[0;31m---------------------------------------------------------------------------\u001b[0m",
      "\u001b[0;31mKeyboardInterrupt\u001b[0m                         Traceback (most recent call last)",
      "\u001b[0;32m<ipython-input-35-9a906edb6b12>\u001b[0m in \u001b[0;36m<module>\u001b[0;34m\u001b[0m\n\u001b[0;32m----> 1\u001b[0;31m \u001b[0mpollard_rhob\u001b[0m\u001b[0;34m(\u001b[0m\u001b[0;36m1218958631449247\u001b[0m\u001b[0;34m)\u001b[0m\u001b[0;34m\u001b[0m\u001b[0;34m\u001b[0m\u001b[0m\n\u001b[0m",
      "\u001b[0;32m<ipython-input-34-608022875630>\u001b[0m in \u001b[0;36mpollard_rhob\u001b[0;34m(n)\u001b[0m\n\u001b[1;32m      9\u001b[0m         \u001b[0mi\u001b[0m \u001b[0;34m+=\u001b[0m \u001b[0;36m1\u001b[0m\u001b[0;34m\u001b[0m\u001b[0;34m\u001b[0m\u001b[0m\n\u001b[1;32m     10\u001b[0m         \u001b[0mxi\u001b[0m \u001b[0;34m=\u001b[0m \u001b[0;34m(\u001b[0m\u001b[0;34m(\u001b[0m\u001b[0mxi\u001b[0m\u001b[0;34m^\u001b[0m\u001b[0;36m2\u001b[0m\u001b[0;34m)\u001b[0m \u001b[0;34m-\u001b[0m \u001b[0;36m1\u001b[0m\u001b[0;34m)\u001b[0m\u001b[0;34m%\u001b[0m\u001b[0mn\u001b[0m\u001b[0;34m\u001b[0m\u001b[0;34m\u001b[0m\u001b[0m\n\u001b[0;32m---> 11\u001b[0;31m         \u001b[0md\u001b[0m \u001b[0;34m=\u001b[0m \u001b[0mgcd\u001b[0m\u001b[0;34m(\u001b[0m\u001b[0my\u001b[0m \u001b[0;34m-\u001b[0m \u001b[0mxi\u001b[0m\u001b[0;34m,\u001b[0m \u001b[0mn\u001b[0m\u001b[0;34m)\u001b[0m\u001b[0;34m\u001b[0m\u001b[0;34m\u001b[0m\u001b[0m\n\u001b[0m\u001b[1;32m     12\u001b[0m         \u001b[0;32mif\u001b[0m \u001b[0md\u001b[0m \u001b[0;34m!=\u001b[0m \u001b[0;36m1\u001b[0m \u001b[0;32mand\u001b[0m \u001b[0md\u001b[0m \u001b[0;34m!=\u001b[0m \u001b[0mn\u001b[0m\u001b[0;34m:\u001b[0m\u001b[0;34m\u001b[0m\u001b[0;34m\u001b[0m\u001b[0m\n\u001b[1;32m     13\u001b[0m             \u001b[0ms\u001b[0m\u001b[0;34m.\u001b[0m\u001b[0madd\u001b[0m\u001b[0;34m(\u001b[0m\u001b[0md\u001b[0m\u001b[0;34m)\u001b[0m\u001b[0;34m\u001b[0m\u001b[0;34m\u001b[0m\u001b[0m\n",
      "\u001b[0;32m~/anaconda3/lib/python3.7/fractions.py\u001b[0m in \u001b[0;36mgcd\u001b[0;34m(a, b)\u001b[0m\n\u001b[1;32m     23\u001b[0m     \u001b[0;32mimport\u001b[0m \u001b[0mwarnings\u001b[0m\u001b[0;34m\u001b[0m\u001b[0;34m\u001b[0m\u001b[0m\n\u001b[1;32m     24\u001b[0m     warnings.warn('fractions.gcd() is deprecated. Use math.gcd() instead.',\n\u001b[0;32m---> 25\u001b[0;31m                   DeprecationWarning, 2)\n\u001b[0m\u001b[1;32m     26\u001b[0m     \u001b[0;32mif\u001b[0m \u001b[0mtype\u001b[0m\u001b[0;34m(\u001b[0m\u001b[0ma\u001b[0m\u001b[0;34m)\u001b[0m \u001b[0;32mis\u001b[0m \u001b[0mint\u001b[0m \u001b[0;32mis\u001b[0m \u001b[0mtype\u001b[0m\u001b[0;34m(\u001b[0m\u001b[0mb\u001b[0m\u001b[0;34m)\u001b[0m\u001b[0;34m:\u001b[0m\u001b[0;34m\u001b[0m\u001b[0;34m\u001b[0m\u001b[0m\n\u001b[1;32m     27\u001b[0m         \u001b[0;32mif\u001b[0m \u001b[0;34m(\u001b[0m\u001b[0mb\u001b[0m \u001b[0;32mor\u001b[0m \u001b[0ma\u001b[0m\u001b[0;34m)\u001b[0m \u001b[0;34m<\u001b[0m \u001b[0;36m0\u001b[0m\u001b[0;34m:\u001b[0m\u001b[0;34m\u001b[0m\u001b[0;34m\u001b[0m\u001b[0m\n",
      "\u001b[0;31mKeyboardInterrupt\u001b[0m: "
     ]
    }
   ],
   "source": [
    "pollard_rhob(1218958631449247)"
   ]
  },
  {
   "cell_type": "code",
   "execution_count": 129,
   "metadata": {},
   "outputs": [],
   "source": [
    "smallprimes = (2,) + tuple(n for n in xrange(3,1000,2) if n in smallprimeset)\n",
    "def primefactors(n, sort=False):\n",
    "    factors = []\n",
    "\n",
    "    limit = int(n ** .5) + 1\n",
    "    for checker in smallprimes:\n",
    "        print(smallprimes[-1])\n",
    "        if checker > limit: break\n",
    "        while n % checker == 0:\n",
    "            factors.append(checker)\n",
    "            n //= checker\n",
    "\n",
    "\n",
    "    if n < 2: return factors\n",
    "    else : \n",
    "        factors.extend(bigfactors(n,sort))\n",
    "        return factors\n",
    "\n",
    "def bigfactors(n, sort = False):\n",
    "    factors = []\n",
    "    while n > 1:\n",
    "        if isprime(n):\n",
    "            factors.append(n)\n",
    "            break\n",
    "        factor = pollard_brent(n) \n",
    "        factors.extend(bigfactors(factor,sort)) # recurse to factor the not necessarily prime factor returned by pollard-brent\n",
    "        n //= factor\n",
    "\n",
    "    if sort: factors.sort()    \n",
    "    return factors"
   ]
  },
  {
   "cell_type": "code",
   "execution_count": 146,
   "metadata": {},
   "outputs": [
    {
     "data": {
      "text/plain": [
       "[108268837, 282538499.0]"
      ]
     },
     "execution_count": 146,
     "metadata": {},
     "output_type": "execute_result"
    }
   ],
   "source": [
    "primeFactors(30590114694455663)"
   ]
  },
  {
   "cell_type": "code",
   "execution_count": 134,
   "metadata": {},
   "outputs": [
    {
     "data": {
      "text/plain": [
       "2"
      ]
     },
     "execution_count": 134,
     "metadata": {},
     "output_type": "execute_result"
    }
   ],
   "source": []
  },
  {
   "cell_type": "code",
   "execution_count": 135,
   "metadata": {},
   "outputs": [],
   "source": [
    "def primesbelow(N):\n",
    "    correction = N % 6 > 1\n",
    "    N = {0:N, 1:N-1, 2:N+4, 3:N+3, 4:N+2, 5:N+1}[N%6]\n",
    "    sieve = [True] * (N // 3)\n",
    "    sieve[0] = False\n",
    "    for i in range(int(N ** .5) // 3 + 1):\n",
    "        if sieve[i]:\n",
    "            k = (3 * i + 1) | 1\n",
    "            sieve[k*k // 3::2*k] = [False] * ((N//6 - (k*k)//6 - 1)//k + 1)\n",
    "            sieve[(k*k + 4*k - 2*k*(i%2)) // 3::2*k] = [False] * ((N // 6 - (k*k + 4*k - 2*k*(i%2))//6 - 1) // k + 1)\n",
    "    return [2, 3] + [(3 * i + 1) | 1 for i in range(1, N//3 - correction) if sieve[i]]\n",
    "\n",
    "smallprimeset = set(primesbelow(100000))\n",
    "_smallprimeset = 100000\n",
    "def isprime(n, precision=7):\n",
    "    if n < 1:\n",
    "        raise ValueError(\"n doit etre plus grand que 0\")\n",
    "    elif n <= 3:\n",
    "        return n >= 2\n",
    "    elif n % 2 == 0:\n",
    "        return False\n",
    "    elif n < _smallprimeset:\n",
    "        return n in smallprimeset\n",
    "\n",
    "\n",
    "    d = n - 1\n",
    "    s = 0\n",
    "    while d % 2 == 0:\n",
    "        d //= 2\n",
    "        s += 1\n",
    "\n",
    "    for repeat in range(precision):\n",
    "        a = 2\n",
    "        x = pow(a, d, n)\n",
    "\n",
    "        if x == 1 or x == n - 1: continue\n",
    "\n",
    "        for r in range(s - 1):\n",
    "            x = pow(x, 2, n)\n",
    "            if x == 1: return False\n",
    "            if x == n - 1: break\n",
    "        else: return False\n",
    "\n",
    "    return True\n",
    "\n",
    "def pollard_brent(n):\n",
    "    if n % 2 == 0: return 2\n",
    "    if n % 3 == 0: return 3\n",
    "\n",
    "    y, c, m = 1, 1, 1\n",
    "    g, r, q = 1, 1, 1\n",
    "    while g == 1:\n",
    "        x = y\n",
    "        for i in range(r):\n",
    "            y = (pow(y, 2, n) + c) % n\n",
    "\n",
    "        k = 0\n",
    "        while k < r and g==1:\n",
    "            ys = y\n",
    "            for i in range(min(m, r-k)):\n",
    "                y = (pow(y, 2, n) + c) % n\n",
    "                q = q * abs(x-y) % n\n",
    "            g = gcd(q, n)\n",
    "            k += m\n",
    "        r *= 2\n",
    "    if g == n:\n",
    "        while True:\n",
    "            ys = (pow(ys, 2, n) + c) % n\n",
    "            g = gcd(abs(x - ys), n)\n",
    "            if g > 1:\n",
    "                break\n",
    "\n",
    "    return g\n",
    "\n",
    "smallprimes = primesbelow(1000) \n",
    "def primefactors(n, sort=False):\n",
    "    factors = []\n",
    "\n",
    "    for checker in smallprimes:\n",
    "        while n % checker == 0:\n",
    "            factors.append(checker)\n",
    "            n //= checker\n",
    "        if checker > n: break\n",
    "\n",
    "    if n < 2: return factors\n",
    "\n",
    "    while n > 1:\n",
    "        if isprime(n):\n",
    "            factors.append(n)\n",
    "            break\n",
    "        factor = pollard_brent(n) \n",
    "        factors.extend(primefactors(factor))\n",
    "        n //= factor\n",
    "\n",
    "    if sort: factors.sort()\n",
    "\n",
    "    return factors\n",
    "\n",
    "def factorization(n):\n",
    "    factors = {}\n",
    "    for p1 in primefactors(n):\n",
    "        try:\n",
    "            factors[p1] += 1\n",
    "        except KeyError:\n",
    "            factors[p1] = 1\n",
    "    return factors\n",
    "\n",
    "totients = {}\n",
    "def totient(n):\n",
    "    if n == 0: return 1\n",
    "\n",
    "    try: return totients[n]\n",
    "    except KeyError: pass\n",
    "\n",
    "    tot = 1\n",
    "    for p, exp in factorization(n).items():\n",
    "        tot *= (p - 1)  *  p ** (exp - 1)\n",
    "\n",
    "    totients[n] = tot\n",
    "    return tot\n",
    "\n",
    "def gcd(a, b):\n",
    "    if a == b: return a\n",
    "    while b > 0: a, b = b, a % b\n",
    "    return a\n",
    "\n",
    "def lcm(a, b):\n",
    "    return abs((a // gcd(a, b)) * b)"
   ]
  },
  {
   "cell_type": "code",
   "execution_count": 141,
   "metadata": {},
   "outputs": [
    {
     "data": {
      "text/plain": [
       "{7: 1, 11040151: 1, 103962857: 1}"
      ]
     },
     "execution_count": 141,
     "metadata": {},
     "output_type": "execute_result"
    }
   ],
   "source": [
    "factorization(8034359477699849)"
   ]
  },
  {
   "cell_type": "code",
   "execution_count": null,
   "metadata": {},
   "outputs": [],
   "source": []
  }
 ],
 "metadata": {
  "kernelspec": {
   "display_name": "Python 3",
   "language": "python",
   "name": "python3"
  },
  "language_info": {
   "codemirror_mode": {
    "name": "ipython",
    "version": 3
   },
   "file_extension": ".py",
   "mimetype": "text/x-python",
   "name": "python",
   "nbconvert_exporter": "python",
   "pygments_lexer": "ipython3",
   "version": "3.7.3"
  }
 },
 "nbformat": 4,
 "nbformat_minor": 2
}
