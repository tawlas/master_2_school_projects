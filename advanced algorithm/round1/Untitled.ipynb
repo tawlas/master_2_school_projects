{
 "cells": [
  {
   "cell_type": "code",
   "execution_count": 59,
   "metadata": {},
   "outputs": [],
   "source": [
    "import sys, os, time\n",
    "import networkx as nx\n",
    "import matplotlib.pyplot as plt"
   ]
  },
  {
   "cell_type": "code",
   "execution_count": 2,
   "metadata": {},
   "outputs": [],
   "source": [
    "from networkx.utils import arbitrary_element"
   ]
  },
  {
   "cell_type": "code",
   "execution_count": 3,
   "metadata": {},
   "outputs": [],
   "source": [
    "??arbitrary_element"
   ]
  },
  {
   "cell_type": "code",
   "execution_count": 6,
   "metadata": {},
   "outputs": [
    {
     "data": {
      "text/plain": [
       "45"
      ]
     },
     "execution_count": 6,
     "metadata": {},
     "output_type": "execute_result"
    }
   ],
   "source": [
    "input_dir = \"/Users/lastaw/Documents/3A/algo/comp/public_dataset\"\n",
    "graphs = [ nx.read_adjlist(os.path.join(input_dir, g)) for g in sorted(os.listdir(input_dir))]\n",
    "len(graphs)"
   ]
  },
  {
   "cell_type": "code",
   "execution_count": null,
   "metadata": {},
   "outputs": [],
   "source": []
  },
  {
   "cell_type": "code",
   "execution_count": 7,
   "metadata": {},
   "outputs": [
    {
     "data": {
      "text/plain": [
       "NodeView(('0', '4', '5', '6', '7', '8', '1', '2', '9', '3'))"
      ]
     },
     "execution_count": 7,
     "metadata": {},
     "output_type": "execute_result"
    }
   ],
   "source": [
    "g = graphs[0]\n",
    "g.nodes"
   ]
  },
  {
   "cell_type": "code",
   "execution_count": 11,
   "metadata": {},
   "outputs": [
    {
     "data": {
      "text/plain": [
       "AtlasView({'4': {}, '5': {}, '6': {}, '7': {}, '8': {}})"
      ]
     },
     "execution_count": 11,
     "metadata": {},
     "output_type": "execute_result"
    }
   ],
   "source": [
    "def sample_max_neighbors_node(s):\n",
    "    if len(s) <=0 return \n",
    "    node = None;\n",
    "    m = 0\n",
    "    for n in s:\n",
    "        if len(g[n]) > m:\n",
    "            node = n\n",
    "            m = len(g[n])"
   ]
  },
  {
   "cell_type": "code",
   "execution_count": 16,
   "metadata": {},
   "outputs": [
    {
     "data": {
      "text/plain": [
       "{'0', '1', '2', '3', '4', '5', '6', '7', '8', '9'}"
      ]
     },
     "execution_count": 16,
     "metadata": {},
     "output_type": "execute_result"
    }
   ],
   "source": [
    "set(g)"
   ]
  },
  {
   "cell_type": "code",
   "execution_count": 27,
   "metadata": {},
   "outputs": [
    {
     "data": {
      "text/plain": [
       "'0'"
      ]
     },
     "execution_count": 27,
     "metadata": {},
     "output_type": "execute_result"
    }
   ],
   "source": [
    "next(iter(g))"
   ]
  },
  {
   "cell_type": "code",
   "execution_count": 16,
   "metadata": {},
   "outputs": [],
   "source": [
    "def sample_max_neighbors_node(s):\n",
    "    if len(s) <=0:\n",
    "        return \n",
    "    node = None;\n",
    "    m = 0\n",
    "    for n in s:\n",
    "        if len(g[n]) > m:\n",
    "            node = n\n",
    "            m = len(g[n])\n",
    "    return node"
   ]
  },
  {
   "cell_type": "code",
   "execution_count": null,
   "metadata": {},
   "outputs": [],
   "source": []
  },
  {
   "cell_type": "code",
   "execution_count": 3,
   "metadata": {},
   "outputs": [],
   "source": [
    "def arbitrary_element(iterable):\n",
    "    return next(iter(iterable))"
   ]
  },
  {
   "cell_type": "code",
   "execution_count": 17,
   "metadata": {},
   "outputs": [],
   "source": [
    "# v3\n",
    "def dominant(g, start_with=None):\n",
    "    all_nodes = set(g)\n",
    "    if start_with is None:\n",
    "        start_with = sample_max_neighbors_node(all_nodes)\n",
    "    dominating_set = {start_with}\n",
    "    dominated_nodes = set(g[start_with])\n",
    "    remaining_nodes = all_nodes - dominated_nodes - dominating_set\n",
    "    while remaining_nodes:\n",
    "        v = sample_max_neighbors_node(remaining_nodes)\n",
    "        undominated_neighbors = set(g[v]) - dominating_set\n",
    "        dominating_set.add(v)\n",
    "        dominated_nodes |= undominated_neighbors\n",
    "        remaining_nodes -= undominated_neighbors\n",
    "    return dominating_set"
   ]
  },
  {
   "cell_type": "code",
   "execution_count": null,
   "metadata": {},
   "outputs": [],
   "source": [
    "    "
   ]
  },
  {
   "cell_type": "code",
   "execution_count": 33,
   "metadata": {},
   "outputs": [],
   "source": [
    "import sys, os, time\n",
    "import networkx as nx\n",
    "\n",
    "def dominant(g):\n",
    "    \"\"\"\n",
    "        A Faire:         \n",
    "        - Ecrire une fonction qui retourne le dominant du graphe non dirigé g passé en parametre.\n",
    "        - cette fonction doit retourner la liste des noeuds d'un petit dominant de g\n",
    "\n",
    "        :param g: le graphe est donné dans le format networkx : https://networkx.github.io/documentation/stable/reference/classes/graph.html\n",
    "\n",
    "    \"\"\"\n",
    "    noeuds = set(g)\n",
    "#     noeud_initial = next(iter(g))\n",
    "    dominant = set()\n",
    "#     dominated_nod = set(g[noeud_initial])\n",
    "    noeuds_restant = noeuds #- dominated_nodes - dominating_set\n",
    "    while noeuds_restant:\n",
    "        # Choose an arbitrary node and determine its undominated neighbors.\n",
    "        v = noeuds_restant.pop()\n",
    "        voisins_nondomines = set(g[v]) - dominant\n",
    "        dominant.add(v)\n",
    "#         dominated_nodes |= undominated_neighbors\n",
    "        noeuds_restant -= voisins_nondomines\n",
    "    new_g = nx.Graph()\n",
    "    for n in dominant:\n",
    "        new_g.add_node(n)\n",
    "    return new_g.nodes \n"
   ]
  },
  {
   "cell_type": "code",
   "execution_count": null,
   "metadata": {},
   "outputs": [],
   "source": [
    "def dominant(g, start_with=None):\n",
    "    all_nodes = set(g)\n",
    "    if start_with is None:\n",
    "        start_with = arbitrary_element(all_nodes)\n",
    "    \n",
    "    dominating_set = set()\n",
    "    dominated_nodes = set(g[start_with])\n",
    "    remaining_nodes = all_nodes - dominated_nodes - dominating_set\n",
    "    while remaining_nodes:\n",
    "        v = remaining_nodes.pop()\n",
    "        undominated_neighbors = set(g[v]) - dominating_set\n",
    "        dominating_set.add(v)\n",
    "        dominated_nodes |= undominated_neighbors\n",
    "        remaining_nodes -= undominated_neighbors\n",
    "    return dominating_set"
   ]
  },
  {
   "cell_type": "code",
   "execution_count": null,
   "metadata": {},
   "outputs": [],
   "source": [
    "\n",
    "def min_dominant(g):\n",
    "    "
   ]
  },
  {
   "cell_type": "code",
   "execution_count": null,
   "metadata": {},
   "outputs": [],
   "source": []
  },
  {
   "cell_type": "code",
   "execution_count": null,
   "metadata": {},
   "outputs": [],
   "source": []
  },
  {
   "cell_type": "code",
   "execution_count": null,
   "metadata": {},
   "outputs": [],
   "source": []
  },
  {
   "cell_type": "code",
   "execution_count": null,
   "metadata": {},
   "outputs": [],
   "source": []
  },
  {
   "cell_type": "code",
   "execution_count": 34,
   "metadata": {},
   "outputs": [],
   "source": [
    "d = [dominant(g) for g in graphs]"
   ]
  },
  {
   "cell_type": "code",
   "execution_count": 36,
   "metadata": {},
   "outputs": [
    {
     "data": {
      "text/plain": [
       "45"
      ]
     },
     "execution_count": 36,
     "metadata": {},
     "output_type": "execute_result"
    }
   ],
   "source": [
    "len(d)"
   ]
  },
  {
   "cell_type": "code",
   "execution_count": 37,
   "metadata": {},
   "outputs": [],
   "source": [
    "nd = [nx.dominating_set(g) for g in graphs]"
   ]
  },
  {
   "cell_type": "code",
   "execution_count": 43,
   "metadata": {},
   "outputs": [
    {
     "data": {
      "text/plain": [
       "{'2', '4'}"
      ]
     },
     "execution_count": 43,
     "metadata": {},
     "output_type": "execute_result"
    }
   ],
   "source": [
    "nd[0]"
   ]
  },
  {
   "cell_type": "code",
   "execution_count": 44,
   "metadata": {},
   "outputs": [
    {
     "data": {
      "text/plain": [
       "True"
      ]
     },
     "execution_count": 44,
     "metadata": {},
     "output_type": "execute_result"
    }
   ],
   "source": [
    "set(d[0]) == nd[0]"
   ]
  },
  {
   "cell_type": "code",
   "execution_count": 46,
   "metadata": {},
   "outputs": [
    {
     "data": {
      "text/plain": [
       "20"
      ]
     },
     "execution_count": 46,
     "metadata": {},
     "output_type": "execute_result"
    }
   ],
   "source": [
    "c = 0\n",
    "for k in range(len(graphs)):\n",
    "    c = c + 1 if set(d[k]) == nd[k] else c + 0\n",
    "c"
   ]
  },
  {
   "cell_type": "code",
   "execution_count": null,
   "metadata": {},
   "outputs": [],
   "source": [
    "if set(d[k]) == nd[k]:\n",
    "    c += 1\n",
    "    "
   ]
  },
  {
   "cell_type": "code",
   "execution_count": 21,
   "metadata": {},
   "outputs": [],
   "source": [
    "from tqdm import tqdm"
   ]
  },
  {
   "cell_type": "code",
   "execution_count": 75,
   "metadata": {},
   "outputs": [],
   "source": [
    "def dominant1(g):\n",
    "    \"\"\"\n",
    "        A Faire:         \n",
    "        - Ecrire une fonction qui retourne le dominant du graphe non dirigé g passé en parametre.\n",
    "        - cette fonction doit retourner la liste des noeuds d'un petit dominant de g\n",
    "\n",
    "        :param g: le graphe est donné dans le format networkx : https://networkx.github.io/documentation/stable/reference/classes/graph.html\n",
    "\n",
    "    \"\"\"\n",
    "    noeuds = set(g)\n",
    "    dominant = set()\n",
    "    noeuds_restant = noeuds \n",
    "    while noeuds_restant:\n",
    "        # Choose an arbitrary node and determine its undominated neighbors.\n",
    "        v = noeuds_restant.pop()\n",
    "        voisins_nondomines = set(g[v]) - dominant\n",
    "        dominant.add(v)\n",
    "        noeuds_restant -= voisins_nondomines\n",
    "    new_g = nx.Graph()\n",
    "    for n in dominant:\n",
    "        new_g.add_node(n)\n",
    "    return new_g.nodes "
   ]
  },
  {
   "cell_type": "code",
   "execution_count": null,
   "metadata": {},
   "outputs": [],
   "source": []
  },
  {
   "cell_type": "code",
   "execution_count": null,
   "metadata": {},
   "outputs": [],
   "source": []
  },
  {
   "cell_type": "code",
   "execution_count": null,
   "metadata": {},
   "outputs": [],
   "source": []
  },
  {
   "cell_type": "code",
   "execution_count": 57,
   "metadata": {},
   "outputs": [],
   "source": [
    "# v2\n",
    "def dominant(g):\n",
    "    \"\"\"\n",
    "        A Faire:         \n",
    "        - Ecrire une fonction qui retourne le dominant du graphe non dirigé g passé en parametre.\n",
    "        - cette fonction doit retourner la liste des noeuds d'un petit dominant de g\n",
    "\n",
    "        :param g: le graphe est donné dans le format networkx : https://networkx.github.io/documentation/stable/reference/classes/graph.html\n",
    "\n",
    "    \"\"\"\n",
    "    def sample_max_neighbors_node(s):\n",
    "        \n",
    "        node = None\n",
    "        m = 0\n",
    "        for n in s:\n",
    "            if len(g[n]) > m:\n",
    "                node = n\n",
    "                m = len(g[n])\n",
    "        return node\n",
    "    \n",
    "#     it = 1\n",
    "#     print(it)\n",
    "    all_nodes = set(g)\n",
    "    start_with = sample_max_neighbors_node(all_nodes)\n",
    "    dominating_set = {start_with}\n",
    "    dominated_nodes = set(g[start_with])\n",
    "    remaining_nodes = all_nodes - dominated_nodes - dominating_set\n",
    "    \n",
    "    while remaining_nodes:\n",
    "#         print(len(remaining_nodes))\n",
    "        v = sample_max_neighbors_node(remaining_nodes)\n",
    "        remaining_nodes.remove(v)\n",
    "        undominated_neighbors = set(g[v]) - dominating_set\n",
    "        dominating_set.add(v)\n",
    "        dominated_nodes |= undominated_neighbors\n",
    "        remaining_nodes -= undominated_neighbors\n",
    "    \n",
    "    new_g = nx.Graph()\n",
    "    for n in dominating_set:\n",
    "        new_g.add_node(n)\n",
    "    return new_g.nodes \n"
   ]
  },
  {
   "cell_type": "code",
   "execution_count": 55,
   "metadata": {},
   "outputs": [
    {
     "name": "stdout",
     "output_type": "stream",
     "text": [
      "3\n"
     ]
    },
    {
     "data": {
      "text/plain": [
       "NodeView(('1', '4'))"
      ]
     },
     "execution_count": 55,
     "metadata": {},
     "output_type": "execute_result"
    }
   ],
   "source": [
    "dominant(graphs[0])"
   ]
  },
  {
   "cell_type": "code",
   "execution_count": 95,
   "metadata": {},
   "outputs": [],
   "source": [
    "d = [dominant(g) for g in graphs]\n",
    "lend = [len(k) for k in d]"
   ]
  },
  {
   "cell_type": "code",
   "execution_count": 72,
   "metadata": {},
   "outputs": [],
   "source": [
    "nxd = [nx.dominating_set(g) for g in graphs]\n",
    "lennxd = [len(k) for k in nxd]"
   ]
  },
  {
   "cell_type": "code",
   "execution_count": 76,
   "metadata": {},
   "outputs": [],
   "source": [
    "d1 = dominant1\n",
    "d1 = [dominant1(g) for g in graphs]\n",
    "lend1 = [len(k) for k in d1]"
   ]
  },
  {
   "cell_type": "code",
   "execution_count": 67,
   "metadata": {},
   "outputs": [],
   "source": [
    "%matplotlib inline"
   ]
  },
  {
   "cell_type": "code",
   "execution_count": 96,
   "metadata": {},
   "outputs": [
    {
     "name": "stdout",
     "output_type": "stream",
     "text": [
      "score: 32.43\n"
     ]
    },
    {
     "data": {
      "image/png": "[encoded data removed]",
      "text/plain": [
       "<Figure size 432x288 with 1 Axes>"
      ]
     },
     "metadata": {
      "needs_background": "light"
     },
     "output_type": "display_data"
    }
   ],
   "source": [
    "print(f\"score: {score(lend)}\")\n",
    "plt.hist(lend, bins=45)\n",
    "plt.show()"
   ]
  },
  {
   "cell_type": "code",
   "execution_count": 91,
   "metadata": {},
   "outputs": [
    {
     "name": "stdout",
     "output_type": "stream",
     "text": [
      "score: 28.480000000000004\n"
     ]
    },
    {
     "data": {
      "image/png": "[encoded data removed]",
      "text/plain": [
       "<Figure size 432x288 with 1 Axes>"
      ]
     },
     "metadata": {
      "needs_background": "light"
     },
     "output_type": "display_data"
    }
   ],
   "source": [
    "print(f\"score: {score(lend1)}\")\n",
    "plt.hist(lend1, bins=45)\n",
    "plt.show()"
   ]
  },
  {
   "cell_type": "code",
   "execution_count": 94,
   "metadata": {},
   "outputs": [
    {
     "name": "stdout",
     "output_type": "stream",
     "text": [
      "score: 28.389999999999993\n"
     ]
    },
    {
     "data": {
      "image/png": "[encoded data removed]",
      "text/plain": [
       "<Figure size 432x288 with 1 Axes>"
      ]
     },
     "metadata": {
      "needs_background": "light"
     },
     "output_type": "display_data"
    }
   ],
   "source": [
    "print(f\"score: {score(lennxd)}\")\n",
    "plt.hist(lennxd, bins=45)\n",
    "plt.show()"
   ]
  },
  {
   "cell_type": "code",
   "execution_count": 87,
   "metadata": {},
   "outputs": [],
   "source": [
    "def score(l):\n",
    "    c = 0\n",
    "    for k in range(len(graphs)):\n",
    "        c = c + 1 - l[k]/len(graphs[k])\n",
    "    return c"
   ]
  },
  {
   "cell_type": "code",
   "execution_count": null,
   "metadata": {},
   "outputs": [],
   "source": []
  }
 ],
 "metadata": {
  "kernelspec": {
   "display_name": "Python 3",
   "language": "python",
   "name": "python3"
  },
  "language_info": {
   "codemirror_mode": {
    "name": "ipython",
    "version": 3
   },
   "file_extension": ".py",
   "mimetype": "text/x-python",
   "name": "python",
   "nbconvert_exporter": "python",
   "pygments_lexer": "ipython3",
   "version": "3.7.3"
  }
 },
 "nbformat": 4,
 "nbformat_minor": 4
}
