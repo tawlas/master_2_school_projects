{
 "cells": [
  {
   "cell_type": "markdown",
   "metadata": {
    "colab_type": "text",
    "id": "bEE_gYjKYz4E"
   },
   "source": [
    "<center><img src='https://netacad.centralesupelec.fr/img/cs.jpg' width=200></center>\n",
    "\n",
    "<h6><center>Introduction to Machine Learning</center></h6>\n",
    "\n",
    "<h1>\n",
    "<hr style=\" border:none; height:3px;\">\n",
    "<center>Tutorial 1: Data preprocessing (synthetic data)</center>\n",
    "<hr style=\" border:none; height:3px;\">\n",
    "</h1>\n",
    "\n",
    "__Teachers__: Myriam Tami, Gianluca Quercini, Yassine Ouali"
   ]
  },
  {
   "cell_type": "markdown",
   "metadata": {
    "colab_type": "text",
    "id": "KK8aROd2Yz4F"
   },
   "source": [
    "# Introduction"
   ]
  },
  {
   "cell_type": "markdown",
   "metadata": {
    "colab_type": "text",
    "id": "FJg28HFZYz4F"
   },
   "source": [
    "In this tutorial we're going to experiment with synthetic data and learn basic data preprocessing operations with *Scikit-learn*.\n",
    "\n",
    "<div class=\"alert alert-block alert-info\">\n",
    "\n",
    "For the most part, the Python code is already written for you. You're invited to **read the code and the comments** to learn how to practice machine learning with *Scikit-learn*. Your instructor will also explain the code.\n",
    "\n",
    "</div>\n",
    "\n"
   ]
  },
  {
   "cell_type": "markdown",
   "metadata": {
    "colab_type": "text",
    "id": "ERyWHr9CYz4G"
   },
   "source": [
    "# Setup"
   ]
  },
  {
   "cell_type": "markdown",
   "metadata": {
    "colab_type": "text",
    "id": "lrwD7yroYz4G"
   },
   "source": [
    "We import the modules that are commonly used in combination with Scikit-learn.\n",
    "\n",
    "<div class=\"alert alert-block alert-warning\">\n",
    "In order to run this notebook, you'll need to install <b>Python 3.5 or later</b>, as well as <b>Scikit-learn 0.20 or later</b>.\n",
    "</div>"
   ]
  },
  {
   "cell_type": "code",
   "execution_count": null,
   "metadata": {
    "colab": {},
    "colab_type": "code",
    "id": "y81is6AIYz4H"
   },
   "outputs": [],
   "source": [
    "# Python ≥3.5 is required\n",
    "import sys\n",
    "assert sys.version_info >= (3, 5)\n",
    "\n",
    "# Scikit-Learn ≥0.20 is required\n",
    "import sklearn\n",
    "assert sklearn.__version__ >= \"0.20\"\n",
    "\n",
    "# Numpy arrays are used to store training and test data.\n",
    "import numpy as np\n",
    "\n",
    "# Pandas is used to manipulate tabular data.\n",
    "import pandas as pd\n",
    "\n",
    "# Matplotlib is used to plot graphs.\n",
    "%matplotlib inline \n",
    "import matplotlib as mpl\n",
    "import matplotlib.pyplot as plt\n",
    "# Style options for plots.\n",
    "mpl.rc('axes', labelsize=14)\n",
    "mpl.rc('xtick', labelsize=12)\n",
    "mpl.rc('ytick', labelsize=12)\n",
    "\n",
    "# Ignore useless warnings (see SciPy issue #5998).\n",
    "import warnings\n",
    "warnings.filterwarnings(action=\"ignore\", message=\"^internal gelsd\")\n",
    "\n",
    "# Convenience function to create display a progress bar.\n",
    "# Source : https://stackoverflow.com/questions/3173320/text-progress-bar-in-the-console\n",
    "def print_progress_bar (iteration, total, prefix = '', suffix = '', decimals = 1, length = 100, fill = '█', printEnd = \"\\r\"):\n",
    "    \"\"\"\n",
    "    Call in a loop to create terminal progress bar\n",
    "    @params:\n",
    "        iteration   - Required  : current iteration (Int)\n",
    "        total       - Required  : total iterations (Int)\n",
    "        prefix      - Optional  : prefix string (Str)\n",
    "        suffix      - Optional  : suffix string (Str)\n",
    "        decimals    - Optional  : positive number of decimals in percent complete (Int)\n",
    "        length      - Optional  : character length of bar (Int)\n",
    "        fill        - Optional  : bar fill character (Str)\n",
    "        printEnd    - Optional  : end character (e.g. \"\\r\", \"\\r\\n\") (Str)\n",
    "    \"\"\"\n",
    "    percent = (\"{0:.\" + str(decimals) + \"f}\").format(100 * (iteration / float(total)))\n",
    "    filledLength = int(length * iteration // total)\n",
    "    bar = fill * filledLength + '-' * (length - filledLength)\n",
    "    print(f'\\r{prefix} |{bar}| {percent}% {suffix}', end = printEnd)\n",
    "    # Print New Line on Complete\n",
    "    if iteration == total: \n",
    "        print()\n",
    " \n",
    "# Saves a figure to a file\n",
    "def save_fig(fig_id, tight_layout=True, fig_extension=\"png\", resolution=300):\n",
    "    path = os.path.join(\"./figs\", fig_id + \".\" + fig_extension)\n",
    "    print(\"Saving figure\", fig_id)\n",
    "    if tight_layout:\n",
    "        plt.tight_layout()\n",
    "    plt.savefig(path, format=fig_extension, dpi=resolution)"
   ]
  },
  {
   "cell_type": "markdown",
   "metadata": {
    "colab_type": "text",
    "id": "CSPaa5foYz4K"
   },
   "source": [
    "# Experimenting with synthetic data"
   ]
  },
  {
   "cell_type": "markdown",
   "metadata": {
    "colab_type": "text",
    "id": "wKIHCWhcYz4K"
   },
   "source": [
    "Scikit-learn provides the function [*sklearn.datasets.make_regression()*](https://scikit-learn.org/stable/modules/generated/sklearn.datasets.make_regression.html) to generate synthetic data for regression problems.\n",
    "\n",
    "In the following cell we generate a dataset with **1000 instances** and **1 feature**. The function returns:\n",
    "\n",
    "* a (1000 $\\times$ 1) matrix $X$, with the values of the feature (**independent variable**) for the 1000 instances.\n",
    "\n",
    "* a (1000 $\\times$ 1) vector $y$, with the values of the **dependent variable** (or, **target variable**), the one to predict.\n",
    "\n",
    "<div class=\"alert alert-block alert-info\">\n",
    "The value of the parameter <i>random_state</i> is a random number generator seed. When its value is <i>None</i>, each time we run the cell we obtain a different dataset, otherwise we always obtain the same dataset.\n",
    "</div>\n",
    "\n",
    "<div class=\"alert alert-block alert-info\">\n",
    "The matrix $X$ and the vector $y$ are represented as <b>Numpy arrays</b>.\n",
    "</div>"
   ]
  },
  {
   "cell_type": "code",
   "execution_count": null,
   "metadata": {
    "colab": {},
    "colab_type": "code",
    "id": "xiivkyEgYz4L",
    "outputId": "946a03bb-1bf9-41f3-8251-a569a8af03d1"
   },
   "outputs": [
    {
     "data": {
      "text/plain": [
       "Text(0.5, 1.0, 'Generated dataset')"
      ]
     },
     "execution_count": 2,
     "metadata": {
      "tags": []
     },
     "output_type": "execute_result"
    },
    {
     "data": {
      "image/png": "[encoded data removed]",
      "text/plain": [
       "<Figure size 432x288 with 1 Axes>"
      ]
     },
     "metadata": {
      "needs_background": "light",
      "tags": []
     },
     "output_type": "display_data"
    }
   ],
   "source": [
    "from sklearn.datasets import make_regression\n",
    "\n",
    "X, y = make_regression(\n",
    "    n_samples=1000, #number of instances.\n",
    "    n_features=1,   #number of features.\n",
    "    random_state=0  #generate the same dataset at each run.\n",
    ")\n",
    "\n",
    "# Plot the dataset with Matplotlib\n",
    "plt.plot(X, y,'.',label='Dataset')\n",
    "plt.xlabel('Independent variable')\n",
    "plt.ylabel('Dependent variable')\n",
    "plt.title('Generated dataset')"
   ]
  },
  {
   "cell_type": "markdown",
   "metadata": {
    "colab_type": "text",
    "id": "RmnwBkO-Yz4O"
   },
   "source": [
    "The instances form a perfect line, which doesn't make the linear regression problem very interesting. We can add some **noise** to the dataset with the *noise* parameter, as in the following cell.\n",
    "\n",
    "<div class=\"alert alert-block alert-info\">\n",
    "The value of the parameter <i>noise</i> is the <b>standard deviation</b> of the Gaussian noise added to the instances (the <b>mean</b> being 0).\n",
    "</div>"
   ]
  },
  {
   "cell_type": "code",
   "execution_count": null,
   "metadata": {
    "colab": {},
    "colab_type": "code",
    "id": "FZxi10OtYz4O",
    "outputId": "6619d076-dbbb-4667-beb0-78368f5ca6e6",
    "scrolled": true
   },
   "outputs": [
    {
     "data": {
      "text/plain": [
       "Text(0.5, 1.0, 'Generated dataset')"
      ]
     },
     "execution_count": 3,
     "metadata": {
      "tags": []
     },
     "output_type": "execute_result"
    },
    {
     "data": {
      "image/png": "[encoded data removed]",
      "text/plain": [
       "<Figure size 432x288 with 1 Axes>"
      ]
     },
     "metadata": {
      "needs_background": "light",
      "tags": []
     },
     "output_type": "display_data"
    }
   ],
   "source": [
    "X, y = make_regression(\n",
    "    n_samples=1000, #number of instances.\n",
    "    n_features=1,   #number of features.\n",
    "    noise = 10,     #standard deviation of the gaussian noise applied to the output.\n",
    "    random_state=0  #generate the same dataset at each run.\n",
    ")\n",
    "\n",
    "# Plot the dataset with Matplotlib\n",
    "plt.plot(X, y,'.',label='Dataset')\n",
    "plt.xlabel('Independent variable');\n",
    "plt.ylabel('Dependent variable')\n",
    "plt.title('Generated dataset')"
   ]
  },
  {
   "cell_type": "markdown",
   "metadata": {
    "colab_type": "text",
    "id": "m0Q_FjvNYz4Q"
   },
   "source": [
    "In order to train a linear regressor on the generated dataset, we need to split the dataset into a **training set** and a **test set**. \n",
    "Scikit-learn provides the function [*sklearn.model_selection.train_test_split*](https://scikit-learn.org/stable/modules/generated/sklearn.model_selection.train_test_split.html) that takes in the following parameters:\n",
    "\n",
    "* The matrix $X$ with the independent variables.\n",
    "* The vector $y$ with the dependent variable.\n",
    "* The size of the test set (percentage of the size of the complete dataset).\n",
    "* A random number generator seed (if we don't specify any, each time we run the cell we get different training/test sets).\n",
    "\n",
    "The function returns:\n",
    "\n",
    "* The matrix $X_{train}$ with the **independent variables** of the **training instances**.\n",
    "* The matrix $X_{test}$ with the **independent variables** of the **test instances**.\n",
    "* The vector $y_{train}$ with the **dependent variable** of the **training instances**.\n",
    "* The vector $y_{test}$ with the **dependent variable** of the **test instances**.\n",
    "\n",
    "<div class=\"alert alert-block alert-info\">\n",
    "As per convention, we keep 80% of the instances for training and sample out 20% of instances for testing.\n",
    "</div>"
   ]
  },
  {
   "cell_type": "code",
   "execution_count": null,
   "metadata": {
    "colab": {},
    "colab_type": "code",
    "id": "dIW-Mn8EYz4R"
   },
   "outputs": [],
   "source": [
    "from sklearn.model_selection import train_test_split\n",
    "\n",
    "X_train, X_test, y_train, y_test = train_test_split(X, y, test_size=0.2, random_state=42)"
   ]
  },
  {
   "cell_type": "markdown",
   "metadata": {
    "colab_type": "text",
    "id": "K6FGTC9LYz4T"
   },
   "source": [
    "Scikit-learn provides the function [*sklearn.linear_model.SGDRegressor*](https://scikit-learn.org/stable/modules/generated/sklearn.linear_model.SGDRegressor.html) to solve a linear regression problem by using the **gradient descent** algorithm.\n",
    "\n",
    "<div class=\"alert alert-block alert-info\">\n",
    "The plot that you obtain after running the following cell shows the model (in red) that the linear regressor learns from the training data. In this case, the model is a straight line.\n",
    "</div>\n"
   ]
  },
  {
   "cell_type": "code",
   "execution_count": null,
   "metadata": {
    "colab": {},
    "colab_type": "code",
    "id": "EdTM9iCmYz4T",
    "outputId": "0e8ff9ba-4a88-4322-f876-be4e38540af7"
   },
   "outputs": [
    {
     "data": {
      "text/plain": [
       "<matplotlib.legend.Legend at 0x1a24bbbf10>"
      ]
     },
     "execution_count": 5,
     "metadata": {
      "tags": []
     },
     "output_type": "execute_result"
    },
    {
     "data": {
      "image/png": "[encoded data removed]",
      "text/plain": [
       "<Figure size 432x288 with 1 Axes>"
      ]
     },
     "metadata": {
      "needs_background": "light",
      "tags": []
     },
     "output_type": "display_data"
    }
   ],
   "source": [
    "from sklearn.linear_model import SGDRegressor\n",
    "\n",
    "# We create an instance of the linear regressor.\n",
    "lin_reg = SGDRegressor()\n",
    "\n",
    "# The function fit is used to train the linear regressor on the training data.\n",
    "# The result is a line with a given intercept and slope.\n",
    "lin_reg.fit(X_train, y_train)\n",
    "\n",
    "# The intercept and the slope of the line learned on the training set.\n",
    "intercept = lin_reg.intercept_[0]\n",
    "slope = lin_reg.coef_[0]\n",
    "\n",
    "# Plot the instances of the training set.\n",
    "plt.plot(X_train, y_train,'.', label='Training instances')\n",
    "\n",
    "# We plot the line learned from the training set.\n",
    "axes = plt.gca()\n",
    "x_vals = np.array(axes.get_xlim())\n",
    "y_vals = intercept + slope * x_vals\n",
    "plt.plot(x_vals, y_vals, '-r', label=\"Learned model\")\n",
    "\n",
    "# We write a title and the labels on the axes.\n",
    "plt.xlabel('Independent variable');\n",
    "plt.ylabel('Dependent variable')\n",
    "plt.title('Training set')\n",
    "plt.legend()"
   ]
  },
  {
   "cell_type": "markdown",
   "metadata": {
    "colab_type": "text",
    "id": "vjrRfB1rYz4W"
   },
   "source": [
    "We can use the learned model to make predictions on the test instances. Since we know the true target values of the test instances, we can also measure the **prediction error**.\n",
    "\n",
    "<div class=\"alert alert-block alert-info\">\n",
    "\n",
    "The prediction error is measured with the <b>root mean square error (RMSE)</b>\n",
    "\n",
    "</div>"
   ]
  },
  {
   "cell_type": "code",
   "execution_count": null,
   "metadata": {
    "colab": {},
    "colab_type": "code",
    "id": "hIPaWbNqYz4X",
    "outputId": "a412f139-a038-4c83-dfe1-5b78aa49cace"
   },
   "outputs": [
    {
     "name": "stdout",
     "output_type": "stream",
     "text": [
      "The prediction error (RMSE) is 9.544164588290558\n"
     ]
    },
    {
     "data": {
      "text/plain": [
       "<matplotlib.legend.Legend at 0x1a24ecfe50>"
      ]
     },
     "execution_count": 6,
     "metadata": {
      "tags": []
     },
     "output_type": "execute_result"
    },
    {
     "data": {
      "image/png": "[encoded data removed]",
      "text/plain": [
       "<Figure size 432x288 with 1 Axes>"
      ]
     },
     "metadata": {
      "needs_background": "light",
      "tags": []
     },
     "output_type": "display_data"
    }
   ],
   "source": [
    "from sklearn.metrics import mean_squared_error\n",
    "\n",
    "# We use the function predict to make predictions on the test instances. \n",
    "predictions = lin_reg.predict(X_test)\n",
    "# We compute the mean squared error, by comparing \n",
    "# the predictions with the actual target values\n",
    "mse = mean_squared_error(y_test, predictions)\n",
    "\n",
    "# We print the root mean square error.\n",
    "print(\"The prediction error (RMSE) is {}\".format(np.sqrt(mse)))\n",
    "\n",
    "# Plot the instances of the test set.\n",
    "plt.plot(X_test, y_test,'.', label='Test instances')\n",
    "\n",
    "# We plot the line learned from the training set.\n",
    "axes = plt.gca()\n",
    "x_vals = np.array(axes.get_xlim())\n",
    "y_vals = intercept + slope * x_vals\n",
    "plt.plot(x_vals, y_vals, '-r', label=\"Learned model\")\n",
    "\n",
    "plt.xlabel('Independent variable');\n",
    "plt.ylabel('Dependent variable')\n",
    "plt.title('Test set')\n",
    "plt.legend()\n"
   ]
  },
  {
   "cell_type": "markdown",
   "metadata": {
    "colab_type": "text",
    "id": "0VVTfbzXYz4Z"
   },
   "source": [
    "## Effect of scale"
   ]
  },
  {
   "cell_type": "markdown",
   "metadata": {
    "colab_type": "text",
    "id": "6sguSYbRYz4Z"
   },
   "source": [
    "We want to analyze the effect of the **scale of the feature values** on the gradient descent algorithm.\n",
    "For this purpose: \n",
    "\n",
    "1. We generate a dataset for linear regression with a high number of features (up to 100,000);\n",
    "\n",
    "2. We scale the values of these features so that they all have very different scales.\n",
    "\n",
    "3. We compute the time taken for training a linear regressor for a varying number of features. \n",
    "\n",
    "<div class=\"alert alert-block alert-success\">\n",
    "<b>Question 1.</b> Write the code to generate a dataset for linear regression with 1,000 instances and 100,000 features. \n",
    "</div>"
   ]
  },
  {
   "cell_type": "markdown",
   "metadata": {
    "colab_type": "text",
    "id": "XHooNd2PYz4a"
   },
   "source": [
    "<div class=\"alert alert-block alert-success\">\n",
    "<b>Solution.</b> The code is given below.\n",
    "</div>"
   ]
  },
  {
   "cell_type": "code",
   "execution_count": null,
   "metadata": {
    "colab": {},
    "colab_type": "code",
    "id": "sAe4qfsPYz4a"
   },
   "outputs": [],
   "source": [
    "n_features = 100000\n",
    "n_samples = 1000\n",
    "X, y = make_regression(n_samples=n_samples, n_features=n_features, noise=10, random_state=2)"
   ]
  },
  {
   "cell_type": "markdown",
   "metadata": {
    "colab_type": "text",
    "id": "-g5PmTDLYz4c"
   },
   "source": [
    "In the following cell, we define the function *plot_mean_stdev* to plot the **mean** and the **standard deviation** of each feature. We call the function on the generated dataset.\n",
    "\n",
    "<div class=\"alert alert-block alert-success\">\n",
    "<b>Question 2.</b> What can you say about the scale of the features?\n",
    "</div>"
   ]
  },
  {
   "cell_type": "code",
   "execution_count": null,
   "metadata": {
    "colab": {},
    "colab_type": "code",
    "id": "q_WavhthYz4d",
    "outputId": "3b85f523-10ac-4a79-bc48-ce1ec2f21999"
   },
   "outputs": [
    {
     "data": {
      "image/png": "[encoded data removed]",
      "text/plain": [
       "<Figure size 432x288 with 1 Axes>"
      ]
     },
     "metadata": {
      "needs_background": "light",
      "tags": []
     },
     "output_type": "display_data"
    }
   ],
   "source": [
    "def plot_mean_stdev(X, n_features):\n",
    "    plt.plot([i for i in range(n_features)], np.std(X, axis=0), '.b', label=\"Standard deviation\") \n",
    "    plt.plot([i for i in range(n_features)], np.mean(X, axis=0), '.r', label=\"Mean\") \n",
    "    plt.legend()\n",
    "    \n",
    "plot_mean_stdev(X, n_features)"
   ]
  },
  {
   "cell_type": "markdown",
   "metadata": {
    "colab_type": "text",
    "id": "VtGL4w1WYz4f"
   },
   "source": [
    "<div class=\"alert alert-block alert-success\">\n",
    "<b>Solution.</b> The mean and the standard deviation of all features are near 0 and 1 respectively. This means that \n",
    "the features of the generated dataset have the same scale.\n",
    "</div>"
   ]
  },
  {
   "cell_type": "markdown",
   "metadata": {
    "colab_type": "text",
    "id": "aHYcoyl7Yz4f"
   },
   "source": [
    "We **rescale the features** so that they have values with **very different scales**."
   ]
  },
  {
   "cell_type": "code",
   "execution_count": null,
   "metadata": {
    "colab": {},
    "colab_type": "code",
    "id": "xqCyD5CMYz4g"
   },
   "outputs": [],
   "source": [
    "import random\n",
    "\n",
    "# For each feature, we rescale their values so that their minimum value\n",
    "# is between -100000 and 10000 and their maximum value is between 20000, 100000\n",
    "for i in range(n_features):\n",
    "    X[:, i] = np.interp(X[:, i], (X[:, i].min(), X[:, i].max()), \\\n",
    "                        (random.randint(-100000, 10000), random.randint(20000, 100000)))"
   ]
  },
  {
   "cell_type": "markdown",
   "metadata": {
    "colab_type": "text",
    "id": "MmCNRTPNYz4i"
   },
   "source": [
    "In the following cell, we **train a linear regressor** with **varying number of features** and we record the training times.\n",
    "As you can see, training slows down considerably while we increase the number of features. "
   ]
  },
  {
   "cell_type": "code",
   "execution_count": null,
   "metadata": {
    "colab": {},
    "colab_type": "code",
    "collapsed": true,
    "id": "cWPDf42yYz4j",
    "outputId": "bfdcd0a8-e83c-413e-9221-df2072de46f5"
   },
   "outputs": [
    {
     "name": "stdout",
     "output_type": "stream",
     "text": [
      "Training with 10 features\n",
      "Training time --- 0.007845878601074219 seconds ---\n",
      "\n",
      "Training with 100 features\n",
      "Training time --- 0.02328181266784668 seconds ---\n",
      "\n",
      "Training with 1000 features\n",
      "Training time --- 0.10750985145568848 seconds ---\n",
      "\n",
      "Training with 10000 features\n",
      "Training time --- 1.1652698516845703 seconds ---\n",
      "\n",
      "Training with 100000 features\n",
      "Training time --- 16.779515981674194 seconds ---\n",
      "\n"
     ]
    }
   ],
   "source": [
    "import time\n",
    "\n",
    "# We save here the training time for varying number of features.\n",
    "training_times_unscaled = []\n",
    "\n",
    "for i in range(1, 6):\n",
    "    print(\"Training with {} features\".format(10**i))\n",
    "    X_train, X_test, y_train, y_test = train_test_split(X[:, :10**i], y, test_size=0.2, random_state=42)\n",
    "    lin_reg = SGDRegressor()\n",
    "    start_time = time.time()\n",
    "    # We train the linear regressor\n",
    "    lin_reg.fit(X_train, y_train)\n",
    "    training_time = time.time() - start_time\n",
    "    training_times_unscaled.append(training_time)\n",
    "    print(\"Training time --- {} seconds ---\\n\".format(training_time))"
   ]
  },
  {
   "cell_type": "markdown",
   "metadata": {
    "colab_type": "text",
    "id": "b31ia0mXYz4l"
   },
   "source": [
    "In the following cell, we **standardize** the features in the training set, so that they all have 0 mean and unit standard deviation, **before** training the linear regressor.\n",
    "\n",
    "\n",
    "To standardize the features, we use the class [*sklearn.preprocessing.StandardScaler*](https://scikit-learn.org/stable/modules/generated/sklearn.preprocessing.StandardScaler.html)\n",
    "\n",
    "***StandardScaler* is used on variables that have a Gaussian distribution.**\n",
    "\n",
    "<div class=\"alert alert-block alert-info\">\n",
    "In the following cell, the training time also accounts for the time of scaling the features.\n",
    "</div>"
   ]
  },
  {
   "cell_type": "code",
   "execution_count": null,
   "metadata": {
    "colab": {},
    "colab_type": "code",
    "collapsed": true,
    "id": "x_HLME6XYz4l",
    "outputId": "3653db09-8c14-4ef3-d383-e4842959cced"
   },
   "outputs": [
    {
     "name": "stdout",
     "output_type": "stream",
     "text": [
      "Training with 10 features\n",
      "Training time --- 0.005391836166381836 seconds ---\n",
      "\n",
      "Training with 100 features\n",
      "Training time --- 0.022834062576293945 seconds ---\n",
      "\n",
      "Training with 1000 features\n",
      "Training time --- 0.7920260429382324 seconds ---\n",
      "\n",
      "Training with 10000 features\n",
      "Training time --- 0.2912137508392334 seconds ---\n",
      "\n",
      "Training with 100000 features\n",
      "Training time --- 6.52357292175293 seconds ---\n",
      "\n"
     ]
    },
    {
     "data": {
      "text/plain": [
       "<matplotlib.legend.Legend at 0x1a25955790>"
      ]
     },
     "execution_count": 11,
     "metadata": {
      "tags": []
     },
     "output_type": "execute_result"
    },
    {
     "data": {
      "image/png": "[encoded data removed]",
      "text/plain": [
       "<Figure size 432x288 with 1 Axes>"
      ]
     },
     "metadata": {
      "needs_background": "light",
      "tags": []
     },
     "output_type": "display_data"
    }
   ],
   "source": [
    "from sklearn.preprocessing import StandardScaler\n",
    "\n",
    "# We save here the training time for varying number of features.\n",
    "training_times_standardized = []\n",
    "\n",
    "for i in range(1, 6):\n",
    "    print(\"Training with {} features\".format(10**i))\n",
    "    X_train, X_test, y_train, y_test = train_test_split(X[:, :10**i], y, test_size=0.2, random_state=42)\n",
    "    lin_reg = SGDRegressor()\n",
    "    \n",
    "    start_time = time.time()\n",
    "    \n",
    "    # We create an instance of the class StandardScaler\n",
    "    scaler = StandardScaler()\n",
    "    # We scale the training instances.\n",
    "    X_train = scaler.fit_transform(X_train)\n",
    "    \n",
    "    # We train the linear regressor\n",
    "    lin_reg.fit(X_train, y_train)\n",
    "    training_time = time.time() - start_time\n",
    "    training_times_standardized.append(training_time)\n",
    "    print(\"Training time --- {} seconds ---\\n\".format(training_time))\n",
    "\n",
    "# We plot the training times with unscaled and standardized features.\n",
    "plt.plot([1, 2, 3, 4, 5], training_times_unscaled, '-r', label=\"Unscaled features\")\n",
    "plt.plot([1, 2, 3, 4, 5], training_times_standardized, '-b', label=\"Standardized features\")\n",
    "\n",
    "plt.xlabel('Number of features (power of 10)');\n",
    "plt.ylabel('Training time')\n",
    "plt.title('Training time with scaled and unscaled features')\n",
    "plt.legend()"
   ]
  },
  {
   "cell_type": "markdown",
   "metadata": {
    "colab_type": "text",
    "id": "cZRtsvE4Yz4n"
   },
   "source": [
    "When the variable does not have a Gaussian distribution, an alternative to *StandardScaler* is *MinMaxScaler* that transforms the data so that they fall in the interval $[0, 1]$; if you want the data to fall in a different interval (e.g., [-1, 1]) you can use the option *feature_range* of *MinMaxScaler*.\n",
    "\n",
    "\n",
    "<div class=\"alert alert-block alert-success\">\n",
    "<b>Question 3.</b> Write the code to analyze the training time (as we did in the previous cell) when using <b>min-max scaling</b> (set the interval to [-1, 1]) with a varying number of features. Use the class \n",
    "<a href=\"https://scikit-learn.org/stable/modules/generated/sklearn.preprocessing.MinMaxScaler.html\" target=\"_blank\"><i>sklearn.preprocessing.MinMaxScaler</i></a>. Comment on the result.\n",
    "</div>\n",
    "\n"
   ]
  },
  {
   "cell_type": "markdown",
   "metadata": {
    "colab_type": "text",
    "id": "UbMl9pawYz4o"
   },
   "source": [
    "<div class=\"alert alert-block alert-success\">\n",
    "<b>Solution.</b> The code is given below\n",
    "</div>"
   ]
  },
  {
   "cell_type": "code",
   "execution_count": null,
   "metadata": {
    "colab": {},
    "colab_type": "code",
    "collapsed": true,
    "id": "St8mZqCaYz4o",
    "outputId": "8da77643-758f-4b17-a07f-8b3c0cb6cb60"
   },
   "outputs": [
    {
     "name": "stdout",
     "output_type": "stream",
     "text": [
      "Training with 10 features\n",
      "Training time --- 0.010566949844360352 seconds ---\n",
      "\n",
      "Training with 100 features\n",
      "Training time --- 0.024327993392944336 seconds ---\n",
      "\n",
      "Training with 1000 features\n"
     ]
    },
    {
     "name": "stderr",
     "output_type": "stream",
     "text": [
      "/opt/anaconda3/lib/python3.7/site-packages/sklearn/linear_model/stochastic_gradient.py:1185: ConvergenceWarning: Maximum number of iteration reached before convergence. Consider increasing max_iter to improve the fit.\n",
      "  ConvergenceWarning)\n"
     ]
    },
    {
     "name": "stdout",
     "output_type": "stream",
     "text": [
      "Training time --- 2.0588700771331787 seconds ---\n",
      "\n",
      "Training with 10000 features\n",
      "Training time --- 0.4546620845794678 seconds ---\n",
      "\n",
      "Training with 100000 features\n",
      "Training time --- 2.617861032485962 seconds ---\n",
      "\n"
     ]
    },
    {
     "data": {
      "text/plain": [
       "<matplotlib.legend.Legend at 0x1a25742350>"
      ]
     },
     "execution_count": 12,
     "metadata": {
      "tags": []
     },
     "output_type": "execute_result"
    },
    {
     "data": {
      "image/png": "[encoded data removed]",
      "text/plain": [
       "<Figure size 432x288 with 1 Axes>"
      ]
     },
     "metadata": {
      "needs_background": "light",
      "tags": []
     },
     "output_type": "display_data"
    }
   ],
   "source": [
    "from sklearn.preprocessing import MinMaxScaler\n",
    "\n",
    "# We save here the training time for varying number of features.\n",
    "training_times_min_max_scaling = []\n",
    "\n",
    "for i in range(1, 6):\n",
    "    print(\"Training with {} features\".format(10**i))\n",
    "    X_train, X_test, y_train, y_test = train_test_split(X[:, :10**i], y, test_size=0.2, random_state=42)\n",
    "    lin_reg = SGDRegressor()\n",
    "    \n",
    "    start_time = time.time()\n",
    "    \n",
    "    # We create an instance of the class MinMaxScaler\n",
    "    scaler = MinMaxScaler(feature_range=(-1, 1))\n",
    "    # We scale the training instances.\n",
    "    X_train = scaler.fit_transform(X_train)\n",
    "\n",
    "    # We train the linear regressor\n",
    "    lin_reg.fit(X_train, y_train)\n",
    "    training_time = time.time() - start_time\n",
    "    training_times_min_max_scaling.append(training_time)\n",
    "    print(\"Training time --- {} seconds ---\\n\".format(training_time))\n",
    "\n",
    "# We plot the training times with unscaled features and using StandardScaler and Min-Max scaler.\n",
    "plt.plot([1, 2, 3, 4, 5], training_times_unscaled, '-r', label=\"Unscaled features\")\n",
    "plt.plot([1, 2, 3, 4, 5], training_times_standardized, '-b', label=\"Standard Scaler\")\n",
    "plt.plot([1, 2, 3, 4, 5], training_times_min_max_scaling, '-g', label=\"Min-Max scaler\")\n",
    "\n",
    "plt.xlabel('Number of features (power of 10)');\n",
    "plt.ylabel('Training time')\n",
    "plt.title('Training time with scaled and unscaled features')\n",
    "plt.legend()\n",
    "\n"
   ]
  },
  {
   "cell_type": "markdown",
   "metadata": {
    "colab_type": "text",
    "id": "bTCWPL6AYz4q"
   },
   "source": [
    "## Using Pipelines"
   ]
  },
  {
   "cell_type": "markdown",
   "metadata": {
    "colab_type": "text",
    "id": "DsLA9nvUYz4r"
   },
   "source": [
    "Scikit-learn provides a powerful object to define a sequence of transformations that is called a **pipeline**. A pipeline is a sequence of operations that is applied on a dataset. \n",
    "Each object of a pipeline is a **transformer** that executes a specific transformation (e.g., standardization) on the input data. Optionally, the last object of the pipeline can be an **estimator**, a machine learning algorithm that is applied on the transformed dataset.\n",
    "\n",
    "In the following cell, we define a pipeline with two objects:\n",
    "\n",
    "1. An instance of the class **StandardScaler** (a **transformer**).\n",
    "2. An instance of the class **SGDRegressor** (an **estimator**)."
   ]
  },
  {
   "cell_type": "code",
   "execution_count": null,
   "metadata": {
    "colab": {},
    "colab_type": "code",
    "id": "rkYGy_CRYz4r"
   },
   "outputs": [],
   "source": [
    "from sklearn.pipeline import Pipeline\n",
    "\n",
    "# Each object of the pipeline is identified by a key ('std_scaler', 'linreg').\n",
    "# You can use any value as the key of an object in the pipeline\n",
    "pipeline =  Pipeline([\n",
    "    ('std_scaler', StandardScaler()),\n",
    "    ('linreg', SGDRegressor())\n",
    "])"
   ]
  },
  {
   "cell_type": "markdown",
   "metadata": {
    "colab_type": "text",
    "id": "CZcMRDBLYz4t"
   },
   "source": [
    "The **advantage** of using a pipeline is that we define  all the transformations once and we can apply them on different datasets, which results in a shorter, more readable code. \n",
    "Moreover, when training and testing a model, a pipeline ensures that we apply the **exact same transformations** on both the training and test set.\n",
    "\n",
    "In the following cell, we obtain a training and test set from the synthetic data and we apply the pipeline on the training set.\n",
    "\n",
    "<div class=\"alert alert-block alert-success\">\n",
    "<b>Question 4.</b> What is the effect of calling the function <i>fit</i> on the pipeline?\n",
    "</div>"
   ]
  },
  {
   "cell_type": "code",
   "execution_count": null,
   "metadata": {
    "colab": {},
    "colab_type": "code",
    "id": "u1lDDmk7Yz4u",
    "outputId": "7af831d8-1922-47f6-dd36-8d2f884d81b3"
   },
   "outputs": [
    {
     "data": {
      "text/plain": [
       "Pipeline(memory=None,\n",
       "         steps=[('std_scaler',\n",
       "                 StandardScaler(copy=True, with_mean=True, with_std=True)),\n",
       "                ('linreg',\n",
       "                 SGDRegressor(alpha=0.0001, average=False, early_stopping=False,\n",
       "                              epsilon=0.1, eta0=0.01, fit_intercept=True,\n",
       "                              l1_ratio=0.15, learning_rate='invscaling',\n",
       "                              loss='squared_loss', max_iter=1000,\n",
       "                              n_iter_no_change=5, penalty='l2', power_t=0.25,\n",
       "                              random_state=None, shuffle=True, tol=0.001,\n",
       "                              validation_fraction=0.1, verbose=0,\n",
       "                              warm_start=False))],\n",
       "         verbose=False)"
      ]
     },
     "execution_count": 14,
     "metadata": {
      "tags": []
     },
     "output_type": "execute_result"
    }
   ],
   "source": [
    "X, y = make_regression(n_samples=1000, n_features=20, noise=10, random_state=2)\n",
    "X_train, X_test, y_train, y_test = train_test_split(X, y, test_size=0.2, random_state=42)\n",
    "pipeline.fit(X_train, y_train)"
   ]
  },
  {
   "cell_type": "markdown",
   "metadata": {
    "colab_type": "text",
    "id": "w4h9XpN9Yz4w"
   },
   "source": [
    "<div class=\"alert alert-block alert-success\">\n",
    "    \n",
    "**Solution.** Calling the function *fit* triggers the call of the function *fit_transform()* on all the transformers of the pipeline (in this case, the instance of *StandardScaler*) and the function *fit* on the estimator (in this case, the *SGDRegressor*). In other words, the training data are standardized and a linear regressor is trained on the standardized data.\n",
    "\n",
    "</div>"
   ]
  },
  {
   "cell_type": "markdown",
   "metadata": {
    "colab_type": "text",
    "id": "9IHAXSG8Yz4y"
   },
   "source": [
    "<div class=\"alert alert-block alert-success\">\n",
    "<b>Question 5.</b> Write the code that uses the pipeline to transform the test instances and uses the learned linear regressor to make predictions. Estimate the RMSE.\n",
    "</div>"
   ]
  },
  {
   "cell_type": "markdown",
   "metadata": {
    "colab_type": "text",
    "id": "IT3fJxd-Yz4y"
   },
   "source": [
    "<div class=\"alert alert-block alert-success\">\n",
    "    \n",
    "**Solution.** The code is given below.\n",
    "\n",
    "</div>"
   ]
  },
  {
   "cell_type": "code",
   "execution_count": null,
   "metadata": {
    "colab": {},
    "colab_type": "code",
    "id": "qzagF-2lYz4z",
    "outputId": "824eca89-ac27-4309-c5b1-9e477924a1e0"
   },
   "outputs": [
    {
     "name": "stdout",
     "output_type": "stream",
     "text": [
      "9.904994389283457\n"
     ]
    }
   ],
   "source": [
    "# Calling the function predict on X_test will result in calling the function transform\n",
    "# on each tranformer of the pipeline and the function predict on the estimator.\n",
    "predictions = pipeline.predict(X_test)\n",
    "mse = mean_squared_error(y_test, predictions)\n",
    "print(np.sqrt(mse))"
   ]
  },
  {
   "cell_type": "markdown",
   "metadata": {
    "colab_type": "text",
    "id": "cyzEx1qNYz41"
   },
   "source": [
    "<div class=\"alert alert-block alert-info\">\n",
    "You should always use pipelines when training/testing machine learning algorithms on preprocessed data.\n",
    "</div>"
   ]
  },
  {
   "cell_type": "markdown",
   "metadata": {
    "colab_type": "text",
    "id": "4ubJDgLYYz41"
   },
   "source": [
    "## Handling missing data"
   ]
  },
  {
   "cell_type": "markdown",
   "metadata": {
    "colab_type": "text",
    "id": "AnQK5DDrYz41"
   },
   "source": [
    "Virtually any real dataset contains some amount of **missing data**, where one or more features have missing values. Generally, machine learning algorithms **don't like** missing values, which is why we need to deal with them before training.\n",
    "\n",
    "\n",
    "When only a handful of instances present some missing values, we can safely remove them from the dataset. This procedure is called **listwise deletion**. \n",
    "However, listwise deletion is a **risky heuristics** that should be used with caution, as it might severely affect the distribution of the features and the regression coefficients.\n",
    "\n",
    "Let $X$ be the matrix representing a dataset and $X_{j}$ be a feature with missing values (a column of $X$). We can identify three categories of missing data:\n",
    "\n",
    "1. **Missing completely at random (MCAR).** The probability that a value of $X_j$ is missing does **not** depend on the values of the other features, whether they are missing or not.\n",
    "\n",
    "$$P(X_j\\ missing | X) = P(X_j\\ missing)$$\n",
    "\n",
    "2. **Missing at random (MAR).** The probability that a value of $X_j$ is missing depends on the **observed values** $X_{observed}$ (not the missing values) of the other features.\n",
    "\n",
    "$$P(X_j\\ missing | X) = P(X_j\\ missing | X_{observed})$$\n",
    "\n",
    "3. **Missing not at random (MNAR).** The probability that a value of $X_j$ is missing depends on the **missing values** $X_{missing}$ of the other features (or a missing feature).\n",
    "\n",
    "$$P(X_j\\ missing | X) = P(X_j\\ missing | X_{missing})$$\n",
    "\n",
    "In the following cell, we define three functions *mcar()*, *mar()* and *mnar()* in order to generate some missing values of the three categories respectively in a given dataset. In each function, we specify the index of the feature for which we intend to generate missing values, as well as the ratio of missing values."
   ]
  },
  {
   "cell_type": "code",
   "execution_count": null,
   "metadata": {
    "colab": {},
    "colab_type": "code",
    "id": "JBnxNvNTYz42"
   },
   "outputs": [],
   "source": [
    "import random\n",
    "import math\n",
    "\n",
    "def mcar(X, missing_feature, missing_ratio=0.05):\n",
    "    '''Generates missing values of category MCAR in the given dataset for the specified feature.\n",
    "    \n",
    "    The function randomly picks some values in the column of X with index missing_feature and replaces \n",
    "    them with NaN (indicating a missing value). \n",
    "    Missing values are selected completely at randon, their choice doesn't depend on the other \n",
    "    values of X.\n",
    "    \n",
    "    Parameters\n",
    "    ----------\n",
    "        X : numpy array (matrix)\n",
    "            A dataset.\n",
    "        missing_feature : int\n",
    "            The index of the column of X where we want to generate some missing values.\n",
    "        missing_ratio : float\n",
    "            A value between 0 and 1, specifying the ratio of missing values (over the total number of instances).\n",
    "        \n",
    "    Returns\n",
    "    --------\n",
    "        Numpy array (matrix).\n",
    "            The input matrix X with missing values for the specified feature.\n",
    "    \n",
    "    '''\n",
    "    n_instances = X.shape[0]\n",
    "    X_mcar = X.copy()\n",
    "    mcar = math.floor(n_instances * missing_ratio)\n",
    "    idx_mcar = [True]*mcar + [False]*(n_instances - mcar)\n",
    "    random.shuffle(idx_mcar)\n",
    "    X_mcar[idx_mcar, missing_feature] = float('nan')\n",
    "    return X_mcar\n",
    "    \n",
    "\n",
    "def find_threshold(Xj, ratio=0.05):\n",
    "    '''Auxiliary function used by functions mar() and mnar(). \n",
    "    \n",
    "    Determines the threshold value in array Xj \n",
    "    such that the number of instances of Xj below that value over the total number of instances\n",
    "    matches the given ratio.\n",
    "    \n",
    "    Parameters\n",
    "    ----------\n",
    "        Xj : numpy array.\n",
    "            A column of a matrix X.\n",
    "        ratio : float\n",
    "            The ratio of the instances of Xj that have a value below \n",
    "            the determined threshold.\n",
    "        \n",
    "    Returns\n",
    "    -------\n",
    "        float\n",
    "            The threshold value.\n",
    "    \n",
    "    '''\n",
    "    Xj_sorted = np.sort(Xj, axis=None)\n",
    "    return Xj_sorted[math.ceil(Xj_sorted.shape[0] * ratio)]\n",
    "    \n",
    "\n",
    "def mar(X, missing_feature, influencing_feature, missing_ratio=0.05):\n",
    "    '''Generates missing values of category MAR in the given dataset for the specified feature.\n",
    "    \n",
    "    The function sets the missing_feature to NaN (indicating a missing value) \n",
    "    for all the instances such that the influencing_feature has \n",
    "    a value below a certain threshold. \n",
    "    \n",
    "    Missingness of values in themissing_feature \n",
    "    depends on the observed values of influencing_feature.\n",
    "   \n",
    "    \n",
    "    The threshold is automatically determined to match the given missing_ratio.\n",
    "     \n",
    "    Parameters\n",
    "    ----------\n",
    "        X : numpy array (matrix)\n",
    "            A dataset.\n",
    "        missing_feature : int\n",
    "            The index of the column of X where we want to generate some missing values.\n",
    "        influencing_feature : int\n",
    "            The index of the column of X that influences the missingness in missing_feature.\n",
    "        missing_ratio : float\n",
    "            A value between 0 and 1, specifying the ratio of missing values (over the total number of instances).\n",
    "        \n",
    "    Returns\n",
    "    --------\n",
    "        Numpy array (matrix).\n",
    "            The input matrix X with missing values for the specified feature.\n",
    "    \n",
    "    '''\n",
    "    X_mar = X.copy()\n",
    "    n_instances = X_mar.shape[0]\n",
    "    n_features = X_mar.shape[1]\n",
    "    threshold = find_threshold(X_mar[:, influencing_feature], missing_ratio)\n",
    "    X_mar[X_mar[:, influencing_feature]<=threshold, missing_feature] = float('nan')\n",
    "    return X_mar\n",
    "\n",
    "def mnar(X, missing_feature, missing_ratio=0.05):\n",
    "    '''Generates missing values of category MNAR in the given dataset for the specified feature.\n",
    "    \n",
    "    The function sets the missing_feature to NaN (indicating a missing value) \n",
    "    for all the instances such that the missing_feature has \n",
    "    a value below a certain threshold. \n",
    "    \n",
    "    Missingness of values of missing_feature \n",
    "    depends on the missing values of missing_feature.\n",
    "    For some unknown reason, values below a certain threshold are not recorded.\n",
    "   \n",
    "    The threshold is automatically determined to match the given missing_ratio.\n",
    "     \n",
    "    Parameters\n",
    "    ----------\n",
    "        X : numpy array (matrix)\n",
    "            A dataset.\n",
    "        missing_feature : int\n",
    "            The index of the column of X where we want to generate some missing values.\n",
    "        missing_ratio : float\n",
    "            A value between 0 and 1, specifying the ratio of missing values (over the total number of instances).\n",
    "        \n",
    "    Returns\n",
    "    --------\n",
    "    Numpy array (matrix)\n",
    "        The input matrix X with missing values for the specified feature.\n",
    "    \n",
    "    '''\n",
    "    X_mnar = X.copy()\n",
    "    n_instances = X_mnar.shape[0]\n",
    "    n_features = X_mnar.shape[1]  \n",
    "    threshold = find_threshold(X_mnar[:, missing_feature], missing_ratio)\n",
    "    X_mnar[X_mnar[:, missing_feature]<=threshold, missing_feature] = float('nan')\n",
    "    return X_mnar"
   ]
  },
  {
   "cell_type": "markdown",
   "metadata": {
    "colab_type": "text",
    "id": "FDSeElhkYz43"
   },
   "source": [
    "We want to assess the effect of missing data on a regression problem. In particular, we want to see how predictions on a test set are influenced when missing data occur in the training set.\n",
    "\n",
    "Let's first define a convenience function *generate_dataset()* that creates a dataset with the function *make_regression()*, split it into a training and test set and creates four versions of the training set: one with complete data, the others with missing data of each category."
   ]
  },
  {
   "cell_type": "code",
   "execution_count": null,
   "metadata": {
    "colab": {},
    "colab_type": "code",
    "id": "tO2_1ZscYz44"
   },
   "outputs": [],
   "source": [
    "NO_MISSING = \"NO_MISSING\"\n",
    "MCAR = \"MCAR\"\n",
    "MAR = \"MAR\"\n",
    "MNAR = \"MNAR\"\n",
    "\n",
    "def generate_dataset(n_samples=1000, n_features=10, noise=20, missing_feature=1, \\\n",
    "                     influencing_feature=2, missing_ratio=0.05):\n",
    "    \n",
    "    '''Generates a new regression problem (with and without missing values).\n",
    "    \n",
    "    The function generates a dataset, split it into a training (80% of the instances) \n",
    "    and test set  and returns four versions\n",
    "    of the training set: one with no missing values, the other with missing values, one for each category \n",
    "    (MCAR, MAR and MNAR).\n",
    "    \n",
    "    Parameters\n",
    "    ----------\n",
    "        n_samples : int\n",
    "            Number of instances in the dataset (default: 1000).\n",
    "        n_features : int\n",
    "            Number of features in the dataset (default: 10)\n",
    "        noise : int\n",
    "            The standard deviation of the noise added to the generated instances (default: 20)\n",
    "        missing_feature : int\n",
    "            The index of the feature that will contain the missing values (default: 1).\n",
    "        influencing_feature : int\n",
    "            The index of the feature that determines the missingness in the missing_feature (default:2).\n",
    "            This is used to generate MAR missing values.\n",
    "        missing_ratio: float\n",
    "            The ratio (values between 0 and 1) \n",
    "            of missing values over the total number of instances (default: 0.05).\n",
    "    \n",
    "    Returns\n",
    "    -------\n",
    "        A tuple (training_sets, X_test, y_test)\n",
    "            - The first item of the tuple (training_sets) is a Python dictionary with four elements.\n",
    "                training_set[key] (with key having values \"NO_MISSING\", \"MCAR\", \"MAR\", \"MNAR\") \n",
    "                is a tuple (X_train, y_train), representing a training set.\n",
    "            - The second item of the tuple is X_test.\n",
    "            - The third item of the tuple is y_test.\n",
    "        \n",
    "    '''\n",
    "    \n",
    "    X, y = make_regression(n_samples=n_samples, n_features=n_features, noise=noise)\n",
    "    \n",
    "    X_train, X_test, y_train, y_test = train_test_split(X, y, test_size=0.2)\n",
    "\n",
    "    training_sets = {}\n",
    "    \n",
    "    # Generates the training sets with missing data, one for each category of missing data.\n",
    "    X_train_mcar = mcar(X_train, missing_feature, missing_ratio=missing_ratio)\n",
    "    X_train_mar = mar(X_train, missing_feature, influencing_feature, missing_ratio=missing_ratio)\n",
    "    X_train_mnar = mnar(X_train, missing_feature, missing_ratio=missing_ratio)\n",
    "    \n",
    "    training_sets[NO_MISSING] = (X_train, y_train)\n",
    "    training_sets[MCAR] = (X_train_mcar, y_train)\n",
    "    training_sets[MAR] = (X_train_mar, y_train)\n",
    "    training_sets[MNAR] = (X_train_mnar, y_train)\n",
    "    \n",
    "    return (training_sets, X_test, y_test)"
   ]
  },
  {
   "cell_type": "markdown",
   "metadata": {
    "colab_type": "text",
    "id": "72XP9NfmYz45"
   },
   "source": [
    "Several strategies exist to handle missing values. We now apply them on the synthetic datasets to see how they behave."
   ]
  },
  {
   "cell_type": "markdown",
   "metadata": {
    "colab_type": "text",
    "id": "9qc6wTA6Yz46"
   },
   "source": [
    "### Listwise deletion"
   ]
  },
  {
   "cell_type": "markdown",
   "metadata": {
    "colab_type": "text",
    "id": "4-lk6-B0Yz46"
   },
   "source": [
    "Perhaps the easiest way to handle missing data is to...ignore them! In other words, we simply drop from the training set the instances that have missing values. This strategy is called **listwise deletion**. \n",
    "\n",
    "We first define a function *dropnan()* that drops the instances with missing values from a dataset."
   ]
  },
  {
   "cell_type": "code",
   "execution_count": null,
   "metadata": {
    "colab": {},
    "colab_type": "code",
    "id": "PZbIBOuHYz46"
   },
   "outputs": [],
   "source": [
    "def dropnan(X, y, missing_feature):\n",
    "    '''Drops the instances that have a missing value for the given feature.\n",
    "    \n",
    "    The input dataset (X, y) is not modified. A new dataset is created and returned.\n",
    "    \n",
    "    Parameters\n",
    "    ----------\n",
    "        X : numpy array (matrix).\n",
    "            A dataset. Each row corresponds to an instance, each column to a feature.\n",
    "        y : numpy array.\n",
    "            The vector with the target values for each instance.\n",
    "        missing_feature : int\n",
    "            The index of the column of X that corresponds to the feature with missing values.\n",
    "    \n",
    "    Returns\n",
    "    -------\n",
    "        A tuple.\n",
    "            A tuple (X_nomissing, y_nomissing) that corresponds to the input dataset (X, y) without the instances\n",
    "            with missing values.\n",
    "    '''\n",
    "    X_nomissing = X.copy()\n",
    "    y_nomissing = y.copy()\n",
    "    y_nomissing = np.delete(y_nomissing, np.argwhere(np.isnan(X_nomissing[:, missing_feature])), axis=0)\n",
    "    X_nomissing = X_nomissing[~np.isnan(X_nomissing).any(axis=1)]\n",
    "    return (X_nomissing, y_nomissing)"
   ]
  },
  {
   "cell_type": "markdown",
   "metadata": {
    "colab_type": "text",
    "id": "iyUiVie4Yz48"
   },
   "source": [
    "Then we write a function *listwise_deletion()* that takes in the training sets returned by the function *generate_dataset()* and uses the function *dropnan()* to remove the instances with missing values."
   ]
  },
  {
   "cell_type": "code",
   "execution_count": null,
   "metadata": {
    "colab": {},
    "colab_type": "code",
    "id": "nHxey7gOYz49"
   },
   "outputs": [],
   "source": [
    "def listwise_deletion(training_sets, missing_feature):\n",
    "    '''Removes the instances with missing values in the specified missing_feature from the given \n",
    "    training sets.\n",
    "    \n",
    "    Parameters\n",
    "    ----------\n",
    "        training_sets : dictionary.\n",
    "            The training sets returned by the function generate_dataset()\n",
    "        missing_feature : int\n",
    "            The index of the feature with missing values.\n",
    "    \n",
    "    Returns\n",
    "    -------\n",
    "        Dictionary.\n",
    "            The input training sets without the instances with missing values.\n",
    "    '''\n",
    "    training_sets_listwise = {}\n",
    "    for key, value in training_sets.items():\n",
    "        training_sets_listwise[key] = dropnan(value[0], value[1], missing_feature)\n",
    "    return training_sets_listwise"
   ]
  },
  {
   "cell_type": "markdown",
   "metadata": {
    "colab_type": "text",
    "id": "KoT6-edBYz4_"
   },
   "source": [
    "Then we define a function *test_linear_regression()* that trains a linear regression model on the training sets and returns the prediction errors on the test set."
   ]
  },
  {
   "cell_type": "code",
   "execution_count": null,
   "metadata": {
    "colab": {},
    "colab_type": "code",
    "id": "78WI_X00Yz4_"
   },
   "outputs": [],
   "source": [
    "def test_linear_regression_models(training_sets, X_test, y_test):\n",
    "    \n",
    "    ''' Trains linear regression models on the given training sets and returns the prediction errors on the \n",
    "    given test set.\n",
    "    \n",
    "    Parameters\n",
    "    ----------\n",
    "        training_sets : A dictionary.\n",
    "            The training sets. Each item of the dictionary is of the form (key, training_set), where\n",
    "            training_set is a tuple (X_train, y_train).\n",
    "        X_test : Numpy array (matrix).\n",
    "            The features of the test set.\n",
    "        y_test : Numpy array (vector).\n",
    "            The target values of the test set.\n",
    "            \n",
    "    Returns\n",
    "    -------\n",
    "        A dictionary.\n",
    "            The predictions errors on the test set of the trained models.\n",
    "            Each item of the dictionary is of the form (key, error), where key is one of the \n",
    "            keys of the input dictionary training_sets and error is the prediction error (RMSE)\n",
    "            of the model on the test set.\n",
    "          \n",
    "    '''\n",
    "    \n",
    "    prediction_errors = {}\n",
    "\n",
    "    for key, value in training_sets.items():\n",
    "        linreg = SGDRegressor()\n",
    "        linreg.fit(value[0], value[1])\n",
    "        predictions = linreg.predict(X_test)\n",
    "        prediction_errors[key] = mean_squared_error(y_test, predictions)\n",
    "\n",
    "    return prediction_errors"
   ]
  },
  {
   "cell_type": "markdown",
   "metadata": {
    "colab_type": "text",
    "id": "9YMxGPPFYz5B"
   },
   "source": [
    "Finally, we write a function *test_listwise_deletion()* that:\n",
    "\n",
    "1. Generates a certain number of regression problems with missing values (MCAR, MAR and MNAR) by using the function *generate_dataset()*, \n",
    "\n",
    "2. Applies listwise deletion on each training set and evaluates the prediction errors on the test set. \n",
    "\n",
    "3. The predictions errors are then averaged over the number of regression problems. If the number of regression problems is high (e.g., 10000), we can get a good estimate of the prediction errors in the different cases."
   ]
  },
  {
   "cell_type": "code",
   "execution_count": null,
   "metadata": {
    "colab": {},
    "colab_type": "code",
    "id": "Z7YsiwikYz5B"
   },
   "outputs": [],
   "source": [
    "def test_listwise_deletion(n_datasets=10000, n_samples=1000, n_features=10, noise=20, \\\n",
    "                           missing_feature=1, influencing_feature=2, missing_ratio=0.05):\n",
    "    \n",
    "    '''Generates n_datasets with n_samples with complete and missing data for each category (MCAR, MAR, MNAR).\n",
    "    For each dataset, compute the prediction error of a linear regression model trained on the training sets with\n",
    "    complete and missing data (after listwise deletion). Print the prediction error averaged over the number of \n",
    "    datasets.\n",
    "    \n",
    "    Parameters\n",
    "    ----------\n",
    "        n_datasets : int\n",
    "            The number of generated datasets (default: 10000).\n",
    "        n_samples : int\n",
    "            The number of instances in each dataset (default: 1000).\n",
    "        n_features : int\n",
    "            The number of features in each dataset (default: 10).\n",
    "        noise : int\n",
    "            The standard deviation of the noise added to the generated instances.\n",
    "        missing_feature : int\n",
    "            The index of the feature that will contain missing data.\n",
    "        influencing_feature : int\n",
    "            The index of the feature that determines the missingness in the missing_feature (default:2).\n",
    "            This is used to generate MAR missing values.\n",
    "        missing_ratio: float\n",
    "            The ratio (values between 0 and 1) \n",
    "            of missing values over the total number of instances (default: 0.05).      \n",
    "        \n",
    "    '''\n",
    "    \n",
    "    # The prediction errors averaged over the generated datasets.\n",
    "    average_prediction_errors = {}\n",
    "    \n",
    "    progress = 0\n",
    "    \n",
    "    # Display a progress bar\n",
    "    print_progress_bar(progress, int(n_datasets/100), prefix = 'Progress:', suffix = 'Complete', length = 50)\n",
    "    \n",
    "    # Sample n_datasets\n",
    "    for i in range(n_datasets):\n",
    "        \n",
    "        # Generate a dataset with training sets with complete and missing values.\n",
    "        training_sets, X_test, y_test = generate_dataset(n_samples=n_samples, n_features=n_features, noise=noise, \\\n",
    "                                                         missing_feature=missing_feature, influencing_feature=influencing_feature, \\\n",
    "                                                         missing_ratio=missing_ratio)\n",
    "        \n",
    "        # Remove the instances with missing values from the training sets.\n",
    "        training_sets = listwise_deletion(training_sets, missing_feature)\n",
    "        \n",
    "        # Test the prediction errors of the regression models trained on the training sets.\n",
    "        prediction_errors = test_linear_regression_models(training_sets, X_test, y_test)\n",
    "        \n",
    "        # Update the count of prediction errors in order to compute the average.\n",
    "        for key, value in prediction_errors.items():\n",
    "            if key not in average_prediction_errors :\n",
    "                average_prediction_errors[key] = value\n",
    "            else:\n",
    "                average_prediction_errors[key] += value \n",
    "                \n",
    "        # Update the progress bar\n",
    "        if i % int(n_datasets/100) == 0:\n",
    "            progress += 1\n",
    "            print_progress_bar(progress, int(n_datasets/100), prefix = 'Progress:', suffix = 'Complete', length = 50)\n",
    "    \n",
    "    # Compute the average of the prediction errors.\n",
    "    for key in average_prediction_errors.keys():\n",
    "        average_prediction_errors[key] /= n_datasets\n",
    "    \n",
    "    print(\"\\nPrediction error with no missing data {}\".format(average_prediction_errors[NO_MISSING]))\n",
    "    print(\"Prediction error with MCAR DATA {}\".format(average_prediction_errors[MCAR]))\n",
    "    print(\"Prediction error with MAR DATA {}\".format(average_prediction_errors[MAR]))\n",
    "    print(\"Prediction error with MNAR DATA {}\".format(average_prediction_errors[MNAR]))"
   ]
  },
  {
   "cell_type": "markdown",
   "metadata": {
    "colab_type": "text",
    "id": "CyHfzBZSYz5D"
   },
   "source": [
    "<div class=\"alert alert-block alert-success\">\n",
    "<b>Question 6.</b> Run the following cell that calls the function <i>test_listwise_deletion()</i> with <i>n_samples</i> = 1000 and <i>missing_ratio</i> = 0.7 (70% of the training instances will have a missing value). What can you say about the prediction errors in the different cases?\n",
    "\n",
    "1. Call the function <i>test_listwise_deletion()</i> with <i>n_samples</i> = 1000 and <i>missing_ratio</i> = 0.2. Comment on the prediction errors in the different cases.\n",
    "\n",
    "2. Call the function <i>test_listwise_deletion()</i> with <i>n_samples</i> = 5000 and <i>missing_ratio</i> = 0.7. Comment on the prediction errors in the different cases.\n",
    "    \n",
    "</div>"
   ]
  },
  {
   "cell_type": "code",
   "execution_count": null,
   "metadata": {
    "colab": {},
    "colab_type": "code",
    "id": "qPUIao6AYz5D",
    "outputId": "9ee43f66-e374-4bb1-a331-4e4949b9b94f"
   },
   "outputs": [
    {
     "name": "stdout",
     "output_type": "stream",
     "text": [
      "Progress: |██████████████████████████████████████████████████| 100.0% Complete\n",
      "\n",
      "Prediction error with no missing data 405.7115465756454\n",
      "Prediction error with MCAR DATA 419.3734681326314\n",
      "Prediction error with MAR DATA 436.0530442016202\n",
      "Prediction error with MNAR DATA 435.98544877306875\n"
     ]
    }
   ],
   "source": [
    "test_listwise_deletion(n_samples=1000, missing_ratio=0.7, noise=20)"
   ]
  },
  {
   "cell_type": "markdown",
   "metadata": {
    "colab_type": "text",
    "id": "0uc68G-pYz5F"
   },
   "source": [
    "<div class=\"alert alert-block alert-success\">\n",
    "    \n",
    "**Solution.** \n",
    "\n",
    "With *n_samples* = 1000 and *missing_ratio* = 0.7, the **prediction error** is **much lower** when we use a training set with **complete data** than missing data. We observe that the **prediction error** with **MCAR missing** data is **much lower** than the one obtained with MAR and MNAR missing data. This experiment shows that when the missing ratio is high (with a missing ratio of 0.7, listwise deletion only leaves 300 instances in the training set), **ignoring missing values is not a good strategy**, especially if missing data is not MCAR (in practice, it is reasonable to assume a MAR missingness). \n",
    "\n",
    "<div class=\"alert alert-block alert-info\">\n",
    "Although the absolute difference in the prediction errors seems to be small, that is due to the fact that we generated regression problems with <i>noise</i> = 20. If we set a higher value of <i>noise</i>, the absolute difference between the complete case and MCAR will be much higher. </div>\n",
    "\n",
    "\n",
    "1. With *n_samples* = 1000 and *missing_ratio* = 0.2, the **prediction error** is still **lower** when we use a training set with no missing data. However, the prediction errors obtained with training sets with missing data is not much higher. This is normal, as only 20% of the instances have missing values. \n",
    "\n",
    "<div class=\"alert alert-block alert-info\">\n",
    "Again, try with a higher value of <i>noise</i>; you'll see that the absolute difference in the prediction errors will be much higher. Even if the missing ratio seems to be low, we might have a noticeable impact on the prediction \n",
    "error.\n",
    "</div>\n",
    "\n",
    "\n",
    "2. With *n_samples* = 5000 and *missing_ratio* = 0.7, we have the **same missing ratio** as in the first case, but the dataset contains **many more instances**. As a result, the differences in the prediction errors are much smaller than in the first case (the training sets after listwise deletion still contain 1500 instances).\n",
    "\n",
    "<div class=\"alert alert-block alert-info\">\n",
    "In this simulation, we assumed that only one feature has missing values, while the other features are complete. The reality might be a bit more complex than that.\n",
    "</div>\n",
    "\n",
    "<div class=\"alert alert-block alert-danger\">\n",
    "<b>Warning:</b> In this simulation, we can measure the difference between the prediction error obtained with a complete training set and with missing values. In real datasets, this difference will be unknown. In general, it <a href=\"https://stefvanbuuren.name/fimd/sec-simplesolutions.html\" target=\"_blank\">would be wrong to justify the use of listwise deletion based on the missing ratio</a>. Listwise deletion is only acceptable if a tiny fraction of instances have missing values. Take home concept: <b>think twice before removing instances from the training set</b>.\n",
    "\n",
    "</div>\n",
    "\n",
    "</div>\n"
   ]
  },
  {
   "cell_type": "markdown",
   "metadata": {
    "colab_type": "text",
    "id": "RUolIciiYz5G"
   },
   "source": [
    "### Univariate feature imputation"
   ]
  },
  {
   "cell_type": "markdown",
   "metadata": {
    "colab_type": "text",
    "id": "C99KEZGtYz5G"
   },
   "source": [
    "A better alternative to listwise deletion is the **imputation** of missing values; that is, missing values are determined (or, **imputed**) by using the observed values in the dataset.\n",
    "\n",
    "One way to impute the missing values of the $i$-th feature is to use the observed values of the $i$-th feature itself; this is called **univariate simple imputation**.\n",
    "\n",
    "<div class=\"alert alert-block alert-info\">\n",
    "Sklearn provides class <a href=\"https://scikit-learn.org/stable/modules/generated/sklearn.impute.SimpleImputer.html\" target=\"_blank\">sklearn.impute.SimpleImputer</a> for univariate feature imputation.\n",
    "</div>\n",
    "\n",
    "Different **imputation strategies** exist. One possibility is to replace the missing values of the $i$-th feature with the **mean** of the observed values of the $i$-th feature; other strategies use the **median**, the **most frequent value** or a **constant value**. While the first two can only be used for numeric values, the latter can be used with categorical values too. \n",
    "\n",
    "The code in the following cell:\n",
    "\n",
    "1. Generates a regression problem with 1000 instances and 10 features. \n",
    "\n",
    "2. Generates some missing data (MCAR) in the feature with index 1 (*missing ratio* = 0.7). \n",
    "\n",
    "3. Prints mean and standard deviation of the observed values of feature 1.\n",
    "\n",
    "4. Prints the Pearson correlation coefficient between the feature 1 and the target variable y.\n",
    "\n",
    "<div class=\"alert alert-block alert-info\">\n",
    "\n",
    "Pearson’s correlation coefficient $r$ is a statistical measure of the strength of a linear relationship between two features $X$ and $Y$. It is defined by the following formula:\n",
    "\n",
    "$$r_{X, Y} = \\frac{cov(X, Y)}{\\sigma_X \\sigma_Y}$$\n",
    "\n",
    "where:\n",
    "\n",
    "* $cov(X, Y)$ is the **covariance**.\n",
    "* $\\sigma_X$ is the **standard deviation** of $X$.\n",
    "* $\\sigma_Y$ is the **standard deviation** of $Y$.\n",
    "\n",
    "By definition, $-1 \\leq r \\leq 1$.\n",
    "\n",
    "* Positive values denote positive linear correlation.\n",
    "\n",
    "* Negative values denote negative linear correlation.\n",
    "\n",
    "* A value of 0 denotes no linear correlation.\n",
    "\n",
    "* The stronger the value is to 1 or -1, the stronger the linear correlation.\n",
    "\n",
    "**Caution.** The existence of a strong correlation between $X$ and $Y$ **does not imply** a causal link between the features.\n",
    "\n",
    "We can describe the strength of the correlation using the guide suggested by Evans in his book *Straightforward statistics for the behavioral sciences* (1996):\n",
    "\n",
    "* $0 \\leq |r| \\leq 0.19$: very weak correlation.\n",
    "\n",
    "* $0.2 \\leq |r| \\leq 0.39$: weak correlation.\n",
    "\n",
    "* $0.4 \\leq |r| \\leq 0.59$: moderate correlation.\n",
    "\n",
    "* $0.6 \\leq |r| \\leq 0.79$: strong correlation.\n",
    "\n",
    "* $0.8 \\leq |r| \\leq 1$: very strong correlation.\n",
    "\n",
    "\n",
    "**Source**: https://www.statstutor.ac.uk/resources/uploaded/pearsons.pdf\n",
    "\n",
    "</div>\n",
    "\n",
    "<div class=\"alert alert-block alert-success\">\n",
    "<b>Question 7.</b> \n",
    "Compare mean, standard deviation, the correlation coefficients and the histograms of the observed and imputed values.\n",
    "</div>"
   ]
  },
  {
   "cell_type": "code",
   "execution_count": null,
   "metadata": {
    "colab": {},
    "colab_type": "code",
    "id": "HVzgaIdOYz5G",
    "outputId": "ab1ea214-2034-4cd5-b1fa-da265753ef5e"
   },
   "outputs": [
    {
     "name": "stdout",
     "output_type": "stream",
     "text": [
      "Mean (observed values): -0.006745680645429331\n",
      "Standard deviation (observed values): 0.9945674511943117\n",
      "Pearson correlation coefficient (observed values): 0.17992095820741189\n"
     ]
    },
    {
     "data": {
      "image/png": "[encoded data removed]",
      "text/plain": [
       "<Figure size 432x288 with 1 Axes>"
      ]
     },
     "metadata": {
      "needs_background": "light",
      "tags": []
     },
     "output_type": "display_data"
    },
    {
     "name": "stdout",
     "output_type": "stream",
     "text": [
      "Mean (imputed values): -0.0067456806454293345\n",
      "Standard deviation (imputed values): 0.5447470279795428\n",
      "Pearson correlation coefficient (imputed values): 0.10046187286057989\n"
     ]
    },
    {
     "data": {
      "image/png": "[encoded data removed]",
      "text/plain": [
       "<Figure size 432x288 with 1 Axes>"
      ]
     },
     "metadata": {
      "needs_background": "light",
      "tags": []
     },
     "output_type": "display_data"
    }
   ],
   "source": [
    "from sklearn.impute import SimpleImputer\n",
    "from scipy.stats.stats import pearsonr  \n",
    "\n",
    "# Generate a dataset.\n",
    "X, y = make_regression(n_samples=10000, n_features=10, noise=20)\n",
    "\n",
    "# Generate some missing values in feature 1.\n",
    "X = mcar(X, 1, missing_ratio=0.7)\n",
    "\n",
    "# We drop the instances with missing values in feature 1.\n",
    "# This way, we can compute some statistics on the observed values only.\n",
    "X_nomissing, y_nomissing = dropnan(X, y, 1)\n",
    "\n",
    "# Compute the Pearson correlation coefficient between the values of feature 1 and \n",
    "# the target variable y. The function pearsonr returns  the correlation coefficient\n",
    "# itself and the p_value, indicating the statistical significance of the correlation.\n",
    "correlation_coefficient, pvalue = pearsonr(X_nomissing[:, 1], y_nomissing)\n",
    "\n",
    "# Print mean, standard deviation and correlation coefficient on the observed values.\n",
    "print(\"Mean (observed values): {}\".format(np.mean(X_nomissing[:, 1])))\n",
    "print(\"Standard deviation (observed values): {}\".format(np.std(X_nomissing[:, 1])))\n",
    "print(\"Pearson correlation coefficient (observed values): {}\".format(correlation_coefficient))\n",
    "\n",
    "# Show the histogram of the values of feature 1.\n",
    "plt.hist(X_nomissing[:, 1])\n",
    "plt.show()\n",
    "\n",
    "# Instantiate a transformer for mean imputation.\n",
    "imp_mean = SimpleImputer(strategy='mean')\n",
    "\n",
    "# Transforms X so that the missing values are determined by mean imputation.\n",
    "# The \"fit\" part is used to compute the mean of the values in X[:, 1]\n",
    "X_mean = imp_mean.fit_transform(X)\n",
    "\n",
    "correlation_coefficient, p_value = pearsonr(X_mean[:, 1], y)\n",
    "\n",
    "print(\"Mean (imputed values): {}\".format(np.mean(X_mean[:, 1])))\n",
    "print(\"Standard deviation (imputed values): {}\".format(np.std(X_mean[:, 1])))\n",
    "print(\"Pearson correlation coefficient (imputed values): {}\".format(correlation_coefficient))\n",
    "\n",
    "plt.hist(X_mean[:, 1])\n",
    "plt.show()"
   ]
  },
  {
   "cell_type": "markdown",
   "metadata": {
    "colab_type": "text",
    "id": "xeeyHEhVYz5J"
   },
   "source": [
    "<div class=\"alert alert-block alert-success\">\n",
    "\n",
    "**Solution.** The distribution of the values of the feature clearly changes.\n",
    "The standard deviation is clearly underestimated. \n",
    "This happens with any value of missing_ratio and any category \n",
    "of missing values (try with MAR and MNAR).\n",
    "\n",
    "The correlation coefficient of the imputed values is clearly lower than the correlation in the observed values.\n",
    "\n",
    "If we lower missing_ratio, we see that the effect of mean imputation on\n",
    "the different metrics is milder. Mean imputation should only be used \n",
    "when a handful of missing values exist for a certain feature.\n",
    "\n",
    "\n",
    "\n",
    "</div>"
   ]
  },
  {
   "cell_type": "markdown",
   "metadata": {
    "colab_type": "text",
    "id": "FAE98dXWYz5J"
   },
   "source": [
    "An object of the class *SimpleImputer* is a transformer and, as such, can be used in a pipeline. The example in the following cell creates a pipeline that replaces the missing values with the mean, standardizes the values and then applies a linear regressor.\n",
    "The pipeline is used on the training and test set of a generated dataset.\n",
    "\n",
    "<div class=\"alert alert-block alert-success\">\n",
    "\n",
    "Read the code below. You'll use the same schema (creation of a pipeline, call of the function $fit$ on the pipeline with the training data, call of the function $predict$ on the pipeline with test data) whenever you'll need to train and evaluate a machine learning model.\n",
    "\n",
    "</div>"
   ]
  },
  {
   "cell_type": "code",
   "execution_count": null,
   "metadata": {
    "colab": {},
    "colab_type": "code",
    "id": "sAeTWLoyYz5J",
    "outputId": "6613c15d-6558-4f6a-89c7-f22d6ec91f3d"
   },
   "outputs": [
    {
     "name": "stdout",
     "output_type": "stream",
     "text": [
      "Prediction error: 10.122370348724889\n"
     ]
    }
   ],
   "source": [
    "# Creates the pipeline.\n",
    "pipeline =  Pipeline([\n",
    "    ('mean_imputer', SimpleImputer(strategy='mean')),\n",
    "    ('std_scaler', StandardScaler()),\n",
    "    ('linreg', SGDRegressor())\n",
    "])\n",
    "\n",
    "# Generate a dataset.\n",
    "X, y = make_regression(n_samples=10000, n_features=10, noise=10)\n",
    "\n",
    "# Obtain a training and test set.\n",
    "X_train, X_test, y_train, y_test = train_test_split(X, y, test_size=0.2)\n",
    "\n",
    "# Generate some missing values in the training set.\n",
    "X_train = mcar(X_train, 1, missing_ratio=0.2)\n",
    "\n",
    "# Train the linear regression model by using the pipeline.\n",
    "pipeline.fit(X_train, y_train)\n",
    "\n",
    "# Make predictions on the test set.\n",
    "predictions = pipeline.predict(X_test)\n",
    "mse = mean_squared_error(y_test, predictions)\n",
    "\n",
    "# Compute the prediction error.\n",
    "print(\"Prediction error: {}\".format(np.sqrt(mse)))"
   ]
  },
  {
   "cell_type": "markdown",
   "metadata": {
    "colab_type": "text",
    "id": "nNbMd3qnYz5L"
   },
   "source": [
    "### Multivariate feature imputation"
   ]
  },
  {
   "cell_type": "markdown",
   "metadata": {
    "colab_type": "text",
    "id": "a9Bwu3muYz5M"
   },
   "source": [
    "**Multivariate feature imputation** consists in estimating the missing values of a feature by using the observed values of all the features. \n",
    "\n",
    "<div class=\"alert alert-block alert-info\">\n",
    "Sklearn provides class <a href=\"https://scikit-learn.org/stable/modules/generated/sklearn.impute.IterativeImputer.html#sklearn.impute.IterativeImputer\" target=\"_blank\">sklearn.impute.IterativeImputer</a> for multivariate feature imputation.\n",
    "This imputer is, however, still in the <b>experimental phase</b>.\n",
    "</div>\n",
    "\n",
    "The Sklearn implementation works in an iterative way. At each step, a feature with missing values is selected as a target variable $y$ and a regressor is trained on $(X, y)$ for known values of $y$; the trained regressor is then used to predict the missing values of $y$. After predicting the value of all features with missing values, the same procedure is repeated for $max\\_iter$ rounds.\n",
    "\n",
    "In the following cell, we generate a dataset with 10,000 samples, **1 explanatory feature** ($X$ is a 10,000 $\\times$ 1 vector) and **1 dependent variable** ($y$ is a 10,000 $\\times$ 1 vector).\n",
    "We then generate some missing values in the explanatory feature and we impute the values with **regression imputation** imputation by using the class *IterativeImputer*. \n",
    "\n",
    "\n",
    "<div class=\"alert alert-block alert-success\">\n",
    "<b>Question 8.</b> The code in the following cell generates a plot with the observed values of the explanatory feature in blue and the imputed values in red. What do you notice?\n",
    "</div>\n"
   ]
  },
  {
   "cell_type": "code",
   "execution_count": null,
   "metadata": {
    "colab": {},
    "colab_type": "code",
    "id": "IoDoUqNTYz5M",
    "outputId": "6d5a2fdc-057f-44bb-b2cf-abc5f73222e9"
   },
   "outputs": [
    {
     "data": {
      "text/plain": [
       "<matplotlib.legend.Legend at 0x1a269b4f90>"
      ]
     },
     "execution_count": 25,
     "metadata": {
      "tags": []
     },
     "output_type": "execute_result"
    },
    {
     "data": {
      "image/png": "[encoded data removed]",
      "text/plain": [
       "<Figure size 432x288 with 1 Axes>"
      ]
     },
     "metadata": {
      "needs_background": "light",
      "tags": []
     },
     "output_type": "display_data"
    }
   ],
   "source": [
    "from sklearn.experimental import enable_iterative_imputer  # noqa\n",
    "from sklearn.impute import IterativeImputer\n",
    "\n",
    "\n",
    "X, y = make_regression(n_samples=10000, n_features=1, noise=20, random_state=42)\n",
    "X = mcar(X, 0, missing_ratio=0.3)\n",
    "missing_idx = np.isnan(X[:, 0])\n",
    " \n",
    "it_imp = IterativeImputer()\n",
    "X_it_imp = it_imp.fit_transform(np.append(X, np.reshape(y, (-1, 1)), axis=1))\n",
    "plt.plot(X_it_imp[~missing_idx, 0], y[~missing_idx], '.', color='b', label=\"Observed values\")\n",
    "plt.plot(X_it_imp[missing_idx, 0], y[missing_idx], '.', color='r', label=\"Imputed values\")\n",
    "plt.xlabel('Explanatory variable (X)');\n",
    "plt.ylabel('Dependent variable (y)')\n",
    "\n",
    "\n",
    "plt.legend()"
   ]
  },
  {
   "cell_type": "markdown",
   "metadata": {
    "colab_type": "text",
    "id": "4ZknXu8iYz5O"
   },
   "source": [
    "<div class=\"alert alert-block alert-success\">\n",
    "\n",
    "**Solution.** The imputed values are obtained by regression on $(X, y)$. This is why they form a straight line. This kind of imputation should be avoided because it artificially strengthens the relations in the data.\n",
    "\n",
    "</div>"
   ]
  },
  {
   "cell_type": "markdown",
   "metadata": {
    "colab_type": "text",
    "id": "zS0-RWC3Yz5O"
   },
   "source": [
    "The code in the following cell is exactly the same as in the previous cell, except that we pass a parameter $sample\\_posterior=True$. This means that the imputed values are obtained by applying linear regression and artificially adding  some Gaussian noise. This technique is known as **stochastic regression imputation**.\n",
    "\n",
    "<div class=\"alert alert-block alert-success\">\n",
    "<b>Question 9.</b> How does the plot change with respect with the plot in the previous question?\n",
    "</div>"
   ]
  },
  {
   "cell_type": "code",
   "execution_count": null,
   "metadata": {
    "colab": {},
    "colab_type": "code",
    "id": "bErrztodYz5P",
    "outputId": "fd87f1e7-da32-4a27-face-13aa43dd43b3"
   },
   "outputs": [
    {
     "data": {
      "text/plain": [
       "<matplotlib.legend.Legend at 0x1a2624b590>"
      ]
     },
     "execution_count": 26,
     "metadata": {
      "tags": []
     },
     "output_type": "execute_result"
    },
    {
     "data": {
      "image/png": "[encoded data removed]",
      "text/plain": [
       "<Figure size 432x288 with 1 Axes>"
      ]
     },
     "metadata": {
      "needs_background": "light",
      "tags": []
     },
     "output_type": "display_data"
    }
   ],
   "source": [
    "X, y = make_regression(n_samples=10000, n_features=1, noise=20, random_state=42)\n",
    "X = mcar(X, 0, missing_ratio=0.3)\n",
    "missing_idx = np.isnan(X[:, 0])\n",
    " \n",
    "it_imp = IterativeImputer(sample_posterior=True)\n",
    "X_it_imp = it_imp.fit_transform(np.append(X, np.reshape(y, (-1, 1)), axis=1))\n",
    "plt.plot(X_it_imp[~missing_idx, 0], y[~missing_idx], '.', color='b', label=\"Observed values\")\n",
    "plt.plot(X_it_imp[missing_idx, 0], y[missing_idx], '.', color='r', label=\"Imputed values\")\n",
    "plt.xlabel('Explanatory variable (X)');\n",
    "plt.ylabel('Dependent variable (y)')\n",
    "\n",
    "\n",
    "plt.legend()"
   ]
  },
  {
   "cell_type": "markdown",
   "metadata": {
    "colab_type": "text",
    "id": "tWzOJ49NYz5R"
   },
   "source": [
    "<div class=\"alert alert-block alert-success\">\n",
    "\n",
    "**Solution.** Since some noise is added to the imputed values after regression, the imputed values are not on a straight line anymore and seem to be distributed in a similar way as the observed values. This example shows that stochastic regression imputation is a far better way to impute missing values than simple regression.\n",
    "\n",
    "</div>"
   ]
  },
  {
   "cell_type": "markdown",
   "metadata": {
    "colab_type": "text",
    "id": "S0YQJyk8Yz5R"
   },
   "source": [
    "In the following cell we define a function $test\\_imputation$ that executes the same operations as the function $test\\_listwise\\_deletion$ (generation of different datasets to test a linear regression model under different missing values conditions) while using the univariate and multivariate imputation strategies that we've seen in this section. \n",
    "With respect to $test\\_listwise\\_deletion$, this function takes in two more parameters:\n",
    "\n",
    "* mode. The value of this parameter is either \"univariate\" or \"multivariate\".\n",
    "\n",
    "* strategy. If mode=\"univariate\", the value of this parameter is one of the following: \"mean\", \"median\", \"most_frequent\", \"constant\". If mode=\"multivariate\", the value of this parameter is either \"regression\" or \"stochastic\"."
   ]
  },
  {
   "cell_type": "code",
   "execution_count": null,
   "metadata": {
    "colab": {},
    "colab_type": "code",
    "id": "7jyO3fLWYz5R"
   },
   "outputs": [],
   "source": [
    "def test_imputation(n_datasets=10000, n_samples=1000, n_features=10, noise=20, \\\n",
    "                           missing_feature=1, influencing_feature=2, missing_ratio=0.05, \n",
    "                           mode = 'univariate', strategy='mean'):\n",
    "    \n",
    "    '''This function is used to test missing value imputation with either univariate or multivariate imputation.\n",
    "    The function generates n_datasets with n_samples with complete and missing data for each category (MCAR, MAR, MNAR).\n",
    "    For each dataset, it computes the prediction error of a linear regression model trained on the training sets with\n",
    "    complete and missing data (after listwise deletion). Print the prediction error averaged over the number of \n",
    "    datasets.\n",
    "    \n",
    "    Parameters\n",
    "    ----------\n",
    "        n_datasets : int\n",
    "            The number of generated datasers (default: 10000).\n",
    "        n_samples : int\n",
    "            The number of instances in each dataset (default: 1000).\n",
    "        n_features : int\n",
    "            The number of features in each dataset (default: 10).\n",
    "        noise : int\n",
    "            The standard deviation of the noise added to the generated instances.\n",
    "        missing_feature : int\n",
    "            The index of the feature that will contain missing data.\n",
    "        influencing_feature : int\n",
    "            The index of the feature that determines the missingness in the missing_feature (default:2).\n",
    "            This is used to generate MAR missing values.\n",
    "        missing_ratio: float\n",
    "            The ratio (values between 0 and 1) \n",
    "            of missing values over the total number of instances (default: 0.05).\n",
    "        mode : string\n",
    "            Univariate or multivariate.\n",
    "        strategy: string\n",
    "            If mode=\"univariate\", strategy can take any of the following values: \"mean\", \"median\", \"most_frequent\", \n",
    "            \"constant\".\n",
    "            If mode=\"multivariate\", strategy can take any of the following values: \"regression\", \"stochastic\".\n",
    "        \n",
    "    '''\n",
    "    \n",
    "    # The prediction errors averaged over the generated datasets.\n",
    "    average_prediction_errors = {}\n",
    "    \n",
    "    progress = 0\n",
    "    \n",
    "    print_progress_bar(progress, int(n_datasets/100), prefix = 'Progress:', suffix = 'Complete', length = 50)\n",
    "    \n",
    "    # Sample n_datasets\n",
    "    for i in range(n_datasets):\n",
    "        \n",
    "        # Generate a dataset with training sets with complete and misssing values.\n",
    "        training_sets, X_test, y_test = generate_dataset(n_samples=n_samples, n_features=n_features, noise=noise, \\\n",
    "                                                         missing_feature=missing_feature, influencing_feature=influencing_feature, \\\n",
    "                                                         missing_ratio=missing_ratio)\n",
    "\n",
    "        # We impute the missing values with the selected strategy\n",
    "        if mode == \"multivariate\":\n",
    "            for key, value in training_sets.items():\n",
    "                it_imp = IterativeImputer(sample_posterior=(strategy==\"stochastic\"))\n",
    "                X_train = it_imp.fit_transform(np.append(value[0], np.reshape(value[1], (-1, 1)), axis=1))\n",
    "                X_train = np.delete(X_train, -1, axis=1)\n",
    "                training_sets[key] = (X_train, value[1])\n",
    "        else:\n",
    "            for key, value in training_sets.items():\n",
    "                imp = SimpleImputer(strategy=strategy)\n",
    "                training_sets[key] = (imp.fit_transform(value[0]), value[1])\n",
    "            \n",
    "        # Test the prediction errors of the regression models trained on the training sets.\n",
    "        prediction_errors = test_linear_regression_models(training_sets, X_test, y_test)\n",
    "        \n",
    "        # Update the count of prediction errors in order to compute the average.\n",
    "        for key, value in prediction_errors.items():\n",
    "            if key not in average_prediction_errors :\n",
    "                average_prediction_errors[key] = value\n",
    "            else:\n",
    "                average_prediction_errors[key] += value \n",
    "                \n",
    "        # Update the progress bar\n",
    "        if i % int(n_datasets/100) == 0:\n",
    "            progress += 1\n",
    "            print_progress_bar(progress, int(n_datasets/100), prefix = 'Progress:', suffix = 'Complete', length = 50)\n",
    "    \n",
    "    # Compute the average of the prediction errors.\n",
    "    for key in average_prediction_errors.keys():\n",
    "        average_prediction_errors[key] /= n_datasets\n",
    "    \n",
    "    print(\"\\nPrediction error with no missing data {}\".format(average_prediction_errors[NO_MISSING]))\n",
    "    print(\"Prediction error with MCAR DATA {}\".format(average_prediction_errors[MCAR]))\n",
    "    print(\"Prediction error with MAR DATA {}\".format(average_prediction_errors[MAR]))\n",
    "    print(\"Prediction error with MNAR DATA {}\".format(average_prediction_errors[MNAR]))\n"
   ]
  },
  {
   "cell_type": "markdown",
   "metadata": {
    "colab_type": "text",
    "id": "qir_zujqYz5T"
   },
   "source": [
    "<div class=\"alert alert-block alert-success\">\n",
    "\n",
    "**Question 10.** Execute the four following cells in order get the average prediction error of a linear regressor trained on 10,000 different datasets by applying respectively:\n",
    "\n",
    "1. Listwise deletion (as we did before).\n",
    "\n",
    "2. Mean imputation.\n",
    "\n",
    "3. Regression imputation.\n",
    "\n",
    "4. Stochastic regression imputation.\n",
    "\n",
    "What can you say about the prediction errors in the different scenarios?\n",
    "\n",
    "</div>"
   ]
  },
  {
   "cell_type": "code",
   "execution_count": null,
   "metadata": {
    "colab": {},
    "colab_type": "code",
    "id": "TJA4kubcYz5T",
    "outputId": "9cc7e30a-a272-46f3-fbe7-9b5bc0129de7"
   },
   "outputs": [
    {
     "name": "stdout",
     "output_type": "stream",
     "text": [
      "Progress: |██████████████████████████████████████████████████| 100.0% Complete\n",
      "\n",
      "Prediction error with no missing data 405.7539840897432\n",
      "Prediction error with MCAR DATA 419.65351851516357\n",
      "Prediction error with MAR DATA 435.6453227118657\n",
      "Prediction error with MNAR DATA 436.0875563078833\n"
     ]
    }
   ],
   "source": [
    "# Tests listwise deletion (same as before).\n",
    "test_listwise_deletion(missing_ratio=0.7)"
   ]
  },
  {
   "cell_type": "code",
   "execution_count": null,
   "metadata": {
    "colab": {},
    "colab_type": "code",
    "id": "0AtbPF8fYz5V",
    "outputId": "a4ae8d9e-5150-43f7-cf45-6d2f13db1416"
   },
   "outputs": [
    {
     "name": "stdout",
     "output_type": "stream",
     "text": [
      "Progress: |██████████████████████████████████████████████████| 100.0% Complete\n",
      "\n",
      "Prediction error with no missing data 404.73340168703703\n",
      "Prediction error with MCAR DATA 443.2593401003942\n",
      "Prediction error with MAR DATA 443.8036035144263\n",
      "Prediction error with MNAR DATA 3613.8517448462544\n"
     ]
    }
   ],
   "source": [
    "# Test mean imputation.\n",
    "test_imputation(missing_ratio=0.7)"
   ]
  },
  {
   "cell_type": "code",
   "execution_count": null,
   "metadata": {
    "colab": {},
    "colab_type": "code",
    "id": "HtA2KVVvYz5X",
    "outputId": "3ba188f4-8626-49dd-895a-fdbada0963d6"
   },
   "outputs": [
    {
     "name": "stdout",
     "output_type": "stream",
     "text": [
      "Progress: |██████████████████████████████████████████████████| 100.0% Complete\n",
      "\n",
      "Prediction error with no missing data 405.6652119803672\n",
      "Prediction error with MCAR DATA 467.5441090170348\n",
      "Prediction error with MAR DATA 481.3914736812435\n",
      "Prediction error with MNAR DATA 2180.9609764742154\n"
     ]
    }
   ],
   "source": [
    "# Test multivariate regression imputation.\n",
    "test_imputation(missing_ratio=0.7, mode=\"multivariate\", strategy=\"regression\")"
   ]
  },
  {
   "cell_type": "markdown",
   "metadata": {
    "colab_type": "text",
    "id": "iCMf-kiHYz5Z"
   },
   "source": [
    "<div class=\"alert alert-block alert-warning\">\n",
    "Running the following cell will take much longer than the previous ones.\n",
    "</div>"
   ]
  },
  {
   "cell_type": "code",
   "execution_count": null,
   "metadata": {
    "colab": {},
    "colab_type": "code",
    "id": "0ZNRCwztYz5Z",
    "outputId": "a3645cf2-5e9e-43cd-eeee-9723eb02043b"
   },
   "outputs": [
    {
     "name": "stdout",
     "output_type": "stream",
     "text": [
      "Progress: |██████████████████████████████████████████████████| 100.0% Complete\n",
      "\n",
      "Prediction error with no missing data 405.8498851433009\n",
      "Prediction error with MCAR DATA 419.80422359416633\n",
      "Prediction error with MAR DATA 429.9705526751611\n",
      "Prediction error with MNAR DATA 1214.8852487479896\n"
     ]
    }
   ],
   "source": [
    "# Test multivariate stochastic regression imputation.\n",
    "test_imputation(missing_ratio=0.7, mode=\"multivariate\", strategy=\"stochastic\")"
   ]
  },
  {
   "cell_type": "markdown",
   "metadata": {
    "colab_type": "text",
    "id": "vvML5rsHYz5c"
   },
   "source": [
    "<div class=\"alert alert-block alert-success\">\n",
    "\n",
    "**Solution.** \n",
    "\n",
    "1. Mean imputation is slightly worse than listwise deletion. Imputing the mean seems to be worse than dropping all the instances with missing values. This is especially true for MNAR data.\n",
    "\n",
    "2. Regression imputation is worse than mean imputation. This is consistent with what is said about regression imputation: a dangerous method, that artificially strengthens the relations in the data.\n",
    "\n",
    "3. Stochastic regression imputation is definitely the best choice, especially for MAR data. Indeed, for MAR data this method yields a better prediction error than listwise deletion. \n",
    "\n",
    "4. Prediction errors are high for MNAR data with all strategies, except listwise deletion. This confirms that MNAR data are particularly difficult to handle.\n",
    "\n",
    "</div>"
   ]
  }
 ],
 "metadata": {
  "colab": {
   "name": "td1-corrige.ipynb",
   "provenance": []
  },
  "kernelspec": {
   "display_name": "Python 3",
   "language": "python",
   "name": "python3"
  },
  "language_info": {
   "codemirror_mode": {
    "name": "ipython",
    "version": 3
   },
   "file_extension": ".py",
   "mimetype": "text/x-python",
   "name": "python",
   "nbconvert_exporter": "python",
   "pygments_lexer": "ipython3",
   "version": "3.7.3"
  },
  "nav_menu": {
   "height": "279px",
   "width": "309px"
  },
  "toc": {
   "nav_menu": {},
   "number_sections": true,
   "sideBar": true,
   "skip_h1_title": false,
   "toc_cell": false,
   "toc_position": {},
   "toc_section_display": "block",
   "toc_window_display": false
  }
 },
 "nbformat": 4,
 "nbformat_minor": 1
}
