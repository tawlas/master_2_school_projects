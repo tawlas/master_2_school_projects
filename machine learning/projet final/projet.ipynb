{
 "cells": [
  {
   "cell_type": "code",
   "execution_count": 3,
   "metadata": {},
   "outputs": [
    {
     "name": "stdout",
     "output_type": "stream",
     "text": [
      "4.0\n"
     ]
    }
   ],
   "source": [
    "import numpy as np\n",
    "a = np.array([1,2,3,4,5])\n",
    "p = np.percentile(a, 7) # return 50th percentile, e.g median.\n",
    "print(p)"
   ]
  },
  {
   "cell_type": "code",
   "execution_count": 5,
   "metadata": {},
   "outputs": [],
   "source": [
    "import pandas as pd\n",
    "a = pd.DataFrame(columns=[\"f1-score\", \"model\"])\n",
    "a.loc[1] = {\"f1-score\":12, \"model\":[\"2\", \"3\"]}"
   ]
  },
  {
   "cell_type": "code",
   "execution_count": 6,
   "metadata": {},
   "outputs": [
    {
     "data": {
      "text/html": [
       "<div>\n",
       "<style scoped>\n",
       "    .dataframe tbody tr th:only-of-type {\n",
       "        vertical-align: middle;\n",
       "    }\n",
       "\n",
       "    .dataframe tbody tr th {\n",
       "        vertical-align: top;\n",
       "    }\n",
       "\n",
       "    .dataframe thead th {\n",
       "        text-align: right;\n",
       "    }\n",
       "</style>\n",
       "<table border=\"1\" class=\"dataframe\">\n",
       "  <thead>\n",
       "    <tr style=\"text-align: right;\">\n",
       "      <th></th>\n",
       "      <th>f1-score</th>\n",
       "      <th>model</th>\n",
       "    </tr>\n",
       "  </thead>\n",
       "  <tbody>\n",
       "    <tr>\n",
       "      <th>1</th>\n",
       "      <td>12</td>\n",
       "      <td>[2, 3]</td>\n",
       "    </tr>\n",
       "  </tbody>\n",
       "</table>\n",
       "</div>"
      ],
      "text/plain": [
       "  f1-score   model\n",
       "1       12  [2, 3]"
      ]
     },
     "execution_count": 6,
     "metadata": {},
     "output_type": "execute_result"
    }
   ],
   "source": [
    "a"
   ]
  },
  {
   "cell_type": "code",
   "execution_count": 8,
   "metadata": {},
   "outputs": [],
   "source": [
    "folds = np.random.choice(10, size = 15, replace = True)"
   ]
  },
  {
   "cell_type": "code",
   "execution_count": 11,
   "metadata": {},
   "outputs": [
    {
     "data": {
      "text/plain": [
       "array([2, 6, 6, 2, 2, 7, 7, 3, 3, 8, 9, 7, 1, 3, 8])"
      ]
     },
     "execution_count": 11,
     "metadata": {},
     "output_type": "execute_result"
    }
   ],
   "source": [
    "folds"
   ]
  },
  {
   "cell_type": "code",
   "execution_count": null,
   "metadata": {},
   "outputs": [],
   "source": []
  },
  {
   "cell_type": "code",
   "execution_count": null,
   "metadata": {},
   "outputs": [],
   "source": []
  },
  {
   "cell_type": "code",
   "execution_count": null,
   "metadata": {},
   "outputs": [],
   "source": []
  },
  {
   "cell_type": "code",
   "execution_count": 92,
   "metadata": {},
   "outputs": [],
   "source": [
    "#import statements\n",
    "import os\n",
    "import pandas as pd\n",
    "import numpy as np\n",
    "from sklearn.datasets import fetch_lfw_people\n",
    "import matplotlib.pyplot as plt\n",
    "from collections import Counter\n",
    "%matplotlib inline\n",
    "from sklearn.model_selection import train_test_split\n",
    "\n",
    "from sklearn.preprocessing import scale \n",
    "from sklearn import model_selection\n",
    "from sklearn.decomposition import PCA\n",
    "from sklearn.linear_model import LinearRegression\n",
    "from sklearn.cross_decomposition import PLSRegression, PLSSVD\n",
    "from sklearn.metrics import mean_squared_error\n",
    "\n",
    "# Some libraries for PCA visualization\n",
    "import seaborn as sns \n",
    "#Make Plotly figure\n",
    "import chart_studio.plotly as py\n",
    "# Be aware, plotly may be installed using pip on your shell:\n",
    "# conda install -c plotly chart-studio\n",
    "import plotly.graph_objs as go\n",
    "from sklearn.preprocessing import StandardScaler\n",
    "\n",
    "from sklearn.svm import SVC\n",
    "from sklearn.svm import LinearSVC\n",
    "from sklearn.metrics import f1_score\n",
    "\n",
    "from tqdm import tqdm\n",
    "import random\n"
   ]
  },
  {
   "cell_type": "code",
   "execution_count": 77,
   "metadata": {},
   "outputs": [
    {
     "name": "stderr",
     "output_type": "stream",
     "text": [
      "Downloading LFW metadata: https://ndownloader.figshare.com/files/5976012\n",
      "Downloading LFW metadata: https://ndownloader.figshare.com/files/5976009\n",
      "Downloading LFW metadata: https://ndownloader.figshare.com/files/5976006\n",
      "Downloading LFW data (~200MB): https://ndownloader.figshare.com/files/5976015\n"
     ]
    }
   ],
   "source": [
    "data_dir = os.path.join(\".\")\n",
    "dataset = fetch_lfw_people(data_dir)"
   ]
  },
  {
   "cell_type": "code",
   "execution_count": 4,
   "metadata": {
    "collapsed": true
   },
   "outputs": [
    {
     "data": {
      "text/plain": [
       "{'data': array([[ 34.      ,  29.333334,  22.333334, ...,  14.666667,  16.      ,\n",
       "          14.      ],\n",
       "        [158.      , 160.66667 , 169.66667 , ..., 138.66667 , 135.33333 ,\n",
       "         130.33333 ],\n",
       "        [ 77.      ,  81.333336,  88.      , ..., 192.      , 145.33333 ,\n",
       "          66.333336],\n",
       "        ...,\n",
       "        [ 38.      ,  41.666668,  55.333332, ...,  66.      ,  63.666668,\n",
       "          54.333332],\n",
       "        [ 16.666666,  24.333334,  60.333332, ..., 219.      , 143.33333 ,\n",
       "          69.333336],\n",
       "        [ 58.333332,  48.      ,  20.      , ..., 116.      , 106.333336,\n",
       "         143.33333 ]], dtype=float32),\n",
       " 'images': array([[[ 34.      ,  29.333334,  22.333334, ...,  20.      ,\n",
       "           25.666666,  30.666666],\n",
       "         [ 37.333332,  32.      ,  25.333334, ...,  21.      ,\n",
       "           26.666666,  32.      ],\n",
       "         [ 33.333332,  32.333332,  40.333332, ...,  23.666666,\n",
       "           28.      ,  35.666668],\n",
       "         ...,\n",
       "         [166.      ,  97.      ,  44.333332, ...,   9.666667,\n",
       "           14.333333,  12.333333],\n",
       "         [ 64.      ,  38.666668,  30.      , ...,  12.666667,\n",
       "           16.      ,  14.      ],\n",
       "         [ 30.666666,  29.      ,  26.333334, ...,  14.666667,\n",
       "           16.      ,  14.      ]],\n",
       " \n",
       "        [[158.      , 160.66667 , 169.66667 , ...,  74.333336,\n",
       "           28.      ,  15.666667],\n",
       "         [156.      , 155.33333 , 163.33333 , ...,  83.      ,\n",
       "           25.666666,  14.      ],\n",
       "         [146.66667 , 143.66667 , 144.66667 , ...,  82.333336,\n",
       "           26.      ,  14.666667],\n",
       "         ...,\n",
       "         [118.666664, 120.      , 170.      , ..., 131.33333 ,\n",
       "          127.333336, 126.      ],\n",
       "         [125.      , 117.666664, 141.33333 , ..., 133.33333 ,\n",
       "          132.      , 129.33333 ],\n",
       "         [128.66667 , 122.666664, 121.666664, ..., 138.66667 ,\n",
       "          135.33333 , 130.33333 ]],\n",
       " \n",
       "        [[ 77.      ,  81.333336,  88.      , ...,  71.      ,\n",
       "           80.666664,  65.333336],\n",
       "         [ 77.666664,  89.      , 104.666664, ...,  75.666664,\n",
       "           72.      ,  69.      ],\n",
       "         [ 83.      ,  97.      , 117.      , ...,  80.333336,\n",
       "           80.333336,  66.      ],\n",
       "         ...,\n",
       "         [ 13.333333,  16.      ,  32.      , ..., 183.66667 ,\n",
       "          131.      ,  58.333332],\n",
       "         [ 46.333332,  70.      ,  94.333336, ..., 188.66667 ,\n",
       "          143.66667 ,  65.      ],\n",
       "         [112.333336, 122.      , 118.      , ..., 192.      ,\n",
       "          145.33333 ,  66.333336]],\n",
       " \n",
       "        ...,\n",
       " \n",
       "        [[ 38.      ,  41.666668,  55.333332, ...,  28.666666,\n",
       "           26.333334,  29.333334],\n",
       "         [ 46.666668,  49.333332,  60.666668, ...,  30.333334,\n",
       "           26.333334,  31.      ],\n",
       "         [ 50.333332,  53.666668,  63.      , ...,  32.333332,\n",
       "           27.666666,  34.333332],\n",
       "         ...,\n",
       "         [ 71.      , 123.      , 204.66667 , ...,  58.333332,\n",
       "           47.      ,  38.      ],\n",
       "         [ 70.666664,  85.666664, 148.66667 , ...,  64.      ,\n",
       "           57.666668,  46.666668],\n",
       "         [ 70.333336,  71.666664,  97.333336, ...,  66.      ,\n",
       "           63.666668,  54.333332]],\n",
       " \n",
       "        [[ 16.666666,  24.333334,  60.333332, ..., 177.33333 ,\n",
       "          175.      , 174.33333 ],\n",
       "         [ 16.333334,  22.333334,  55.666668, ..., 177.33333 ,\n",
       "          174.66667 , 174.      ],\n",
       "         [ 18.333334,  25.666666,  61.      , ..., 175.33333 ,\n",
       "          172.66667 , 172.33333 ],\n",
       "         ...,\n",
       "         [ 21.666666,  21.333334,  22.666666, ..., 221.33333 ,\n",
       "          132.66667 ,  52.      ],\n",
       "         [ 22.      ,  21.666666,  22.333334, ..., 219.      ,\n",
       "          137.      ,  59.      ],\n",
       "         [ 22.333334,  22.      ,  22.666666, ..., 219.      ,\n",
       "          143.33333 ,  69.333336]],\n",
       " \n",
       "        [[ 58.333332,  48.      ,  20.      , ...,  66.      ,\n",
       "          101.666664,  94.666664],\n",
       "         [ 62.      ,  32.666668,  26.333334, ...,  50.      ,\n",
       "           89.666664, 101.333336],\n",
       "         [ 56.333332,  29.333334,  47.      , ...,  55.333332,\n",
       "           76.666664, 106.333336],\n",
       "         ...,\n",
       "         [116.333336, 106.333336,  95.      , ..., 113.333336,\n",
       "          100.333336,  88.      ],\n",
       "         [116.666664, 104.666664,  93.333336, ..., 115.666664,\n",
       "          103.666664, 112.      ],\n",
       "         [116.333336, 104.      ,  95.333336, ..., 116.      ,\n",
       "          106.333336, 143.33333 ]]], dtype=float32),\n",
       " 'target': array([5360, 3434, 3807, ..., 2175,  373, 2941]),\n",
       " 'target_names': array(['AJ Cook', 'AJ Lamas', 'Aaron Eckhart', ..., 'Zumrati Juma',\n",
       "        'Zurab Tsereteli', 'Zydrunas Ilgauskas'], dtype='<U35'),\n",
       " 'DESCR': \".. _labeled_faces_in_the_wild_dataset:\\n\\nThe Labeled Faces in the Wild face recognition dataset\\n------------------------------------------------------\\n\\nThis dataset is a collection of JPEG pictures of famous people collected\\nover the internet, all details are available on the official website:\\n\\n    http://vis-www.cs.umass.edu/lfw/\\n\\nEach picture is centered on a single face. The typical task is called\\nFace Verification: given a pair of two pictures, a binary classifier\\nmust predict whether the two images are from the same person.\\n\\nAn alternative task, Face Recognition or Face Identification is:\\ngiven the picture of the face of an unknown person, identify the name\\nof the person by referring to a gallery of previously seen pictures of\\nidentified persons.\\n\\nBoth Face Verification and Face Recognition are tasks that are typically\\nperformed on the output of a model trained to perform Face Detection. The\\nmost popular model for Face Detection is called Viola-Jones and is\\nimplemented in the OpenCV library. The LFW faces were extracted by this\\nface detector from various online websites.\\n\\n**Data Set Characteristics:**\\n\\n    =================   =======================\\n    Classes                                5749\\n    Samples total                         13233\\n    Dimensionality                         5828\\n    Features            real, between 0 and 255\\n    =================   =======================\\n\\nUsage\\n~~~~~\\n\\n``scikit-learn`` provides two loaders that will automatically download,\\ncache, parse the metadata files, decode the jpeg and convert the\\ninteresting slices into memmapped numpy arrays. This dataset size is more\\nthan 200 MB. The first load typically takes more than a couple of minutes\\nto fully decode the relevant part of the JPEG files into numpy arrays. If\\nthe dataset has  been loaded once, the following times the loading times\\nless than 200ms by using a memmapped version memoized on the disk in the\\n``~/scikit_learn_data/lfw_home/`` folder using ``joblib``.\\n\\nThe first loader is used for the Face Identification task: a multi-class\\nclassification task (hence supervised learning)::\\n\\n  >>> from sklearn.datasets import fetch_lfw_people\\n  >>> lfw_people = fetch_lfw_people(min_faces_per_person=70, resize=0.4)\\n\\n  >>> for name in lfw_people.target_names:\\n  ...     print(name)\\n  ...\\n  Ariel Sharon\\n  Colin Powell\\n  Donald Rumsfeld\\n  George W Bush\\n  Gerhard Schroeder\\n  Hugo Chavez\\n  Tony Blair\\n\\nThe default slice is a rectangular shape around the face, removing\\nmost of the background::\\n\\n  >>> lfw_people.data.dtype\\n  dtype('float32')\\n\\n  >>> lfw_people.data.shape\\n  (1288, 1850)\\n\\n  >>> lfw_people.images.shape\\n  (1288, 50, 37)\\n\\nEach of the ``1140`` faces is assigned to a single person id in the ``target``\\narray::\\n\\n  >>> lfw_people.target.shape\\n  (1288,)\\n\\n  >>> list(lfw_people.target[:10])\\n  [5, 6, 3, 1, 0, 1, 3, 4, 3, 0]\\n\\nThe second loader is typically used for the face verification task: each sample\\nis a pair of two picture belonging or not to the same person::\\n\\n  >>> from sklearn.datasets import fetch_lfw_pairs\\n  >>> lfw_pairs_train = fetch_lfw_pairs(subset='train')\\n\\n  >>> list(lfw_pairs_train.target_names)\\n  ['Different persons', 'Same person']\\n\\n  >>> lfw_pairs_train.pairs.shape\\n  (2200, 2, 62, 47)\\n\\n  >>> lfw_pairs_train.data.shape\\n  (2200, 5828)\\n\\n  >>> lfw_pairs_train.target.shape\\n  (2200,)\\n\\nBoth for the :func:`sklearn.datasets.fetch_lfw_people` and\\n:func:`sklearn.datasets.fetch_lfw_pairs` function it is\\npossible to get an additional dimension with the RGB color channels by\\npassing ``color=True``, in that case the shape will be\\n``(2200, 2, 62, 47, 3)``.\\n\\nThe :func:`sklearn.datasets.fetch_lfw_pairs` datasets is subdivided into\\n3 subsets: the development ``train`` set, the development ``test`` set and\\nan evaluation ``10_folds`` set meant to compute performance metrics using a\\n10-folds cross validation scheme.\\n\\n.. topic:: References:\\n\\n * `Labeled Faces in the Wild: A Database for Studying Face Recognition\\n   in Unconstrained Environments.\\n   <http://vis-www.cs.umass.edu/lfw/lfw.pdf>`_\\n   Gary B. Huang, Manu Ramesh, Tamara Berg, and Erik Learned-Miller.\\n   University of Massachusetts, Amherst, Technical Report 07-49, October, 2007.\\n\\n\\nExamples\\n~~~~~~~~\\n\\n:ref:`sphx_glr_auto_examples_applications_plot_face_recognition.py`\\n\"}"
      ]
     },
     "execution_count": 4,
     "metadata": {},
     "output_type": "execute_result"
    }
   ],
   "source": [
    "dataset"
   ]
  },
  {
   "cell_type": "code",
   "execution_count": 5,
   "metadata": {},
   "outputs": [],
   "source": [
    "# target = dataset[\"target\"]\n",
    "# data = dataset[\"data\"]"
   ]
  },
  {
   "cell_type": "code",
   "execution_count": 10,
   "metadata": {},
   "outputs": [
    {
     "data": {
      "text/plain": [
       "5749"
      ]
     },
     "execution_count": 10,
     "metadata": {},
     "output_type": "execute_result"
    }
   ],
   "source": [
    "target"
   ]
  },
  {
   "cell_type": "code",
   "execution_count": 11,
   "metadata": {},
   "outputs": [],
   "source": [
    "data_df = pd.DataFrame(data)\n",
    "data_df[\"target\"] = target"
   ]
  },
  {
   "cell_type": "code",
   "execution_count": 18,
   "metadata": {
    "collapsed": true
   },
   "outputs": [
    {
     "data": {
      "text/html": [
       "<div>\n",
       "<style scoped>\n",
       "    .dataframe tbody tr th:only-of-type {\n",
       "        vertical-align: middle;\n",
       "    }\n",
       "\n",
       "    .dataframe tbody tr th {\n",
       "        vertical-align: top;\n",
       "    }\n",
       "\n",
       "    .dataframe thead th {\n",
       "        text-align: right;\n",
       "    }\n",
       "</style>\n",
       "<table border=\"1\" class=\"dataframe\">\n",
       "  <thead>\n",
       "    <tr style=\"text-align: right;\">\n",
       "      <th></th>\n",
       "      <th>0</th>\n",
       "      <th>1</th>\n",
       "      <th>2</th>\n",
       "      <th>3</th>\n",
       "      <th>4</th>\n",
       "      <th>5</th>\n",
       "      <th>6</th>\n",
       "      <th>7</th>\n",
       "      <th>8</th>\n",
       "      <th>9</th>\n",
       "      <th>...</th>\n",
       "      <th>2905</th>\n",
       "      <th>2906</th>\n",
       "      <th>2907</th>\n",
       "      <th>2908</th>\n",
       "      <th>2909</th>\n",
       "      <th>2910</th>\n",
       "      <th>2911</th>\n",
       "      <th>2912</th>\n",
       "      <th>2913</th>\n",
       "      <th>target</th>\n",
       "    </tr>\n",
       "  </thead>\n",
       "  <tbody>\n",
       "    <tr>\n",
       "      <th>0</th>\n",
       "      <td>34.000000</td>\n",
       "      <td>29.333334</td>\n",
       "      <td>22.333334</td>\n",
       "      <td>22.000000</td>\n",
       "      <td>25.666666</td>\n",
       "      <td>29.000000</td>\n",
       "      <td>38.666668</td>\n",
       "      <td>68.333336</td>\n",
       "      <td>96.333336</td>\n",
       "      <td>116.666664</td>\n",
       "      <td>...</td>\n",
       "      <td>17.333334</td>\n",
       "      <td>11.000000</td>\n",
       "      <td>8.000000</td>\n",
       "      <td>4.333333</td>\n",
       "      <td>5.666667</td>\n",
       "      <td>11.333333</td>\n",
       "      <td>14.666667</td>\n",
       "      <td>16.000000</td>\n",
       "      <td>14.000000</td>\n",
       "      <td>5360</td>\n",
       "    </tr>\n",
       "    <tr>\n",
       "      <th>1</th>\n",
       "      <td>158.000000</td>\n",
       "      <td>160.666672</td>\n",
       "      <td>169.666672</td>\n",
       "      <td>168.333328</td>\n",
       "      <td>162.666672</td>\n",
       "      <td>161.000000</td>\n",
       "      <td>158.333328</td>\n",
       "      <td>162.666672</td>\n",
       "      <td>163.000000</td>\n",
       "      <td>159.000000</td>\n",
       "      <td>...</td>\n",
       "      <td>198.666672</td>\n",
       "      <td>169.000000</td>\n",
       "      <td>122.000000</td>\n",
       "      <td>106.333336</td>\n",
       "      <td>117.666664</td>\n",
       "      <td>133.000000</td>\n",
       "      <td>138.666672</td>\n",
       "      <td>135.333328</td>\n",
       "      <td>130.333328</td>\n",
       "      <td>3434</td>\n",
       "    </tr>\n",
       "    <tr>\n",
       "      <th>2</th>\n",
       "      <td>77.000000</td>\n",
       "      <td>81.333336</td>\n",
       "      <td>88.000000</td>\n",
       "      <td>108.666664</td>\n",
       "      <td>136.000000</td>\n",
       "      <td>151.333328</td>\n",
       "      <td>155.000000</td>\n",
       "      <td>164.666672</td>\n",
       "      <td>168.000000</td>\n",
       "      <td>172.000000</td>\n",
       "      <td>...</td>\n",
       "      <td>190.666672</td>\n",
       "      <td>219.333328</td>\n",
       "      <td>227.000000</td>\n",
       "      <td>218.666672</td>\n",
       "      <td>210.666672</td>\n",
       "      <td>202.000000</td>\n",
       "      <td>192.000000</td>\n",
       "      <td>145.333328</td>\n",
       "      <td>66.333336</td>\n",
       "      <td>3807</td>\n",
       "    </tr>\n",
       "    <tr>\n",
       "      <th>3</th>\n",
       "      <td>11.333333</td>\n",
       "      <td>11.333333</td>\n",
       "      <td>11.666667</td>\n",
       "      <td>12.666667</td>\n",
       "      <td>13.666667</td>\n",
       "      <td>15.000000</td>\n",
       "      <td>15.000000</td>\n",
       "      <td>13.000000</td>\n",
       "      <td>13.000000</td>\n",
       "      <td>14.000000</td>\n",
       "      <td>...</td>\n",
       "      <td>123.333336</td>\n",
       "      <td>124.000000</td>\n",
       "      <td>121.000000</td>\n",
       "      <td>118.333336</td>\n",
       "      <td>120.666664</td>\n",
       "      <td>123.000000</td>\n",
       "      <td>118.000000</td>\n",
       "      <td>106.333336</td>\n",
       "      <td>92.333336</td>\n",
       "      <td>26</td>\n",
       "    </tr>\n",
       "    <tr>\n",
       "      <th>4</th>\n",
       "      <td>32.333332</td>\n",
       "      <td>31.333334</td>\n",
       "      <td>31.333334</td>\n",
       "      <td>33.666668</td>\n",
       "      <td>33.000000</td>\n",
       "      <td>32.333332</td>\n",
       "      <td>36.333332</td>\n",
       "      <td>43.333332</td>\n",
       "      <td>43.000000</td>\n",
       "      <td>36.000000</td>\n",
       "      <td>...</td>\n",
       "      <td>11.000000</td>\n",
       "      <td>9.000000</td>\n",
       "      <td>12.666667</td>\n",
       "      <td>18.000000</td>\n",
       "      <td>17.666666</td>\n",
       "      <td>17.000000</td>\n",
       "      <td>17.000000</td>\n",
       "      <td>19.666666</td>\n",
       "      <td>22.666666</td>\n",
       "      <td>3957</td>\n",
       "    </tr>\n",
       "  </tbody>\n",
       "</table>\n",
       "<p>5 rows × 2915 columns</p>\n",
       "</div>"
      ],
      "text/plain": [
       "            0           1           2           3           4           5  \\\n",
       "0   34.000000   29.333334   22.333334   22.000000   25.666666   29.000000   \n",
       "1  158.000000  160.666672  169.666672  168.333328  162.666672  161.000000   \n",
       "2   77.000000   81.333336   88.000000  108.666664  136.000000  151.333328   \n",
       "3   11.333333   11.333333   11.666667   12.666667   13.666667   15.000000   \n",
       "4   32.333332   31.333334   31.333334   33.666668   33.000000   32.333332   \n",
       "\n",
       "            6           7           8           9  ...        2905  \\\n",
       "0   38.666668   68.333336   96.333336  116.666664  ...   17.333334   \n",
       "1  158.333328  162.666672  163.000000  159.000000  ...  198.666672   \n",
       "2  155.000000  164.666672  168.000000  172.000000  ...  190.666672   \n",
       "3   15.000000   13.000000   13.000000   14.000000  ...  123.333336   \n",
       "4   36.333332   43.333332   43.000000   36.000000  ...   11.000000   \n",
       "\n",
       "         2906        2907        2908        2909        2910        2911  \\\n",
       "0   11.000000    8.000000    4.333333    5.666667   11.333333   14.666667   \n",
       "1  169.000000  122.000000  106.333336  117.666664  133.000000  138.666672   \n",
       "2  219.333328  227.000000  218.666672  210.666672  202.000000  192.000000   \n",
       "3  124.000000  121.000000  118.333336  120.666664  123.000000  118.000000   \n",
       "4    9.000000   12.666667   18.000000   17.666666   17.000000   17.000000   \n",
       "\n",
       "         2912        2913  target  \n",
       "0   16.000000   14.000000    5360  \n",
       "1  135.333328  130.333328    3434  \n",
       "2  145.333328   66.333336    3807  \n",
       "3  106.333336   92.333336      26  \n",
       "4   19.666666   22.666666    3957  \n",
       "\n",
       "[5 rows x 2915 columns]"
      ]
     },
     "execution_count": 18,
     "metadata": {},
     "output_type": "execute_result"
    }
   ],
   "source": [
    "data_df.head()"
   ]
  },
  {
   "cell_type": "code",
   "execution_count": 19,
   "metadata": {},
   "outputs": [
    {
     "name": "stdout",
     "output_type": "stream",
     "text": [
      "<class 'pandas.core.frame.DataFrame'>\n",
      "RangeIndex: 13233 entries, 0 to 13232\n",
      "Columns: 2915 entries, 0 to target\n",
      "dtypes: float32(2914), int64(1)\n",
      "memory usage: 147.2 MB\n"
     ]
    }
   ],
   "source": [
    "data_df.info()"
   ]
  },
  {
   "cell_type": "code",
   "execution_count": 20,
   "metadata": {},
   "outputs": [
    {
     "data": {
      "text/html": [
       "<div>\n",
       "<style scoped>\n",
       "    .dataframe tbody tr th:only-of-type {\n",
       "        vertical-align: middle;\n",
       "    }\n",
       "\n",
       "    .dataframe tbody tr th {\n",
       "        vertical-align: top;\n",
       "    }\n",
       "\n",
       "    .dataframe thead th {\n",
       "        text-align: right;\n",
       "    }\n",
       "</style>\n",
       "<table border=\"1\" class=\"dataframe\">\n",
       "  <thead>\n",
       "    <tr style=\"text-align: right;\">\n",
       "      <th></th>\n",
       "      <th>0</th>\n",
       "      <th>1</th>\n",
       "      <th>2</th>\n",
       "      <th>3</th>\n",
       "      <th>4</th>\n",
       "      <th>5</th>\n",
       "      <th>6</th>\n",
       "      <th>7</th>\n",
       "      <th>8</th>\n",
       "      <th>9</th>\n",
       "      <th>...</th>\n",
       "      <th>2905</th>\n",
       "      <th>2906</th>\n",
       "      <th>2907</th>\n",
       "      <th>2908</th>\n",
       "      <th>2909</th>\n",
       "      <th>2910</th>\n",
       "      <th>2911</th>\n",
       "      <th>2912</th>\n",
       "      <th>2913</th>\n",
       "      <th>target</th>\n",
       "    </tr>\n",
       "  </thead>\n",
       "  <tbody>\n",
       "    <tr>\n",
       "      <th>count</th>\n",
       "      <td>13233.000000</td>\n",
       "      <td>13233.000000</td>\n",
       "      <td>13233.000000</td>\n",
       "      <td>13233.000000</td>\n",
       "      <td>13233.000000</td>\n",
       "      <td>13233.000000</td>\n",
       "      <td>13233.000000</td>\n",
       "      <td>13233.000000</td>\n",
       "      <td>13233.000000</td>\n",
       "      <td>13233.000000</td>\n",
       "      <td>...</td>\n",
       "      <td>13233.000000</td>\n",
       "      <td>13233.000000</td>\n",
       "      <td>13233.000000</td>\n",
       "      <td>13233.000000</td>\n",
       "      <td>13233.000000</td>\n",
       "      <td>13233.000000</td>\n",
       "      <td>13233.000000</td>\n",
       "      <td>13233.000000</td>\n",
       "      <td>13233.000000</td>\n",
       "      <td>13233.000000</td>\n",
       "    </tr>\n",
       "    <tr>\n",
       "      <th>mean</th>\n",
       "      <td>73.645020</td>\n",
       "      <td>76.609215</td>\n",
       "      <td>82.047195</td>\n",
       "      <td>89.338463</td>\n",
       "      <td>97.436172</td>\n",
       "      <td>105.404922</td>\n",
       "      <td>113.072159</td>\n",
       "      <td>120.380386</td>\n",
       "      <td>127.049438</td>\n",
       "      <td>132.753311</td>\n",
       "      <td>...</td>\n",
       "      <td>104.268295</td>\n",
       "      <td>107.929878</td>\n",
       "      <td>110.543449</td>\n",
       "      <td>111.502693</td>\n",
       "      <td>110.941605</td>\n",
       "      <td>109.213936</td>\n",
       "      <td>106.370956</td>\n",
       "      <td>102.723381</td>\n",
       "      <td>99.468056</td>\n",
       "      <td>2828.316633</td>\n",
       "    </tr>\n",
       "    <tr>\n",
       "      <th>std</th>\n",
       "      <td>50.931728</td>\n",
       "      <td>50.792950</td>\n",
       "      <td>51.222122</td>\n",
       "      <td>52.013630</td>\n",
       "      <td>52.721523</td>\n",
       "      <td>53.071274</td>\n",
       "      <td>52.734890</td>\n",
       "      <td>51.895874</td>\n",
       "      <td>50.904091</td>\n",
       "      <td>49.955223</td>\n",
       "      <td>...</td>\n",
       "      <td>57.433582</td>\n",
       "      <td>60.781528</td>\n",
       "      <td>63.713291</td>\n",
       "      <td>66.012367</td>\n",
       "      <td>67.794731</td>\n",
       "      <td>69.071571</td>\n",
       "      <td>69.742950</td>\n",
       "      <td>70.060181</td>\n",
       "      <td>70.599075</td>\n",
       "      <td>1642.550612</td>\n",
       "    </tr>\n",
       "    <tr>\n",
       "      <th>min</th>\n",
       "      <td>0.000000</td>\n",
       "      <td>0.000000</td>\n",
       "      <td>0.000000</td>\n",
       "      <td>0.000000</td>\n",
       "      <td>0.000000</td>\n",
       "      <td>0.000000</td>\n",
       "      <td>0.000000</td>\n",
       "      <td>0.000000</td>\n",
       "      <td>0.333333</td>\n",
       "      <td>0.000000</td>\n",
       "      <td>...</td>\n",
       "      <td>0.000000</td>\n",
       "      <td>0.000000</td>\n",
       "      <td>0.000000</td>\n",
       "      <td>0.000000</td>\n",
       "      <td>0.000000</td>\n",
       "      <td>0.000000</td>\n",
       "      <td>0.000000</td>\n",
       "      <td>0.000000</td>\n",
       "      <td>0.000000</td>\n",
       "      <td>0.000000</td>\n",
       "    </tr>\n",
       "    <tr>\n",
       "      <th>25%</th>\n",
       "      <td>33.000000</td>\n",
       "      <td>35.666668</td>\n",
       "      <td>40.000000</td>\n",
       "      <td>46.666668</td>\n",
       "      <td>54.666668</td>\n",
       "      <td>63.000000</td>\n",
       "      <td>73.000000</td>\n",
       "      <td>83.333336</td>\n",
       "      <td>92.000000</td>\n",
       "      <td>100.333336</td>\n",
       "      <td>...</td>\n",
       "      <td>61.333332</td>\n",
       "      <td>61.000000</td>\n",
       "      <td>60.000000</td>\n",
       "      <td>57.666668</td>\n",
       "      <td>54.000000</td>\n",
       "      <td>49.333332</td>\n",
       "      <td>45.000000</td>\n",
       "      <td>40.666668</td>\n",
       "      <td>37.333332</td>\n",
       "      <td>1507.000000</td>\n",
       "    </tr>\n",
       "    <tr>\n",
       "      <th>50%</th>\n",
       "      <td>62.666668</td>\n",
       "      <td>67.000000</td>\n",
       "      <td>74.666664</td>\n",
       "      <td>84.666664</td>\n",
       "      <td>96.000000</td>\n",
       "      <td>106.000000</td>\n",
       "      <td>115.000000</td>\n",
       "      <td>124.000000</td>\n",
       "      <td>131.333328</td>\n",
       "      <td>137.666672</td>\n",
       "      <td>...</td>\n",
       "      <td>99.333336</td>\n",
       "      <td>102.333336</td>\n",
       "      <td>104.666664</td>\n",
       "      <td>105.666664</td>\n",
       "      <td>105.000000</td>\n",
       "      <td>102.000000</td>\n",
       "      <td>97.666664</td>\n",
       "      <td>92.000000</td>\n",
       "      <td>86.333336</td>\n",
       "      <td>2688.000000</td>\n",
       "    </tr>\n",
       "    <tr>\n",
       "      <th>75%</th>\n",
       "      <td>105.666664</td>\n",
       "      <td>109.000000</td>\n",
       "      <td>116.666664</td>\n",
       "      <td>125.666664</td>\n",
       "      <td>135.000000</td>\n",
       "      <td>144.000000</td>\n",
       "      <td>151.333328</td>\n",
       "      <td>158.333328</td>\n",
       "      <td>163.333328</td>\n",
       "      <td>168.333328</td>\n",
       "      <td>...</td>\n",
       "      <td>140.000000</td>\n",
       "      <td>147.333328</td>\n",
       "      <td>153.666672</td>\n",
       "      <td>156.666672</td>\n",
       "      <td>159.333328</td>\n",
       "      <td>159.666672</td>\n",
       "      <td>157.333328</td>\n",
       "      <td>153.666672</td>\n",
       "      <td>151.000000</td>\n",
       "      <td>4243.000000</td>\n",
       "    </tr>\n",
       "    <tr>\n",
       "      <th>max</th>\n",
       "      <td>254.000000</td>\n",
       "      <td>254.666672</td>\n",
       "      <td>255.000000</td>\n",
       "      <td>255.000000</td>\n",
       "      <td>255.000000</td>\n",
       "      <td>255.000000</td>\n",
       "      <td>255.000000</td>\n",
       "      <td>255.000000</td>\n",
       "      <td>254.666672</td>\n",
       "      <td>254.333328</td>\n",
       "      <td>...</td>\n",
       "      <td>255.000000</td>\n",
       "      <td>255.000000</td>\n",
       "      <td>255.000000</td>\n",
       "      <td>255.000000</td>\n",
       "      <td>255.000000</td>\n",
       "      <td>255.000000</td>\n",
       "      <td>255.000000</td>\n",
       "      <td>255.000000</td>\n",
       "      <td>255.000000</td>\n",
       "      <td>5748.000000</td>\n",
       "    </tr>\n",
       "  </tbody>\n",
       "</table>\n",
       "<p>8 rows × 2915 columns</p>\n",
       "</div>"
      ],
      "text/plain": [
       "                  0             1             2             3             4  \\\n",
       "count  13233.000000  13233.000000  13233.000000  13233.000000  13233.000000   \n",
       "mean      73.645020     76.609215     82.047195     89.338463     97.436172   \n",
       "std       50.931728     50.792950     51.222122     52.013630     52.721523   \n",
       "min        0.000000      0.000000      0.000000      0.000000      0.000000   \n",
       "25%       33.000000     35.666668     40.000000     46.666668     54.666668   \n",
       "50%       62.666668     67.000000     74.666664     84.666664     96.000000   \n",
       "75%      105.666664    109.000000    116.666664    125.666664    135.000000   \n",
       "max      254.000000    254.666672    255.000000    255.000000    255.000000   \n",
       "\n",
       "                  5             6             7             8             9  \\\n",
       "count  13233.000000  13233.000000  13233.000000  13233.000000  13233.000000   \n",
       "mean     105.404922    113.072159    120.380386    127.049438    132.753311   \n",
       "std       53.071274     52.734890     51.895874     50.904091     49.955223   \n",
       "min        0.000000      0.000000      0.000000      0.333333      0.000000   \n",
       "25%       63.000000     73.000000     83.333336     92.000000    100.333336   \n",
       "50%      106.000000    115.000000    124.000000    131.333328    137.666672   \n",
       "75%      144.000000    151.333328    158.333328    163.333328    168.333328   \n",
       "max      255.000000    255.000000    255.000000    254.666672    254.333328   \n",
       "\n",
       "       ...          2905          2906          2907          2908  \\\n",
       "count  ...  13233.000000  13233.000000  13233.000000  13233.000000   \n",
       "mean   ...    104.268295    107.929878    110.543449    111.502693   \n",
       "std    ...     57.433582     60.781528     63.713291     66.012367   \n",
       "min    ...      0.000000      0.000000      0.000000      0.000000   \n",
       "25%    ...     61.333332     61.000000     60.000000     57.666668   \n",
       "50%    ...     99.333336    102.333336    104.666664    105.666664   \n",
       "75%    ...    140.000000    147.333328    153.666672    156.666672   \n",
       "max    ...    255.000000    255.000000    255.000000    255.000000   \n",
       "\n",
       "               2909          2910          2911          2912          2913  \\\n",
       "count  13233.000000  13233.000000  13233.000000  13233.000000  13233.000000   \n",
       "mean     110.941605    109.213936    106.370956    102.723381     99.468056   \n",
       "std       67.794731     69.071571     69.742950     70.060181     70.599075   \n",
       "min        0.000000      0.000000      0.000000      0.000000      0.000000   \n",
       "25%       54.000000     49.333332     45.000000     40.666668     37.333332   \n",
       "50%      105.000000    102.000000     97.666664     92.000000     86.333336   \n",
       "75%      159.333328    159.666672    157.333328    153.666672    151.000000   \n",
       "max      255.000000    255.000000    255.000000    255.000000    255.000000   \n",
       "\n",
       "             target  \n",
       "count  13233.000000  \n",
       "mean    2828.316633  \n",
       "std     1642.550612  \n",
       "min        0.000000  \n",
       "25%     1507.000000  \n",
       "50%     2688.000000  \n",
       "75%     4243.000000  \n",
       "max     5748.000000  \n",
       "\n",
       "[8 rows x 2915 columns]"
      ]
     },
     "execution_count": 20,
     "metadata": {},
     "output_type": "execute_result"
    }
   ],
   "source": [
    "data_df.describe()"
   ]
  },
  {
   "cell_type": "markdown",
   "metadata": {},
   "source": [
    "### Nombre d'instances par classe"
   ]
  },
  {
   "cell_type": "code",
   "execution_count": 32,
   "metadata": {},
   "outputs": [],
   "source": [
    "# Nombre d'instances par classe\n",
    "instances_per_class = Counter(data_df[\"target\"])"
   ]
  },
  {
   "cell_type": "code",
   "execution_count": 54,
   "metadata": {},
   "outputs": [],
   "source": [
    "instances_per_class_sr = pd.Series(instances_per_class).sort_index()"
   ]
  },
  {
   "cell_type": "code",
   "execution_count": 59,
   "metadata": {},
   "outputs": [
    {
     "name": "stdout",
     "output_type": "stream",
     "text": [
      "count    5749.000000\n",
      "mean        2.301792\n",
      "std         9.016410\n",
      "min         1.000000\n",
      "25%         1.000000\n",
      "50%         1.000000\n",
      "75%         2.000000\n",
      "max       530.000000\n",
      "dtype: float64\n"
     ]
    }
   ],
   "source": [
    "print(instances_per_class_sr.describe())"
   ]
  },
  {
   "cell_type": "code",
   "execution_count": null,
   "metadata": {},
   "outputs": [],
   "source": []
  },
  {
   "cell_type": "code",
   "execution_count": 45,
   "metadata": {},
   "outputs": [
    {
     "data": {
      "text/plain": [
       "5748"
      ]
     },
     "execution_count": 45,
     "metadata": {},
     "output_type": "execute_result"
    }
   ],
   "source": [
    "max(set(instances_per_class))"
   ]
  },
  {
   "cell_type": "code",
   "execution_count": null,
   "metadata": {},
   "outputs": [],
   "source": []
  },
  {
   "cell_type": "code",
   "execution_count": 46,
   "metadata": {},
   "outputs": [
    {
     "data": {
      "image/png": "[encoded data removed]",
      "text/plain": [
       "<Figure size 432x288 with 1 Axes>"
      ]
     },
     "metadata": {
      "needs_background": "light"
     },
     "output_type": "display_data"
    }
   ],
   "source": [
    "plt.hist(data_df[\"target\"].value_counts(), range=(10, 20))\n",
    "plt.show()"
   ]
  },
  {
   "cell_type": "markdown",
   "metadata": {},
   "source": [
    "### Missing values"
   ]
  },
  {
   "cell_type": "code",
   "execution_count": 30,
   "metadata": {},
   "outputs": [
    {
     "name": "stdout",
     "output_type": "stream",
     "text": [
      "Total null values: 0\n"
     ]
    }
   ],
   "source": [
    "# Valeurs manquantes\n",
    "print(f\"Total de valeurs manquantes: {data_df.isnull().sum().sum()}\")"
   ]
  },
  {
   "cell_type": "code",
   "execution_count": null,
   "metadata": {},
   "outputs": [],
   "source": []
  },
  {
   "cell_type": "code",
   "execution_count": 80,
   "metadata": {},
   "outputs": [
    {
     "name": "stdout",
     "output_type": "stream",
     "text": [
      "(13233, 2914) (13233,)\n"
     ]
    }
   ],
   "source": [
    "X = data_df.drop(\"target\", axis=1)\n",
    "y = data_df[\"target\"]\n",
    "print(X.shape, y.shape)"
   ]
  },
  {
   "cell_type": "code",
   "execution_count": 85,
   "metadata": {},
   "outputs": [],
   "source": [
    "X_train, X_test, y_train, y_test = train_test_split(X[:100], y[:100], test_size=0.2, random_state=42)"
   ]
  },
  {
   "cell_type": "code",
   "execution_count": 95,
   "metadata": {},
   "outputs": [],
   "source": [
    "scaler = StandardScaler()\n",
    "# We scale the training instances.\n",
    "X_train_scaled = scaler.fit_transform(X_train)\n",
    "X_test_scaled = scaler.transform(X_test)"
   ]
  },
  {
   "cell_type": "code",
   "execution_count": 96,
   "metadata": {},
   "outputs": [
    {
     "data": {
      "text/plain": [
       "LinearSVC(C=1.0, class_weight=None, dual=True, fit_intercept=True,\n",
       "          intercept_scaling=1, loss='squared_hinge', max_iter=1000,\n",
       "          multi_class='ovr', penalty='l2', random_state=42, tol=0.0001,\n",
       "          verbose=0)"
      ]
     },
     "execution_count": 96,
     "metadata": {},
     "output_type": "execute_result"
    }
   ],
   "source": [
    "lin_clf = LinearSVC(random_state=42)\n",
    "lin_clf.fit(X_train_scaled, y_train)"
   ]
  },
  {
   "cell_type": "code",
   "execution_count": 114,
   "metadata": {},
   "outputs": [],
   "source": [
    "def accuracy(y_true, y_pred):\n",
    "    return sum(y_pred==y_true) / len(y_true)"
   ]
  },
  {
   "cell_type": "code",
   "execution_count": 117,
   "metadata": {},
   "outputs": [
    {
     "name": "stdout",
     "output_type": "stream",
     "text": [
      "F1 Score training set: 1.0\n",
      "Accuracy training set: 1.0\n",
      "F1 Score testing set: 0.0\n",
      "Accuracy testing set: 0.0\n"
     ]
    }
   ],
   "source": [
    "y_pred_train = lin_clf.predict(X_train_scaled)\n",
    "print(\"F1 Score training set: {}\".format(f1_score(y_train, y_pred_train, average='micro')))\n",
    "print(\"Accuracy training set: {}\".format(accuracy(y_train, y_pred_train)))\n",
    "\n",
    "y_pred_test = lin_clf.predict(X_test_scaled)\n",
    "print(\"F1 Score testing set: {}\".format(f1_score(y_test, y_pred_test, average='micro')))\n",
    "print(\"Accuracy testing set: {}\".format(accuracy(y_test, y_pred_test)))"
   ]
  },
  {
   "cell_type": "code",
   "execution_count": 111,
   "metadata": {},
   "outputs": [],
   "source": []
  },
  {
   "cell_type": "code",
   "execution_count": 110,
   "metadata": {},
   "outputs": [],
   "source": [
    "min_faces_per_person = 20\n",
    "data_m_df = fetch_lfw_people(data_dir, min_faces_per_person=min_faces_per_person)"
   ]
  },
  {
   "cell_type": "code",
   "execution_count": 109,
   "metadata": {},
   "outputs": [
    {
     "data": {
      "text/plain": [
       "766"
      ]
     },
     "execution_count": 109,
     "metadata": {},
     "output_type": "execute_result"
    }
   ],
   "source": [
    "len(data_m_df.data)"
   ]
  },
  {
   "cell_type": "code",
   "execution_count": 118,
   "metadata": {},
   "outputs": [],
   "source": [
    "\n",
    "def provide_dataset(min_faces_per_person=0, size_factor=None):\n",
    "    dataset = fetch_lfw_people(data_dir, return_X_y=True, min_faces_per_person=min_faces_per_person)\n",
    "    if size_factor:\n",
    "        data_size = int(f * len(dataset[0]))\n",
    "        bool_mask = [True] * data_size + [False] * (len(dataset[0]) - data_size)\n",
    "        random.shuffle(bool_mask)\n",
    "        dataset = (dataset[0][bool_mask], dataset[1][bool_mask])\n",
    "        \n",
    "    data_df = pd.DataFrame(dataset[0])\n",
    "    data_df[\"target\"] = dataset[1]\n",
    "    \n",
    "    X = data_df.drop(\"target\", axis=1)\n",
    "    y = data_df[\"target\"]\n",
    "    return X, y"
   ]
  },
  {
   "cell_type": "code",
   "execution_count": null,
   "metadata": {},
   "outputs": [],
   "source": [
    "def fit_evaluate(X, y):\n",
    "    X_train, X_test, y_train, y_test = train_test_split(X[:100], y[:100], test_size=0.2, random_state=42)\n",
    "    scaler = StandardScaler()\n",
    "    # We scale the training instances.\n",
    "    X_train_scaled = scaler.fit_transform(X_train)\n",
    "    X_test_scaled = scaler.transform(X_test)\n",
    "    # training \n",
    "    lin_clf = LinearSVC(random_state=42)\n",
    "    lin_clf.fit(X_train_scaled, y_train)\n",
    "\n",
    "    y_pred_train = lin_clf.predict(X_train_scaled)\n",
    "    y_pred_test = lin_clf.predict(X_test_scaled)\n",
    "    acc_ =  accuracy(y_train, y_pred_train), accuracy(y_test, y_pred_test)\n",
    "    f1_score_ = f1_score(y_train, y_pred_train, average='micro'), f1_score(y_test, y_pred_test, average='micro')\n",
    "    \n",
    "    return acc_ , f1_score_"
   ]
  },
  {
   "cell_type": "code",
   "execution_count": null,
   "metadata": {},
   "outputs": [],
   "source": [
    "min_faces_per_person_values = np.linspace(20, 200, 10)\n",
    "def mfpp_influence():\n",
    "    accuracies = []\n",
    "    f1_scores = []\n",
    "    for m in min_faces_per_person_values:\n",
    "        X, y = provide_dataset(m)\n",
    "        acc_, f1_score_ = fit_evaluate(X, y)\n",
    "        accuracies.append(acc_)\n",
    "        f1_scores.append(f1_score_)\n",
    "    return accuracies, f1_scores\n",
    "        "
   ]
  },
  {
   "cell_type": "code",
   "execution_count": null,
   "metadata": {},
   "outputs": [],
   "source": []
  },
  {
   "cell_type": "code",
   "execution_count": 120,
   "metadata": {},
   "outputs": [],
   "source": [
    "# fix mfpp play with dataset size\n",
    "min_faces_per_person = 100\n",
    "dataset_size_factors = np.linspace(0.1, 1, 5)\n",
    "\n",
    "def dataset_size_influence():\n",
    "    accuracies = []\n",
    "    f1_scores = []\n",
    "    for f in dataset_size_factors:\n",
    "        X, y = provide_dataset(size_factor=f)\n",
    "        acc_, f1_score_ = fit_evaluate(X, y)\n",
    "        accuracies.append(acc_)\n",
    "        f1_scores.append(f1_score_)\n",
    "    return accuracies, f1_scores"
   ]
  },
  {
   "cell_type": "code",
   "execution_count": null,
   "metadata": {},
   "outputs": [],
   "source": [
    "random.seed(1)\n",
    "dataset_size_influence()"
   ]
  },
  {
   "cell_type": "markdown",
   "metadata": {},
   "source": [
    "Exo 3"
   ]
  },
  {
   "cell_type": "code",
   "execution_count": 124,
   "metadata": {},
   "outputs": [],
   "source": [
    "import time"
   ]
  },
  {
   "cell_type": "code",
   "execution_count": 125,
   "metadata": {},
   "outputs": [
    {
     "data": {
      "text/plain": [
       "9.894371032714844e-05"
      ]
     },
     "execution_count": 125,
     "metadata": {},
     "output_type": "execute_result"
    }
   ],
   "source": [
    "start_time = time.time()\n",
    "for k in range(3):\n",
    "    a =4\n",
    "\n",
    "end_time = time.time()\n",
    "end_time - start_time"
   ]
  },
  {
   "cell_type": "code",
   "execution_count": 141,
   "metadata": {},
   "outputs": [],
   "source": [
    "a = 2\n",
    "def d(a):\n",
    "    assert a == None or (a <= 1 and a>=0)\n",
    "    print(\"hi\")"
   ]
  },
  {
   "cell_type": "code",
   "execution_count": 1,
   "metadata": {},
   "outputs": [],
   "source": [
    "from sklearn.datasets import fetch_lfw_people"
   ]
  },
  {
   "cell_type": "code",
   "execution_count": 2,
   "metadata": {},
   "outputs": [],
   "source": [
    "??fetch_lfw_people"
   ]
  },
  {
   "cell_type": "code",
   "execution_count": 5,
   "metadata": {},
   "outputs": [
    {
     "data": {
      "text/plain": [
       "False"
      ]
     },
     "execution_count": 5,
     "metadata": {},
     "output_type": "execute_result"
    }
   ],
   "source": []
  },
  {
   "cell_type": "code",
   "execution_count": null,
   "metadata": {},
   "outputs": [],
   "source": []
  }
 ],
 "metadata": {
  "kernelspec": {
   "display_name": "Python 3",
   "language": "python",
   "name": "python3"
  },
  "language_info": {
   "codemirror_mode": {
    "name": "ipython",
    "version": 3
   },
   "file_extension": ".py",
   "mimetype": "text/x-python",
   "name": "python",
   "nbconvert_exporter": "python",
   "pygments_lexer": "ipython3",
   "version": "3.7.3"
  }
 },
 "nbformat": 4,
 "nbformat_minor": 2
}
