{
 "cells": [
  {
   "cell_type": "markdown",
   "metadata": {
    "colab_type": "text",
    "id": "eAysrRHMyW0L"
   },
   "source": [
    "<center><img src='https://netacad.centralesupelec.fr/img/cs.jpg' width=200></center>\n",
    "\n",
    "<h6><center>Introduction to Machine Learning</center></h6>\n",
    "\n",
    "<h1>\n",
    "<hr style=\" border:none; height:3px;\">\n",
    "<center>Tutorial 2: Data preprocessing (real data)</center>\n",
    "<hr style=\" border:none; height:3px;\">\n",
    "</h1>\n",
    "\n",
    "__Teachers__: Myriam Tami, Gianluca Quercini, Yassine Ouali"
   ]
  },
  {
   "cell_type": "markdown",
   "metadata": {
    "colab_type": "text",
    "id": "Gd6RdMMkyW0M"
   },
   "source": [
    "# Introduction"
   ]
  },
  {
   "cell_type": "markdown",
   "metadata": {
    "colab_type": "text",
    "id": "AbUxpZGXyW0N"
   },
   "source": [
    "In this tutorial we're going to play with some real data and learn the full pipeline of data preprocessing, training and testing a machine learning algorithm.\n",
    "\n",
    "<div class=\"alert alert-block alert-info\">\n",
    "\n",
    "For the most part, the Python code is already written for you. You're invited to **read the code and the comments** to learn how to practice machine learning with *Scikit-learn*. Your instructor will also explain the code.\n",
    "\n",
    "</div>\n",
    "\n"
   ]
  },
  {
   "cell_type": "markdown",
   "metadata": {
    "colab_type": "text",
    "id": "hR2SETRtyW0P"
   },
   "source": [
    "# Setup"
   ]
  },
  {
   "cell_type": "markdown",
   "metadata": {
    "colab_type": "text",
    "id": "xu0aXCRpyW0Q"
   },
   "source": [
    "We import the modules that are commonly used in combination with Scikit-learn.\n",
    "\n",
    "<div class=\"alert alert-block alert-warning\">\n",
    "In order to run this notebook, you'll need to install <b>Python 3.5 or later</b>, as well as <b>Scikit-learn 0.20 or later</b>.\n",
    "</div>"
   ]
  },
  {
   "cell_type": "code",
   "execution_count": 1,
   "metadata": {
    "colab": {},
    "colab_type": "code",
    "id": "L-1MTR7zyW0Q"
   },
   "outputs": [],
   "source": [
    "# Python ≥3.5 is required\n",
    "import sys\n",
    "assert sys.version_info >= (3, 5)\n",
    "\n",
    "# Scikit-Learn ≥0.20 is required\n",
    "import sklearn\n",
    "assert sklearn.__version__ >= \"0.20\"\n",
    "\n",
    "# Numpy arrays are used to store training and test data.\n",
    "import numpy as np\n",
    "\n",
    "# Pandas is used to manipulate tabular data.\n",
    "import pandas as pd\n",
    "\n",
    "# Matplotlib is used to plot graphs.\n",
    "%matplotlib inline \n",
    "import matplotlib as mpl\n",
    "import matplotlib.pyplot as plt\n",
    "# Style options for plots.\n",
    "mpl.rc('axes', labelsize=14)\n",
    "mpl.rc('xtick', labelsize=12)\n",
    "mpl.rc('ytick', labelsize=12)\n",
    "\n",
    "# Ignore useless warnings (see SciPy issue #5998).\n",
    "import warnings\n",
    "warnings.filterwarnings(action=\"ignore\", message=\"^internal gelsd\")\n",
    "\n",
    "# Convenience function to create display a progress bar.\n",
    "# Source : https://stackoverflow.com/questions/3173320/text-progress-bar-in-the-console\n",
    "def print_progress_bar (iteration, total, prefix = '', suffix = '', decimals = 1, length = 100, fill = '█', printEnd = \"\\r\"):\n",
    "    \"\"\"\n",
    "    Call in a loop to create terminal progress bar\n",
    "    @params:\n",
    "        iteration   - Required  : current iteration (Int)\n",
    "        total       - Required  : total iterations (Int)\n",
    "        prefix      - Optional  : prefix string (Str)\n",
    "        suffix      - Optional  : suffix string (Str)\n",
    "        decimals    - Optional  : positive number of decimals in percent complete (Int)\n",
    "        length      - Optional  : character length of bar (Int)\n",
    "        fill        - Optional  : bar fill character (Str)\n",
    "        printEnd    - Optional  : end character (e.g. \"\\r\", \"\\r\\n\") (Str)\n",
    "    \"\"\"\n",
    "    percent = (\"{0:.\" + str(decimals) + \"f}\").format(100 * (iteration / float(total)))\n",
    "    filledLength = int(length * iteration // total)\n",
    "    bar = fill * filledLength + '-' * (length - filledLength)\n",
    "    print(f'\\r{prefix} |{bar}| {percent}% {suffix}', end = printEnd)\n",
    "    # Print New Line on Complete\n",
    "    if iteration == total: \n",
    "        print()\n",
    " \n",
    "# Saves a figure to a file\n",
    "def save_fig(fig_id, tight_layout=True, fig_extension=\"png\", resolution=300):\n",
    "    path = os.path.join(\"./figs\", fig_id + \".\" + fig_extension)\n",
    "    print(\"Saving figure\", fig_id)\n",
    "    if tight_layout:\n",
    "        plt.tight_layout()\n",
    "    plt.savefig(path, format=fig_extension, dpi=resolution)"
   ]
  },
  {
   "cell_type": "markdown",
   "metadata": {
    "colab_type": "text",
    "id": "s0EX4Wj-yW0V"
   },
   "source": [
    "# Experimenting with real data"
   ]
  },
  {
   "cell_type": "markdown",
   "metadata": {
    "colab_type": "text",
    "id": "79sDFc6EyW0W"
   },
   "source": [
    "We're going to use a dataset containing California census data. This dataset appeared in a 1997 paper titled *Sparse Spatial Autoregressions* by Pace, R. Kelley and Ronald Barry, published in the *Statistics & Probability Letters* journal. The dataset is built using the 1990 California census data. It contains one row per census district. A district is the smallest geographical unit for which the U.S. Census Bureau publishes sample data (population of 600 to 3,000 people).\n",
    "\n",
    "Given this dataset, **our goal** is to train a machine learning model to **predict the median house value in a given district**.\n",
    "\n",
    "<div class=\"alert alert-block alert-info\">\n",
    "\n",
    "This tutorial is based on Chapter 2 of the book <i>\"Hands-On Machine Learning with Scikit-Learn, Keras & TensorFlow\"</i> by Aurélien Géron.\n",
    "\n",
    "</div>\n",
    "\n",
    "The code in the following cell downloads the dataset from its source and stores it under the folder *./datasets* in your working directory."
   ]
  },
  {
   "cell_type": "code",
   "execution_count": 2,
   "metadata": {
    "colab": {},
    "colab_type": "code",
    "id": "iZ1hnSp-yW0W"
   },
   "outputs": [],
   "source": [
    "import os\n",
    "import tarfile\n",
    "import urllib\n",
    "\n",
    "DOWNLOAD_ROOT = \"https://raw.githubusercontent.com/ageron/handson-ml2/master/\"\n",
    "HOUSING_PATH = os.path.join(\"datasets\", \"housing\")\n",
    "HOUSING_URL = DOWNLOAD_ROOT + \"datasets/housing/housing.tgz\"\n",
    "\n",
    "def fetch_housing_data(housing_url=HOUSING_URL, housing_path=HOUSING_PATH):\n",
    "    if not os.path.isdir(housing_path):\n",
    "        os.makedirs(housing_path)\n",
    "    tgz_path = os.path.join(housing_path, \"housing.tgz\")\n",
    "    urllib.request.urlretrieve(housing_url, tgz_path)\n",
    "    housing_tgz = tarfile.open(tgz_path)\n",
    "    housing_tgz.extractall(path=housing_path)\n",
    "    housing_tgz.close()\n",
    "\n",
    "if not os.path.isfile(os.path.join(HOUSING_PATH, \"housing.csv\")):\n",
    "    fetch_housing_data()"
   ]
  },
  {
   "cell_type": "markdown",
   "metadata": {
    "colab_type": "text",
    "id": "fTOHuT60yW0Y"
   },
   "source": [
    "The dataset is a **CSV file**. We can load it into a **Pandas dataframe** by using the function $read\\_csv()$ of the library *Pandas*.\n",
    "\n",
    "\n",
    "<div class=\"alert alert-block alert-info\">\n",
    "\n",
    "In the first tutorial we directly manipulated *Numpy arrays*. Using *Pandas dataframes* offers many advantages, for example features are identified by a name and many functions help with data preprocessing, as we'll see later in the tutorial.\n",
    "\n",
    "</div>\n",
    "\n",
    "The following cell loads the dataset into the dataframe $housing$."
   ]
  },
  {
   "cell_type": "code",
   "execution_count": 3,
   "metadata": {
    "colab": {},
    "colab_type": "code",
    "id": "qkxfXi8byW0Z"
   },
   "outputs": [],
   "source": [
    "csv_path = os.path.join(HOUSING_PATH, \"housing.csv\")\n",
    "housing = pd.read_csv(csv_path)"
   ]
  },
  {
   "cell_type": "markdown",
   "metadata": {
    "colab_type": "text",
    "id": "HLgbJaSpyW0b"
   },
   "source": [
    "We can invoke the function $head()$ on the dataframe $housing$ in order to  display the first five instances of the dataset.\n",
    "Each row represents a district, described by 10 features.\n",
    "\n",
    "<div class=\"alert alert-block alert-info\">\n",
    "    \n",
    "The first column does not have a header; it corresponds to a row identifier used by Pandas and is not part of the dataset (it is not a feature).\n",
    "    \n",
    "</div>\n",
    "\n",
    "<div class=\"alert alert-block alert-success\">\n",
    "\n",
    "**Question 1.** Specify the type of each feature in this dataset (categorical/numeric, nominal/ordinal, continuous/discrete).\n",
    "\n",
    "</div>"
   ]
  },
  {
   "cell_type": "code",
   "execution_count": null,
   "metadata": {},
   "outputs": [],
   "source": []
  },
  {
   "cell_type": "code",
   "execution_count": 13,
   "metadata": {
    "colab": {},
    "colab_type": "code",
    "id": "hu-CnhevyW0c",
    "outputId": "2f6b5e4c-bcfc-4e3d-91ca-133ac578ff62"
   },
   "outputs": [
    {
     "data": {
      "text/html": [
       "<div>\n",
       "<style scoped>\n",
       "    .dataframe tbody tr th:only-of-type {\n",
       "        vertical-align: middle;\n",
       "    }\n",
       "\n",
       "    .dataframe tbody tr th {\n",
       "        vertical-align: top;\n",
       "    }\n",
       "\n",
       "    .dataframe thead th {\n",
       "        text-align: right;\n",
       "    }\n",
       "</style>\n",
       "<table border=\"1\" class=\"dataframe\">\n",
       "  <thead>\n",
       "    <tr style=\"text-align: right;\">\n",
       "      <th></th>\n",
       "      <th>longitude</th>\n",
       "      <th>latitude</th>\n",
       "      <th>housing_median_age</th>\n",
       "      <th>total_rooms</th>\n",
       "      <th>total_bedrooms</th>\n",
       "      <th>population</th>\n",
       "      <th>households</th>\n",
       "      <th>median_income</th>\n",
       "      <th>median_house_value</th>\n",
       "      <th>ocean_proximity</th>\n",
       "    </tr>\n",
       "  </thead>\n",
       "  <tbody>\n",
       "    <tr>\n",
       "      <th>0</th>\n",
       "      <td>-122.23</td>\n",
       "      <td>37.88</td>\n",
       "      <td>41.0</td>\n",
       "      <td>880.0</td>\n",
       "      <td>129.0</td>\n",
       "      <td>322.0</td>\n",
       "      <td>126.0</td>\n",
       "      <td>8.3252</td>\n",
       "      <td>452600.0</td>\n",
       "      <td>NEAR BAY</td>\n",
       "    </tr>\n",
       "    <tr>\n",
       "      <th>1</th>\n",
       "      <td>-122.22</td>\n",
       "      <td>37.86</td>\n",
       "      <td>21.0</td>\n",
       "      <td>7099.0</td>\n",
       "      <td>1106.0</td>\n",
       "      <td>2401.0</td>\n",
       "      <td>1138.0</td>\n",
       "      <td>8.3014</td>\n",
       "      <td>358500.0</td>\n",
       "      <td>NEAR BAY</td>\n",
       "    </tr>\n",
       "    <tr>\n",
       "      <th>2</th>\n",
       "      <td>-122.24</td>\n",
       "      <td>37.85</td>\n",
       "      <td>52.0</td>\n",
       "      <td>1467.0</td>\n",
       "      <td>190.0</td>\n",
       "      <td>496.0</td>\n",
       "      <td>177.0</td>\n",
       "      <td>7.2574</td>\n",
       "      <td>352100.0</td>\n",
       "      <td>NEAR BAY</td>\n",
       "    </tr>\n",
       "    <tr>\n",
       "      <th>3</th>\n",
       "      <td>-122.25</td>\n",
       "      <td>37.85</td>\n",
       "      <td>52.0</td>\n",
       "      <td>1274.0</td>\n",
       "      <td>235.0</td>\n",
       "      <td>558.0</td>\n",
       "      <td>219.0</td>\n",
       "      <td>5.6431</td>\n",
       "      <td>341300.0</td>\n",
       "      <td>NEAR BAY</td>\n",
       "    </tr>\n",
       "    <tr>\n",
       "      <th>4</th>\n",
       "      <td>-122.25</td>\n",
       "      <td>37.85</td>\n",
       "      <td>52.0</td>\n",
       "      <td>1627.0</td>\n",
       "      <td>280.0</td>\n",
       "      <td>565.0</td>\n",
       "      <td>259.0</td>\n",
       "      <td>3.8462</td>\n",
       "      <td>342200.0</td>\n",
       "      <td>NEAR BAY</td>\n",
       "    </tr>\n",
       "  </tbody>\n",
       "</table>\n",
       "</div>"
      ],
      "text/plain": [
       "   longitude  latitude  housing_median_age  total_rooms  total_bedrooms  \\\n",
       "0    -122.23     37.88                41.0        880.0           129.0   \n",
       "1    -122.22     37.86                21.0       7099.0          1106.0   \n",
       "2    -122.24     37.85                52.0       1467.0           190.0   \n",
       "3    -122.25     37.85                52.0       1274.0           235.0   \n",
       "4    -122.25     37.85                52.0       1627.0           280.0   \n",
       "\n",
       "   population  households  median_income  median_house_value ocean_proximity  \n",
       "0       322.0       126.0         8.3252            452600.0        NEAR BAY  \n",
       "1      2401.0      1138.0         8.3014            358500.0        NEAR BAY  \n",
       "2       496.0       177.0         7.2574            352100.0        NEAR BAY  \n",
       "3       558.0       219.0         5.6431            341300.0        NEAR BAY  \n",
       "4       565.0       259.0         3.8462            342200.0        NEAR BAY  "
      ]
     },
     "execution_count": 13,
     "metadata": {},
     "output_type": "execute_result"
    }
   ],
   "source": [
    "housing.head()"
   ]
  },
  {
   "cell_type": "markdown",
   "metadata": {
    "colab_type": "text",
    "id": "jZB9zyaNyW0h"
   },
   "source": [
    "<div class=\"alert alert-block alert-success\">\n",
    "    \n",
    "**Solution.**\n",
    "\n",
    "1. **Numeric continuous features**: longitude, latitude, median_income, median_house_value.\n",
    "\n",
    "2. **Numeric discrete features:** housing_median_age, total_rooms, total_bedrooms, population, households\n",
    "\n",
    "3. **Categorical nominal features:** ocean_proximity.\n",
    "\n",
    "</div>"
   ]
  },
  {
   "cell_type": "markdown",
   "metadata": {
    "colab_type": "text",
    "id": "rAnlW896yW0h"
   },
   "source": [
    "By invoking the function $info()$ on the Dataframe $housing$, we can get some more information on the dataset, its features and its values.\n",
    "\n",
    "<div class=\"alert alert-block alert-success\">\n",
    "\n",
    "**Question 2.** Read the output and interpret the result. Is there any missing value in this dataset?\n",
    "\n",
    "</div>"
   ]
  },
  {
   "cell_type": "code",
   "execution_count": 4,
   "metadata": {
    "colab": {},
    "colab_type": "code",
    "id": "Ak6IvMvNyW0i",
    "outputId": "013a0b0c-36b7-4547-8b29-9ce2c69a6613"
   },
   "outputs": [
    {
     "name": "stdout",
     "output_type": "stream",
     "text": [
      "<class 'pandas.core.frame.DataFrame'>\n",
      "RangeIndex: 20640 entries, 0 to 20639\n",
      "Data columns (total 10 columns):\n",
      "longitude             20640 non-null float64\n",
      "latitude              20640 non-null float64\n",
      "housing_median_age    20640 non-null float64\n",
      "total_rooms           20640 non-null float64\n",
      "total_bedrooms        20433 non-null float64\n",
      "population            20640 non-null float64\n",
      "households            20640 non-null float64\n",
      "median_income         20640 non-null float64\n",
      "median_house_value    20640 non-null float64\n",
      "ocean_proximity       20640 non-null object\n",
      "dtypes: float64(9), object(1)\n",
      "memory usage: 1.6+ MB\n"
     ]
    }
   ],
   "source": [
    "housing.info()"
   ]
  },
  {
   "cell_type": "markdown",
   "metadata": {
    "colab_type": "text",
    "id": "bagcUkjQyW0l"
   },
   "source": [
    "<div class=\"alert alert-block alert-success\">\n",
    "\n",
    "**Solution.** The output specifies that:\n",
    "\n",
    "1. There are **20640 instances** (entries) in the dataset.\n",
    "\n",
    "2. There are **10 features** (columns) in the dataset.\n",
    "\n",
    "3. For each feature, its type and the number of non-null values.\n",
    "\n",
    "There are 207 instances with a missing value in feature $total\\_bedrooms$.\n",
    "\n",
    "</div>"
   ]
  },
  {
   "cell_type": "markdown",
   "metadata": {
    "colab_type": "text",
    "id": "xTudCXQNyW0l"
   },
   "source": [
    "We can invoke the function $describe()$ on the Dataframe $housing$ to get a summary of the numeric features.\n",
    "\n",
    "<div class=\"alert alert-block alert-success\">\n",
    "\n",
    "**Question 3.** Explain the output of the function $describe()$.\n",
    "\n",
    "</div>\n",
    "\n"
   ]
  },
  {
   "cell_type": "code",
   "execution_count": null,
   "metadata": {
    "colab": {},
    "colab_type": "code",
    "id": "-xcEF6FFyW0l",
    "outputId": "c3a78b6c-13a6-423f-e5b0-ed3635a5d51f"
   },
   "outputs": [
    {
     "data": {
      "text/html": [
       "<div>\n",
       "<style scoped>\n",
       "    .dataframe tbody tr th:only-of-type {\n",
       "        vertical-align: middle;\n",
       "    }\n",
       "\n",
       "    .dataframe tbody tr th {\n",
       "        vertical-align: top;\n",
       "    }\n",
       "\n",
       "    .dataframe thead th {\n",
       "        text-align: right;\n",
       "    }\n",
       "</style>\n",
       "<table border=\"1\" class=\"dataframe\">\n",
       "  <thead>\n",
       "    <tr style=\"text-align: right;\">\n",
       "      <th></th>\n",
       "      <th>longitude</th>\n",
       "      <th>latitude</th>\n",
       "      <th>housing_median_age</th>\n",
       "      <th>total_rooms</th>\n",
       "      <th>total_bedrooms</th>\n",
       "      <th>population</th>\n",
       "      <th>households</th>\n",
       "      <th>median_income</th>\n",
       "      <th>median_house_value</th>\n",
       "    </tr>\n",
       "  </thead>\n",
       "  <tbody>\n",
       "    <tr>\n",
       "      <td>count</td>\n",
       "      <td>20640.000000</td>\n",
       "      <td>20640.000000</td>\n",
       "      <td>20640.000000</td>\n",
       "      <td>20640.000000</td>\n",
       "      <td>20433.000000</td>\n",
       "      <td>20640.000000</td>\n",
       "      <td>20640.000000</td>\n",
       "      <td>20640.000000</td>\n",
       "      <td>20640.000000</td>\n",
       "    </tr>\n",
       "    <tr>\n",
       "      <td>mean</td>\n",
       "      <td>-119.569704</td>\n",
       "      <td>35.631861</td>\n",
       "      <td>28.639486</td>\n",
       "      <td>2635.763081</td>\n",
       "      <td>537.870553</td>\n",
       "      <td>1425.476744</td>\n",
       "      <td>499.539680</td>\n",
       "      <td>3.870671</td>\n",
       "      <td>206855.816909</td>\n",
       "    </tr>\n",
       "    <tr>\n",
       "      <td>std</td>\n",
       "      <td>2.003532</td>\n",
       "      <td>2.135952</td>\n",
       "      <td>12.585558</td>\n",
       "      <td>2181.615252</td>\n",
       "      <td>421.385070</td>\n",
       "      <td>1132.462122</td>\n",
       "      <td>382.329753</td>\n",
       "      <td>1.899822</td>\n",
       "      <td>115395.615874</td>\n",
       "    </tr>\n",
       "    <tr>\n",
       "      <td>min</td>\n",
       "      <td>-124.350000</td>\n",
       "      <td>32.540000</td>\n",
       "      <td>1.000000</td>\n",
       "      <td>2.000000</td>\n",
       "      <td>1.000000</td>\n",
       "      <td>3.000000</td>\n",
       "      <td>1.000000</td>\n",
       "      <td>0.499900</td>\n",
       "      <td>14999.000000</td>\n",
       "    </tr>\n",
       "    <tr>\n",
       "      <td>25%</td>\n",
       "      <td>-121.800000</td>\n",
       "      <td>33.930000</td>\n",
       "      <td>18.000000</td>\n",
       "      <td>1447.750000</td>\n",
       "      <td>296.000000</td>\n",
       "      <td>787.000000</td>\n",
       "      <td>280.000000</td>\n",
       "      <td>2.563400</td>\n",
       "      <td>119600.000000</td>\n",
       "    </tr>\n",
       "    <tr>\n",
       "      <td>50%</td>\n",
       "      <td>-118.490000</td>\n",
       "      <td>34.260000</td>\n",
       "      <td>29.000000</td>\n",
       "      <td>2127.000000</td>\n",
       "      <td>435.000000</td>\n",
       "      <td>1166.000000</td>\n",
       "      <td>409.000000</td>\n",
       "      <td>3.534800</td>\n",
       "      <td>179700.000000</td>\n",
       "    </tr>\n",
       "    <tr>\n",
       "      <td>75%</td>\n",
       "      <td>-118.010000</td>\n",
       "      <td>37.710000</td>\n",
       "      <td>37.000000</td>\n",
       "      <td>3148.000000</td>\n",
       "      <td>647.000000</td>\n",
       "      <td>1725.000000</td>\n",
       "      <td>605.000000</td>\n",
       "      <td>4.743250</td>\n",
       "      <td>264725.000000</td>\n",
       "    </tr>\n",
       "    <tr>\n",
       "      <td>max</td>\n",
       "      <td>-114.310000</td>\n",
       "      <td>41.950000</td>\n",
       "      <td>52.000000</td>\n",
       "      <td>39320.000000</td>\n",
       "      <td>6445.000000</td>\n",
       "      <td>35682.000000</td>\n",
       "      <td>6082.000000</td>\n",
       "      <td>15.000100</td>\n",
       "      <td>500001.000000</td>\n",
       "    </tr>\n",
       "  </tbody>\n",
       "</table>\n",
       "</div>"
      ],
      "text/plain": [
       "          longitude      latitude  housing_median_age   total_rooms  \\\n",
       "count  20640.000000  20640.000000        20640.000000  20640.000000   \n",
       "mean    -119.569704     35.631861           28.639486   2635.763081   \n",
       "std        2.003532      2.135952           12.585558   2181.615252   \n",
       "min     -124.350000     32.540000            1.000000      2.000000   \n",
       "25%     -121.800000     33.930000           18.000000   1447.750000   \n",
       "50%     -118.490000     34.260000           29.000000   2127.000000   \n",
       "75%     -118.010000     37.710000           37.000000   3148.000000   \n",
       "max     -114.310000     41.950000           52.000000  39320.000000   \n",
       "\n",
       "       total_bedrooms    population    households  median_income  \\\n",
       "count    20433.000000  20640.000000  20640.000000   20640.000000   \n",
       "mean       537.870553   1425.476744    499.539680       3.870671   \n",
       "std        421.385070   1132.462122    382.329753       1.899822   \n",
       "min          1.000000      3.000000      1.000000       0.499900   \n",
       "25%        296.000000    787.000000    280.000000       2.563400   \n",
       "50%        435.000000   1166.000000    409.000000       3.534800   \n",
       "75%        647.000000   1725.000000    605.000000       4.743250   \n",
       "max       6445.000000  35682.000000   6082.000000      15.000100   \n",
       "\n",
       "       median_house_value  \n",
       "count        20640.000000  \n",
       "mean        206855.816909  \n",
       "std         115395.615874  \n",
       "min          14999.000000  \n",
       "25%         119600.000000  \n",
       "50%         179700.000000  \n",
       "75%         264725.000000  \n",
       "max         500001.000000  "
      ]
     },
     "execution_count": 6,
     "metadata": {
      "tags": []
     },
     "output_type": "execute_result"
    }
   ],
   "source": [
    "housing.describe()"
   ]
  },
  {
   "cell_type": "markdown",
   "metadata": {
    "colab_type": "text",
    "id": "RVP9RZVxyW0o"
   },
   "source": [
    "<div class=\"alert alert-block alert-success\">\n",
    "\n",
    "**Solution.** For each feature we have access to a certain number of statistics (total number of instances, mean, standard deviation, minimum value, 25th percentile, the median, the 75th percentile and the maximum value). \n",
    "\n",
    "<div class=\"alert alert-block alert-info\">\n",
    "\n",
    "**Reminder.** A **percentile** indicates the value below which a given percentage of instances fall. For instance, 25% of the districts have a housing median age lower than 18.\n",
    "\n",
    "</div>\n",
    "\n",
    "</div>"
   ]
  },
  {
   "cell_type": "markdown",
   "metadata": {
    "colab_type": "text",
    "id": "yWIpK0l6yW0o"
   },
   "source": [
    "We can have a better view of the numerical data by plotting some histograms.\n",
    "\n",
    "<div class=\"alert alert-block alert-info\">\n",
    "\n",
    "**Note.** Unlike the first tutorial, where we had to explicitly use *Matplotlib* functions to plot some graphs with *Numpy arrays*, here we can use plotting functions directly on the Dataframe.\n",
    "\n",
    "</div>\n",
    "\n",
    "\n",
    "<div class=\"alert alert-block alert-success\">\n",
    "    \n",
    "**Question 4.** Execute the following cell. \n",
    "\n",
    "1. Is there anything you notice about the values of $median\\_house\\_value$?\n",
    "\n",
    "2. What can you say about the values of $median\\_income$?\n",
    "\n",
    "2. What can you say about the scale of the different features?\n",
    "\n",
    "</div>"
   ]
  },
  {
   "cell_type": "code",
   "execution_count": null,
   "metadata": {
    "colab": {},
    "colab_type": "code",
    "id": "i_9-RLQRyW0o",
    "outputId": "1f0ed432-a3e0-4823-d998-e77b420669a1"
   },
   "outputs": [
    {
     "data": {
      "image/png": "[encoded data removed]",
      "text/plain": [
       "<Figure size 1440x1080 with 9 Axes>"
      ]
     },
     "metadata": {
      "needs_background": "light",
      "tags": []
     },
     "output_type": "display_data"
    }
   ],
   "source": [
    "housing.hist(bins=50, figsize=(20, 15))\n",
    "plt.show()"
   ]
  },
  {
   "cell_type": "markdown",
   "metadata": {
    "colab_type": "text",
    "id": "xM2mdBtwyW0r"
   },
   "source": [
    "<div class=\"alert alert-block alert-success\">\n",
    "\n",
    "**Solution.** \n",
    "\n",
    "1. Most of the instances have value 500,000 (the maximum value). This shows that the values of this feature have been capped. This might be a problem, as $median\\_house\\_value$ is the target variable to predict. Note that we observe the same pattern for feature $housing\\_median\\_age$ that seems to be capped at 50.\n",
    "\n",
    "2. The values of $median\\_income$ vary between 0 and 15. Values have been scaled. In order to obtain the actual value, we need to multiply the scaled value by 10,000. So, 3 corresponds to a median income of 30,000.\n",
    "\n",
    "3. Features have very different scales. We'll need to rescale them later on.\n",
    "\n",
    "</div>"
   ]
  },
  {
   "cell_type": "markdown",
   "metadata": {
    "colab_type": "text",
    "id": "K6Q1Cor2yW0r"
   },
   "source": [
    "The previous histograms show the distribution of values of numeric features. For categorical features, there isn't any function that plots all the histograms at once. \n",
    "We obtain information on a categorical feature by invoking the function $value\\_counts()$ on the column corresponding to that feature.\n",
    "\n",
    "<div class=\"alert alert-block alert-success\">\n",
    "    \n",
    "**Question 5.** Execute the following cell and interpret the output of the function $value\\_counts()$.\n",
    "\n",
    "</div>"
   ]
  },
  {
   "cell_type": "code",
   "execution_count": 19,
   "metadata": {
    "colab": {},
    "colab_type": "code",
    "id": "h3QNx4qvyW0s",
    "outputId": "204d09ca-75c7-4a44-bdab-60a4d761462d"
   },
   "outputs": [
    {
     "data": {
      "text/plain": [
       "<1H OCEAN     9136\n",
       "INLAND        6551\n",
       "NEAR OCEAN    2658\n",
       "NEAR BAY      2290\n",
       "ISLAND           5\n",
       "Name: ocean_proximity, dtype: int64"
      ]
     },
     "execution_count": 19,
     "metadata": {},
     "output_type": "execute_result"
    }
   ],
   "source": [
    "housing[\"ocean_proximity\"].value_counts()"
   ]
  },
  {
   "cell_type": "markdown",
   "metadata": {
    "colab_type": "text",
    "id": "3FegCm-CyW0w"
   },
   "source": [
    "<div class=\"alert alert-block alert-success\">\n",
    "\n",
    "**Solution.** For each value of the feature, the output states the number of instances having that value.\n",
    "For instance, there are 9136 instances with the value \"<1H OCEAN\" for the feature $ocean\\_proximity$.\n",
    "\n",
    "</div>"
   ]
  },
  {
   "cell_type": "markdown",
   "metadata": {
    "colab_type": "text",
    "id": "7Abr9hIXyW0x"
   },
   "source": [
    "Execute the following cell if you want to plot an histogram of the values of the categorical feature."
   ]
  },
  {
   "cell_type": "code",
   "execution_count": null,
   "metadata": {
    "colab": {},
    "colab_type": "code",
    "id": "KIj1HvmayW0x",
    "outputId": "5a60f3fd-cde0-4409-a7da-72f4f11b053d"
   },
   "outputs": [
    {
     "data": {
      "text/plain": [
       "<matplotlib.axes._subplots.AxesSubplot at 0xa154c38d0>"
      ]
     },
     "execution_count": 9,
     "metadata": {
      "tags": []
     },
     "output_type": "execute_result"
    },
    {
     "data": {
      "image/png": "[encoded data removed]",
      "text/plain": [
       "<Figure size 432x288 with 1 Axes>"
      ]
     },
     "metadata": {
      "needs_background": "light",
      "tags": []
     },
     "output_type": "display_data"
    }
   ],
   "source": [
    "housing['ocean_proximity'].hist()"
   ]
  },
  {
   "cell_type": "markdown",
   "metadata": {
    "colab_type": "text",
    "id": "M5yaPJqlyW00"
   },
   "source": [
    "We can also create new features if we need them. In the following cell we add a feature $income\\_cat$ that applies a discretization of the feature $median\\_income$ into 5 categories: category 1 corresponds to a median income between 0 and 1.5, category 2 corresponds to a median income between 1.5 and 3 and so on."
   ]
  },
  {
   "cell_type": "code",
   "execution_count": 24,
   "metadata": {
    "colab": {},
    "colab_type": "code",
    "id": "Zx1zJ4SDyW00"
   },
   "outputs": [],
   "source": [
    "housing[\"income_cat\"] = pd.cut(housing[\"median_income\"],\n",
    "                               bins=[0., 1.5, 3.0, 4.5, 6., np.inf],\n",
    "                               labels=[1, 2, 3, 4, 5])"
   ]
  },
  {
   "cell_type": "markdown",
   "metadata": {
    "colab_type": "text",
    "id": "rc0fUWDfyW02"
   },
   "source": [
    "## Create a test set"
   ]
  },
  {
   "cell_type": "markdown",
   "metadata": {
    "colab_type": "text",
    "id": "DHGBsu2byW03"
   },
   "source": [
    "<div class=\"alert alert-block alert-success\">\n",
    "    \n",
    "**Question 6.** Complete the following code in order split the dataset into a training and test set.\n",
    "\n",
    "</div>\n",
    "\n",
    "<div class=\"alert alert-block alert-info\">\n",
    "\n",
    "**Tip.** Use the function $train\\_test\\_split$ that you used in the first tutorial.\n",
    "Unlike the first tutorial, the function returns two dataframes $train\\_set$ and $test\\_set$. \n",
    "\n",
    "</div>"
   ]
  },
  {
   "cell_type": "code",
   "execution_count": 27,
   "metadata": {
    "colab": {},
    "colab_type": "code",
    "id": "ByRlFdnhyW03"
   },
   "outputs": [],
   "source": [
    "# COMPLETE THE CODE\n",
    "from sklearn.model_selection import train_test_split\n",
    "train_set, test_set = train_test_split(housing, test_size=0.2, random_state=42)"
   ]
  },
  {
   "cell_type": "markdown",
   "metadata": {
    "colab_type": "text",
    "id": "4c4l7VM0yW05"
   },
   "source": [
    "In the following cell we compare the income category proportions in the input dataset against the proportions in the test set and we calculate the error on each income category (the **sampling bias**).\n",
    "\n",
    "<div class=\"alert alert-block alert-success\">\n",
    "    \n",
    "**Question 7.** What do you notice?\n",
    "\n",
    "</div>"
   ]
  },
  {
   "cell_type": "code",
   "execution_count": 28,
   "metadata": {
    "colab": {},
    "colab_type": "code",
    "id": "3ibIFU9ZyW06",
    "outputId": "de695b3e-0001-4bef-8bfe-41b2739b9240"
   },
   "outputs": [
    {
     "data": {
      "text/html": [
       "<div>\n",
       "<style scoped>\n",
       "    .dataframe tbody tr th:only-of-type {\n",
       "        vertical-align: middle;\n",
       "    }\n",
       "\n",
       "    .dataframe tbody tr th {\n",
       "        vertical-align: top;\n",
       "    }\n",
       "\n",
       "    .dataframe thead th {\n",
       "        text-align: right;\n",
       "    }\n",
       "</style>\n",
       "<table border=\"1\" class=\"dataframe\">\n",
       "  <thead>\n",
       "    <tr style=\"text-align: right;\">\n",
       "      <th></th>\n",
       "      <th>Input_dataset</th>\n",
       "      <th>Test_set</th>\n",
       "      <th>Test set. %error</th>\n",
       "    </tr>\n",
       "  </thead>\n",
       "  <tbody>\n",
       "    <tr>\n",
       "      <th>1</th>\n",
       "      <td>0.039826</td>\n",
       "      <td>0.040213</td>\n",
       "      <td>0.973236</td>\n",
       "    </tr>\n",
       "    <tr>\n",
       "      <th>2</th>\n",
       "      <td>0.318847</td>\n",
       "      <td>0.324370</td>\n",
       "      <td>1.732260</td>\n",
       "    </tr>\n",
       "    <tr>\n",
       "      <th>3</th>\n",
       "      <td>0.350581</td>\n",
       "      <td>0.358527</td>\n",
       "      <td>2.266446</td>\n",
       "    </tr>\n",
       "    <tr>\n",
       "      <th>4</th>\n",
       "      <td>0.176308</td>\n",
       "      <td>0.167393</td>\n",
       "      <td>-5.056334</td>\n",
       "    </tr>\n",
       "    <tr>\n",
       "      <th>5</th>\n",
       "      <td>0.114438</td>\n",
       "      <td>0.109496</td>\n",
       "      <td>-4.318374</td>\n",
       "    </tr>\n",
       "  </tbody>\n",
       "</table>\n",
       "</div>"
      ],
      "text/plain": [
       "   Input_dataset  Test_set  Test set. %error\n",
       "1       0.039826  0.040213          0.973236\n",
       "2       0.318847  0.324370          1.732260\n",
       "3       0.350581  0.358527          2.266446\n",
       "4       0.176308  0.167393         -5.056334\n",
       "5       0.114438  0.109496         -4.318374"
      ]
     },
     "execution_count": 28,
     "metadata": {},
     "output_type": "execute_result"
    }
   ],
   "source": [
    "def income_cat_proportions(data):\n",
    "    return data[\"income_cat\"].value_counts() / len(data)\n",
    "\n",
    "\n",
    "compare_props = pd.DataFrame({\n",
    "    \"Input_dataset\": income_cat_proportions(housing),\n",
    "    \"Test_set\": income_cat_proportions(test_set),\n",
    "}).sort_index()\n",
    "compare_props[\"Test set. %error\"] = 100 * compare_props[\"Test_set\"] / compare_props[\"Input_dataset\"] - 100\n",
    "\n",
    "compare_props"
   ]
  },
  {
   "cell_type": "markdown",
   "metadata": {
    "colab_type": "text",
    "id": "OjCjgIMRyW09"
   },
   "source": [
    "<div class=\"alert alert-block alert-success\">\n",
    "    \n",
    "**Solution.** Random sampling of the test set significantly alters the income category proportions that we have in the input dataset. This might be a problem, because the median income is highly likely to be an important feature to predict the median house value\n",
    "\n",
    "</div>"
   ]
  },
  {
   "cell_type": "markdown",
   "metadata": {
    "colab_type": "text",
    "id": "uplUYpX0yW09"
   },
   "source": [
    "A solution to the problem pointed out in the previous question is to resort to __stratified sampling__.\n",
    "With stratified sampling, we create a test set that preserves the proportions of the income categories of the input dataset.\n",
    "The following cell shows how to do it."
   ]
  },
  {
   "cell_type": "code",
   "execution_count": 29,
   "metadata": {
    "colab": {},
    "colab_type": "code",
    "id": "5BwhnV4AyW0_"
   },
   "outputs": [],
   "source": [
    "strat_train_set, strat_test_set =\\\n",
    "train_test_split(housing, test_size=0.2, stratify=housing[\"income_cat\"], random_state=42, shuffle=True)"
   ]
  },
  {
   "cell_type": "markdown",
   "metadata": {
    "colab_type": "text",
    "id": "S6q0I5mEyW1C"
   },
   "source": [
    "If you run the following cell, you'll see by yourself that with stratified sampling the sampling bias is much lower than with random sampling."
   ]
  },
  {
   "cell_type": "code",
   "execution_count": 30,
   "metadata": {
    "colab": {},
    "colab_type": "code",
    "id": "YBfPYDT5yW1C",
    "outputId": "17ae7faa-7933-4ed7-f0e8-acaf45f67af5"
   },
   "outputs": [
    {
     "data": {
      "text/html": [
       "<div>\n",
       "<style scoped>\n",
       "    .dataframe tbody tr th:only-of-type {\n",
       "        vertical-align: middle;\n",
       "    }\n",
       "\n",
       "    .dataframe tbody tr th {\n",
       "        vertical-align: top;\n",
       "    }\n",
       "\n",
       "    .dataframe thead th {\n",
       "        text-align: right;\n",
       "    }\n",
       "</style>\n",
       "<table border=\"1\" class=\"dataframe\">\n",
       "  <thead>\n",
       "    <tr style=\"text-align: right;\">\n",
       "      <th></th>\n",
       "      <th>Input_dataset</th>\n",
       "      <th>Test_set</th>\n",
       "      <th>Stratified</th>\n",
       "      <th>Test set. %error</th>\n",
       "      <th>Strat. %error</th>\n",
       "    </tr>\n",
       "  </thead>\n",
       "  <tbody>\n",
       "    <tr>\n",
       "      <th>1</th>\n",
       "      <td>0.039826</td>\n",
       "      <td>0.040213</td>\n",
       "      <td>0.039729</td>\n",
       "      <td>0.973236</td>\n",
       "      <td>-0.243309</td>\n",
       "    </tr>\n",
       "    <tr>\n",
       "      <th>2</th>\n",
       "      <td>0.318847</td>\n",
       "      <td>0.324370</td>\n",
       "      <td>0.318798</td>\n",
       "      <td>1.732260</td>\n",
       "      <td>-0.015195</td>\n",
       "    </tr>\n",
       "    <tr>\n",
       "      <th>3</th>\n",
       "      <td>0.350581</td>\n",
       "      <td>0.358527</td>\n",
       "      <td>0.350533</td>\n",
       "      <td>2.266446</td>\n",
       "      <td>-0.013820</td>\n",
       "    </tr>\n",
       "    <tr>\n",
       "      <th>4</th>\n",
       "      <td>0.176308</td>\n",
       "      <td>0.167393</td>\n",
       "      <td>0.176357</td>\n",
       "      <td>-5.056334</td>\n",
       "      <td>0.027480</td>\n",
       "    </tr>\n",
       "    <tr>\n",
       "      <th>5</th>\n",
       "      <td>0.114438</td>\n",
       "      <td>0.109496</td>\n",
       "      <td>0.114583</td>\n",
       "      <td>-4.318374</td>\n",
       "      <td>0.127011</td>\n",
       "    </tr>\n",
       "  </tbody>\n",
       "</table>\n",
       "</div>"
      ],
      "text/plain": [
       "   Input_dataset  Test_set  Stratified  Test set. %error  Strat. %error\n",
       "1       0.039826  0.040213    0.039729          0.973236      -0.243309\n",
       "2       0.318847  0.324370    0.318798          1.732260      -0.015195\n",
       "3       0.350581  0.358527    0.350533          2.266446      -0.013820\n",
       "4       0.176308  0.167393    0.176357         -5.056334       0.027480\n",
       "5       0.114438  0.109496    0.114583         -4.318374       0.127011"
      ]
     },
     "execution_count": 30,
     "metadata": {},
     "output_type": "execute_result"
    }
   ],
   "source": [
    "compare_props = pd.DataFrame({\n",
    "    \"Input_dataset\": income_cat_proportions(housing),\n",
    "    \"Test_set\": income_cat_proportions(test_set),\n",
    "    \"Stratified\": income_cat_proportions(strat_test_set),\n",
    "}).sort_index()\n",
    "compare_props[\"Test set. %error\"] = 100 * compare_props[\"Test_set\"] / compare_props[\"Input_dataset\"] - 100\n",
    "compare_props[\"Strat. %error\"] = 100 * compare_props[\"Stratified\"] / compare_props[\"Input_dataset\"] - 100\n",
    "\n",
    "compare_props"
   ]
  },
  {
   "cell_type": "markdown",
   "metadata": {
    "colab_type": "text",
    "id": "v0Rffz3qyW1E"
   },
   "source": [
    "<div class=\"alert alert-block alert-info\">\n",
    "\n",
    "Always consider using stratified sampling when you need to maintain in the test set the same value distributions of a feature as in the whole dataset.\n",
    "**Caveat.** In this example the numeric variable has been artificially transformed into a categorical one. This allowed us to do stratified sampling. If we only have numeric variables, then the only available option is to resort to random sampling.\n",
    "\n",
    "</div>"
   ]
  },
  {
   "cell_type": "markdown",
   "metadata": {
    "colab_type": "text",
    "id": "XF9n2hxFyW1F"
   },
   "source": [
    "We're now going to analyze the data in more depth. For this task, we **set aside the test set** and we **only focus on the training set**. \n",
    "\n",
    "At this stage, it would be tempting to use the whole dataset in order to analyze the data. However, if we find some interesting patterns on the whole dataset and we use them to train a machine learning model, the evaluation on the test set would definitely be biased (this is called **data snooping bias**). The test set must be treated as a set of data that we know virtually nothing about.\n",
    "\n",
    "Since we're going to play with the training set, it is more prudent to make a copy of it."
   ]
  },
  {
   "cell_type": "code",
   "execution_count": 31,
   "metadata": {
    "colab": {},
    "colab_type": "code",
    "id": "HhQ6DXo1yW1F"
   },
   "outputs": [],
   "source": [
    "housing_copy = strat_train_set.copy()"
   ]
  },
  {
   "cell_type": "markdown",
   "metadata": {
    "colab_type": "text",
    "id": "zpgyW0d4yW1H"
   },
   "source": [
    "## Looking for correlations"
   ]
  },
  {
   "cell_type": "markdown",
   "metadata": {
    "colab_type": "text",
    "id": "zxSTd6BEyW1H"
   },
   "source": [
    "Since the dataset is not too big, we can compute the __correlation matrix__, where each cell contains the standard correlation coefficient (a.k.a., Pearson's $r$) between two features."
   ]
  },
  {
   "cell_type": "code",
   "execution_count": 32,
   "metadata": {
    "colab": {},
    "colab_type": "code",
    "id": "0pfcPnPOyW1I"
   },
   "outputs": [],
   "source": [
    "corr_matrix = housing_copy.corr()"
   ]
  },
  {
   "cell_type": "markdown",
   "metadata": {
    "colab_type": "text",
    "id": "1cRkW8SYyW1K"
   },
   "source": [
    "By executing the following cell, you obtain the correlation coefficient of each feature with $median\\_house\\_value$, the target variable that we need to predict.\n",
    "\n",
    "<div class=\"alert alert-block alert-success\">\n",
    "    \n",
    "**Question 8.** Comment the result.\n",
    "\n",
    "</div>"
   ]
  },
  {
   "cell_type": "code",
   "execution_count": 33,
   "metadata": {
    "collapsed": true
   },
   "outputs": [
    {
     "data": {
      "text/html": [
       "<div>\n",
       "<style scoped>\n",
       "    .dataframe tbody tr th:only-of-type {\n",
       "        vertical-align: middle;\n",
       "    }\n",
       "\n",
       "    .dataframe tbody tr th {\n",
       "        vertical-align: top;\n",
       "    }\n",
       "\n",
       "    .dataframe thead th {\n",
       "        text-align: right;\n",
       "    }\n",
       "</style>\n",
       "<table border=\"1\" class=\"dataframe\">\n",
       "  <thead>\n",
       "    <tr style=\"text-align: right;\">\n",
       "      <th></th>\n",
       "      <th>longitude</th>\n",
       "      <th>latitude</th>\n",
       "      <th>housing_median_age</th>\n",
       "      <th>total_rooms</th>\n",
       "      <th>total_bedrooms</th>\n",
       "      <th>population</th>\n",
       "      <th>households</th>\n",
       "      <th>median_income</th>\n",
       "      <th>median_house_value</th>\n",
       "    </tr>\n",
       "  </thead>\n",
       "  <tbody>\n",
       "    <tr>\n",
       "      <th>longitude</th>\n",
       "      <td>1.000000</td>\n",
       "      <td>-0.924478</td>\n",
       "      <td>-0.105848</td>\n",
       "      <td>0.048871</td>\n",
       "      <td>0.076598</td>\n",
       "      <td>0.108030</td>\n",
       "      <td>0.063070</td>\n",
       "      <td>-0.019583</td>\n",
       "      <td>-0.047432</td>\n",
       "    </tr>\n",
       "    <tr>\n",
       "      <th>latitude</th>\n",
       "      <td>-0.924478</td>\n",
       "      <td>1.000000</td>\n",
       "      <td>0.005766</td>\n",
       "      <td>-0.039184</td>\n",
       "      <td>-0.072419</td>\n",
       "      <td>-0.115222</td>\n",
       "      <td>-0.077647</td>\n",
       "      <td>-0.075205</td>\n",
       "      <td>-0.142724</td>\n",
       "    </tr>\n",
       "    <tr>\n",
       "      <th>housing_median_age</th>\n",
       "      <td>-0.105848</td>\n",
       "      <td>0.005766</td>\n",
       "      <td>1.000000</td>\n",
       "      <td>-0.364509</td>\n",
       "      <td>-0.325047</td>\n",
       "      <td>-0.298710</td>\n",
       "      <td>-0.306428</td>\n",
       "      <td>-0.111360</td>\n",
       "      <td>0.114110</td>\n",
       "    </tr>\n",
       "    <tr>\n",
       "      <th>total_rooms</th>\n",
       "      <td>0.048871</td>\n",
       "      <td>-0.039184</td>\n",
       "      <td>-0.364509</td>\n",
       "      <td>1.000000</td>\n",
       "      <td>0.929379</td>\n",
       "      <td>0.855109</td>\n",
       "      <td>0.918392</td>\n",
       "      <td>0.200087</td>\n",
       "      <td>0.135097</td>\n",
       "    </tr>\n",
       "    <tr>\n",
       "      <th>total_bedrooms</th>\n",
       "      <td>0.076598</td>\n",
       "      <td>-0.072419</td>\n",
       "      <td>-0.325047</td>\n",
       "      <td>0.929379</td>\n",
       "      <td>1.000000</td>\n",
       "      <td>0.876320</td>\n",
       "      <td>0.980170</td>\n",
       "      <td>-0.009740</td>\n",
       "      <td>0.047689</td>\n",
       "    </tr>\n",
       "    <tr>\n",
       "      <th>population</th>\n",
       "      <td>0.108030</td>\n",
       "      <td>-0.115222</td>\n",
       "      <td>-0.298710</td>\n",
       "      <td>0.855109</td>\n",
       "      <td>0.876320</td>\n",
       "      <td>1.000000</td>\n",
       "      <td>0.904637</td>\n",
       "      <td>0.002380</td>\n",
       "      <td>-0.026920</td>\n",
       "    </tr>\n",
       "    <tr>\n",
       "      <th>households</th>\n",
       "      <td>0.063070</td>\n",
       "      <td>-0.077647</td>\n",
       "      <td>-0.306428</td>\n",
       "      <td>0.918392</td>\n",
       "      <td>0.980170</td>\n",
       "      <td>0.904637</td>\n",
       "      <td>1.000000</td>\n",
       "      <td>0.010781</td>\n",
       "      <td>0.064506</td>\n",
       "    </tr>\n",
       "    <tr>\n",
       "      <th>median_income</th>\n",
       "      <td>-0.019583</td>\n",
       "      <td>-0.075205</td>\n",
       "      <td>-0.111360</td>\n",
       "      <td>0.200087</td>\n",
       "      <td>-0.009740</td>\n",
       "      <td>0.002380</td>\n",
       "      <td>0.010781</td>\n",
       "      <td>1.000000</td>\n",
       "      <td>0.687160</td>\n",
       "    </tr>\n",
       "    <tr>\n",
       "      <th>median_house_value</th>\n",
       "      <td>-0.047432</td>\n",
       "      <td>-0.142724</td>\n",
       "      <td>0.114110</td>\n",
       "      <td>0.135097</td>\n",
       "      <td>0.047689</td>\n",
       "      <td>-0.026920</td>\n",
       "      <td>0.064506</td>\n",
       "      <td>0.687160</td>\n",
       "      <td>1.000000</td>\n",
       "    </tr>\n",
       "  </tbody>\n",
       "</table>\n",
       "</div>"
      ],
      "text/plain": [
       "                    longitude  latitude  housing_median_age  total_rooms  \\\n",
       "longitude            1.000000 -0.924478           -0.105848     0.048871   \n",
       "latitude            -0.924478  1.000000            0.005766    -0.039184   \n",
       "housing_median_age  -0.105848  0.005766            1.000000    -0.364509   \n",
       "total_rooms          0.048871 -0.039184           -0.364509     1.000000   \n",
       "total_bedrooms       0.076598 -0.072419           -0.325047     0.929379   \n",
       "population           0.108030 -0.115222           -0.298710     0.855109   \n",
       "households           0.063070 -0.077647           -0.306428     0.918392   \n",
       "median_income       -0.019583 -0.075205           -0.111360     0.200087   \n",
       "median_house_value  -0.047432 -0.142724            0.114110     0.135097   \n",
       "\n",
       "                    total_bedrooms  population  households  median_income  \\\n",
       "longitude                 0.076598    0.108030    0.063070      -0.019583   \n",
       "latitude                 -0.072419   -0.115222   -0.077647      -0.075205   \n",
       "housing_median_age       -0.325047   -0.298710   -0.306428      -0.111360   \n",
       "total_rooms               0.929379    0.855109    0.918392       0.200087   \n",
       "total_bedrooms            1.000000    0.876320    0.980170      -0.009740   \n",
       "population                0.876320    1.000000    0.904637       0.002380   \n",
       "households                0.980170    0.904637    1.000000       0.010781   \n",
       "median_income            -0.009740    0.002380    0.010781       1.000000   \n",
       "median_house_value        0.047689   -0.026920    0.064506       0.687160   \n",
       "\n",
       "                    median_house_value  \n",
       "longitude                    -0.047432  \n",
       "latitude                     -0.142724  \n",
       "housing_median_age            0.114110  \n",
       "total_rooms                   0.135097  \n",
       "total_bedrooms                0.047689  \n",
       "population                   -0.026920  \n",
       "households                    0.064506  \n",
       "median_income                 0.687160  \n",
       "median_house_value            1.000000  "
      ]
     },
     "execution_count": 33,
     "metadata": {},
     "output_type": "execute_result"
    }
   ],
   "source": [
    "corr_matrix"
   ]
  },
  {
   "cell_type": "code",
   "execution_count": 26,
   "metadata": {
    "colab": {},
    "colab_type": "code",
    "id": "Uvl_N-zxyW1K",
    "outputId": "0088ae84-46ec-4487-cbef-8126de9bc0af"
   },
   "outputs": [
    {
     "data": {
      "text/plain": [
       "median_house_value    1.000000\n",
       "median_income         0.687160\n",
       "total_rooms           0.135097\n",
       "housing_median_age    0.114110\n",
       "households            0.064506\n",
       "total_bedrooms        0.047689\n",
       "population           -0.026920\n",
       "longitude            -0.047432\n",
       "latitude             -0.142724\n",
       "Name: median_house_value, dtype: float64"
      ]
     },
     "execution_count": 26,
     "metadata": {},
     "output_type": "execute_result"
    }
   ],
   "source": [
    "corr_matrix[\"median_house_value\"].sort_values(ascending=False)"
   ]
  },
  {
   "cell_type": "markdown",
   "metadata": {
    "colab_type": "text",
    "id": "MqDi249qyW1N"
   },
   "source": [
    "<div class=\"alert alert-block alert-success\">\n",
    "    \n",
    "**Solution.** The correlation analysis clearly shows that $median\\_income$ has a strong positive correlation with \n",
    "$median\\_house\\_value$, which justifies our choice to do a stratified sampling of the test set based on that feature. The other correlations are very weak.\n",
    "The negative correlation of $latitude$ with $median\\_house\\_value$ is very weak, but it shows a slight tendency of northern districts to have more expensive houses.\n",
    "\n",
    "</div>"
   ]
  },
  {
   "cell_type": "markdown",
   "metadata": {
    "colab_type": "text",
    "id": "o9UDJOrQyW1N"
   },
   "source": [
    "In the following cell, we plot the correlation between the most important features, as revealed by the correlation analysis above. The following code produces a matrix $S$, where each row and column corresponds to a feature. The cell $M[r, c]$ contains the plot of the correlation between features $r$ and $c$; the cell $M[r, r]$ contains the histogram of the values of $r$."
   ]
  },
  {
   "cell_type": "markdown",
   "metadata": {
    "colab_type": "text",
    "id": "QXsXnjRYyW1O"
   },
   "source": [
    "We can zoom in the correlation between $median\\_income$ and $median\\_house\\_value$.\n",
    "\n",
    "<div class=\"alert alert-block alert-success\">\n",
    "\n",
    "__Question 9.__ Is there anything that strikes you in this plot?\n",
    "\n",
    "</div>"
   ]
  },
  {
   "cell_type": "code",
   "execution_count": 34,
   "metadata": {
    "colab": {},
    "colab_type": "code",
    "id": "V43CjICbyW1P",
    "outputId": "b3df4302-7253-4308-fd84-46fe24f5f98f",
    "scrolled": true
   },
   "outputs": [
    {
     "data": {
      "text/plain": [
       "<matplotlib.axes._subplots.AxesSubplot at 0x7fc7a04ee0b8>"
      ]
     },
     "execution_count": 34,
     "metadata": {},
     "output_type": "execute_result"
    },
    {
     "data": {
      "image/png": "[encoded data removed]",
      "text/plain": [
       "<Figure size 432x288 with 1 Axes>"
      ]
     },
     "metadata": {
      "needs_background": "light"
     },
     "output_type": "display_data"
    }
   ],
   "source": [
    "housing_copy.plot(kind=\"scatter\", x=\"median_income\", y=\"median_house_value\",\n",
    "             alpha=0.1)"
   ]
  },
  {
   "cell_type": "markdown",
   "metadata": {
    "colab_type": "text",
    "id": "neKxdBTFyW1S"
   },
   "source": [
    "<div class=\"alert alert-block alert-success\">\n",
    "    \n",
    "**Solution.** The graph clearly shows that there is indeed a strong linear correlation between the two variables. \n",
    "We can also clearly see that there is a straight line at the maximum value of $median\\_house\\_value$. Once again, we see that the values of $median\\_house\\_value$ are artificially capped. For some reasons, districts where the median house value is higher than 500,000 are capped to 500,000. We'll see later that this has a negative impact on the predictions. Similar horizontal lines can be observed at 450,000 and 350,000.\n",
    "\n",
    "</div>"
   ]
  },
  {
   "cell_type": "markdown",
   "metadata": {
    "colab_type": "text",
    "id": "Mc8IfE9eyW1S"
   },
   "source": [
    "## Feature engineering"
   ]
  },
  {
   "cell_type": "markdown",
   "metadata": {
    "colab_type": "text",
    "id": "7kKyONGgyW1T"
   },
   "source": [
    "While analyzing the data, we might want to __create new features__ that are obtained as a combination of the existing ones. This is called __feature engineering__. \n",
    "In our example, we might notice that there isn't any feature that gives an indication of the surface of a house; we do have the feature $total\\_rooms$, but its values indicate the total number of rooms in a district, and gives no indication as to the surface of a house.\n",
    "\n",
    "<div class=\"alert alert-block alert-success\">\n",
    "\n",
    "__Question 10.__ Propose a new feature that uses the feature _total_rooms_ in combination with another feature to have an indication of the surface of a house.\n",
    "\n",
    "</div>"
   ]
  },
  {
   "cell_type": "markdown",
   "metadata": {
    "colab_type": "text",
    "id": "x4Ah9kSByW1T"
   },
   "source": [
    "<div class=\"alert alert-block alert-success\">\n",
    "    \n",
    "**Solution.** We can compute the number of rooms per household, that gives an idea of the number of rooms (and, therefore, the surface) of a house. The code to add the new feature is shown below.\n",
    "</div>"
   ]
  },
  {
   "cell_type": "code",
   "execution_count": 36,
   "metadata": {
    "colab": {},
    "colab_type": "code",
    "id": "mYep2lK_yW1U"
   },
   "outputs": [],
   "source": [
    "# SOLUTION\n",
    "housing_copy[\"rooms_per_household\"] = housing_copy[\"total_rooms\"]/housing_copy[\"households\"]"
   ]
  },
  {
   "cell_type": "markdown",
   "metadata": {
    "colab_type": "text",
    "id": "CjnHrqvWyW1W"
   },
   "source": [
    "<div class=\"alert alert-block alert-success\">\n",
    "\n",
    "__Question 11.__ Run the correlation analysis again and see if the new feature is useful.\n",
    "\n",
    "</div>"
   ]
  },
  {
   "cell_type": "code",
   "execution_count": 37,
   "metadata": {
    "colab": {},
    "colab_type": "code",
    "id": "dqKcCVVWyW1X",
    "outputId": "030738a3-6df2-491a-bda2-7656d562147d"
   },
   "outputs": [
    {
     "data": {
      "text/plain": [
       "median_house_value     1.000000\n",
       "median_income          0.687160\n",
       "rooms_per_household    0.146285\n",
       "total_rooms            0.135097\n",
       "housing_median_age     0.114110\n",
       "households             0.064506\n",
       "total_bedrooms         0.047689\n",
       "population            -0.026920\n",
       "longitude             -0.047432\n",
       "latitude              -0.142724\n",
       "Name: median_house_value, dtype: float64"
      ]
     },
     "execution_count": 37,
     "metadata": {},
     "output_type": "execute_result"
    }
   ],
   "source": [
    "#SOLUTION\n",
    "corr_matrix = housing_copy.corr()\n",
    "corr_matrix[\"median_house_value\"].sort_values(ascending=False)"
   ]
  },
  {
   "cell_type": "markdown",
   "metadata": {
    "colab_type": "text",
    "id": "JeFZJwhYyW1Y"
   },
   "source": [
    "<div class=\"alert alert-block alert-success\">\n",
    "    \n",
    "**Solution.** We can see that the new feature $rooms\\_per\\_household$ has a slightly higher correlation with the target variable than $total\\_rooms$, though the correlation is still very weak.\n",
    "</div>"
   ]
  },
  {
   "cell_type": "markdown",
   "metadata": {
    "colab_type": "text",
    "id": "FtgWnhjryW1Z"
   },
   "source": [
    "Another information that is missing is that we don't have any indication of the number of rooms that are used as bedrooms; so, we can compute the ratio between $total\\_bedrooms$ and $total\\_rooms$. We'll call this new feature $bedrooms\\_per\\_room$. \n",
    "\n",
    "<div class=\"alert alert-block alert-success\">\n",
    "    \n",
    "Run the following cell and look at the correlation of the new feature with the target variable.\n",
    "\n",
    "</div>"
   ]
  },
  {
   "cell_type": "code",
   "execution_count": 38,
   "metadata": {
    "colab": {},
    "colab_type": "code",
    "id": "18xJo-gFyW1Z",
    "outputId": "35da8402-8456-42a0-cf2a-f95417508ec8"
   },
   "outputs": [
    {
     "data": {
      "text/plain": [
       "median_house_value     1.000000\n",
       "median_income          0.687160\n",
       "rooms_per_household    0.146285\n",
       "total_rooms            0.135097\n",
       "housing_median_age     0.114110\n",
       "households             0.064506\n",
       "total_bedrooms         0.047689\n",
       "population            -0.026920\n",
       "longitude             -0.047432\n",
       "latitude              -0.142724\n",
       "bedrooms_per_room     -0.259984\n",
       "Name: median_house_value, dtype: float64"
      ]
     },
     "execution_count": 38,
     "metadata": {},
     "output_type": "execute_result"
    }
   ],
   "source": [
    "housing_copy[\"bedrooms_per_room\"] = housing_copy[\"total_bedrooms\"]/housing_copy[\"total_rooms\"]\n",
    "\n",
    "corr_matrix = housing_copy.corr()\n",
    "corr_matrix[\"median_house_value\"].sort_values(ascending=False)"
   ]
  },
  {
   "cell_type": "markdown",
   "metadata": {
    "colab_type": "text",
    "id": "pQ7Uys_iyW1b"
   },
   "source": [
    "The new feature has a weak negative correlation with the target variable. It seems that houses that have a lower bedroom/room ratio tend to be more expensive."
   ]
  },
  {
   "cell_type": "markdown",
   "metadata": {
    "colab_type": "text",
    "id": "-Omqi2g3yW1c"
   },
   "source": [
    "## Transforming the data for training and testing"
   ]
  },
  {
   "cell_type": "markdown",
   "metadata": {
    "colab_type": "text",
    "id": "wNH1UldayW1c"
   },
   "source": [
    "We first define a function $create\\_matrices()$ that takes in two dataframes, one containing the training set the other containing the test set, and returns the matrices $X\\_train$, $y\\_train$, $X\\_test$, $y\\_test$."
   ]
  },
  {
   "cell_type": "code",
   "execution_count": 39,
   "metadata": {
    "colab": {},
    "colab_type": "code",
    "id": "joh6j-HKyW1d"
   },
   "outputs": [],
   "source": [
    "def create_matrices(train_set, test_set):\n",
    "    \n",
    "    '''Function that creates the matrices X_train, y_train, X_test, y_test that are used to train and \n",
    "    test machine learning algorithms.\n",
    "    \n",
    "    Parameters\n",
    "    ----------\n",
    "        train_set : Dataframe.\n",
    "            The training set (containing both the features and the target variable).\n",
    "        test_set : Dataframe.\n",
    "            The test set (containing both the features and the target variable).\n",
    "            a\n",
    "    Returns\n",
    "    -------\n",
    "        A tuple (X_train, y_train, X_test, y_test).\n",
    "        All elements of the tuple are Dataframes. \n",
    "        X_train contains the values of all the features (without the target variable) of the training instances.\n",
    "        y_train contains the values of the target variable of the training instances.\n",
    "        X_test contains the values of all the features (without the target variable) of the test instances.\n",
    "        y_test contains the values of the target variable of the test instances.\n",
    "    '''\n",
    "    \n",
    "    X_train = train_set.drop(\"median_house_value\", axis=1)\n",
    "    y_train = train_set[\"median_house_value\"].copy()\n",
    "\n",
    "    X_test = test_set.drop(\"median_house_value\", axis=1)\n",
    "    y_test = test_set[\"median_house_value\"].copy()\n",
    "    return X_train, y_train, X_test, y_test\n",
    "    \n",
    "X_train, y_train, X_test, y_test = create_matrices(strat_train_set, strat_test_set)"
   ]
  },
  {
   "cell_type": "markdown",
   "metadata": {
    "colab_type": "text",
    "id": "jcKFzuMzyW1g"
   },
   "source": [
    "Let's now focus on the **transformation of the numerical features** before training and testing.\n",
    "\n",
    "In the first tutorial, we've seen the use of **pipelines** to specify data transformations prior to training and testing. All components, with the exception of the last one, must be **transformers**. \n",
    "In our case, we need transformers to:\n",
    "\n",
    "1. Scale the numerical features.\n",
    "2. Imputing missing values.\n",
    "3. Adding the two features $rooms\\_per\\_household$ and $bedrooms\\_per\\_room$. \n",
    "\n",
    "We already know that *Scikit-learn* provides transformers for the first two actions; **we need to define a custom transformer** to add the two new features.\n",
    "\n",
    "This is done in the following cell.\n",
    "\n",
    "We define a new class called $FeatureEngineering$ that inherits from $BaseEstimator$ and $TransformerMixin$, two classes defined in *Scikit-learn*. The new class has two boolean variables: \n",
    "\n",
    "* $add\\_bedrooms\\_per\\_room$: we set it to $True$ if we intend to add the feature $bedrooms\\_per\\_room$.\n",
    "\n",
    "* $add\\_rooms\\_per\\_household$: we set it to $True$ if we intend to add the feature $rooms\\_per\\_household$.\n",
    "\n",
    "When we create an instance of this transformer, we can choose whether to add one of the two features, both or none. This way, we can rapidly test different combinations to see their impact on the prediction error.\n",
    "\n",
    "<div class=\"alert alert-block alert-info\">\n",
    "Any transformer must implement the functions $fit()$ and $transform()$.\n",
    "\n",
    "* The function $fit()$ computes some values based on the values of the features of the training set. The computed values are then used by the $transform()$ function to actually transform the data. If no value must be computed at training time, $fit()$ returns $self$ (that means that the function does nothing).\n",
    "\n",
    "* The function $transform()$ transforms the input data, possibly using the value(s) computed by the function $fit()$.\n",
    "\n",
    "</div>\n",
    "\n",
    "Since the transformation consists in adding two new features, the function $fit()$ doesn't need to compute anything on the training set; the transformations are implemented in the function $transform()$.\n"
   ]
  },
  {
   "cell_type": "code",
   "execution_count": 40,
   "metadata": {
    "colab": {},
    "colab_type": "code",
    "id": "B-ZWt3THyW1h"
   },
   "outputs": [],
   "source": [
    "from sklearn.base import BaseEstimator\n",
    "from sklearn.base import TransformerMixin\n",
    "\n",
    "\n",
    "class FeatureEngineering(BaseEstimator, TransformerMixin):\n",
    "    '''Defines a transformer to add two new features to the dataset.\n",
    "    '''\n",
    "    \n",
    "    def __init__(self, add_bedrooms_per_room=True, add_rooms_per_household=True):\n",
    "        ''' The constructor of this class.\n",
    "        \n",
    "        Parameters\n",
    "        ----------\n",
    "            add_bedrooms_per_room : boolean\n",
    "                Set to True if you want to add the feature bedrooms_per_room (default: True).\n",
    "            add_rooms_per_household : boolean\n",
    "                Set to True if you want to add the feature rooms_per_household (default:True).\n",
    "        \n",
    "        '''\n",
    "        self.add_bedrooms_per_room = add_bedrooms_per_room\n",
    "        self.add_rooms_per_household = add_rooms_per_household\n",
    "    \n",
    "\n",
    "    def fit(self, X, y=None):\n",
    "        ''' Function invoked on the training instances to compute some values that \n",
    "        will be used by the function tranform. In this case, the function does nothing.\n",
    "        \n",
    "        Parameters\n",
    "        ----------\n",
    "            X : {array-like, sparse matrix}\n",
    "                The values of the features of the training instances.\n",
    "            y : array-like\n",
    "                The values of the target variable of the training instances.\n",
    "                \n",
    "        Returns\n",
    "        -------\n",
    "            self\n",
    "                An instance of self.\n",
    "        '''\n",
    "        return self\n",
    "    \n",
    "    def transform(self, X, y=None):\n",
    "        \n",
    "        '''Transforms the input data.\n",
    "        \n",
    "        Parameters\n",
    "        ----------\n",
    "            X : {array-like, sparse matrix}\n",
    "                The values of the features of the input instances.\n",
    "            y : array-like\n",
    "                The values of the target variable of the input instances.\n",
    "                \n",
    "        Returns\n",
    "        -------\n",
    "            Numpy array\n",
    "                The input instances with the new features.\n",
    "            \n",
    "        '''\n",
    "        \n",
    "        total_rooms_idx, total_bedrooms_idx, households_idx = 3, 4, 6\n",
    "        \n",
    "        rooms_per_household = X[:, total_rooms_idx]/X[:, households_idx]\n",
    "        bedrooms_per_room = X[:, total_bedrooms_idx]/X[:, total_rooms_idx]\n",
    "\n",
    "        if self.add_bedrooms_per_room and self.add_rooms_per_household:\n",
    "            return np.c_[X, rooms_per_household, bedrooms_per_room]\n",
    "        elif self.add_bedrooms_per_room:\n",
    "            return np.c_[X, bedrooms_per_room]\n",
    "        elif self.add_rooms_per_household:\n",
    "            return np.c_[X, rooms_per_household]\n",
    "        else:\n",
    "            return np.c_[X]"
   ]
  },
  {
   "cell_type": "markdown",
   "metadata": {
    "colab_type": "text",
    "id": "dXSZhUzCyW1l"
   },
   "source": [
    "<div class=\"alert alert-block alert-success\">\n",
    "\n",
    "__Question 12.__ Create a new pipeline called $num\\_pipeline$ that: \n",
    "\n",
    "1. Impute the missing values by using univariate median imputation as a strategy.\n",
    "\n",
    "2. Adds the two features $bedrooms\\_per\\_room$ and $rooms\\_per\\_household$.\n",
    "\n",
    "3. Standardize the values of the features.\n",
    "\n",
    "\n",
    "</div>"
   ]
  },
  {
   "cell_type": "code",
   "execution_count": 41,
   "metadata": {
    "colab": {},
    "colab_type": "code",
    "id": "ds9vPBrIyW1l"
   },
   "outputs": [],
   "source": [
    "# SOLUTION\n",
    "from sklearn.pipeline import Pipeline\n",
    "from sklearn.impute import SimpleImputer\n",
    "from sklearn.preprocessing import StandardScaler\n",
    "\n",
    "num_pipeline = Pipeline([\n",
    "    ('missing', SimpleImputer(strategy=\"median\")),\n",
    "    ('feature_engineering', FeatureEngineering(add_bedrooms_per_room=True, add_rooms_per_household=True)),\n",
    "    ('std_scaler', StandardScaler())\n",
    "])"
   ]
  },
  {
   "cell_type": "markdown",
   "metadata": {
    "colab_type": "text",
    "id": "z9BjF9NJyW1n"
   },
   "source": [
    "### Encoding categorical features"
   ]
  },
  {
   "cell_type": "markdown",
   "metadata": {
    "colab_type": "text",
    "id": "bKN1gRR5yW1n"
   },
   "source": [
    "The pipeline that we created above will be applied to the numerical features, but we also have a categorical feature in our dataset named $ocean\\_proximity$. Since most machine learning algorithms work with numeric features, it is necessary to transform the values of $ocean\\_proximity$ into numbers.\n",
    "\n",
    "We use a strategy called __one-hot encoding__. This creates one binary feature per category; in our case, we'll have 5 additional features. For a given instance, the feature 'INLAND' will have the value 1 if the corresponding value of the feature _ocean_proximity_ is 'INLAND', 0 otherwise.\n",
    "\n",
    "<div class=\"alert alert-block alert-info\">\n",
    "\n",
    "We can apply one-hot encoding in *Scikit-learn* by using the transformer [sklearn.preprocessing.OneHotEncoder](https://scikit-learn.org/stable/modules/generated/sklearn.preprocessing.OneHotEncoder.html).\n",
    "\n",
    "</div>\n",
    "\n",
    "In the following cell, we define a new transformer with $ColumnTransformer$ that applies the pipeline $num\\_pipeline$ to the numeric features and the transformer $OneHotEncoder$ to the categorical feature.\n",
    "\n",
    "<div class=\"alert alert-block alert-info\">\n",
    "\n",
    "In version 0.20, *Scikit-learn* introduced [sklearn.compute.ColumnTransformer](https://scikit-learn.org/stable/modules/generated/sklearn.compose.ColumnTransformer.html) to create a new transformer as a combination of other transformers.\n",
    "\n",
    "</div>\n"
   ]
  },
  {
   "cell_type": "code",
   "execution_count": 42,
   "metadata": {
    "colab": {},
    "colab_type": "code",
    "id": "kqpwcvkdyW1o"
   },
   "outputs": [],
   "source": [
    "from sklearn.compose import ColumnTransformer\n",
    "from sklearn.preprocessing import OneHotEncoder\n",
    "\n",
    "# We get the list of the numerical features.\n",
    "numeric_features = list(X_train.drop(\"ocean_proximity\", axis=1))\n",
    "\n",
    "# The only categorical feature.\n",
    "categorical_features = [\"ocean_proximity\"]\n",
    "\n",
    "# The new transformer that applies num_pipeline to the numeric features and\n",
    "# OneHotEncoder on the categorical features.\n",
    "housing_data_transformer = ColumnTransformer([\n",
    "    (\"num\", num_pipeline, numeric_features),\n",
    "    (\"cat\", OneHotEncoder(), categorical_features)\n",
    "])"
   ]
  },
  {
   "cell_type": "markdown",
   "metadata": {
    "colab_type": "text",
    "id": "jszBrgsoyW1q"
   },
   "source": [
    "We're now ready to train and test a machine learning model."
   ]
  },
  {
   "cell_type": "markdown",
   "metadata": {
    "colab_type": "text",
    "id": "K2m4FbACyW1q"
   },
   "source": [
    "## Training and testing"
   ]
  },
  {
   "cell_type": "markdown",
   "metadata": {
    "colab_type": "text",
    "id": "w63XPu7IyW1r"
   },
   "source": [
    "<div class=\"alert alert-block alert-success\">\n",
    "\n",
    "__Question 13.__ Complete the code of function $train\\_test\\_linear\\_regressor$ that trains and tests a linear regression model. The function will print the RMSE of the predictions on the test set. Call the function on the training and test set obtained previously ($X\\_train$, $y\\_train$, $X\\_test$, $y\\_test$).\n",
    "\n",
    "</div>\n",
    "\n",
    "<div class=\"alert alert-block alert-warning\">\n",
    "\n",
    "As a linear regression algorithm, use [sklearn.linear_model.LinearRegression](https://scikit-learn.org/stable/modules/generated/sklearn.linear_model.LinearRegression.html) instead of *SGDRegressor*. In fact, the latter produces different models after each run, which might be confusing, especially if you intend to do the optional exercises.\n",
    "\n",
    "</div>"
   ]
  },
  {
   "cell_type": "code",
   "execution_count": 43,
   "metadata": {
    "colab": {},
    "colab_type": "code",
    "id": "b9vFysF7yW1r",
    "outputId": "5c37e4fa-cca5-4211-ae4b-7e9f7da65468"
   },
   "outputs": [
    {
     "name": "stdout",
     "output_type": "stream",
     "text": [
      "66736.98849378395\n"
     ]
    }
   ],
   "source": [
    "# SOLUTION\n",
    "from sklearn.linear_model import LinearRegression\n",
    "from sklearn.metrics import mean_squared_error\n",
    "\n",
    "def train_test_linear_regressor(X_train, y_train, X_test, y_test):\n",
    "    '''Trains and test a linear regression model on the given training and test set.\n",
    "    The function prints the RMSE of the predictions on the test set.\n",
    "    \n",
    "    Parameters\n",
    "    ----------\n",
    "        X_train : {array-like, sparse matrix}\n",
    "            The matrix with the values of the features of the training instances.\n",
    "        y_train : array-like\n",
    "            The vector  with the values of the target variable of the training instances.\n",
    "        X_test : {array-like, sparse matrix}\n",
    "            The matrix with the values of the features of the test instances.\n",
    "        y_test : array-like\n",
    "            The vector  with the values of the target variable of the test instances.\n",
    "            \n",
    "    '''\n",
    "    \n",
    "    ##################### COMPLETE THE CODE HERE #####################\n",
    "\n",
    "    # Define the full pipeline, with data processing and the estimator (a SGDRegressor)\n",
    "    full_pipeline = Pipeline([\n",
    "            (\"data_processing\", housing_data_transformer),\n",
    "            (\"linear_regression\", LinearRegression())\n",
    "        ])\n",
    "\n",
    "    # Transform the training data and train the linear regressor.\n",
    "    full_pipeline.fit(X_train, y_train)\n",
    "\n",
    "    # Test the linear regressor on the test data.\n",
    "    predictions = full_pipeline.predict(X_test)\n",
    "\n",
    "    # Compute the prediction error.\n",
    "    mse = mean_squared_error(y_test, predictions)\n",
    "    \n",
    "    # Print the RMSE.\n",
    "    print(np.sqrt(mse))\n",
    "    \n",
    "    ###############################################################\n",
    "    \n",
    "train_test_linear_regressor(X_train, y_train, X_test, y_test)"
   ]
  },
  {
   "cell_type": "markdown",
   "metadata": {
    "colab_type": "text",
    "id": "Ow4RN_I5yW1u"
   },
   "source": [
    "<div class=\"alert alert-block alert-success\">\n",
    "\n",
    "__Question 14.__ What happens if you don't add the features $bedrooms\\_per\\_room$ and $rooms\\_per\\_household$?\n",
    "What happens if you only add one of them? Go back to the definition of $num\\_pipeline$ and change the values of its boolean parameters accordingly. Then retrain and test a linear regression model.\n",
    "\n",
    "</div>"
   ]
  },
  {
   "cell_type": "markdown",
   "metadata": {
    "colab_type": "text",
    "id": "_aUfxIv8yW1v"
   },
   "source": [
    "<div class=\"alert alert-block alert-success\">\n",
    "\n",
    "__Solution.__ In order to obtain a reduction of the prediction error, we need to add both of them. The feature $bedrooms\\_per\\_room$ seems to have a slightly higher impact on the prediction error, which is coherent with the fact that it has a stronger correlation with the target variable than $rooms_per_household$.\n",
    "\n",
    "</div>"
   ]
  },
  {
   "cell_type": "markdown",
   "metadata": {
    "colab_type": "text",
    "id": "keRHI1NUyW1v"
   },
   "source": [
    "At some point, we've seen that there are many instances for which the value of $median\\_house\\_value$ is 500,000. This means that the target variable is capped at that value. In other words, the median house value for many districts is higher than 500,000, but for some reason, its value has been brought down to 500,000. This might be a problem, since the machine learning algorithm will learn that the median house price will never be more than 500,000.\n",
    "\n",
    "In the next cell, we create a new train and test set, where the instances whose value of $median\\_house\\_value$ is 500,000 are removed. The code displays the scatter plots of $median\\_income$ against $median\\_house\\_value$ when keeping all instances (in red) and when removing the instances with $median\\_house\\_value$ = 500 (in blue).\n",
    "\n",
    "<div class=\"alert alert-block alert-success\">\n",
    "\n",
    "__Question 15.__ What is the difference between the two scatter plots?\n",
    "\n",
    "</div>"
   ]
  },
  {
   "cell_type": "code",
   "execution_count": 45,
   "metadata": {
    "colab": {},
    "colab_type": "code",
    "id": "g_3xSafwyW1w",
    "outputId": "c2ae3573-4bb8-4102-9265-b00deaa191aa"
   },
   "outputs": [
    {
     "data": {
      "text/plain": [
       "<matplotlib.axes._subplots.AxesSubplot at 0x7fc7a162c8d0>"
      ]
     },
     "execution_count": 45,
     "metadata": {},
     "output_type": "execute_result"
    },
    {
     "data": {
      "image/png": "[encoded data removed]",
      "text/plain": [
       "<Figure size 432x288 with 1 Axes>"
      ]
     },
     "metadata": {
      "needs_background": "light"
     },
     "output_type": "display_data"
    },
    {
     "data": {
      "image/png": "[encoded data removed]",
      "text/plain": [
       "<Figure size 432x288 with 1 Axes>"
      ]
     },
     "metadata": {
      "needs_background": "light"
     },
     "output_type": "display_data"
    }
   ],
   "source": [
    "strat_train_set.plot(kind=\"scatter\", x=\"median_income\", y=\"median_house_value\", title=\"All instances\", alpha=0.1, c=\"red\")\n",
    "\n",
    "strat_train_set_new = strat_train_set[strat_train_set[\"median_house_value\"]<500000]\n",
    "strat_test_set_new = strat_test_set[strat_test_set[\"median_house_value\"]<500000]\n",
    "\n",
    "strat_train_set_new.plot(kind=\"scatter\", x=\"median_income\", y=\"median_house_value\", title=\"Instances < 500000\", alpha=0.1)"
   ]
  },
  {
   "cell_type": "markdown",
   "metadata": {
    "colab_type": "text",
    "id": "ZvX3L9fdyW1y"
   },
   "source": [
    "<div class=\"alert alert-block alert-success\">\n",
    "\n",
    "**Solution.** The scatter plot in red shows (as we've seen before) an evident straight line at 500,000; this line doesn't appear in the second scatter plot. \n",
    "\n",
    "</div>"
   ]
  },
  {
   "cell_type": "markdown",
   "metadata": {
    "colab_type": "text",
    "id": "WSCwsrOayW1y"
   },
   "source": [
    "<div class=\"alert alert-block alert-success\">\n",
    "\n",
    "__Question 16.__ Write the code to train and test a linear regression model on $strat\\_train\\_set\\_new$ and $strat\\_test\\_set\\_new$. What can you say about the prediction error, compared with what you obtained before?\n",
    "\n",
    "</div>"
   ]
  },
  {
   "cell_type": "code",
   "execution_count": 46,
   "metadata": {
    "colab": {},
    "colab_type": "code",
    "id": "IxZbuRGUyW1z",
    "outputId": "fdda596d-0325-4654-eaee-bf61cdd05207"
   },
   "outputs": [
    {
     "name": "stdout",
     "output_type": "stream",
     "text": [
      "59180.055928342445\n"
     ]
    }
   ],
   "source": [
    "#SOLUTION\n",
    "\n",
    "X_train_new, y_train_new, X_test_new, y_test_new = create_matrices(strat_train_set_new, strat_test_set_new)\n",
    "train_test_linear_regressor(X_train_new, y_train_new, X_test_new, y_test_new)"
   ]
  },
  {
   "cell_type": "markdown",
   "metadata": {
    "colab_type": "text",
    "id": "JSoF6vH7yW12"
   },
   "source": [
    "<div class=\"alert alert-block alert-success\">\n",
    "\n",
    "**Solution.** After removing those particular instances, we decidedly reduced the prediction error.\n",
    "\n",
    "</div>"
   ]
  }
 ],
 "metadata": {
  "colab": {
   "name": "td2-corrige.ipynb",
   "provenance": []
  },
  "kernelspec": {
   "display_name": "Python 3",
   "language": "python",
   "name": "python3"
  },
  "language_info": {
   "codemirror_mode": {
    "name": "ipython",
    "version": 3
   },
   "file_extension": ".py",
   "mimetype": "text/x-python",
   "name": "python",
   "nbconvert_exporter": "python",
   "pygments_lexer": "ipython3",
   "version": "3.7.3"
  },
  "nav_menu": {
   "height": "279px",
   "width": "309px"
  },
  "toc": {
   "nav_menu": {},
   "number_sections": true,
   "sideBar": true,
   "skip_h1_title": false,
   "toc_cell": false,
   "toc_position": {},
   "toc_section_display": "block",
   "toc_window_display": false
  }
 },
 "nbformat": 4,
 "nbformat_minor": 1
}
