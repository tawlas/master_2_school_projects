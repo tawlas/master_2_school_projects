{
 "cells": [
  {
   "cell_type": "markdown",
   "metadata": {
    "id": "HlZ3psJ78LI_"
   },
   "source": [
    "<center><img src='https://netacad.centralesupelec.fr/img/cs.jpg' width=200></center>\n",
    "\n",
    "<h6><center>Introduction to Machine Learning</center></h6>\n",
    "\n",
    "<h1>\n",
    "<hr style=\" border:none; height:3px;\">\n",
    "<center>TD 6: Bagging (Correction)</center>\n",
    "<hr style=\" border:none; height:3px;\">\n",
    "</h1>\n",
    "\n",
    "__Teachers__: Myriam Tami, Gianluca Quercini, Yassine Ouali"
   ]
  },
  {
   "cell_type": "markdown",
   "metadata": {
    "id": "su4onBR68LJA"
   },
   "source": [
    "# Introduction\n"
   ]
  },
  {
   "cell_type": "markdown",
   "metadata": {
    "id": "wqTPodvs8LJD"
   },
   "source": [
    "This lab consists of two parts. In the first part, we're going to experiment decision trees approach on both simulated and real data; in the second part, we're going to perform random forest. \n",
    "\n",
    "This lab is free from some of the examples shown in the `Scikit-Learn` [global documentation](https://scikit-learn.org/stable/modules/tree.html) and documentation on [random forests for the regression case](https://scikit-learn.org/stable/modules/generated/sklearn.ensemble.RandomForestRegressor.html) and [random forests for classification problems](https://scikit-learn.org/stable/modules/generated/sklearn.ensemble.RandomForestClassifier.html).\n",
    "\n",
    "\n",
    "The objectives of this practical session is tofold: \n",
    " + use decision trees for classification and regression problems in python (`sklearn` module);\n",
    " + use **bagging** and **random forests** approaches for classification and regression problems in python (`sklearn` module).\n",
    " \n",
    "Useful reference links:\n",
    "+ [`Scikit-learn` website](https://scikit-learn.org/stable/index.html)\n",
    "+ [`NumPy` documentation](https://docs.scipy.org/doc/numpy/user/index.html)\n",
    "+ [`SciPy` documentation](https://docs.scipy.org/doc/scipy/reference/)\n",
    "+ [`MatPlotLib` documentation](https://matplotlib.org/)\n",
    "+ [Python website](https://www.python.org/)\n",
    "\n",
    "\n"
   ]
  },
  {
   "cell_type": "markdown",
   "metadata": {
    "id": "-MJae2n78LJE"
   },
   "source": [
    "# 1. Decision trees"
   ]
  },
  {
   "cell_type": "markdown",
   "metadata": {
    "id": "izKOF3RM8LJG"
   },
   "source": [
    "Decision trees are learning methods used for classification and regression prediction problems. The goal is to create a model that predicts the values of the output variable, based on a set of sequences of decision rules (formaly a set of split points) deduced from the training data. The tree therefore approximates the output by a succession of if-then-else rules (leading to terminal nodes). This paradigm works well for both categorical and numerical data. The more complex the generated tree, the more the model \"explains\"/fits the training data but also the more the chances of overfitting.\n",
    "\n",
    "**Advantages of decision trees**\n",
    "+ They are simple to understand and visualize\n",
    "+ They require little data preparation (standardization, etc.)\n",
    "+ The cost of using trees is logarithmic\n",
    "+ They are able to manage categorical and numerical data\n",
    "+ They are able to deal with multi-class problems\n",
    "+ White box model: the result is easy to conceptualize and visualize\n",
    "\n",
    "**Disadvantages of decision trees**\n",
    "\n",
    "+ Overfitting: sometimes the trees generated are too complex and generalize poorly. Choosing the right values for the maximum depth (`max_depth`) and minimum number of examples per leaf (`min_samples_leaf`) parameters avoids this problem.\n",
    "+ Sometimes the trees generated are not balanced. It is therefore recommended to adjust the database before construction, to avoid one class largely dominating the others (in terms of the number of training examples).\n",
    "\n",
    "#### 1.0. Python dependencies and setup\n",
    "\n",
    "You will need to install some packages allowing to visualize some results of this lab. Run the following command.\n",
    "\n",
    "\n"
   ]
  },
  {
   "cell_type": "code",
   "execution_count": 1,
   "metadata": {
    "colab": {
     "base_uri": "https://localhost:8080/",
     "height": 34
    },
    "executionInfo": {
     "elapsed": 4808,
     "status": "ok",
     "timestamp": 1602652955254,
     "user": {
      "displayName": "Gianluca Quercini",
      "photoUrl": "https://lh3.googleusercontent.com/a-/AOh14GiujtXjLkDQTxOfW1-EeQLxZinIgvksnq26kCBmOA=s64",
      "userId": "01078419762996474842"
     },
     "user_tz": -120
    },
    "id": "gvRjtRTg8LJG",
    "outputId": "137491d3-6707-470d-8b4e-2933e174b320"
   },
   "outputs": [
    {
     "name": "stdout",
     "output_type": "stream",
     "text": [
      "Requirement already satisfied: graphviz in /usr/local/lib/python3.6/dist-packages (0.10.1)\n"
     ]
    }
   ],
   "source": [
    "pip install graphviz"
   ]
  },
  {
   "cell_type": "code",
   "execution_count": 2,
   "metadata": {
    "colab": {
     "base_uri": "https://localhost:8080/",
     "height": 51
    },
    "executionInfo": {
     "elapsed": 3482,
     "status": "ok",
     "timestamp": 1602652972445,
     "user": {
      "displayName": "Gianluca Quercini",
      "photoUrl": "https://lh3.googleusercontent.com/a-/AOh14GiujtXjLkDQTxOfW1-EeQLxZinIgvksnq26kCBmOA=s64",
      "userId": "01078419762996474842"
     },
     "user_tz": -120
    },
    "id": "LV-nYsS38LJY",
    "outputId": "78ac1dc2-decf-4960-e3f6-11206d8525a0"
   },
   "outputs": [
    {
     "name": "stdout",
     "output_type": "stream",
     "text": [
      "Requirement already satisfied: pydot in /usr/local/lib/python3.6/dist-packages (1.3.0)\n",
      "Requirement already satisfied: pyparsing>=2.1.4 in /usr/local/lib/python3.6/dist-packages (from pydot) (2.4.7)\n"
     ]
    }
   ],
   "source": [
    "pip install pydot"
   ]
  },
  {
   "cell_type": "code",
   "execution_count": null,
   "metadata": {
    "id": "NED3mI6s8LJd",
    "outputId": "65264500-70a5-477f-c4f9-71840626bf68"
   },
   "outputs": [
    {
     "name": "stdout",
     "output_type": "stream",
     "text": [
      "Collecting pydotplus\n",
      "  Using cached pydotplus-2.0.2.tar.gz (278 kB)\n",
      "Requirement already satisfied: pyparsing>=2.0.1 in /Users/myriamtami/opt/anaconda3/lib/python3.7/site-packages (from pydotplus) (2.4.6)\n",
      "Building wheels for collected packages: pydotplus\n",
      "  Building wheel for pydotplus (setup.py) ... \u001b[?25ldone\n",
      "\u001b[?25h  Created wheel for pydotplus: filename=pydotplus-2.0.2-py3-none-any.whl size=24566 sha256=fe87347c5d4c39f8ab827005e60100b5c2d1c2d94b19bf5817834042dd49268e\n",
      "  Stored in directory: /Users/myriamtami/Library/Caches/pip/wheels/1e/7b/04/7387cf6cc9e48b4a96e361b0be812f0708b394b821bf8c9c50\n",
      "Successfully built pydotplus\n",
      "Installing collected packages: pydotplus\n",
      "Successfully installed pydotplus-2.0.2\n",
      "Note: you may need to restart the kernel to use updated packages.\n"
     ]
    }
   ],
   "source": [
    "pip install pydotplus"
   ]
  },
  {
   "cell_type": "code",
   "execution_count": null,
   "metadata": {
    "id": "SQcRTPre8LJi"
   },
   "outputs": [],
   "source": [
    "# Python ≥3.5 is required\n",
    "import sys\n",
    "assert sys.version_info >= (3, 5)\n",
    "\n",
    "# Scikit-Learn ≥0.20 is required\n",
    "import sklearn\n",
    "assert sklearn.__version__ >= \"0.20\"\n",
    "\n",
    "\n",
    "import numpy as np\n",
    "import pandas as pd\n",
    "\n",
    "\n",
    "# Matplotlib is used to plot graphs\n",
    "%matplotlib inline \n",
    "import matplotlib as mpl\n",
    "import matplotlib.pyplot as plt\n",
    "from mpl_toolkits.mplot3d import Axes3D\n",
    "# Style options for plots.\n",
    "mpl.rc('axes', labelsize=14)\n",
    "mpl.rc('xtick', labelsize=12)\n",
    "mpl.rc('ytick', labelsize=12)\n",
    "\n"
   ]
  },
  {
   "cell_type": "markdown",
   "metadata": {
    "id": "mB7gb-138LJm"
   },
   "source": [
    "#### 1.1. Classification Decision Trees\n",
    "\n",
    "In Scikit-learn, the class [sklearn.tree.DecisionTreeClassifier](https://scikit-learn.org/stable/modules/generated/sklearn.tree.DecisionTreeClassifier.html) allows to make a multi-class classification on a database. This class needs as input a matrix X of size `[n_samples, n_features]` containing the data and a vector Y of size `[n_samples]` with the values of the target (output) class.\n",
    "\n",
    "We start by importing the right modules and building the tree object:\n"
   ]
  },
  {
   "cell_type": "code",
   "execution_count": 3,
   "metadata": {
    "executionInfo": {
     "elapsed": 1394,
     "status": "ok",
     "timestamp": 1602653003088,
     "user": {
      "displayName": "Gianluca Quercini",
      "photoUrl": "https://lh3.googleusercontent.com/a-/AOh14GiujtXjLkDQTxOfW1-EeQLxZinIgvksnq26kCBmOA=s64",
      "userId": "01078419762996474842"
     },
     "user_tz": -120
    },
    "id": "tM3BoMec8LJo"
   },
   "outputs": [],
   "source": [
    "from sklearn import tree\n",
    "clf = tree.DecisionTreeClassifier()"
   ]
  },
  {
   "cell_type": "markdown",
   "metadata": {
    "id": "dzu710Cq8LJu"
   },
   "source": [
    "The data:"
   ]
  },
  {
   "cell_type": "code",
   "execution_count": 4,
   "metadata": {
    "executionInfo": {
     "elapsed": 498,
     "status": "ok",
     "timestamp": 1602653005052,
     "user": {
      "displayName": "Gianluca Quercini",
      "photoUrl": "https://lh3.googleusercontent.com/a-/AOh14GiujtXjLkDQTxOfW1-EeQLxZinIgvksnq26kCBmOA=s64",
      "userId": "01078419762996474842"
     },
     "user_tz": -120
    },
    "id": "g3DoeqC68LJu"
   },
   "outputs": [],
   "source": [
    "X = [[0, 0], [1, 1]]\n",
    "Y = [0, 1]"
   ]
  },
  {
   "cell_type": "markdown",
   "metadata": {
    "id": "a36ufMHU8LJy"
   },
   "source": [
    "Model construction (model will be nammed clf):\n"
   ]
  },
  {
   "cell_type": "code",
   "execution_count": 5,
   "metadata": {
    "executionInfo": {
     "elapsed": 568,
     "status": "ok",
     "timestamp": 1602653009809,
     "user": {
      "displayName": "Gianluca Quercini",
      "photoUrl": "https://lh3.googleusercontent.com/a-/AOh14GiujtXjLkDQTxOfW1-EeQLxZinIgvksnq26kCBmOA=s64",
      "userId": "01078419762996474842"
     },
     "user_tz": -120
    },
    "id": "7mgacI798LJy",
    "scrolled": true
   },
   "outputs": [],
   "source": [
    "clf = clf.fit(X, Y)\n"
   ]
  },
  {
   "cell_type": "markdown",
   "metadata": {
    "id": "gyCcxCYz8LJ3"
   },
   "source": [
    "Prediction on new samples:\n"
   ]
  },
  {
   "cell_type": "code",
   "execution_count": 6,
   "metadata": {
    "colab": {
     "base_uri": "https://localhost:8080/",
     "height": 34
    },
    "executionInfo": {
     "elapsed": 495,
     "status": "ok",
     "timestamp": 1602653012405,
     "user": {
      "displayName": "Gianluca Quercini",
      "photoUrl": "https://lh3.googleusercontent.com/a-/AOh14GiujtXjLkDQTxOfW1-EeQLxZinIgvksnq26kCBmOA=s64",
      "userId": "01078419762996474842"
     },
     "user_tz": -120
    },
    "id": "h0WNXEMM8LJ3",
    "outputId": "45491125-0c24-4bb4-cf03-cd3f3a8d671c"
   },
   "outputs": [
    {
     "data": {
      "text/plain": [
       "array([1])"
      ]
     },
     "execution_count": 6,
     "metadata": {
      "tags": []
     },
     "output_type": "execute_result"
    }
   ],
   "source": [
    "clf.predict([[2., 2.]])"
   ]
  },
  {
   "cell_type": "markdown",
   "metadata": {
    "id": "horKZPj58LJ7"
   },
   "source": [
    "We can also predict the probability of each class for a sample (which is calculated as the fraction of training data in each terminal node):"
   ]
  },
  {
   "cell_type": "code",
   "execution_count": 7,
   "metadata": {
    "colab": {
     "base_uri": "https://localhost:8080/",
     "height": 34
    },
    "executionInfo": {
     "elapsed": 438,
     "status": "ok",
     "timestamp": 1602653022558,
     "user": {
      "displayName": "Gianluca Quercini",
      "photoUrl": "https://lh3.googleusercontent.com/a-/AOh14GiujtXjLkDQTxOfW1-EeQLxZinIgvksnq26kCBmOA=s64",
      "userId": "01078419762996474842"
     },
     "user_tz": -120
    },
    "id": "xSJyV66d8LJ8",
    "outputId": "ac6b0945-908d-43e5-e775-3ec7cbb3af07"
   },
   "outputs": [
    {
     "data": {
      "text/plain": [
       "array([[0., 1.]])"
      ]
     },
     "execution_count": 7,
     "metadata": {
      "tags": []
     },
     "output_type": "execute_result"
    }
   ],
   "source": [
    "clf.predict_proba([[2., 2.]])"
   ]
  },
  {
   "cell_type": "markdown",
   "metadata": {
    "id": "ksrog4A_8LKA"
   },
   "source": [
    "#### Iris data classification\n",
    "\n",
    "DecisionTreeClassifier is able to handle classification problems with several classes (for example, with labels 0, 1,… K-1). In this example we will work with the [Iris](https://archive.ics.uci.edu/ml/datasets/Iris) database, easily accessible in sklearn. This database contains 3 classes of 150 observations, each class referring to a variety of iris (plant). One of the classes is linearly separable from the other two, but the other two are not separable one from the other. The variable to predict is the variety of iris.\n",
    "\n",
    "Attributes:\n",
    "+ sepal length in cm \n",
    "+ sepal width in cm \n",
    "+ petal length in cm \n",
    "+ petal width in cm \n",
    "+ class: Iris Setosa, Iris Versicolour, Iris Virginica\n",
    "\n",
    "One sample from the database: 4.9,3.6,1.4,0.1, “Iris-setosa”"
   ]
  },
  {
   "cell_type": "code",
   "execution_count": 8,
   "metadata": {
    "executionInfo": {
     "elapsed": 405,
     "status": "ok",
     "timestamp": 1602653112253,
     "user": {
      "displayName": "Gianluca Quercini",
      "photoUrl": "https://lh3.googleusercontent.com/a-/AOh14GiujtXjLkDQTxOfW1-EeQLxZinIgvksnq26kCBmOA=s64",
      "userId": "01078419762996474842"
     },
     "user_tz": -120
    },
    "id": "M6id7sf18LKB"
   },
   "outputs": [],
   "source": [
    "from sklearn.datasets import load_iris\n",
    "from sklearn import tree\n",
    "iris = load_iris()\n",
    "clf = tree.DecisionTreeClassifier()\n",
    "clf = clf.fit(iris.data, iris.target)"
   ]
  },
  {
   "cell_type": "markdown",
   "metadata": {
    "id": "DsU2mjPO8LKF"
   },
   "source": [
    "Once learning is complete we can view the tree created using the `graphviz` tool. To display it, we create a function `create_tree_graph_png()`:"
   ]
  },
  {
   "cell_type": "code",
   "execution_count": 9,
   "metadata": {
    "colab": {
     "base_uri": "https://localhost:8080/",
     "height": 792
    },
    "executionInfo": {
     "elapsed": 1318,
     "status": "ok",
     "timestamp": 1602653125081,
     "user": {
      "displayName": "Gianluca Quercini",
      "photoUrl": "https://lh3.googleusercontent.com/a-/AOh14GiujtXjLkDQTxOfW1-EeQLxZinIgvksnq26kCBmOA=s64",
      "userId": "01078419762996474842"
     },
     "user_tz": -120
    },
    "id": "65dp6Lh-8LKF",
    "outputId": "b2692dc4-1c60-4b4a-a9ac-339bbb9b8ad4"
   },
   "outputs": [
    {
     "data": {
      "image/png": "[encoded data removed]",
      "text/plain": [
       "<IPython.core.display.Image object>"
      ]
     },
     "execution_count": 9,
     "metadata": {
      "tags": []
     },
     "output_type": "execute_result"
    }
   ],
   "source": [
    "from sklearn.tree import export_graphviz\n",
    "from IPython.display import Image \n",
    "import pydotplus\n",
    "\n",
    "# Function to create a tree diagram\n",
    "def create_tree_graph_png(tree, feature_names):\n",
    "    tree_str = export_graphviz(tree, feature_names=feature_names, filled=True, out_file=None)\n",
    "    graph = pydotplus.graph_from_dot_data(tree_str)  \n",
    "    graph.write_png('tree.png')\n",
    "    return Image(graph.create_png())\n",
    "\n",
    "# Display the tree\n",
    "create_tree_graph_png(clf, feature_names= iris.feature_names)"
   ]
  },
  {
   "cell_type": "markdown",
   "metadata": {
    "id": "03NnxehS8LKK"
   },
   "source": [
    "The generated image looks like this: \n",
    "\n",
    "<figure>\n",
    "<center><img src='https://github.com/myriamtami/ML-Labs/blob/master/Figures/Iris_Tree.png?raw=true' width=1000></center>\n",
    "</figure>\n",
    " \n"
   ]
  },
  {
   "cell_type": "markdown",
   "metadata": {
    "id": "3cP2WvMm8LKL"
   },
   "source": [
    "After its construction, the model can be used for prediction:"
   ]
  },
  {
   "cell_type": "code",
   "execution_count": 10,
   "metadata": {
    "colab": {
     "base_uri": "https://localhost:8080/",
     "height": 51
    },
    "executionInfo": {
     "elapsed": 417,
     "status": "ok",
     "timestamp": 1602653171892,
     "user": {
      "displayName": "Gianluca Quercini",
      "photoUrl": "https://lh3.googleusercontent.com/a-/AOh14GiujtXjLkDQTxOfW1-EeQLxZinIgvksnq26kCBmOA=s64",
      "userId": "01078419762996474842"
     },
     "user_tz": -120
    },
    "id": "jPgrynNe8LKM",
    "outputId": "2c168b2a-62c4-4f4b-cb06-c47fe33976c6"
   },
   "outputs": [
    {
     "name": "stdout",
     "output_type": "stream",
     "text": [
      "[0]\n",
      "[[1. 0. 0.]]\n"
     ]
    }
   ],
   "source": [
    "print(clf.predict(iris.data[:1, :]))\n",
    "print(clf.predict_proba(iris.data[:1, :]))"
   ]
  },
  {
   "cell_type": "markdown",
   "metadata": {
    "id": "qIlH2UW78LKP"
   },
   "source": [
    "<div class=\"alert alert-block alert-success\">\n",
    "\n",
    "**Question 1.** Change the parameter values `max depth` and `min_samples_leaf`. What do you observe?\n",
    "\n",
    "</div>"
   ]
  },
  {
   "cell_type": "markdown",
   "metadata": {
    "id": "HqnJePJQ8LKQ"
   },
   "source": [
    "<div class=\"alert alert-block alert-success\">\n",
    "\n",
    "**Solution.** See the documentation for [decision trees](https://scikit-learn.org/stable/modules/generated/sklearn.tree.DecisionTreeClassifier.html). The `max_depth `parameter is a threshold on the maximum depth of the tree. The `min_samples_leaf` parameter gives the minimum number of samples in a leaf node. They make it possible to put constraints on the construction of the tree and therefore to indirectly control the phenomenon of overfitting. \n",
    "    \n",
    "Example of use :\n",
    "</div>"
   ]
  },
  {
   "cell_type": "code",
   "execution_count": null,
   "metadata": {
    "id": "bqsRBjO18LKR"
   },
   "outputs": [],
   "source": [
    "clf = tree.DecisionTreeClassifier(max_depth = 3)"
   ]
  },
  {
   "cell_type": "markdown",
   "metadata": {
    "id": "zOWsxf6Q8LKT"
   },
   "source": [
    "or, "
   ]
  },
  {
   "cell_type": "code",
   "execution_count": null,
   "metadata": {
    "id": "Jw_SdXUI8LKU"
   },
   "outputs": [],
   "source": [
    "clf = tree.DecisionTreeClassifier(min_samples_leaf = 20)"
   ]
  },
  {
   "cell_type": "markdown",
   "metadata": {
    "id": "R4OjE5_z8LKX"
   },
   "source": [
    "Here is the tree obtained with min_samples_leaf = 20. It has more elements in the leaves, so fewer nodes and the tree is shallower.\n",
    "\n",
    "<img src=\"https://raw.githubusercontent.com/myriamtami/ML-Labs/master/Figures/Tree_example.png\" width=\"900\" height=\"900\" />"
   ]
  },
  {
   "cell_type": "markdown",
   "metadata": {
    "id": "QvEmsGfz8LKY"
   },
   "source": [
    "<div class=\"alert alert-block alert-success\">\n",
    "\n",
    "**Question 2.** Split randomly the database into training/testing sets (70% training, 30% testing) and calculate the rate of misclassified items on the test set. Vary the values of the `max_depth` and `min_samples_leaf` parameters to see their impact on this score.\n",
    "\n",
    "</div>\n"
   ]
  },
  {
   "cell_type": "markdown",
   "metadata": {
    "id": "bcfX85N28LKY"
   },
   "source": [
    "<div class=\"alert alert-block alert-success\">\n",
    "\n",
    "**Solution.** In general we use a training / test division of type 80/20 or 70/30.\n",
    "</div>"
   ]
  },
  {
   "cell_type": "code",
   "execution_count": 11,
   "metadata": {
    "colab": {
     "base_uri": "https://localhost:8080/",
     "height": 340
    },
    "executionInfo": {
     "elapsed": 475,
     "status": "ok",
     "timestamp": 1602653390621,
     "user": {
      "displayName": "Gianluca Quercini",
      "photoUrl": "https://lh3.googleusercontent.com/a-/AOh14GiujtXjLkDQTxOfW1-EeQLxZinIgvksnq26kCBmOA=s64",
      "userId": "01078419762996474842"
     },
     "user_tz": -120
    },
    "id": "raK_MkG68LKZ",
    "outputId": "899f64bb-74e2-4d76-9f1e-23ea6cf8f111"
   },
   "outputs": [
    {
     "name": "stdout",
     "output_type": "stream",
     "text": [
      "max_depth case:\n",
      "0.6\n",
      "0.9111111111111111\n",
      "0.9777777777777777\n",
      "0.9777777777777777\n",
      "0.9777777777777777\n",
      "0.9777777777777777\n",
      "0.9777777777777777\n",
      "min_samples_split case:\n",
      "0.9777777777777777\n",
      "0.9777777777777777\n",
      "0.9777777777777777\n",
      "0.9777777777777777\n",
      "0.9777777777777777\n",
      "0.9777777777777777\n",
      "0.9777777777777777\n",
      "0.9111111111111111\n",
      "0.9111111111111111\n",
      "0.6\n"
     ]
    }
   ],
   "source": [
    "from sklearn import model_selection\n",
    "\n",
    "X_train, X_test, y_train, y_test = model_selection.train_test_split(iris.data, iris.target,\n",
    "            test_size=0.3, random_state=0)\n",
    "\n",
    "print('max_depth case:')\n",
    "for mdepth in [1, 2, 3, 4, 5, 6, 7]:\n",
    "    clf = tree.DecisionTreeClassifier(max_depth=mdepth)\n",
    "    clf = clf.fit(X_train, y_train)\n",
    "    print(clf.score(X_test, y_test))\n",
    "\n",
    "print('min_samples_split case:')\n",
    "for msplit in [2, 3, 5, 10, 15, 20, 30, 40, 50, 80]:\n",
    "    clf = tree.DecisionTreeClassifier(min_samples_split=msplit)\n",
    "    clf = clf.fit(X_train, y_train)\n",
    "    print(clf.score(X_test, y_test))\n",
    "\n"
   ]
  },
  {
   "cell_type": "markdown",
   "metadata": {
    "id": "M-N6fWlz8LKc"
   },
   "source": [
    "To search for good values for the parameters you can use cross validation with GridSearchCV:"
   ]
  },
  {
   "cell_type": "code",
   "execution_count": 12,
   "metadata": {
    "colab": {
     "base_uri": "https://localhost:8080/",
     "height": 34
    },
    "executionInfo": {
     "elapsed": 725,
     "status": "ok",
     "timestamp": 1602653468321,
     "user": {
      "displayName": "Gianluca Quercini",
      "photoUrl": "https://lh3.googleusercontent.com/a-/AOh14GiujtXjLkDQTxOfW1-EeQLxZinIgvksnq26kCBmOA=s64",
      "userId": "01078419762996474842"
     },
     "user_tz": -120
    },
    "id": "DAxEIoOa8LKe",
    "outputId": "105acbfc-8d2c-496f-af1e-a9866968e771"
   },
   "outputs": [
    {
     "data": {
      "text/plain": [
       "0.9777777777777777"
      ]
     },
     "execution_count": 12,
     "metadata": {
      "tags": []
     },
     "output_type": "execute_result"
    }
   ],
   "source": [
    "from sklearn import model_selection\n",
    "\n",
    "X_train, X_test, y_train, y_test = model_selection.train_test_split(iris.data, iris.target,\n",
    "    test_size=0.30, random_state=0)\n",
    "\n",
    "from sklearn.model_selection import GridSearchCV\n",
    "\n",
    "pgrid = {\"max_depth\": [1, 2, 3, 4, 5, 6, 7],\n",
    "      \"min_samples_split\": [2, 3, 5, 10, 15, 20]}\n",
    "\n",
    "grid_search = GridSearchCV(tree.DecisionTreeClassifier(), param_grid=pgrid, cv=10)\n",
    "grid_search.fit(X_train, y_train)\n",
    "grid_search.best_estimator_.score(X_test, y_test)"
   ]
  },
  {
   "cell_type": "markdown",
   "metadata": {
    "id": "7oA3za9j8LKi"
   },
   "source": [
    "**Display of the decision surface**\n",
    "\n",
    "For a pair of attributes we can visualize the decision surface in 2 dimensions. First we discretize the two-dimensional domain with a constant step and then we evaluate the model on each point of the grid."
   ]
  },
  {
   "cell_type": "code",
   "execution_count": 16,
   "metadata": {
    "colab": {
     "base_uri": "https://localhost:8080/",
     "height": 308
    },
    "executionInfo": {
     "elapsed": 718,
     "status": "ok",
     "timestamp": 1602653614756,
     "user": {
      "displayName": "Gianluca Quercini",
      "photoUrl": "https://lh3.googleusercontent.com/a-/AOh14GiujtXjLkDQTxOfW1-EeQLxZinIgvksnq26kCBmOA=s64",
      "userId": "01078419762996474842"
     },
     "user_tz": -120
    },
    "id": "L127dtj78LKj",
    "outputId": "273bc650-2fc4-47a5-dc09-5a8f118ae2da"
   },
   "outputs": [
    {
     "data": {
      "image/png": "[encoded data removed]",
      "text/plain": [
       "<Figure size 432x288 with 1 Axes>"
      ]
     },
     "metadata": {
      "needs_background": "light",
      "tags": []
     },
     "output_type": "display_data"
    }
   ],
   "source": [
    "%matplotlib inline \n",
    "\n",
    "import numpy as np\n",
    "import matplotlib.pyplot as plt\n",
    "from sklearn.datasets import load_iris\n",
    "from sklearn.tree import DecisionTreeClassifier\n",
    "\n",
    "# Parameters\n",
    "n_classes = 3\n",
    "plot_colors = \"bry\" # blue-red-yellow\n",
    "plot_step = 0.02\n",
    "\n",
    "# Load the data\n",
    "iris = load_iris()\n",
    "\n",
    "# Choose the attributes length and width of the petals\n",
    "pair = [1, 2]\n",
    "\n",
    "# Keep only the two attributes\n",
    "X = iris.data[:, pair]\n",
    "y = iris.target\n",
    "\n",
    "# Classification Decision Tree learning\n",
    "clf = DecisionTreeClassifier().fit(X, y)\n",
    "\n",
    "# Display of the decision surface\n",
    "x_min, x_max = X[:, 0].min() - 1, X[:, 0].max() + 1\n",
    "y_min, y_max = X[:, 1].min() - 1, X[:, 1].max() + 1\n",
    "xx, yy = np.meshgrid(np.arange(x_min, x_max, plot_step), np.arange(y_min, y_max, plot_step))\n",
    "Z = clf.predict(np.c_[xx.ravel(), yy.ravel()])\n",
    "Z = Z.reshape(xx.shape)\n",
    "cs = plt.contourf(xx, yy, Z, cmap=plt.cm.Paired)\n",
    "plt.xlabel(iris.feature_names[pair[0]])\n",
    "plt.ylabel(iris.feature_names[pair[1]])\n",
    "plt.axis(\"tight\")\n",
    "\n",
    "# Display of training points\n",
    "for i, color in zip(range(n_classes), plot_colors):\n",
    "    idx = np.where(y == i)\n",
    "    plt.scatter(X[idx, 0], X[idx, 1], c=color, label=iris.target_names[i], cmap=plt.cm.Paired)\n",
    "plt.axis(\"tight\")\n",
    "plt.suptitle(\"Decision surface of a decision tree using paired features\")\n",
    "plt.legend()\n",
    "plt.savefig('fig.png')\n",
    "plt.show()"
   ]
  },
  {
   "cell_type": "markdown",
   "metadata": {
    "id": "TY-YFGp88LKl"
   },
   "source": [
    "<div class=\"alert alert-block alert-success\">\n",
    "\n",
    "**Question 3.** Redo the display for the other attribute pairs. On which pair is the separation between the classes most marked?\n",
    "\n",
    "</div>\n"
   ]
  },
  {
   "cell_type": "markdown",
   "metadata": {
    "id": "YVXKuiAy8LKm"
   },
   "source": [
    "<div class=\"alert alert-block alert-success\">\n",
    "\n",
    "**Solution.** <img src=\"https://raw.githubusercontent.com/myriamtami/ML-Labs/master/Figures/Iris-pairs-display.png\" width=\"900\" height=\"900\" />\n",
    "</div>\n",
    "\n"
   ]
  },
  {
   "cell_type": "markdown",
   "metadata": {
    "id": "mAyJaewc8LKm"
   },
   "source": [
    "#### 1.2. Regression Decision Trees\n",
    "\n",
    "For regression with decision trees, Scikit-learn offers the `DecisionTreeRegressor` class. As for the classification, the `fit()` method takes as input the parameter X (attributes of the observations). Please note: the y value are not class labels but real (numerical) values."
   ]
  },
  {
   "cell_type": "code",
   "execution_count": 17,
   "metadata": {
    "colab": {
     "base_uri": "https://localhost:8080/",
     "height": 34
    },
    "executionInfo": {
     "elapsed": 388,
     "status": "ok",
     "timestamp": 1602653657146,
     "user": {
      "displayName": "Gianluca Quercini",
      "photoUrl": "https://lh3.googleusercontent.com/a-/AOh14GiujtXjLkDQTxOfW1-EeQLxZinIgvksnq26kCBmOA=s64",
      "userId": "01078419762996474842"
     },
     "user_tz": -120
    },
    "id": "Z1y6tL5H8LKn",
    "outputId": "274b6c04-3bbe-4415-ebb0-1788e3dc524e"
   },
   "outputs": [
    {
     "data": {
      "text/plain": [
       "array([0.5])"
      ]
     },
     "execution_count": 17,
     "metadata": {
      "tags": []
     },
     "output_type": "execute_result"
    }
   ],
   "source": [
    "X = [[0, 0], [2, 2]]\n",
    "y = [0.5, 2.5]\n",
    "clf = tree.DecisionTreeRegressor()\n",
    "clf = clf.fit(X, y)\n",
    "clf.predict([[1, 1]])"
   ]
  },
  {
   "cell_type": "markdown",
   "metadata": {
    "id": "a5GnHbTu8LKq"
   },
   "source": [
    "In the following example we will build a sine wave signal affected by white noise and we will learn a regression tree on this training data."
   ]
  },
  {
   "cell_type": "code",
   "execution_count": 19,
   "metadata": {
    "colab": {
     "base_uri": "https://localhost:8080/",
     "height": 295
    },
    "executionInfo": {
     "elapsed": 546,
     "status": "ok",
     "timestamp": 1602653798446,
     "user": {
      "displayName": "Gianluca Quercini",
      "photoUrl": "https://lh3.googleusercontent.com/a-/AOh14GiujtXjLkDQTxOfW1-EeQLxZinIgvksnq26kCBmOA=s64",
      "userId": "01078419762996474842"
     },
     "user_tz": -120
    },
    "id": "AsQmQu3k8LKq",
    "outputId": "216cf941-97f1-43f9-8807-a264f7c5e1c3"
   },
   "outputs": [
    {
     "data": {
      "image/png": "[encoded data removed]",
      "text/plain": [
       "<Figure size 432x288 with 1 Axes>"
      ]
     },
     "metadata": {
      "needs_background": "light",
      "tags": []
     },
     "output_type": "display_data"
    }
   ],
   "source": [
    "from sklearn.tree import DecisionTreeRegressor\n",
    "\n",
    "\n",
    "# Create training data\n",
    "rng = np.random.RandomState(1)\n",
    "X = np.sort(5 * rng.rand(80, 1), axis=0)\n",
    "y = np.sin(X).ravel()\n",
    "y[::5] += 3 * (0.5 - rng.rand(16))\n",
    "\n",
    "# Learn the model\n",
    "regr_1 = DecisionTreeRegressor(max_depth=10)\n",
    "regr_1.fit(X, y)\n",
    "\n",
    "# Prediction\n",
    "X_test = np.arange(0.0, 5.0, 0.01)[:, np.newaxis]\n",
    "y_1 = regr_1.predict(X_test)\n",
    "\n",
    "# Display the results\n",
    "plt.figure()\n",
    "plt.scatter(X, y, c=\"darkorange\", label=\"data\")\n",
    "plt.plot(X_test, y_1, color=\"cornflowerblue\", label=\"max_depth=2\", linewidth=2)\n",
    "plt.xlabel(\"data\")\n",
    "plt.ylabel(\"target\")\n",
    "plt.title(\"Decision Tree Regression\")\n",
    "plt.legend()\n",
    "plt.show()"
   ]
  },
  {
   "cell_type": "code",
   "execution_count": null,
   "metadata": {
    "id": "GKPwrA3w8LKt",
    "outputId": "3f2d0d7f-2e7a-48d6-ee57-b26432b00830"
   },
   "outputs": [
    {
     "name": "stdout",
     "output_type": "stream",
     "text": [
      "80\n",
      "16\n"
     ]
    }
   ],
   "source": [
    "print(len(y))\n",
    "print(len(y[::5]))"
   ]
  },
  {
   "cell_type": "markdown",
   "metadata": {
    "id": "Zt-zjNC68LKw"
   },
   "source": [
    "<div class=\"alert alert-block alert-success\">\n",
    "\n",
    "**Question 4.** Change the value of the `max_depth` parameter. What happens if we take a too large value? Too small ? Change the rate of elements affected by noise (`y[:: 5]`). When all the elements are affected by noise, should we prefer a high or low value for `max_depth`?\n",
    "\n",
    "</div>"
   ]
  },
  {
   "cell_type": "markdown",
   "metadata": {
    "id": "N-CDReu98LKx"
   },
   "source": [
    "<div class=\"alert alert-block alert-success\">\n",
    "\n",
    "**Solution.** If `max_depth` has a too large value, the model follows the noise, so we are in a situation of overfitting. If `max_depth` has a too small value, the resulting model does not follow the data well: we are in a situation of underfitting. In both cases the power of generalization is affected. It is therefore necessary to prefer an intermediate value, which makes it possible to make a compromise according to the cost of the errors (it depends on the application).\n",
    "</div>"
   ]
  },
  {
   "cell_type": "markdown",
   "metadata": {
    "id": "3Fs-E-Ry8LKy"
   },
   "source": [
    "<div class=\"alert alert-block alert-success\">\n",
    "\n",
    "**Question 5.** Load the Diabetes database from the `sklearn.datasets` module and make a random partition in the training part and the test part (70% training, 30% test). Build a regression tree model on the training set. Calculate the mean square error on the test set. Do a grid search to find the value of the `max_depth` parameter which minimizes this error.\n",
    "\n",
    "</div>"
   ]
  },
  {
   "cell_type": "markdown",
   "metadata": {
    "id": "cybr5Cee8LKz"
   },
   "source": [
    "<div class=\"alert alert-block alert-success\">\n",
    "\n",
    "**Solution.** \n",
    "</div>"
   ]
  },
  {
   "cell_type": "code",
   "execution_count": 20,
   "metadata": {
    "colab": {
     "base_uri": "https://localhost:8080/",
     "height": 51
    },
    "executionInfo": {
     "elapsed": 555,
     "status": "ok",
     "timestamp": 1602653839886,
     "user": {
      "displayName": "Gianluca Quercini",
      "photoUrl": "https://lh3.googleusercontent.com/a-/AOh14GiujtXjLkDQTxOfW1-EeQLxZinIgvksnq26kCBmOA=s64",
      "userId": "01078419762996474842"
     },
     "user_tz": -120
    },
    "id": "dri6E-OX8LK1",
    "outputId": "21af48cc-bc4f-4e24-b20e-6298403ebf67"
   },
   "outputs": [
    {
     "name": "stdout",
     "output_type": "stream",
     "text": [
      "MSE:  4029.0729322641987\n",
      "max_depth:  {'max_depth': 2}\n"
     ]
    }
   ],
   "source": [
    "from sklearn.metrics import mean_squared_error\n",
    "from sklearn.datasets import load_diabetes\n",
    "\n",
    "diabetes = load_diabetes()\n",
    "X_train, X_test, y_train, y_test = model_selection.train_test_split(diabetes.data, diabetes.target, test_size=0.30, random_state=0)\n",
    "\n",
    "clf = DecisionTreeRegressor(max_depth=4)\n",
    "clf.fit(X_train, y_train)\n",
    "y_predicted = clf.predict(X_test)\n",
    "mean_squared_error(y_test, y_predicted)\n",
    "#result# 4365.3425018803518\n",
    "\n",
    "pgrid = {\"max_depth\": [2, 3, 4, 5, 6, 7]}\n",
    "grid_search = GridSearchCV(DecisionTreeRegressor(), param_grid=pgrid, scoring='neg_mean_squared_error', cv=10)\n",
    "grid_search.fit(X_train, y_train)\n",
    "y_predicted = grid_search.best_estimator_.predict(X_test)\n",
    "print(\"MSE: \", mean_squared_error(y_test, y_predicted))\n",
    "#result#  4029.0729322641987\n",
    "print(\"max_depth: \", grid_search.best_params_)\n",
    "#result# {'max_depth': 2}"
   ]
  },
  {
   "cell_type": "markdown",
   "metadata": {
    "id": "D3j773658LK4"
   },
   "source": [
    "# 2. Random Forest & Bagging"
   ]
  },
  {
   "cell_type": "markdown",
   "metadata": {
    "id": "1788dTPT8LK4"
   },
   "source": [
    "### Ensemble methods\n",
    "\n",
    "The ensemble methods for statistical learning algorithms (ie: ensemble learning) are based on the idea of combining the predictions of several predictors (or classifiers) for better generalization and to compensate for any defects of individual predictors.\n",
    "\n",
    "Usually, there are two families of such methods:\n",
    "\n",
    "   1. Averaging (aggregating is a more appropriate word) methods (such as bagging and random forests) where the principle is to average several predictions while hoping for a better result following the reduction in variance of the average estimator (note that for the classification case, we consider the majority vote).\n",
    "   2. Adaptive methods (boosting) where the parameters are iteratively adapted to produce a better mixture (we introduced them through the last lecture).\n",
    "\n",
    "In the following we will explore the algorithm classes cited in the first point using `Scikit-learn` and present some comparisons.\n",
    "\n",
    "### Bagging\n",
    "\n",
    "Bagging methods build several instances of an estimator, computed on random samples taken from the learning base (and possibly a part of the attributes, also randomly selected), and then combines the individual predictions by averaging them to reduce the variance of the estimator. Their main advantage lies in the fact that they build an improved version of the basic algorithm, without asking for modification of this algorithm. The price to pay is a higher computation cost. \n",
    "\n",
    "In `Scikit-learn`, the bagging methods are implemented via both the `BaggingClassifier` and `BaggingRegressor` class. The constructors take as parameters a basic estimator and the strategy for selecting points and attributes:\n",
    "\n",
    "+ `base_estimator`: optional (default = None). If None then the estimator is a decision tree.\n",
    "+ `max_samples`: the size of the random sample taken from the learning database.\n",
    "+ `max_features`: the number of attributes drawn at random.\n",
    "+ `bootstrap`: boolean, optional (default = True). Draw data points $(x_i,y_i)$ with replacement or not.\n",
    "+ `bootstrap_features`: boolean, optional (default = False). Attributes drawing with replacement or not.\n",
    "+ `oob_score`: boolean. Estimate or not the OOB (Out-of-Bag) generalization error.\n",
    "\n",
    "The following code builds a set of basic `KNeighborsClassifier` classifiers, each using a 50% sample of learning data points and 50% of the attributes (features):"
   ]
  },
  {
   "cell_type": "code",
   "execution_count": 21,
   "metadata": {
    "executionInfo": {
     "elapsed": 431,
     "status": "ok",
     "timestamp": 1602654100960,
     "user": {
      "displayName": "Gianluca Quercini",
      "photoUrl": "https://lh3.googleusercontent.com/a-/AOh14GiujtXjLkDQTxOfW1-EeQLxZinIgvksnq26kCBmOA=s64",
      "userId": "01078419762996474842"
     },
     "user_tz": -120
    },
    "id": "CKSd7bU78LK4"
   },
   "outputs": [],
   "source": [
    "from sklearn.ensemble import BaggingClassifier\n",
    "from sklearn.neighbors import KNeighborsClassifier\n",
    "bagging = BaggingClassifier(KNeighborsClassifier(), max_samples=0.5, max_features=0.5)"
   ]
  },
  {
   "cell_type": "markdown",
   "metadata": {
    "id": "BOdjIGta8LK8"
   },
   "source": [
    "In this example we will use the digits database, which contains 10 classes (images of numbers in handwriting). There are 1797 instances, each instance has 64 attributes."
   ]
  },
  {
   "cell_type": "code",
   "execution_count": 22,
   "metadata": {
    "colab": {
     "base_uri": "https://localhost:8080/",
     "height": 309
    },
    "executionInfo": {
     "elapsed": 732,
     "status": "ok",
     "timestamp": 1602654106704,
     "user": {
      "displayName": "Gianluca Quercini",
      "photoUrl": "https://lh3.googleusercontent.com/a-/AOh14GiujtXjLkDQTxOfW1-EeQLxZinIgvksnq26kCBmOA=s64",
      "userId": "01078419762996474842"
     },
     "user_tz": -120
    },
    "id": "OrgQiqP18LK8",
    "outputId": "c777d647-8729-4fb1-92c8-39bc5ea75071"
   },
   "outputs": [
    {
     "name": "stdout",
     "output_type": "stream",
     "text": [
      "(1797, 64)\n"
     ]
    },
    {
     "data": {
      "text/plain": [
       "<Figure size 432x288 with 0 Axes>"
      ]
     },
     "metadata": {
      "tags": []
     },
     "output_type": "display_data"
    },
    {
     "data": {
      "image/png": "[encoded data removed]",
      "text/plain": [
       "<Figure size 288x288 with 1 Axes>"
      ]
     },
     "metadata": {
      "needs_background": "light",
      "tags": []
     },
     "output_type": "display_data"
    }
   ],
   "source": [
    "from sklearn.datasets import load_digits\n",
    "digits = load_digits()\n",
    "print(digits.data.shape)\n",
    "# Display one picture\n",
    "import matplotlib.pyplot as plt\n",
    "plt.gray()\n",
    "plt.matshow(digits.images[1])\n",
    "plt.show()"
   ]
  },
  {
   "cell_type": "markdown",
   "metadata": {
    "id": "-TMzrTbb8LK-"
   },
   "source": [
    "The basic classifier is a decision tree:"
   ]
  },
  {
   "cell_type": "code",
   "execution_count": 23,
   "metadata": {
    "colab": {
     "base_uri": "https://localhost:8080/",
     "height": 34
    },
    "executionInfo": {
     "elapsed": 795,
     "status": "ok",
     "timestamp": 1602654138508,
     "user": {
      "displayName": "Gianluca Quercini",
      "photoUrl": "https://lh3.googleusercontent.com/a-/AOh14GiujtXjLkDQTxOfW1-EeQLxZinIgvksnq26kCBmOA=s64",
      "userId": "01078419762996474842"
     },
     "user_tz": -120
    },
    "id": "6bO3i06G8LK_",
    "outputId": "d4fdc5d3-c975-4add-d9ca-e50f472fbe0f"
   },
   "outputs": [
    {
     "name": "stdout",
     "output_type": "stream",
     "text": [
      "accuracy  1.0\n"
     ]
    }
   ],
   "source": [
    "\n",
    "X=digits.data\n",
    "y=digits.target\n",
    "clf = tree.DecisionTreeClassifier()\n",
    "clf.fit(X, y)\n",
    "accuracy=clf.score(X,y)\n",
    "print('accuracy ', accuracy)"
   ]
  },
  {
   "cell_type": "markdown",
   "metadata": {
    "id": "AVOyaZnW8LLB"
   },
   "source": [
    "On the learning set, accuracy = 1. For more realism, we split the learning set into a train/test set in order to see the behavior of the tree on new data (different from that of training):"
   ]
  },
  {
   "cell_type": "code",
   "execution_count": 24,
   "metadata": {
    "colab": {
     "base_uri": "https://localhost:8080/",
     "height": 34
    },
    "executionInfo": {
     "elapsed": 419,
     "status": "ok",
     "timestamp": 1602654141444,
     "user": {
      "displayName": "Gianluca Quercini",
      "photoUrl": "https://lh3.googleusercontent.com/a-/AOh14GiujtXjLkDQTxOfW1-EeQLxZinIgvksnq26kCBmOA=s64",
      "userId": "01078419762996474842"
     },
     "user_tz": -120
    },
    "id": "8L8bNSDl8LLB",
    "outputId": "dea903e4-3782-4186-a18d-559a0537c907"
   },
   "outputs": [
    {
     "name": "stdout",
     "output_type": "stream",
     "text": [
      "accuracy  0.6851851851851852\n"
     ]
    }
   ],
   "source": [
    "from sklearn.model_selection import train_test_split\n",
    "X_train, X_test, y_train, y_test = train_test_split(X, y, test_size=0.30)\n",
    "#clf = tree.DecisionTreeClassifier()\n",
    "clf = tree.DecisionTreeClassifier(max_depth=5)\n",
    "clf.fit(X_train, y_train)\n",
    "Z = clf.predict(X_test)\n",
    "accuracy=clf.score(X_test,y_test)\n",
    "print('accuracy ', accuracy)"
   ]
  },
  {
   "cell_type": "markdown",
   "metadata": {
    "id": "L89BYNXC8LLE"
   },
   "source": [
    "<div class=\"alert alert-block alert-success\">\n",
    "\n",
    "**Question 6.** Compute the mean and the variance of the `accuracy` value on 100 draws for the train/test splitting. Compute then the standard deviation and the confidence interval with 95 $\\%$ probability of containing the true mean parameter. What can we conclude?\n",
    "\n",
    "</div>"
   ]
  },
  {
   "cell_type": "markdown",
   "metadata": {
    "id": "QZb8usoP8LLE"
   },
   "source": [
    "<div class=\"alert alert-block alert-success\">\n",
    "\n",
    "**Solution.** \n",
    "</div>"
   ]
  },
  {
   "cell_type": "code",
   "execution_count": 25,
   "metadata": {
    "colab": {
     "base_uri": "https://localhost:8080/",
     "height": 34
    },
    "executionInfo": {
     "elapsed": 1705,
     "status": "ok",
     "timestamp": 1602654174150,
     "user": {
      "displayName": "Gianluca Quercini",
      "photoUrl": "https://lh3.googleusercontent.com/a-/AOh14GiujtXjLkDQTxOfW1-EeQLxZinIgvksnq26kCBmOA=s64",
      "userId": "01078419762996474842"
     },
     "user_tz": -120
    },
    "id": "M7Rk5QBw8LLF",
    "outputId": "5fc3865a-d277-423e-89ce-8c57b083d1d8"
   },
   "outputs": [
    {
     "name": "stdout",
     "output_type": "stream",
     "text": [
      "Mean of accuracy  0.6641481481481482 Standard deviation of accuracy  0.03565141399181682\n"
     ]
    }
   ],
   "source": [
    "import math\n",
    "from sklearn.model_selection import train_test_split\n",
    "from sklearn.datasets import load_digits\n",
    "\n",
    "digits = load_digits()\n",
    "X=digits.data\n",
    "y=digits.target\n",
    "N = 100\n",
    "accuracy = np.zeros(N)\n",
    "for i in range(N):\n",
    "    X_train, X_test, y_train, y_test = train_test_split(X, y, test_size=0.3)\n",
    "    clf = tree.DecisionTreeClassifier(max_depth=5)\n",
    "    #clf = tree.DecisionTreeClassifier()\n",
    "    clf.fit(X_train, y_train)\n",
    "    Z = clf.predict(X_test)\n",
    "    accuracy[i]=clf.score(X_test,y_test)\n",
    "    #print(accuracy[i])\n",
    "\n",
    "print('Mean of accuracy ', np.mean(accuracy), 'Standard deviation of accuracy ', np.sqrt(np.var(accuracy)))"
   ]
  },
  {
   "cell_type": "markdown",
   "metadata": {
    "id": "QEEllzpP8LLH"
   },
   "source": [
    "<div class=\"alert alert-block alert-success\">\n",
    "\n",
    "**Solution (end).** If we execute the code several times, with the option `max_depth=5` we get values around mean = 0.67 and stdev = $\\sigma$ = 0.04 (be careful, your values will be slightly different because of the random draw). Don't hesitate to try several options. If we consider a gaussian distribution, the accuracy values will end up with a probability of 99.8% in a range of ± $3.09\\frac{\\sigma}{sqrt(100)}$ around the mean, which gives a variation interval of $6.18\\frac{\\sigma}{10}$ = 0.025 = 2.5%. Decision trees therefore produce classifiers with an unsatisfactory error rate (we want to be close to 1 value) that is not very stable (depending on the learning set too) and difficult to improve.\n",
    "</div>\n"
   ]
  },
  {
   "cell_type": "markdown",
   "metadata": {
    "id": "XD71v4_t8LLI"
   },
   "source": [
    "To compare, we will build a bagging classifier on our data with a basic `DecisionTreeClassifier` classifier (two trees are proposed here; one tree with more random through the option `max_features=0.5`):"
   ]
  },
  {
   "cell_type": "code",
   "execution_count": null,
   "metadata": {
    "id": "eHO6ChMF8LLI",
    "outputId": "24bd064b-abef-4392-c0d6-18522f573e5e"
   },
   "outputs": [
    {
     "name": "stdout",
     "output_type": "stream",
     "text": [
      "Accuracy of bagging classifier  0.9425925925925925\n",
      "Accuracy of bagging classifier with more random  0.9703703703703703\n"
     ]
    }
   ],
   "source": [
    "clf = BaggingClassifier(tree.DecisionTreeClassifier(), max_samples=0.5, n_estimators=100)\n",
    "clf.fit(X_train, y_train)\n",
    "Z = clf.predict(X_test)\n",
    "accuracy=clf.score(X_test,y_test)\n",
    "print(\"Accuracy of bagging classifier \", accuracy)\n",
    "\n",
    "clf_more_rd = BaggingClassifier(tree.DecisionTreeClassifier(), max_samples=0.5, max_features=0.5, n_estimators=100)\n",
    "clf_more_rd.fit(X_train, y_train)\n",
    "Z_more_rd = clf_more_rd.predict(X_test)\n",
    "accuracy_more_rd=clf_more_rd.score(X_test,y_test)\n",
    "print(\"Accuracy of bagging classifier with more random \", accuracy_more_rd)"
   ]
  },
  {
   "cell_type": "markdown",
   "metadata": {
    "id": "1ceLmU_r8LLL"
   },
   "source": [
    "<div class=\"alert alert-block alert-success\">\n",
    "\n",
    "**Question 7.** Compute the variance of the accuracy value on 100 draws for the train/test splitting. Compare with the variance of the base classifier. What can we conclude?\n",
    "\n",
    "</div>"
   ]
  },
  {
   "cell_type": "markdown",
   "metadata": {
    "id": "6wFivw7m8LLM"
   },
   "source": [
    "<div class=\"alert alert-block alert-success\">\n",
    "\n",
    "**Solution.** \n",
    "</div>"
   ]
  },
  {
   "cell_type": "code",
   "execution_count": 26,
   "metadata": {
    "colab": {
     "base_uri": "https://localhost:8080/",
     "height": 34
    },
    "executionInfo": {
     "elapsed": 60892,
     "status": "ok",
     "timestamp": 1602654435628,
     "user": {
      "displayName": "Gianluca Quercini",
      "photoUrl": "https://lh3.googleusercontent.com/a-/AOh14GiujtXjLkDQTxOfW1-EeQLxZinIgvksnq26kCBmOA=s64",
      "userId": "01078419762996474842"
     },
     "user_tz": -120
    },
    "id": "KT1KFlrr8LLM",
    "outputId": "ea4930cf-fff6-4aab-b493-31dc7b736aea"
   },
   "outputs": [
    {
     "name": "stdout",
     "output_type": "stream",
     "text": [
      "Mean of accuracy  0.9662777777777778 Standard deviation of accuracy  0.008828090687412828\n"
     ]
    }
   ],
   "source": [
    "accuracy = np.zeros(N)\n",
    "for i in range(N):\n",
    "    X_train, X_test, y_train, y_test = train_test_split(X, y, test_size=0.3)\n",
    "    #clf = BaggingClassifier(tree.DecisionTreeClassifier(), max_samples=0.5, n_estimators=200)\n",
    "    clf = BaggingClassifier(tree.DecisionTreeClassifier(), max_samples=0.5, max_features=0.5, n_estimators=100)\n",
    "    #Empirically, max_features=0.5 (The number of features to draw from X to train each base estimator) allows to decrease the variance\n",
    "    #by adding a random effect\n",
    "    #Remark: for a tree, max_features=The number of features to consider when looking for the best split et par defaut = n_features)\n",
    "    clf.fit(X_train, y_train)\n",
    "    Z = clf.predict(X_test)\n",
    "    accuracy[i]=clf.score(X_test,y_test)\n",
    "    #print(accuracy[i])\n",
    "\n",
    "print('Mean of accuracy ', np.mean(accuracy), 'Standard deviation of accuracy ',np.sqrt(np.var(accuracy)))"
   ]
  },
  {
   "cell_type": "markdown",
   "metadata": {
    "id": "lx_3P4YF8LLO"
   },
   "source": [
    "<div class=\"alert alert-block alert-success\">\n",
    "\n",
    "**Solution (end).** We obtain a better classifier (`accuracy` ~ 96%) with a better stability (standard deviation is divided by 5).\n",
    "</div>"
   ]
  },
  {
   "cell_type": "markdown",
   "metadata": {
    "id": "duYtgA4V8LLO"
   },
   "source": [
    "<div class=\"alert alert-block alert-success\">\n",
    "\n",
    "**Question 8.** Construct and plot accuracy vs `n_estimators`. What do you observe?\n",
    "\n",
    "</div>"
   ]
  },
  {
   "cell_type": "markdown",
   "metadata": {
    "id": "jFhp_K508LLQ"
   },
   "source": [
    "<div class=\"alert alert-block alert-success\">\n",
    "\n",
    "**Solution.** The error rate decreases with `n_estimators`, but from a value it stabilizes, so we gain nothing from this value of `n_estimators`, except that the algorithm becomes slower. In the following code we took `test_size` = 0.5 to make the effect more visible.\n",
    "</div>"
   ]
  },
  {
   "cell_type": "code",
   "execution_count": null,
   "metadata": {
    "id": "g9gsZ61H8LLQ",
    "outputId": "c14dc5ed-d7fa-4fba-bab5-5949f7d9a6be"
   },
   "outputs": [
    {
     "data": {
      "image/png": "[encoded data removed]",
      "text/plain": [
       "<Figure size 432x288 with 1 Axes>"
      ]
     },
     "metadata": {
      "needs_background": "light",
      "tags": []
     },
     "output_type": "display_data"
    }
   ],
   "source": [
    "from sklearn.model_selection import train_test_split\n",
    "from sklearn.datasets import load_digits\n",
    "\n",
    "digits = load_digits()\n",
    "X=digits.data\n",
    "y=digits.target\n",
    "N = 30\n",
    "accuracy = np.zeros(N)\n",
    "\n",
    "for i in range(N):\n",
    "    X_train, X_test, y_train, y_test = train_test_split(X, y, test_size=0.5)\n",
    "    clf = BaggingClassifier(tree.DecisionTreeClassifier(), max_samples=0.5, max_features=0.5, n_estimators=(i+1)*10)\n",
    "    clf.fit(X_train, y_train)\n",
    "    Z = clf.predict(X_test)\n",
    "    accuracy[i]=clf.score(X_test,y_test)\n",
    "\n",
    "import matplotlib.pyplot as plt\n",
    "plt.plot([10*(i+1) for i in range(30)], accuracy)\n",
    "plt.show()"
   ]
  },
  {
   "cell_type": "markdown",
   "metadata": {
    "id": "W8fn32J_8LLR"
   },
   "source": [
    "<div class=\"alert alert-block alert-success\">\n",
    "\n",
    "**Question 9.** By using cross valisation with [`GridSearchCV`](https://scikit-learn.org/stable/modules/generated/sklearn.model_selection.GridSearchCV.html#sklearn.model_selection.GridSearchCV), [tune](https://scikit-learn.org/stable/modules/grid_search.html) (i.e: search for the best values of) both parameters `max_samples` and `max_features` parameters. In other words, search of the values of these parameters allowing to get the best result? For which values do we get this best result? \n",
    "\n",
    "</div>"
   ]
  },
  {
   "cell_type": "markdown",
   "metadata": {
    "id": "QHpRSyoC8LLS"
   },
   "source": [
    "<div class=\"alert alert-block alert-success\">\n",
    "\n",
    "**Solution.** \n",
    "</div>"
   ]
  },
  {
   "cell_type": "code",
   "execution_count": null,
   "metadata": {
    "id": "v4ZBJ5se8LLS",
    "outputId": "540d7268-e9dd-4454-b0b0-fa78806aa164"
   },
   "outputs": [
    {
     "name": "stdout",
     "output_type": "stream",
     "text": [
      "best_score  0.9377085650723026\n",
      "best_max_samples  0.8\n",
      "best_max_features  0.6\n"
     ]
    }
   ],
   "source": [
    "from sklearn.datasets import load_digits\n",
    "\n",
    "digits = load_digits()\n",
    "X=digits.data\n",
    "y=digits.target\n",
    "X_train, X_test, y_train, y_test = train_test_split(X, y, test_size=0.5)\n",
    "\n",
    "from sklearn.model_selection import GridSearchCV\n",
    "pgrid = {\"max_samples\": [0.2, 0.4, 0.6, 0.8],\n",
    "        \"max_features\": [0.2, 0.4, 0.6, 0.8]}\n",
    "grid_search = GridSearchCV(BaggingClassifier(tree.DecisionTreeClassifier()), param_grid=pgrid, cv=5)\n",
    "grid_search.fit(X_train, y_train)\n",
    "best_score=grid_search.best_estimator_.score(X_test, y_test)\n",
    "best_max_samples=grid_search.best_estimator_.max_samples\n",
    "best_max_features=grid_search.best_estimator_.max_features\n",
    "print(\"best_score \", best_score)\n",
    "print(\"best_max_samples \", best_max_samples)\n",
    "print(\"best_max_features \", best_max_features)"
   ]
  },
  {
   "cell_type": "markdown",
   "metadata": {
    "id": "xIn6OnIx8LLU"
   },
   "source": [
    "<div class=\"alert alert-block alert-success\">\n",
    "\n",
    "**Solution.** The code displays (your results will be slightly different) a score of 93% obtained for `max_samples` = 0.8 and `max_features` = 0.6.\n",
    "</div>"
   ]
  },
  {
   "cell_type": "markdown",
   "metadata": {
    "id": "-uO2gLll8LLV"
   },
   "source": [
    "### Random Forests\n",
    "\n",
    "The random forest algorithm proposes an aggregation of decision trees. It uses the same principle as bagging, but with an additional step of randomization in the selection of the attributes of the nodes in order to reduce the variance of the obtained estimator. The two Python objects that implement random forests are `RandomForestClassifier` and `RandomForestRegressor`. The most important parameters are:\n",
    "\n",
    "   1. `n_estimators`: integer, optional (default = 10). The number of trees.\n",
    "   2. `max_features`: the number of attributes to consider in each split.\n",
    "   3. `max_samples`: the size of the random sample taken from the learning base.\n",
    "   4. `min_samples_leaf`: the minimum number of elements in a leaf node.\n",
    "   5. `oob_score`: boolean. Estimate or not the OOB (Out-of-Bag) generalization error.\n",
    "\n",
    "Thereafter we will redo the classification based on Digits using a `RandomForestClassifier` classifier:"
   ]
  },
  {
   "cell_type": "code",
   "execution_count": null,
   "metadata": {
    "id": "MOwB5B1y8LLV"
   },
   "outputs": [],
   "source": [
    "from sklearn.ensemble import RandomForestClassifier\n",
    "digits = load_digits()\n",
    "X=digits.data\n",
    "y=digits.target\n",
    "\n",
    "\n",
    "X_train, X_test, y_train, y_test = train_test_split(X, y, test_size=0.90)\n",
    "clf = RandomForestClassifier(n_estimators=200)\n",
    "clf.fit(X_train, y_train)\n",
    "Z = clf.predict(X_test)\n",
    "accuracy=clf.score(X_test,y_test)"
   ]
  },
  {
   "cell_type": "markdown",
   "metadata": {
    "id": "ltAXIqJ58LLW"
   },
   "source": [
    "<div class=\"alert alert-block alert-success\">\n",
    "\n",
    "**Question 10.** How does the value of the accuracy variable compare with the bagging case that uses the same number of trees (200 in our case)?\n",
    "\n",
    "</div>"
   ]
  },
  {
   "cell_type": "markdown",
   "metadata": {
    "id": "I1et1s0r8LLX"
   },
   "source": [
    "<div class=\"alert alert-block alert-success\">\n",
    "\n",
    "**Solution.** \n",
    "</div>"
   ]
  },
  {
   "cell_type": "code",
   "execution_count": null,
   "metadata": {
    "id": "eH76V-gs8LLX",
    "outputId": "983534fb-3999-45bf-8934-0c208cf9d63c"
   },
   "outputs": [
    {
     "name": "stdout",
     "output_type": "stream",
     "text": [
      "0.8220244716351501\n",
      "0.9332591768631813\n",
      "0.982202447163515\n"
     ]
    }
   ],
   "source": [
    "digits = load_digits()\n",
    "X=digits.data\n",
    "y=digits.target\n",
    "\n",
    "X_train, X_test, y_train, y_test = train_test_split(X, y, test_size=0.5)\n",
    "\n",
    "clf = tree.DecisionTreeClassifier()\n",
    "clf.fit(X_train, y_train)\n",
    "Z = clf.predict(X_test)\n",
    "print(clf.score(X_test,y_test))\n",
    "\n",
    "clf = BaggingClassifier(tree.DecisionTreeClassifier(), max_samples=0.5, n_estimators=200)\n",
    "clf.fit(X_train, y_train)\n",
    "Z = clf.predict(X_test)\n",
    "print(clf.score(X_test,y_test))\n",
    "\n",
    "clf = RandomForestClassifier(n_estimators=200)\n",
    "clf.fit(X_train, y_train)\n",
    "Z = clf.predict(X_test)\n",
    "print(clf.score(X_test,y_test))"
   ]
  },
  {
   "cell_type": "markdown",
   "metadata": {
    "id": "I_UgvbSp8LLZ"
   },
   "source": [
    "<div class=\"alert alert-block alert-success\">\n",
    "\n",
    "**Solution.** The previous code displays (your results will be a little different):\n",
    "\n",
    "`0.8164627363737486 0.9521690767519466 0.9744160177975528`\n",
    "\n",
    "This confirms our expectation: random forests produce a slightly better classifier on this database.\n",
    "</div>"
   ]
  },
  {
   "cell_type": "markdown",
   "metadata": {
    "id": "dwUmqnbf8LLZ"
   },
   "source": [
    "<div class=\"alert alert-block alert-success\">\n",
    "\n",
    "**Question 11.** Compute the variance of the accuracy value on 100 draws for the train/test splitting. What can we conclude by comparing with the previous section (bagging)?\n",
    "\n",
    "</div>"
   ]
  },
  {
   "cell_type": "markdown",
   "metadata": {
    "id": "l-OfrTX68LLa"
   },
   "source": [
    "<div class=\"alert alert-block alert-success\">\n",
    "\n",
    "**Solution.** \n",
    "</div>"
   ]
  },
  {
   "cell_type": "code",
   "execution_count": null,
   "metadata": {
    "id": "EDOP1ZPW8LLa",
    "outputId": "8314a08d-7834-4b05-a1b0-36490636cc1a"
   },
   "outputs": [
    {
     "name": "stdout",
     "output_type": "stream",
     "text": [
      "0.9328698553948831 0.010629027587148782\n",
      "0.959488320355951 0.00553314117880287\n"
     ]
    }
   ],
   "source": [
    "\n",
    "digits = load_digits()\n",
    "X=digits.data\n",
    "y=digits.target\n",
    "N = 100\n",
    "\n",
    "accuracy = np.zeros(N)\n",
    "for i in range(N):\n",
    "    X_train, X_test, y_train, y_test = train_test_split(X, y, test_size=0.5)\n",
    "    clf = BaggingClassifier(tree.DecisionTreeClassifier(), n_estimators=30)\n",
    "    clf.fit(X_train, y_train)\n",
    "    Z = clf.predict(X_test)\n",
    "    accuracy[i]=clf.score(X_test,y_test)\n",
    "\n",
    "print(np.mean(accuracy), np.sqrt(np.var(accuracy)))\n",
    "\n",
    "\n",
    "accuracy = np.zeros(N)\n",
    "for i in range(N):\n",
    "    X_train, X_test, y_train, y_test = train_test_split(X, y, test_size=0.5)\n",
    "    clf = RandomForestClassifier(n_estimators=30)\n",
    "    clf.fit(X_train, y_train)\n",
    "    Z = clf.predict(X_test)\n",
    "    accuracy[i]=clf.score(X_test,y_test)\n",
    "\n",
    "print(np.mean(accuracy), np.sqrt(np.var(accuracy)))"
   ]
  },
  {
   "cell_type": "markdown",
   "metadata": {
    "id": "KzV9d7pD8LLd"
   },
   "source": [
    "<div class=\"alert alert-block alert-success\">\n",
    "\n",
    "**Solution.** The code displays (your results will be a little different):\n",
    "\n",
    "`0.936484983315 0.0103328599427 0.957953281424 0.00600667408231`\n",
    "\n",
    "So we have not only a lower average error rate, but also a lower variance.\n",
    "</div>"
   ]
  },
  {
   "cell_type": "markdown",
   "metadata": {
    "id": "4tpOoc7_8LLd"
   },
   "source": [
    "<div class=\"alert alert-block alert-success\">\n",
    "\n",
    "**Question 12.** Plot the accuracy vs `n_estimators` graph. What do you notice? From what n_estimators value do we no longer improve?\n",
    "\n",
    "</div>"
   ]
  },
  {
   "cell_type": "markdown",
   "metadata": {
    "id": "kk2t6e9F8LLe"
   },
   "source": [
    "<div class=\"alert alert-block alert-success\">\n",
    "\n",
    "**Solution.** \n",
    "</div>"
   ]
  },
  {
   "cell_type": "code",
   "execution_count": null,
   "metadata": {
    "id": "r8G7muVD8LLe",
    "outputId": "ad14bf66-f945-4085-ce2f-b53bfc1b4c2e"
   },
   "outputs": [
    {
     "name": "stdout",
     "output_type": "stream",
     "text": [
      "10 0.9254727474972191\n",
      "20 0.9599555061179088\n",
      "30 0.9532814238042269\n",
      "40 0.9421579532814238\n",
      "50 0.9688542825361512\n",
      "60 0.9688542825361512\n",
      "70 0.9744160177975528\n",
      "80 0.9744160177975528\n",
      "90 0.9688542825361512\n",
      "100 0.9721913236929922\n",
      "110 0.9699666295884316\n",
      "120 0.9599555061179088\n",
      "130 0.9744160177975528\n",
      "140 0.9733036707452726\n",
      "150 0.9688542825361512\n",
      "160 0.9688542825361512\n",
      "170 0.9777530589543938\n",
      "180 0.9755283648498332\n",
      "190 0.9755283648498332\n",
      "200 0.9699666295884316\n",
      "210 0.9710789766407119\n",
      "220 0.9699666295884316\n",
      "230 0.9632925472747497\n",
      "240 0.9666295884315906\n",
      "250 0.9721913236929922\n",
      "260 0.967741935483871\n",
      "270 0.9799777530589544\n",
      "280 0.9733036707452726\n",
      "290 0.9699666295884316\n",
      "300 0.9733036707452726\n",
      "mean of accuracy  0.9676677790137191\n"
     ]
    },
    {
     "data": {
      "image/png": "[encoded data removed]",
      "text/plain": [
       "<Figure size 432x288 with 1 Axes>"
      ]
     },
     "metadata": {
      "needs_background": "light",
      "tags": []
     },
     "output_type": "display_data"
    }
   ],
   "source": [
    "digits = load_digits()\n",
    "X=digits.data\n",
    "y=digits.target\n",
    "N = 30\n",
    "accuracy = np.zeros(N)\n",
    "\n",
    "for i in range(N):\n",
    "    X_train, X_test, y_train, y_test = train_test_split(X, y, test_size=0.5)\n",
    "    clf = RandomForestClassifier(n_estimators=(i+1)*10)\n",
    "    clf.fit(X_train, y_train)\n",
    "    Z = clf.predict(X_test)\n",
    "    accuracy[i]=clf.score(X_test,y_test)\n",
    "    print((i+1)*10, accuracy[i])\n",
    "\n",
    "import matplotlib.pyplot as plt\n",
    "plt.plot([10*(i+1) for i in range(30)], accuracy)\n",
    "print(\"mean of accuracy \", np.mean(accuracy))\n",
    "plt.show()\n"
   ]
  },
  {
   "cell_type": "markdown",
   "metadata": {
    "id": "J00IFWY28LLg"
   },
   "source": [
    "<div class=\"alert alert-block alert-success\">\n",
    "\n",
    "**Solution.** From `n_estimators` = 50 the result starts to oscillate around the average so we don't gain anything by increasing the value.\n",
    "</div>\n"
   ]
  },
  {
   "cell_type": "markdown",
   "metadata": {
    "id": "tjVGEY8_8LLg"
   },
   "source": [
    "<div class=\"alert alert-block alert-success\">\n",
    "\n",
    "**Question 13.** Look in the [documentation](https://scikit-learn.org/stable/modules/generated/sklearn.tree.ExtraTreeClassifier.html) for the [`ExtraTreesClassifier`](https://scikit-learn.org/stable/modules/generated/sklearn.tree.ExtraTreeClassifier.html) and redo the classification with this type of classifier. Compare with `RandomForestClassifier`.\n",
    "\n",
    "</div>"
   ]
  },
  {
   "cell_type": "markdown",
   "metadata": {
    "id": "iznk6nxr8LLh"
   },
   "source": [
    "<div class=\"alert alert-block alert-success\">\n",
    "\n",
    "**Solution.** `Extra-Trees` (Extremely Randomized Trees) further randomize the construction of the tree and are used mainly for numerical data. Compared to random forests, they abandon the use of bootstrap samples and for each candidate feature choose a random split point. The idea works quite well for learning problems that have a large number of features that vary continuously. Often their error rate is higher than random forests, the calculation time is shorter and the trees generated are larger.\n",
    "</div>"
   ]
  },
  {
   "cell_type": "code",
   "execution_count": null,
   "metadata": {
    "id": "UWIG95ih8LLh",
    "outputId": "462b57c8-0dbe-4761-89ff-5786f534f16e"
   },
   "outputs": [
    {
     "name": "stdout",
     "output_type": "stream",
     "text": [
      "0.9566184649610678\n",
      "0.9699666295884316\n"
     ]
    }
   ],
   "source": [
    "from sklearn.ensemble import ExtraTreesClassifier\n",
    "\n",
    "digits = load_digits()\n",
    "X=digits.data\n",
    "y=digits.target\n",
    "\n",
    "\n",
    "X_train, X_test, y_train, y_test = train_test_split(X, y, test_size=0.50)\n",
    "\n",
    "clf = RandomForestClassifier(n_estimators=50)\n",
    "clf.fit(X_train, y_train)\n",
    "Z = clf.predict(X_test)\n",
    "accuracy=clf.score(X_test,y_test)\n",
    "print(accuracy)\n",
    "\n",
    "clf = ExtraTreesClassifier(n_estimators=50)\n",
    "clf.fit(X_train, y_train)\n",
    "Z = clf.predict(X_test)\n",
    "accuracy=clf.score(X_test,y_test)\n",
    "print(accuracy)"
   ]
  },
  {
   "cell_type": "markdown",
   "metadata": {
    "id": "tQHSodMY8LLj"
   },
   "source": [
    "<div class=\"alert alert-block alert-success\">\n",
    "\n",
    "**Solution.** The code displays: `0.967741935484 0.982202447164`. The accuracy is slightly in favour of Extremely Randomized Trees but this point has to be put in perspective of the goal or problema underlying to the use of these ensemble methods. If the main goal is the accuracy and computing cost we can prefer Extremely Randomized Trees to Random Forests. However the gain of accuraccy is not significantly high. In this case Random Forests could be sufficient. Mostlly that Random Forests focus more on the choice of the best split point. \n",
    "</div>"
   ]
  },
  {
   "cell_type": "code",
   "execution_count": null,
   "metadata": {
    "id": "VRyd0mIf8LLk"
   },
   "outputs": [],
   "source": []
  }
 ],
 "metadata": {
  "colab": {
   "name": "td6-Bagging-correction.ipynb",
   "provenance": []
  },
  "kernelspec": {
   "display_name": "Python 3",
   "language": "python",
   "name": "python3"
  },
  "language_info": {
   "codemirror_mode": {
    "name": "ipython",
    "version": 3
   },
   "file_extension": ".py",
   "mimetype": "text/x-python",
   "name": "python",
   "nbconvert_exporter": "python",
   "pygments_lexer": "ipython3",
   "version": "3.7.3"
  },
  "nav_menu": {
   "height": "279px",
   "width": "309px"
  },
  "toc": {
   "nav_menu": {},
   "number_sections": true,
   "sideBar": true,
   "skip_h1_title": false,
   "toc_cell": false,
   "toc_position": {},
   "toc_section_display": "block",
   "toc_window_display": false
  }
 },
 "nbformat": 4,
 "nbformat_minor": 1
}
