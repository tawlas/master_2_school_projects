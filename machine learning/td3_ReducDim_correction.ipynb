{
 "cells": [
  {
   "cell_type": "markdown",
   "metadata": {
    "id": "lGBlly4hhvAZ"
   },
   "source": [
    "<center><img src='https://netacad.centralesupelec.fr/img/cs.jpg' width=400></center>\n",
    "\n",
    "<h6><center>Introduction to Machine Learning</center></h6>\n",
    "\n",
    "<h1>\n",
    "<hr style=\" border:none; height:3px;\">\n",
    "<center>TD 3: Dimentionality Reduction (Correction)</center>\n",
    "<hr style=\" border:none; height:3px;\">\n",
    "</h1>\n",
    "\n",
    "__Teachers__: Myriam Tami, Gianluca Quercini, Yassine Ouali"
   ]
  },
  {
   "cell_type": "markdown",
   "metadata": {
    "id": "OehKm_xZhvAb"
   },
   "source": [
    "# Your turn!"
   ]
  },
  {
   "cell_type": "markdown",
   "metadata": {
    "id": "i3tJ-vDfhvAd"
   },
   "source": [
    "Now it's time to test out these approaches, i.e.,\n",
    "\n",
    "+ Best/Forward/Backward selection and evaluation methods (adjusted training error, validation set, cross validation)\n",
    "+ PCA (tunning of $M$ value, visualization and interpretation of the plots\n",
    "\n",
    "on another dataset: `housing` (the dataset used during the lab 2).\n"
   ]
  },
  {
   "cell_type": "markdown",
   "metadata": {
    "id": "UzwfsGlehvAg"
   },
   "source": [
    "# Let's start a proposition of correction"
   ]
  },
  {
   "cell_type": "markdown",
   "metadata": {
    "id": "idkDI12NhvAi"
   },
   "source": [
    "First we import the modules that are commonly used for performing subset selection in combination with Scikit-learn.\n",
    "In order to run this notebook, you'll need to install Python 3.5 or later, as well as Scikit-learn 0.20 or later. Also, we import the libraries and `housing` dataset.\n"
   ]
  },
  {
   "cell_type": "markdown",
   "metadata": {
    "id": "KCKKIbZCi4gq"
   },
   "source": [
    "## Setup\n"
   ]
  },
  {
   "cell_type": "code",
   "execution_count": 1,
   "metadata": {
    "colab": {
     "base_uri": "https://localhost:8080/",
     "height": 176
    },
    "collapsed": true,
    "id": "sAIprpkGjEmD",
    "outputId": "eb071493-ee18-4095-cbf7-170b54d4cb69"
   },
   "outputs": [
    {
     "name": "stdout",
     "output_type": "stream",
     "text": [
      "Requirement already satisfied: statsmodels in /Users/lastaw/anaconda3/lib/python3.7/site-packages (0.10.0)\n",
      "Requirement already satisfied: scipy>=0.18 in /Users/lastaw/anaconda3/lib/python3.7/site-packages (from statsmodels) (1.3.0)\n",
      "Requirement already satisfied: pandas>=0.19 in /Users/lastaw/anaconda3/lib/python3.7/site-packages (from statsmodels) (0.24.2)\n",
      "Requirement already satisfied: patsy>=0.4.0 in /Users/lastaw/anaconda3/lib/python3.7/site-packages (from statsmodels) (0.5.1)\n",
      "Requirement already satisfied: numpy>=1.11 in /Users/lastaw/anaconda3/lib/python3.7/site-packages (from statsmodels) (1.16.4)\n",
      "Requirement already satisfied: python-dateutil>=2.5.0 in /Users/lastaw/anaconda3/lib/python3.7/site-packages (from pandas>=0.19->statsmodels) (2.8.0)\n",
      "Requirement already satisfied: pytz>=2011k in /Users/lastaw/anaconda3/lib/python3.7/site-packages (from pandas>=0.19->statsmodels) (2019.1)\n",
      "Requirement already satisfied: six in /Users/lastaw/anaconda3/lib/python3.7/site-packages (from patsy>=0.4.0->statsmodels) (1.12.0)\n"
     ]
    }
   ],
   "source": [
    "# !pip install statsmodels"
   ]
  },
  {
   "cell_type": "code",
   "execution_count": 2,
   "metadata": {
    "colab": {
     "base_uri": "https://localhost:8080/",
     "height": 263
    },
    "collapsed": true,
    "id": "h1bnm1gQjFiW",
    "outputId": "2b284713-7505-4562-eb02-603feb332ce9"
   },
   "outputs": [
    {
     "name": "stdout",
     "output_type": "stream",
     "text": [
      "Collecting chart_studio\n",
      "\u001b[?25l  Downloading https://files.pythonhosted.org/packages/ca/ce/330794a6b6ca4b9182c38fc69dd2a9cbff60fd49421cb8648ee5fee352dc/chart_studio-1.1.0-py3-none-any.whl (64kB)\n",
      "\u001b[K     |████████████████████████████████| 71kB 1.1MB/s eta 0:00:01\n",
      "\u001b[?25hCollecting plotly (from chart_studio)\n",
      "\u001b[?25l  Downloading https://files.pythonhosted.org/packages/68/47/cec583df9ffb6142b84698c1be2124ef8f786f1e9a4307fae331377ccddc/plotly-4.11.0-py2.py3-none-any.whl (13.1MB)\n",
      "\u001b[K     |████████████████████████████████| 13.1MB 906kB/s eta 0:00:01\n",
      "\u001b[?25hCollecting retrying>=1.3.3 (from chart_studio)\n",
      "  Downloading https://files.pythonhosted.org/packages/44/ef/beae4b4ef80902f22e3af073397f079c96969c69b2c7d52a57ea9ae61c9d/retrying-1.3.3.tar.gz\n",
      "Requirement already satisfied: requests in /Users/lastaw/anaconda3/lib/python3.7/site-packages (from chart_studio) (2.22.0)\n",
      "Requirement already satisfied: six in /Users/lastaw/anaconda3/lib/python3.7/site-packages (from chart_studio) (1.12.0)\n",
      "Requirement already satisfied: idna<2.9,>=2.5 in /Users/lastaw/anaconda3/lib/python3.7/site-packages (from requests->chart_studio) (2.8)\n",
      "Requirement already satisfied: chardet<3.1.0,>=3.0.2 in /Users/lastaw/anaconda3/lib/python3.7/site-packages (from requests->chart_studio) (3.0.4)\n",
      "Requirement already satisfied: urllib3!=1.25.0,!=1.25.1,<1.26,>=1.21.1 in /Users/lastaw/anaconda3/lib/python3.7/site-packages (from requests->chart_studio) (1.24.2)\n",
      "Requirement already satisfied: certifi>=2017.4.17 in /Users/lastaw/anaconda3/lib/python3.7/site-packages (from requests->chart_studio) (2019.6.16)\n",
      "Building wheels for collected packages: retrying\n",
      "  Building wheel for retrying (setup.py) ... \u001b[?25ldone\n",
      "\u001b[?25h  Stored in directory: /Users/lastaw/Library/Caches/pip/wheels/d7/a9/33/acc7b709e2a35caa7d4cae442f6fe6fbf2c43f80823d46460c\n",
      "Successfully built retrying\n",
      "Installing collected packages: retrying, plotly, chart-studio\n",
      "Successfully installed chart-studio-1.1.0 plotly-4.11.0 retrying-1.3.3\n"
     ]
    }
   ],
   "source": [
    "# !pip install chart_studio"
   ]
  },
  {
   "cell_type": "code",
   "execution_count": 3,
   "metadata": {
    "id": "qNFrwFBEhvAk"
   },
   "outputs": [],
   "source": [
    "# Python ≥3.5 is required\n",
    "import sys\n",
    "assert sys.version_info >= (3, 5)\n",
    "\n",
    "# Scikit-Learn ≥0.20 is required\n",
    "import sklearn\n",
    "assert sklearn.__version__ >= \"0.20\"\n",
    "\n",
    "# numpy arrays are used to .\n",
    "import numpy as np\n",
    "\n",
    "# pandas is used to manipulate tabular data.\n",
    "import pandas as pd\n",
    "\n",
    "# statsmodels provides classes and functions for the estimation of many different statistical models.\n",
    "import statsmodels.api as sm\n",
    "\n",
    "# itertools implements a number of iterator building blocks for efficient looping.\n",
    "import itertools\n",
    "\n",
    "# time provides various time-related functions\n",
    "import time\n",
    "\n",
    "# Matplotlib is used to plot graphs\n",
    "%matplotlib inline \n",
    "import matplotlib as mpl\n",
    "import matplotlib.pyplot as plt\n",
    "from mpl_toolkits.mplot3d import Axes3D\n",
    "# Style options for plots.\n",
    "mpl.rc('axes', labelsize=14)\n",
    "mpl.rc('xtick', labelsize=12)\n",
    "mpl.rc('ytick', labelsize=12)\n",
    "\n",
    "# Saves a figure to a file\n",
    "def save_fig(fig_id, tight_layout=True, fig_extension=\"png\", resolution=300):\n",
    "    path = os.path.join(\"./figs\", fig_id + \".\" + fig_extension)\n",
    "    print(\"Saving figure\", fig_id)\n",
    "    if tight_layout:\n",
    "        plt.tight_layout()\n",
    "    plt.savefig(path, format=fig_extension, dpi=resolution)\n",
    "\n",
    "## For PCA part\n",
    "#################\n",
    "from sklearn.preprocessing import scale \n",
    "from sklearn import model_selection\n",
    "from sklearn.decomposition import PCA\n",
    "from sklearn.linear_model import LinearRegression\n",
    "from sklearn.cross_decomposition import PLSRegression, PLSSVD\n",
    "from sklearn.metrics import mean_squared_error\n",
    "\n",
    "# Some libraries for PCA visualization\n",
    "import seaborn as sns \n",
    "#Make Plotly figure\n",
    "import chart_studio.plotly as py\n",
    "# Be aware, plotly may be installed using pip on your shell:\n",
    "# conda install -c plotly chart-studio\n",
    "import plotly.graph_objs as go\n"
   ]
  },
  {
   "cell_type": "markdown",
   "metadata": {
    "id": "_i4xFSpxhvAt"
   },
   "source": [
    "We're going to download `housing` dataset containing California census data. Remember, this dataset contains one row per census district. A district is the smallest geographical unit for which the U.S. Census Bureau publishes sample data (population of 600 to 3,000 people).\n",
    "\n",
    "Given this dataset, our goal is: \n",
    "+ to apply dimensionality reduction approaches \n",
    "+ to predict the `median house value` in a given district"
   ]
  },
  {
   "cell_type": "code",
   "execution_count": 4,
   "metadata": {
    "colab": {
     "base_uri": "https://localhost:8080/",
     "height": 226
    },
    "id": "cilSoCYlhvAu",
    "outputId": "7e376194-f577-4c5d-fbfd-40b629ee0e25"
   },
   "outputs": [
    {
     "data": {
      "text/html": [
       "<div>\n",
       "<style scoped>\n",
       "    .dataframe tbody tr th:only-of-type {\n",
       "        vertical-align: middle;\n",
       "    }\n",
       "\n",
       "    .dataframe tbody tr th {\n",
       "        vertical-align: top;\n",
       "    }\n",
       "\n",
       "    .dataframe thead th {\n",
       "        text-align: right;\n",
       "    }\n",
       "</style>\n",
       "<table border=\"1\" class=\"dataframe\">\n",
       "  <thead>\n",
       "    <tr style=\"text-align: right;\">\n",
       "      <th></th>\n",
       "      <th>longitude</th>\n",
       "      <th>latitude</th>\n",
       "      <th>housing_median_age</th>\n",
       "      <th>total_rooms</th>\n",
       "      <th>total_bedrooms</th>\n",
       "      <th>population</th>\n",
       "      <th>households</th>\n",
       "      <th>median_income</th>\n",
       "      <th>median_house_value</th>\n",
       "      <th>ocean_proximity</th>\n",
       "    </tr>\n",
       "  </thead>\n",
       "  <tbody>\n",
       "    <tr>\n",
       "      <th>0</th>\n",
       "      <td>-122.23</td>\n",
       "      <td>37.88</td>\n",
       "      <td>41.0</td>\n",
       "      <td>880.0</td>\n",
       "      <td>129.0</td>\n",
       "      <td>322.0</td>\n",
       "      <td>126.0</td>\n",
       "      <td>8.3252</td>\n",
       "      <td>452600.0</td>\n",
       "      <td>NEAR BAY</td>\n",
       "    </tr>\n",
       "    <tr>\n",
       "      <th>1</th>\n",
       "      <td>-122.22</td>\n",
       "      <td>37.86</td>\n",
       "      <td>21.0</td>\n",
       "      <td>7099.0</td>\n",
       "      <td>1106.0</td>\n",
       "      <td>2401.0</td>\n",
       "      <td>1138.0</td>\n",
       "      <td>8.3014</td>\n",
       "      <td>358500.0</td>\n",
       "      <td>NEAR BAY</td>\n",
       "    </tr>\n",
       "    <tr>\n",
       "      <th>2</th>\n",
       "      <td>-122.24</td>\n",
       "      <td>37.85</td>\n",
       "      <td>52.0</td>\n",
       "      <td>1467.0</td>\n",
       "      <td>190.0</td>\n",
       "      <td>496.0</td>\n",
       "      <td>177.0</td>\n",
       "      <td>7.2574</td>\n",
       "      <td>352100.0</td>\n",
       "      <td>NEAR BAY</td>\n",
       "    </tr>\n",
       "    <tr>\n",
       "      <th>3</th>\n",
       "      <td>-122.25</td>\n",
       "      <td>37.85</td>\n",
       "      <td>52.0</td>\n",
       "      <td>1274.0</td>\n",
       "      <td>235.0</td>\n",
       "      <td>558.0</td>\n",
       "      <td>219.0</td>\n",
       "      <td>5.6431</td>\n",
       "      <td>341300.0</td>\n",
       "      <td>NEAR BAY</td>\n",
       "    </tr>\n",
       "    <tr>\n",
       "      <th>4</th>\n",
       "      <td>-122.25</td>\n",
       "      <td>37.85</td>\n",
       "      <td>52.0</td>\n",
       "      <td>1627.0</td>\n",
       "      <td>280.0</td>\n",
       "      <td>565.0</td>\n",
       "      <td>259.0</td>\n",
       "      <td>3.8462</td>\n",
       "      <td>342200.0</td>\n",
       "      <td>NEAR BAY</td>\n",
       "    </tr>\n",
       "  </tbody>\n",
       "</table>\n",
       "</div>"
      ],
      "text/plain": [
       "   longitude  latitude  housing_median_age  total_rooms  total_bedrooms  \\\n",
       "0    -122.23     37.88                41.0        880.0           129.0   \n",
       "1    -122.22     37.86                21.0       7099.0          1106.0   \n",
       "2    -122.24     37.85                52.0       1467.0           190.0   \n",
       "3    -122.25     37.85                52.0       1274.0           235.0   \n",
       "4    -122.25     37.85                52.0       1627.0           280.0   \n",
       "\n",
       "   population  households  median_income  median_house_value ocean_proximity  \n",
       "0       322.0       126.0         8.3252            452600.0        NEAR BAY  \n",
       "1      2401.0      1138.0         8.3014            358500.0        NEAR BAY  \n",
       "2       496.0       177.0         7.2574            352100.0        NEAR BAY  \n",
       "3       558.0       219.0         5.6431            341300.0        NEAR BAY  \n",
       "4       565.0       259.0         3.8462            342200.0        NEAR BAY  "
      ]
     },
     "execution_count": 4,
     "metadata": {},
     "output_type": "execute_result"
    }
   ],
   "source": [
    "\n",
    "# Load data Colab version:\n",
    "\n",
    "import os\n",
    "import tarfile\n",
    "import urllib\n",
    "\n",
    "DOWNLOAD_ROOT = \"https://raw.githubusercontent.com/ageron/handson-ml2/master/\"\n",
    "HOUSING_PATH = os.path.join(\"datasets\", \"housing\")\n",
    "HOUSING_URL = DOWNLOAD_ROOT + \"datasets/housing/housing.tgz\"\n",
    "\n",
    "def fetch_housing_data(housing_url=HOUSING_URL, housing_path=HOUSING_PATH):\n",
    "    if not os.path.isdir(housing_path):\n",
    "        os.makedirs(housing_path)\n",
    "    tgz_path = os.path.join(housing_path, \"housing.tgz\")\n",
    "    urllib.request.urlretrieve(housing_url, tgz_path)\n",
    "    housing_tgz = tarfile.open(tgz_path)\n",
    "    housing_tgz.extractall(path=housing_path)\n",
    "    housing_tgz.close()\n",
    "if not os.path.isfile(os.path.join(HOUSING_PATH, \"housing.csv\")):\n",
    "    fetch_housing_data()\n",
    "\n",
    "# Load data\n",
    "csv_path = os.path.join(HOUSING_PATH, \"housing.csv\")\n",
    "housing_df = pd.read_csv(csv_path, index_col = False)\n",
    "housing_df.head()\n",
    "\n",
    "#housing_df.describe()"
   ]
  },
  {
   "cell_type": "markdown",
   "metadata": {
    "id": "kvXo6modhvA1"
   },
   "source": [
    "# Subset Selection Approaches"
   ]
  },
  {
   "cell_type": "markdown",
   "metadata": {
    "id": "KY2mwJd3hvA2"
   },
   "source": [
    "## Best Subset Selection\n"
   ]
  },
  {
   "cell_type": "markdown",
   "metadata": {
    "id": "qMzjf-PchvA2"
   },
   "source": [
    "First of all, we have to identify the missing observations."
   ]
  },
  {
   "cell_type": "code",
   "execution_count": 5,
   "metadata": {
    "colab": {
     "base_uri": "https://localhost:8080/",
     "height": 312
    },
    "collapsed": true,
    "id": "yyDSp29hhvA4",
    "outputId": "304e451e-f01a-4805-c7ff-089bd09898a2"
   },
   "outputs": [
    {
     "name": "stdout",
     "output_type": "stream",
     "text": [
      "<class 'pandas.core.frame.DataFrame'>\n",
      "RangeIndex: 20640 entries, 0 to 20639\n",
      "Data columns (total 10 columns):\n",
      "longitude             20640 non-null float64\n",
      "latitude              20640 non-null float64\n",
      "housing_median_age    20640 non-null float64\n",
      "total_rooms           20640 non-null float64\n",
      "total_bedrooms        20433 non-null float64\n",
      "population            20640 non-null float64\n",
      "households            20640 non-null float64\n",
      "median_income         20640 non-null float64\n",
      "median_house_value    20640 non-null float64\n",
      "ocean_proximity       20640 non-null object\n",
      "dtypes: float64(9), object(1)\n",
      "memory usage: 1.6+ MB\n"
     ]
    }
   ],
   "source": [
    "housing_df.info()\n"
   ]
  },
  {
   "cell_type": "code",
   "execution_count": 9,
   "metadata": {},
   "outputs": [
    {
     "data": {
      "text/html": [
       "<div>\n",
       "<style scoped>\n",
       "    .dataframe tbody tr th:only-of-type {\n",
       "        vertical-align: middle;\n",
       "    }\n",
       "\n",
       "    .dataframe tbody tr th {\n",
       "        vertical-align: top;\n",
       "    }\n",
       "\n",
       "    .dataframe thead th {\n",
       "        text-align: right;\n",
       "    }\n",
       "</style>\n",
       "<table border=\"1\" class=\"dataframe\">\n",
       "  <thead>\n",
       "    <tr style=\"text-align: right;\">\n",
       "      <th></th>\n",
       "      <th>longitude</th>\n",
       "      <th>latitude</th>\n",
       "      <th>housing_median_age</th>\n",
       "      <th>total_rooms</th>\n",
       "      <th>total_bedrooms</th>\n",
       "      <th>population</th>\n",
       "      <th>households</th>\n",
       "      <th>median_income</th>\n",
       "      <th>median_house_value</th>\n",
       "    </tr>\n",
       "  </thead>\n",
       "  <tbody>\n",
       "    <tr>\n",
       "      <th>count</th>\n",
       "      <td>20640.000000</td>\n",
       "      <td>20640.000000</td>\n",
       "      <td>20640.000000</td>\n",
       "      <td>20640.000000</td>\n",
       "      <td>20433.000000</td>\n",
       "      <td>20640.000000</td>\n",
       "      <td>20640.000000</td>\n",
       "      <td>20640.000000</td>\n",
       "      <td>20640.000000</td>\n",
       "    </tr>\n",
       "    <tr>\n",
       "      <th>mean</th>\n",
       "      <td>-119.569704</td>\n",
       "      <td>35.631861</td>\n",
       "      <td>28.639486</td>\n",
       "      <td>2635.763081</td>\n",
       "      <td>537.870553</td>\n",
       "      <td>1425.476744</td>\n",
       "      <td>499.539680</td>\n",
       "      <td>3.870671</td>\n",
       "      <td>206855.816909</td>\n",
       "    </tr>\n",
       "    <tr>\n",
       "      <th>std</th>\n",
       "      <td>2.003532</td>\n",
       "      <td>2.135952</td>\n",
       "      <td>12.585558</td>\n",
       "      <td>2181.615252</td>\n",
       "      <td>421.385070</td>\n",
       "      <td>1132.462122</td>\n",
       "      <td>382.329753</td>\n",
       "      <td>1.899822</td>\n",
       "      <td>115395.615874</td>\n",
       "    </tr>\n",
       "    <tr>\n",
       "      <th>min</th>\n",
       "      <td>-124.350000</td>\n",
       "      <td>32.540000</td>\n",
       "      <td>1.000000</td>\n",
       "      <td>2.000000</td>\n",
       "      <td>1.000000</td>\n",
       "      <td>3.000000</td>\n",
       "      <td>1.000000</td>\n",
       "      <td>0.499900</td>\n",
       "      <td>14999.000000</td>\n",
       "    </tr>\n",
       "    <tr>\n",
       "      <th>25%</th>\n",
       "      <td>-121.800000</td>\n",
       "      <td>33.930000</td>\n",
       "      <td>18.000000</td>\n",
       "      <td>1447.750000</td>\n",
       "      <td>296.000000</td>\n",
       "      <td>787.000000</td>\n",
       "      <td>280.000000</td>\n",
       "      <td>2.563400</td>\n",
       "      <td>119600.000000</td>\n",
       "    </tr>\n",
       "    <tr>\n",
       "      <th>50%</th>\n",
       "      <td>-118.490000</td>\n",
       "      <td>34.260000</td>\n",
       "      <td>29.000000</td>\n",
       "      <td>2127.000000</td>\n",
       "      <td>435.000000</td>\n",
       "      <td>1166.000000</td>\n",
       "      <td>409.000000</td>\n",
       "      <td>3.534800</td>\n",
       "      <td>179700.000000</td>\n",
       "    </tr>\n",
       "    <tr>\n",
       "      <th>75%</th>\n",
       "      <td>-118.010000</td>\n",
       "      <td>37.710000</td>\n",
       "      <td>37.000000</td>\n",
       "      <td>3148.000000</td>\n",
       "      <td>647.000000</td>\n",
       "      <td>1725.000000</td>\n",
       "      <td>605.000000</td>\n",
       "      <td>4.743250</td>\n",
       "      <td>264725.000000</td>\n",
       "    </tr>\n",
       "    <tr>\n",
       "      <th>max</th>\n",
       "      <td>-114.310000</td>\n",
       "      <td>41.950000</td>\n",
       "      <td>52.000000</td>\n",
       "      <td>39320.000000</td>\n",
       "      <td>6445.000000</td>\n",
       "      <td>35682.000000</td>\n",
       "      <td>6082.000000</td>\n",
       "      <td>15.000100</td>\n",
       "      <td>500001.000000</td>\n",
       "    </tr>\n",
       "  </tbody>\n",
       "</table>\n",
       "</div>"
      ],
      "text/plain": [
       "          longitude      latitude  housing_median_age   total_rooms  \\\n",
       "count  20640.000000  20640.000000        20640.000000  20640.000000   \n",
       "mean    -119.569704     35.631861           28.639486   2635.763081   \n",
       "std        2.003532      2.135952           12.585558   2181.615252   \n",
       "min     -124.350000     32.540000            1.000000      2.000000   \n",
       "25%     -121.800000     33.930000           18.000000   1447.750000   \n",
       "50%     -118.490000     34.260000           29.000000   2127.000000   \n",
       "75%     -118.010000     37.710000           37.000000   3148.000000   \n",
       "max     -114.310000     41.950000           52.000000  39320.000000   \n",
       "\n",
       "       total_bedrooms    population    households  median_income  \\\n",
       "count    20433.000000  20640.000000  20640.000000   20640.000000   \n",
       "mean       537.870553   1425.476744    499.539680       3.870671   \n",
       "std        421.385070   1132.462122    382.329753       1.899822   \n",
       "min          1.000000      3.000000      1.000000       0.499900   \n",
       "25%        296.000000    787.000000    280.000000       2.563400   \n",
       "50%        435.000000   1166.000000    409.000000       3.534800   \n",
       "75%        647.000000   1725.000000    605.000000       4.743250   \n",
       "max       6445.000000  35682.000000   6082.000000      15.000100   \n",
       "\n",
       "       median_house_value  \n",
       "count        20640.000000  \n",
       "mean        206855.816909  \n",
       "std         115395.615874  \n",
       "min          14999.000000  \n",
       "25%         119600.000000  \n",
       "50%         179700.000000  \n",
       "75%         264725.000000  \n",
       "max         500001.000000  "
      ]
     },
     "execution_count": 9,
     "metadata": {},
     "output_type": "execute_result"
    }
   ],
   "source": [
    "housing_df.describe()"
   ]
  },
  {
   "cell_type": "code",
   "execution_count": 8,
   "metadata": {},
   "outputs": [
    {
     "name": "stdout",
     "output_type": "stream",
     "text": [
      "Number of null values:\n",
      " longitude               0\n",
      "latitude                0\n",
      "housing_median_age      0\n",
      "total_rooms             0\n",
      "total_bedrooms        207\n",
      "population              0\n",
      "households              0\n",
      "median_income           0\n",
      "median_house_value      0\n",
      "ocean_proximity         0\n",
      "dtype: int64\n"
     ]
    }
   ],
   "source": [
    "print(\"Number of null values:\\n\", housing_df.isnull().sum())"
   ]
  },
  {
   "cell_type": "code",
   "execution_count": 11,
   "metadata": {
    "id": "KE1U-r2chvA8"
   },
   "outputs": [
    {
     "name": "stdout",
     "output_type": "stream",
     "text": [
      "Number of null values: 207\n"
     ]
    }
   ],
   "source": [
    "print(\"Number of null values:\", housing_df[\"total_bedrooms\"].isnull().sum())"
   ]
  },
  {
   "cell_type": "markdown",
   "metadata": {
    "id": "225V_iy2hvBB"
   },
   "source": [
    "We see that `total_bedrooms` is missing for 207 districts. The `dropna()` function removes all of the rows that have missing values in any feature:"
   ]
  },
  {
   "cell_type": "code",
   "execution_count": 61,
   "metadata": {
    "id": "LPI6UZ4bhvBD"
   },
   "outputs": [
    {
     "name": "stdout",
     "output_type": "stream",
     "text": [
      "Dimensions of original data: (20640, 10)\n",
      "Dimensions of modified data: (20433, 10)\n",
      "Number of null values: 0\n"
     ]
    }
   ],
   "source": [
    "# Print the dimensions of the original housing data\n",
    "print(\"Dimensions of original data:\", housing_df.shape)\n",
    "\n",
    "# Drop any rows where at least one element is missing\n",
    "housing_df_clean = housing_df.dropna()\n",
    "\n",
    "# Print the dimensions of the modified housing data\n",
    "print(\"Dimensions of modified data:\", housing_df_clean.shape)\n",
    "\n",
    "# One last check: should return 0\n",
    "print(\"Number of null values:\", housing_df_clean[\"total_bedrooms\"].isnull().sum())"
   ]
  },
  {
   "cell_type": "markdown",
   "metadata": {
    "id": "yEAWRRo-hvBG"
   },
   "source": [
    "Some of our features are categorical, so we'll want to clean those up as well. We'll ask `pandas` to generate dummy variables for them, separate out the target variable, and stick everything back together again:"
   ]
  },
  {
   "cell_type": "code",
   "execution_count": 62,
   "metadata": {},
   "outputs": [
    {
     "data": {
      "text/html": [
       "<div>\n",
       "<style scoped>\n",
       "    .dataframe tbody tr th:only-of-type {\n",
       "        vertical-align: middle;\n",
       "    }\n",
       "\n",
       "    .dataframe tbody tr th {\n",
       "        vertical-align: top;\n",
       "    }\n",
       "\n",
       "    .dataframe thead th {\n",
       "        text-align: right;\n",
       "    }\n",
       "</style>\n",
       "<table border=\"1\" class=\"dataframe\">\n",
       "  <thead>\n",
       "    <tr style=\"text-align: right;\">\n",
       "      <th></th>\n",
       "      <th>ocean_proximity_&lt;1H OCEAN</th>\n",
       "      <th>ocean_proximity_INLAND</th>\n",
       "      <th>ocean_proximity_ISLAND</th>\n",
       "      <th>ocean_proximity_NEAR BAY</th>\n",
       "      <th>ocean_proximity_NEAR OCEAN</th>\n",
       "    </tr>\n",
       "  </thead>\n",
       "  <tbody>\n",
       "    <tr>\n",
       "      <th>0</th>\n",
       "      <td>0</td>\n",
       "      <td>0</td>\n",
       "      <td>0</td>\n",
       "      <td>1</td>\n",
       "      <td>0</td>\n",
       "    </tr>\n",
       "    <tr>\n",
       "      <th>1</th>\n",
       "      <td>0</td>\n",
       "      <td>0</td>\n",
       "      <td>0</td>\n",
       "      <td>1</td>\n",
       "      <td>0</td>\n",
       "    </tr>\n",
       "    <tr>\n",
       "      <th>2</th>\n",
       "      <td>0</td>\n",
       "      <td>0</td>\n",
       "      <td>0</td>\n",
       "      <td>1</td>\n",
       "      <td>0</td>\n",
       "    </tr>\n",
       "    <tr>\n",
       "      <th>3</th>\n",
       "      <td>0</td>\n",
       "      <td>0</td>\n",
       "      <td>0</td>\n",
       "      <td>1</td>\n",
       "      <td>0</td>\n",
       "    </tr>\n",
       "    <tr>\n",
       "      <th>4</th>\n",
       "      <td>0</td>\n",
       "      <td>0</td>\n",
       "      <td>0</td>\n",
       "      <td>1</td>\n",
       "      <td>0</td>\n",
       "    </tr>\n",
       "  </tbody>\n",
       "</table>\n",
       "</div>"
      ],
      "text/plain": [
       "   ocean_proximity_<1H OCEAN  ocean_proximity_INLAND  ocean_proximity_ISLAND  \\\n",
       "0                          0                       0                       0   \n",
       "1                          0                       0                       0   \n",
       "2                          0                       0                       0   \n",
       "3                          0                       0                       0   \n",
       "4                          0                       0                       0   \n",
       "\n",
       "   ocean_proximity_NEAR BAY  ocean_proximity_NEAR OCEAN  \n",
       "0                         1                           0  \n",
       "1                         1                           0  \n",
       "2                         1                           0  \n",
       "3                         1                           0  \n",
       "4                         1                           0  "
      ]
     },
     "execution_count": 62,
     "metadata": {},
     "output_type": "execute_result"
    }
   ],
   "source": [
    "dummies = pd.get_dummies(housing_df_clean[['ocean_proximity']])\n",
    "dummies.head()"
   ]
  },
  {
   "cell_type": "code",
   "execution_count": 63,
   "metadata": {
    "id": "I9HC6eyshvBH"
   },
   "outputs": [
    {
     "data": {
      "text/plain": [
       "(20433, 13)"
      ]
     },
     "execution_count": 63,
     "metadata": {},
     "output_type": "execute_result"
    }
   ],
   "source": [
    "# Get dummy variables\n",
    "dummies = pd.get_dummies(housing_df_clean[['ocean_proximity']])\n",
    "\n",
    "# Extract the target variable\n",
    "y = housing_df_clean.median_house_value\n",
    "\n",
    "# Drop the column with the independent and target variable (median_house_value), and columns for which we created dummy variables\n",
    "X_ = housing_df_clean.drop(['median_house_value', 'ocean_proximity'], axis=1).astype('float64')\n",
    "\n",
    "# Define the feature set X, our matrix data\n",
    "X = pd.concat([X_, dummies], axis=1)\n",
    "\n",
    "X.shape"
   ]
  },
  {
   "cell_type": "markdown",
   "metadata": {
    "id": "4RnzSEzyhvBL"
   },
   "source": [
    "We can perform best subset selection by identifying the best model that contains a given number of features, where best is quantified using **RSS**. We'll define a helper function to outputs the best set of features for each model size:"
   ]
  },
  {
   "cell_type": "code",
   "execution_count": 64,
   "metadata": {
    "id": "inGwIdsyhvBM"
   },
   "outputs": [],
   "source": [
    "def processSubset(feature_set):\n",
    "    # Fit OLS (Ordinary Least Squares) model on feature_set and calculate RSS\n",
    "    model = sm.OLS(y,X[list(feature_set)])\n",
    "    regr = model.fit()\n",
    "    RSS = ((regr.predict(X[list(feature_set)]) - y) ** 2).sum()\n",
    "    return {\"model\":regr, \"RSS\":RSS}"
   ]
  },
  {
   "cell_type": "code",
   "execution_count": 65,
   "metadata": {
    "id": "IY7dQ_yOhvBU"
   },
   "outputs": [],
   "source": [
    "def getBest(k):\n",
    "    \n",
    "    tic = time.time()\n",
    "    \n",
    "    results = []\n",
    "    \n",
    "    for combo in itertools.combinations(X.columns, k):\n",
    "        results.append(processSubset(combo))\n",
    "    \n",
    "    # Wrap everything up in a nice dataframe\n",
    "    models = pd.DataFrame(results)\n",
    "    \n",
    "    # Choose the model with the highest RSS\n",
    "    best_model = models.loc[models['RSS'].argmin()]\n",
    "    \n",
    "    toc = time.time()\n",
    "    print(\"Processed\", models.shape[0], \"models on\", k, \"predictors in\", (toc-tic), \"seconds.\")\n",
    "    \n",
    "    # Return the best model, along with some other useful information about the model\n",
    "    return best_model\n",
    "\n"
   ]
  },
  {
   "cell_type": "markdown",
   "metadata": {
    "id": "pLAWwbUDhvBX"
   },
   "source": [
    "This returns a `DataFrame` containing the best model that we generated, along with some extra information about the model. Now we want to call that function for each number of features `k`:"
   ]
  },
  {
   "cell_type": "code",
   "execution_count": 66,
   "metadata": {
    "id": "o9tOR5GghvBZ"
   },
   "outputs": [
    {
     "name": "stderr",
     "output_type": "stream",
     "text": [
      "/Users/lastaw/anaconda3/lib/python3.7/site-packages/ipykernel_launcher.py:14: FutureWarning: \n",
      "The current behaviour of 'Series.argmin' is deprecated, use 'idxmin'\n",
      "instead.\n",
      "The behavior of 'argmin' will be corrected to return the positional\n",
      "minimum in the future. For now, use 'series.values.argmin' or\n",
      "'np.argmin(np.array(values))' to get the position of the minimum\n",
      "row.\n",
      "  \n"
     ]
    },
    {
     "name": "stdout",
     "output_type": "stream",
     "text": [
      "Processed 13 models on 1 predictors in 0.05989575386047363 seconds.\n",
      "Processed 78 models on 2 predictors in 0.42952799797058105 seconds.\n",
      "Processed 286 models on 3 predictors in 1.618945837020874 seconds.\n",
      "Processed 715 models on 4 predictors in 5.104722738265991 seconds.\n",
      "Processed 1287 models on 5 predictors in 10.56454586982727 seconds.\n",
      "Processed 1716 models on 6 predictors in 16.810720920562744 seconds.\n",
      "Processed 1716 models on 7 predictors in 23.070045948028564 seconds.\n",
      "Processed 1287 models on 8 predictors in 17.9496910572052 seconds.\n",
      "Processed 715 models on 9 predictors in 10.299835920333862 seconds.\n",
      "Total elapsed time: 90.59270668029785 seconds.\n"
     ]
    }
   ],
   "source": [
    "# It might take a while... Please be patient. \n",
    "# As long as the star to the left of the cell is displayed do not run again the cell.\n",
    "\n",
    "models_best = pd.DataFrame(columns=[\"RSS\", \"model\"])\n",
    "\n",
    "tic = time.time()\n",
    "for i in range(1,10):\n",
    "    models_best.loc[i] = getBest(i)\n",
    "\n",
    "toc = time.time()\n",
    "print(\"Total elapsed time:\", (toc-tic), \"seconds.\")\n"
   ]
  },
  {
   "cell_type": "markdown",
   "metadata": {
    "id": "nU3f70wdhvBc"
   },
   "source": [
    "Now we have one big `DataFrame` that contains the best models we've generated along with their `RSS`:"
   ]
  },
  {
   "cell_type": "code",
   "execution_count": 67,
   "metadata": {
    "id": "tE2fr0quhvBd"
   },
   "outputs": [
    {
     "data": {
      "text/html": [
       "<div>\n",
       "<style scoped>\n",
       "    .dataframe tbody tr th:only-of-type {\n",
       "        vertical-align: middle;\n",
       "    }\n",
       "\n",
       "    .dataframe tbody tr th {\n",
       "        vertical-align: top;\n",
       "    }\n",
       "\n",
       "    .dataframe thead th {\n",
       "        text-align: right;\n",
       "    }\n",
       "</style>\n",
       "<table border=\"1\" class=\"dataframe\">\n",
       "  <thead>\n",
       "    <tr style=\"text-align: right;\">\n",
       "      <th></th>\n",
       "      <th>RSS</th>\n",
       "      <th>model</th>\n",
       "    </tr>\n",
       "  </thead>\n",
       "  <tbody>\n",
       "    <tr>\n",
       "      <th>1</th>\n",
       "      <td>1.512504e+14</td>\n",
       "      <td>&lt;statsmodels.regression.linear_model.Regressio...</td>\n",
       "    </tr>\n",
       "    <tr>\n",
       "      <th>2</th>\n",
       "      <td>1.337039e+14</td>\n",
       "      <td>&lt;statsmodels.regression.linear_model.Regressio...</td>\n",
       "    </tr>\n",
       "    <tr>\n",
       "      <th>3</th>\n",
       "      <td>1.131256e+14</td>\n",
       "      <td>&lt;statsmodels.regression.linear_model.Regressio...</td>\n",
       "    </tr>\n",
       "    <tr>\n",
       "      <th>4</th>\n",
       "      <td>1.091319e+14</td>\n",
       "      <td>&lt;statsmodels.regression.linear_model.Regressio...</td>\n",
       "    </tr>\n",
       "    <tr>\n",
       "      <th>5</th>\n",
       "      <td>1.022380e+14</td>\n",
       "      <td>&lt;statsmodels.regression.linear_model.Regressio...</td>\n",
       "    </tr>\n",
       "    <tr>\n",
       "      <th>6</th>\n",
       "      <td>1.006910e+14</td>\n",
       "      <td>&lt;statsmodels.regression.linear_model.Regressio...</td>\n",
       "    </tr>\n",
       "    <tr>\n",
       "      <th>7</th>\n",
       "      <td>1.003378e+14</td>\n",
       "      <td>&lt;statsmodels.regression.linear_model.Regressio...</td>\n",
       "    </tr>\n",
       "    <tr>\n",
       "      <th>8</th>\n",
       "      <td>9.995819e+13</td>\n",
       "      <td>&lt;statsmodels.regression.linear_model.Regressio...</td>\n",
       "    </tr>\n",
       "    <tr>\n",
       "      <th>9</th>\n",
       "      <td>9.963799e+13</td>\n",
       "      <td>&lt;statsmodels.regression.linear_model.Regressio...</td>\n",
       "    </tr>\n",
       "  </tbody>\n",
       "</table>\n",
       "</div>"
      ],
      "text/plain": [
       "            RSS                                              model\n",
       "1  1.512504e+14  <statsmodels.regression.linear_model.Regressio...\n",
       "2  1.337039e+14  <statsmodels.regression.linear_model.Regressio...\n",
       "3  1.131256e+14  <statsmodels.regression.linear_model.Regressio...\n",
       "4  1.091319e+14  <statsmodels.regression.linear_model.Regressio...\n",
       "5  1.022380e+14  <statsmodels.regression.linear_model.Regressio...\n",
       "6  1.006910e+14  <statsmodels.regression.linear_model.Regressio...\n",
       "7  1.003378e+14  <statsmodels.regression.linear_model.Regressio...\n",
       "8  9.995819e+13  <statsmodels.regression.linear_model.Regressio...\n",
       "9  9.963799e+13  <statsmodels.regression.linear_model.Regressio..."
      ]
     },
     "execution_count": 67,
     "metadata": {},
     "output_type": "execute_result"
    }
   ],
   "source": [
    "models_best"
   ]
  },
  {
   "cell_type": "markdown",
   "metadata": {
    "id": "PO3oHzXhhvBh"
   },
   "source": [
    "If we want to access the details of each model, no problem! We can get a full rundown of a single model using the `summary()` function:"
   ]
  },
  {
   "cell_type": "code",
   "execution_count": 68,
   "metadata": {
    "id": "AqepzKSXhvBi"
   },
   "outputs": [
    {
     "name": "stdout",
     "output_type": "stream",
     "text": [
      "                                 OLS Regression Results                                \n",
      "=======================================================================================\n",
      "Dep. Variable:     median_house_value   R-squared (uncentered):                   0.883\n",
      "Model:                            OLS   Adj. R-squared (uncentered):              0.883\n",
      "Method:                 Least Squares   F-statistic:                          7.739e+04\n",
      "Date:                Sun, 18 Oct 2020   Prob (F-statistic):                        0.00\n",
      "Time:                        19:47:57   Log-Likelihood:                     -2.5990e+05\n",
      "No. Observations:               20433   AIC:                                  5.198e+05\n",
      "Df Residuals:                   20431   BIC:                                  5.198e+05\n",
      "Df Model:                           2                                                  \n",
      "Covariance Type:            nonrobust                                                  \n",
      "======================================================================================\n",
      "                         coef    std err          t      P>|t|      [0.025      0.975]\n",
      "--------------------------------------------------------------------------------------\n",
      "housing_median_age  1564.3738     30.211     51.781      0.000    1505.157    1623.591\n",
      "median_income        4.21e+04    219.157    192.094      0.000    4.17e+04    4.25e+04\n",
      "==============================================================================\n",
      "Omnibus:                     4148.658   Durbin-Watson:                   0.758\n",
      "Prob(Omnibus):                  0.000   Jarque-Bera (JB):             9601.599\n",
      "Skew:                           1.151   Prob(JB):                         0.00\n",
      "Kurtosis:                       5.445   Cond. No.                         12.3\n",
      "==============================================================================\n",
      "\n",
      "Warnings:\n",
      "[1] Standard Errors assume that the covariance matrix of the errors is correctly specified.\n"
     ]
    }
   ],
   "source": [
    "print(models_best.loc[2, \"model\"].summary())"
   ]
  },
  {
   "cell_type": "markdown",
   "metadata": {
    "id": "WzMj-ZP6hvBl"
   },
   "source": [
    "This output indicates that the best two-feature model contains only `housing_median_age` and `median_income `. "
   ]
  },
  {
   "cell_type": "code",
   "execution_count": null,
   "metadata": {
    "id": "iiySYjeMhvBm"
   },
   "outputs": [],
   "source": [
    "# Show the best 9-feature model (there's actually only one)\n",
    "print(getBest(9)[\"model\"].summary())"
   ]
  },
  {
   "cell_type": "markdown",
   "metadata": {
    "id": "-Y_T7sb5hvBq"
   },
   "source": [
    "Rather than letting the results of our call to the `summary()` function print to the screen, we can access just the parts we need using the model's attributes. For example, if we want the $R^2$ value:"
   ]
  },
  {
   "cell_type": "code",
   "execution_count": null,
   "metadata": {
    "id": "3KiorDLchvBq"
   },
   "outputs": [],
   "source": [
    "models_best.loc[2, \"model\"].rsquared\n"
   ]
  },
  {
   "cell_type": "markdown",
   "metadata": {
    "id": "DYBbIFvnhvBu"
   },
   "source": [
    "In addition to the verbose output we get when we print the summary to the screen, fitting the OLS (Ordinary Least Squares) also produced many other useful statistics such as **adjusted $R^2$**, **AIC**, and **BIC**. We can examine these to try to select the best overall model. Let's start by looking at $R^2$ across all our models:"
   ]
  },
  {
   "cell_type": "code",
   "execution_count": null,
   "metadata": {
    "id": "5ETk5HFZhvBu"
   },
   "outputs": [],
   "source": [
    "# Gets the second element from each row ('model') and pulls out its rsquared attribute\n",
    "models_best.apply(lambda row: row[1].rsquared, axis=1)"
   ]
  },
  {
   "cell_type": "markdown",
   "metadata": {
    "id": "2TErb0TPhvBy"
   },
   "source": [
    "As expected, the $R^2$ statistic increases monotonically as more features are included."
   ]
  },
  {
   "cell_type": "markdown",
   "metadata": {
    "id": "Wbq8GY5ZhvBz"
   },
   "source": [
    "Plotting RSS, adjusted $R^2$, AIC, and BIC for all of the models at once will help us decide which model to select."
   ]
  },
  {
   "cell_type": "code",
   "execution_count": null,
   "metadata": {
    "id": "jeLDDyGGhvB0",
    "scrolled": true
   },
   "outputs": [],
   "source": [
    "plt.figure(figsize=(20,10))\n",
    "plt.rcParams.update({'font.size': 18, 'lines.markersize': 10})\n",
    "\n",
    "# Set up a 2x2 grid so we can look at 4 plots at once\n",
    "plt.subplot(2, 2, 1)\n",
    "\n",
    "# We will now plot a red dot to indicate the model with the lowest RSS value.\n",
    "# The argmax() function can be used to identify the location of the minimum point of a vector.\n",
    "rss = models_best[\"RSS\"]\n",
    "plt.plot(rss)\n",
    "plt.plot(rss.argmin(), rss.min(), \"or\")\n",
    "plt.xlabel('# Features')\n",
    "plt.ylabel('RSS')\n",
    "\n",
    "# We will now plot a red dot to indicate the model with the largest adjusted R^2 statistic.\n",
    "# The argmax() function can be used to identify the location of the maximum point of a vector.\n",
    "\n",
    "rsquared_adj = models_best.apply(lambda row: row[1].rsquared_adj, axis=1)\n",
    "\n",
    "plt.subplot(2, 2, 2)\n",
    "plt.plot(rsquared_adj)\n",
    "plt.plot(rsquared_adj.argmax(), rsquared_adj.max(), \"or\")\n",
    "plt.xlabel('# Features')\n",
    "plt.ylabel('adjusted rsquared')\n",
    "\n",
    "# We'll do the same for AIC and BIC, this time looking for the models with the SMALLEST statistic\n",
    "aic = models_best.apply(lambda row: row[1].aic, axis=1)\n",
    "\n",
    "plt.subplot(2, 2, 3)\n",
    "plt.plot(aic)\n",
    "plt.plot(aic.argmin(), aic.min(), \"or\")\n",
    "plt.xlabel('# Features')\n",
    "plt.ylabel('AIC')\n",
    "\n",
    "bic = models_best.apply(lambda row: row[1].bic, axis=1)\n",
    "\n",
    "plt.subplot(2, 2, 4)\n",
    "plt.plot(bic)\n",
    "plt.plot(bic.argmin(), bic.min(), \"or\")\n",
    "plt.xlabel('# Features')\n",
    "plt.ylabel('BIC')"
   ]
  },
  {
   "cell_type": "markdown",
   "metadata": {
    "id": "IcAqnC3bhvB3"
   },
   "source": [
    "We see that they all agree that a model with 8 predictors is sufficient."
   ]
  },
  {
   "cell_type": "markdown",
   "metadata": {
    "id": "4YJigGT_hvB5"
   },
   "source": [
    "## Forward and Backward Stepwise Selection"
   ]
  },
  {
   "cell_type": "markdown",
   "metadata": {
    "id": "SY1_gF_KhvB5"
   },
   "source": [
    "We can also use a similar approach to perform forward stepwise or backward stepwise selection, using a slight modification of the functions we defined above:"
   ]
  },
  {
   "cell_type": "code",
   "execution_count": null,
   "metadata": {
    "id": "KDhGtm_phvB6"
   },
   "outputs": [],
   "source": [
    "def forward(features):\n",
    "\n",
    "    # Pull out features we still need to process\n",
    "    remaining_features = [d for d in X.columns if d not in features]\n",
    "    \n",
    "    tic = time.time()\n",
    "    \n",
    "    results = []\n",
    "    \n",
    "    for d in remaining_features:\n",
    "        results.append(processSubset(features+[d]))\n",
    "    \n",
    "    # Wrap everything up in a nice dataframe\n",
    "    models = pd.DataFrame(results)\n",
    "    \n",
    "    # Choose the model with the highest RSS\n",
    "    best_model = models.loc[models['RSS'].argmin()]\n",
    "    \n",
    "    toc = time.time()\n",
    "    print(\"Processed \", models.shape[0], \"models on\", len(features)+1, \"features in\", (toc-tic), \"seconds.\")\n",
    "    \n",
    "    # Return the best model, along with some other useful information about the model\n",
    "    return best_model"
   ]
  },
  {
   "cell_type": "markdown",
   "metadata": {
    "id": "ZKsu5gMIhvB-"
   },
   "source": [
    "Now let's see how much faster it runs."
   ]
  },
  {
   "cell_type": "code",
   "execution_count": null,
   "metadata": {
    "id": "dxexv_4lhvB-"
   },
   "outputs": [],
   "source": [
    "models_fwd = pd.DataFrame(columns=[\"RSS\", \"model\"])\n",
    "\n",
    "tic = time.time()\n",
    "features = []\n",
    "\n",
    "for i in range(1,len(X.columns)+1):    \n",
    "    models_fwd.loc[i] = forward(features)\n",
    "    features = models_fwd.loc[i][\"model\"].model.exog_names\n",
    "\n",
    "toc = time.time()\n",
    "print(\"Total elapsed time:\", (toc-tic), \"seconds.\")\n",
    "\n"
   ]
  },
  {
   "cell_type": "markdown",
   "metadata": {
    "id": "kwoV4094hvCB"
   },
   "source": [
    "That's a lot better than previously. Let's take a look:"
   ]
  },
  {
   "cell_type": "code",
   "execution_count": null,
   "metadata": {
    "id": "nFB1Klt1hvCB"
   },
   "outputs": [],
   "source": [
    "print(models_fwd.loc[1, \"model\"].summary())\n",
    "print(models_fwd.loc[2, \"model\"].summary())"
   ]
  },
  {
   "cell_type": "markdown",
   "metadata": {
    "id": "XbQw8LHThvCE"
   },
   "source": [
    "We see that using forward stepwise selection, the best one-feaure model contains only `median_income`, and the best two-feature model additionally includes `housing_median_age`. Let's see how the models stack up against best subset selection:"
   ]
  },
  {
   "cell_type": "code",
   "execution_count": null,
   "metadata": {
    "id": "cZlUafoRhvCF"
   },
   "outputs": [],
   "source": [
    "print(models_best.loc[4, \"model\"].summary())\n",
    "print(models_fwd.loc[4, \"model\"].summary())"
   ]
  },
  {
   "cell_type": "markdown",
   "metadata": {
    "id": "wKupytjQhvCI"
   },
   "source": [
    "For this data, the best one-feature through four-feature models are each identical for best subset and forward selection (but it's not the case for six-feature models)."
   ]
  },
  {
   "cell_type": "markdown",
   "metadata": {
    "id": "-ynevu0lhvCJ"
   },
   "source": [
    "## Backward Selection"
   ]
  },
  {
   "cell_type": "markdown",
   "metadata": {
    "id": "xZ-4xCIvhvCK"
   },
   "source": [
    "Not much has to change to implement backward selection... just looping through the features in reverse."
   ]
  },
  {
   "cell_type": "code",
   "execution_count": null,
   "metadata": {
    "id": "t7oPtRlQhvCL"
   },
   "outputs": [],
   "source": [
    "def backward(features):\n",
    "    \n",
    "    tic = time.time()\n",
    "    \n",
    "    results = []\n",
    "    \n",
    "    for combo in itertools.combinations(features, len(features)-1):\n",
    "        results.append(processSubset(combo))\n",
    "    \n",
    "    # Wrap everything up in a nice dataframe\n",
    "    models = pd.DataFrame(results)\n",
    "    \n",
    "    # Choose the model with the highest RSS\n",
    "    best_model = models.loc[models['RSS'].argmin()]\n",
    "    \n",
    "    toc = time.time()\n",
    "    print(\"Processed \", models.shape[0], \"models on\", len(features)-1, \"features in\", (toc-tic), \"seconds.\")\n",
    "    \n",
    "    # Return the best model, along with some other useful information about the model\n",
    "    return best_model\n"
   ]
  },
  {
   "cell_type": "code",
   "execution_count": null,
   "metadata": {
    "id": "EqKfmKYGhvCO"
   },
   "outputs": [],
   "source": [
    "models_bwd = pd.DataFrame(columns=[\"RSS\", \"model\"], index = range(1,len(X.columns)))\n",
    "\n",
    "tic = time.time()\n",
    "features = X.columns\n",
    "\n",
    "while(len(features) > 1):  \n",
    "    models_bwd.loc[len(features)-1] = backward(features)\n",
    "    features = models_bwd.loc[len(features)-1][\"model\"].model.exog_names\n",
    "\n",
    "toc = time.time()\n",
    "print(\"Total elapsed time:\", (toc-tic), \"seconds.\")"
   ]
  },
  {
   "cell_type": "markdown",
   "metadata": {
    "id": "TQuAcpxohvCQ"
   },
   "source": [
    "For this data, the best one-feature through four-feature models are each identical for best subset and forward selection. However, the best seven-feature models identified by forward stepwise selection, backward stepwise selection, and best subset selection are different:"
   ]
  },
  {
   "cell_type": "code",
   "execution_count": null,
   "metadata": {
    "id": "F5wx7cRShvCR"
   },
   "outputs": [],
   "source": [
    "print(\"------------\")\n",
    "print(\"Best Subset:\")\n",
    "print(\"------------\")\n",
    "print(models_best.loc[4, \"model\"].params)"
   ]
  },
  {
   "cell_type": "code",
   "execution_count": null,
   "metadata": {
    "id": "rsVBAGXjhvCT"
   },
   "outputs": [],
   "source": [
    "print(\"-----------------\")\n",
    "print(\"Foward Selection:\")\n",
    "print(\"-----------------\")\n",
    "print(models_fwd.loc[4, \"model\"].params)"
   ]
  },
  {
   "cell_type": "code",
   "execution_count": null,
   "metadata": {
    "id": "YQWBW0grhvCX"
   },
   "outputs": [],
   "source": [
    "\n",
    "\n",
    "print(\"-------------------\")\n",
    "print(\"Backward Selection:\")\n",
    "print(\"-------------------\")\n",
    "print(models_bwd.loc[4, \"model\"].params)\n",
    "\n"
   ]
  },
  {
   "cell_type": "markdown",
   "metadata": {
    "id": "BfdZBQsShvCZ"
   },
   "source": [
    "# Choosing among models using Validation Set approach and Cross-Validation\n"
   ]
  },
  {
   "cell_type": "markdown",
   "metadata": {
    "id": "d2UR1YPLhvCa"
   },
   "source": [
    "We just saw that it is possible to choose among a set of models of different sizes using AIC, BIC, and adjusted $R^2\n",
    "$. We will now consider how to do this using the validation set and cross-validation approaches."
   ]
  },
  {
   "cell_type": "markdown",
   "metadata": {
    "id": "4P1GcGzahvCb"
   },
   "source": [
    "## Model selection using Validation Set approach"
   ]
  },
  {
   "cell_type": "markdown",
   "metadata": {
    "id": "aC8nIjI4hvCb"
   },
   "source": [
    "In order for the $validation set approach$ to yield accurate estimates of the test error, we must use only the training observations to perform all aspects of model-fitting — including variable selection. Therefore, the determination of which model of a given size is best must be made using only the training observations. This point is subtle but important. If the full data set is used to perform the best subset selection step, the validation set errors and cross-validation errors that we obtain will not be accurate estimates of the test error.\n",
    "\n",
    "In order to use the $validation set$ approach, we begin by splitting the observations into a $training set$ and a $test set$. We do this by creating a random vector, `train`, of elements equal to `TRUE` if the corresponding observation is in the training set, and `FALSE` otherwise. The vector `test` has a `TRUE` if the observation is in the test set, and a `FALSE` otherwise. Note the `np.invert()` in the command to create `test` causes `TRUE`s to be switched to `FALSE`s and vice versa. We also set a random seed so that the user will obtain the same training set/test set split.\n"
   ]
  },
  {
   "cell_type": "code",
   "execution_count": 47,
   "metadata": {
    "id": "3DLRqtQlhvCb"
   },
   "outputs": [],
   "source": [
    "np.random.seed(seed=12)\n",
    "train = np.random.choice([True, False], size = len(y), replace = True)\n",
    "test = np.invert(train)"
   ]
  },
  {
   "cell_type": "code",
   "execution_count": 48,
   "metadata": {},
   "outputs": [
    {
     "data": {
      "text/plain": [
       "10175"
      ]
     },
     "execution_count": 48,
     "metadata": {},
     "output_type": "execute_result"
    }
   ],
   "source": [
    "test.sum()"
   ]
  },
  {
   "cell_type": "markdown",
   "metadata": {
    "id": "9675odzkhvCe"
   },
   "source": [
    "We'll define our helper function to outputs the best set of features for each model size like we did in previous part of the lab. Note that we'll need to modify this to take in both test and training sets, because we want the returned error to be the **test error**:"
   ]
  },
  {
   "cell_type": "code",
   "execution_count": 25,
   "metadata": {
    "id": "2b4kYiEIhvCe"
   },
   "outputs": [],
   "source": [
    "def processSubset(feature_set, X_train, y_train, X_test, y_test):\n",
    "    # Fit OLS model on feature_set (from train)\n",
    "    model = sm.OLS(y_train,X_train[list(feature_set)])\n",
    "    regr = model.fit()\n",
    "    # Compute RSS using model predictions on feature_set (from test) and the true test value of the target\n",
    "    RSS = ((regr.predict(X_test[list(feature_set)]) - y_test) ** 2).sum()\n",
    "    return {\"model\":regr, \"RSS\":RSS}"
   ]
  },
  {
   "cell_type": "markdown",
   "metadata": {
    "id": "LhIDm-ushvCg"
   },
   "source": [
    "And our update function to perform forward selection in the context of validation set approach:"
   ]
  },
  {
   "cell_type": "code",
   "execution_count": 31,
   "metadata": {
    "id": "23OEjv8uhvCg"
   },
   "outputs": [],
   "source": [
    "def forwardCV(features, X_train, y_train, X_test, y_test):\n",
    "    \n",
    "    results = []\n",
    "\n",
    "    # Pull out features we still need to process\n",
    "    remaining_features = [d for d in X_train.columns if d not in features]\n",
    "    \n",
    "    \n",
    "    for d in remaining_features:\n",
    "        results.append(processSubset(features+[d], X_train, y_train, X_test, y_test))\n",
    "    \n",
    "    # Wrap everything up in a nice dataframe\n",
    "    models = pd.DataFrame(results)\n",
    "    \n",
    "    # Choose the model with the highest RSS\n",
    "    best_model = models.loc[models['RSS'].idxmin()]\n",
    "        \n",
    "    # Return the best model, along with some other useful information about the model\n",
    "    return best_model"
   ]
  },
  {
   "cell_type": "markdown",
   "metadata": {
    "id": "kuqgH_u7hvCj"
   },
   "source": [
    "Now, we'll call our `forwardCV()` function on the training set in order to perform forward selection for all model sizes:"
   ]
  },
  {
   "cell_type": "code",
   "execution_count": 32,
   "metadata": {
    "id": "yKucvUX-hvCj"
   },
   "outputs": [],
   "source": [
    "models_train = pd.DataFrame(columns=[\"RSS\", \"model\"])\n",
    "\n",
    "features = []\n",
    "\n",
    "for i in range(1,len(X.columns)+1):    \n",
    "    #models_train.loc[i] = forwardCV(features, X[train], y[train][\"Salary\"], X[test], y[test][\"Salary\"])\n",
    "    models_train.loc[i] = forwardCV(features, X[train], y[train], X[test], y[test])\n",
    "    features = models_train.loc[i][\"model\"].model.exog_names"
   ]
  },
  {
   "cell_type": "markdown",
   "metadata": {
    "id": "F0ag1v-ChvCm"
   },
   "source": [
    "Now let's plot the errors, and find the model that minimizes it:"
   ]
  },
  {
   "cell_type": "code",
   "execution_count": 39,
   "metadata": {
    "id": "iGkdoxKhhvCm"
   },
   "outputs": [
    {
     "data": {
      "text/plain": [
       "[<matplotlib.lines.Line2D at 0x7faf96bc5c88>]"
      ]
     },
     "execution_count": 39,
     "metadata": {},
     "output_type": "execute_result"
    },
    {
     "data": {
      "image/png": "[encoded data removed]",
      "text/plain": [
       "<Figure size 432x288 with 1 Axes>"
      ]
     },
     "metadata": {
      "needs_background": "light"
     },
     "output_type": "display_data"
    }
   ],
   "source": [
    "plt.plot(models_train[\"RSS\"])\n",
    "plt.xlabel('# Features')\n",
    "plt.ylabel('RSS')\n",
    "plt.plot(models_train[\"RSS\"].idxmin()+1, models_train[\"RSS\"].min(), \"or\")\n",
    "# We use \"models_train[\"RSS\"].idxmin()+1\" because python start counting at zero\n",
    "\n",
    "#print(models_train[\"RSS\"].idxmin())\n",
    "#print(models_train[\"RSS\"].idxmin()+1)\n",
    "#print(models_train[\"RSS\"].min())\n",
    "#print(models_train[\"RSS\"])"
   ]
  },
  {
   "cell_type": "markdown",
   "metadata": {
    "id": "qEiaMnKUhvCp"
   },
   "source": [
    "We find that the best model according to the validation set approach is the one that contains 13 features, i.e., all the features. This result it's mainly due to this small dataset `housing`. But you can try to apply these approaches o a bigest one. You can choose one from the UCI machine learning repository (http://archive.ics.uci.edu/ml/datasets.html). Download a dataset, and try to determine the optimal set of parameters to use to model it! However, here, we observe that after 5 features the RSS tends to stagnate.\n",
    "\n",
    "Then, we can perform best subset selection on the full dataset and select the best 5-feature model. It is important that we make use of the full data set in order to obtain more accurate coefficient estimates. We perform this selection on the full data set and select the best 5-feature model, rather than simply using the features that we obtained from the training set, because the best 5-feature model on the full data set may differ from the corresponding model on the training set.\n"
   ]
  },
  {
   "cell_type": "code",
   "execution_count": 40,
   "metadata": {
    "id": "qOkJCNVRhvCp"
   },
   "outputs": [],
   "source": [
    "models_test = pd.DataFrame(columns=[\"RSS\", \"model\"])\n",
    "\n",
    "features = []\n",
    "\n",
    "for i in range(1,6):    \n",
    "    models_test.loc[i] = forwardCV(features, X[test], y[test], X[test], y[test])\n",
    "    features = models_test.loc[i][\"model\"].model.exog_names"
   ]
  },
  {
   "cell_type": "markdown",
   "metadata": {
    "id": "XdWwuVOkhvCq"
   },
   "source": [
    "In fact, we see that the best 5-feature model on the full data set has a different set of features than the best 10-feature model on the training set:"
   ]
  },
  {
   "cell_type": "code",
   "execution_count": 49,
   "metadata": {
    "id": "VS9aoLs1hvCr"
   },
   "outputs": [
    {
     "name": "stdout",
     "output_type": "stream",
     "text": [
      "['median_income', 'housing_median_age', 'ocean_proximity_INLAND', 'total_bedrooms', 'population']\n",
      "['median_income', 'housing_median_age', 'ocean_proximity_INLAND', 'total_bedrooms', 'population']\n"
     ]
    }
   ],
   "source": [
    "print(models_train.loc[5, \"model\"].model.exog_names)\n",
    "print(models_test.loc[5, \"model\"].model.exog_names)"
   ]
  },
  {
   "cell_type": "code",
   "execution_count": 52,
   "metadata": {},
   "outputs": [
    {
     "data": {
      "text/html": [
       "<div>\n",
       "<style scoped>\n",
       "    .dataframe tbody tr th:only-of-type {\n",
       "        vertical-align: middle;\n",
       "    }\n",
       "\n",
       "    .dataframe tbody tr th {\n",
       "        vertical-align: top;\n",
       "    }\n",
       "\n",
       "    .dataframe thead th {\n",
       "        text-align: right;\n",
       "    }\n",
       "</style>\n",
       "<table border=\"1\" class=\"dataframe\">\n",
       "  <thead>\n",
       "    <tr style=\"text-align: right;\">\n",
       "      <th></th>\n",
       "      <th>RSS</th>\n",
       "      <th>model</th>\n",
       "    </tr>\n",
       "  </thead>\n",
       "  <tbody>\n",
       "    <tr>\n",
       "      <th>1</th>\n",
       "      <td>7.619048e+13</td>\n",
       "      <td>&lt;statsmodels.regression.linear_model.Regressio...</td>\n",
       "    </tr>\n",
       "    <tr>\n",
       "      <th>2</th>\n",
       "      <td>6.737484e+13</td>\n",
       "      <td>&lt;statsmodels.regression.linear_model.Regressio...</td>\n",
       "    </tr>\n",
       "    <tr>\n",
       "      <th>3</th>\n",
       "      <td>5.791393e+13</td>\n",
       "      <td>&lt;statsmodels.regression.linear_model.Regressio...</td>\n",
       "    </tr>\n",
       "    <tr>\n",
       "      <th>4</th>\n",
       "      <td>5.476734e+13</td>\n",
       "      <td>&lt;statsmodels.regression.linear_model.Regressio...</td>\n",
       "    </tr>\n",
       "    <tr>\n",
       "      <th>5</th>\n",
       "      <td>5.098488e+13</td>\n",
       "      <td>&lt;statsmodels.regression.linear_model.Regressio...</td>\n",
       "    </tr>\n",
       "    <tr>\n",
       "      <th>6</th>\n",
       "      <td>5.028211e+13</td>\n",
       "      <td>&lt;statsmodels.regression.linear_model.Regressio...</td>\n",
       "    </tr>\n",
       "    <tr>\n",
       "      <th>7</th>\n",
       "      <td>4.995889e+13</td>\n",
       "      <td>&lt;statsmodels.regression.linear_model.Regressio...</td>\n",
       "    </tr>\n",
       "    <tr>\n",
       "      <th>8</th>\n",
       "      <td>4.976555e+13</td>\n",
       "      <td>&lt;statsmodels.regression.linear_model.Regressio...</td>\n",
       "    </tr>\n",
       "    <tr>\n",
       "      <th>9</th>\n",
       "      <td>4.962915e+13</td>\n",
       "      <td>&lt;statsmodels.regression.linear_model.Regressio...</td>\n",
       "    </tr>\n",
       "    <tr>\n",
       "      <th>10</th>\n",
       "      <td>4.957787e+13</td>\n",
       "      <td>&lt;statsmodels.regression.linear_model.Regressio...</td>\n",
       "    </tr>\n",
       "    <tr>\n",
       "      <th>11</th>\n",
       "      <td>4.956527e+13</td>\n",
       "      <td>&lt;statsmodels.regression.linear_model.Regressio...</td>\n",
       "    </tr>\n",
       "    <tr>\n",
       "      <th>12</th>\n",
       "      <td>4.953948e+13</td>\n",
       "      <td>&lt;statsmodels.regression.linear_model.Regressio...</td>\n",
       "    </tr>\n",
       "    <tr>\n",
       "      <th>13</th>\n",
       "      <td>4.799098e+13</td>\n",
       "      <td>&lt;statsmodels.regression.linear_model.Regressio...</td>\n",
       "    </tr>\n",
       "  </tbody>\n",
       "</table>\n",
       "</div>"
      ],
      "text/plain": [
       "             RSS                                              model\n",
       "1   7.619048e+13  <statsmodels.regression.linear_model.Regressio...\n",
       "2   6.737484e+13  <statsmodels.regression.linear_model.Regressio...\n",
       "3   5.791393e+13  <statsmodels.regression.linear_model.Regressio...\n",
       "4   5.476734e+13  <statsmodels.regression.linear_model.Regressio...\n",
       "5   5.098488e+13  <statsmodels.regression.linear_model.Regressio...\n",
       "6   5.028211e+13  <statsmodels.regression.linear_model.Regressio...\n",
       "7   4.995889e+13  <statsmodels.regression.linear_model.Regressio...\n",
       "8   4.976555e+13  <statsmodels.regression.linear_model.Regressio...\n",
       "9   4.962915e+13  <statsmodels.regression.linear_model.Regressio...\n",
       "10  4.957787e+13  <statsmodels.regression.linear_model.Regressio...\n",
       "11  4.956527e+13  <statsmodels.regression.linear_model.Regressio...\n",
       "12  4.953948e+13  <statsmodels.regression.linear_model.Regressio...\n",
       "13  4.799098e+13  <statsmodels.regression.linear_model.Regressio..."
      ]
     },
     "execution_count": 52,
     "metadata": {},
     "output_type": "execute_result"
    }
   ],
   "source": [
    "models_train"
   ]
  },
  {
   "cell_type": "markdown",
   "metadata": {
    "id": "oK2pZh9zhvCt"
   },
   "source": [
    "## Model selection using Cross-Validation approach"
   ]
  },
  {
   "cell_type": "markdown",
   "metadata": {
    "id": "gPCBhbplhvCt"
   },
   "source": [
    "Now let's try to choose among the models of different sizes using cross-validation. This approach is somewhat involved, as we must perform forward selection within each of the `K` training sets. Despite this, we see that with its clever subsetting syntax, `Python` makes this job quite easy. First, we create a vector that assigns each observation to one of `K=10` folds, and we create a `DataFrame` in which we will store the results:"
   ]
  },
  {
   "cell_type": "code",
   "execution_count": 50,
   "metadata": {
    "id": "f9DT8V3shvCu"
   },
   "outputs": [],
   "source": [
    "# Number of folds\n",
    "K = 10\n",
    "np.random.seed(seed=1)\n",
    "folds = np.random.choice(K, size = len(y), replace = True)\n",
    "\n",
    "# Create a DataFrame to store the results of our upcoming calculations\n",
    "cv_errors = pd.DataFrame(columns=range(1,K+1), index=range(1,14))#Here we have 13 features (not 19)\n",
    "cv_errors = cv_errors.fillna(0)"
   ]
  },
  {
   "cell_type": "code",
   "execution_count": 51,
   "metadata": {},
   "outputs": [
    {
     "data": {
      "text/html": [
       "<div>\n",
       "<style scoped>\n",
       "    .dataframe tbody tr th:only-of-type {\n",
       "        vertical-align: middle;\n",
       "    }\n",
       "\n",
       "    .dataframe tbody tr th {\n",
       "        vertical-align: top;\n",
       "    }\n",
       "\n",
       "    .dataframe thead th {\n",
       "        text-align: right;\n",
       "    }\n",
       "</style>\n",
       "<table border=\"1\" class=\"dataframe\">\n",
       "  <thead>\n",
       "    <tr style=\"text-align: right;\">\n",
       "      <th></th>\n",
       "      <th>1</th>\n",
       "      <th>2</th>\n",
       "      <th>3</th>\n",
       "      <th>4</th>\n",
       "      <th>5</th>\n",
       "      <th>6</th>\n",
       "      <th>7</th>\n",
       "      <th>8</th>\n",
       "      <th>9</th>\n",
       "      <th>10</th>\n",
       "    </tr>\n",
       "  </thead>\n",
       "  <tbody>\n",
       "    <tr>\n",
       "      <th>1</th>\n",
       "      <td>0</td>\n",
       "      <td>0</td>\n",
       "      <td>0</td>\n",
       "      <td>0</td>\n",
       "      <td>0</td>\n",
       "      <td>0</td>\n",
       "      <td>0</td>\n",
       "      <td>0</td>\n",
       "      <td>0</td>\n",
       "      <td>0</td>\n",
       "    </tr>\n",
       "    <tr>\n",
       "      <th>2</th>\n",
       "      <td>0</td>\n",
       "      <td>0</td>\n",
       "      <td>0</td>\n",
       "      <td>0</td>\n",
       "      <td>0</td>\n",
       "      <td>0</td>\n",
       "      <td>0</td>\n",
       "      <td>0</td>\n",
       "      <td>0</td>\n",
       "      <td>0</td>\n",
       "    </tr>\n",
       "    <tr>\n",
       "      <th>3</th>\n",
       "      <td>0</td>\n",
       "      <td>0</td>\n",
       "      <td>0</td>\n",
       "      <td>0</td>\n",
       "      <td>0</td>\n",
       "      <td>0</td>\n",
       "      <td>0</td>\n",
       "      <td>0</td>\n",
       "      <td>0</td>\n",
       "      <td>0</td>\n",
       "    </tr>\n",
       "    <tr>\n",
       "      <th>4</th>\n",
       "      <td>0</td>\n",
       "      <td>0</td>\n",
       "      <td>0</td>\n",
       "      <td>0</td>\n",
       "      <td>0</td>\n",
       "      <td>0</td>\n",
       "      <td>0</td>\n",
       "      <td>0</td>\n",
       "      <td>0</td>\n",
       "      <td>0</td>\n",
       "    </tr>\n",
       "    <tr>\n",
       "      <th>5</th>\n",
       "      <td>0</td>\n",
       "      <td>0</td>\n",
       "      <td>0</td>\n",
       "      <td>0</td>\n",
       "      <td>0</td>\n",
       "      <td>0</td>\n",
       "      <td>0</td>\n",
       "      <td>0</td>\n",
       "      <td>0</td>\n",
       "      <td>0</td>\n",
       "    </tr>\n",
       "    <tr>\n",
       "      <th>6</th>\n",
       "      <td>0</td>\n",
       "      <td>0</td>\n",
       "      <td>0</td>\n",
       "      <td>0</td>\n",
       "      <td>0</td>\n",
       "      <td>0</td>\n",
       "      <td>0</td>\n",
       "      <td>0</td>\n",
       "      <td>0</td>\n",
       "      <td>0</td>\n",
       "    </tr>\n",
       "    <tr>\n",
       "      <th>7</th>\n",
       "      <td>0</td>\n",
       "      <td>0</td>\n",
       "      <td>0</td>\n",
       "      <td>0</td>\n",
       "      <td>0</td>\n",
       "      <td>0</td>\n",
       "      <td>0</td>\n",
       "      <td>0</td>\n",
       "      <td>0</td>\n",
       "      <td>0</td>\n",
       "    </tr>\n",
       "    <tr>\n",
       "      <th>8</th>\n",
       "      <td>0</td>\n",
       "      <td>0</td>\n",
       "      <td>0</td>\n",
       "      <td>0</td>\n",
       "      <td>0</td>\n",
       "      <td>0</td>\n",
       "      <td>0</td>\n",
       "      <td>0</td>\n",
       "      <td>0</td>\n",
       "      <td>0</td>\n",
       "    </tr>\n",
       "    <tr>\n",
       "      <th>9</th>\n",
       "      <td>0</td>\n",
       "      <td>0</td>\n",
       "      <td>0</td>\n",
       "      <td>0</td>\n",
       "      <td>0</td>\n",
       "      <td>0</td>\n",
       "      <td>0</td>\n",
       "      <td>0</td>\n",
       "      <td>0</td>\n",
       "      <td>0</td>\n",
       "    </tr>\n",
       "    <tr>\n",
       "      <th>10</th>\n",
       "      <td>0</td>\n",
       "      <td>0</td>\n",
       "      <td>0</td>\n",
       "      <td>0</td>\n",
       "      <td>0</td>\n",
       "      <td>0</td>\n",
       "      <td>0</td>\n",
       "      <td>0</td>\n",
       "      <td>0</td>\n",
       "      <td>0</td>\n",
       "    </tr>\n",
       "    <tr>\n",
       "      <th>11</th>\n",
       "      <td>0</td>\n",
       "      <td>0</td>\n",
       "      <td>0</td>\n",
       "      <td>0</td>\n",
       "      <td>0</td>\n",
       "      <td>0</td>\n",
       "      <td>0</td>\n",
       "      <td>0</td>\n",
       "      <td>0</td>\n",
       "      <td>0</td>\n",
       "    </tr>\n",
       "    <tr>\n",
       "      <th>12</th>\n",
       "      <td>0</td>\n",
       "      <td>0</td>\n",
       "      <td>0</td>\n",
       "      <td>0</td>\n",
       "      <td>0</td>\n",
       "      <td>0</td>\n",
       "      <td>0</td>\n",
       "      <td>0</td>\n",
       "      <td>0</td>\n",
       "      <td>0</td>\n",
       "    </tr>\n",
       "    <tr>\n",
       "      <th>13</th>\n",
       "      <td>0</td>\n",
       "      <td>0</td>\n",
       "      <td>0</td>\n",
       "      <td>0</td>\n",
       "      <td>0</td>\n",
       "      <td>0</td>\n",
       "      <td>0</td>\n",
       "      <td>0</td>\n",
       "      <td>0</td>\n",
       "      <td>0</td>\n",
       "    </tr>\n",
       "  </tbody>\n",
       "</table>\n",
       "</div>"
      ],
      "text/plain": [
       "    1   2   3   4   5   6   7   8   9   10\n",
       "1    0   0   0   0   0   0   0   0   0   0\n",
       "2    0   0   0   0   0   0   0   0   0   0\n",
       "3    0   0   0   0   0   0   0   0   0   0\n",
       "4    0   0   0   0   0   0   0   0   0   0\n",
       "5    0   0   0   0   0   0   0   0   0   0\n",
       "6    0   0   0   0   0   0   0   0   0   0\n",
       "7    0   0   0   0   0   0   0   0   0   0\n",
       "8    0   0   0   0   0   0   0   0   0   0\n",
       "9    0   0   0   0   0   0   0   0   0   0\n",
       "10   0   0   0   0   0   0   0   0   0   0\n",
       "11   0   0   0   0   0   0   0   0   0   0\n",
       "12   0   0   0   0   0   0   0   0   0   0\n",
       "13   0   0   0   0   0   0   0   0   0   0"
      ]
     },
     "execution_count": 51,
     "metadata": {},
     "output_type": "execute_result"
    }
   ],
   "source": [
    "cv_errors"
   ]
  },
  {
   "cell_type": "markdown",
   "metadata": {
    "id": "dbaJ7Cs1hvCw"
   },
   "source": [
    "Now let's write a for loop that performs cross-validation. In the $k$th fold, the elements of folds that equal $k$ are in the test set, and the remainder are in the training set. We make our predictions for each model size, compute the test errors on the appropriate subset, and store them in the appropriate slot in the matrix cv_errors."
   ]
  },
  {
   "cell_type": "code",
   "execution_count": 53,
   "metadata": {
    "id": "S3mjoSBnhvCw"
   },
   "outputs": [],
   "source": [
    "models_cv = pd.DataFrame(columns=[\"RSS\", \"model\"])\n",
    "    \n",
    "# Outer loop iterates over all folds\n",
    "for k in range(1,K+1):\n",
    "\n",
    "    # Reset features\n",
    "    features = []\n",
    "    \n",
    "    # Inner loop iterates over each size i\n",
    "    for i in range(1,len(X.columns)+1):    \n",
    "    \n",
    "        # The perform forward selection on the full dataset minus the kth fold, test on kth fold\n",
    "        models_cv.loc[i] = forwardCV(features, X[folds != (k-1)], y[folds != (k-1)], X[folds == (k-1)], y[folds == (k-1)])\n",
    "        \n",
    "        # Save the cross-validated error for this fold\n",
    "        cv_errors[k][i] = models_cv.loc[i][\"RSS\"]\n",
    "\n",
    "        # Extract the features\n",
    "        features = models_cv.loc[i][\"model\"].model.exog_names\n",
    "        "
   ]
  },
  {
   "cell_type": "code",
   "execution_count": 54,
   "metadata": {
    "id": "BTKsRHn1hvCy"
   },
   "outputs": [
    {
     "data": {
      "text/html": [
       "<div>\n",
       "<style scoped>\n",
       "    .dataframe tbody tr th:only-of-type {\n",
       "        vertical-align: middle;\n",
       "    }\n",
       "\n",
       "    .dataframe tbody tr th {\n",
       "        vertical-align: top;\n",
       "    }\n",
       "\n",
       "    .dataframe thead th {\n",
       "        text-align: right;\n",
       "    }\n",
       "</style>\n",
       "<table border=\"1\" class=\"dataframe\">\n",
       "  <thead>\n",
       "    <tr style=\"text-align: right;\">\n",
       "      <th></th>\n",
       "      <th>1</th>\n",
       "      <th>2</th>\n",
       "      <th>3</th>\n",
       "      <th>4</th>\n",
       "      <th>5</th>\n",
       "      <th>6</th>\n",
       "      <th>7</th>\n",
       "      <th>8</th>\n",
       "      <th>9</th>\n",
       "      <th>10</th>\n",
       "    </tr>\n",
       "  </thead>\n",
       "  <tbody>\n",
       "    <tr>\n",
       "      <th>1</th>\n",
       "      <td>15155244679093</td>\n",
       "      <td>14650290643305</td>\n",
       "      <td>15401419764182</td>\n",
       "      <td>13422989818674</td>\n",
       "      <td>15287208334089</td>\n",
       "      <td>16218928999346</td>\n",
       "      <td>15661289107818</td>\n",
       "      <td>14369384096750</td>\n",
       "      <td>15553421838793</td>\n",
       "      <td>15550462491783</td>\n",
       "    </tr>\n",
       "    <tr>\n",
       "      <th>2</th>\n",
       "      <td>13507910066955</td>\n",
       "      <td>13168724232056</td>\n",
       "      <td>13539120610649</td>\n",
       "      <td>11839301697897</td>\n",
       "      <td>13416208974727</td>\n",
       "      <td>14126852438009</td>\n",
       "      <td>13789727936241</td>\n",
       "      <td>12623913524834</td>\n",
       "      <td>13616349795440</td>\n",
       "      <td>14100171399070</td>\n",
       "    </tr>\n",
       "    <tr>\n",
       "      <th>3</th>\n",
       "      <td>11755945622920</td>\n",
       "      <td>11072264105838</td>\n",
       "      <td>11496423758439</td>\n",
       "      <td>10195130071971</td>\n",
       "      <td>11696897301738</td>\n",
       "      <td>12083935733817</td>\n",
       "      <td>12011078565483</td>\n",
       "      <td>10776971854711</td>\n",
       "      <td>11553389038817</td>\n",
       "      <td>12106523855451</td>\n",
       "    </tr>\n",
       "    <tr>\n",
       "      <th>4</th>\n",
       "      <td>11047917558986</td>\n",
       "      <td>10642455871680</td>\n",
       "      <td>10892571755796</td>\n",
       "      <td>9652343282940</td>\n",
       "      <td>11267781337994</td>\n",
       "      <td>11569019573412</td>\n",
       "      <td>11319296348559</td>\n",
       "      <td>10194508613302</td>\n",
       "      <td>10986719631076</td>\n",
       "      <td>11605005324161</td>\n",
       "    </tr>\n",
       "    <tr>\n",
       "      <th>5</th>\n",
       "      <td>10354312092352</td>\n",
       "      <td>9902075755519</td>\n",
       "      <td>10205477049001</td>\n",
       "      <td>8922489572119</td>\n",
       "      <td>10689659972061</td>\n",
       "      <td>10986318572437</td>\n",
       "      <td>10580081541367</td>\n",
       "      <td>9537434511037</td>\n",
       "      <td>10218770684840</td>\n",
       "      <td>10977072477487</td>\n",
       "    </tr>\n",
       "    <tr>\n",
       "      <th>6</th>\n",
       "      <td>10090811762906</td>\n",
       "      <td>9752757095451</td>\n",
       "      <td>10095583038099</td>\n",
       "      <td>8792834019486</td>\n",
       "      <td>10541472274110</td>\n",
       "      <td>10788269310230</td>\n",
       "      <td>10317123956005</td>\n",
       "      <td>9459125145801</td>\n",
       "      <td>9989372667606</td>\n",
       "      <td>10810137747793</td>\n",
       "    </tr>\n",
       "    <tr>\n",
       "      <th>7</th>\n",
       "      <td>9979330524847</td>\n",
       "      <td>9683928266610</td>\n",
       "      <td>10047598294428</td>\n",
       "      <td>8674416908277</td>\n",
       "      <td>10498303879296</td>\n",
       "      <td>10767162346859</td>\n",
       "      <td>10253939572780</td>\n",
       "      <td>9425791654152</td>\n",
       "      <td>9832960624168</td>\n",
       "      <td>10733860169589</td>\n",
       "    </tr>\n",
       "    <tr>\n",
       "      <th>8</th>\n",
       "      <td>9944841987942</td>\n",
       "      <td>9645589415593</td>\n",
       "      <td>10005989734954</td>\n",
       "      <td>8625682357156</td>\n",
       "      <td>10461454214862</td>\n",
       "      <td>10767313925955</td>\n",
       "      <td>10219450190399</td>\n",
       "      <td>9414734708073</td>\n",
       "      <td>9809390232635</td>\n",
       "      <td>10681964958506</td>\n",
       "    </tr>\n",
       "    <tr>\n",
       "      <th>9</th>\n",
       "      <td>9925837198121</td>\n",
       "      <td>9630195436980</td>\n",
       "      <td>9985310711380</td>\n",
       "      <td>8611962774759</td>\n",
       "      <td>10431413137253</td>\n",
       "      <td>10770818235420</td>\n",
       "      <td>10219140719664</td>\n",
       "      <td>9414178573859</td>\n",
       "      <td>9791722930644</td>\n",
       "      <td>10626881145727</td>\n",
       "    </tr>\n",
       "    <tr>\n",
       "      <th>10</th>\n",
       "      <td>9923093893345</td>\n",
       "      <td>9612974186850</td>\n",
       "      <td>9986257192239</td>\n",
       "      <td>8600852811307</td>\n",
       "      <td>10422813455756</td>\n",
       "      <td>10829198828826</td>\n",
       "      <td>10218866589025</td>\n",
       "      <td>9415055574697</td>\n",
       "      <td>9782304357876</td>\n",
       "      <td>10587884130751</td>\n",
       "    </tr>\n",
       "    <tr>\n",
       "      <th>11</th>\n",
       "      <td>9929068673232</td>\n",
       "      <td>9525576794706</td>\n",
       "      <td>9987226701338</td>\n",
       "      <td>8603542107322</td>\n",
       "      <td>10410490682850</td>\n",
       "      <td>10975087547093</td>\n",
       "      <td>10218802807085</td>\n",
       "      <td>9451595452154</td>\n",
       "      <td>9783061463376</td>\n",
       "      <td>10580415633504</td>\n",
       "    </tr>\n",
       "    <tr>\n",
       "      <th>12</th>\n",
       "      <td>9944699778862</td>\n",
       "      <td>9322297712660</td>\n",
       "      <td>10004520154012</td>\n",
       "      <td>8371425874795</td>\n",
       "      <td>10406892423704</td>\n",
       "      <td>10993924465487</td>\n",
       "      <td>9864795937078</td>\n",
       "      <td>9455697487542</td>\n",
       "      <td>9786378363283</td>\n",
       "      <td>10561699484234</td>\n",
       "    </tr>\n",
       "    <tr>\n",
       "      <th>13</th>\n",
       "      <td>9704385521091</td>\n",
       "      <td>9348131426881</td>\n",
       "      <td>9580489772804</td>\n",
       "      <td>8407659245540</td>\n",
       "      <td>10131719955420</td>\n",
       "      <td>10777089826828</td>\n",
       "      <td>9880429084221</td>\n",
       "      <td>9106158251551</td>\n",
       "      <td>9417826937222</td>\n",
       "      <td>10209453774650</td>\n",
       "    </tr>\n",
       "  </tbody>\n",
       "</table>\n",
       "</div>"
      ],
      "text/plain": [
       "                1               2               3               4   \\\n",
       "1   15155244679093  14650290643305  15401419764182  13422989818674   \n",
       "2   13507910066955  13168724232056  13539120610649  11839301697897   \n",
       "3   11755945622920  11072264105838  11496423758439  10195130071971   \n",
       "4   11047917558986  10642455871680  10892571755796   9652343282940   \n",
       "5   10354312092352   9902075755519  10205477049001   8922489572119   \n",
       "6   10090811762906   9752757095451  10095583038099   8792834019486   \n",
       "7    9979330524847   9683928266610  10047598294428   8674416908277   \n",
       "8    9944841987942   9645589415593  10005989734954   8625682357156   \n",
       "9    9925837198121   9630195436980   9985310711380   8611962774759   \n",
       "10   9923093893345   9612974186850   9986257192239   8600852811307   \n",
       "11   9929068673232   9525576794706   9987226701338   8603542107322   \n",
       "12   9944699778862   9322297712660  10004520154012   8371425874795   \n",
       "13   9704385521091   9348131426881   9580489772804   8407659245540   \n",
       "\n",
       "                5               6               7               8   \\\n",
       "1   15287208334089  16218928999346  15661289107818  14369384096750   \n",
       "2   13416208974727  14126852438009  13789727936241  12623913524834   \n",
       "3   11696897301738  12083935733817  12011078565483  10776971854711   \n",
       "4   11267781337994  11569019573412  11319296348559  10194508613302   \n",
       "5   10689659972061  10986318572437  10580081541367   9537434511037   \n",
       "6   10541472274110  10788269310230  10317123956005   9459125145801   \n",
       "7   10498303879296  10767162346859  10253939572780   9425791654152   \n",
       "8   10461454214862  10767313925955  10219450190399   9414734708073   \n",
       "9   10431413137253  10770818235420  10219140719664   9414178573859   \n",
       "10  10422813455756  10829198828826  10218866589025   9415055574697   \n",
       "11  10410490682850  10975087547093  10218802807085   9451595452154   \n",
       "12  10406892423704  10993924465487   9864795937078   9455697487542   \n",
       "13  10131719955420  10777089826828   9880429084221   9106158251551   \n",
       "\n",
       "                9               10  \n",
       "1   15553421838793  15550462491783  \n",
       "2   13616349795440  14100171399070  \n",
       "3   11553389038817  12106523855451  \n",
       "4   10986719631076  11605005324161  \n",
       "5   10218770684840  10977072477487  \n",
       "6    9989372667606  10810137747793  \n",
       "7    9832960624168  10733860169589  \n",
       "8    9809390232635  10681964958506  \n",
       "9    9791722930644  10626881145727  \n",
       "10   9782304357876  10587884130751  \n",
       "11   9783061463376  10580415633504  \n",
       "12   9786378363283  10561699484234  \n",
       "13   9417826937222  10209453774650  "
      ]
     },
     "execution_count": 54,
     "metadata": {},
     "output_type": "execute_result"
    }
   ],
   "source": [
    "\n",
    "cv_errors"
   ]
  },
  {
   "cell_type": "markdown",
   "metadata": {
    "id": "2wbPYXgKhvC0"
   },
   "source": [
    "This has filled up the `cv_errors` DataFrame such that the $(i,k)^{th}$ element corresponds to the test `MSE` for the $k$th cross-validation fold for the best $i$-feature model. We can then use the apply() function to take the mean over the columns of this matrix. This will give us a vector for which the $i$th element is the cross-validation error for the $i$-variable model."
   ]
  },
  {
   "cell_type": "code",
   "execution_count": 56,
   "metadata": {
    "id": "fhkSD2WhhvC0"
   },
   "outputs": [
    {
     "name": "stdout",
     "output_type": "stream",
     "text": [
      "1     1.512706e+13\n",
      "2     1.337283e+13\n",
      "3     1.147486e+13\n",
      "4     1.091776e+13\n",
      "5     1.023737e+13\n",
      "6     1.006375e+13\n",
      "7     9.989729e+12\n",
      "8     9.957641e+12\n",
      "9     9.940746e+12\n",
      "10    9.937930e+12\n",
      "11    9.946487e+12\n",
      "12    9.871233e+12\n",
      "13    9.656334e+12\n",
      "dtype: float64\n"
     ]
    },
    {
     "data": {
      "text/plain": [
       "[<matplotlib.lines.Line2D at 0x7faf82d52f28>]"
      ]
     },
     "execution_count": 56,
     "metadata": {},
     "output_type": "execute_result"
    },
    {
     "data": {
      "image/png": "[encoded data removed]",
      "text/plain": [
       "<Figure size 432x288 with 1 Axes>"
      ]
     },
     "metadata": {
      "needs_background": "light"
     },
     "output_type": "display_data"
    }
   ],
   "source": [
    "cv_mean = cv_errors.apply(np.mean, axis=1)\n",
    "print(cv_mean)\n",
    "\n",
    "plt.plot(cv_mean)\n",
    "plt.xlabel('# Features')\n",
    "plt.ylabel('CV Error')\n",
    "plt.plot(cv_mean.idxmin()+1, cv_mean.min(), \"or\")"
   ]
  },
  {
   "cell_type": "markdown",
   "metadata": {
    "id": "fO_Gp_jwhvC2"
   },
   "source": [
    "We see that cross-validation selects a 13-feature model. However, to continue the lab, we will choose the value of $5$ features (after this value the error tends to stagnate). Now let's go back to our results on the full data set in order to obtain the 5-feature model."
   ]
  },
  {
   "cell_type": "code",
   "execution_count": 57,
   "metadata": {
    "id": "3TEsjWUmhvC3"
   },
   "outputs": [
    {
     "name": "stdout",
     "output_type": "stream",
     "text": [
      "                                 OLS Regression Results                                \n",
      "=======================================================================================\n",
      "Dep. Variable:     median_house_value   R-squared (uncentered):                   0.912\n",
      "Model:                            OLS   Adj. R-squared (uncentered):              0.912\n",
      "Method:                 Least Squares   F-statistic:                          3.800e+04\n",
      "Date:                Sun, 18 Oct 2020   Prob (F-statistic):                        0.00\n",
      "Time:                        19:42:04   Log-Likelihood:                     -2.3133e+05\n",
      "No. Observations:               18386   AIC:                                  4.627e+05\n",
      "Df Residuals:                   18381   BIC:                                  4.627e+05\n",
      "Df Model:                           5                                                  \n",
      "Covariance Type:            nonrobust                                                  \n",
      "==========================================================================================\n",
      "                             coef    std err          t      P>|t|      [0.025      0.975]\n",
      "------------------------------------------------------------------------------------------\n",
      "median_income           4.139e+04    221.389    186.953      0.000     4.1e+04    4.18e+04\n",
      "housing_median_age      1796.1124     28.511     62.998      0.000    1740.229    1851.996\n",
      "ocean_proximity_INLAND -6.676e+04   1054.996    -63.282      0.000   -6.88e+04   -6.47e+04\n",
      "total_bedrooms           116.1453      2.532     45.876      0.000     111.183     121.108\n",
      "population               -33.5444      0.946    -35.442      0.000     -35.400     -31.689\n",
      "==============================================================================\n",
      "Omnibus:                     4058.370   Durbin-Watson:                   1.015\n",
      "Prob(Omnibus):                  0.000   Jarque-Bera (JB):            13095.514\n",
      "Skew:                           1.119   Prob(JB):                         0.00\n",
      "Kurtosis:                       6.477   Cond. No.                     3.94e+03\n",
      "==============================================================================\n",
      "\n",
      "Warnings:\n",
      "[1] Standard Errors assume that the covariance matrix of the errors is correctly specified.\n",
      "[2] The condition number is large, 3.94e+03. This might indicate that there are\n",
      "strong multicollinearity or other numerical problems.\n"
     ]
    }
   ],
   "source": [
    "print(models_cv.loc[5, \"model\"].summary())"
   ]
  },
  {
   "cell_type": "markdown",
   "metadata": {
    "id": "YdemSJvJhvC5"
   },
   "source": [
    "For comparison, let's also take a look at the statistics from last lab's part:"
   ]
  },
  {
   "cell_type": "code",
   "execution_count": 69,
   "metadata": {
    "id": "Fjz2drV7hvC6"
   },
   "outputs": [
    {
     "name": "stderr",
     "output_type": "stream",
     "text": [
      "/Users/lastaw/anaconda3/lib/python3.7/site-packages/ipykernel_launcher.py:11: FutureWarning: \n",
      "The current behaviour of 'Series.argmin' is deprecated, use 'idxmin'\n",
      "instead.\n",
      "The behavior of 'argmin' will be corrected to return the positional\n",
      "minimum in the future. For now, use 'series.values.argmin' or\n",
      "'np.argmin(np.array(values))' to get the position of the minimum\n",
      "row.\n",
      "  # This is added back by InteractiveShellApp.init_path()\n",
      "/Users/lastaw/anaconda3/lib/python3.7/site-packages/ipykernel_launcher.py:22: FutureWarning: \n",
      "The current behaviour of 'Series.argmax' is deprecated, use 'idxmax'\n",
      "instead.\n",
      "The behavior of 'argmax' will be corrected to return the positional\n",
      "maximum in the future. For now, use 'series.values.argmax' or\n",
      "'np.argmax(np.array(values))' to get the position of the maximum\n",
      "row.\n",
      "/Users/lastaw/anaconda3/lib/python3.7/site-packages/ipykernel_launcher.py:31: FutureWarning: \n",
      "The current behaviour of 'Series.argmin' is deprecated, use 'idxmin'\n",
      "instead.\n",
      "The behavior of 'argmin' will be corrected to return the positional\n",
      "minimum in the future. For now, use 'series.values.argmin' or\n",
      "'np.argmin(np.array(values))' to get the position of the minimum\n",
      "row.\n",
      "/Users/lastaw/anaconda3/lib/python3.7/site-packages/ipykernel_launcher.py:39: FutureWarning: \n",
      "The current behaviour of 'Series.argmin' is deprecated, use 'idxmin'\n",
      "instead.\n",
      "The behavior of 'argmin' will be corrected to return the positional\n",
      "minimum in the future. For now, use 'series.values.argmin' or\n",
      "'np.argmin(np.array(values))' to get the position of the minimum\n",
      "row.\n"
     ]
    },
    {
     "data": {
      "text/plain": [
       "Text(0, 0.5, 'BIC')"
      ]
     },
     "execution_count": 69,
     "metadata": {},
     "output_type": "execute_result"
    },
    {
     "data": {
      "image/png": "[encoded data removed]",
      "text/plain": [
       "<Figure size 1440x720 with 4 Axes>"
      ]
     },
     "metadata": {
      "needs_background": "light"
     },
     "output_type": "display_data"
    }
   ],
   "source": [
    "plt.figure(figsize=(20,10))\n",
    "plt.rcParams.update({'font.size': 18, 'lines.markersize': 10})\n",
    "\n",
    "# Set up a 2x2 grid so we can look at 4 plots at once\n",
    "plt.subplot(2, 2, 1)\n",
    "\n",
    "# We will now plot a red dot to indicate the model with the lowest RSS value.\n",
    "# The argmax() function can be used to identify the location of the minimum point of a vector.\n",
    "rss = models_best[\"RSS\"]\n",
    "plt.plot(rss)\n",
    "plt.plot(rss.argmin(), rss.min(), \"or\")\n",
    "plt.xlabel('# Features')\n",
    "plt.ylabel('RSS')\n",
    "\n",
    "# We will now plot a red dot to indicate the model with the largest adjusted R^2 statistic.\n",
    "# The argmax() function can be used to identify the location of the maximum point of a vector.\n",
    "\n",
    "rsquared_adj = models_best.apply(lambda row: row[1].rsquared_adj, axis=1)\n",
    "\n",
    "plt.subplot(2, 2, 2)\n",
    "plt.plot(rsquared_adj)\n",
    "plt.plot(rsquared_adj.argmax(), rsquared_adj.max(), \"or\")\n",
    "plt.xlabel('# Features')\n",
    "plt.ylabel('adjusted rsquared')\n",
    "\n",
    "# We'll do the same for AIC and BIC, this time looking for the models with the SMALLEST statistic\n",
    "aic = models_best.apply(lambda row: row[1].aic, axis=1)\n",
    "\n",
    "plt.subplot(2, 2, 3)\n",
    "plt.plot(aic)\n",
    "plt.plot(aic.argmin(), aic.min(), \"or\")\n",
    "plt.xlabel('# Features')\n",
    "plt.ylabel('AIC')\n",
    "\n",
    "bic = models_best.apply(lambda row: row[1].bic, axis=1)\n",
    "\n",
    "plt.subplot(2, 2, 4)\n",
    "plt.plot(bic)\n",
    "plt.plot(bic.argmin(), bic.min(), \"or\")\n",
    "plt.xlabel('# Features')\n",
    "plt.ylabel('BIC')"
   ]
  },
  {
   "cell_type": "markdown",
   "metadata": {
    "id": "DRZ152r7hvC7"
   },
   "source": [
    "# Dimension Reduction Methods"
   ]
  },
  {
   "cell_type": "markdown",
   "metadata": {
    "id": "Cl4ra8oFhvC8"
   },
   "source": [
    "##  Principal Components Analysis (PCA)"
   ]
  },
  {
   "cell_type": "markdown",
   "metadata": {
    "id": "XLsjsa5jhvC8"
   },
   "source": [
    "Principal Components Analysis (PCA) is a popular approach for deriving a low-dimensional set of features from a large set of features. This reduction dimension method can be performed using the `PCA()` function, which is part of the `sklearn` library. In this lab, we'll apply PCA to the same `housing` data, in order to predict `median house value` (the target variable). When the target variable to predict is continuous, we say that we are in a regression case. The PCA technique for regression is also well-known as \"principal components regression\". Unfortunately `sklearn` does not have an implementation of PCA and regression combined like the `pls`, package in `R`: https://cran.r-project.org/web/packages/pls/vignettes/pls-manual.pdf so we'll have to do it ourselves."
   ]
  },
  {
   "cell_type": "markdown",
   "metadata": {
    "id": "6tqrvDC0hvC9"
   },
   "source": [
    "Let's set up our libraries!"
   ]
  },
  {
   "cell_type": "code",
   "execution_count": null,
   "metadata": {},
   "outputs": [],
   "source": []
  },
  {
   "cell_type": "code",
   "execution_count": 71,
   "metadata": {
    "id": "i25NPGYphvC9"
   },
   "outputs": [],
   "source": [
    "from sklearn.preprocessing import scale \n",
    "from sklearn import model_selection\n",
    "from sklearn.decomposition import PCA\n",
    "from sklearn.linear_model import LinearRegression\n",
    "from sklearn.cross_decomposition import PLSRegression, PLSSVD\n",
    "from sklearn.metrics import mean_squared_error\n",
    "\n",
    "# Some libraries for PCA visualization\n",
    "import seaborn as sns \n",
    "#Make Plotly figure\n",
    "import chart_studio.plotly as py\n",
    "# Be aware, plotly may be installed using pip on your shell:\n",
    "# conda install -c plotly chart-studio\n",
    "import plotly.graph_objs as go"
   ]
  },
  {
   "cell_type": "markdown",
   "metadata": {
    "id": "rLzxPecHhvC_"
   },
   "source": [
    "We'll start by performing Principal Components Analysis (PCA), remembering to scale the data:"
   ]
  },
  {
   "cell_type": "code",
   "execution_count": 72,
   "metadata": {
    "id": "kjiMubHfhvC_"
   },
   "outputs": [
    {
     "data": {
      "text/plain": [
       "(20433, 13)"
      ]
     },
     "execution_count": 72,
     "metadata": {},
     "output_type": "execute_result"
    }
   ],
   "source": [
    "pca = PCA()\n",
    "X_reduced = pca.fit_transform(scale(X))\n",
    "X_reduced.shape"
   ]
  },
  {
   "cell_type": "code",
   "execution_count": 75,
   "metadata": {
    "collapsed": true
   },
   "outputs": [
    {
     "data": {
      "text/plain": [
       "array([[-2.37346860e+00,  1.85790191e+00,  2.78777039e+00, ...,\n",
       "         1.39496969e-01,  8.75578413e-02, -4.30837665e-15],\n",
       "       [ 2.61047435e+00,  2.71200462e+00,  2.78299656e+00, ...,\n",
       "         1.22557492e-03, -2.70262221e-01, -1.93264163e-14],\n",
       "       [-2.25652847e+00,  1.93912701e+00,  2.93702553e+00, ...,\n",
       "         9.93002549e-02,  6.15814504e-02, -5.42547605e-16],\n",
       "       ...,\n",
       "       [-5.57557242e-01,  2.20988735e+00, -1.70177893e+00, ...,\n",
       "         3.33752538e-01, -1.01099744e-01, -1.77995203e-16],\n",
       "       [-9.66548540e-01,  2.16014607e+00, -1.67771515e+00, ...,\n",
       "         3.04409297e-01, -7.24312759e-02, -9.57252613e-17],\n",
       "       [ 2.67899465e-02,  2.26104754e+00, -1.55755825e+00, ...,\n",
       "         3.41962513e-01, -2.93096534e-02, -1.15445745e-16]])"
      ]
     },
     "execution_count": 75,
     "metadata": {},
     "output_type": "execute_result"
    }
   ],
   "source": [
    "X_reduced"
   ]
  },
  {
   "cell_type": "markdown",
   "metadata": {
    "id": "Ut7WHdc7hvDB"
   },
   "source": [
    "Let's print out the first few variables of the first few principal components:"
   ]
  },
  {
   "cell_type": "code",
   "execution_count": 74,
   "metadata": {
    "collapsed": true,
    "id": "0EFgLAnyhvDC"
   },
   "outputs": [
    {
     "data": {
      "text/html": [
       "<div>\n",
       "<style scoped>\n",
       "    .dataframe tbody tr th:only-of-type {\n",
       "        vertical-align: middle;\n",
       "    }\n",
       "\n",
       "    .dataframe tbody tr th {\n",
       "        vertical-align: top;\n",
       "    }\n",
       "\n",
       "    .dataframe thead th {\n",
       "        text-align: right;\n",
       "    }\n",
       "</style>\n",
       "<table border=\"1\" class=\"dataframe\">\n",
       "  <thead>\n",
       "    <tr style=\"text-align: right;\">\n",
       "      <th></th>\n",
       "      <th>0</th>\n",
       "      <th>1</th>\n",
       "      <th>2</th>\n",
       "      <th>3</th>\n",
       "      <th>4</th>\n",
       "      <th>5</th>\n",
       "      <th>6</th>\n",
       "      <th>7</th>\n",
       "      <th>8</th>\n",
       "      <th>9</th>\n",
       "      <th>10</th>\n",
       "      <th>11</th>\n",
       "      <th>12</th>\n",
       "    </tr>\n",
       "  </thead>\n",
       "  <tbody>\n",
       "    <tr>\n",
       "      <th>0</th>\n",
       "      <td>0.101895</td>\n",
       "      <td>-0.515191</td>\n",
       "      <td>-0.276439</td>\n",
       "      <td>0.053254</td>\n",
       "      <td>0.105483</td>\n",
       "      <td>-0.019208</td>\n",
       "      <td>0.410493</td>\n",
       "      <td>-0.083085</td>\n",
       "      <td>-0.047614</td>\n",
       "      <td>0.075004</td>\n",
       "      <td>0.659251</td>\n",
       "      <td>-0.124629</td>\n",
       "      <td>-6.287889e-16</td>\n",
       "    </tr>\n",
       "    <tr>\n",
       "      <th>1</th>\n",
       "      <td>-0.099695</td>\n",
       "      <td>0.563630</td>\n",
       "      <td>0.061732</td>\n",
       "      <td>-0.147698</td>\n",
       "      <td>-0.099284</td>\n",
       "      <td>0.015819</td>\n",
       "      <td>-0.331244</td>\n",
       "      <td>0.129869</td>\n",
       "      <td>-0.029487</td>\n",
       "      <td>0.074842</td>\n",
       "      <td>0.700169</td>\n",
       "      <td>-0.115557</td>\n",
       "      <td>-6.091876e-16</td>\n",
       "    </tr>\n",
       "    <tr>\n",
       "      <th>2</th>\n",
       "      <td>-0.220290</td>\n",
       "      <td>-0.026235</td>\n",
       "      <td>0.325344</td>\n",
       "      <td>0.106690</td>\n",
       "      <td>0.511219</td>\n",
       "      <td>-0.106170</td>\n",
       "      <td>0.202345</td>\n",
       "      <td>0.720363</td>\n",
       "      <td>-0.023560</td>\n",
       "      <td>0.011303</td>\n",
       "      <td>0.019129</td>\n",
       "      <td>0.004563</td>\n",
       "      <td>8.086003e-17</td>\n",
       "    </tr>\n",
       "    <tr>\n",
       "      <th>3</th>\n",
       "      <td>0.477985</td>\n",
       "      <td>0.100817</td>\n",
       "      <td>0.057040</td>\n",
       "      <td>0.012559</td>\n",
       "      <td>-0.073425</td>\n",
       "      <td>0.026993</td>\n",
       "      <td>0.084137</td>\n",
       "      <td>0.137656</td>\n",
       "      <td>-0.283938</td>\n",
       "      <td>0.777675</td>\n",
       "      <td>-0.132290</td>\n",
       "      <td>-0.151348</td>\n",
       "      <td>4.291205e-16</td>\n",
       "    </tr>\n",
       "    <tr>\n",
       "      <th>4</th>\n",
       "      <td>0.485053</td>\n",
       "      <td>0.090947</td>\n",
       "      <td>0.041528</td>\n",
       "      <td>0.029162</td>\n",
       "      <td>0.120048</td>\n",
       "      <td>-0.020816</td>\n",
       "      <td>-0.008499</td>\n",
       "      <td>0.026445</td>\n",
       "      <td>-0.390147</td>\n",
       "      <td>-0.289032</td>\n",
       "      <td>0.136190</td>\n",
       "      <td>0.695671</td>\n",
       "      <td>-6.801309e-17</td>\n",
       "    </tr>\n",
       "    <tr>\n",
       "      <th>5</th>\n",
       "      <td>0.468911</td>\n",
       "      <td>0.052263</td>\n",
       "      <td>0.039582</td>\n",
       "      <td>-0.003933</td>\n",
       "      <td>0.124223</td>\n",
       "      <td>-0.029476</td>\n",
       "      <td>-0.022796</td>\n",
       "      <td>0.066435</td>\n",
       "      <td>0.854916</td>\n",
       "      <td>0.054002</td>\n",
       "      <td>0.066858</td>\n",
       "      <td>0.127704</td>\n",
       "      <td>3.012130e-17</td>\n",
       "    </tr>\n",
       "    <tr>\n",
       "      <th>6</th>\n",
       "      <td>0.486531</td>\n",
       "      <td>0.085181</td>\n",
       "      <td>0.070472</td>\n",
       "      <td>0.027681</td>\n",
       "      <td>0.117804</td>\n",
       "      <td>-0.025526</td>\n",
       "      <td>-0.020524</td>\n",
       "      <td>0.042980</td>\n",
       "      <td>-0.160369</td>\n",
       "      <td>-0.508200</td>\n",
       "      <td>-0.062670</td>\n",
       "      <td>-0.667524</td>\n",
       "      <td>-1.982686e-16</td>\n",
       "    </tr>\n",
       "    <tr>\n",
       "      <th>7</th>\n",
       "      <td>0.048074</td>\n",
       "      <td>-0.088668</td>\n",
       "      <td>0.306449</td>\n",
       "      <td>-0.017174</td>\n",
       "      <td>-0.764120</td>\n",
       "      <td>0.189658</td>\n",
       "      <td>0.329624</td>\n",
       "      <td>0.356468</td>\n",
       "      <td>0.064424</td>\n",
       "      <td>-0.177283</td>\n",
       "      <td>0.053128</td>\n",
       "      <td>0.040583</td>\n",
       "      <td>-1.204087e-16</td>\n",
       "    </tr>\n",
       "    <tr>\n",
       "      <th>8</th>\n",
       "      <td>0.057193</td>\n",
       "      <td>-0.435589</td>\n",
       "      <td>0.299305</td>\n",
       "      <td>-0.440087</td>\n",
       "      <td>0.013566</td>\n",
       "      <td>-0.020129</td>\n",
       "      <td>-0.389372</td>\n",
       "      <td>0.025307</td>\n",
       "      <td>-0.040566</td>\n",
       "      <td>0.037749</td>\n",
       "      <td>0.046124</td>\n",
       "      <td>-0.007109</td>\n",
       "      <td>-6.046841e-01</td>\n",
       "    </tr>\n",
       "    <tr>\n",
       "      <th>9</th>\n",
       "      <td>-0.012104</td>\n",
       "      <td>0.290034</td>\n",
       "      <td>-0.627076</td>\n",
       "      <td>-0.180730</td>\n",
       "      <td>-0.027680</td>\n",
       "      <td>0.013670</td>\n",
       "      <td>0.267004</td>\n",
       "      <td>0.268698</td>\n",
       "      <td>0.019730</td>\n",
       "      <td>-0.072250</td>\n",
       "      <td>-0.133770</td>\n",
       "      <td>0.021000</td>\n",
       "      <td>-5.669735e-01</td>\n",
       "    </tr>\n",
       "    <tr>\n",
       "      <th>10</th>\n",
       "      <td>-0.005788</td>\n",
       "      <td>-0.009489</td>\n",
       "      <td>-0.004002</td>\n",
       "      <td>0.027956</td>\n",
       "      <td>0.221166</td>\n",
       "      <td>0.973763</td>\n",
       "      <td>-0.038344</td>\n",
       "      <td>-0.007056</td>\n",
       "      <td>0.005162</td>\n",
       "      <td>-0.000749</td>\n",
       "      <td>0.005339</td>\n",
       "      <td>-0.003346</td>\n",
       "      <td>-1.904378e-02</td>\n",
       "    </tr>\n",
       "    <tr>\n",
       "      <th>11</th>\n",
       "      <td>-0.071078</td>\n",
       "      <td>0.320415</td>\n",
       "      <td>0.474742</td>\n",
       "      <td>0.050343</td>\n",
       "      <td>0.139988</td>\n",
       "      <td>-0.019713</td>\n",
       "      <td>0.514122</td>\n",
       "      <td>-0.479490</td>\n",
       "      <td>0.023498</td>\n",
       "      <td>0.024944</td>\n",
       "      <td>0.049966</td>\n",
       "      <td>-0.009259</td>\n",
       "      <td>-3.826149e-01</td>\n",
       "    </tr>\n",
       "    <tr>\n",
       "      <th>12</th>\n",
       "      <td>-0.001020</td>\n",
       "      <td>-0.057562</td>\n",
       "      <td>-0.017214</td>\n",
       "      <td>0.855702</td>\n",
       "      <td>-0.123361</td>\n",
       "      <td>-0.016145</td>\n",
       "      <td>-0.274575</td>\n",
       "      <td>0.039125</td>\n",
       "      <td>0.010438</td>\n",
       "      <td>0.021119</td>\n",
       "      <td>0.070495</td>\n",
       "      <td>-0.009817</td>\n",
       "      <td>-4.076043e-01</td>\n",
       "    </tr>\n",
       "  </tbody>\n",
       "</table>\n",
       "</div>"
      ],
      "text/plain": [
       "          0         1         2         3         4         5         6   \\\n",
       "0   0.101895 -0.515191 -0.276439  0.053254  0.105483 -0.019208  0.410493   \n",
       "1  -0.099695  0.563630  0.061732 -0.147698 -0.099284  0.015819 -0.331244   \n",
       "2  -0.220290 -0.026235  0.325344  0.106690  0.511219 -0.106170  0.202345   \n",
       "3   0.477985  0.100817  0.057040  0.012559 -0.073425  0.026993  0.084137   \n",
       "4   0.485053  0.090947  0.041528  0.029162  0.120048 -0.020816 -0.008499   \n",
       "5   0.468911  0.052263  0.039582 -0.003933  0.124223 -0.029476 -0.022796   \n",
       "6   0.486531  0.085181  0.070472  0.027681  0.117804 -0.025526 -0.020524   \n",
       "7   0.048074 -0.088668  0.306449 -0.017174 -0.764120  0.189658  0.329624   \n",
       "8   0.057193 -0.435589  0.299305 -0.440087  0.013566 -0.020129 -0.389372   \n",
       "9  -0.012104  0.290034 -0.627076 -0.180730 -0.027680  0.013670  0.267004   \n",
       "10 -0.005788 -0.009489 -0.004002  0.027956  0.221166  0.973763 -0.038344   \n",
       "11 -0.071078  0.320415  0.474742  0.050343  0.139988 -0.019713  0.514122   \n",
       "12 -0.001020 -0.057562 -0.017214  0.855702 -0.123361 -0.016145 -0.274575   \n",
       "\n",
       "          7         8         9         10        11            12  \n",
       "0  -0.083085 -0.047614  0.075004  0.659251 -0.124629 -6.287889e-16  \n",
       "1   0.129869 -0.029487  0.074842  0.700169 -0.115557 -6.091876e-16  \n",
       "2   0.720363 -0.023560  0.011303  0.019129  0.004563  8.086003e-17  \n",
       "3   0.137656 -0.283938  0.777675 -0.132290 -0.151348  4.291205e-16  \n",
       "4   0.026445 -0.390147 -0.289032  0.136190  0.695671 -6.801309e-17  \n",
       "5   0.066435  0.854916  0.054002  0.066858  0.127704  3.012130e-17  \n",
       "6   0.042980 -0.160369 -0.508200 -0.062670 -0.667524 -1.982686e-16  \n",
       "7   0.356468  0.064424 -0.177283  0.053128  0.040583 -1.204087e-16  \n",
       "8   0.025307 -0.040566  0.037749  0.046124 -0.007109 -6.046841e-01  \n",
       "9   0.268698  0.019730 -0.072250 -0.133770  0.021000 -5.669735e-01  \n",
       "10 -0.007056  0.005162 -0.000749  0.005339 -0.003346 -1.904378e-02  \n",
       "11 -0.479490  0.023498  0.024944  0.049966 -0.009259 -3.826149e-01  \n",
       "12  0.039125  0.010438  0.021119  0.070495 -0.009817 -4.076043e-01  "
      ]
     },
     "execution_count": 74,
     "metadata": {},
     "output_type": "execute_result"
    }
   ],
   "source": [
    "pd.DataFrame(pca.components_.T)\n",
    "# .loc[:4,:5]\n"
   ]
  },
  {
   "cell_type": "markdown",
   "metadata": {
    "id": "px45G-RUhvDE"
   },
   "source": [
    "Now we'll perform 10-fold cross-validation to see how it influences the `MSE`:"
   ]
  },
  {
   "cell_type": "code",
   "execution_count": 76,
   "metadata": {
    "id": "N_Q31avJhvDF"
   },
   "outputs": [
    {
     "name": "stdout",
     "output_type": "stream",
     "text": [
      "[13327277229.959692, 13266400326.451475, 12769747335.401594, 8613264050.278528, 8444284226.544756, 6107425149.229565, 5895457072.4401045, 5704836966.272679, 5298489440.064728, 5021309978.361513, 4844166039.793323, 4739971751.197393, 4727554260.927155, 4727554260.927155]\n"
     ]
    },
    {
     "data": {
      "image/png": "[encoded data removed]",
      "text/plain": [
       "<Figure size 432x288 with 1 Axes>"
      ]
     },
     "metadata": {
      "needs_background": "light"
     },
     "output_type": "display_data"
    }
   ],
   "source": [
    "# 10-fold CV, with shuffle\n",
    "n = len(X_reduced)\n",
    "\n",
    "kf_10 = model_selection.KFold( n_splits=10, shuffle=True, random_state=1)\n",
    "\n",
    "regr = LinearRegression()\n",
    "mse = []\n",
    "\n",
    "# Calculate MSE with only the intercept (no principal components in regression)\n",
    "score = -1*model_selection.cross_val_score(regr, np.ones((n,1)), y.ravel(), cv=kf_10, scoring='neg_mean_squared_error').mean()    \n",
    "mse.append(score)\n",
    "\n",
    "# Calculate MSE using CV for the 19 principal components, adding one component at the time.\n",
    "for i in np.arange(1, 14):\n",
    "    score = -1*model_selection.cross_val_score(regr, X_reduced[:,:i], y.ravel(), cv=kf_10, scoring='neg_mean_squared_error').mean()\n",
    "    mse.append(score)\n",
    "    \n",
    "# Plot results    \n",
    "plt.plot(mse, '-v')\n",
    "plt.xlabel('Number of principal components in regression')\n",
    "plt.ylabel('MSE')\n",
    "plt.title('Salary')\n",
    "plt.xlim(xmin=-1);\n",
    "\n",
    "print(mse)"
   ]
  },
  {
   "cell_type": "markdown",
   "metadata": {
    "id": "7aVV_JcjhvDI"
   },
   "source": [
    "We see that the smallest cross-validation error occurs when $M=12$ components are used. This is barely fewer than $M=13$, which amounts to simply performing least squares, because when all of the components are used in PCA no dimension reduction occurs. However, from the plot we also see that the cross-validation error is roughly the same when only 5 components are included in the model. This suggests that a model that uses just a small number of components might suffice."
   ]
  },
  {
   "cell_type": "markdown",
   "metadata": {
    "id": "BMx9RGNyhvDI"
   },
   "source": [
    "We'll print the amount of variance explained by adding each consecutive principal component:"
   ]
  },
  {
   "cell_type": "code",
   "execution_count": 77,
   "metadata": {
    "id": "Dda0VoyRhvDJ"
   },
   "outputs": [
    {
     "name": "stdout",
     "output_type": "stream",
     "text": [
      "[ 30.2   49.94  62.63  72.29  80.55  88.22  93.7   98.11  99.23  99.69\n",
      "  99.89 100.   100.  ]\n"
     ]
    }
   ],
   "source": [
    "print(np.cumsum(np.round(pca.explained_variance_ratio_, decimals=4)*100))\n",
    "#print(pca.explained_variance_ratio_)\n",
    "#print(pca.singular_values_)"
   ]
  },
  {
   "cell_type": "markdown",
   "metadata": {
    "id": "igP7NVfqhvDL"
   },
   "source": [
    "Setting $M=1$ only captures 30.2% of all the variance, or information, in the features. In contrast, using $M=6$ increases the value to 88.22%. Notice that if we were to use all $M=d=13$ components, this would increase to 100% but we won't reduce the dimension!"
   ]
  },
  {
   "cell_type": "markdown",
   "metadata": {
    "id": "8F-bWzc4hvDM"
   },
   "source": [
    "Now let's perform PCA on the training data and evaluate its test set performance. This process is also helpful to tune the hyper-parameter $M$ and identify the number of components to use:"
   ]
  },
  {
   "cell_type": "code",
   "execution_count": 78,
   "metadata": {
    "id": "ATpzd8q2hvDM",
    "scrolled": true
   },
   "outputs": [
    {
     "name": "stdout",
     "output_type": "stream",
     "text": [
      "[13105749882.885128, 13044220161.622173, 12650182837.73411, 8391449544.140944, 8258267780.124899, 5816227090.086492, 5638691030.888273, 5278393462.025439, 5028508641.599117, 4872697597.930478, 4776711061.274555, 4763768373.128659, 4763768373.128659, 4763768373.128659]\n"
     ]
    },
    {
     "data": {
      "image/png": "[encoded data removed]",
      "text/plain": [
       "<Figure size 432x288 with 1 Axes>"
      ]
     },
     "metadata": {
      "needs_background": "light"
     },
     "output_type": "display_data"
    }
   ],
   "source": [
    "pca2 = PCA()\n",
    "\n",
    "# Split into training and test sets\n",
    "X_train, X_test , y_train, y_test = model_selection.train_test_split(X, y, test_size=0.5, random_state=1)\n",
    "\n",
    "# Scale the data and fit the PCA \n",
    "# .fit_transform(X) fit the model with X and apply the dimensionality reduction on X\n",
    "X_reduced_train = pca2.fit_transform(scale(X_train))\n",
    "n = len(X_reduced_train)\n",
    "\n",
    "\n",
    "# 10-fold CV, with shuffle\n",
    "kf_10 = model_selection.KFold( n_splits=10, shuffle=True, random_state=1)\n",
    "\n",
    "mse = []\n",
    "\n",
    "# Compute MSE with only the intercept (no principal components in regression)\n",
    "#and 10-fold CV is only applied on the train set\n",
    "score = -1*model_selection.cross_val_score(regr, np.ones((n,1)), y_train.ravel(), cv=kf_10, scoring='neg_mean_squared_error').mean()    \n",
    "mse.append(score)\n",
    "#print(mse)\n",
    "\n",
    "\n",
    "# Compute MSE using CV for the 19 principal components, adding one component at the time\n",
    "#10-fold CV is only applied on the train set\n",
    "for i in np.arange(1, 14):\n",
    "    score = -1*model_selection.cross_val_score(regr, X_reduced_train[:,:i], y_train.ravel(), cv=kf_10, scoring='neg_mean_squared_error').mean()\n",
    "    mse.append(score)\n",
    "\n",
    "plt.plot(mse, '-v')\n",
    "plt.xlabel('Number of principal components in regression')\n",
    "plt.ylabel('MSE')\n",
    "plt.title('Salary')\n",
    "plt.xlim(xmin=-1);\n",
    "\n",
    "print(mse)"
   ]
  },
  {
   "cell_type": "markdown",
   "metadata": {
    "id": "xR-jkGKOhvDW"
   },
   "source": [
    "We find that the lowest cross-validation error occurs when $M=13$ components are used. However, from the plot we also see that the cross-validation error is roughly the same when only 5 components are included in the model. This suggests again that a model that uses just a small number of components might suffice.\n",
    "Now, we fix the hyper-parameter $M$ to 5, and we'll see how it performs on the test data and compute the test MSE as follows:"
   ]
  },
  {
   "cell_type": "code",
   "execution_count": 79,
   "metadata": {
    "id": "LafPAJ1qhvDW",
    "scrolled": true
   },
   "outputs": [
    {
     "name": "stdout",
     "output_type": "stream",
     "text": [
      "The final test MSE is:  15932104968.26756\n"
     ]
    }
   ],
   "source": [
    "X_reduced_test = pca2.fit_transform(scale(X_test))[:,:5]\n",
    "\n",
    "#print(X_reduced_test.shape)\n",
    "#pd.DataFrame(X_reduced_test).info()\n",
    "\n",
    "# If you want to compare before and after to apply the PCA:\n",
    "#print(pd.DataFrame(X_reduced_test).describe())\n",
    "#print(pd.DataFrame(scale(X_test)).describe())\n",
    "\n",
    "# Train regression model on training data \n",
    "regr = LinearRegression()\n",
    "regr.fit(X_reduced_train[:,:5], y_train)\n",
    "\n",
    "# Prediction with test data\n",
    "pred = regr.predict(X_reduced_test)\n",
    "print('The final test MSE is: ',mean_squared_error(y_test, pred))"
   ]
  },
  {
   "cell_type": "markdown",
   "metadata": {
    "id": "2DL8SnSxhvDY"
   },
   "source": [
    "## PCA visualization for $M=5$ components on housing dataset"
   ]
  },
  {
   "cell_type": "markdown",
   "metadata": {
    "id": "4Nj-UG3BhvDY"
   },
   "source": [
    "This part is intended to more visualize PCA using python. We continue to work on the `housing` dataset that has 13 features which we can reduce to $M=5$ (as suggested by the previous part of this lab) by using PCA.\n",
    "\n",
    "In PCA(), `n_component` specifies how many components are returned after fit and tranformation."
   ]
  },
  {
   "cell_type": "code",
   "execution_count": 80,
   "metadata": {
    "id": "FExLhks-hvDY"
   },
   "outputs": [
    {
     "data": {
      "text/plain": [
       "(10217, 5)"
      ]
     },
     "execution_count": 80,
     "metadata": {},
     "output_type": "execute_result"
    }
   ],
   "source": [
    "pcamodel = PCA(n_components=5)\n",
    "pca = pcamodel.fit_transform(scale(X_test))\n",
    "pca.shape"
   ]
  },
  {
   "cell_type": "markdown",
   "metadata": {
    "id": "Ntjrjg9FhvDa"
   },
   "source": [
    "PCA components and their significance can be explained using `explained_variance_ratio_` that is the percentage of variance explained by each of the selected components."
   ]
  },
  {
   "cell_type": "code",
   "execution_count": 81,
   "metadata": {
    "id": "VBc2J0PQhvDb"
   },
   "outputs": [
    {
     "data": {
      "text/plain": [
       "array([0.3024185 , 0.1959793 , 0.12589175, 0.09702523, 0.08335494])"
      ]
     },
     "execution_count": 81,
     "metadata": {},
     "output_type": "execute_result"
    }
   ],
   "source": [
    "#the percentage of variance explained by each of the selected components\n",
    "pcamodel.explained_variance_ratio_\n"
   ]
  },
  {
   "cell_type": "markdown",
   "metadata": {
    "id": "ByKg7ydihvDd"
   },
   "source": [
    "Some PCA model attribute plots can help for visualization:"
   ]
  },
  {
   "cell_type": "code",
   "execution_count": 82,
   "metadata": {
    "id": "w9G7l98ohvDd"
   },
   "outputs": [
    {
     "data": {
      "text/plain": [
       "<matplotlib.legend.Legend at 0x7faf426a0c18>"
      ]
     },
     "execution_count": 82,
     "metadata": {},
     "output_type": "execute_result"
    },
    {
     "data": {
      "image/png": "[encoded data removed]",
      "text/plain": [
       "<Figure size 432x288 with 1 Axes>"
      ]
     },
     "metadata": {
      "needs_background": "light"
     },
     "output_type": "display_data"
    }
   ],
   "source": [
    "# Explained variance plot\n",
    "plt.bar(range(1,len(pcamodel.explained_variance_ratio_ )+1),pcamodel.explained_variance_ratio_ )\n",
    "plt.ylabel('Percentage of explained variance')\n",
    "plt.xlabel('Number of components')\n",
    "plt.plot(range(1,len(pcamodel.explained_variance_ratio_ )+1),\n",
    "         np.cumsum(pcamodel.explained_variance_ratio_ ),\n",
    "         c='red',\n",
    "         label=\"Cumulative Explained Variance\")\n",
    "plt.legend(loc='upper left')\n"
   ]
  },
  {
   "cell_type": "markdown",
   "metadata": {
    "id": "KPEiIvwOhvDf"
   },
   "source": [
    "Scree plot is the plot of eigen values (explained_variance_) for each of the components."
   ]
  },
  {
   "cell_type": "code",
   "execution_count": 83,
   "metadata": {
    "id": "WgHcyBNGhvDf"
   },
   "outputs": [
    {
     "data": {
      "image/png": "[encoded data removed]",
      "text/plain": [
       "<Figure size 432x288 with 1 Axes>"
      ]
     },
     "metadata": {
      "needs_background": "light"
     },
     "output_type": "display_data"
    }
   ],
   "source": [
    "# Scree plot\n",
    "plt.plot(pcamodel.explained_variance_ratio_)\n",
    "plt.xlabel('Number of components')\n",
    "plt.ylabel('Explained variance')\n",
    "plt.show()\n",
    "\n"
   ]
  },
  {
   "cell_type": "markdown",
   "metadata": {
    "id": "5ta_Az2MhvDh"
   },
   "source": [
    "It can be seen from plots that, two first components explains most of the variance than subsequent components. Here, most of the features are explained and encompassed by the two first components. "
   ]
  },
  {
   "cell_type": "markdown",
   "metadata": {
    "id": "TyhtIis7hvDh"
   },
   "source": [
    "`pca` helds all PCA components (here we fixed the number to 6). First two of them can be visualized using scatter plot."
   ]
  },
  {
   "cell_type": "code",
   "execution_count": 84,
   "metadata": {
    "id": "NTVY1tWAhvDh"
   },
   "outputs": [
    {
     "data": {
      "text/plain": [
       "Text(0.5, 0, 'PCA 1')"
      ]
     },
     "execution_count": 84,
     "metadata": {},
     "output_type": "execute_result"
    },
    {
     "data": {
      "image/png": "[encoded data removed]",
      "text/plain": [
       "<Figure size 432x288 with 1 Axes>"
      ]
     },
     "metadata": {
      "needs_background": "light"
     },
     "output_type": "display_data"
    }
   ],
   "source": [
    "# Scatter plot of PCA1 and PCA2\n",
    "\n",
    "plt.scatter(pca[:, 0], pca[:, 1])\n",
    "plt.ylabel('PCA 2')\n",
    "plt.xlabel('PCA 1')"
   ]
  },
  {
   "cell_type": "markdown",
   "metadata": {
    "id": "SEbytOLlhvDk"
   },
   "source": [
    "We can use `Scatter3D` library from `plotly` to plot first 3 components in 3D space. To use this library you need to create your api key [here](https://chart-studio.plotly.com/settings/api#/). Then write your own `username` and `api_key` in the following code:"
   ]
  },
  {
   "cell_type": "code",
   "execution_count": 85,
   "metadata": {
    "id": "Q4o2JddFhvDk"
   },
   "outputs": [
    {
     "ename": "NameError",
     "evalue": "name 'chart_studio' is not defined",
     "output_type": "error",
     "traceback": [
      "\u001b[0;31m---------------------------------------------------------------------------\u001b[0m",
      "\u001b[0;31mNameError\u001b[0m                                 Traceback (most recent call last)",
      "\u001b[0;32m<ipython-input-85-157f26e748f2>\u001b[0m in \u001b[0;36m<module>\u001b[0;34m\u001b[0m\n\u001b[1;32m      2\u001b[0m \u001b[0;34m\u001b[0m\u001b[0m\n\u001b[1;32m      3\u001b[0m \u001b[0;31m# Create your api key here: https://chart-studio.plotly.com/settings/api#/\u001b[0m\u001b[0;34m\u001b[0m\u001b[0;34m\u001b[0m\u001b[0;34m\u001b[0m\u001b[0m\n\u001b[0;32m----> 4\u001b[0;31m \u001b[0mchart_studio\u001b[0m\u001b[0;34m.\u001b[0m\u001b[0mtools\u001b[0m\u001b[0;34m.\u001b[0m\u001b[0mset_credentials_file\u001b[0m\u001b[0;34m(\u001b[0m\u001b[0musername\u001b[0m\u001b[0;34m=\u001b[0m\u001b[0;34m'mtami'\u001b[0m\u001b[0;34m,\u001b[0m \u001b[0mapi_key\u001b[0m\u001b[0;34m=\u001b[0m\u001b[0;34m'pyKIrlFpmpf5g9c7uuLz'\u001b[0m\u001b[0;34m)\u001b[0m\u001b[0;34m\u001b[0m\u001b[0;34m\u001b[0m\u001b[0m\n\u001b[0m\u001b[1;32m      5\u001b[0m \u001b[0;34m\u001b[0m\u001b[0m\n\u001b[1;32m      6\u001b[0m fig1 = go.Scatter3d(x=pca[:, 0],\n",
      "\u001b[0;31mNameError\u001b[0m: name 'chart_studio' is not defined"
     ]
    }
   ],
   "source": [
    "# 3D Scatter plot of PCA1,PCA2 and PCA3\n",
    "\n",
    "# Create your api key here: https://chart-studio.plotly.com/settings/api#/\n",
    "chart_studio.tools.set_credentials_file(username='mtami', api_key='pyKIrlFpmpf5g9c7uuLz')\n",
    "\n",
    "fig1 = go.Scatter3d(x=pca[:, 0],\n",
    "                    y=pca[:, 1],\n",
    "                    z=pca[:, 2],\n",
    "                    marker=dict(opacity=0.9,\n",
    "                                reversescale=True,\n",
    "                                colorscale='Blues',\n",
    "                                size=5),\n",
    "                    line=dict (width=0.02),\n",
    "                    mode='markers')\n",
    "\n",
    "#Make Plot.ly Layout\n",
    "mylayout = go.Layout(scene=dict(xaxis=dict( title=\"PCA1\"),\n",
    "                                yaxis=dict( title=\"PCA2\"),\n",
    "                                zaxis=dict(title=\"PCA3\")),)\n",
    "\n",
    "#Plot and save html\n",
    "py.iplot({\"data\": [fig1],\n",
    "                     \"layout\": mylayout},\n",
    "                     auto_open=True,\n",
    "                     filename=(\"3DPlot.html\"))\n",
    "\n"
   ]
  },
  {
   "cell_type": "markdown",
   "metadata": {
    "id": "rinPeLPYhvDm"
   },
   "source": [
    "`components`_ attribute provides principal axes in feature space, representing the directions of maximum variance in the data. This means, we can see influence on each of the components by features."
   ]
  },
  {
   "cell_type": "code",
   "execution_count": 86,
   "metadata": {
    "id": "_GCBxovJhvDm"
   },
   "outputs": [
    {
     "data": {
      "text/plain": [
       "Text(0.5, 1, 'The effect of features on each components')"
      ]
     },
     "execution_count": 86,
     "metadata": {},
     "output_type": "execute_result"
    },
    {
     "data": {
      "image/png": "[encoded data removed]",
      "text/plain": [
       "<Figure size 432x288 with 2 Axes>"
      ]
     },
     "metadata": {
      "needs_background": "light"
     },
     "output_type": "display_data"
    }
   ],
   "source": [
    "# Effect of variables on each components\n",
    "\n",
    "ax = sns.heatmap(pcamodel.components_,\n",
    "                 cmap='YlGnBu',\n",
    "                 yticklabels=[ \"PCA\"+str(X_test) for X_test in range(1,pcamodel.n_components_+1)],\n",
    "                 xticklabels=list(X_test.columns),\n",
    "                 cbar_kws={\"orientation\": \"vertical\"})\n",
    "plt.yticks(rotation=0) \n",
    "ax.set_aspect(\"equal\")\n",
    "plt.title('The effect of features on each components')"
   ]
  },
  {
   "cell_type": "markdown",
   "metadata": {
    "id": "iFw4_erWhvDn"
   },
   "source": [
    "Biplot is an interesting plot and contains lot of useful information.\n",
    "\n",
    "It contains two plots in one:\n",
    "\n",
    "   + PCA scatter plot which shows first two component ( we already plotted this above)\n",
    "   + PCA loading plot which shows how strongly each characteristic influences a principal component.\n",
    "\n",
    "**PCA Loading Plot:** All vectors start at origin and their projected values on components explains how much weight they have on that component. Also , angles between individual vectors tells about correlation between them. \n",
    "\n",
    "Let's plot it for our dataset!"
   ]
  },
  {
   "cell_type": "code",
   "execution_count": 87,
   "metadata": {
    "id": "Lyn5cFNuhvDn"
   },
   "outputs": [
    {
     "data": {
      "image/png": "[encoded data removed]",
      "text/plain": [
       "<Figure size 432x288 with 1 Axes>"
      ]
     },
     "metadata": {
      "needs_background": "light"
     },
     "output_type": "display_data"
    }
   ],
   "source": [
    "# PCA Biplot\n",
    "\n",
    "def myplot(score,coeff,labels=None):\n",
    "    xs = score[:,0]\n",
    "    ys = score[:,1]\n",
    "    n = coeff.shape[0]\n",
    "    scalex = 1.0/(xs.max() - xs.min())\n",
    "    scaley = 1.0/(ys.max() - ys.min())\n",
    "    plt.scatter(xs * scalex,ys * scaley,s=5)\n",
    "    for i in range(n):\n",
    "        plt.arrow(0, 0, coeff[i,0], coeff[i,1],color = 'r',alpha = 0.5)\n",
    "        if labels is None:\n",
    "            plt.text(coeff[i,0]* 1.15, coeff[i,1] * 1.15, \"Var\"+str(i+1), color = 'green', ha = 'center', va = 'center')\n",
    "        else:\n",
    "            plt.text(coeff[i,0]* 1.15, coeff[i,1] * 1.15, labels[i], color = 'g', ha = 'center', va = 'center')\n",
    " \n",
    "    plt.xlabel(\"PC{}\".format(1))\n",
    "    plt.ylabel(\"PC{}\".format(2))\n",
    "    plt.grid()\n",
    "\n",
    "myplot(pca[:,0:2],np.transpose(pcamodel.components_[0:2, :]),list(X_test.columns))\n",
    "plt.show()\n"
   ]
  },
  {
   "cell_type": "markdown",
   "metadata": {
    "id": "c2fMH3d1hvDp"
   },
   "source": [
    "We observe, as sugested by the plot illustrating the effect of features on each components, that the group of features: \"total_rooms, total_bedrooms, population, households\" is represented by the first component. Then, the group \"longitude, latitude, Ocean_proximity_INLAND, Ocean_proximity_NEARBAY\" is represented by the second component.\n"
   ]
  },
  {
   "cell_type": "code",
   "execution_count": null,
   "metadata": {
    "id": "d0jo0xM6hvDp"
   },
   "outputs": [],
   "source": []
  }
 ],
 "metadata": {
  "colab": {
   "name": "td3-ReducDim-correction.ipynb",
   "provenance": [],
   "toc_visible": true
  },
  "kernelspec": {
   "display_name": "Python 3",
   "language": "python",
   "name": "python3"
  },
  "language_info": {
   "codemirror_mode": {
    "name": "ipython",
    "version": 3
   },
   "file_extension": ".py",
   "mimetype": "text/x-python",
   "name": "python",
   "nbconvert_exporter": "python",
   "pygments_lexer": "ipython3",
   "version": "3.7.9"
  },
  "nav_menu": {
   "height": "279px",
   "width": "309px"
  },
  "toc": {
   "nav_menu": {},
   "number_sections": true,
   "sideBar": true,
   "skip_h1_title": false,
   "toc_cell": false,
   "toc_position": {},
   "toc_section_display": "block",
   "toc_window_display": false
  }
 },
 "nbformat": 4,
 "nbformat_minor": 1
}
