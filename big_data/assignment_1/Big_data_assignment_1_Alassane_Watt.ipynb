{
 "cells": [
  {
   "cell_type": "markdown",
   "metadata": {},
   "source": [
    "# Spark programming\n",
    "\n",
    "__Author__: Alassane Watt"
   ]
  },
  {
   "cell_type": "markdown",
   "metadata": {},
   "source": [
    "## Common friends in a social network"
   ]
  },
  {
   "cell_type": "markdown",
   "metadata": {},
   "source": [
    "### Exercice 1"
   ]
  },
  {
   "cell_type": "markdown",
   "metadata": {},
   "source": [
    "Execute the following command:<br>\n",
    "`spark-submit --master spark://sar01:7077 sn_tiny.csv`\n"
   ]
  },
  {
   "cell_type": "markdown",
   "metadata": {},
   "source": [
    "### Exercice 2"
   ]
  },
  {
   "cell_type": "markdown",
   "metadata": {},
   "source": [
    "Execute the following command:<br>\n",
    "`spark-submit --master spark://sar01:7077 filename` for each `filename` in the problem statement.\n",
    "\n",
    "__Results__\n",
    "\n",
    "\n",
    "| Dataset | Nb nodes | Nb links | Nb pairs | Execution time (sec) |\n",
    "|----------|------|--------|--------|--------|\n",
    "|sn_tiny.csv| | |$10$|$5.4$|\n",
    "|sn_10k_100k.csv|$10ˆ4$|$10ˆ5$|$756$|$11.5$|\n",
    "|sn_100k_100k.csv|$10ˆ5$|$10ˆ5$|$50$|$5.8$|\n",
    "|sn_1k_100k.csv|$10ˆ3$|$10ˆ5$|$29826$|$185.1$|\n",
    "|sn_1m_1m.csv|$10ˆ6$|$10ˆ6$|$60$|$13.1$|\n",
    "\n",
    " We notice that the execution time grows with the ratio $N_{links}/N_{nodes}$. It also grows as $N_{links}$ grows."
   ]
  },
  {
   "cell_type": "markdown",
   "metadata": {},
   "source": [
    "### Exercice 3"
   ]
  },
  {
   "cell_type": "markdown",
   "metadata": {},
   "source": [
    "1) \n",
    "The script is written in __friends_stats.py__."
   ]
  },
  {
   "cell_type": "markdown",
   "metadata": {},
   "source": [
    "2) \n",
    "Execute `spark-submit --master spark://sar01:7077 friends_stats.py filename` for each `filename` in the problem statement."
   ]
  },
  {
   "cell_type": "markdown",
   "metadata": {},
   "source": [
    "3) __Results__\n",
    "\n",
    "|Dataset|Min|Max|Average|\n",
    "|-------|-------|-------|-------|\n",
    "|sn_tiny.csv|2 |5 |2 |\n",
    "|sn_10k_100k.csv|6|42|20|\n",
    "|sn_100k_100k.csv|0|11|2|\n",
    "|sn_1k_100k.csv|158|248|200|\n",
    "|sn_1m_1m.csv|0|12|2|"
   ]
  },
  {
   "cell_type": "code",
   "execution_count": 210,
   "metadata": {},
   "outputs": [
    {
     "data": {
      "image/png": "[encoded data removed]",
      "text/plain": [
       "<Figure size 432x288 with 1 Axes>"
      ]
     },
     "metadata": {
      "needs_background": "light"
     },
     "output_type": "display_data"
    }
   ],
   "source": [
    "import matplotlib.pyplot as plt\n",
    "data = [(2, 5.4), (20, 11.5), (2, 5.8), (200, 185.1), (2, 13.1)]\n",
    "data = sorted(data, key=lambda x:x[0])\n",
    "plt.plot([x[0] for x in data], [y[1] for y in data], \"--x\")\n",
    "plt.xlabel(\"Average data number of friends\")\n",
    "plt.ylabel(\"Execution time (sec)\")\n",
    "plt.title(\"Execution time against average nb of friends\")\n",
    "plt.show()"
   ]
  },
  {
   "cell_type": "markdown",
   "metadata": {},
   "source": [
    "We see that globally as the average nb of friends grows the execution time grows. It is not very highlighted due to the lack of points in the plot. This confirms our previous observation in exercise 2."
   ]
  },
  {
   "cell_type": "markdown",
   "metadata": {},
   "source": [
    "## Creating an inverted index"
   ]
  },
  {
   "cell_type": "markdown",
   "metadata": {},
   "source": [
    "### Exercice 4"
   ]
  },
  {
   "cell_type": "markdown",
   "metadata": {},
   "source": [
    "Execute the following command:<br>\n",
    "`spark-submit --master spark://sar01:7077 inverted_index.py`<br>\n",
    "The ouput shows that there are many words appearing only in one article."
   ]
  }
 ],
 "metadata": {
  "kernelspec": {
   "display_name": "Python 3",
   "language": "python",
   "name": "python3"
  },
  "language_info": {
   "codemirror_mode": {
    "name": "ipython",
    "version": 3
   },
   "file_extension": ".py",
   "mimetype": "text/x-python",
   "name": "python",
   "nbconvert_exporter": "python",
   "pygments_lexer": "ipython3",
   "version": "3.7.3"
  }
 },
 "nbformat": 4,
 "nbformat_minor": 2
}
