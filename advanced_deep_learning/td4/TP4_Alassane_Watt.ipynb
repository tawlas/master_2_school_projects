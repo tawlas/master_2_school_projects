{
  "nbformat": 4,
  "nbformat_minor": 0,
  "metadata": {
    "accelerator": "GPU",
    "colab": {
      "name": "TP4_Alassane_Watt.ipynb",
      "provenance": [],
      "collapsed_sections": []
    },
    "kernelspec": {
      "display_name": "Python 3",
      "language": "python",
      "name": "python3"
    },
    "widgets": {
      "application/vnd.jupyter.widget-state+json": {
        "15324d0c0e68459fbe9a1d22b046e0cb": {
          "model_module": "@jupyter-widgets/controls",
          "model_name": "HBoxModel",
          "state": {
            "_view_name": "HBoxView",
            "_dom_classes": [],
            "_model_name": "HBoxModel",
            "_view_module": "@jupyter-widgets/controls",
            "_model_module_version": "1.5.0",
            "_view_count": null,
            "_view_module_version": "1.5.0",
            "box_style": "",
            "layout": "IPY_MODEL_ca4133242bd94d9599f40a40f8e3c72d",
            "_model_module": "@jupyter-widgets/controls",
            "children": [
              "IPY_MODEL_d8953ca93b6d4a588d8db6bb716d5dd2",
              "IPY_MODEL_756e5de06f8b480a820af2fee8a37daf"
            ]
          }
        },
        "ca4133242bd94d9599f40a40f8e3c72d": {
          "model_module": "@jupyter-widgets/base",
          "model_name": "LayoutModel",
          "state": {
            "_view_name": "LayoutView",
            "grid_template_rows": null,
            "right": null,
            "justify_content": null,
            "_view_module": "@jupyter-widgets/base",
            "overflow": null,
            "_model_module_version": "1.2.0",
            "_view_count": null,
            "flex_flow": null,
            "width": null,
            "min_width": null,
            "border": null,
            "align_items": null,
            "bottom": null,
            "_model_module": "@jupyter-widgets/base",
            "top": null,
            "grid_column": null,
            "overflow_y": null,
            "overflow_x": null,
            "grid_auto_flow": null,
            "grid_area": null,
            "grid_template_columns": null,
            "flex": null,
            "_model_name": "LayoutModel",
            "justify_items": null,
            "grid_row": null,
            "max_height": null,
            "align_content": null,
            "visibility": null,
            "align_self": null,
            "height": null,
            "min_height": null,
            "padding": null,
            "grid_auto_rows": null,
            "grid_gap": null,
            "max_width": null,
            "order": null,
            "_view_module_version": "1.2.0",
            "grid_template_areas": null,
            "object_position": null,
            "object_fit": null,
            "grid_auto_columns": null,
            "margin": null,
            "display": null,
            "left": null
          }
        },
        "d8953ca93b6d4a588d8db6bb716d5dd2": {
          "model_module": "@jupyter-widgets/controls",
          "model_name": "FloatProgressModel",
          "state": {
            "_view_name": "ProgressView",
            "style": "IPY_MODEL_4512463f9cf347dbb45f48561a3cbf59",
            "_dom_classes": [],
            "description": "",
            "_model_name": "FloatProgressModel",
            "bar_style": "info",
            "max": 1,
            "_view_module": "@jupyter-widgets/controls",
            "_model_module_version": "1.5.0",
            "value": 1,
            "_view_count": null,
            "_view_module_version": "1.5.0",
            "orientation": "horizontal",
            "min": 0,
            "description_tooltip": null,
            "_model_module": "@jupyter-widgets/controls",
            "layout": "IPY_MODEL_93720026ca5f40e6add56323caf2fa67"
          }
        },
        "756e5de06f8b480a820af2fee8a37daf": {
          "model_module": "@jupyter-widgets/controls",
          "model_name": "HTMLModel",
          "state": {
            "_view_name": "HTMLView",
            "style": "IPY_MODEL_907d82ab915b4a97a9fe235ccf3089ec",
            "_dom_classes": [],
            "description": "",
            "_model_name": "HTMLModel",
            "placeholder": "​",
            "_view_module": "@jupyter-widgets/controls",
            "_model_module_version": "1.5.0",
            "value": " 170500096/? [00:30&lt;00:00, 16836842.91it/s]",
            "_view_count": null,
            "_view_module_version": "1.5.0",
            "description_tooltip": null,
            "_model_module": "@jupyter-widgets/controls",
            "layout": "IPY_MODEL_dbfa412ca8ea49008ef24c515feae8c5"
          }
        },
        "4512463f9cf347dbb45f48561a3cbf59": {
          "model_module": "@jupyter-widgets/controls",
          "model_name": "ProgressStyleModel",
          "state": {
            "_view_name": "StyleView",
            "_model_name": "ProgressStyleModel",
            "description_width": "initial",
            "_view_module": "@jupyter-widgets/base",
            "_model_module_version": "1.5.0",
            "_view_count": null,
            "_view_module_version": "1.2.0",
            "bar_color": null,
            "_model_module": "@jupyter-widgets/controls"
          }
        },
        "93720026ca5f40e6add56323caf2fa67": {
          "model_module": "@jupyter-widgets/base",
          "model_name": "LayoutModel",
          "state": {
            "_view_name": "LayoutView",
            "grid_template_rows": null,
            "right": null,
            "justify_content": null,
            "_view_module": "@jupyter-widgets/base",
            "overflow": null,
            "_model_module_version": "1.2.0",
            "_view_count": null,
            "flex_flow": null,
            "width": null,
            "min_width": null,
            "border": null,
            "align_items": null,
            "bottom": null,
            "_model_module": "@jupyter-widgets/base",
            "top": null,
            "grid_column": null,
            "overflow_y": null,
            "overflow_x": null,
            "grid_auto_flow": null,
            "grid_area": null,
            "grid_template_columns": null,
            "flex": null,
            "_model_name": "LayoutModel",
            "justify_items": null,
            "grid_row": null,
            "max_height": null,
            "align_content": null,
            "visibility": null,
            "align_self": null,
            "height": null,
            "min_height": null,
            "padding": null,
            "grid_auto_rows": null,
            "grid_gap": null,
            "max_width": null,
            "order": null,
            "_view_module_version": "1.2.0",
            "grid_template_areas": null,
            "object_position": null,
            "object_fit": null,
            "grid_auto_columns": null,
            "margin": null,
            "display": null,
            "left": null
          }
        },
        "907d82ab915b4a97a9fe235ccf3089ec": {
          "model_module": "@jupyter-widgets/controls",
          "model_name": "DescriptionStyleModel",
          "state": {
            "_view_name": "StyleView",
            "_model_name": "DescriptionStyleModel",
            "description_width": "",
            "_view_module": "@jupyter-widgets/base",
            "_model_module_version": "1.5.0",
            "_view_count": null,
            "_view_module_version": "1.2.0",
            "_model_module": "@jupyter-widgets/controls"
          }
        },
        "dbfa412ca8ea49008ef24c515feae8c5": {
          "model_module": "@jupyter-widgets/base",
          "model_name": "LayoutModel",
          "state": {
            "_view_name": "LayoutView",
            "grid_template_rows": null,
            "right": null,
            "justify_content": null,
            "_view_module": "@jupyter-widgets/base",
            "overflow": null,
            "_model_module_version": "1.2.0",
            "_view_count": null,
            "flex_flow": null,
            "width": null,
            "min_width": null,
            "border": null,
            "align_items": null,
            "bottom": null,
            "_model_module": "@jupyter-widgets/base",
            "top": null,
            "grid_column": null,
            "overflow_y": null,
            "overflow_x": null,
            "grid_auto_flow": null,
            "grid_area": null,
            "grid_template_columns": null,
            "flex": null,
            "_model_name": "LayoutModel",
            "justify_items": null,
            "grid_row": null,
            "max_height": null,
            "align_content": null,
            "visibility": null,
            "align_self": null,
            "height": null,
            "min_height": null,
            "padding": null,
            "grid_auto_rows": null,
            "grid_gap": null,
            "max_width": null,
            "order": null,
            "_view_module_version": "1.2.0",
            "grid_template_areas": null,
            "object_position": null,
            "object_fit": null,
            "grid_auto_columns": null,
            "margin": null,
            "display": null,
            "left": null
          }
        },
        "cb5eb2e249614b4c825ce6d6e5318e99": {
          "model_module": "@jupyter-widgets/controls",
          "model_name": "HBoxModel",
          "state": {
            "_view_name": "HBoxView",
            "_dom_classes": [],
            "_model_name": "HBoxModel",
            "_view_module": "@jupyter-widgets/controls",
            "_model_module_version": "1.5.0",
            "_view_count": null,
            "_view_module_version": "1.5.0",
            "box_style": "",
            "layout": "IPY_MODEL_1cc5039a62764de9b0ca0ae03605c89d",
            "_model_module": "@jupyter-widgets/controls",
            "children": [
              "IPY_MODEL_bfe4835c48ad47be89891b7dda2c568e",
              "IPY_MODEL_556feb25d259488db7a1a4adfc533b2d"
            ]
          }
        },
        "1cc5039a62764de9b0ca0ae03605c89d": {
          "model_module": "@jupyter-widgets/base",
          "model_name": "LayoutModel",
          "state": {
            "_view_name": "LayoutView",
            "grid_template_rows": null,
            "right": null,
            "justify_content": null,
            "_view_module": "@jupyter-widgets/base",
            "overflow": null,
            "_model_module_version": "1.2.0",
            "_view_count": null,
            "flex_flow": null,
            "width": null,
            "min_width": null,
            "border": null,
            "align_items": null,
            "bottom": null,
            "_model_module": "@jupyter-widgets/base",
            "top": null,
            "grid_column": null,
            "overflow_y": null,
            "overflow_x": null,
            "grid_auto_flow": null,
            "grid_area": null,
            "grid_template_columns": null,
            "flex": null,
            "_model_name": "LayoutModel",
            "justify_items": null,
            "grid_row": null,
            "max_height": null,
            "align_content": null,
            "visibility": null,
            "align_self": null,
            "height": null,
            "min_height": null,
            "padding": null,
            "grid_auto_rows": null,
            "grid_gap": null,
            "max_width": null,
            "order": null,
            "_view_module_version": "1.2.0",
            "grid_template_areas": null,
            "object_position": null,
            "object_fit": null,
            "grid_auto_columns": null,
            "margin": null,
            "display": null,
            "left": null
          }
        },
        "bfe4835c48ad47be89891b7dda2c568e": {
          "model_module": "@jupyter-widgets/controls",
          "model_name": "FloatProgressModel",
          "state": {
            "_view_name": "ProgressView",
            "style": "IPY_MODEL_78077ac272be47f596c6cf32bb08436d",
            "_dom_classes": [],
            "description": "100%",
            "_model_name": "FloatProgressModel",
            "bar_style": "success",
            "max": 553433881,
            "_view_module": "@jupyter-widgets/controls",
            "_model_module_version": "1.5.0",
            "value": 553433881,
            "_view_count": null,
            "_view_module_version": "1.5.0",
            "orientation": "horizontal",
            "min": 0,
            "description_tooltip": null,
            "_model_module": "@jupyter-widgets/controls",
            "layout": "IPY_MODEL_4d9d76c3f5984262b49a5e7d19df646e"
          }
        },
        "556feb25d259488db7a1a4adfc533b2d": {
          "model_module": "@jupyter-widgets/controls",
          "model_name": "HTMLModel",
          "state": {
            "_view_name": "HTMLView",
            "style": "IPY_MODEL_5a3a93a644b847baa3b6c2b4593e61a4",
            "_dom_classes": [],
            "description": "",
            "_model_name": "HTMLModel",
            "placeholder": "​",
            "_view_module": "@jupyter-widgets/controls",
            "_model_module_version": "1.5.0",
            "value": " 528M/528M [01:40&lt;00:00, 5.53MB/s]",
            "_view_count": null,
            "_view_module_version": "1.5.0",
            "description_tooltip": null,
            "_model_module": "@jupyter-widgets/controls",
            "layout": "IPY_MODEL_bda6f08cc7554863b7141fbeaed26c89"
          }
        },
        "78077ac272be47f596c6cf32bb08436d": {
          "model_module": "@jupyter-widgets/controls",
          "model_name": "ProgressStyleModel",
          "state": {
            "_view_name": "StyleView",
            "_model_name": "ProgressStyleModel",
            "description_width": "initial",
            "_view_module": "@jupyter-widgets/base",
            "_model_module_version": "1.5.0",
            "_view_count": null,
            "_view_module_version": "1.2.0",
            "bar_color": null,
            "_model_module": "@jupyter-widgets/controls"
          }
        },
        "4d9d76c3f5984262b49a5e7d19df646e": {
          "model_module": "@jupyter-widgets/base",
          "model_name": "LayoutModel",
          "state": {
            "_view_name": "LayoutView",
            "grid_template_rows": null,
            "right": null,
            "justify_content": null,
            "_view_module": "@jupyter-widgets/base",
            "overflow": null,
            "_model_module_version": "1.2.0",
            "_view_count": null,
            "flex_flow": null,
            "width": null,
            "min_width": null,
            "border": null,
            "align_items": null,
            "bottom": null,
            "_model_module": "@jupyter-widgets/base",
            "top": null,
            "grid_column": null,
            "overflow_y": null,
            "overflow_x": null,
            "grid_auto_flow": null,
            "grid_area": null,
            "grid_template_columns": null,
            "flex": null,
            "_model_name": "LayoutModel",
            "justify_items": null,
            "grid_row": null,
            "max_height": null,
            "align_content": null,
            "visibility": null,
            "align_self": null,
            "height": null,
            "min_height": null,
            "padding": null,
            "grid_auto_rows": null,
            "grid_gap": null,
            "max_width": null,
            "order": null,
            "_view_module_version": "1.2.0",
            "grid_template_areas": null,
            "object_position": null,
            "object_fit": null,
            "grid_auto_columns": null,
            "margin": null,
            "display": null,
            "left": null
          }
        },
        "5a3a93a644b847baa3b6c2b4593e61a4": {
          "model_module": "@jupyter-widgets/controls",
          "model_name": "DescriptionStyleModel",
          "state": {
            "_view_name": "StyleView",
            "_model_name": "DescriptionStyleModel",
            "description_width": "",
            "_view_module": "@jupyter-widgets/base",
            "_model_module_version": "1.5.0",
            "_view_count": null,
            "_view_module_version": "1.2.0",
            "_model_module": "@jupyter-widgets/controls"
          }
        },
        "bda6f08cc7554863b7141fbeaed26c89": {
          "model_module": "@jupyter-widgets/base",
          "model_name": "LayoutModel",
          "state": {
            "_view_name": "LayoutView",
            "grid_template_rows": null,
            "right": null,
            "justify_content": null,
            "_view_module": "@jupyter-widgets/base",
            "overflow": null,
            "_model_module_version": "1.2.0",
            "_view_count": null,
            "flex_flow": null,
            "width": null,
            "min_width": null,
            "border": null,
            "align_items": null,
            "bottom": null,
            "_model_module": "@jupyter-widgets/base",
            "top": null,
            "grid_column": null,
            "overflow_y": null,
            "overflow_x": null,
            "grid_auto_flow": null,
            "grid_area": null,
            "grid_template_columns": null,
            "flex": null,
            "_model_name": "LayoutModel",
            "justify_items": null,
            "grid_row": null,
            "max_height": null,
            "align_content": null,
            "visibility": null,
            "align_self": null,
            "height": null,
            "min_height": null,
            "padding": null,
            "grid_auto_rows": null,
            "grid_gap": null,
            "max_width": null,
            "order": null,
            "_view_module_version": "1.2.0",
            "grid_template_areas": null,
            "object_position": null,
            "object_fit": null,
            "grid_auto_columns": null,
            "margin": null,
            "display": null,
            "left": null
          }
        }
      }
    }
  },
  "cells": [
    {
      "cell_type": "code",
      "metadata": {
        "id": "4KmfaD8c2mtj"
      },
      "source": [
        "import torch\n",
        "import torchvision\n",
        "import torchvision.transforms as transforms\n",
        "import matplotlib.pyplot as plt\n",
        "import numpy as np"
      ],
      "execution_count": 1,
      "outputs": []
    },
    {
      "cell_type": "code",
      "metadata": {
        "id": "iQcuVRMT9BgH"
      },
      "source": [
        "from torchvision.datasets.vision import VisionDataset\n",
        "from torchvision.datasets.utils import  check_integrity, download_and_extract_archive\n",
        "import torch.optim as optim\n",
        "import seaborn as sns\n",
        "from PIL import Image\n",
        "import os\n",
        "import os.path\n",
        "import numpy as np\n",
        "import pickle\n",
        "from typing import Any, Callable, Optional, Tuple"
      ],
      "execution_count": 2,
      "outputs": []
    },
    {
      "cell_type": "code",
      "metadata": {
        "id": "BKdtWJmAmdXR"
      },
      "source": [
        "device = torch.device(\"cuda\" if torch.cuda.is_available() else \"cpu\")"
      ],
      "execution_count": 3,
      "outputs": []
    },
    {
      "cell_type": "markdown",
      "metadata": {
        "id": "9aOmyGSm1UQV"
      },
      "source": [
        "# Small data and deep learning\n",
        "This Pratical session proposes to study several techniques for improving challenging context, in which few data and resources are available."
      ]
    },
    {
      "cell_type": "markdown",
      "metadata": {
        "id": "w6CYiwTr1UQX"
      },
      "source": [
        "# Introduction\n",
        "Assume we are in a context where few \"gold\" labeled data are available for training, say $\\mathcal{X}_{\\text{train}}\\triangleq\\{(x_n,y_n)\\}_{n\\leq N_{\\text{train}}}$, where $N_{\\text{train}}$ is small. A large test set $\\mathcal{X}_{\\text{test}}$ is available. A large amount of unlabeled data, $\\mathcal{X}$, is available. We also assume that we have a limited computational budget (e.g., no GPUs).\n",
        "\n",
        "For each question, write a commented *Code* or a complete answer as a *Markdown*. When the objective of a question is to report a CNN accuracy, please use the following format to report it, at the end of the question:\n",
        "\n",
        "| Model | Number of  epochs  | Train accuracy | Test accuracy |\n",
        "|------|------|------|------|\n",
        "|   XXX  | XXX | XXX | XXX |\n",
        "\n",
        "If applicable, please add the field corresponding to the  __Accuracy on Full Data__ as well as a link to the __Reference paper__ you used to report those numbers. (You do not need to train a CNN on the full CIFAR10 dataset)\n",
        "\n",
        "In your final report, please keep the logs of each training procedure you used. We will only run this jupyter if we have some doubts on your implementation. \n",
        "\n",
        "__The total file sizes should be reasonable (feasible with 2MB only!). You will be asked to hand in the notebook, together with any necessary files required to run it if any.__\n",
        "\n",
        "\n",
        "You can use https://colab.research.google.com/ to run your experiments."
      ]
    },
    {
      "cell_type": "markdown",
      "metadata": {
        "id": "U4uguKus1UQY"
      },
      "source": [
        "## Training set creation\n",
        "__Question 1 (2 points):__ Propose a dataloader or modify the file located at https://github.com/pytorch/vision/blob/master/torchvision/datasets/cifar.py in order to obtain a training loader that will only use the first 100 samples of the CIFAR-10 training set. "
      ]
    },
    {
      "cell_type": "markdown",
      "metadata": {
        "id": "ZMvWu6qC01mM"
      },
      "source": [
        "We sample the same number of examples for all the targets in order to have a balanced dataset target wise."
      ]
    },
    {
      "cell_type": "code",
      "metadata": {
        "id": "P5lA69eI_gwu"
      },
      "source": [
        "class CIFAR10(VisionDataset):\n",
        "    \"\"\"`CIFAR10 <https://www.cs.toronto.edu/~kriz/cifar.html>`_ Dataset.\n",
        "    Args:\n",
        "        root (string): Root directory of dataset where directory\n",
        "            ``cifar-10-batches-py`` exists or will be saved to if download is set to True.\n",
        "        train (bool, optional): If True, creates dataset from training set, otherwise\n",
        "            creates from test set.\n",
        "        transform (callable, optional): A function/transform that takes in an PIL image\n",
        "            and returns a transformed version. E.g, ``transforms.RandomCrop``\n",
        "        target_transform (callable, optional): A function/transform that takes in the\n",
        "            target and transforms it.\n",
        "        download (bool, optional): If true, downloads the dataset from the internet and\n",
        "            puts it in root directory. If dataset is already downloaded, it is not\n",
        "            downloaded again.\n",
        "    \n",
        "    This class takes an argument N which is the number of training samples. We set the default value to 100.\n",
        "    \"\"\"\n",
        "    \n",
        "    base_folder = 'cifar-10-batches-py'\n",
        "    url = \"https://www.cs.toronto.edu/~kriz/cifar-10-python.tar.gz\"\n",
        "    filename = \"cifar-10-python.tar.gz\"\n",
        "    tgz_md5 = 'c58f30108f718f92721af3b95e74349a'\n",
        "    train_list = [\n",
        "        ['data_batch_1', 'c99cafc152244af753f735de768cd75f'],\n",
        "        ['data_batch_2', 'd4bba439e000b95fd0a9bffe97cbabec'],\n",
        "        ['data_batch_3', '54ebc095f3ab1f0389bbae665268c751'],\n",
        "        ['data_batch_4', '634d18415352ddfa80567beed471001a'],\n",
        "        ['data_batch_5', '482c414d41f54cd18b22e5b47cb7c3cb'],\n",
        "    ]\n",
        "\n",
        "    test_list = [\n",
        "        ['test_batch', '40351d587109b95175f43aff81a1287e'],\n",
        "    ]\n",
        "    meta = {\n",
        "        'filename': 'batches.meta',\n",
        "        'key': 'label_names',\n",
        "        'md5': '5ff9c542aee3614f3951f8cda6e48888',\n",
        "    }\n",
        "\n",
        "    def __init__(\n",
        "            self,\n",
        "            root: str,\n",
        "            N : int = 100,\n",
        "            train: bool = True,\n",
        "            transform: Optional[Callable] = None,\n",
        "            target_transform: Optional[Callable] = None,\n",
        "            download: bool = False,\n",
        "        \n",
        "    ) -> None:\n",
        "\n",
        "        super(CIFAR10, self).__init__(root, transform=transform,\n",
        "                                      target_transform=target_transform)\n",
        "\n",
        "        self.train = train  # training set or test set\n",
        "\n",
        "        if download:\n",
        "            self.download()\n",
        "\n",
        "        if not self._check_integrity():\n",
        "            raise RuntimeError('Dataset not found or corrupted.' +\n",
        "                               ' You can use download=True to download it')\n",
        "\n",
        "        if self.train:\n",
        "            downloaded_list = self.train_list\n",
        "        else:\n",
        "            downloaded_list = self.test_list\n",
        "\n",
        "        self.data: Any = []\n",
        "        self.targets = []\n",
        "\n",
        "        # now load the picked numpy arrays\n",
        "        for file_name, checksum in downloaded_list:\n",
        "            file_path = os.path.join(self.root, self.base_folder, file_name)\n",
        "            with open(file_path, 'rb') as f:\n",
        "                entry = pickle.load(f, encoding='latin1')\n",
        "                self.data.append(entry['data'])\n",
        "                if 'labels' in entry:\n",
        "                    self.targets.extend(entry['labels'])\n",
        "                else:\n",
        "                    self.targets.extend(entry['fine_labels'])\n",
        "\n",
        "        self.data = np.vstack(self.data).reshape(-1, 3, 32, 32)\n",
        "        self.data = self.data.transpose((0, 2, 3, 1))  # convert to HWC\n",
        "        if self.train:\n",
        "            print(\"ORIGINAL SHAPE OF DATASET\")\n",
        "            print('IMG',self.data.shape)\n",
        "            print('TARGET',len(self.targets))\n",
        "            \n",
        "            \n",
        "            unique_class = set(self.targets)\n",
        "            n_unique_class = len(unique_class)\n",
        "            n_per_class = int(N / n_unique_class)\n",
        "            balanced_data = {key:[] for key in unique_class}\n",
        "            \n",
        "             # Sampling the same number of examples for all the targets in order to have balanced data target wise\n",
        "             # we assume there are more than n_unique_class number of samples per class.\n",
        "            sum_class = 0\n",
        "            i = 0\n",
        "            \n",
        "            while i < len(self.targets) and sum_class < N:\n",
        "                label = self.targets[i]\n",
        "                if len(balanced_data[label]) < n_per_class:\n",
        "                    balanced_data[label].append(self.data[i])\n",
        "                    sum_class += 1\n",
        "                i += 1\n",
        "                \n",
        "#             n_unique_class = len(unique_class)\n",
        "#             n_per_class = int(N / n_unique_class)\n",
        "#             balanced_data = []\n",
        "#             balanced_targets = []\n",
        "#             for targ in unique_class:\n",
        "#                 i = 0\n",
        "#                 while i < n_per_class and i < len(self.targets):\n",
        "#                     if self.targets[i] == targ:\n",
        "#                         balanced_data.append(self.data[i])\n",
        "#                         balanced_targets.append(self.targets[i])\n",
        "            all_data = []\n",
        "            all_targets = []\n",
        "            for k in sorted(balanced_data.keys()):\n",
        "                all_data.extend(balanced_data[k])\n",
        "                all_targets.extend([k]*len(balanced_data[k]))\n",
        "                \n",
        "            self.data = np.array(all_data)\n",
        "            self.targets = np.array(all_targets)\n",
        "            \n",
        "            \n",
        "            \n",
        "#             for k in balanced_data:\n",
        "#                 balanced_data[k] = (torch.cat([balanced_data[k]]))\n",
        "#             self.data = torch.cat([])\n",
        "#             self.targets = self.targets[0:N]\n",
        "\n",
        "            print(\"NEW SHAPE OF DATASET\")\n",
        "            print('IMG',self.data.shape)\n",
        "            print('TARGET',len(self.targets))\n",
        "            sns.countplot(self.targets).set_title('COUNT PLOT OF TRAIN TARGETS');\n",
        "\n",
        "        self._load_meta()\n",
        "\n",
        "\n",
        "    def _load_meta(self) -> None:\n",
        "        path = os.path.join(self.root, self.base_folder, self.meta['filename'])\n",
        "        if not check_integrity(path, self.meta['md5']):\n",
        "            raise RuntimeError('Dataset metadata file not found or corrupted.' +\n",
        "                               ' You can use download=True to download it')\n",
        "        with open(path, 'rb') as infile:\n",
        "            data = pickle.load(infile, encoding='latin1')\n",
        "            self.classes = data[self.meta['key']]\n",
        "        self.class_to_idx = {_class: i for i, _class in enumerate(self.classes)}\n",
        "\n",
        "    def __getitem__(self, index: int) -> Tuple[Any, Any]:\n",
        "        \"\"\"\n",
        "        Args:\n",
        "            index (int): Index\n",
        "        Returns:\n",
        "            tuple: (image, target) where target is index of the target class.\n",
        "        \"\"\"\n",
        "        img, target = self.data[index], self.targets[index]\n",
        "\n",
        "        # doing this so that it is consistent with all other datasets\n",
        "        # to return a PIL Image\n",
        "        img = Image.fromarray(img)\n",
        "\n",
        "        if self.transform is not None:\n",
        "            img = self.transform(img)\n",
        "\n",
        "        if self.target_transform is not None:\n",
        "            target = self.target_transform(target)\n",
        "\n",
        "        return img, target\n",
        "\n",
        "    def __len__(self) -> int:\n",
        "        return len(self.data)\n",
        "\n",
        "    def _check_integrity(self) -> bool:\n",
        "        root = self.root\n",
        "        for fentry in (self.train_list + self.test_list):\n",
        "            filename, md5 = fentry[0], fentry[1]\n",
        "            fpath = os.path.join(root, self.base_folder, filename)\n",
        "            if not check_integrity(fpath, md5):\n",
        "                return False\n",
        "        return True\n",
        "\n",
        "    def download(self) -> None:\n",
        "        if self._check_integrity():\n",
        "            print('Files already downloaded and verified')\n",
        "            return\n",
        "        download_and_extract_archive(self.url, self.root, filename=self.filename, md5=self.tgz_md5)\n",
        "\n",
        "    def extra_repr(self) -> str:\n",
        "        return \"Split: {}\".format(\"Train\" if self.train is True else \"Test\")\n"
      ],
      "execution_count": 5,
      "outputs": []
    },
    {
      "cell_type": "code",
      "metadata": {
        "colab": {
          "base_uri": "https://localhost:8080/",
          "height": 520,
          "referenced_widgets": [
            "15324d0c0e68459fbe9a1d22b046e0cb",
            "ca4133242bd94d9599f40a40f8e3c72d",
            "d8953ca93b6d4a588d8db6bb716d5dd2",
            "756e5de06f8b480a820af2fee8a37daf",
            "4512463f9cf347dbb45f48561a3cbf59",
            "93720026ca5f40e6add56323caf2fa67",
            "907d82ab915b4a97a9fe235ccf3089ec",
            "dbfa412ca8ea49008ef24c515feae8c5"
          ]
        },
        "id": "IDGlNw9I1UQZ",
        "outputId": "1dd95bec-0ed9-40a1-88cc-db7e7ef51f76"
      },
      "source": [
        "transform = torchvision.transforms.Compose([transforms.ToTensor(),transforms.Normalize((0.5, 0.5, 0.5), (0.5, 0.5, 0.5))])\n",
        "\n",
        "trainset = CIFAR10(root='./data', train=True,download=True, transform=transform,N=100)\n",
        "trainloader = torch.utils.data.DataLoader(trainset, batch_size=10,shuffle=True, num_workers=2)\n",
        "\n",
        "testset = CIFAR10(root='./data', train=False,download=True, transform=transform)\n",
        "testloader = torch.utils.data.DataLoader(testset, batch_size=10,shuffle=False, num_workers=2)\n",
        "\n",
        "classes = ('plane', 'car', 'bird', 'cat',\n",
        "           'deer', 'dog', 'frog', 'horse', 'ship', 'truck')"
      ],
      "execution_count": 6,
      "outputs": [
        {
          "output_type": "stream",
          "text": [
            "Downloading https://www.cs.toronto.edu/~kriz/cifar-10-python.tar.gz to ./data/cifar-10-python.tar.gz\n"
          ],
          "name": "stdout"
        },
        {
          "output_type": "display_data",
          "data": {
            "application/vnd.jupyter.widget-view+json": {
              "model_id": "15324d0c0e68459fbe9a1d22b046e0cb",
              "version_minor": 0,
              "version_major": 2
            },
            "text/plain": [
              "HBox(children=(FloatProgress(value=1.0, bar_style='info', max=1.0), HTML(value='')))"
            ]
          },
          "metadata": {
            "tags": []
          }
        },
        {
          "output_type": "stream",
          "text": [
            "Extracting ./data/cifar-10-python.tar.gz to ./data\n",
            "ORIGINAL SHAPE OF DATASET\n",
            "IMG (50000, 32, 32, 3)\n",
            "TARGET 50000\n",
            "NEW SHAPE OF DATASET\n",
            "IMG (100, 32, 32, 3)\n",
            "TARGET 100\n"
          ],
          "name": "stdout"
        },
        {
          "output_type": "stream",
          "text": [
            "/usr/local/lib/python3.7/dist-packages/seaborn/_decorators.py:43: FutureWarning: Pass the following variable as a keyword arg: x. From version 0.12, the only valid positional argument will be `data`, and passing other arguments without an explicit keyword will result in an error or misinterpretation.\n",
            "  FutureWarning\n"
          ],
          "name": "stderr"
        },
        {
          "output_type": "stream",
          "text": [
            "Files already downloaded and verified\n"
          ],
          "name": "stdout"
        },
        {
          "output_type": "display_data",
          "data": {
            "image/png": "[encoded data removed]",
            "text/plain": [
              "<Figure size 432x288 with 1 Axes>"
            ]
          },
          "metadata": {
            "tags": [],
            "needs_background": "light"
          }
        }
      ]
    },
    {
      "cell_type": "code",
      "metadata": {
        "colab": {
          "base_uri": "https://localhost:8080/",
          "height": 188
        },
        "id": "Y_2cfUKS2xwK",
        "outputId": "140af09f-8528-4cc5-d4ef-39b0b52d674e"
      },
      "source": [
        "def imshow(img):\n",
        "    \"\"\"\n",
        "    Function to visualise samples from dataloaders\n",
        "    \n",
        "    \"\"\"\n",
        "    print(\"image max coordinate:\", img.max())\n",
        "    print(\"image min coordinate:\", img.min())\n",
        "    img = img / 2 + 0.5  \n",
        "    npimg = img.numpy()\n",
        "    plt.figure()\n",
        "    plt.imshow(np.transpose(npimg, (1, 2, 0)))\n",
        "    plt.show()\n",
        "\n",
        "dataiter = iter(trainloader)\n",
        "images, labels = dataiter.next()\n",
        "imshow(torchvision.utils.make_grid(images))\n",
        "print(' '.join('%5s' % classes[labels[j]] for j in range(4)))"
      ],
      "execution_count": 7,
      "outputs": [
        {
          "output_type": "stream",
          "text": [
            "image max coordinate: tensor(1.)\n",
            "image min coordinate: tensor(-1.)\n"
          ],
          "name": "stdout"
        },
        {
          "output_type": "display_data",
          "data": {
            "image/png": "[encoded data removed]",
            "text/plain": [
              "<Figure size 432x288 with 1 Axes>"
            ]
          },
          "metadata": {
            "tags": [],
            "needs_background": "light"
          }
        },
        {
          "output_type": "stream",
          "text": [
            " frog horse  deer   cat\n"
          ],
          "name": "stdout"
        }
      ]
    },
    {
      "cell_type": "markdown",
      "metadata": {
        "id": "SG7WlxHW1UQZ"
      },
      "source": [
        "This is our dataset $\\mathcal{X}_{\\text{train}}$, it will be used until the end of this project. The remaining samples correspond to $\\mathcal{X}$. The testing set $\\mathcal{X}_{\\text{test}}$ corresponds to the whole testing set of CIFAR-10."
      ]
    },
    {
      "cell_type": "markdown",
      "metadata": {
        "id": "pzGsfLgN1UQa"
      },
      "source": [
        "## Testing procedure\n",
        "__Question 2 (1.5 points):__ Explain why the evaluation of the training procedure is difficult. Propose several solutions."
      ]
    },
    {
      "cell_type": "markdown",
      "metadata": {
        "id": "FSPCd_bo1UQb"
      },
      "source": [
        "**Response 2:** <br>\n",
        "The evaluation of the training procedure is difficult because we have few samples per class. Thus it is probable that we will overfit our training data before getting a correct knowledge of the characteristic elements of the dataset. Moreover, some classes are under-represented making it difficult for the model to differentiate them efficiently.\n",
        "\n",
        "A few solutions are:\n",
        "\n",
        "- Data augmentation: apply some geometric transformation to our sample to artificially create new samples from which the model could learn.\n",
        "- Transfer learning: Import a model already trained on another dataset and add some layers ( or retrain last layers ) to transfer the classification capabilities to our use-case\n",
        "- Use a semi-supervised method."
      ]
    },
    {
      "cell_type": "markdown",
      "metadata": {
        "id": "5XBpkmTw1UQb"
      },
      "source": [
        "# Raw approach: the baseline"
      ]
    },
    {
      "cell_type": "markdown",
      "metadata": {
        "id": "8WtGvH051UQb"
      },
      "source": [
        "In this section, the goal is to train a CNN on $\\mathcal{X}_{\\text{train}}$ and compare its performance with reported numbers from the litterature. You will have to re-use and/or design a standard classification pipeline. You should optimize your pipeline to obtain the best performances (image size, data augmentation by flip, ...).\n",
        "\n",
        "The key ingredients for training a CNN are the batch size, as well as the learning rate schedule, i.e. how to decrease the learning rate as a function of the number of epochs. A possible schedule is to start the learning rate at 0.1 and decreasing it every 30 epochs by 10. In case of divergence, reduce the laerning rate. A potential batch size could be 10, yet this can be cross-validated.\n",
        "\n",
        "You can get some baselines accuracies in this paper: http://openaccess.thecvf.com/content_cvpr_2018/papers/Keshari_Learning_Structure_and_CVPR_2018_paper.pdf. Obviously, it is a different context for those researchers who had access to GPUs."
      ]
    },
    {
      "cell_type": "markdown",
      "metadata": {
        "id": "mCreaYL21UQc"
      },
      "source": [
        "## ResNet architectures"
      ]
    },
    {
      "cell_type": "markdown",
      "metadata": {
        "id": "tr7riSCK1UQc"
      },
      "source": [
        "__Question 3 (4 points):__ Write a classification pipeline for $\\mathcal{X}_{\\text{train}}$, train from scratch and evaluate a *ResNet-18* architecture specific to CIFAR10 (details about the ImageNet model can be found here: https://arxiv.org/abs/1512.03385). Please report the accuracy obtained on the whole dataset as well as the reference paper/GitHub link.\n",
        "\n",
        "*Hint:* You can re-use the following code: https://github.com/kuangliu/pytorch-cifar. During a training of 10 epochs, a batch size of 10 and a learning rate of 0.01, one obtains 40% accuracy on $\\mathcal{X}_{\\text{train}}$ (\\~2 minutes) and 20% accuracy on $\\mathcal{X}_{\\text{test}}$ (\\~5 minutes)."
      ]
    },
    {
      "cell_type": "markdown",
      "metadata": {
        "id": "ZVuV_B45EXrh"
      },
      "source": [
        "__Model definition__"
      ]
    },
    {
      "cell_type": "code",
      "metadata": {
        "id": "kqkVkKjd1UQd"
      },
      "source": [
        "import torch\n",
        "import torch.nn as nn\n",
        "import torch.nn.functional as F\n",
        "\n",
        "\n",
        "class BasicBlock(nn.Module):\n",
        "\n",
        "    \"\"\"\n",
        "    Residual block\n",
        "    Implementation of a residual skip block \n",
        "    \n",
        "    \"\"\"\n",
        "    expansion = 1\n",
        "\n",
        "    def __init__(self, in_planes, planes, stride=1):\n",
        "        super(BasicBlock, self).__init__()\n",
        "        self.conv1 = nn.Conv2d(\n",
        "            in_planes, planes, kernel_size=3, stride=stride, padding=1, bias=False)\n",
        "        self.bn1 = nn.BatchNorm2d(planes)\n",
        "        self.conv2 = nn.Conv2d(planes, planes, kernel_size=3,\n",
        "                               stride=1, padding=1, bias=False)\n",
        "        self.bn2 = nn.BatchNorm2d(planes)\n",
        "\n",
        "        self.shortcut = nn.Sequential()\n",
        "        if stride != 1 or in_planes != self.expansion*planes:\n",
        "            self.shortcut = nn.Sequential(\n",
        "                nn.Conv2d(in_planes, self.expansion*planes,\n",
        "                          kernel_size=1, stride=stride, bias=False),\n",
        "                nn.BatchNorm2d(self.expansion*planes)\n",
        "            )\n",
        "\n",
        "    def forward(self, x):\n",
        "        out = F.relu(self.bn1(self.conv1(x)))\n",
        "        out = self.bn2(self.conv2(out))\n",
        "        out += self.shortcut(x)\n",
        "        out = F.relu(out)\n",
        "        return out\n",
        "\n",
        "\n",
        "class ResNet(nn.Module):\n",
        "    \"\"\"\n",
        "    Implementation of a Resnet model constructed from residual blocks\n",
        "    \"\"\"\n",
        "    def __init__(self, block, num_blocks, num_classes=10):\n",
        "        super(ResNet, self).__init__()\n",
        "        self.in_planes = 64\n",
        "\n",
        "        self.conv1 = nn.Conv2d(3, 64, kernel_size=3,\n",
        "                               stride=1, padding=1, bias=False)\n",
        "        self.bn1 = nn.BatchNorm2d(64)\n",
        "        self.layer1 = self._make_layer(block, 64, num_blocks[0], stride=1)\n",
        "        self.layer2 = self._make_layer(block, 128, num_blocks[1], stride=2)\n",
        "        self.layer3 = self._make_layer(block, 256, num_blocks[2], stride=2)\n",
        "        self.layer4 = self._make_layer(block, 512, num_blocks[3], stride=2)\n",
        "        self.linear = nn.Linear(512*block.expansion, num_classes)\n",
        "\n",
        "    def _make_layer(self, block, planes, num_blocks, stride):\n",
        "        strides = [stride] + [1]*(num_blocks-1)\n",
        "        layers = []\n",
        "        for stride in strides:\n",
        "            layers.append(block(self.in_planes, planes, stride))\n",
        "            self.in_planes = planes * block.expansion\n",
        "        return nn.Sequential(*layers)\n",
        "\n",
        "    def forward(self, x):\n",
        "        out = F.relu(self.bn1(self.conv1(x)))\n",
        "        out = self.layer1(out)\n",
        "        out = self.layer2(out)\n",
        "        out = self.layer3(out)\n",
        "        out = self.layer4(out)\n",
        "        out = F.avg_pool2d(out, 4)\n",
        "        out = out.view(out.size(0), -1)\n",
        "        out = self.linear(out)\n",
        "        return out\n",
        "\n",
        "\n",
        "def ResNet18():\n",
        "    \"\"\"\n",
        "    Return an instance of type Resnet18 of the class Resnet\n",
        "    \n",
        "    \"\"\"\n",
        "    return ResNet(BasicBlock, [2, 2, 2, 2])"
      ],
      "execution_count": 8,
      "outputs": []
    },
    {
      "cell_type": "code",
      "metadata": {
        "id": "DCyvVwUJFkAj"
      },
      "source": [
        "def train(epoch,model,trainloader,criterion,optimizer):\n",
        "\n",
        "    \"\"\"\n",
        "\n",
        "    Train a model for 1 epoch and print the training loss and accuracy\n",
        "\n",
        "    \"\"\"\n",
        "    print('\\nEpoch: %d' % epoch)\n",
        "    model.train()\n",
        "    train_loss = 0\n",
        "    correct = 0\n",
        "    total = 0\n",
        "    batch_counter =0\n",
        "    for batch_idx, (inputs, targets) in enumerate(trainloader):\n",
        "        inputs, targets = inputs.to(device), targets.to(device)\n",
        "        optimizer.zero_grad()\n",
        "        outputs = model(inputs)\n",
        "        loss = criterion(outputs, targets)\n",
        "        loss.backward()\n",
        "        optimizer.step()\n",
        "\n",
        "        train_loss += loss.item()\n",
        "        batch_counter+=1\n",
        "        _, predicted = outputs.max(1)\n",
        "        total += targets.size(0)\n",
        "        correct += predicted.eq(targets).sum().item()\n",
        "\n",
        "    print(\"LOSS\",train_loss/batch_counter)\n",
        "    print(\"ACCURACY\",correct/total)"
      ],
      "execution_count": 9,
      "outputs": []
    },
    {
      "cell_type": "code",
      "metadata": {
        "id": "I_YQeG2fFkye"
      },
      "source": [
        "def test(model,testloader,criterion):\n",
        "    \"\"\"\n",
        "    \n",
        "    Test a model print the global test loss and test accuracy\n",
        "\n",
        "    \"\"\"\n",
        "    global best_acc\n",
        "    model.eval()\n",
        "    test_loss = 0\n",
        "    correct = 0\n",
        "    total = 0\n",
        "    batch_counter =0\n",
        "    with torch.no_grad():\n",
        "        for batch_idx, (inputs, targets) in enumerate(testloader):\n",
        "            inputs, targets = inputs.to(device), targets.to(device)\n",
        "            outputs = model(inputs)\n",
        "            loss = criterion(outputs, targets)\n",
        "\n",
        "            test_loss += loss.item()\n",
        "            batch_counter+=1\n",
        "            _, predicted = outputs.max(1)\n",
        "            total += targets.size(0)\n",
        "            correct += predicted.eq(targets).sum().item()\n",
        "\n",
        "    print(\"LOSS\",test_loss/batch_counter)\n",
        "    print(\"ACCURACY\",correct/total)          "
      ],
      "execution_count": 10,
      "outputs": []
    },
    {
      "cell_type": "code",
      "metadata": {
        "id": "7PFcDAtDG1nk"
      },
      "source": [
        "# Parameter initialisation\n",
        "\n",
        "ResNet18_ = ResNet18().to(device)\n",
        "criterion = nn.CrossEntropyLoss()\n",
        "optimizer = optim.SGD(ResNet18_.parameters(), lr=0.01, momentum=0.9, weight_decay=5e-4)"
      ],
      "execution_count": 11,
      "outputs": []
    },
    {
      "cell_type": "markdown",
      "metadata": {
        "id": "s1fAOlfr01mV"
      },
      "source": [
        "Training the model"
      ]
    },
    {
      "cell_type": "code",
      "metadata": {
        "colab": {
          "base_uri": "https://localhost:8080/"
        },
        "id": "hz8h7vyNFrVQ",
        "outputId": "f7162191-b726-4949-874b-42e859112fc1"
      },
      "source": [
        "for epoch in range(0, 30):\n",
        "    train(epoch, ResNet18_, trainloader, criterion, optimizer)"
      ],
      "execution_count": null,
      "outputs": [
        {
          "output_type": "stream",
          "text": [
            "\n",
            "Epoch: 0\n",
            "LOSS 0.39875998548232017\n",
            "ACCURACY 0.87\n",
            "\n",
            "Epoch: 1\n",
            "LOSS 0.5406923204660415\n",
            "ACCURACY 0.88\n",
            "\n",
            "Epoch: 2\n",
            "LOSS 0.5734869536012411\n",
            "ACCURACY 0.83\n",
            "\n",
            "Epoch: 3\n",
            "LOSS 0.28608294650912286\n",
            "ACCURACY 0.9\n",
            "\n",
            "Epoch: 4\n",
            "LOSS 0.256199499592185\n",
            "ACCURACY 0.91\n",
            "\n",
            "Epoch: 5\n",
            "LOSS 0.21236431440338494\n",
            "ACCURACY 0.94\n",
            "\n",
            "Epoch: 6\n",
            "LOSS 0.10881123756989837\n",
            "ACCURACY 0.97\n",
            "\n",
            "Epoch: 7\n",
            "LOSS 0.11563994982279838\n",
            "ACCURACY 0.96\n",
            "\n",
            "Epoch: 8\n",
            "LOSS 0.1214716739486903\n",
            "ACCURACY 0.95\n",
            "\n",
            "Epoch: 9\n",
            "LOSS 0.05636571077629924\n",
            "ACCURACY 0.99\n",
            "\n",
            "Epoch: 10\n",
            "LOSS 0.0888939443975687\n",
            "ACCURACY 0.96\n",
            "\n",
            "Epoch: 11\n",
            "LOSS 0.07666194252669811\n",
            "ACCURACY 0.98\n",
            "\n",
            "Epoch: 12\n",
            "LOSS 0.09086674597347155\n",
            "ACCURACY 0.99\n",
            "\n",
            "Epoch: 13\n",
            "LOSS 0.03677511061541736\n",
            "ACCURACY 0.99\n",
            "\n",
            "Epoch: 14\n",
            "LOSS 0.015371190779842437\n",
            "ACCURACY 1.0\n",
            "\n",
            "Epoch: 15\n",
            "LOSS 0.02118600260000676\n",
            "ACCURACY 1.0\n",
            "\n",
            "Epoch: 16\n",
            "LOSS 0.0031648615025915206\n",
            "ACCURACY 1.0\n",
            "\n",
            "Epoch: 17\n",
            "LOSS 0.0061210807907627895\n",
            "ACCURACY 1.0\n",
            "\n",
            "Epoch: 18\n",
            "LOSS 0.03130131904908921\n",
            "ACCURACY 0.99\n",
            "\n",
            "Epoch: 19\n",
            "LOSS 0.07903366349637508\n",
            "ACCURACY 0.98\n",
            "\n",
            "Epoch: 20\n",
            "LOSS 0.12493292306608055\n",
            "ACCURACY 0.98\n",
            "\n",
            "Epoch: 21\n",
            "LOSS 0.05419509843341075\n",
            "ACCURACY 0.99\n",
            "\n",
            "Epoch: 22\n",
            "LOSS 0.07722159082768484\n",
            "ACCURACY 0.98\n",
            "\n",
            "Epoch: 23\n",
            "LOSS 0.06067760897567496\n",
            "ACCURACY 0.97\n",
            "\n",
            "Epoch: 24\n",
            "LOSS 0.03654076512902975\n",
            "ACCURACY 0.99\n",
            "\n",
            "Epoch: 25\n",
            "LOSS 0.06484510662266985\n",
            "ACCURACY 0.98\n",
            "\n",
            "Epoch: 26\n",
            "LOSS 0.07332316556130536\n",
            "ACCURACY 0.97\n",
            "\n",
            "Epoch: 27\n",
            "LOSS 0.060141097818268464\n",
            "ACCURACY 0.99\n",
            "\n",
            "Epoch: 28\n",
            "LOSS 0.03191903088008985\n",
            "ACCURACY 0.99\n",
            "\n",
            "Epoch: 29\n",
            "LOSS 0.06999515703646467\n",
            "ACCURACY 0.97\n"
          ],
          "name": "stdout"
        }
      ]
    },
    {
      "cell_type": "markdown",
      "metadata": {
        "id": "zVJhGNzK01mW"
      },
      "source": [
        "Let's test the model"
      ]
    },
    {
      "cell_type": "code",
      "metadata": {
        "colab": {
          "base_uri": "https://localhost:8080/"
        },
        "id": "gaMs6IOvHYOG",
        "outputId": "57a2df9e-10a9-4492-a81e-a7633ea8e2b1"
      },
      "source": [
        "test(ResNet18_, testloader, criterion)"
      ],
      "execution_count": null,
      "outputs": [
        {
          "output_type": "stream",
          "text": [
            "LOSS 5.015362945437431\n",
            "ACCURACY 0.2536\n"
          ],
          "name": "stdout"
        }
      ]
    },
    {
      "cell_type": "markdown",
      "metadata": {
        "id": "6GmbL35lbAuc"
      },
      "source": [
        "| Model | Number of  epochs  | Train accuracy | Test accuracy |\n",
        "|------|------|------|------|\n",
        "|   RESNET18  | 20 | 0.88 | 0.23 |\n",
        "|   RESNET18  | 30 | 0.97 | 0.25 |"
      ]
    },
    {
      "cell_type": "markdown",
      "metadata": {
        "id": "8xVD2dWX1UQd"
      },
      "source": [
        "# Transfer learning"
      ]
    },
    {
      "cell_type": "markdown",
      "metadata": {
        "id": "AfgHUcm51UQe"
      },
      "source": [
        "We propose to use pre-trained models on a classification and generative task, in order to improve the results of our setting."
      ]
    },
    {
      "cell_type": "markdown",
      "metadata": {
        "id": "OyiZ70vF1UQe"
      },
      "source": [
        "## ImageNet features"
      ]
    },
    {
      "cell_type": "markdown",
      "metadata": {
        "id": "GhZv3Kho1UQf"
      },
      "source": [
        "Now, we will use some pre-trained models on ImageNet and see how well they compare on CIFAR. A list is available on: https://pytorch.org/docs/stable/torchvision/models.html.\n",
        "\n",
        "__Question 4 (3 points):__ Pick a model from the list above, adapt it for CIFAR and retrain its final layer (or a block of layers, depending on the resources to which you have access to). Report its accuracy."
      ]
    },
    {
      "cell_type": "code",
      "metadata": {
        "id": "1fw3UQnA1UQf",
        "colab": {
          "base_uri": "https://localhost:8080/",
          "height": 83,
          "referenced_widgets": [
            "cb5eb2e249614b4c825ce6d6e5318e99",
            "1cc5039a62764de9b0ca0ae03605c89d",
            "bfe4835c48ad47be89891b7dda2c568e",
            "556feb25d259488db7a1a4adfc533b2d",
            "78077ac272be47f596c6cf32bb08436d",
            "4d9d76c3f5984262b49a5e7d19df646e",
            "5a3a93a644b847baa3b6c2b4593e61a4",
            "bda6f08cc7554863b7141fbeaed26c89"
          ]
        },
        "outputId": "49031ede-32f4-43c4-d62e-79a2d379f587"
      },
      "source": [
        "# Importing pretrained model\n",
        "import torchvision.models as models\n",
        "vgg16 = models.vgg16(pretrained=True).to(device)"
      ],
      "execution_count": 12,
      "outputs": [
        {
          "output_type": "stream",
          "text": [
            "Downloading: \"https://download.pytorch.org/models/vgg16-397923af.pth\" to /root/.cache/torch/hub/checkpoints/vgg16-397923af.pth\n"
          ],
          "name": "stderr"
        },
        {
          "output_type": "display_data",
          "data": {
            "application/vnd.jupyter.widget-view+json": {
              "model_id": "cb5eb2e249614b4c825ce6d6e5318e99",
              "version_minor": 0,
              "version_major": 2
            },
            "text/plain": [
              "HBox(children=(FloatProgress(value=0.0, max=553433881.0), HTML(value='')))"
            ]
          },
          "metadata": {
            "tags": []
          }
        },
        {
          "output_type": "stream",
          "text": [
            "\n"
          ],
          "name": "stdout"
        }
      ]
    },
    {
      "cell_type": "code",
      "metadata": {
        "id": "JPmi1ptxJLjM"
      },
      "source": [
        "# VGG preprocessing\n",
        "\n",
        "norm = transforms.Normalize(mean=[0.485, 0.456, 0.406],std=[0.229, 0.224, 0.225])\n",
        "resize = transforms.Resize(256)\n",
        "\n",
        "transformVGG = torchvision.transforms.Compose([transforms.ToTensor(),norm,resize])"
      ],
      "execution_count": 13,
      "outputs": []
    },
    {
      "cell_type": "code",
      "metadata": {
        "colab": {
          "base_uri": "https://localhost:8080/",
          "height": 471
        },
        "id": "g9fAZy4SJefj",
        "outputId": "a809f1b2-8854-4798-c7c1-42186cd5099b"
      },
      "source": [
        "# Creation of train & test dataloaders\n",
        "\n",
        "\n",
        "trainsetVGG = CIFAR10(root='./data', train=True,download=True, transform=transformVGG,N=100)\n",
        "trainloaderVGG = torch.utils.data.DataLoader(trainsetVGG, batch_size=10,shuffle=True, num_workers=2)\n",
        "\n",
        "testsetVGG = CIFAR10(root='./data', train=False,download=True, transform=transformVGG)\n",
        "testloaderVGG = torch.utils.data.DataLoader(testsetVGG, batch_size=10,shuffle=False, num_workers=2)"
      ],
      "execution_count": 14,
      "outputs": [
        {
          "output_type": "stream",
          "text": [
            "Files already downloaded and verified\n",
            "ORIGINAL SHAPE OF DATASET\n",
            "IMG (50000, 32, 32, 3)\n",
            "TARGET 50000\n",
            "NEW SHAPE OF DATASET\n",
            "IMG (100, 32, 32, 3)\n",
            "TARGET 100\n"
          ],
          "name": "stdout"
        },
        {
          "output_type": "stream",
          "text": [
            "/usr/local/lib/python3.7/dist-packages/seaborn/_decorators.py:43: FutureWarning: Pass the following variable as a keyword arg: x. From version 0.12, the only valid positional argument will be `data`, and passing other arguments without an explicit keyword will result in an error or misinterpretation.\n",
            "  FutureWarning\n"
          ],
          "name": "stderr"
        },
        {
          "output_type": "stream",
          "text": [
            "Files already downloaded and verified\n"
          ],
          "name": "stdout"
        },
        {
          "output_type": "display_data",
          "data": {
            "image/png": "[encoded data removed]",
            "text/plain": [
              "<Figure size 432x288 with 1 Axes>"
            ]
          },
          "metadata": {
            "tags": [],
            "needs_background": "light"
          }
        }
      ]
    },
    {
      "cell_type": "code",
      "metadata": {
        "id": "_zpdpXFzfuh6"
      },
      "source": [
        "# Freeze VGG layers\n",
        "for param in vgg16.parameters():\n",
        "    param.requires_grad = False"
      ],
      "execution_count": 15,
      "outputs": []
    },
    {
      "cell_type": "code",
      "metadata": {
        "colab": {
          "base_uri": "https://localhost:8080/"
        },
        "id": "rE8K1mYELUK7",
        "outputId": "72733f93-ddfb-4fcc-fae9-54b13cdfafbb"
      },
      "source": [
        "# Add classifiers layers to pretrained VGG\n",
        "\n",
        "cifar_classifer = nn.Sequential(\n",
        "                      nn.Linear(1000, 512), \n",
        "                      nn.ReLU(), \n",
        "                      nn.Dropout(p=0.5),\n",
        "                      nn.Linear(512, 10),                   \n",
        "                      nn.LogSoftmax(dim=1))\n",
        "\n",
        "vgg16.classifier.add_module(\"CIFAR_CLASSIFIER\",cifar_classifer)\n",
        "vgg16.classifier"
      ],
      "execution_count": 16,
      "outputs": [
        {
          "output_type": "execute_result",
          "data": {
            "text/plain": [
              "Sequential(\n",
              "  (0): Linear(in_features=25088, out_features=4096, bias=True)\n",
              "  (1): ReLU(inplace=True)\n",
              "  (2): Dropout(p=0.5, inplace=False)\n",
              "  (3): Linear(in_features=4096, out_features=4096, bias=True)\n",
              "  (4): ReLU(inplace=True)\n",
              "  (5): Dropout(p=0.5, inplace=False)\n",
              "  (6): Linear(in_features=4096, out_features=1000, bias=True)\n",
              "  (CIFAR_CLASSIFIER): Sequential(\n",
              "    (0): Linear(in_features=1000, out_features=512, bias=True)\n",
              "    (1): ReLU()\n",
              "    (2): Dropout(p=0.5, inplace=False)\n",
              "    (3): Linear(in_features=512, out_features=10, bias=True)\n",
              "    (4): LogSoftmax(dim=1)\n",
              "  )\n",
              ")"
            ]
          },
          "metadata": {
            "tags": []
          },
          "execution_count": 16
        }
      ]
    },
    {
      "cell_type": "code",
      "metadata": {
        "colab": {
          "base_uri": "https://localhost:8080/"
        },
        "id": "ifAocm_uNoMT",
        "outputId": "6d47a571-4218-42f0-a2c4-657af3a18522"
      },
      "source": [
        "# Train the model\n",
        "\n",
        "criterion = nn.CrossEntropyLoss()\n",
        "optimizer = optim.Adam(vgg16.parameters())\n",
        "\n",
        "for epoch in range(0, 30):\n",
        "    train(epoch,vgg16.to(device),trainloaderVGG,criterion,optimizer)"
      ],
      "execution_count": 19,
      "outputs": [
        {
          "output_type": "stream",
          "text": [
            "\n",
            "Epoch: 0\n",
            "LOSS 0.5742019519209862\n",
            "ACCURACY 0.83\n",
            "\n",
            "Epoch: 1\n",
            "LOSS 0.4208660326898098\n",
            "ACCURACY 0.84\n",
            "\n",
            "Epoch: 2\n",
            "LOSS 0.6524800479412078\n",
            "ACCURACY 0.77\n",
            "\n",
            "Epoch: 3\n",
            "LOSS 0.4415583048015833\n",
            "ACCURACY 0.85\n",
            "\n",
            "Epoch: 4\n",
            "LOSS 0.3706931222230196\n",
            "ACCURACY 0.83\n",
            "\n",
            "Epoch: 5\n",
            "LOSS 0.3129796914756298\n",
            "ACCURACY 0.86\n",
            "\n",
            "Epoch: 6\n",
            "LOSS 0.3307510569691658\n",
            "ACCURACY 0.86\n",
            "\n",
            "Epoch: 7\n",
            "LOSS 0.3332143886014819\n",
            "ACCURACY 0.88\n",
            "\n",
            "Epoch: 8\n",
            "LOSS 0.22932251691818237\n",
            "ACCURACY 0.9\n",
            "\n",
            "Epoch: 9\n",
            "LOSS 0.25456527546048163\n",
            "ACCURACY 0.89\n",
            "\n",
            "Epoch: 10\n",
            "LOSS 0.33870990835130216\n",
            "ACCURACY 0.89\n",
            "\n",
            "Epoch: 11\n",
            "LOSS 0.29527054000645875\n",
            "ACCURACY 0.93\n",
            "\n",
            "Epoch: 12\n",
            "LOSS 0.5132841385900975\n",
            "ACCURACY 0.8\n",
            "\n",
            "Epoch: 13\n",
            "LOSS 0.2607988975942135\n",
            "ACCURACY 0.9\n",
            "\n",
            "Epoch: 14\n",
            "LOSS 0.4557462275028229\n",
            "ACCURACY 0.82\n",
            "\n",
            "Epoch: 15\n",
            "LOSS 0.31053285785019397\n",
            "ACCURACY 0.91\n",
            "\n",
            "Epoch: 16\n",
            "LOSS 0.3245484080165625\n",
            "ACCURACY 0.91\n",
            "\n",
            "Epoch: 17\n",
            "LOSS 0.2892642289400101\n",
            "ACCURACY 0.91\n",
            "\n",
            "Epoch: 18\n",
            "LOSS 0.28602497968822715\n",
            "ACCURACY 0.88\n",
            "\n",
            "Epoch: 19\n",
            "LOSS 0.26392275262624026\n",
            "ACCURACY 0.94\n",
            "\n",
            "Epoch: 20\n",
            "LOSS 0.35418217405676844\n",
            "ACCURACY 0.91\n",
            "\n",
            "Epoch: 21\n",
            "LOSS 0.30699719302356243\n",
            "ACCURACY 0.89\n",
            "\n",
            "Epoch: 22\n",
            "LOSS 0.24877746105194093\n",
            "ACCURACY 0.91\n",
            "\n",
            "Epoch: 23\n",
            "LOSS 0.16609598323702812\n",
            "ACCURACY 0.95\n",
            "\n",
            "Epoch: 24\n",
            "LOSS 0.2010015146806836\n",
            "ACCURACY 0.92\n",
            "\n",
            "Epoch: 25\n",
            "LOSS 0.2949745861813426\n",
            "ACCURACY 0.9\n",
            "\n",
            "Epoch: 26\n",
            "LOSS 0.16765049006789923\n",
            "ACCURACY 0.93\n",
            "\n",
            "Epoch: 27\n",
            "LOSS 0.1814687630161643\n",
            "ACCURACY 0.94\n",
            "\n",
            "Epoch: 28\n",
            "LOSS 0.33577166981995105\n",
            "ACCURACY 0.91\n",
            "\n",
            "Epoch: 29\n",
            "LOSS 0.3002394167415332\n",
            "ACCURACY 0.92\n"
          ],
          "name": "stdout"
        }
      ]
    },
    {
      "cell_type": "code",
      "metadata": {
        "colab": {
          "base_uri": "https://localhost:8080/"
        },
        "id": "BgGMXgCWOuJR",
        "outputId": "8748ab17-b49f-419c-e7d7-f6b091931579"
      },
      "source": [
        "# Test the model\n",
        "test(vgg16.to(device),testloaderVGG,criterion)"
      ],
      "execution_count": 20,
      "outputs": [
        {
          "output_type": "stream",
          "text": [
            "LOSS 1.590111572727561\n",
            "ACCURACY 0.6027\n"
          ],
          "name": "stdout"
        }
      ]
    },
    {
      "cell_type": "markdown",
      "metadata": {
        "id": "7PhwzLW9c4oS"
      },
      "source": [
        "| Model | Number of  epochs  | Train accuracy | Test accuracy |\n",
        "|------|------|------|------|\n",
        "|   VGG16  | 20 | 0.92 | 0.596 |\n",
        "|   VGG16  | 30 | 0.92 | 0.60 |"
      ]
    },
    {
      "cell_type": "markdown",
      "metadata": {
        "id": "H7ZokPyh1UQg"
      },
      "source": [
        "# Incorporating *a priori*\n",
        "Geometrical *a priori* are appealing for image classification tasks. For now, we only consider linear transformations $\\mathcal{T}$ of the inputs $x:\\mathbb{S}^2\\rightarrow\\mathbb{R}$ where $\\mathbb{S}$ is the support of an image, meaning that:\n",
        "\n",
        "$$\\forall u\\in\\mathbb{S}^2,\\mathcal{T}(\\lambda x+\\mu y)(u)=\\lambda \\mathcal{T}(x)(u)+\\mu \\mathcal{T}(y)(u)\\,.$$\n",
        "\n",
        "For instance if an image had an infinite support, a translation $\\mathcal{T}_a$ by $a$ would lead to:\n",
        "\n",
        "$$\\forall u, \\mathcal{T}_a(x)(u)=x(u-a)\\,.$$\n",
        "\n",
        "Otherwise, one has to handle several boundary effects.\n",
        "\n",
        "__Question 5 (1.5 points):__ Explain the issues when dealing with translations, rotations, scaling effects, color changes on $32\\times32$ images. Propose several ideas to tackle them."
      ]
    },
    {
      "cell_type": "markdown",
      "metadata": {
        "id": "7DEgNSEc1UQg"
      },
      "source": [
        "In the case of 32x32 images the resolution is so low that we rapidly encounter boundary effect. \n",
        "\n",
        "One way to preserve information while doing augmentation could be to use a padding strategy so that the translation rotation and scale could properly be applied near the border of the image. \n",
        "\n",
        "One another way could be to apply transformation to random crop of the upsample image\n",
        "\n",
        "I chose to implement a reflection padding. "
      ]
    },
    {
      "cell_type": "markdown",
      "metadata": {
        "id": "tr2WCCP11UQh"
      },
      "source": [
        "## Data augmentations"
      ]
    },
    {
      "cell_type": "markdown",
      "metadata": {
        "id": "N_9HCv021UQh"
      },
      "source": [
        "__Question 6 (3 points):__ Propose a set of geometric transformation beyond translation, and incorporate them in your training pipeline. Train the model of the __Question 3__ with them and report the accuracies."
      ]
    },
    {
      "cell_type": "code",
      "metadata": {
        "collapsed": true,
        "id": "pzc8Yzsu1UQi"
      },
      "source": [
        "# Definition of data augmentations\n",
        "augmentation_train_transforms =  transforms.Compose([\n",
        "        #transforms.Resize(64),\n",
        "        transforms.Pad(5,padding_mode=\"reflect\"),\n",
        "        transforms.RandomHorizontalFlip(),\n",
        "        transforms.RandomAffine(degrees=5,translate=(0.2,0.2),scale=(0.8,1.2)),\n",
        "        #transforms.ColorJitter(),\n",
        "        #transforms.RandomCrop(32),\n",
        "        transforms.ToTensor(),\n",
        "        transforms.Normalize((0.5, 0.5, 0.5), (0.5, 0.5, 0.5))  ,\n",
        "    ])"
      ],
      "execution_count": 22,
      "outputs": []
    },
    {
      "cell_type": "code",
      "metadata": {
        "colab": {
          "base_uri": "https://localhost:8080/",
          "height": 454
        },
        "id": "5F19BXAoXTa7",
        "outputId": "f89e3f7d-44e1-42b3-9aee-565cb1c8fb45"
      },
      "source": [
        "# Creation of augmented train dataset\n",
        "\n",
        "trainset_augmented = CIFAR10(root='./data', train=True,download=True, transform=augmentation_train_transforms,N=100)\n",
        "trainloader_augmented = torch.utils.data.DataLoader(trainset_augmented, batch_size=10,shuffle=True, num_workers=2)"
      ],
      "execution_count": 23,
      "outputs": [
        {
          "output_type": "stream",
          "text": [
            "Files already downloaded and verified\n",
            "ORIGINAL SHAPE OF DATASET\n",
            "IMG (50000, 32, 32, 3)\n",
            "TARGET 50000\n",
            "NEW SHAPE OF DATASET\n",
            "IMG (100, 32, 32, 3)\n",
            "TARGET 100\n"
          ],
          "name": "stdout"
        },
        {
          "output_type": "stream",
          "text": [
            "/usr/local/lib/python3.7/dist-packages/seaborn/_decorators.py:43: FutureWarning: Pass the following variable as a keyword arg: x. From version 0.12, the only valid positional argument will be `data`, and passing other arguments without an explicit keyword will result in an error or misinterpretation.\n",
            "  FutureWarning\n"
          ],
          "name": "stderr"
        },
        {
          "output_type": "display_data",
          "data": {
            "image/png": "[encoded data removed]",
            "text/plain": [
              "<Figure size 432x288 with 1 Axes>"
            ]
          },
          "metadata": {
            "tags": [],
            "needs_background": "light"
          }
        }
      ]
    },
    {
      "cell_type": "code",
      "metadata": {
        "id": "bVO1oOy4XprA"
      },
      "source": [
        "# Model initialisation\n",
        "ResNet18_ = ResNet18().to(device)\n",
        "criterion = nn.CrossEntropyLoss()\n",
        "optimizer = optim.Adam(ResNet18_.parameters())"
      ],
      "execution_count": 31,
      "outputs": []
    },
    {
      "cell_type": "code",
      "metadata": {
        "colab": {
          "base_uri": "https://localhost:8080/"
        },
        "id": "IXf108vtXwhW",
        "outputId": "04e2c950-4261-43f2-b9a0-3287930573c6"
      },
      "source": [
        "# Train the model\n",
        "for epoch in range(0, 50):\n",
        "    train(epoch,ResNet18_,trainloader_augmented, criterion,optimizer)"
      ],
      "execution_count": 32,
      "outputs": [
        {
          "output_type": "stream",
          "text": [
            "\n",
            "Epoch: 0\n",
            "LOSS 2.917949652671814\n",
            "ACCURACY 0.11\n",
            "\n",
            "Epoch: 1\n",
            "LOSS 2.3292946219444275\n",
            "ACCURACY 0.15\n",
            "\n",
            "Epoch: 2\n",
            "LOSS 2.276394283771515\n",
            "ACCURACY 0.15\n",
            "\n",
            "Epoch: 3\n",
            "LOSS 2.317522978782654\n",
            "ACCURACY 0.13\n",
            "\n",
            "Epoch: 4\n",
            "LOSS 2.0254823565483093\n",
            "ACCURACY 0.21\n",
            "\n",
            "Epoch: 5\n",
            "LOSS 2.0158523082733155\n",
            "ACCURACY 0.22\n",
            "\n",
            "Epoch: 6\n",
            "LOSS 1.9580332279205321\n",
            "ACCURACY 0.24\n",
            "\n",
            "Epoch: 7\n",
            "LOSS 2.055585479736328\n",
            "ACCURACY 0.24\n",
            "\n",
            "Epoch: 8\n",
            "LOSS 1.923242175579071\n",
            "ACCURACY 0.26\n",
            "\n",
            "Epoch: 9\n",
            "LOSS 1.921143889427185\n",
            "ACCURACY 0.33\n",
            "\n",
            "Epoch: 10\n",
            "LOSS 1.8502428531646729\n",
            "ACCURACY 0.33\n",
            "\n",
            "Epoch: 11\n",
            "LOSS 1.9044936656951905\n",
            "ACCURACY 0.28\n",
            "\n",
            "Epoch: 12\n",
            "LOSS 1.9283490538597108\n",
            "ACCURACY 0.3\n",
            "\n",
            "Epoch: 13\n",
            "LOSS 1.8260382056236266\n",
            "ACCURACY 0.3\n",
            "\n",
            "Epoch: 14\n",
            "LOSS 1.9676867365837096\n",
            "ACCURACY 0.3\n",
            "\n",
            "Epoch: 15\n",
            "LOSS 1.7160832166671753\n",
            "ACCURACY 0.39\n",
            "\n",
            "Epoch: 16\n",
            "LOSS 1.7540851354598999\n",
            "ACCURACY 0.38\n",
            "\n",
            "Epoch: 17\n",
            "LOSS 1.8413870811462403\n",
            "ACCURACY 0.29\n",
            "\n",
            "Epoch: 18\n",
            "LOSS 1.867654848098755\n",
            "ACCURACY 0.32\n",
            "\n",
            "Epoch: 19\n",
            "LOSS 1.6285925149917602\n",
            "ACCURACY 0.46\n",
            "\n",
            "Epoch: 20\n",
            "LOSS 1.5822775840759278\n",
            "ACCURACY 0.44\n",
            "\n",
            "Epoch: 21\n",
            "LOSS 1.6489977717399598\n",
            "ACCURACY 0.38\n",
            "\n",
            "Epoch: 22\n",
            "LOSS 1.719744038581848\n",
            "ACCURACY 0.4\n",
            "\n",
            "Epoch: 23\n",
            "LOSS 1.4761625051498413\n",
            "ACCURACY 0.52\n",
            "\n",
            "Epoch: 24\n",
            "LOSS 1.4711910724639892\n",
            "ACCURACY 0.46\n",
            "\n",
            "Epoch: 25\n",
            "LOSS 1.6573615074157715\n",
            "ACCURACY 0.38\n",
            "\n",
            "Epoch: 26\n",
            "LOSS 1.4950411081314088\n",
            "ACCURACY 0.54\n",
            "\n",
            "Epoch: 27\n",
            "LOSS 1.4615289568901062\n",
            "ACCURACY 0.46\n",
            "\n",
            "Epoch: 28\n",
            "LOSS 1.5203783810138702\n",
            "ACCURACY 0.45\n",
            "\n",
            "Epoch: 29\n",
            "LOSS 1.4646719217300415\n",
            "ACCURACY 0.48\n",
            "\n",
            "Epoch: 30\n",
            "LOSS 1.481920075416565\n",
            "ACCURACY 0.46\n",
            "\n",
            "Epoch: 31\n",
            "LOSS 1.346629613637924\n",
            "ACCURACY 0.51\n",
            "\n",
            "Epoch: 32\n",
            "LOSS 1.37017023563385\n",
            "ACCURACY 0.49\n",
            "\n",
            "Epoch: 33\n",
            "LOSS 1.4226304769515992\n",
            "ACCURACY 0.45\n",
            "\n",
            "Epoch: 34\n",
            "LOSS 1.2944195091724395\n",
            "ACCURACY 0.48\n",
            "\n",
            "Epoch: 35\n",
            "LOSS 1.2407129526138305\n",
            "ACCURACY 0.58\n",
            "\n",
            "Epoch: 36\n",
            "LOSS 1.4097838938236236\n",
            "ACCURACY 0.48\n",
            "\n",
            "Epoch: 37\n",
            "LOSS 1.370496964454651\n",
            "ACCURACY 0.57\n",
            "\n",
            "Epoch: 38\n",
            "LOSS 1.392151427268982\n",
            "ACCURACY 0.53\n",
            "\n",
            "Epoch: 39\n",
            "LOSS 1.41494477391243\n",
            "ACCURACY 0.5\n",
            "\n",
            "Epoch: 40\n",
            "LOSS 1.0602429509162903\n",
            "ACCURACY 0.63\n",
            "\n",
            "Epoch: 41\n",
            "LOSS 1.4011862218379973\n",
            "ACCURACY 0.51\n",
            "\n",
            "Epoch: 42\n",
            "LOSS 1.439289742708206\n",
            "ACCURACY 0.42\n",
            "\n",
            "Epoch: 43\n",
            "LOSS 1.383577924966812\n",
            "ACCURACY 0.55\n",
            "\n",
            "Epoch: 44\n",
            "LOSS 1.1182330250740051\n",
            "ACCURACY 0.62\n",
            "\n",
            "Epoch: 45\n",
            "LOSS 1.0485204339027405\n",
            "ACCURACY 0.61\n",
            "\n",
            "Epoch: 46\n",
            "LOSS 1.1371583700180055\n",
            "ACCURACY 0.55\n",
            "\n",
            "Epoch: 47\n",
            "LOSS 1.0823132514953613\n",
            "ACCURACY 0.62\n",
            "\n",
            "Epoch: 48\n",
            "LOSS 1.2489612102508545\n",
            "ACCURACY 0.56\n",
            "\n",
            "Epoch: 49\n",
            "LOSS 1.2492073118686675\n",
            "ACCURACY 0.57\n"
          ],
          "name": "stdout"
        }
      ]
    },
    {
      "cell_type": "code",
      "metadata": {
        "colab": {
          "base_uri": "https://localhost:8080/"
        },
        "id": "bvUdOf3hrH46",
        "outputId": "98930041-48a5-46cd-d1c6-b21bbc72f423"
      },
      "source": [
        "# Test the model\n",
        "\n",
        "test(ResNet18_.to(device),testloader,criterion)"
      ],
      "execution_count": 34,
      "outputs": [
        {
          "output_type": "stream",
          "text": [
            "LOSS 3.7528221527338026\n",
            "ACCURACY 0.2292\n"
          ],
          "name": "stdout"
        }
      ]
    },
    {
      "cell_type": "markdown",
      "metadata": {
        "id": "TZp-Z8p_s0Q7"
      },
      "source": [
        "| Model | Number of  epochs  | Train accuracy | Test accuracy |\n",
        "|------|------|------|------|\n",
        "|   RESNET18  | 30 | 0.53 | 0.22 |\n",
        "|   RESNET18  | 50 | 0.57 | 0.23 |"
      ]
    },
    {
      "cell_type": "markdown",
      "metadata": {
        "id": "t9b8E9u-1UQi"
      },
      "source": [
        "# Conclusions"
      ]
    },
    {
      "cell_type": "markdown",
      "metadata": {
        "id": "PVqIftik1UQj"
      },
      "source": [
        "__Question 7 (5 points):__ Write a short report explaining the pros and the cons of each methods that you implemented. 25% of the grade of this project will correspond to this question, thus, it should be done carefully. In particular, please add a plot that will summarize all your numerical results."
      ]
    },
    {
      "cell_type": "markdown",
      "metadata": {
        "id": "MZCgxvme01mb"
      },
      "source": [
        "__Response 7:__"
      ]
    },
    {
      "cell_type": "markdown",
      "metadata": {
        "id": "Ve1LczXv1UQj"
      },
      "source": [
        "1) Vanilla Resnet Architecture\n",
        "\n",
        "This method is easy to implement but provides poor results. The accuracy accuracy barely exceeds 20%. Because of the lack of data the model quickly overfit and thus it makes no sense to add more epochs. We are limited by the available amount of data. This method would be suitable if we use X instead of Xtrain. \n",
        "\n",
        "2) Pretrained Resnet \n",
        "\n",
        "Fine tuning a pre trained model is really powerful. We avoid the learning of the feature extraction part and only train a classifier on our own dataset using the already learnt feature. With more computational power we could have retrained some deeper block of the VGG model to get better results. Nonetheless we can already notice improvement on the results compared with the vanilla architecture. This method helps the model to converge faster, this is useful in our case as we don’t have much data. However this method implies that the pretraining is somewhat related with our current task which is here reasonable to assume.\n",
        "\n",
        "3) Data augmentation \n",
        "\n",
        "Data augmentation can be easily done on the fly  with pytorch  with the data loader object. It helps increase artificially the number of samples in the dataset. However geometric augmentation is not always meaningful especially in small images like CIFAR10 ones. The results might be noisy and mislead the model. When designing the transformation one has to be aware of the resulting images. If a transformation results in a nonsense sample ( such as a blue cat upside down with a height scale by 30 and a width scale by 0.01) the augmented data will be of no help and will mislead the model. Nonetheless when done properly data augmentation has proven to provide better results and give more generalisation power to the model. However in our case, I have not found any data augmentation that could lead to significantly better results.\n"
      ]
    }
  ]
}