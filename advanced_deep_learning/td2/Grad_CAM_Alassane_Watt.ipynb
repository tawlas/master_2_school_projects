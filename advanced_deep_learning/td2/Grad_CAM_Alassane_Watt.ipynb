{
 "cells": [
  {
   "cell_type": "markdown",
   "metadata": {},
   "source": [
    "## Visualization of CNN: Grad-CAM\n",
    "* **Objective**: Convolutional Neural Networks are widely used on computer vision. It is powerful for processing grid-like data. However we hardly know how and why it works, due to the lack of decomposability into individually intuitive components. In this assignment, we will introduce the Grad-CAM which visualizes the heatmap of input images by highlighting the important region for visual question answering(VQA) task.\n",
    "\n",
    "* **To be submitted**: this notebook in two weeks, **cleaned** (i.e. without results, for file size reasons: `menu > kernel > restart and clean`), in a state ready to be executed (if one just presses 'Enter' till the end, one should obtain all the results for all images) with a few comments at the end. No additional report, just the notebook!\n",
    "\n",
    "* NB: if `PIL` is not installed, try `conda install pillow`.\n"
   ]
  },
  {
   "cell_type": "code",
   "execution_count": null,
   "metadata": {},
   "outputs": [],
   "source": [
    "import torch\n",
    "import torch.nn as nn\n",
    "import torch.nn.functional as F\n",
    "import numpy as np\n",
    "\n",
    "import torchvision.transforms as transforms\n",
    "from PIL import Image\n",
    "import cv2\n",
    "\n",
    "import warnings\n",
    "import matplotlib.pyplot as plt\n",
    "warnings.filterwarnings('ignore')\n",
    "\n",
    "device = torch.device(\"cuda\" if torch.cuda.is_available() else \"cpu\")"
   ]
  },
  {
   "cell_type": "markdown",
   "metadata": {},
   "source": [
    "### Visual Question Answering problem\n",
    "Given an image and a question in natural language, the model choose the most likely answer from 3 000 classes according to the content of image. The VQA task is indeed a multi-classificaition problem.\n",
    "<img src=\"vqa_model.PNG\">\n",
    "\n",
    "We provide you a pretrained model `vqa_resnet` for VQA tasks."
   ]
  },
  {
   "cell_type": "code",
   "execution_count": null,
   "metadata": {},
   "outputs": [],
   "source": [
    "# load model\n",
    "from load_model import load_model\n",
    "vqa_resnet = load_model()"
   ]
  },
  {
   "cell_type": "code",
   "execution_count": null,
   "metadata": {},
   "outputs": [],
   "source": [
    "# print(vqa_resnet) # for more information "
   ]
  },
  {
   "cell_type": "code",
   "execution_count": null,
   "metadata": {},
   "outputs": [],
   "source": [
    "checkpoint = '2017-08-04_00.55.19.pth'\n",
    "saved_state = torch.load(checkpoint, map_location=device)\n",
    "# reading vocabulary from saved model\n",
    "vocab = saved_state['vocab']\n",
    "\n",
    "# reading word tokens from saved model\n",
    "token_to_index = vocab['question']\n",
    "\n",
    "# reading answers from saved model\n",
    "answer_to_index = vocab['answer']\n",
    "\n",
    "num_tokens = len(token_to_index) + 1\n",
    "\n",
    "# reading answer classes from the vocabulary\n",
    "answer_words = ['unk'] * len(answer_to_index)\n",
    "for w, idx in answer_to_index.items():\n",
    "    answer_words[idx]=w"
   ]
  },
  {
   "cell_type": "markdown",
   "metadata": {},
   "source": [
    "### Inputs\n",
    "In order to use the pretrained model, the input image should be normalized using `mean = [0.485, 0.456, 0.406]`, and `std = [0.229, 0.224, 0.225]`, and be resized as `(448, 448)`. You can call the function `image_to_features` to achieve image preprocessing. For input question, the function `encode_question` is provided to encode the question into a vector of indices. You can also use `preprocess` function for both image and question preprocessing."
   ]
  },
  {
   "cell_type": "code",
   "execution_count": null,
   "metadata": {},
   "outputs": [],
   "source": [
    "def get_transform(target_size, central_fraction=1.0):\n",
    "    return transforms.Compose([\n",
    "        transforms.Scale(int(target_size / central_fraction)),\n",
    "        transforms.CenterCrop(target_size),\n",
    "        transforms.ToTensor(),\n",
    "        transforms.Normalize(mean=[0.485, 0.456, 0.406],\n",
    "                             std=[0.229, 0.224, 0.225]),\n",
    "    ])"
   ]
  },
  {
   "cell_type": "code",
   "execution_count": null,
   "metadata": {},
   "outputs": [],
   "source": [
    "def encode_question(question):\n",
    "    \"\"\" Turn a question into a vector of indices and a question length \"\"\"\n",
    "    question_arr = question.lower().split()\n",
    "    vec = torch.zeros(len(question_arr), device=device).long()\n",
    "    for i, token in enumerate(question_arr):\n",
    "        index = token_to_index.get(token, 0)\n",
    "        vec[i] = index\n",
    "    return vec, torch.tensor(len(question_arr), device=device)"
   ]
  },
  {
   "cell_type": "code",
   "execution_count": null,
   "metadata": {},
   "outputs": [],
   "source": [
    "# preprocess requires the dir_path of an image and the associated question. \n",
    "#It returns the spectific input form which can be used directly by vqa model. \n",
    "def preprocess(dir_path, question):\n",
    "    q, q_len = encode_question(question)\n",
    "    img = Image.open(dir_path).convert('RGB')\n",
    "    image_size = 448  # scale image to given size and center\n",
    "    central_fraction = 1.0\n",
    "    transform = get_transform(image_size, central_fraction=central_fraction)\n",
    "    img_transformed = transform(img)\n",
    "    img_features = img_transformed.unsqueeze(0).to(device)\n",
    "    \n",
    "    inputs = (img_features, q.unsqueeze(0), q_len.unsqueeze(0))\n",
    "    return inputs"
   ]
  },
  {
   "cell_type": "markdown",
   "metadata": {},
   "source": [
    "We provide you two pictures and some question-answers."
   ]
  },
  {
   "cell_type": "code",
   "execution_count": null,
   "metadata": {},
   "outputs": [],
   "source": [
    "Question1 = 'What animal'\n",
    "Answer1 = ['dog','cat' ]\n",
    "indices1 = [answer_to_index[ans] for ans in Answer1]# The indices of category \n",
    "img1 = Image.open('dog_cat.png')\n",
    "img1"
   ]
  },
  {
   "cell_type": "code",
   "execution_count": null,
   "metadata": {},
   "outputs": [],
   "source": [
    "dir_path = 'dog_cat.png' \n",
    "inputs = preprocess(dir_path, Question1)\n",
    "ans = vqa_resnet(*inputs) # use model to predict the answer\n",
    "answer_idx = np.argmax(F.softmax(ans, dim=1).data.numpy())\n",
    "print(answer_words[answer_idx])"
   ]
  },
  {
   "cell_type": "code",
   "execution_count": null,
   "metadata": {},
   "outputs": [],
   "source": [
    "Question2 = 'What color'\n",
    "Answer2 = ['green','yellow' ]\n",
    "indices2 = [answer_to_index[ans] for ans in Answer2]\n",
    "img2 = Image.open('hydrant.png')\n",
    "img2"
   ]
  },
  {
   "cell_type": "code",
   "execution_count": null,
   "metadata": {},
   "outputs": [],
   "source": [
    "dir_path = 'hydrant.png' \n",
    "inputs = preprocess(dir_path, Question2)\n",
    "ans = vqa_resnet(*inputs) # use model to predict the answer\n",
    "answer_idx = np.argmax(F.softmax(ans, dim=1).data.numpy())\n",
    "print(answer_words[answer_idx])"
   ]
  },
  {
   "cell_type": "markdown",
   "metadata": {},
   "source": [
    "### Grad-CAM \n",
    "* **Overview:** Given an image with a question, and a category (‘dog’) as input, we foward propagate the image through the model to obtain the `raw class scores` before softmax. The gradients are set to zero for all classes except the desired class (dog), which is set to 1. This signal is then backpropagated to the `rectified convolutional feature map` of interest, where we can compute the coarse Grad-CAM localization (blue heatmap).\n",
    "\n",
    "\n",
    "* **To Do**: Define your own function Grad_CAM to achieve the visualization of the two images. For each image, consider the answers we provided as the desired classes. Compare the heatmaps of different answers, and conclude. \n",
    "\n",
    "\n",
    "* **Hints**: \n",
    " + We need to record the output and grad_output of the feature maps to achieve Grad-CAM. In pytorch, the function `Hook` is defined for this purpose. Read the tutorial of [hook](https://pytorch.org/tutorials/beginner/former_torchies/nnft_tutorial.html#forward-and-backward-function-hooks) carefully. \n",
    " + The pretrained model `vqa_resnet` doesn't have the activation function after its last layer, the output is indeed the `raw class scores`, you can use it directly. Run \"print(vqa_resnet)\" to get more information on VGG model.\n",
    " + The last CNN layer of the model is: `vqa_resnet.resnet_layer4.r_model.layer4[2].conv3` \n",
    " + The size of feature maps is 14x14, so as your heatmap. You need to project the heatmap to the original image(224x224) to have a better observation. The function `cv2.resize()` may help.  \n",
    " + Here is the link of the paper [Grad-CAM: Visual Explanations from Deep Networks via Gradient-based Localization](https://arxiv.org/pdf/1610.02391.pdf)"
   ]
  },
  {
   "cell_type": "markdown",
   "metadata": {},
   "source": [
    "<img src=\"grad_cam.png\">"
   ]
  },
  {
   "cell_type": "code",
   "execution_count": null,
   "metadata": {},
   "outputs": [],
   "source": [
    "class Grad_Cam(nn.Module):\n",
    "    def __init__(self, vqa_resnet):\n",
    "        super().__init__()\n",
    "        \n",
    "        # get the pretrained VGG19 network\n",
    "        self.vqa_resnet = vqa_resnet\n",
    "        self.vqa_resnet.resnet_layer4.r_model.layer4[2].conv3.register_forward_hook(self.forward_hook)\n",
    "        self.vqa_resnet.resnet_layer4.r_model.layer4[2].conv3.register_backward_hook(self.backward_hook)\n",
    "        \n",
    "        self.gradients = None\n",
    "        self.activations = None\n",
    "    \n",
    "    # hook for the last convolutional layer activations\n",
    "    def forward_hook(self, layer, input, output):\n",
    "        self.activations = output[0]\n",
    "    # hook for the gradients of the activations\n",
    "    def backward_hook(self, layer, grad_input, grad_output):\n",
    "        self.gradients = grad_output[0]\n",
    "\n",
    "    def forward(self, inputs):\n",
    "        x = self.vqa_resnet(*inputs)\n",
    "        return x\n",
    "    \n",
    "    # method for the gradient extraction\n",
    "    def get_activations_gradient(self):\n",
    "        return self.gradients\n",
    "    \n",
    "    # method for the activation extraction\n",
    "    def get_activations(self):\n",
    "        return self.activations\n",
    "    \n",
    "    \n",
    "    def compute_heatmap(self, *inputs, i):\n",
    "        img_features, q, q_len = inputs\n",
    "        \n",
    "        ans = self.vqa_resnet(*inputs)\n",
    "        yc = ans[:, i]\n",
    "        yc.backward()\n",
    "        \n",
    "        activations = self.get_activations().detach()\n",
    "        activations = torch.unsqueeze(activations, 0)\n",
    "        gradients = self.get_activations_gradient()\n",
    "        pooled_gradients = torch.mean(gradients, dim=[0, 2, 3])\n",
    "        for i in range(activations.shape[1]):\n",
    "            activations[:, i, :, :] *= pooled_gradients[i]\n",
    "        \n",
    "        heatmap = torch.mean(activations, dim=1).squeeze()\n",
    "        heatmap = np.maximum(heatmap, 0) # relu on top of the heatmap\n",
    "        heatmap /= torch.max(heatmap) # normalize the heatmap\n",
    "\n",
    "        return heatmap"
   ]
  },
  {
   "cell_type": "code",
   "execution_count": null,
   "metadata": {},
   "outputs": [],
   "source": [
    "gc = Grad_Cam(vqa_resnet)"
   ]
  },
  {
   "cell_type": "markdown",
   "metadata": {},
   "source": [
    "__Question 1:__"
   ]
  },
  {
   "cell_type": "code",
   "execution_count": null,
   "metadata": {},
   "outputs": [],
   "source": [
    "dir_path = 'dog_cat.png' \n",
    "inputs = preprocess(dir_path, Question1)\n",
    "heatmap1 = gc.compute_heatmap(*inputs,i=indices1[0])\n",
    "heatmap2 = gc.compute_heatmap(*inputs,i=indices1[1])\n",
    "\n",
    "heatmap1 = (np.array(heatmap1))\n",
    "heatmap1 = cv2.resize(heatmap1, (224,224), interpolation = cv2.INTER_AREA)\n",
    "\n",
    "heatmap2 = (np.array(heatmap2))\n",
    "heatmap2 = cv2.resize(heatmap2, (224,224), interpolation = cv2.INTER_AREA)\n",
    "\n",
    "plt.figure( figsize=(10,10))\n",
    "plt.subplot(1,2,1)\n",
    "plt.title(\"Answer for 'dog'\")\n",
    "plt.imshow(img1)\n",
    "plt.imshow(heatmap1,alpha=0.4)\n",
    "\n",
    "plt.subplot(1,2,2)\n",
    "plt.title(\"Answer for 'cat'\")\n",
    "plt.imshow(img1)\n",
    "plt.imshow(heatmap2,alpha=0.4)"
   ]
  },
  {
   "cell_type": "markdown",
   "metadata": {},
   "source": [
    "__Question 2__"
   ]
  },
  {
   "cell_type": "code",
   "execution_count": null,
   "metadata": {},
   "outputs": [],
   "source": [
    "dir_path = 'hydrant.png' \n",
    "inputs = preprocess(dir_path, Question2)\n",
    "heatmap1 = gc.compute_heatmap(*inputs,i=indices2[0])\n",
    "heatmap2 = gc.compute_heatmap(*inputs,i=indices2[1])\n",
    "\n",
    "heatmap1 = (np.array(heatmap1))\n",
    "heatmap1 = cv2.resize(heatmap1, (224,224), interpolation = cv2.INTER_AREA)\n",
    "\n",
    "heatmap2 = (np.array(heatmap2))\n",
    "heatmap2 = cv2.resize(heatmap2, (224,224), interpolation = cv2.INTER_AREA)\n",
    "\n",
    "plt.figure( figsize=(10,10))\n",
    "plt.subplot(1,2,1)\n",
    "plt.title(\"Answer for 'green'\")\n",
    "plt.imshow(img2)\n",
    "plt.imshow(heatmap1,alpha=0.4)\n",
    "\n",
    "plt.subplot(1,2,2)\n",
    "plt.title(\"Answer for 'yellow'\")\n",
    "plt.imshow(img2)\n",
    "plt.imshow(heatmap2,alpha=0.4)"
   ]
  },
  {
   "cell_type": "markdown",
   "metadata": {},
   "source": [
    "__Conclusion__"
   ]
  },
  {
   "cell_type": "markdown",
   "metadata": {},
   "source": [
    "Gradcam is a method explaining the decisions of a neural network without additional training. In our examples, The region responsible of classifying well our models are highlighted. However, we think there is room for improvement as all the pixel dictating a given pertaining class are not covered."
   ]
  },
  {
   "cell_type": "code",
   "execution_count": null,
   "metadata": {},
   "outputs": [],
   "source": []
  }
 ],
 "metadata": {
  "kernelspec": {
   "display_name": "Python 3",
   "language": "python",
   "name": "python3"
  },
  "language_info": {
   "codemirror_mode": {
    "name": "ipython",
    "version": 3
   },
   "file_extension": ".py",
   "mimetype": "text/x-python",
   "name": "python",
   "nbconvert_exporter": "python",
   "pygments_lexer": "ipython3",
   "version": "3.7.3"
  }
 },
 "nbformat": 4,
 "nbformat_minor": 2
}
