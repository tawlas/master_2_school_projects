{
 "cells": [
  {
   "cell_type": "markdown",
   "metadata": {},
   "source": [
    "# Practical Session 3 "
   ]
  },
  {
   "cell_type": "code",
   "execution_count": 2,
   "metadata": {},
   "outputs": [],
   "source": [
    "import numpy as np\n",
    "import matplotlib.pyplot as plt\n",
    "from matplotlib.ticker import FuncFormatter\n",
    "from copy import deepcopy\n",
    "\n",
    "from tictactoe_env import TicTacToeEnv, DRAW\n",
    "from utils import play, Agent, agent_vs_agent\n",
    "\n",
    "from forban import *\n",
    "from forban.bandits import NormalBandit, Normal\n",
    "from forban.sequentialg import SequentiAlg\n",
    "from forban.utils import *"
   ]
  },
  {
   "cell_type": "markdown",
   "metadata": {},
   "source": [
    "# Part I - Best Arm Identification"
   ]
  },
  {
   "cell_type": "markdown",
   "metadata": {},
   "source": [
    "### Question 0\n",
    "\n",
    "Recall the `forban` module."
   ]
  },
  {
   "cell_type": "markdown",
   "metadata": {},
   "source": [
    "### Question 1\n",
    "\n",
    "What are the three main parts of an exploration algorithm that aims to identify the best arm (*i.e.*, the arm having the largest mean)."
   ]
  },
  {
   "cell_type": "markdown",
   "metadata": {},
   "source": [
    "### Exploration class template"
   ]
  },
  {
   "cell_type": "code",
   "execution_count": null,
   "metadata": {},
   "outputs": [],
   "source": [
    "class Exploration(SequentiAlg):\n",
    "    def __init__(self, bandit, name=\"Exploration\", params={'init': 0, 'stoping criterion': None }):\n",
    "        SequentiAlg.__init__(self, bandit, name=name, params=params)\n",
    "        self.stoping_criterion = params['stoping criterion']\n",
    "        \n",
    "    def compute_indices(self):\n",
    "        pass\n",
    "            \n",
    "    def choose_an_arm(self):\n",
    "        return randamax(self.indices)\n",
    "    \n",
    "    def sampling(self):\n",
    "        _ = self.pull(self.choose_an_arm())\n",
    "    \n",
    "    def recommendation(self):\n",
    "        pass\n",
    "    \n",
    "    def stop(self):\n",
    "        pass\n",
    "    \n",
    "    def run(self):\n",
    "        while not self.stop():\n",
    "            self.sampling()\n",
    "            self.recommendation()\n",
    "            \n",
    "    def fit(self, experiment, reset=True):\n",
    "        if reset:\n",
    "            self.reset()\n",
    "        self.run()\n",
    "        arm = self.recommendation()\n",
    "        r = self.bandit.regrets[arms]\n",
    "        experiment(arm, r)"
   ]
  },
  {
   "cell_type": "code",
   "execution_count": null,
   "metadata": {},
   "outputs": [],
   "source": [
    "########################################\n",
    "#             Experiments              #\n",
    "########################################\n",
    "\n",
    "class Experiment:\n",
    "    def __init__(self, sequential_algorithms, bandit,\n",
    "                 statistics={'distance':True, 'proba':True}):\n",
    "        assert len(sequential_algorithms) > 0\n",
    "        self.algorithms = sequential_algorithms\n",
    "        self.bandit = bandit\n",
    "        self.nbr_algo = len(sequential_algorithms)\n",
    "        self.algo_idx = 0\n",
    "        self.statistics = {}\n",
    "        self.nbr_exp = None\n",
    "        for algo_idx, algo in enumerate(self.algorithms):\n",
    "            self.statistics[algo_idx] = {'name': algo.name}\n",
    "            for s in statistics.items():\n",
    "                if s[1]:\n",
    "                    self.statistics[algo_idx][s[0]] = None\n",
    "        stats = self.statistics[0].keys()\n",
    "        self.stats = stats\n",
    "        \n",
    "    def __call__(self, arm, r):\n",
    "        self.reco_arm = arm\n",
    "        self.delta = r\n",
    "\n",
    "    def run(self, nbr_exp=500):\n",
    "        self.nbr_exp = nbr_exp\n",
    "        for algo_idx, algo in enumerate(self.algorithms):\n",
    "            reco_arms = np.zeros(nbr_exp, int)\n",
    "            delta = np.zeros(nbr_exp)\n",
    "            for i in range(nbr_exp):\n",
    "                \n",
    "                algo.fit(horizon, experiment=self)\n",
    "                \n",
    "                reco_arms[i] = self.reco_arm\n",
    "                delta[i] = self.delta\n",
    "            \n",
    "            for k in self.stats:\n",
    "                if k == 'distance':\n",
    "                    self.statistics[algo_idx][k] = delta.copy()\n",
    "                elif k == 'proba':\n",
    "                    self.statistics[algo_idx][k] = reco_arm.copy()\n",
    "                    \n",
    "    def plot(self):\n",
    "        exp_info = f\"Nbr. of experiments = {self.nbr_exp}\"\n",
    "        ticks = np.arange(self.bandit.nbr_arms)\n",
    "        if 'proba' in self.stats:\n",
    "            plt.figure(figsize=(12,5))\n",
    "            title = \"Histogram of recommendation\\n\"\n",
    "            title += exp_info\n",
    "            plt.title(title)\n",
    "            plt.xlabel(\"Arms\", fontsize=14)\n",
    "            for algo_stats in self.statistics.values():\n",
    "                name = algo_stats['name']\n",
    "                delta = algo_stats['proba']\n",
    "                plt.bar(ticks, delta, width=0.4, tick_label=[str(i) for i in range(bandit.nbr_arms)], label = name, alpha=0.5)\n",
    "    \n",
    "            plt.legend()\n",
    "            plt.show()\n",
    "            plt.close()\n",
    "            \n",
    "        ticks = np.arange(self.bandit.nbr_arms)\n",
    "        if 'proba' in self.stats:\n",
    "            plt.figure(figsize=(12,5))\n",
    "            title = \"Histogram of recommendation regret\\n\"\n",
    "            title += exp_info\n",
    "            plt.title(title)\n",
    "            plt.xlabel(\"Arms\", fontsize=14)\n",
    "            for algo_stats in self.statistics.values():\n",
    "                name = algo_stats['name']\n",
    "                delta = algo_stats['distance']\n",
    "                plt.hist(delta, label = name, alpha=0.5)\n",
    "    \n",
    "            plt.legend()\n",
    "            plt.show()\n",
    "            plt.close()"
   ]
  },
  {
   "cell_type": "markdown",
   "metadata": {},
   "source": [
    "### Question 3\n",
    "Using the `Exploration` class, implement an exploration algorithm with uniform allocation. Test different recommendation rules on different bandit problem (having different complexities as defined in the previous homework)."
   ]
  },
  {
   "cell_type": "markdown",
   "metadata": {},
   "source": [
    "### Question 4\n",
    "Using the `Exploration` class, implement an UCB like exploration algorithm. Test different recommendation rules on different bandit problems (having different complexities as defined two sessions ago)."
   ]
  },
  {
   "cell_type": "markdown",
   "metadata": {},
   "source": [
    "### Question 5\n",
    "Using the `Exploration` class, implement the sequential halving algorithm with a fixed budget. Test it on different bandit problems (having different complexities as defined two sessions ago)."
   ]
  },
  {
   "cell_type": "markdown",
   "metadata": {},
   "source": [
    "### Question 6\n",
    "Do you think using structure would help for BAI?"
   ]
  },
  {
   "cell_type": "markdown",
   "metadata": {},
   "source": [
    "# Part II -  Monte Carlo Tree Search"
   ]
  },
  {
   "cell_type": "markdown",
   "metadata": {},
   "source": [
    "In this practical session, we will implement several MCTS heuristics and compare them. To do so, we will use a  Tic Tac Toe environement."
   ]
  },
  {
   "cell_type": "markdown",
   "metadata": {},
   "source": [
    "### Question 1\n",
    "Recall and explain the idea behind MCTS and the four main steps of a MCTS.  "
   ]
  },
  {
   "cell_type": "markdown",
   "metadata": {},
   "source": [
    "### Answer 1"
   ]
  },
  {
   "cell_type": "markdown",
   "metadata": {},
   "source": [
    "## Tic Tac Toe environment\n",
    "\n",
    "TicTacToeEnv is a custom envirionment based on the OpenAI gym library that we used for TD1."
   ]
  },
  {
   "cell_type": "code",
   "execution_count": 3,
   "metadata": {},
   "outputs": [
    {
     "name": "stdout",
     "output_type": "stream",
     "text": [
      "# # #    |   1 2 3 \n",
      "# # #    |   4 5 6 \n",
      "# # #    |   7 8 9 \n",
      "\n",
      "\n"
     ]
    }
   ],
   "source": [
    "env = TicTacToeEnv()\n",
    "env.render()"
   ]
  },
  {
   "cell_type": "markdown",
   "metadata": {},
   "source": [
    "### Manual play"
   ]
  },
  {
   "cell_type": "code",
   "execution_count": 4,
   "metadata": {},
   "outputs": [
    {
     "name": "stdout",
     "output_type": "stream",
     "text": [
      "# # #    |   1 2 3 \n",
      "O # #    |   4 5 6 \n",
      "# # #    |   7 8 9 \n",
      "\n",
      "\n",
      "# # X    |   1 2 3 \n",
      "O # #    |   4 5 6 \n",
      "# # #    |   7 8 9 \n",
      "\n",
      "\n",
      "# # X    |   1 2 3 \n",
      "O # #    |   4 5 6 \n",
      "# O #    |   7 8 9 \n",
      "\n",
      "\n",
      "# X X    |   1 2 3 \n",
      "O # #    |   4 5 6 \n",
      "# O #    |   7 8 9 \n",
      "\n",
      "\n",
      "O X X    |   1 2 3 \n",
      "O # #    |   4 5 6 \n",
      "# O #    |   7 8 9 \n",
      "\n",
      "\n",
      "O X X    |   1 2 3 \n",
      "O # #    |   4 5 6 \n",
      "# O X    |   7 8 9 \n",
      "\n",
      "\n",
      "O X X    |   1 2 3 \n",
      "O # #    |   4 5 6 \n",
      "O O X    |   7 8 9 \n",
      "\n",
      "\n",
      "**      O WINS      **\n"
     ]
    }
   ],
   "source": [
    "# Example game: each player plays randomly\n",
    "\n",
    "# Always reset the environment at the start of a game\n",
    "# (Remark : the reset method returns the initial state \n",
    "# of the envionment, i.e the board in the present case)\n",
    "env.reset()\n",
    "done = False\n",
    "while not done:\n",
    "    # Draw a position uniformly at random among the\n",
    "    # remaining possible choices\n",
    "    pos = env.sample()\n",
    "    board, reward, done, _ = env.step(pos)\n",
    "    # Display the board\n",
    "    env.render()\n",
    "\n",
    "winner = board.check_state()\n",
    "if winner == DRAW:\n",
    "    print(\"**      DRAW      **\")\n",
    "elif winner == 1:\n",
    "    print(\"**      O WINS      **\")\n",
    "else:\n",
    "    print(\"**      X WINS      **\")"
   ]
  },
  {
   "cell_type": "markdown",
   "metadata": {},
   "source": [
    "## Implementing a dummy agent"
   ]
  },
  {
   "cell_type": "code",
   "execution_count": 5,
   "metadata": {},
   "outputs": [],
   "source": [
    "class DummyAgent(Agent):\n",
    "    \"\"\"Dummy TicTacToe agent that plays randomly.\n",
    "    \"\"\"\n",
    "    def __init__(self, env, player=1, params={}):\n",
    "        self._env = env\n",
    "        self.player = player  # index of the player\n",
    "\n",
    "    def play(self):\n",
    "        \"\"\"Syntax: play should be a method with no argument\n",
    "        except self.\n",
    "        In the present example, it simply calls the env attribute\n",
    "        and use it to sample a feasible action.\n",
    "        \"\"\"\n",
    "        return self.env.sample()"
   ]
  },
  {
   "cell_type": "code",
   "execution_count": 6,
   "metadata": {},
   "outputs": [
    {
     "name": "stdout",
     "output_type": "stream",
     "text": [
      "**        Tic Tac Toe Game        **\n",
      "You are player 1 and you play the symbol O\n",
      "\n",
      "\n",
      "# # #    |   1 2 3 \n",
      "# # #    |   4 5 6 \n",
      "# # #    |   7 8 9 \n",
      "Where do you want to play? \n",
      "Unkown action, quitting...\n"
     ]
    }
   ],
   "source": [
    "# Available input in the API: [1-9], 'quit', 'switch'\n",
    "play(DummyAgent, game_env=env)"
   ]
  },
  {
   "cell_type": "markdown",
   "metadata": {},
   "source": [
    "## Pitting two agents against one another "
   ]
  },
  {
   "cell_type": "code",
   "execution_count": 7,
   "metadata": {},
   "outputs": [
    {
     "name": "stderr",
     "output_type": "stream",
     "text": [
      "100%|██████████| 100/100 [00:00<00:00, 153.29it/s, draw=21%, 0 wins=53%, X wins=26%]\n"
     ]
    },
    {
     "data": {
      "image/png": "[encoded data removed]",
      "text/plain": [
       "<Figure size 432x288 with 1 Axes>"
      ]
     },
     "metadata": {
      "needs_background": "light"
     },
     "output_type": "display_data"
    }
   ],
   "source": [
    "agent_vs_agent(env, DummyAgent, DummyAgent, n_episodes=100, params1={}, params2={}, plot=True)"
   ]
  },
  {
   "cell_type": "markdown",
   "metadata": {},
   "source": [
    "### Question 2\n",
    "\n",
    "Comment the results of random vs random above. How do you explain that 'O' has the advantage despite playing at random?"
   ]
  },
  {
   "cell_type": "markdown",
   "metadata": {},
   "source": [
    "### Answer 2"
   ]
  },
  {
   "cell_type": "markdown",
   "metadata": {},
   "source": [
    "## Monte Carlo Tree Search\n",
    "\n",
    "A template class for MCTS is defined in mcts.py. It is an abstract class, and you need to instanciate the method search_heuristic, to guide the selection step of MCTS.\n",
    "\n",
    "We first implement the uniform random search."
   ]
  },
  {
   "cell_type": "markdown",
   "metadata": {},
   "source": [
    "### Question 2\n",
    "\n",
    "- Understand the pure exploration tree search heuristic implementation\n",
    "- Implement the UCT algorithm\n",
    "\n",
    "Feel free to experiment and implement other tree search policies (e.g., implement a pure exploitation tree search heuristic)"
   ]
  },
  {
   "cell_type": "code",
   "execution_count": 8,
   "metadata": {},
   "outputs": [],
   "source": [
    "from mcts import MCTS\n",
    "\n",
    "class MCTSPureExploration(MCTS):\n",
    "    def __init__(self, player=1):\n",
    "        super().__init__(player=player)\n",
    "\n",
    "    def search_heuristic(self, node):\n",
    "        \"\"\"Pure exploration, uniformly choose how to\n",
    "        explore the game tree.\n",
    "        \"\"\"\n",
    "        # All children of node should already be expanded:\n",
    "        assert all(n in self.children for n in self.children[node])\n",
    "        \n",
    "        return np.random.choice(list(self.children[node]))\n",
    "\n",
    "\n",
    "class MCTSUCT(MCTS):\n",
    "    def __init__(self, player=1, exploration_param=1.0):\n",
    "        self.exploration_param = exploration_param\n",
    "        super().__init__(player=player)\n",
    "\n",
    "    def search_heuristic(self, node):\n",
    "        \"\"\"Upper Confidence bound for Trees.\n",
    "        Balance exploration and exploitation in the game tree.\n",
    "        \"\"\"\n",
    "        # All children of node should already be expanded:\n",
    "        assert all(n in self.children for n in self.children[node])\n",
    "        \n",
    "        # children is a dictionary of node -> set of children,\n",
    "        # where node is a TicTacToeEnv, and the chidlren are\n",
    "        # TicTacToeEnv corresponding to boards that are \n",
    "        # one action away from node.\n",
    "        \n",
    "        # self.W is a dictionary of node -> backpropagated rewards\n",
    "        # self.N is a dictionary of node -> backpropagated number of visits\n",
    "        \n",
    "        ### TO IMPLEMENT"
   ]
  },
  {
   "cell_type": "code",
   "execution_count": 9,
   "metadata": {},
   "outputs": [],
   "source": [
    "class MCTSAgent(Agent):\n",
    "    \"\"\"TicTacToe template agent that plays according to MCTS.\n",
    "    \"\"\"\n",
    "    def __init__(self, env, player=1, params={'n_playouts': 1}):\n",
    "        self.env = env\n",
    "        self.player = player  # index of the player\n",
    "        self.n_playouts = params.get('n_playouts', 1)\n",
    "        # To be implemented in child class\n",
    "        self.game_tree = None \n",
    "        \n",
    "    def play(self):\n",
    "        \"\"\"Syntax: play should be a metbod without argument\n",
    "        except self.\n",
    "        \"\"\"\n",
    "        # Need to copy environment, so that MCTS internal simulations\n",
    "        # do not affect the game being played\n",
    "        env_copy = deepcopy(env)\n",
    "        for _ in range(self.n_playouts):\n",
    "            self.game_tree.playout(env_copy)\n",
    "        return self.game_tree.choose(env_copy)\n",
    "\n",
    "\n",
    "class MCTSPureExplorationAgent(MCTSAgent):\n",
    "    \"\"\"TicTacToe agent that plays according to MCTS Pure Exploration.\n",
    "    \"\"\"\n",
    "    def __init__(self, env, player=1, params={'n_playouts': 1}):\n",
    "        super().__init__(env=env, player=player, params=params)\n",
    "        self.game_tree = MCTSPureExploration(player=player)\n",
    "\n",
    "        \n",
    "class MCTSUCTAgent(MCTSAgent):\n",
    "    \"\"\"TicTacToe agent that plays according to MCTS UCT.\n",
    "    \"\"\"\n",
    "    def __init__(self, env, player=1, params={'n_playouts': 1, 'exploration_param': 1.0}):\n",
    "        super().__init__(env=env, player=player, params=params)\n",
    "        exploration_param = params.get('exploration_param', 1.0)\n",
    "        self.game_tree = MCTSUCT(player=player, exploration_param=exploration_param)"
   ]
  },
  {
   "cell_type": "markdown",
   "metadata": {},
   "source": [
    "### Manual play"
   ]
  },
  {
   "cell_type": "code",
   "execution_count": 10,
   "metadata": {},
   "outputs": [
    {
     "name": "stdout",
     "output_type": "stream",
     "text": [
      "**      X WINS      **\n",
      "**      X WINS      **\n",
      "**      X WINS      **\n",
      "**      X WINS      **\n",
      "**      X WINS      **\n",
      "**      X WINS      **\n",
      "**      DRAW      **\n",
      "**      X WINS      **\n",
      "**      DRAW      **\n",
      "**      DRAW      **\n"
     ]
    }
   ],
   "source": [
    "env.reset()\n",
    "\n",
    "agent1 = DummyAgent(env, player=1)\n",
    "agent2 = MCTSUCTAgent(env, player=2, params={'n_playouts': 10, 'exploration_param': 1.0})\n",
    "\n",
    "n_episodes = 10\n",
    "\n",
    "for episode in range(n_episodes):\n",
    "    done = False\n",
    "    _ = env.reset()\n",
    "    turn = 0\n",
    "\n",
    "    while not done:\n",
    "        if turn % 2 == 0:\n",
    "            action = agent1.play()\n",
    "        else:\n",
    "            action = agent2.play()\n",
    "\n",
    "        _, _, done, _ = env.step(action)\n",
    "\n",
    "        turn += 1\n",
    "\n",
    "        if done:\n",
    "            break\n",
    "\n",
    "    winner = env.board.check_state()\n",
    "    if winner == DRAW:\n",
    "        print(\"**      DRAW      **\")\n",
    "    elif winner == 1:\n",
    "        print(\"**      O WINS      **\")\n",
    "    else:\n",
    "        print(\"**      X WINS      **\")"
   ]
  },
  {
   "cell_type": "markdown",
   "metadata": {},
   "source": [
    "### Check MCTS tree"
   ]
  },
  {
   "cell_type": "code",
   "execution_count": null,
   "metadata": {},
   "outputs": [],
   "source": [
    "game_tree = agent2.game_tree\n",
    "children = game_tree.children\n",
    "print('Total number of nodes: {}\\n'.format(len(children)))\n",
    "for node, successors in children.items():\n",
    "    print('Node: {} wins, {} visits'.format(game_tree.W[node], game_tree.N[node]))\n",
    "    node.render()\n",
    "    for successor in successors:\n",
    "        print('Child: {} wins, {} visits'.format(game_tree.W[successor], game_tree.N[successor]))\n",
    "        successor.render()\n",
    "    print('----------------------\\n\\n')"
   ]
  },
  {
   "cell_type": "markdown",
   "metadata": {},
   "source": [
    "### AI vs AI"
   ]
  },
  {
   "cell_type": "code",
   "execution_count": null,
   "metadata": {},
   "outputs": [],
   "source": [
    "agent_vs_agent(env, DummyAgent, MCTSPureExplorationAgent, n_episodes=10, params1={}, params2={'n_playouts': 20}, plot=True)\n",
    "agent_vs_agent(env, DummyAgent, MCTSUCTAgent, n_episodes=10, params1={}, params2={'n_playouts': 20}, plot=True)"
   ]
  },
  {
   "cell_type": "markdown",
   "metadata": {},
   "source": [
    "### Question 3\n",
    "\n",
    "Compare with the Q-Learning algorithm you have seen in TD1.\n",
    "\n",
    "Comment on the behaviour of Q-Learning.\n",
    "\n",
    "To you, what are the advantages and disadvantages of Q-Learning compared to MCTS?"
   ]
  },
  {
   "cell_type": "code",
   "execution_count": null,
   "metadata": {},
   "outputs": [],
   "source": [
    "from qlearning import QFunction, QLearningAgent, random_vs_Q_learning, Q_learning_vs_random\n",
    "\n",
    "class QLearningAgent(Agent):\n",
    "    \"\"\"Dummy TicTacToe agent that plays randomly.\n",
    "    \"\"\"\n",
    "    def __init__(self, env, player=1, params={'Q': None}):\n",
    "        self._env = env\n",
    "        self.player = player  # index of the player\n",
    "        Q = params.get('Q', None)\n",
    "        if Q is not None:\n",
    "            self.Q = Q\n",
    "        else:\n",
    "            self.Q = QFunction(nbr_pos=env.nbr_pos)\n",
    "\n",
    "    def play(self):\n",
    "        \"\"\"Syntax: play should be a metbod without argument\n",
    "        except self.\n",
    "        \"\"\"\n",
    "        return self.Q.get_argmax_action_Q_idx(self.env.state(), self.env)"
   ]
  },
  {
   "cell_type": "code",
   "execution_count": null,
   "metadata": {},
   "outputs": [],
   "source": [
    "GAMMA = 0.99\n",
    "n_episodes = int(1e4)\n",
    "learning_rate = 0.1\n",
    "epsilon_greedy = 0.9\n",
    "epsilon_greedy_decay_freq = 50\n",
    "epsilon_greedy_decay_factor = 0.9\n",
    "\n",
    "Q_opt_Q_learning_cross, stats = random_vs_Q_learning(\n",
    "    env,\n",
    "    n_episodes,\n",
    "    learning_rate,\n",
    "    epsilon_greedy,\n",
    "    epsilon_greedy_decay_freq,\n",
    "    epsilon_greedy_decay_factor,\n",
    "    gamma=GAMMA,\n",
    ")\n",
    "\n",
    "Q_opt_Q_learning_nought, stats = Q_learning_vs_random(\n",
    "    env,\n",
    "    n_episodes,\n",
    "    learning_rate,\n",
    "    epsilon_greedy,\n",
    "    epsilon_greedy_decay_freq,\n",
    "    epsilon_greedy_decay_factor,\n",
    "    gamma=GAMMA,\n",
    ")"
   ]
  },
  {
   "cell_type": "code",
   "execution_count": null,
   "metadata": {},
   "outputs": [],
   "source": [
    "agent_vs_agent(env, QLearningAgent, MCTSUCTAgent, n_episodes=10, params1={'Q': Q_opt_Q_learning_nought.Q}, params2={'n_playouts': 20}, plot=True)"
   ]
  },
  {
   "cell_type": "code",
   "execution_count": null,
   "metadata": {},
   "outputs": [],
   "source": []
  },
  {
   "cell_type": "markdown",
   "metadata": {},
   "source": [
    "# Practical Session 3 -  Best Arm Identification"
   ]
  },
  {
   "cell_type": "markdown",
   "metadata": {},
   "source": [
    "### Question 0\n",
    "\n",
    "Recall the `forban` module."
   ]
  },
  {
   "cell_type": "markdown",
   "metadata": {},
   "source": [
    "### Question 1\n",
    "\n",
    "What are the three main parts of an exploration algorithm that aims to identify the best arm (*i.e.*, the arm having the largest mean)."
   ]
  },
  {
   "cell_type": "markdown",
   "metadata": {},
   "source": []
  }
 ],
 "metadata": {
  "kernelspec": {
   "display_name": "Python 3",
   "language": "python",
   "name": "python3"
  },
  "language_info": {
   "codemirror_mode": {
    "name": "ipython",
    "version": 3
   },
   "file_extension": ".py",
   "mimetype": "text/x-python",
   "name": "python",
   "nbconvert_exporter": "python",
   "pygments_lexer": "ipython3",
   "version": "3.7.3"
  }
 },
 "nbformat": 4,
 "nbformat_minor": 4
}
