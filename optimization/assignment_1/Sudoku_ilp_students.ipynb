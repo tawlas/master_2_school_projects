{
 "cells": [
  {
   "cell_type": "code",
   "execution_count": 1,
   "metadata": {},
   "outputs": [
    {
     "name": "stdout",
     "output_type": "stream",
     "text": [
      "Requirement already satisfied: cvxopt in /Users/lastaw/anaconda3/lib/python3.7/site-packages (1.2.5)\r\n"
     ]
    }
   ],
   "source": [
    "try:\n",
    "    import cvxopt\n",
    "except:\n",
    "    !pip install cvxopt\n",
    "    import cvxopt"
   ]
  },
  {
   "cell_type": "code",
   "execution_count": 2,
   "metadata": {},
   "outputs": [],
   "source": [
    "%matplotlib notebook\n",
    "import numpy as np\n",
    "# import cvxopt\n",
    "import cvxopt.glpk\n",
    "\n",
    "mainsize=3"
   ]
  },
  {
   "cell_type": "code",
   "execution_count": 3,
   "metadata": {},
   "outputs": [],
   "source": [
    "## help for the integer LP solver in cvxopt\n",
    "cvxopt.glpk.ilp?"
   ]
  },
  {
   "cell_type": "code",
   "execution_count": 4,
   "metadata": {},
   "outputs": [
    {
     "data": {
      "text/plain": [
       "' not used, for reference only\\ndef ravel(l,size=3):\\n    n2=size*size\\n    assert (l>=0 and l < n2*n2*n2)\\n    i = l // (n2*n2)\\n    j = (l % (n2*n2)) // n2\\n    k = l - i*n2*n2 - j*n2\\n    return ((i,j,k))\\n'"
      ]
     },
     "execution_count": 4,
     "metadata": {},
     "output_type": "execute_result"
    }
   ],
   "source": [
    "## To help create the huge matrix\n",
    "\n",
    "\n",
    "def unravel(i,j,k,size=mainsize):\n",
    "    '''\n",
    "    Associate a unique variable index given a 3-index (ijk) \n",
    "    '''\n",
    "    n2 = size*size\n",
    "    assert(i>=0 and i<n2)\n",
    "    assert(j>=0 and i<n2)\n",
    "    assert(k>=0 and i<n2)\n",
    "    \n",
    "    return(k+ j*n2+ i*n2*n2)\n",
    "\n",
    "\n",
    "\"\"\" not used, for reference only\n",
    "def ravel(l,size=3):\n",
    "    n2=size*size\n",
    "    assert (l>=0 and l < n2*n2*n2)\n",
    "    i = l // (n2*n2)\n",
    "    j = (l % (n2*n2)) // n2\n",
    "    k = l - i*n2*n2 - j*n2\n",
    "    return ((i,j,k))\n",
    "\"\"\""
   ]
  },
  {
   "cell_type": "code",
   "execution_count": 5,
   "metadata": {},
   "outputs": [
    {
     "data": {
      "text/plain": [
       "(324, 729)"
      ]
     },
     "execution_count": 5,
     "metadata": {},
     "output_type": "execute_result"
    }
   ],
   "source": [
    "## create constraint matrix\n",
    "\n",
    "size=3\n",
    "n2=size*size\n",
    "A=np.zeros((4*n2*n2,n2*n2*n2))\n",
    "A.shape"
   ]
  },
  {
   "cell_type": "code",
   "execution_count": 6,
   "metadata": {},
   "outputs": [
    {
     "name": "stdout",
     "output_type": "stream",
     "text": [
      "162\n",
      "243\n",
      "Total number of constraints= 324\n",
      "All constraints OK\n"
     ]
    }
   ],
   "source": [
    "## Here I give the line constraints\n",
    "## line constraints: only one number per line\n",
    "c=0\n",
    "for k in range(n2): ## for all numbers\n",
    "    for j in range(n2): ## for all columns\n",
    "        for i in range(n2):\n",
    "            A[c,unravel(i,j,k)] = 1 ## only one number k on line i\n",
    "#             if c == 9:\n",
    "#                 print(unravel(i,j,k))\n",
    "        c += 1\n",
    "    \n",
    "## column constraints: only one number per column\n",
    "for k in range(n2): ## for all numbers\n",
    "    for i in range(n2): ## for all lines\n",
    "        for j in range(n2): \n",
    "            A[c,unravel(i,j,k)] = 1 ## only one number k on column j\n",
    "        c += 1\n",
    "\n",
    "## square constraints: only one number per square\n",
    "for k in range(n2):\n",
    "    for q in range(1,size+1): ## for all lines\n",
    "        for p in range(1, size+1):\n",
    "            for j in range((size*q-size+1) -1, (size*q)):\n",
    "                for i in range((size*p-size+1)-1, (size*p)):\n",
    "                    A[c,unravel(i,j,k)] = 1 ## only one number k on column j\n",
    "            c += 1\n",
    "## Assignment constraint\n",
    "for i in range(n2):\n",
    "    for j in range(n2):\n",
    "        for k in range(n2):\n",
    "            A[c,unravel(i,j,k)] = 1\n",
    "        c += 1\n",
    "\n",
    "## You need to write the remaining constraints (columns, subsquares, etc)\n",
    "\n",
    "      \n",
    "        \n",
    "print(\"Total number of constraints=\",c)\n",
    "\n",
    "def testA(A,c,size=3):\n",
    "    n2 = size*size\n",
    "    for n in range(c):\n",
    "        if (np.sum(A[n,])!=n2):\n",
    "            print(\"error on line\", n)\n",
    "            break\n",
    "    print(\"All constraints OK\")\n",
    "    return\n",
    "\n",
    "testA(A,c)"
   ]
  },
  {
   "cell_type": "code",
   "execution_count": 7,
   "metadata": {},
   "outputs": [],
   "source": [
    "## print solution\n",
    "def printsol(sol):\n",
    "    sep3=\"+-----+-----+-----+\"\n",
    "    for i in range(n2):\n",
    "        if (i%3 == 0):\n",
    "            print(sep3)\n",
    "        print(\"|\",end='')\n",
    "        for j in range(n2):\n",
    "            for k in range(n2):\n",
    "                if (sol[unravel(i,j,k)]==1):\n",
    "                    print(k+1,end='')\n",
    "            if (j%3 ==2):\n",
    "                print(\"|\",end='')\n",
    "            else:\n",
    "                print(\" \",end='')\n",
    "        print(\"\")\n",
    "    print(sep3)"
   ]
  },
  {
   "cell_type": "code",
   "execution_count": 10,
   "metadata": {},
   "outputs": [],
   "source": [
    "## here are the given number constraints\n",
    "## add the fixed numbers constraints\n",
    "from cvxopt import matrix\n",
    "def solve_sudoku(K, A):\n",
    "    for i in range(n2):\n",
    "        for j in range(n2):\n",
    "            k = K[i,j]\n",
    "            if (k>0):\n",
    "                newrow=np.zeros(n2*n2*n2)\n",
    "                newrow[unravel(i,j,k-1)]=1\n",
    "                A=np.vstack((A,newrow))\n",
    "    b=matrix(np.ones(A.shape[0])) ## set partition\n",
    "    c=matrix(np.zeros(A.shape[1])) ## zero cost\n",
    "    G=matrix(np.zeros(A.shape))\n",
    "    h=matrix(np.zeros(A.shape[0]))\n",
    "    binary=np.array(range(A.shape[1]))\n",
    "    I=set(binary)\n",
    "    B=set(range(A.shape[1]))\n",
    "    Aeq = matrix(A)\n",
    "    (status, solution) = cvxopt.glpk.ilp(c=c,G=G,h=h,A=Aeq,b=b,B=set(range(A.shape[1])))\n",
    "    print(\"The status of the solution is:\", status)\n",
    "    printsol(solution)\n",
    "    "
   ]
  },
  {
   "cell_type": "code",
   "execution_count": 11,
   "metadata": {},
   "outputs": [
    {
     "name": "stdout",
     "output_type": "stream",
     "text": [
      "The status of the solution is: optimal\n",
      "+-----+-----+-----+\n",
      "|7 8 6|9 3 1|4 5 2|\n",
      "|4 5 2|6 8 7|3 1 9|\n",
      "|9 1 3|5 4 2|6 7 8|\n",
      "+-----+-----+-----+\n",
      "|3 9 4|2 1 8|7 6 5|\n",
      "|6 2 8|4 7 5|1 9 3|\n",
      "|5 7 1|3 6 9|2 8 4|\n",
      "+-----+-----+-----+\n",
      "|2 3 9|7 5 6|8 4 1|\n",
      "|8 6 5|1 2 4|9 3 7|\n",
      "|1 4 7|8 9 3|5 2 6|\n",
      "+-----+-----+-----+\n"
     ]
    }
   ],
   "source": [
    "## here are the given number constraints\n",
    "## add the fixed numbers constraints\n",
    "K = np.array([\n",
    "[0,8,0, 9,0,1, 0,5,0],\n",
    "[0,0,2, 6,8,7, 3,0,0],\n",
    "[0,0,3, 0,0,0, 6,0,0],\n",
    "[3,9,0, 0,0,0, 0,6,5],\n",
    "[6,0,0, 4,7,5, 0,0,3],\n",
    "[5,7,0, 0,0,0, 0,8,4],\n",
    "[0,0,9, 0,0,0, 8,0,0],\n",
    "[0,0,5, 1,2,4, 9,0,0],\n",
    "[0,4,0, 8,0,3, 0,2,0]])\n",
    "solve_sudoku(K, A)"
   ]
  },
  {
   "cell_type": "code",
   "execution_count": 13,
   "metadata": {},
   "outputs": [
    {
     "name": "stdout",
     "output_type": "stream",
     "text": [
      "The status of the solution is: optimal\n",
      "+-----+-----+-----+\n",
      "|7 9 8|6 3 5|4 2 1|\n",
      "|1 2 6|9 7 4|5 8 3|\n",
      "|4 5 3|2 1 8|6 7 9|\n",
      "+-----+-----+-----+\n",
      "|9 7 2|5 8 6|3 1 4|\n",
      "|5 6 4|1 2 3|8 9 7|\n",
      "|3 8 1|4 9 7|2 5 6|\n",
      "+-----+-----+-----+\n",
      "|6 1 7|3 5 2|9 4 8|\n",
      "|8 3 5|7 4 9|1 6 2|\n",
      "|2 4 9|8 6 1|7 3 5|\n",
      "+-----+-----+-----+\n"
     ]
    }
   ],
   "source": [
    "K = np.array([\n",
    "[7,0,0, 0,0,0, 4,0,0],\n",
    "[0,2,0, 0,7,0, 0,8,0],\n",
    "[0,0,3, 0,0,8, 0,0,9],\n",
    "[0,0,0, 5,0,0, 3,0,0],\n",
    "[0,6,0, 0,2,0, 0,9,0],\n",
    "[0,0,1, 0,0,7, 0,0,6],\n",
    "[0,0,0, 3,0,0, 9,0,0],\n",
    "[0,3,0, 0,4,0, 0,6,0],\n",
    "[0,0,9, 0,0,1, 0,0,5]])\n",
    "solve_sudoku(K, A)"
   ]
  },
  {
   "cell_type": "code",
   "execution_count": null,
   "metadata": {},
   "outputs": [],
   "source": []
  }
 ],
 "metadata": {
  "kernelspec": {
   "display_name": "Python 3",
   "language": "python",
   "name": "python3"
  },
  "language_info": {
   "codemirror_mode": {
    "name": "ipython",
    "version": 3
   },
   "file_extension": ".py",
   "mimetype": "text/x-python",
   "name": "python",
   "nbconvert_exporter": "python",
   "pygments_lexer": "ipython3",
   "version": "3.7.3"
  },
  "latex_envs": {
   "LaTeX_envs_menu_present": true,
   "autoclose": false,
   "autocomplete": true,
   "bibliofile": "biblio.bib",
   "cite_by": "apalike",
   "current_citInitial": 1,
   "eqLabelWithNumbers": true,
   "eqNumInitial": 1,
   "hotkeys": {
    "equation": "Ctrl-E",
    "itemize": "Ctrl-I"
   },
   "labels_anchors": false,
   "latex_user_defs": false,
   "report_style_numbering": false,
   "user_envs_cfg": false
  }
 },
 "nbformat": 4,
 "nbformat_minor": 4
}
