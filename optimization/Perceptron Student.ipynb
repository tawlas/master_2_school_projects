{
 "cells": [
  {
   "cell_type": "code",
   "execution_count": 1,
   "metadata": {
    "nbpresent": {
     "id": "c77dba49-3573-4e4b-ab54-b5e9e68e1e0e"
    },
    "slideshow": {
     "slide_type": "skip"
    }
   },
   "outputs": [],
   "source": [
    "%matplotlib notebook\n",
    "#%load_ext Cython\n",
    "\n",
    "# -*- coding: utf-8 -*-\n",
    "\"\"\"\n",
    "Created on 2018-01-15\n",
    "\n",
    "@author: talbot\n",
    "\"\"\"\n",
    "\n",
    "import numpy as np\n",
    "import matplotlib.pyplot as plt\n",
    "from scipy.linalg import eigh\n",
    "\n",
    "DTYPE = np.double"
   ]
  },
  {
   "cell_type": "code",
   "execution_count": 2,
   "metadata": {
    "slideshow": {
     "slide_type": "skip"
    }
   },
   "outputs": [
    {
     "data": {
      "text/html": [
       "\n",
       "<style>\n",
       ".output_png {\n",
       "    display: table-cell;\n",
       "    text-align: right;\n",
       "    vertical-align: middle;\n",
       "}\n",
       "</style>\n"
      ],
      "text/plain": [
       "<IPython.core.display.HTML object>"
      ]
     },
     "execution_count": 2,
     "metadata": {},
     "output_type": "execute_result"
    }
   ],
   "source": [
    "from IPython.core.display import HTML\n",
    "HTML(\"\"\"\n",
    "<style>\n",
    ".output_png {\n",
    "    display: table-cell;\n",
    "    text-align: right;\n",
    "    vertical-align: middle;\n",
    "}\n",
    "</style>\n",
    "\"\"\")"
   ]
  },
  {
   "cell_type": "markdown",
   "metadata": {
    "nbpresent": {
     "id": "ab6b9654-e5dc-4faf-8da5-78e1c9ce386c"
    },
    "slideshow": {
     "slide_type": "slide"
    }
   },
   "source": [
    "# <center>The perceptron</center>\n",
    "## <center>Hugues Talbot</center>\n",
    "\n",
    "In this notebook/presentation, we study the simplest neural network from the ground up. In spite of its extreme simplicity, we show that it has promising capabilities. Most importantly, this study allows us to demonstrate the basic elements of neural network analysis and optimisation.\n",
    "\n",
    "$\\newcommand{\\V}[1]{\\mathbf{\\sf #1}}$\n",
    "$\\newcommand{\\M}[1]{\\mathbf{#1}}$"
   ]
  },
  {
   "cell_type": "markdown",
   "metadata": {
    "nbpresent": {
     "id": "d518a0be-19fb-4cee-a697-07aeeb7fe8a6"
    },
    "slideshow": {
     "slide_type": "subslide"
    }
   },
   "source": [
    "## A single artificial neuron\n",
    "The _perceptron_ is a single artificial \"neuron\", an element of an artificial neural network. \n",
    "<img src=\"perceptron.png\">$\\label{perceptron}$\n",
    "\n",
    "<!--- \n",
    "\\begin{figure}\n",
    "\\centering\n",
    "\\includegraphics[width=10cm]{perceptron.png}\n",
    "\\caption{\\label{fig:perceptron}\n",
    "The classical perceptron}\n",
    "\\end{figure}) \n",
    "--->\n"
   ]
  },
  {
   "cell_type": "markdown",
   "metadata": {
    "nbpresent": {
     "id": "655825e8-77b2-46be-959e-377f1e71b915"
    },
    "slideshow": {
     "slide_type": "subslide"
    }
   },
   "source": [
    "As shown on the previous figure, the artificial neuron take as input a vector of real numbers $\\V{x}=\\{x_1, x_2, \\ldots, x_n\\}$. It performs a weighted sum and composes the result with an activation function $\\sigma$, that acts like a threshold. The output is called $y$, a real number.\n",
    "\n",
    "A typical activation function is a _sigmoid_. This is a smooth function that takes any real number as input and outputs a value between 0 and 1. "
   ]
  },
  {
   "cell_type": "markdown",
   "metadata": {
    "nbpresent": {
     "id": "1c28954c-eb14-44b5-9010-27c4db229570"
    },
    "slideshow": {
     "slide_type": "subslide"
    }
   },
   "source": [
    "## The activation function\n",
    "Here we show the plot of a <a href=https://en.wikipedia.org/wiki/Sigmoid_function>sigmoid</a>, for which one possible formula is\n",
    "\n",
    "\\begin{equation}\n",
    "f(x) = \\frac{1}{1+\\exp(-x)}\n",
    "\\end{equation}\n",
    "\n",
    "This particular sigmoid is called the _logistic_ function. It tends to 0 as x tends to $-\\infty$ and to 1 as x tends to $+\\infty$."
   ]
  },
  {
   "cell_type": "code",
   "execution_count": 4,
   "metadata": {
    "nbpresent": {
     "id": "4d64faab-d67b-498e-a241-2877044755ac"
    },
    "slideshow": {
     "slide_type": "subslide"
    }
   },
   "outputs": [
    {
     "data": {
      "application/javascript": [
       "/* Put everything inside the global mpl namespace */\n",
       "window.mpl = {};\n",
       "\n",
       "\n",
       "mpl.get_websocket_type = function() {\n",
       "    if (typeof(WebSocket) !== 'undefined') {\n",
       "        return WebSocket;\n",
       "    } else if (typeof(MozWebSocket) !== 'undefined') {\n",
       "        return MozWebSocket;\n",
       "    } else {\n",
       "        alert('Your browser does not have WebSocket support. ' +\n",
       "              'Please try Chrome, Safari or Firefox ≥ 6. ' +\n",
       "              'Firefox 4 and 5 are also supported but you ' +\n",
       "              'have to enable WebSockets in about:config.');\n",
       "    };\n",
       "}\n",
       "\n",
       "mpl.figure = function(figure_id, websocket, ondownload, parent_element) {\n",
       "    this.id = figure_id;\n",
       "\n",
       "    this.ws = websocket;\n",
       "\n",
       "    this.supports_binary = (this.ws.binaryType != undefined);\n",
       "\n",
       "    if (!this.supports_binary) {\n",
       "        var warnings = document.getElementById(\"mpl-warnings\");\n",
       "        if (warnings) {\n",
       "            warnings.style.display = 'block';\n",
       "            warnings.textContent = (\n",
       "                \"This browser does not support binary websocket messages. \" +\n",
       "                    \"Performance may be slow.\");\n",
       "        }\n",
       "    }\n",
       "\n",
       "    this.imageObj = new Image();\n",
       "\n",
       "    this.context = undefined;\n",
       "    this.message = undefined;\n",
       "    this.canvas = undefined;\n",
       "    this.rubberband_canvas = undefined;\n",
       "    this.rubberband_context = undefined;\n",
       "    this.format_dropdown = undefined;\n",
       "\n",
       "    this.image_mode = 'full';\n",
       "\n",
       "    this.root = $('<div/>');\n",
       "    this._root_extra_style(this.root)\n",
       "    this.root.attr('style', 'display: inline-block');\n",
       "\n",
       "    $(parent_element).append(this.root);\n",
       "\n",
       "    this._init_header(this);\n",
       "    this._init_canvas(this);\n",
       "    this._init_toolbar(this);\n",
       "\n",
       "    var fig = this;\n",
       "\n",
       "    this.waiting = false;\n",
       "\n",
       "    this.ws.onopen =  function () {\n",
       "            fig.send_message(\"supports_binary\", {value: fig.supports_binary});\n",
       "            fig.send_message(\"send_image_mode\", {});\n",
       "            if (mpl.ratio != 1) {\n",
       "                fig.send_message(\"set_dpi_ratio\", {'dpi_ratio': mpl.ratio});\n",
       "            }\n",
       "            fig.send_message(\"refresh\", {});\n",
       "        }\n",
       "\n",
       "    this.imageObj.onload = function() {\n",
       "            if (fig.image_mode == 'full') {\n",
       "                // Full images could contain transparency (where diff images\n",
       "                // almost always do), so we need to clear the canvas so that\n",
       "                // there is no ghosting.\n",
       "                fig.context.clearRect(0, 0, fig.canvas.width, fig.canvas.height);\n",
       "            }\n",
       "            fig.context.drawImage(fig.imageObj, 0, 0);\n",
       "        };\n",
       "\n",
       "    this.imageObj.onunload = function() {\n",
       "        fig.ws.close();\n",
       "    }\n",
       "\n",
       "    this.ws.onmessage = this._make_on_message_function(this);\n",
       "\n",
       "    this.ondownload = ondownload;\n",
       "}\n",
       "\n",
       "mpl.figure.prototype._init_header = function() {\n",
       "    var titlebar = $(\n",
       "        '<div class=\"ui-dialog-titlebar ui-widget-header ui-corner-all ' +\n",
       "        'ui-helper-clearfix\"/>');\n",
       "    var titletext = $(\n",
       "        '<div class=\"ui-dialog-title\" style=\"width: 100%; ' +\n",
       "        'text-align: center; padding: 3px;\"/>');\n",
       "    titlebar.append(titletext)\n",
       "    this.root.append(titlebar);\n",
       "    this.header = titletext[0];\n",
       "}\n",
       "\n",
       "\n",
       "\n",
       "mpl.figure.prototype._canvas_extra_style = function(canvas_div) {\n",
       "\n",
       "}\n",
       "\n",
       "\n",
       "mpl.figure.prototype._root_extra_style = function(canvas_div) {\n",
       "\n",
       "}\n",
       "\n",
       "mpl.figure.prototype._init_canvas = function() {\n",
       "    var fig = this;\n",
       "\n",
       "    var canvas_div = $('<div/>');\n",
       "\n",
       "    canvas_div.attr('style', 'position: relative; clear: both; outline: 0');\n",
       "\n",
       "    function canvas_keyboard_event(event) {\n",
       "        return fig.key_event(event, event['data']);\n",
       "    }\n",
       "\n",
       "    canvas_div.keydown('key_press', canvas_keyboard_event);\n",
       "    canvas_div.keyup('key_release', canvas_keyboard_event);\n",
       "    this.canvas_div = canvas_div\n",
       "    this._canvas_extra_style(canvas_div)\n",
       "    this.root.append(canvas_div);\n",
       "\n",
       "    var canvas = $('<canvas/>');\n",
       "    canvas.addClass('mpl-canvas');\n",
       "    canvas.attr('style', \"left: 0; top: 0; z-index: 0; outline: 0\")\n",
       "\n",
       "    this.canvas = canvas[0];\n",
       "    this.context = canvas[0].getContext(\"2d\");\n",
       "\n",
       "    var backingStore = this.context.backingStorePixelRatio ||\n",
       "\tthis.context.webkitBackingStorePixelRatio ||\n",
       "\tthis.context.mozBackingStorePixelRatio ||\n",
       "\tthis.context.msBackingStorePixelRatio ||\n",
       "\tthis.context.oBackingStorePixelRatio ||\n",
       "\tthis.context.backingStorePixelRatio || 1;\n",
       "\n",
       "    mpl.ratio = (window.devicePixelRatio || 1) / backingStore;\n",
       "\n",
       "    var rubberband = $('<canvas/>');\n",
       "    rubberband.attr('style', \"position: absolute; left: 0; top: 0; z-index: 1;\")\n",
       "\n",
       "    var pass_mouse_events = true;\n",
       "\n",
       "    canvas_div.resizable({\n",
       "        start: function(event, ui) {\n",
       "            pass_mouse_events = false;\n",
       "        },\n",
       "        resize: function(event, ui) {\n",
       "            fig.request_resize(ui.size.width, ui.size.height);\n",
       "        },\n",
       "        stop: function(event, ui) {\n",
       "            pass_mouse_events = true;\n",
       "            fig.request_resize(ui.size.width, ui.size.height);\n",
       "        },\n",
       "    });\n",
       "\n",
       "    function mouse_event_fn(event) {\n",
       "        if (pass_mouse_events)\n",
       "            return fig.mouse_event(event, event['data']);\n",
       "    }\n",
       "\n",
       "    rubberband.mousedown('button_press', mouse_event_fn);\n",
       "    rubberband.mouseup('button_release', mouse_event_fn);\n",
       "    // Throttle sequential mouse events to 1 every 20ms.\n",
       "    rubberband.mousemove('motion_notify', mouse_event_fn);\n",
       "\n",
       "    rubberband.mouseenter('figure_enter', mouse_event_fn);\n",
       "    rubberband.mouseleave('figure_leave', mouse_event_fn);\n",
       "\n",
       "    canvas_div.on(\"wheel\", function (event) {\n",
       "        event = event.originalEvent;\n",
       "        event['data'] = 'scroll'\n",
       "        if (event.deltaY < 0) {\n",
       "            event.step = 1;\n",
       "        } else {\n",
       "            event.step = -1;\n",
       "        }\n",
       "        mouse_event_fn(event);\n",
       "    });\n",
       "\n",
       "    canvas_div.append(canvas);\n",
       "    canvas_div.append(rubberband);\n",
       "\n",
       "    this.rubberband = rubberband;\n",
       "    this.rubberband_canvas = rubberband[0];\n",
       "    this.rubberband_context = rubberband[0].getContext(\"2d\");\n",
       "    this.rubberband_context.strokeStyle = \"#000000\";\n",
       "\n",
       "    this._resize_canvas = function(width, height) {\n",
       "        // Keep the size of the canvas, canvas container, and rubber band\n",
       "        // canvas in synch.\n",
       "        canvas_div.css('width', width)\n",
       "        canvas_div.css('height', height)\n",
       "\n",
       "        canvas.attr('width', width * mpl.ratio);\n",
       "        canvas.attr('height', height * mpl.ratio);\n",
       "        canvas.attr('style', 'width: ' + width + 'px; height: ' + height + 'px;');\n",
       "\n",
       "        rubberband.attr('width', width);\n",
       "        rubberband.attr('height', height);\n",
       "    }\n",
       "\n",
       "    // Set the figure to an initial 600x600px, this will subsequently be updated\n",
       "    // upon first draw.\n",
       "    this._resize_canvas(600, 600);\n",
       "\n",
       "    // Disable right mouse context menu.\n",
       "    $(this.rubberband_canvas).bind(\"contextmenu\",function(e){\n",
       "        return false;\n",
       "    });\n",
       "\n",
       "    function set_focus () {\n",
       "        canvas.focus();\n",
       "        canvas_div.focus();\n",
       "    }\n",
       "\n",
       "    window.setTimeout(set_focus, 100);\n",
       "}\n",
       "\n",
       "mpl.figure.prototype._init_toolbar = function() {\n",
       "    var fig = this;\n",
       "\n",
       "    var nav_element = $('<div/>');\n",
       "    nav_element.attr('style', 'width: 100%');\n",
       "    this.root.append(nav_element);\n",
       "\n",
       "    // Define a callback function for later on.\n",
       "    function toolbar_event(event) {\n",
       "        return fig.toolbar_button_onclick(event['data']);\n",
       "    }\n",
       "    function toolbar_mouse_event(event) {\n",
       "        return fig.toolbar_button_onmouseover(event['data']);\n",
       "    }\n",
       "\n",
       "    for(var toolbar_ind in mpl.toolbar_items) {\n",
       "        var name = mpl.toolbar_items[toolbar_ind][0];\n",
       "        var tooltip = mpl.toolbar_items[toolbar_ind][1];\n",
       "        var image = mpl.toolbar_items[toolbar_ind][2];\n",
       "        var method_name = mpl.toolbar_items[toolbar_ind][3];\n",
       "\n",
       "        if (!name) {\n",
       "            // put a spacer in here.\n",
       "            continue;\n",
       "        }\n",
       "        var button = $('<button/>');\n",
       "        button.addClass('ui-button ui-widget ui-state-default ui-corner-all ' +\n",
       "                        'ui-button-icon-only');\n",
       "        button.attr('role', 'button');\n",
       "        button.attr('aria-disabled', 'false');\n",
       "        button.click(method_name, toolbar_event);\n",
       "        button.mouseover(tooltip, toolbar_mouse_event);\n",
       "\n",
       "        var icon_img = $('<span/>');\n",
       "        icon_img.addClass('ui-button-icon-primary ui-icon');\n",
       "        icon_img.addClass(image);\n",
       "        icon_img.addClass('ui-corner-all');\n",
       "\n",
       "        var tooltip_span = $('<span/>');\n",
       "        tooltip_span.addClass('ui-button-text');\n",
       "        tooltip_span.html(tooltip);\n",
       "\n",
       "        button.append(icon_img);\n",
       "        button.append(tooltip_span);\n",
       "\n",
       "        nav_element.append(button);\n",
       "    }\n",
       "\n",
       "    var fmt_picker_span = $('<span/>');\n",
       "\n",
       "    var fmt_picker = $('<select/>');\n",
       "    fmt_picker.addClass('mpl-toolbar-option ui-widget ui-widget-content');\n",
       "    fmt_picker_span.append(fmt_picker);\n",
       "    nav_element.append(fmt_picker_span);\n",
       "    this.format_dropdown = fmt_picker[0];\n",
       "\n",
       "    for (var ind in mpl.extensions) {\n",
       "        var fmt = mpl.extensions[ind];\n",
       "        var option = $(\n",
       "            '<option/>', {selected: fmt === mpl.default_extension}).html(fmt);\n",
       "        fmt_picker.append(option);\n",
       "    }\n",
       "\n",
       "    // Add hover states to the ui-buttons\n",
       "    $( \".ui-button\" ).hover(\n",
       "        function() { $(this).addClass(\"ui-state-hover\");},\n",
       "        function() { $(this).removeClass(\"ui-state-hover\");}\n",
       "    );\n",
       "\n",
       "    var status_bar = $('<span class=\"mpl-message\"/>');\n",
       "    nav_element.append(status_bar);\n",
       "    this.message = status_bar[0];\n",
       "}\n",
       "\n",
       "mpl.figure.prototype.request_resize = function(x_pixels, y_pixels) {\n",
       "    // Request matplotlib to resize the figure. Matplotlib will then trigger a resize in the client,\n",
       "    // which will in turn request a refresh of the image.\n",
       "    this.send_message('resize', {'width': x_pixels, 'height': y_pixels});\n",
       "}\n",
       "\n",
       "mpl.figure.prototype.send_message = function(type, properties) {\n",
       "    properties['type'] = type;\n",
       "    properties['figure_id'] = this.id;\n",
       "    this.ws.send(JSON.stringify(properties));\n",
       "}\n",
       "\n",
       "mpl.figure.prototype.send_draw_message = function() {\n",
       "    if (!this.waiting) {\n",
       "        this.waiting = true;\n",
       "        this.ws.send(JSON.stringify({type: \"draw\", figure_id: this.id}));\n",
       "    }\n",
       "}\n",
       "\n",
       "\n",
       "mpl.figure.prototype.handle_save = function(fig, msg) {\n",
       "    var format_dropdown = fig.format_dropdown;\n",
       "    var format = format_dropdown.options[format_dropdown.selectedIndex].value;\n",
       "    fig.ondownload(fig, format);\n",
       "}\n",
       "\n",
       "\n",
       "mpl.figure.prototype.handle_resize = function(fig, msg) {\n",
       "    var size = msg['size'];\n",
       "    if (size[0] != fig.canvas.width || size[1] != fig.canvas.height) {\n",
       "        fig._resize_canvas(size[0], size[1]);\n",
       "        fig.send_message(\"refresh\", {});\n",
       "    };\n",
       "}\n",
       "\n",
       "mpl.figure.prototype.handle_rubberband = function(fig, msg) {\n",
       "    var x0 = msg['x0'] / mpl.ratio;\n",
       "    var y0 = (fig.canvas.height - msg['y0']) / mpl.ratio;\n",
       "    var x1 = msg['x1'] / mpl.ratio;\n",
       "    var y1 = (fig.canvas.height - msg['y1']) / mpl.ratio;\n",
       "    x0 = Math.floor(x0) + 0.5;\n",
       "    y0 = Math.floor(y0) + 0.5;\n",
       "    x1 = Math.floor(x1) + 0.5;\n",
       "    y1 = Math.floor(y1) + 0.5;\n",
       "    var min_x = Math.min(x0, x1);\n",
       "    var min_y = Math.min(y0, y1);\n",
       "    var width = Math.abs(x1 - x0);\n",
       "    var height = Math.abs(y1 - y0);\n",
       "\n",
       "    fig.rubberband_context.clearRect(\n",
       "        0, 0, fig.canvas.width, fig.canvas.height);\n",
       "\n",
       "    fig.rubberband_context.strokeRect(min_x, min_y, width, height);\n",
       "}\n",
       "\n",
       "mpl.figure.prototype.handle_figure_label = function(fig, msg) {\n",
       "    // Updates the figure title.\n",
       "    fig.header.textContent = msg['label'];\n",
       "}\n",
       "\n",
       "mpl.figure.prototype.handle_cursor = function(fig, msg) {\n",
       "    var cursor = msg['cursor'];\n",
       "    switch(cursor)\n",
       "    {\n",
       "    case 0:\n",
       "        cursor = 'pointer';\n",
       "        break;\n",
       "    case 1:\n",
       "        cursor = 'default';\n",
       "        break;\n",
       "    case 2:\n",
       "        cursor = 'crosshair';\n",
       "        break;\n",
       "    case 3:\n",
       "        cursor = 'move';\n",
       "        break;\n",
       "    }\n",
       "    fig.rubberband_canvas.style.cursor = cursor;\n",
       "}\n",
       "\n",
       "mpl.figure.prototype.handle_message = function(fig, msg) {\n",
       "    fig.message.textContent = msg['message'];\n",
       "}\n",
       "\n",
       "mpl.figure.prototype.handle_draw = function(fig, msg) {\n",
       "    // Request the server to send over a new figure.\n",
       "    fig.send_draw_message();\n",
       "}\n",
       "\n",
       "mpl.figure.prototype.handle_image_mode = function(fig, msg) {\n",
       "    fig.image_mode = msg['mode'];\n",
       "}\n",
       "\n",
       "mpl.figure.prototype.updated_canvas_event = function() {\n",
       "    // Called whenever the canvas gets updated.\n",
       "    this.send_message(\"ack\", {});\n",
       "}\n",
       "\n",
       "// A function to construct a web socket function for onmessage handling.\n",
       "// Called in the figure constructor.\n",
       "mpl.figure.prototype._make_on_message_function = function(fig) {\n",
       "    return function socket_on_message(evt) {\n",
       "        if (evt.data instanceof Blob) {\n",
       "            /* FIXME: We get \"Resource interpreted as Image but\n",
       "             * transferred with MIME type text/plain:\" errors on\n",
       "             * Chrome.  But how to set the MIME type?  It doesn't seem\n",
       "             * to be part of the websocket stream */\n",
       "            evt.data.type = \"image/png\";\n",
       "\n",
       "            /* Free the memory for the previous frames */\n",
       "            if (fig.imageObj.src) {\n",
       "                (window.URL || window.webkitURL).revokeObjectURL(\n",
       "                    fig.imageObj.src);\n",
       "            }\n",
       "\n",
       "            fig.imageObj.src = (window.URL || window.webkitURL).createObjectURL(\n",
       "                evt.data);\n",
       "            fig.updated_canvas_event();\n",
       "            fig.waiting = false;\n",
       "            return;\n",
       "        }\n",
       "        else if (typeof evt.data === 'string' && evt.data.slice(0, 21) == \"data:image/png;base64\") {\n",
       "            fig.imageObj.src = evt.data;\n",
       "            fig.updated_canvas_event();\n",
       "            fig.waiting = false;\n",
       "            return;\n",
       "        }\n",
       "\n",
       "        var msg = JSON.parse(evt.data);\n",
       "        var msg_type = msg['type'];\n",
       "\n",
       "        // Call the  \"handle_{type}\" callback, which takes\n",
       "        // the figure and JSON message as its only arguments.\n",
       "        try {\n",
       "            var callback = fig[\"handle_\" + msg_type];\n",
       "        } catch (e) {\n",
       "            console.log(\"No handler for the '\" + msg_type + \"' message type: \", msg);\n",
       "            return;\n",
       "        }\n",
       "\n",
       "        if (callback) {\n",
       "            try {\n",
       "                // console.log(\"Handling '\" + msg_type + \"' message: \", msg);\n",
       "                callback(fig, msg);\n",
       "            } catch (e) {\n",
       "                console.log(\"Exception inside the 'handler_\" + msg_type + \"' callback:\", e, e.stack, msg);\n",
       "            }\n",
       "        }\n",
       "    };\n",
       "}\n",
       "\n",
       "// from http://stackoverflow.com/questions/1114465/getting-mouse-location-in-canvas\n",
       "mpl.findpos = function(e) {\n",
       "    //this section is from http://www.quirksmode.org/js/events_properties.html\n",
       "    var targ;\n",
       "    if (!e)\n",
       "        e = window.event;\n",
       "    if (e.target)\n",
       "        targ = e.target;\n",
       "    else if (e.srcElement)\n",
       "        targ = e.srcElement;\n",
       "    if (targ.nodeType == 3) // defeat Safari bug\n",
       "        targ = targ.parentNode;\n",
       "\n",
       "    // jQuery normalizes the pageX and pageY\n",
       "    // pageX,Y are the mouse positions relative to the document\n",
       "    // offset() returns the position of the element relative to the document\n",
       "    var x = e.pageX - $(targ).offset().left;\n",
       "    var y = e.pageY - $(targ).offset().top;\n",
       "\n",
       "    return {\"x\": x, \"y\": y};\n",
       "};\n",
       "\n",
       "/*\n",
       " * return a copy of an object with only non-object keys\n",
       " * we need this to avoid circular references\n",
       " * http://stackoverflow.com/a/24161582/3208463\n",
       " */\n",
       "function simpleKeys (original) {\n",
       "  return Object.keys(original).reduce(function (obj, key) {\n",
       "    if (typeof original[key] !== 'object')\n",
       "        obj[key] = original[key]\n",
       "    return obj;\n",
       "  }, {});\n",
       "}\n",
       "\n",
       "mpl.figure.prototype.mouse_event = function(event, name) {\n",
       "    var canvas_pos = mpl.findpos(event)\n",
       "\n",
       "    if (name === 'button_press')\n",
       "    {\n",
       "        this.canvas.focus();\n",
       "        this.canvas_div.focus();\n",
       "    }\n",
       "\n",
       "    var x = canvas_pos.x * mpl.ratio;\n",
       "    var y = canvas_pos.y * mpl.ratio;\n",
       "\n",
       "    this.send_message(name, {x: x, y: y, button: event.button,\n",
       "                             step: event.step,\n",
       "                             guiEvent: simpleKeys(event)});\n",
       "\n",
       "    /* This prevents the web browser from automatically changing to\n",
       "     * the text insertion cursor when the button is pressed.  We want\n",
       "     * to control all of the cursor setting manually through the\n",
       "     * 'cursor' event from matplotlib */\n",
       "    event.preventDefault();\n",
       "    return false;\n",
       "}\n",
       "\n",
       "mpl.figure.prototype._key_event_extra = function(event, name) {\n",
       "    // Handle any extra behaviour associated with a key event\n",
       "}\n",
       "\n",
       "mpl.figure.prototype.key_event = function(event, name) {\n",
       "\n",
       "    // Prevent repeat events\n",
       "    if (name == 'key_press')\n",
       "    {\n",
       "        if (event.which === this._key)\n",
       "            return;\n",
       "        else\n",
       "            this._key = event.which;\n",
       "    }\n",
       "    if (name == 'key_release')\n",
       "        this._key = null;\n",
       "\n",
       "    var value = '';\n",
       "    if (event.ctrlKey && event.which != 17)\n",
       "        value += \"ctrl+\";\n",
       "    if (event.altKey && event.which != 18)\n",
       "        value += \"alt+\";\n",
       "    if (event.shiftKey && event.which != 16)\n",
       "        value += \"shift+\";\n",
       "\n",
       "    value += 'k';\n",
       "    value += event.which.toString();\n",
       "\n",
       "    this._key_event_extra(event, name);\n",
       "\n",
       "    this.send_message(name, {key: value,\n",
       "                             guiEvent: simpleKeys(event)});\n",
       "    return false;\n",
       "}\n",
       "\n",
       "mpl.figure.prototype.toolbar_button_onclick = function(name) {\n",
       "    if (name == 'download') {\n",
       "        this.handle_save(this, null);\n",
       "    } else {\n",
       "        this.send_message(\"toolbar_button\", {name: name});\n",
       "    }\n",
       "};\n",
       "\n",
       "mpl.figure.prototype.toolbar_button_onmouseover = function(tooltip) {\n",
       "    this.message.textContent = tooltip;\n",
       "};\n",
       "mpl.toolbar_items = [[\"Home\", \"Reset original view\", \"fa fa-home icon-home\", \"home\"], [\"Back\", \"Back to previous view\", \"fa fa-arrow-left icon-arrow-left\", \"back\"], [\"Forward\", \"Forward to next view\", \"fa fa-arrow-right icon-arrow-right\", \"forward\"], [\"\", \"\", \"\", \"\"], [\"Pan\", \"Pan axes with left mouse, zoom with right\", \"fa fa-arrows icon-move\", \"pan\"], [\"Zoom\", \"Zoom to rectangle\", \"fa fa-square-o icon-check-empty\", \"zoom\"], [\"\", \"\", \"\", \"\"], [\"Download\", \"Download plot\", \"fa fa-floppy-o icon-save\", \"download\"]];\n",
       "\n",
       "mpl.extensions = [\"eps\", \"jpeg\", \"pdf\", \"png\", \"ps\", \"raw\", \"svg\", \"tif\"];\n",
       "\n",
       "mpl.default_extension = \"png\";var comm_websocket_adapter = function(comm) {\n",
       "    // Create a \"websocket\"-like object which calls the given IPython comm\n",
       "    // object with the appropriate methods. Currently this is a non binary\n",
       "    // socket, so there is still some room for performance tuning.\n",
       "    var ws = {};\n",
       "\n",
       "    ws.close = function() {\n",
       "        comm.close()\n",
       "    };\n",
       "    ws.send = function(m) {\n",
       "        //console.log('sending', m);\n",
       "        comm.send(m);\n",
       "    };\n",
       "    // Register the callback with on_msg.\n",
       "    comm.on_msg(function(msg) {\n",
       "        //console.log('receiving', msg['content']['data'], msg);\n",
       "        // Pass the mpl event to the overridden (by mpl) onmessage function.\n",
       "        ws.onmessage(msg['content']['data'])\n",
       "    });\n",
       "    return ws;\n",
       "}\n",
       "\n",
       "mpl.mpl_figure_comm = function(comm, msg) {\n",
       "    // This is the function which gets called when the mpl process\n",
       "    // starts-up an IPython Comm through the \"matplotlib\" channel.\n",
       "\n",
       "    var id = msg.content.data.id;\n",
       "    // Get hold of the div created by the display call when the Comm\n",
       "    // socket was opened in Python.\n",
       "    var element = $(\"#\" + id);\n",
       "    var ws_proxy = comm_websocket_adapter(comm)\n",
       "\n",
       "    function ondownload(figure, format) {\n",
       "        window.open(figure.imageObj.src);\n",
       "    }\n",
       "\n",
       "    var fig = new mpl.figure(id, ws_proxy,\n",
       "                           ondownload,\n",
       "                           element.get(0));\n",
       "\n",
       "    // Call onopen now - mpl needs it, as it is assuming we've passed it a real\n",
       "    // web socket which is closed, not our websocket->open comm proxy.\n",
       "    ws_proxy.onopen();\n",
       "\n",
       "    fig.parent_element = element.get(0);\n",
       "    fig.cell_info = mpl.find_output_cell(\"<div id='\" + id + \"'></div>\");\n",
       "    if (!fig.cell_info) {\n",
       "        console.error(\"Failed to find cell for figure\", id, fig);\n",
       "        return;\n",
       "    }\n",
       "\n",
       "    var output_index = fig.cell_info[2]\n",
       "    var cell = fig.cell_info[0];\n",
       "\n",
       "};\n",
       "\n",
       "mpl.figure.prototype.handle_close = function(fig, msg) {\n",
       "    var width = fig.canvas.width/mpl.ratio\n",
       "    fig.root.unbind('remove')\n",
       "\n",
       "    // Update the output cell to use the data from the current canvas.\n",
       "    fig.push_to_output();\n",
       "    var dataURL = fig.canvas.toDataURL();\n",
       "    // Re-enable the keyboard manager in IPython - without this line, in FF,\n",
       "    // the notebook keyboard shortcuts fail.\n",
       "    IPython.keyboard_manager.enable()\n",
       "    $(fig.parent_element).html('<img src=\"' + dataURL + '\" width=\"' + width + '\">');\n",
       "    fig.close_ws(fig, msg);\n",
       "}\n",
       "\n",
       "mpl.figure.prototype.close_ws = function(fig, msg){\n",
       "    fig.send_message('closing', msg);\n",
       "    // fig.ws.close()\n",
       "}\n",
       "\n",
       "mpl.figure.prototype.push_to_output = function(remove_interactive) {\n",
       "    // Turn the data on the canvas into data in the output cell.\n",
       "    var width = this.canvas.width/mpl.ratio\n",
       "    var dataURL = this.canvas.toDataURL();\n",
       "    this.cell_info[1]['text/html'] = '<img src=\"' + dataURL + '\" width=\"' + width + '\">';\n",
       "}\n",
       "\n",
       "mpl.figure.prototype.updated_canvas_event = function() {\n",
       "    // Tell IPython that the notebook contents must change.\n",
       "    IPython.notebook.set_dirty(true);\n",
       "    this.send_message(\"ack\", {});\n",
       "    var fig = this;\n",
       "    // Wait a second, then push the new image to the DOM so\n",
       "    // that it is saved nicely (might be nice to debounce this).\n",
       "    setTimeout(function () { fig.push_to_output() }, 1000);\n",
       "}\n",
       "\n",
       "mpl.figure.prototype._init_toolbar = function() {\n",
       "    var fig = this;\n",
       "\n",
       "    var nav_element = $('<div/>');\n",
       "    nav_element.attr('style', 'width: 100%');\n",
       "    this.root.append(nav_element);\n",
       "\n",
       "    // Define a callback function for later on.\n",
       "    function toolbar_event(event) {\n",
       "        return fig.toolbar_button_onclick(event['data']);\n",
       "    }\n",
       "    function toolbar_mouse_event(event) {\n",
       "        return fig.toolbar_button_onmouseover(event['data']);\n",
       "    }\n",
       "\n",
       "    for(var toolbar_ind in mpl.toolbar_items){\n",
       "        var name = mpl.toolbar_items[toolbar_ind][0];\n",
       "        var tooltip = mpl.toolbar_items[toolbar_ind][1];\n",
       "        var image = mpl.toolbar_items[toolbar_ind][2];\n",
       "        var method_name = mpl.toolbar_items[toolbar_ind][3];\n",
       "\n",
       "        if (!name) { continue; };\n",
       "\n",
       "        var button = $('<button class=\"btn btn-default\" href=\"#\" title=\"' + name + '\"><i class=\"fa ' + image + ' fa-lg\"></i></button>');\n",
       "        button.click(method_name, toolbar_event);\n",
       "        button.mouseover(tooltip, toolbar_mouse_event);\n",
       "        nav_element.append(button);\n",
       "    }\n",
       "\n",
       "    // Add the status bar.\n",
       "    var status_bar = $('<span class=\"mpl-message\" style=\"text-align:right; float: right;\"/>');\n",
       "    nav_element.append(status_bar);\n",
       "    this.message = status_bar[0];\n",
       "\n",
       "    // Add the close button to the window.\n",
       "    var buttongrp = $('<div class=\"btn-group inline pull-right\"></div>');\n",
       "    var button = $('<button class=\"btn btn-mini btn-primary\" href=\"#\" title=\"Stop Interaction\"><i class=\"fa fa-power-off icon-remove icon-large\"></i></button>');\n",
       "    button.click(function (evt) { fig.handle_close(fig, {}); } );\n",
       "    button.mouseover('Stop Interaction', toolbar_mouse_event);\n",
       "    buttongrp.append(button);\n",
       "    var titlebar = this.root.find($('.ui-dialog-titlebar'));\n",
       "    titlebar.prepend(buttongrp);\n",
       "}\n",
       "\n",
       "mpl.figure.prototype._root_extra_style = function(el){\n",
       "    var fig = this\n",
       "    el.on(\"remove\", function(){\n",
       "\tfig.close_ws(fig, {});\n",
       "    });\n",
       "}\n",
       "\n",
       "mpl.figure.prototype._canvas_extra_style = function(el){\n",
       "    // this is important to make the div 'focusable\n",
       "    el.attr('tabindex', 0)\n",
       "    // reach out to IPython and tell the keyboard manager to turn it's self\n",
       "    // off when our div gets focus\n",
       "\n",
       "    // location in version 3\n",
       "    if (IPython.notebook.keyboard_manager) {\n",
       "        IPython.notebook.keyboard_manager.register_events(el);\n",
       "    }\n",
       "    else {\n",
       "        // location in version 2\n",
       "        IPython.keyboard_manager.register_events(el);\n",
       "    }\n",
       "\n",
       "}\n",
       "\n",
       "mpl.figure.prototype._key_event_extra = function(event, name) {\n",
       "    var manager = IPython.notebook.keyboard_manager;\n",
       "    if (!manager)\n",
       "        manager = IPython.keyboard_manager;\n",
       "\n",
       "    // Check for shift+enter\n",
       "    if (event.shiftKey && event.which == 13) {\n",
       "        this.canvas_div.blur();\n",
       "        event.shiftKey = false;\n",
       "        // Send a \"J\" for go to next cell\n",
       "        event.which = 74;\n",
       "        event.keyCode = 74;\n",
       "        manager.command_mode();\n",
       "        manager.handle_keydown(event);\n",
       "    }\n",
       "}\n",
       "\n",
       "mpl.figure.prototype.handle_save = function(fig, msg) {\n",
       "    fig.ondownload(fig, null);\n",
       "}\n",
       "\n",
       "\n",
       "mpl.find_output_cell = function(html_output) {\n",
       "    // Return the cell and output element which can be found *uniquely* in the notebook.\n",
       "    // Note - this is a bit hacky, but it is done because the \"notebook_saving.Notebook\"\n",
       "    // IPython event is triggered only after the cells have been serialised, which for\n",
       "    // our purposes (turning an active figure into a static one), is too late.\n",
       "    var cells = IPython.notebook.get_cells();\n",
       "    var ncells = cells.length;\n",
       "    for (var i=0; i<ncells; i++) {\n",
       "        var cell = cells[i];\n",
       "        if (cell.cell_type === 'code'){\n",
       "            for (var j=0; j<cell.output_area.outputs.length; j++) {\n",
       "                var data = cell.output_area.outputs[j];\n",
       "                if (data.data) {\n",
       "                    // IPython >= 3 moved mimebundle to data attribute of output\n",
       "                    data = data.data;\n",
       "                }\n",
       "                if (data['text/html'] == html_output) {\n",
       "                    return [cell, data, j];\n",
       "                }\n",
       "            }\n",
       "        }\n",
       "    }\n",
       "}\n",
       "\n",
       "// Register the function which deals with the matplotlib target/channel.\n",
       "// The kernel may be null if the page has been refreshed.\n",
       "if (IPython.notebook.kernel != null) {\n",
       "    IPython.notebook.kernel.comm_manager.register_target('matplotlib', mpl.mpl_figure_comm);\n",
       "}\n"
      ],
      "text/plain": [
       "<IPython.core.display.Javascript object>"
      ]
     },
     "metadata": {},
     "output_type": "display_data"
    },
    {
     "data": {
      "text/html": [
       "<img src=\"data:image/png;base64,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\" width=\"800\">"
      ],
      "text/plain": [
       "<IPython.core.display.HTML object>"
      ]
     },
     "metadata": {},
     "output_type": "display_data"
    }
   ],
   "source": [
    "x=np.arange(-10,+10,step=0.1)\n",
    "y=1/(1+np.exp(-x))\n",
    "plt.figure(figsize=(8,4))\n",
    "plt.plot(x,y)\n",
    "plt.show()"
   ]
  },
  {
   "cell_type": "markdown",
   "metadata": {
    "nbpresent": {
     "id": "d2694764-91e9-470a-a771-651d9e44bb5b"
    },
    "slideshow": {
     "slide_type": "slide"
    }
   },
   "source": [
    "## Interpretation of the perceptron\n",
    "The perceptron acts as a binary classifier. Given a set of inputs together with a binary output $\\{0,1\\}$, the weights $w_i$ can be optimized so that the error is minimized. The trained classifier can then be used on new data. Since we use the logistic sigmoid function, this approach is well-known as _logistic regression_."
   ]
  },
  {
   "cell_type": "markdown",
   "metadata": {
    "slideshow": {
     "slide_type": "subslide"
    }
   },
   "source": [
    "### Concept of a loss function\n",
    "In classification or regression, we typically train a system to predict a result given a set of inputs. The difference between the predicted outcome and the measured one is classically called the _loss_. There are many possible _loss functions_ depending on the type of outcome."
   ]
  },
  {
   "cell_type": "markdown",
   "metadata": {
    "nbpresent": {
     "id": "af1132ec-9d4f-47ec-aa5d-b5b3be4d1751"
    },
    "slideshow": {
     "slide_type": "subslide"
    }
   },
   "source": [
    "### The quadratic loss\n",
    "In linear regression, is it typical to consider a quadratic loss\n",
    "\n",
    "$$\n",
    "{\\cal L}_2(\\V{x},\\V{y}) = \\| \\M{A}\\V{x}-\\V{y} \\|^2,\n",
    "$$ \n",
    "\n",
    "where the $\\|.\\|$ denotes the Euclidean (or $\\ell_2$) norm and $A$ is a linear operator in matrix form. This loss gives rise to the well-known and powerful least-square methods. In linear regression this is well suited because the ${\\cal L}_2$ loss is convex in this case.\n",
    "\n",
    "This particular loss is very common because, in statistical terms, it corresponds to the log-likelihood of the Gaussian noise. Let us review these concepts in the next slide.\n",
    "\n"
   ]
  },
  {
   "cell_type": "markdown",
   "metadata": {
    "nbpresent": {
     "id": "c2e57577-cdfd-4c37-9295-7071168894e0"
    },
    "slideshow": {
     "slide_type": "slide"
    }
   },
   "source": [
    "### Loss as a log-likelihood\n",
    "Given a parametrized family of probability density functions (for a continuous distribution) or probability mass function (for a discrete distribution),\n",
    "$$\n",
    "\\V{x} \\mapsto f(\\V{x}\\, | \\,\\theta),\n",
    "$$\n",
    "where $\\theta$ is the vector of parameters. We call the likelihood the function\n",
    "$$\n",
    "\\theta \\mapsto f(\\V{x} \\,|\\, \\theta).\n",
    "$$\n",
    "Typically, this function is written\n",
    "$$\n",
    "{\\cal L}(\\theta\\, |\\, \\V{x}) = f(\\V{x}\\, |\\, \\theta)\n",
    "$$"
   ]
  },
  {
   "cell_type": "markdown",
   "metadata": {
    "nbpresent": {
     "id": "fbf51d47-f104-44e2-a411-d50aee130db6"
    },
    "slideshow": {
     "slide_type": "subslide"
    }
   },
   "source": [
    "### The method of maximum likelihood estimation\n",
    "Given the above, the method of maximum likelihood estimation (MLE) finds the value of the parameter vector $\\hat{\\theta}$ that maximizes the likelihood function ${\\cal L}(\\theta\\, |\\, x)$.\n",
    "$$\n",
    "\\hat{\\theta} = \\underset{\\theta}{\\text{argmax}}\\;{\\cal L}(\\theta\\,|\\,\\V{x})\n",
    "$$\n",
    "As is typical, we go for a minimization instead of a maximization, and we take the log of the likelihood. The value of $\\hat{\\theta}$ is unchanged.\n",
    "$$\n",
    "\\hat{\\theta} = \\underset{\\theta}{\\text{argmin}}\\;-\\log{\\cal L}(\\theta\\,|\\,\\V{x})\n",
    "$$\n",
    "The function $-\\log{\\cal L}(\\theta\\,|\\,\\V{x})$ is often called the negative log-likelihood."
   ]
  },
  {
   "cell_type": "markdown",
   "metadata": {
    "nbpresent": {
     "id": "fede4569-95ab-4b6d-b276-8d7bc16fd51a"
    },
    "slideshow": {
     "slide_type": "subslide"
    }
   },
   "source": [
    "#### MLE estimation example\n",
    "A typical case is when an observation represented by a linear operator $\\M{H}$ is corrupted by noise. If we assume the noise is centered additive white Gaussian, we write\n",
    "\n",
    "$$\n",
    "\\V{y} = \\M{H}\\V{x} + \\eta,\n",
    "$$\n",
    "where $\\eta \\sim G(0,\\sigma)$. We can write\n",
    "\n",
    "$$\n",
    "\\M{H}\\V{x} - \\V{y} \\sim G(0,\\sigma),\n",
    "$$\n",
    "and so the probability distribution of $\\V{x}$ given $\\sigma$ is\n",
    "$$\n",
    "P(\\V{x}|\\sigma) = \\frac{1}{\\sqrt{2\\pi\\sigma^2}}\\exp\\left(-\\frac{\\|\\M{H}\\V{x}-\\V{y}\\|^2}{2\\sigma^2}\\right).\n",
    "$$"
   ]
  },
  {
   "cell_type": "markdown",
   "metadata": {},
   "source": [
    "Following the method of maximum likelihood, the best estimator for $\\V{x}$ is (by taking the log and ignoring constants)\n",
    "\n",
    "$$\n",
    "\\hat{\\V{x}} = \\underset{\\V{x}}{\\text{argmin}} \\; \\|\\M{H}\\V{x} - \\V{y}\\|^2,\n",
    "$$\n",
    "\n",
    "i.e. nothing more than the method of least squares, as mentioned above. since $\\M{H}$ can be an arbitrary linear operator, it can represent very sophisticated aparatuses: MRI machines, CT scanners, non-trivial cameras, etc. This estimator is at the basis of many famous and varied methods in signal and image processing."
   ]
  },
  {
   "cell_type": "markdown",
   "metadata": {
    "nbpresent": {
     "id": "c7c1bddc-d036-4748-b742-52d4d53628cd"
    },
    "slideshow": {
     "slide_type": "slide"
    }
   },
   "source": [
    "## Gradient descent\n",
    "With the method of maximum likelihood estimation, we will need to compute\n",
    "$$\n",
    "\\hat{\\V{y}} = \\underset{\\V{w},b}{\\text{argmin}}\\;{\\cal L}(\\V{a},\\V{y})\n",
    "$$\n",
    "For this, one way is to use the method of _gradient descent_. For this we take as example linear regression.\n",
    "\n",
    "To solve the Least-Square regression problem, we seek a solution to \n",
    "\n",
    "$$\n",
    "\\V{x}^\\star = \\underset{\\V{x}}{\\operatorname{argmin}} f_0(\\V{x)} = \\| \\M{A} \\V{x} - \\V{b}\\|^2_2\n",
    "$$\n",
    "\n",
    "The gradient of this objective function is\n",
    "\n",
    "$$\n",
    "\\nabla f_0 (\\V{x}) = 2 \\M{A}^\\top (\\M{A} \\V{x} - \\V{b})\n",
    "$$"
   ]
  },
  {
   "cell_type": "markdown",
   "metadata": {
    "nbpresent": {
     "id": "8ce63e7a-5bd3-4bd5-8a06-1845992f04ab"
    },
    "slideshow": {
     "slide_type": "subslide"
    }
   },
   "source": [
    "The gradient descent algorithm is basically\n",
    "\\begin{align}\n",
    "\\text{do} \\{ & \\\\\n",
    "             & \\V{x}_{k+1} = \\V{x}_{k} - \\alpha \\nabla f_0(\\V{x}_k) \\\\\n",
    "\\} & \\;\\text{while}\\;  (|\\V{x}_k - \\V{x}_{k+1}| > \\varepsilon)\n",
    "\\end{align}\n",
    "\n",
    "\n",
    "$\\alpha$ is the stepsize, which is also called the _learning rate_. In the following function, it is fixed. Note that the maximum stepsize is a function of the maximum curvature of the function, or equivalently the maximum Lipschitz factor of the gradient of ${\\cal L}$. "
   ]
  },
  {
   "cell_type": "code",
   "execution_count": 8,
   "metadata": {
    "nbpresent": {
     "id": "ba1ad056-bd9d-4f41-8aab-e3242ccf07f8"
    },
    "slideshow": {
     "slide_type": "subslide"
    }
   },
   "outputs": [],
   "source": [
    "def iterative_sol_gd(A, y, step, epsilon=1e-5, maxiter=10000):\n",
    "    \"\"\"\n",
    "    This function solves a least-square problem by a gradient descent approach\n",
    "    with a fixed stepsize.\n",
    "    \"\"\"\n",
    "    AT = A.T\n",
    "    pn = AT.dot(y) * 0.\n",
    "    iter = 0\n",
    "    while True:\n",
    "        Grad = 2*A.T.dot(A.dot(pn) - y)\n",
    "        pn1 = pn - step*Grad\n",
    "        diff = pn1-pn\n",
    "        if (diff.T.dot(diff) < epsilon*epsilon):\n",
    "            print(\"OK (%d iterations)\" % iter)\n",
    "            break\n",
    "        pn = pn1\n",
    "        iter += 1\n",
    "        if (iter > maxiter):\n",
    "            print(\"Exceeded maximum number of iterations (%d)\" % maxiter)\n",
    "            break\n",
    "    return pn1"
   ]
  },
  {
   "cell_type": "code",
   "execution_count": 9,
   "metadata": {
    "nbpresent": {
     "id": "414913a1-ff93-478e-b077-0afda1a58732"
    },
    "slideshow": {
     "slide_type": "skip"
    }
   },
   "outputs": [],
   "source": [
    "def iterative_linear_regression(eps=1e-5, LF=1.5):\n",
    "    \"\"\"\n",
    "        Iterative solution to the least square problem by gradient descent.\n",
    "        LF is the Lipschitz factor. Theoretically 1.0 is the best and 2.0 diverges. \n",
    "        In practice slightly less than 2.0 yields (e.g. 1.99) better results.\n",
    "    \"\"\"\n",
    "    # input range\n",
    "    x = np.arange(1,4,0.01)\n",
    "    n = x.size\n",
    "    # linear model, corrupted by noise\n",
    "    y1 = 3.0 * x + 2.0\n",
    "    y = y1 + np.random.normal(0,0.5,n)\n",
    "    # linear regression retrieves the model\n",
    "    A= np.array((x, np.ones(n)))\n",
    "    AT=A.T\n",
    "    y= y.T\n",
    "    # compute the Hessian of the system\n",
    "    A2=AT.dot(A)\n",
    "    # compute the largest eigenvalue\n",
    "    leigh = eigh(A2,eigvals_only=True)\n",
    "    mleigh = max(leigh)  \n",
    "    print(\"Lipschitz constant = %f\" % (2*mleigh))\n",
    "    L= 1./(2*mleigh)\n",
    "    ## print(\"Maximum stepsize = %f\" % (2*L))\n",
    "    res = iterative_sol_gd(AT,y,step=LF*L,epsilon=eps)\n",
    "    print(\"Estimated parameters : p1=%.5f, p2=%.5f\" % (res[0],res[1]))\n",
    "    solutionA = np.dot(np.linalg.inv(np.dot(AT.T,AT)),np.dot(AT.T,y))\n",
    "    print(\"Expected parameters  : p1=%.5f, p2=%.5f\" % (solutionA[0],solutionA[1]))\n",
    "    linesol1 = res[0]*x + res[1]\n",
    "    linesol2 = solutionA[0]*x + solutionA[1]\n",
    "    fig = plt.figure()\n",
    "    plt.plot(x,y,\"g.\", x,linesol1,\"--k\", x,linesol2,\"b\")\n",
    "    fig.show()\n",
    "    return"
   ]
  },
  {
   "cell_type": "code",
   "execution_count": 10,
   "metadata": {
    "nbpresent": {
     "id": "6e43aca7-4224-489c-bc63-a03ca8309dee"
    },
    "slideshow": {
     "slide_type": "subslide"
    }
   },
   "outputs": [
    {
     "name": "stdout",
     "output_type": "stream",
     "text": [
      "Lipschitz constant = 4727.902862\n",
      "OK (613 iterations)\n",
      "Estimated parameters : p1=3.00420, p2=1.95101\n",
      "Expected parameters  : p1=3.00419, p2=1.95101\n"
     ]
    },
    {
     "data": {
      "application/javascript": [
       "/* Put everything inside the global mpl namespace */\n",
       "window.mpl = {};\n",
       "\n",
       "\n",
       "mpl.get_websocket_type = function() {\n",
       "    if (typeof(WebSocket) !== 'undefined') {\n",
       "        return WebSocket;\n",
       "    } else if (typeof(MozWebSocket) !== 'undefined') {\n",
       "        return MozWebSocket;\n",
       "    } else {\n",
       "        alert('Your browser does not have WebSocket support. ' +\n",
       "              'Please try Chrome, Safari or Firefox ≥ 6. ' +\n",
       "              'Firefox 4 and 5 are also supported but you ' +\n",
       "              'have to enable WebSockets in about:config.');\n",
       "    };\n",
       "}\n",
       "\n",
       "mpl.figure = function(figure_id, websocket, ondownload, parent_element) {\n",
       "    this.id = figure_id;\n",
       "\n",
       "    this.ws = websocket;\n",
       "\n",
       "    this.supports_binary = (this.ws.binaryType != undefined);\n",
       "\n",
       "    if (!this.supports_binary) {\n",
       "        var warnings = document.getElementById(\"mpl-warnings\");\n",
       "        if (warnings) {\n",
       "            warnings.style.display = 'block';\n",
       "            warnings.textContent = (\n",
       "                \"This browser does not support binary websocket messages. \" +\n",
       "                    \"Performance may be slow.\");\n",
       "        }\n",
       "    }\n",
       "\n",
       "    this.imageObj = new Image();\n",
       "\n",
       "    this.context = undefined;\n",
       "    this.message = undefined;\n",
       "    this.canvas = undefined;\n",
       "    this.rubberband_canvas = undefined;\n",
       "    this.rubberband_context = undefined;\n",
       "    this.format_dropdown = undefined;\n",
       "\n",
       "    this.image_mode = 'full';\n",
       "\n",
       "    this.root = $('<div/>');\n",
       "    this._root_extra_style(this.root)\n",
       "    this.root.attr('style', 'display: inline-block');\n",
       "\n",
       "    $(parent_element).append(this.root);\n",
       "\n",
       "    this._init_header(this);\n",
       "    this._init_canvas(this);\n",
       "    this._init_toolbar(this);\n",
       "\n",
       "    var fig = this;\n",
       "\n",
       "    this.waiting = false;\n",
       "\n",
       "    this.ws.onopen =  function () {\n",
       "            fig.send_message(\"supports_binary\", {value: fig.supports_binary});\n",
       "            fig.send_message(\"send_image_mode\", {});\n",
       "            if (mpl.ratio != 1) {\n",
       "                fig.send_message(\"set_dpi_ratio\", {'dpi_ratio': mpl.ratio});\n",
       "            }\n",
       "            fig.send_message(\"refresh\", {});\n",
       "        }\n",
       "\n",
       "    this.imageObj.onload = function() {\n",
       "            if (fig.image_mode == 'full') {\n",
       "                // Full images could contain transparency (where diff images\n",
       "                // almost always do), so we need to clear the canvas so that\n",
       "                // there is no ghosting.\n",
       "                fig.context.clearRect(0, 0, fig.canvas.width, fig.canvas.height);\n",
       "            }\n",
       "            fig.context.drawImage(fig.imageObj, 0, 0);\n",
       "        };\n",
       "\n",
       "    this.imageObj.onunload = function() {\n",
       "        fig.ws.close();\n",
       "    }\n",
       "\n",
       "    this.ws.onmessage = this._make_on_message_function(this);\n",
       "\n",
       "    this.ondownload = ondownload;\n",
       "}\n",
       "\n",
       "mpl.figure.prototype._init_header = function() {\n",
       "    var titlebar = $(\n",
       "        '<div class=\"ui-dialog-titlebar ui-widget-header ui-corner-all ' +\n",
       "        'ui-helper-clearfix\"/>');\n",
       "    var titletext = $(\n",
       "        '<div class=\"ui-dialog-title\" style=\"width: 100%; ' +\n",
       "        'text-align: center; padding: 3px;\"/>');\n",
       "    titlebar.append(titletext)\n",
       "    this.root.append(titlebar);\n",
       "    this.header = titletext[0];\n",
       "}\n",
       "\n",
       "\n",
       "\n",
       "mpl.figure.prototype._canvas_extra_style = function(canvas_div) {\n",
       "\n",
       "}\n",
       "\n",
       "\n",
       "mpl.figure.prototype._root_extra_style = function(canvas_div) {\n",
       "\n",
       "}\n",
       "\n",
       "mpl.figure.prototype._init_canvas = function() {\n",
       "    var fig = this;\n",
       "\n",
       "    var canvas_div = $('<div/>');\n",
       "\n",
       "    canvas_div.attr('style', 'position: relative; clear: both; outline: 0');\n",
       "\n",
       "    function canvas_keyboard_event(event) {\n",
       "        return fig.key_event(event, event['data']);\n",
       "    }\n",
       "\n",
       "    canvas_div.keydown('key_press', canvas_keyboard_event);\n",
       "    canvas_div.keyup('key_release', canvas_keyboard_event);\n",
       "    this.canvas_div = canvas_div\n",
       "    this._canvas_extra_style(canvas_div)\n",
       "    this.root.append(canvas_div);\n",
       "\n",
       "    var canvas = $('<canvas/>');\n",
       "    canvas.addClass('mpl-canvas');\n",
       "    canvas.attr('style', \"left: 0; top: 0; z-index: 0; outline: 0\")\n",
       "\n",
       "    this.canvas = canvas[0];\n",
       "    this.context = canvas[0].getContext(\"2d\");\n",
       "\n",
       "    var backingStore = this.context.backingStorePixelRatio ||\n",
       "\tthis.context.webkitBackingStorePixelRatio ||\n",
       "\tthis.context.mozBackingStorePixelRatio ||\n",
       "\tthis.context.msBackingStorePixelRatio ||\n",
       "\tthis.context.oBackingStorePixelRatio ||\n",
       "\tthis.context.backingStorePixelRatio || 1;\n",
       "\n",
       "    mpl.ratio = (window.devicePixelRatio || 1) / backingStore;\n",
       "\n",
       "    var rubberband = $('<canvas/>');\n",
       "    rubberband.attr('style', \"position: absolute; left: 0; top: 0; z-index: 1;\")\n",
       "\n",
       "    var pass_mouse_events = true;\n",
       "\n",
       "    canvas_div.resizable({\n",
       "        start: function(event, ui) {\n",
       "            pass_mouse_events = false;\n",
       "        },\n",
       "        resize: function(event, ui) {\n",
       "            fig.request_resize(ui.size.width, ui.size.height);\n",
       "        },\n",
       "        stop: function(event, ui) {\n",
       "            pass_mouse_events = true;\n",
       "            fig.request_resize(ui.size.width, ui.size.height);\n",
       "        },\n",
       "    });\n",
       "\n",
       "    function mouse_event_fn(event) {\n",
       "        if (pass_mouse_events)\n",
       "            return fig.mouse_event(event, event['data']);\n",
       "    }\n",
       "\n",
       "    rubberband.mousedown('button_press', mouse_event_fn);\n",
       "    rubberband.mouseup('button_release', mouse_event_fn);\n",
       "    // Throttle sequential mouse events to 1 every 20ms.\n",
       "    rubberband.mousemove('motion_notify', mouse_event_fn);\n",
       "\n",
       "    rubberband.mouseenter('figure_enter', mouse_event_fn);\n",
       "    rubberband.mouseleave('figure_leave', mouse_event_fn);\n",
       "\n",
       "    canvas_div.on(\"wheel\", function (event) {\n",
       "        event = event.originalEvent;\n",
       "        event['data'] = 'scroll'\n",
       "        if (event.deltaY < 0) {\n",
       "            event.step = 1;\n",
       "        } else {\n",
       "            event.step = -1;\n",
       "        }\n",
       "        mouse_event_fn(event);\n",
       "    });\n",
       "\n",
       "    canvas_div.append(canvas);\n",
       "    canvas_div.append(rubberband);\n",
       "\n",
       "    this.rubberband = rubberband;\n",
       "    this.rubberband_canvas = rubberband[0];\n",
       "    this.rubberband_context = rubberband[0].getContext(\"2d\");\n",
       "    this.rubberband_context.strokeStyle = \"#000000\";\n",
       "\n",
       "    this._resize_canvas = function(width, height) {\n",
       "        // Keep the size of the canvas, canvas container, and rubber band\n",
       "        // canvas in synch.\n",
       "        canvas_div.css('width', width)\n",
       "        canvas_div.css('height', height)\n",
       "\n",
       "        canvas.attr('width', width * mpl.ratio);\n",
       "        canvas.attr('height', height * mpl.ratio);\n",
       "        canvas.attr('style', 'width: ' + width + 'px; height: ' + height + 'px;');\n",
       "\n",
       "        rubberband.attr('width', width);\n",
       "        rubberband.attr('height', height);\n",
       "    }\n",
       "\n",
       "    // Set the figure to an initial 600x600px, this will subsequently be updated\n",
       "    // upon first draw.\n",
       "    this._resize_canvas(600, 600);\n",
       "\n",
       "    // Disable right mouse context menu.\n",
       "    $(this.rubberband_canvas).bind(\"contextmenu\",function(e){\n",
       "        return false;\n",
       "    });\n",
       "\n",
       "    function set_focus () {\n",
       "        canvas.focus();\n",
       "        canvas_div.focus();\n",
       "    }\n",
       "\n",
       "    window.setTimeout(set_focus, 100);\n",
       "}\n",
       "\n",
       "mpl.figure.prototype._init_toolbar = function() {\n",
       "    var fig = this;\n",
       "\n",
       "    var nav_element = $('<div/>');\n",
       "    nav_element.attr('style', 'width: 100%');\n",
       "    this.root.append(nav_element);\n",
       "\n",
       "    // Define a callback function for later on.\n",
       "    function toolbar_event(event) {\n",
       "        return fig.toolbar_button_onclick(event['data']);\n",
       "    }\n",
       "    function toolbar_mouse_event(event) {\n",
       "        return fig.toolbar_button_onmouseover(event['data']);\n",
       "    }\n",
       "\n",
       "    for(var toolbar_ind in mpl.toolbar_items) {\n",
       "        var name = mpl.toolbar_items[toolbar_ind][0];\n",
       "        var tooltip = mpl.toolbar_items[toolbar_ind][1];\n",
       "        var image = mpl.toolbar_items[toolbar_ind][2];\n",
       "        var method_name = mpl.toolbar_items[toolbar_ind][3];\n",
       "\n",
       "        if (!name) {\n",
       "            // put a spacer in here.\n",
       "            continue;\n",
       "        }\n",
       "        var button = $('<button/>');\n",
       "        button.addClass('ui-button ui-widget ui-state-default ui-corner-all ' +\n",
       "                        'ui-button-icon-only');\n",
       "        button.attr('role', 'button');\n",
       "        button.attr('aria-disabled', 'false');\n",
       "        button.click(method_name, toolbar_event);\n",
       "        button.mouseover(tooltip, toolbar_mouse_event);\n",
       "\n",
       "        var icon_img = $('<span/>');\n",
       "        icon_img.addClass('ui-button-icon-primary ui-icon');\n",
       "        icon_img.addClass(image);\n",
       "        icon_img.addClass('ui-corner-all');\n",
       "\n",
       "        var tooltip_span = $('<span/>');\n",
       "        tooltip_span.addClass('ui-button-text');\n",
       "        tooltip_span.html(tooltip);\n",
       "\n",
       "        button.append(icon_img);\n",
       "        button.append(tooltip_span);\n",
       "\n",
       "        nav_element.append(button);\n",
       "    }\n",
       "\n",
       "    var fmt_picker_span = $('<span/>');\n",
       "\n",
       "    var fmt_picker = $('<select/>');\n",
       "    fmt_picker.addClass('mpl-toolbar-option ui-widget ui-widget-content');\n",
       "    fmt_picker_span.append(fmt_picker);\n",
       "    nav_element.append(fmt_picker_span);\n",
       "    this.format_dropdown = fmt_picker[0];\n",
       "\n",
       "    for (var ind in mpl.extensions) {\n",
       "        var fmt = mpl.extensions[ind];\n",
       "        var option = $(\n",
       "            '<option/>', {selected: fmt === mpl.default_extension}).html(fmt);\n",
       "        fmt_picker.append(option);\n",
       "    }\n",
       "\n",
       "    // Add hover states to the ui-buttons\n",
       "    $( \".ui-button\" ).hover(\n",
       "        function() { $(this).addClass(\"ui-state-hover\");},\n",
       "        function() { $(this).removeClass(\"ui-state-hover\");}\n",
       "    );\n",
       "\n",
       "    var status_bar = $('<span class=\"mpl-message\"/>');\n",
       "    nav_element.append(status_bar);\n",
       "    this.message = status_bar[0];\n",
       "}\n",
       "\n",
       "mpl.figure.prototype.request_resize = function(x_pixels, y_pixels) {\n",
       "    // Request matplotlib to resize the figure. Matplotlib will then trigger a resize in the client,\n",
       "    // which will in turn request a refresh of the image.\n",
       "    this.send_message('resize', {'width': x_pixels, 'height': y_pixels});\n",
       "}\n",
       "\n",
       "mpl.figure.prototype.send_message = function(type, properties) {\n",
       "    properties['type'] = type;\n",
       "    properties['figure_id'] = this.id;\n",
       "    this.ws.send(JSON.stringify(properties));\n",
       "}\n",
       "\n",
       "mpl.figure.prototype.send_draw_message = function() {\n",
       "    if (!this.waiting) {\n",
       "        this.waiting = true;\n",
       "        this.ws.send(JSON.stringify({type: \"draw\", figure_id: this.id}));\n",
       "    }\n",
       "}\n",
       "\n",
       "\n",
       "mpl.figure.prototype.handle_save = function(fig, msg) {\n",
       "    var format_dropdown = fig.format_dropdown;\n",
       "    var format = format_dropdown.options[format_dropdown.selectedIndex].value;\n",
       "    fig.ondownload(fig, format);\n",
       "}\n",
       "\n",
       "\n",
       "mpl.figure.prototype.handle_resize = function(fig, msg) {\n",
       "    var size = msg['size'];\n",
       "    if (size[0] != fig.canvas.width || size[1] != fig.canvas.height) {\n",
       "        fig._resize_canvas(size[0], size[1]);\n",
       "        fig.send_message(\"refresh\", {});\n",
       "    };\n",
       "}\n",
       "\n",
       "mpl.figure.prototype.handle_rubberband = function(fig, msg) {\n",
       "    var x0 = msg['x0'] / mpl.ratio;\n",
       "    var y0 = (fig.canvas.height - msg['y0']) / mpl.ratio;\n",
       "    var x1 = msg['x1'] / mpl.ratio;\n",
       "    var y1 = (fig.canvas.height - msg['y1']) / mpl.ratio;\n",
       "    x0 = Math.floor(x0) + 0.5;\n",
       "    y0 = Math.floor(y0) + 0.5;\n",
       "    x1 = Math.floor(x1) + 0.5;\n",
       "    y1 = Math.floor(y1) + 0.5;\n",
       "    var min_x = Math.min(x0, x1);\n",
       "    var min_y = Math.min(y0, y1);\n",
       "    var width = Math.abs(x1 - x0);\n",
       "    var height = Math.abs(y1 - y0);\n",
       "\n",
       "    fig.rubberband_context.clearRect(\n",
       "        0, 0, fig.canvas.width, fig.canvas.height);\n",
       "\n",
       "    fig.rubberband_context.strokeRect(min_x, min_y, width, height);\n",
       "}\n",
       "\n",
       "mpl.figure.prototype.handle_figure_label = function(fig, msg) {\n",
       "    // Updates the figure title.\n",
       "    fig.header.textContent = msg['label'];\n",
       "}\n",
       "\n",
       "mpl.figure.prototype.handle_cursor = function(fig, msg) {\n",
       "    var cursor = msg['cursor'];\n",
       "    switch(cursor)\n",
       "    {\n",
       "    case 0:\n",
       "        cursor = 'pointer';\n",
       "        break;\n",
       "    case 1:\n",
       "        cursor = 'default';\n",
       "        break;\n",
       "    case 2:\n",
       "        cursor = 'crosshair';\n",
       "        break;\n",
       "    case 3:\n",
       "        cursor = 'move';\n",
       "        break;\n",
       "    }\n",
       "    fig.rubberband_canvas.style.cursor = cursor;\n",
       "}\n",
       "\n",
       "mpl.figure.prototype.handle_message = function(fig, msg) {\n",
       "    fig.message.textContent = msg['message'];\n",
       "}\n",
       "\n",
       "mpl.figure.prototype.handle_draw = function(fig, msg) {\n",
       "    // Request the server to send over a new figure.\n",
       "    fig.send_draw_message();\n",
       "}\n",
       "\n",
       "mpl.figure.prototype.handle_image_mode = function(fig, msg) {\n",
       "    fig.image_mode = msg['mode'];\n",
       "}\n",
       "\n",
       "mpl.figure.prototype.updated_canvas_event = function() {\n",
       "    // Called whenever the canvas gets updated.\n",
       "    this.send_message(\"ack\", {});\n",
       "}\n",
       "\n",
       "// A function to construct a web socket function for onmessage handling.\n",
       "// Called in the figure constructor.\n",
       "mpl.figure.prototype._make_on_message_function = function(fig) {\n",
       "    return function socket_on_message(evt) {\n",
       "        if (evt.data instanceof Blob) {\n",
       "            /* FIXME: We get \"Resource interpreted as Image but\n",
       "             * transferred with MIME type text/plain:\" errors on\n",
       "             * Chrome.  But how to set the MIME type?  It doesn't seem\n",
       "             * to be part of the websocket stream */\n",
       "            evt.data.type = \"image/png\";\n",
       "\n",
       "            /* Free the memory for the previous frames */\n",
       "            if (fig.imageObj.src) {\n",
       "                (window.URL || window.webkitURL).revokeObjectURL(\n",
       "                    fig.imageObj.src);\n",
       "            }\n",
       "\n",
       "            fig.imageObj.src = (window.URL || window.webkitURL).createObjectURL(\n",
       "                evt.data);\n",
       "            fig.updated_canvas_event();\n",
       "            fig.waiting = false;\n",
       "            return;\n",
       "        }\n",
       "        else if (typeof evt.data === 'string' && evt.data.slice(0, 21) == \"data:image/png;base64\") {\n",
       "            fig.imageObj.src = evt.data;\n",
       "            fig.updated_canvas_event();\n",
       "            fig.waiting = false;\n",
       "            return;\n",
       "        }\n",
       "\n",
       "        var msg = JSON.parse(evt.data);\n",
       "        var msg_type = msg['type'];\n",
       "\n",
       "        // Call the  \"handle_{type}\" callback, which takes\n",
       "        // the figure and JSON message as its only arguments.\n",
       "        try {\n",
       "            var callback = fig[\"handle_\" + msg_type];\n",
       "        } catch (e) {\n",
       "            console.log(\"No handler for the '\" + msg_type + \"' message type: \", msg);\n",
       "            return;\n",
       "        }\n",
       "\n",
       "        if (callback) {\n",
       "            try {\n",
       "                // console.log(\"Handling '\" + msg_type + \"' message: \", msg);\n",
       "                callback(fig, msg);\n",
       "            } catch (e) {\n",
       "                console.log(\"Exception inside the 'handler_\" + msg_type + \"' callback:\", e, e.stack, msg);\n",
       "            }\n",
       "        }\n",
       "    };\n",
       "}\n",
       "\n",
       "// from http://stackoverflow.com/questions/1114465/getting-mouse-location-in-canvas\n",
       "mpl.findpos = function(e) {\n",
       "    //this section is from http://www.quirksmode.org/js/events_properties.html\n",
       "    var targ;\n",
       "    if (!e)\n",
       "        e = window.event;\n",
       "    if (e.target)\n",
       "        targ = e.target;\n",
       "    else if (e.srcElement)\n",
       "        targ = e.srcElement;\n",
       "    if (targ.nodeType == 3) // defeat Safari bug\n",
       "        targ = targ.parentNode;\n",
       "\n",
       "    // jQuery normalizes the pageX and pageY\n",
       "    // pageX,Y are the mouse positions relative to the document\n",
       "    // offset() returns the position of the element relative to the document\n",
       "    var x = e.pageX - $(targ).offset().left;\n",
       "    var y = e.pageY - $(targ).offset().top;\n",
       "\n",
       "    return {\"x\": x, \"y\": y};\n",
       "};\n",
       "\n",
       "/*\n",
       " * return a copy of an object with only non-object keys\n",
       " * we need this to avoid circular references\n",
       " * http://stackoverflow.com/a/24161582/3208463\n",
       " */\n",
       "function simpleKeys (original) {\n",
       "  return Object.keys(original).reduce(function (obj, key) {\n",
       "    if (typeof original[key] !== 'object')\n",
       "        obj[key] = original[key]\n",
       "    return obj;\n",
       "  }, {});\n",
       "}\n",
       "\n",
       "mpl.figure.prototype.mouse_event = function(event, name) {\n",
       "    var canvas_pos = mpl.findpos(event)\n",
       "\n",
       "    if (name === 'button_press')\n",
       "    {\n",
       "        this.canvas.focus();\n",
       "        this.canvas_div.focus();\n",
       "    }\n",
       "\n",
       "    var x = canvas_pos.x * mpl.ratio;\n",
       "    var y = canvas_pos.y * mpl.ratio;\n",
       "\n",
       "    this.send_message(name, {x: x, y: y, button: event.button,\n",
       "                             step: event.step,\n",
       "                             guiEvent: simpleKeys(event)});\n",
       "\n",
       "    /* This prevents the web browser from automatically changing to\n",
       "     * the text insertion cursor when the button is pressed.  We want\n",
       "     * to control all of the cursor setting manually through the\n",
       "     * 'cursor' event from matplotlib */\n",
       "    event.preventDefault();\n",
       "    return false;\n",
       "}\n",
       "\n",
       "mpl.figure.prototype._key_event_extra = function(event, name) {\n",
       "    // Handle any extra behaviour associated with a key event\n",
       "}\n",
       "\n",
       "mpl.figure.prototype.key_event = function(event, name) {\n",
       "\n",
       "    // Prevent repeat events\n",
       "    if (name == 'key_press')\n",
       "    {\n",
       "        if (event.which === this._key)\n",
       "            return;\n",
       "        else\n",
       "            this._key = event.which;\n",
       "    }\n",
       "    if (name == 'key_release')\n",
       "        this._key = null;\n",
       "\n",
       "    var value = '';\n",
       "    if (event.ctrlKey && event.which != 17)\n",
       "        value += \"ctrl+\";\n",
       "    if (event.altKey && event.which != 18)\n",
       "        value += \"alt+\";\n",
       "    if (event.shiftKey && event.which != 16)\n",
       "        value += \"shift+\";\n",
       "\n",
       "    value += 'k';\n",
       "    value += event.which.toString();\n",
       "\n",
       "    this._key_event_extra(event, name);\n",
       "\n",
       "    this.send_message(name, {key: value,\n",
       "                             guiEvent: simpleKeys(event)});\n",
       "    return false;\n",
       "}\n",
       "\n",
       "mpl.figure.prototype.toolbar_button_onclick = function(name) {\n",
       "    if (name == 'download') {\n",
       "        this.handle_save(this, null);\n",
       "    } else {\n",
       "        this.send_message(\"toolbar_button\", {name: name});\n",
       "    }\n",
       "};\n",
       "\n",
       "mpl.figure.prototype.toolbar_button_onmouseover = function(tooltip) {\n",
       "    this.message.textContent = tooltip;\n",
       "};\n",
       "mpl.toolbar_items = [[\"Home\", \"Reset original view\", \"fa fa-home icon-home\", \"home\"], [\"Back\", \"Back to previous view\", \"fa fa-arrow-left icon-arrow-left\", \"back\"], [\"Forward\", \"Forward to next view\", \"fa fa-arrow-right icon-arrow-right\", \"forward\"], [\"\", \"\", \"\", \"\"], [\"Pan\", \"Pan axes with left mouse, zoom with right\", \"fa fa-arrows icon-move\", \"pan\"], [\"Zoom\", \"Zoom to rectangle\", \"fa fa-square-o icon-check-empty\", \"zoom\"], [\"\", \"\", \"\", \"\"], [\"Download\", \"Download plot\", \"fa fa-floppy-o icon-save\", \"download\"]];\n",
       "\n",
       "mpl.extensions = [\"eps\", \"jpeg\", \"pdf\", \"png\", \"ps\", \"raw\", \"svg\", \"tif\"];\n",
       "\n",
       "mpl.default_extension = \"png\";var comm_websocket_adapter = function(comm) {\n",
       "    // Create a \"websocket\"-like object which calls the given IPython comm\n",
       "    // object with the appropriate methods. Currently this is a non binary\n",
       "    // socket, so there is still some room for performance tuning.\n",
       "    var ws = {};\n",
       "\n",
       "    ws.close = function() {\n",
       "        comm.close()\n",
       "    };\n",
       "    ws.send = function(m) {\n",
       "        //console.log('sending', m);\n",
       "        comm.send(m);\n",
       "    };\n",
       "    // Register the callback with on_msg.\n",
       "    comm.on_msg(function(msg) {\n",
       "        //console.log('receiving', msg['content']['data'], msg);\n",
       "        // Pass the mpl event to the overridden (by mpl) onmessage function.\n",
       "        ws.onmessage(msg['content']['data'])\n",
       "    });\n",
       "    return ws;\n",
       "}\n",
       "\n",
       "mpl.mpl_figure_comm = function(comm, msg) {\n",
       "    // This is the function which gets called when the mpl process\n",
       "    // starts-up an IPython Comm through the \"matplotlib\" channel.\n",
       "\n",
       "    var id = msg.content.data.id;\n",
       "    // Get hold of the div created by the display call when the Comm\n",
       "    // socket was opened in Python.\n",
       "    var element = $(\"#\" + id);\n",
       "    var ws_proxy = comm_websocket_adapter(comm)\n",
       "\n",
       "    function ondownload(figure, format) {\n",
       "        window.open(figure.imageObj.src);\n",
       "    }\n",
       "\n",
       "    var fig = new mpl.figure(id, ws_proxy,\n",
       "                           ondownload,\n",
       "                           element.get(0));\n",
       "\n",
       "    // Call onopen now - mpl needs it, as it is assuming we've passed it a real\n",
       "    // web socket which is closed, not our websocket->open comm proxy.\n",
       "    ws_proxy.onopen();\n",
       "\n",
       "    fig.parent_element = element.get(0);\n",
       "    fig.cell_info = mpl.find_output_cell(\"<div id='\" + id + \"'></div>\");\n",
       "    if (!fig.cell_info) {\n",
       "        console.error(\"Failed to find cell for figure\", id, fig);\n",
       "        return;\n",
       "    }\n",
       "\n",
       "    var output_index = fig.cell_info[2]\n",
       "    var cell = fig.cell_info[0];\n",
       "\n",
       "};\n",
       "\n",
       "mpl.figure.prototype.handle_close = function(fig, msg) {\n",
       "    var width = fig.canvas.width/mpl.ratio\n",
       "    fig.root.unbind('remove')\n",
       "\n",
       "    // Update the output cell to use the data from the current canvas.\n",
       "    fig.push_to_output();\n",
       "    var dataURL = fig.canvas.toDataURL();\n",
       "    // Re-enable the keyboard manager in IPython - without this line, in FF,\n",
       "    // the notebook keyboard shortcuts fail.\n",
       "    IPython.keyboard_manager.enable()\n",
       "    $(fig.parent_element).html('<img src=\"' + dataURL + '\" width=\"' + width + '\">');\n",
       "    fig.close_ws(fig, msg);\n",
       "}\n",
       "\n",
       "mpl.figure.prototype.close_ws = function(fig, msg){\n",
       "    fig.send_message('closing', msg);\n",
       "    // fig.ws.close()\n",
       "}\n",
       "\n",
       "mpl.figure.prototype.push_to_output = function(remove_interactive) {\n",
       "    // Turn the data on the canvas into data in the output cell.\n",
       "    var width = this.canvas.width/mpl.ratio\n",
       "    var dataURL = this.canvas.toDataURL();\n",
       "    this.cell_info[1]['text/html'] = '<img src=\"' + dataURL + '\" width=\"' + width + '\">';\n",
       "}\n",
       "\n",
       "mpl.figure.prototype.updated_canvas_event = function() {\n",
       "    // Tell IPython that the notebook contents must change.\n",
       "    IPython.notebook.set_dirty(true);\n",
       "    this.send_message(\"ack\", {});\n",
       "    var fig = this;\n",
       "    // Wait a second, then push the new image to the DOM so\n",
       "    // that it is saved nicely (might be nice to debounce this).\n",
       "    setTimeout(function () { fig.push_to_output() }, 1000);\n",
       "}\n",
       "\n",
       "mpl.figure.prototype._init_toolbar = function() {\n",
       "    var fig = this;\n",
       "\n",
       "    var nav_element = $('<div/>');\n",
       "    nav_element.attr('style', 'width: 100%');\n",
       "    this.root.append(nav_element);\n",
       "\n",
       "    // Define a callback function for later on.\n",
       "    function toolbar_event(event) {\n",
       "        return fig.toolbar_button_onclick(event['data']);\n",
       "    }\n",
       "    function toolbar_mouse_event(event) {\n",
       "        return fig.toolbar_button_onmouseover(event['data']);\n",
       "    }\n",
       "\n",
       "    for(var toolbar_ind in mpl.toolbar_items){\n",
       "        var name = mpl.toolbar_items[toolbar_ind][0];\n",
       "        var tooltip = mpl.toolbar_items[toolbar_ind][1];\n",
       "        var image = mpl.toolbar_items[toolbar_ind][2];\n",
       "        var method_name = mpl.toolbar_items[toolbar_ind][3];\n",
       "\n",
       "        if (!name) { continue; };\n",
       "\n",
       "        var button = $('<button class=\"btn btn-default\" href=\"#\" title=\"' + name + '\"><i class=\"fa ' + image + ' fa-lg\"></i></button>');\n",
       "        button.click(method_name, toolbar_event);\n",
       "        button.mouseover(tooltip, toolbar_mouse_event);\n",
       "        nav_element.append(button);\n",
       "    }\n",
       "\n",
       "    // Add the status bar.\n",
       "    var status_bar = $('<span class=\"mpl-message\" style=\"text-align:right; float: right;\"/>');\n",
       "    nav_element.append(status_bar);\n",
       "    this.message = status_bar[0];\n",
       "\n",
       "    // Add the close button to the window.\n",
       "    var buttongrp = $('<div class=\"btn-group inline pull-right\"></div>');\n",
       "    var button = $('<button class=\"btn btn-mini btn-primary\" href=\"#\" title=\"Stop Interaction\"><i class=\"fa fa-power-off icon-remove icon-large\"></i></button>');\n",
       "    button.click(function (evt) { fig.handle_close(fig, {}); } );\n",
       "    button.mouseover('Stop Interaction', toolbar_mouse_event);\n",
       "    buttongrp.append(button);\n",
       "    var titlebar = this.root.find($('.ui-dialog-titlebar'));\n",
       "    titlebar.prepend(buttongrp);\n",
       "}\n",
       "\n",
       "mpl.figure.prototype._root_extra_style = function(el){\n",
       "    var fig = this\n",
       "    el.on(\"remove\", function(){\n",
       "\tfig.close_ws(fig, {});\n",
       "    });\n",
       "}\n",
       "\n",
       "mpl.figure.prototype._canvas_extra_style = function(el){\n",
       "    // this is important to make the div 'focusable\n",
       "    el.attr('tabindex', 0)\n",
       "    // reach out to IPython and tell the keyboard manager to turn it's self\n",
       "    // off when our div gets focus\n",
       "\n",
       "    // location in version 3\n",
       "    if (IPython.notebook.keyboard_manager) {\n",
       "        IPython.notebook.keyboard_manager.register_events(el);\n",
       "    }\n",
       "    else {\n",
       "        // location in version 2\n",
       "        IPython.keyboard_manager.register_events(el);\n",
       "    }\n",
       "\n",
       "}\n",
       "\n",
       "mpl.figure.prototype._key_event_extra = function(event, name) {\n",
       "    var manager = IPython.notebook.keyboard_manager;\n",
       "    if (!manager)\n",
       "        manager = IPython.keyboard_manager;\n",
       "\n",
       "    // Check for shift+enter\n",
       "    if (event.shiftKey && event.which == 13) {\n",
       "        this.canvas_div.blur();\n",
       "        event.shiftKey = false;\n",
       "        // Send a \"J\" for go to next cell\n",
       "        event.which = 74;\n",
       "        event.keyCode = 74;\n",
       "        manager.command_mode();\n",
       "        manager.handle_keydown(event);\n",
       "    }\n",
       "}\n",
       "\n",
       "mpl.figure.prototype.handle_save = function(fig, msg) {\n",
       "    fig.ondownload(fig, null);\n",
       "}\n",
       "\n",
       "\n",
       "mpl.find_output_cell = function(html_output) {\n",
       "    // Return the cell and output element which can be found *uniquely* in the notebook.\n",
       "    // Note - this is a bit hacky, but it is done because the \"notebook_saving.Notebook\"\n",
       "    // IPython event is triggered only after the cells have been serialised, which for\n",
       "    // our purposes (turning an active figure into a static one), is too late.\n",
       "    var cells = IPython.notebook.get_cells();\n",
       "    var ncells = cells.length;\n",
       "    for (var i=0; i<ncells; i++) {\n",
       "        var cell = cells[i];\n",
       "        if (cell.cell_type === 'code'){\n",
       "            for (var j=0; j<cell.output_area.outputs.length; j++) {\n",
       "                var data = cell.output_area.outputs[j];\n",
       "                if (data.data) {\n",
       "                    // IPython >= 3 moved mimebundle to data attribute of output\n",
       "                    data = data.data;\n",
       "                }\n",
       "                if (data['text/html'] == html_output) {\n",
       "                    return [cell, data, j];\n",
       "                }\n",
       "            }\n",
       "        }\n",
       "    }\n",
       "}\n",
       "\n",
       "// Register the function which deals with the matplotlib target/channel.\n",
       "// The kernel may be null if the page has been refreshed.\n",
       "if (IPython.notebook.kernel != null) {\n",
       "    IPython.notebook.kernel.comm_manager.register_target('matplotlib', mpl.mpl_figure_comm);\n",
       "}\n"
      ],
      "text/plain": [
       "<IPython.core.display.Javascript object>"
      ]
     },
     "metadata": {},
     "output_type": "display_data"
    },
    {
     "data": {
      "text/html": [
       "<img src=\"data:image/png;base64,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\" width=\"640\">"
      ],
      "text/plain": [
       "<IPython.core.display.HTML object>"
      ]
     },
     "metadata": {},
     "output_type": "display_data"
    }
   ],
   "source": [
    "iterative_linear_regression(eps=1e-7,LF=1.6)"
   ]
  },
  {
   "cell_type": "markdown",
   "metadata": {
    "slideshow": {
     "slide_type": "slide"
    }
   },
   "source": [
    "## Logistic loss\n",
    "With the Perceptron, our output is real number between 0 and 1, which we compare to a binary ground truth, our system is no longer linear, so the quadratic loss is not suitable. Recall that in standard linear regression, we seek to make predictions of the sort\n",
    "$$\n",
    "\\hat{\\V{y}} = \\V{w}^\\top\\V{y} + b\n",
    "$$\n",
    "With logistic regression, we seek a $\\hat{\\V{y}} \\in \\{0,1\\}$ answer, so we coerce the previous model into a \"smooth\" thresholding function, the sigmoid:\n",
    "$$\n",
    "\\hat{\\V{y}} = \\sigma(\\V{w}^\\top\\V{y} + b).\n",
    "$$"
   ]
  },
  {
   "cell_type": "markdown",
   "metadata": {
    "slideshow": {
     "slide_type": "subslide"
    }
   },
   "source": [
    "### Derivation of the logistic loss in the scalar case\n",
    "The output will look like a probability $\\hat{y} \\in [0,1]$. We also have $\\sigma(-z) = 1-\\sigma(z)$. We may write\n",
    "\\begin{align}\n",
    "P(y=1\\,|\\,z) &= \\sigma(z) = \\frac{1}{1+e^{-z}}\\\\\n",
    "P(y=0\\,|\\,z) &= 1-\\sigma(z) = \\frac{1}{1+e^{z}}.\n",
    "\\end{align}\n",
    "Since $y$ is either 0 or 1, these may be expressed more compactly together in a single equation as\n",
    "$$\n",
    "P(y,z) = \\sigma(z)^y\\,(1-\\sigma(z))^{1-y}\n",
    "$$\n",
    "The negative log-likelihood is therefore\n",
    "\\begin{align}\n",
    "{\\cal L}(z,y) &= -\\log(\\sigma(z)^y\\,(1-\\sigma(z))^{1-y})\\\\\n",
    "              &= -(y\\log(\\sigma(z)) + (1-y)\\log(1-\\sigma(z)))\n",
    "\\end{align}\n",
    "\n",
    "This is also called the cross entropy loss"
   ]
  },
  {
   "cell_type": "markdown",
   "metadata": {
    "slideshow": {
     "slide_type": "subslide"
    }
   },
   "source": [
    "### Logistic loss in the vectorial case\n",
    "The vectorial case is exactly the same, with \n",
    "\\begin{align}\n",
    "{\\cal L}(\\V{z},y) &= -\\log(\\sigma(\\V{z})^y\\,(1-\\sigma(\\V{z}))^{1-y})\\\\\n",
    "              &= -(y\\log(\\sigma(\\V{z})) + (1-y)\\log(1-\\sigma(\\V{z}))),\n",
    "\\end{align}\n",
    "recall that even in this case $y$ is a scalar.\n",
    "\n",
    "If we write $a = \\sigma(\\V{w}^\\top\\V{y} + b)$, we can also write\n",
    "\\begin{equation}\n",
    "{\\cal L}(\\V{a},y) = -(y\\log \\V{a} + (1-y)\\log(1-\\V{a}))\\label{logitloss}\n",
    "\\end{equation}"
   ]
  },
  {
   "cell_type": "markdown",
   "metadata": {
    "nbpresent": {
     "id": "2c5db955-23cb-4733-93f7-a097697ccd2d"
    },
    "slideshow": {
     "slide_type": "slide"
    }
   },
   "source": [
    "## Gradient descent for the 1D logistic regression\n",
    "\n",
    "In order to take things gradually, we first consider a simple, one-parameter logistic regression problem. We consider 1D derivations, so all quantities here like $a$ and $y$ are scalar.\n",
    "\n",
    "in 1D, the model is \n",
    "\n",
    "$$\n",
    "a = \\sigma(z) = \\sigma(w x + b)\n",
    "$$\n",
    "\n",
    "We recall the logistic loss:\n",
    "$$\n",
    "{\\cal L}(a,y) = -(y\\log(a) + (1-y)\\log(1-a))\n",
    "$$\n",
    "Deriving with respect to $a$ yields\n",
    "$$\n",
    "\\frac{\\partial {\\cal L}}{\\partial a} = -\\frac{y}{a} + \\frac{1-y}{1-a}\n",
    "$$\n",
    "\n",
    "Recall also that \n",
    "$$\n",
    "a = \\sigma(z) = \\frac{1}{1+\\exp(-z)}\n",
    "$$"
   ]
  },
  {
   "cell_type": "markdown",
   "metadata": {
    "nbpresent": {
     "id": "0a4eac78-cdd0-4aa9-8898-48bf21173eba"
    },
    "slideshow": {
     "slide_type": "subslide"
    }
   },
   "source": [
    "for the derivation with respect to $z$, we have to use the chain rule\n",
    "\n",
    "$$\n",
    "\\frac{\\partial{\\cal L}}{\\partial z} = \\frac{\\partial{\\cal L}}{\\partial a}\\frac{\\partial a}{\\partial z}\n",
    "$$\n",
    "\n",
    "We have \n",
    "$$\n",
    "\\frac{\\partial a}{\\partial z} = \\frac{\\partial \\sigma(z)}{\\partial z} = \\frac{\\exp(-z)}{(1+\\exp(-z))^2} = a (1-a)\n",
    "$$\n",
    "Hence, with the chain rule\n",
    "\\begin{align}\n",
    "\\frac{\\partial{\\cal L}}{\\partial z} &= \\left(-\\frac{y}{a} + \\frac{1-y}{1-a}\\right) a (1-a)\\\\\n",
    "                                    &= -y (1-a) + a (1-y) \\\\\n",
    "                                    &= a - y\n",
    "\\end{align}\n"
   ]
  },
  {
   "cell_type": "markdown",
   "metadata": {
    "nbpresent": {
     "id": "f096a744-0a75-4fbf-97e5-36c52ef377ca"
    },
    "slideshow": {
     "slide_type": "subslide"
    }
   },
   "source": [
    "From this derivative we can compute the differentials for the parameters of the regression $w$ and $b$:\n",
    "\n",
    "$$\n",
    "\\frac{\\partial {\\cal L}}{\\partial w} = \\frac{\\partial {\\cal L}}{\\partial z}\\frac{\\partial z}{\\partial w} = (a-y)x\n",
    "$$\n",
    "\n",
    "$$\n",
    "\\frac{\\partial {\\cal L}}{\\partial b} = \\frac{\\partial {\\cal L}}{\\partial z}\\frac{\\partial z}{\\partial b} = (a-y)\n",
    "$$\n",
    "\n",
    "From these, the gradient descent is straightforward. The code is in the next slide."
   ]
  },
  {
   "cell_type": "code",
   "execution_count": null,
   "metadata": {
    "nbpresent": {
     "id": "921bde4c-7685-4515-b8d4-bdae22a472e9"
    },
    "slideshow": {
     "slide_type": "subslide"
    }
   },
   "outputs": [],
   "source": [
    "def sigma(z):\n",
    "    return (1/(1+np.exp(-z)))\n",
    "\n",
    "def iterative_sol_1d_logistic_gd(x, y, step, epsilon=1e-5, maxiter=10000):\n",
    "    \"\"\"\n",
    "    This function solves the 1d logistic regression problem by a gradient descent approach\n",
    "    with a fixed stepsize.\n",
    "    x and y are given vectors with the same size. x is real and y is binary.\n",
    "    \"\"\"\n",
    "    J = np.zeros(maxiter+1) ; dw = 0 ; db = 0\n",
    "    w = np.zeros(maxiter+1) ; b = np.zeros(maxiter+1)\n",
    "    i = 0\n",
    "    while True:\n",
    "        z = w[i]*x + b[i]\n",
    "        a = sigma(z)\n",
    "        ## compute the loss\n",
    "        J[i] = ### TO BE COMPLETED \n",
    "        dz = ### TO BE COMPLETED \n",
    "        dw = ### TO BE COMPLETED \n",
    "        db = np.sum(dz) ## equivalent to np.ones(y.shape[0]).dot(dx)\n",
    "        w[i+1] = w[i] - step*dw\n",
    "        b[i+1] = b[i] - step*db\n",
    "        if ((dw*dw+db*db) < epsilon*epsilon):\n",
    "            print(\"OK, iteration=\", i)\n",
    "            break\n",
    "        i += 1\n",
    "        if (i >= maxiter):\n",
    "            print(\"Exceeded maximum number of iterations (%d)\" % maxiter)\n",
    "            break\n",
    "    return (w,b,J,i)"
   ]
  },
  {
   "cell_type": "code",
   "execution_count": null,
   "metadata": {
    "nbpresent": {
     "id": "14e60671-f256-4c77-ab59-b52c212ee934"
    },
    "slideshow": {
     "slide_type": "subslide"
    }
   },
   "outputs": [],
   "source": [
    "myT=np.random.random(10)*6+1\n",
    "myF=np.random.random(10)*7-2\n",
    "Y = np.concatenate((np.ones(10),np.zeros(10)))\n",
    "X = np.concatenate((myT,myF))\n",
    "plt.figure()\n",
    "plt.scatter(X,Y)\n",
    "plt.show()"
   ]
  },
  {
   "cell_type": "code",
   "execution_count": null,
   "metadata": {
    "nbpresent": {
     "id": "8165c9d4-a5ef-49d5-b4b2-2ac6a3e771b0"
    },
    "slideshow": {
     "slide_type": "subslide"
    }
   },
   "outputs": [],
   "source": [
    "(w,b,J,i) = iterative_sol_1d_logistic_gd(X,Y,step=0.02,epsilon=1e-5,maxiter=50000)\n",
    "trueW = w[0:i] ; trueB = b[0:i] ; trueJ = J[0:i]\n",
    "lastW = trueW[-1] ; lastB = trueB[-1] ; lastJ = trueJ[-1]\n",
    "print(lastW,lastB)\n",
    "plt.figure()\n",
    "plt.title(\"Log10 of the loss convergence\")\n",
    "plt.plot(np.log10(trueJ-lastJ))\n",
    "plt.show()"
   ]
  },
  {
   "cell_type": "code",
   "execution_count": null,
   "metadata": {},
   "outputs": [],
   "source": [
    "print(\"parametres du modèles: W=%g, B=%g\"%(lastW,lastB))"
   ]
  },
  {
   "cell_type": "code",
   "execution_count": null,
   "metadata": {
    "nbpresent": {
     "id": "8919d7cd-1ef4-4275-82fc-33724c459b4b"
    },
    "slideshow": {
     "slide_type": "subslide"
    }
   },
   "outputs": [],
   "source": [
    "x = np.arange(-5,16,step=0.1)\n",
    "plt.figure()\n",
    "plt.scatter(X,Y)\n",
    "plt.plot(x,sigma(lastW*x+lastB), color='r')\n",
    "plt.show()\n",
    "print(\"Inflexion point = \", -lastB/lastW)"
   ]
  },
  {
   "cell_type": "markdown",
   "metadata": {
    "nbpresent": {
     "id": "64d41ccd-52f1-4103-8f62-92a14f732f1d"
    },
    "slideshow": {
     "slide_type": "slide"
    }
   },
   "source": [
    "## Multi-dimensional logistic regression\n",
    "\n",
    "We have to adapt the formulas to the case where $\\V{w}=\\{w_1,w_2,\\ldots,w_n\\}$ is vectorial. $b$ remains a scalar. The loss was defined with vector elements and remains the same $\\eqref{eq:logitloss}$. The code adaptation is fairly straightforward."
   ]
  },
  {
   "cell_type": "code",
   "execution_count": null,
   "metadata": {
    "slideshow": {
     "slide_type": "subslide"
    }
   },
   "outputs": [],
   "source": [
    "## Normal python implementation\n",
    "\n",
    "def iterative_sol_nd_logistic_gd(X, y, step, warm_restart=None, b=0, \n",
    "                                 epsilon=1e-5, maxiter=10000, verbose=False):\n",
    "    \"\"\"\n",
    "    This function solves the N-d logistic regression problem by a gradient descent approach\n",
    "    with a fixed stepsize.\n",
    "    X is a NxM matrix, where N is the dimension of the problem and M the number of samples. \n",
    "    y is a binary vector of length M.\n",
    "    \"\"\"\n",
    "    assert len(X.shape) == 2\n",
    "    N = X.shape[0] ## dimension of the problem\n",
    "    J = np.zeros(maxiter+1)  \n",
    "\n",
    "    ## now these are vectors of length N\n",
    "    if warm_restart is None:\n",
    "        w = np.zeros(N,dtype=DTYPE) \n",
    "        b = 0\n",
    "    else:\n",
    "        w = warm_restart\n",
    "        b = b # in the arglist\n",
    "\n",
    "    if (verbose):\n",
    "        ## progress report as things can be very slow\n",
    "        stepiter=int(maxiter/50) ## print 50 dots\n",
    "\n",
    "    i = 0\n",
    "    while True:\n",
    "        z = w.T.dot(X) + b ## should be a row vector of lenth M\n",
    "        a = sigma(z) ## same\n",
    "        ## compute the loss\n",
    "        J[i] = ### TO BE COMPLETED \n",
    "        dz = ### TO BE COMPLETED \n",
    "        dw = ## TO BE COMPLETED ## should be a vector of length N\n",
    "        db = ## TO BE COMPLETED  ## equivalent to np.ones(y.shape[0]).dot(dx)\n",
    "        w = w - step*dw\n",
    "        b = b - step*db\n",
    "        if ((dw.T.dot(dw)+db*db) < epsilon*epsilon):\n",
    "            print(\"OK, iteration=\", i)\n",
    "            break\n",
    "        i += 1\n",
    "        if (verbose):\n",
    "            if (i%stepiter == 0):\n",
    "                print('.', end='')\n",
    "        if (i >= maxiter):\n",
    "            print(\"Exceeded maximum number of iterations (%d)\" % maxiter)\n",
    "            print(\"Gradient norm still=\", np.sqrt(dw.T.dot(dw)+db*db))\n",
    "            break\n",
    "    return (w,b,J,i)"
   ]
  },
  {
   "cell_type": "markdown",
   "metadata": {
    "slideshow": {
     "slide_type": "subslide"
    }
   },
   "source": [
    "#### 2-d illustration\n",
    "Here we create an artificial example with some Gaussian distributions. In this example, the blue dots are the negative samples and the red dots the positive ones. We apply Logistic Regression to form a decision model separating both populations."
   ]
  },
  {
   "cell_type": "code",
   "execution_count": null,
   "metadata": {
    "nbpresent": {
     "id": "42d7fde3-36e6-43ba-a24a-24cb599af812"
    },
    "slideshow": {
     "slide_type": "fragment"
    }
   },
   "outputs": [],
   "source": [
    "## create two populations\n",
    "M=100\n",
    "myT = np.random.randn(M,2)*2+(6,5)\n",
    "myF = np.random.randn(M,2)*1.5+(3,3)\n",
    "X=np.concatenate((myF,myT))\n",
    "y = np.concatenate((np.zeros(M),np.ones(M)))\n",
    "plt.figure()\n",
    "plt.scatter(X[0:M,0],X[0:M,1],color=\"blue\")\n",
    "plt.scatter(X[M:,0],X[M:,1],color=\"red\")\n",
    "plt.show()"
   ]
  },
  {
   "cell_type": "code",
   "execution_count": null,
   "metadata": {
    "slideshow": {
     "slide_type": "subslide"
    }
   },
   "outputs": [],
   "source": [
    "(w,b,J,i) = iterative_sol_nd_logistic_gd(X.T,y,step=2.5e-3,epsilon=1e-7,maxiter=20000)\n",
    "trueJ = J[0:i] ; lastJ = trueJ[-1]\n",
    "print(\"w=\",w, \" b=\", b)\n",
    "plt.figure()\n",
    "plt.title(\"Log10 of the loss convergence\")\n",
    "plt.plot(np.log10(trueJ-lastJ))\n",
    "plt.show()"
   ]
  },
  {
   "cell_type": "code",
   "execution_count": null,
   "metadata": {},
   "outputs": [],
   "source": [
    "X.shape"
   ]
  },
  {
   "cell_type": "markdown",
   "metadata": {
    "slideshow": {
     "slide_type": "subslide"
    }
   },
   "source": [
    "#### Best separation\n",
    "The \"best\" separation between the two populations is the line where $a = \\V{w}^\\top\\V{x} + b = 0$. This line defines a unique hyperplane. In 2D, the hyperplane is simply a line, this can be written as\n",
    "\n",
    "\\begin{align}\n",
    "w_1 x_1 + w_2 x_2 + b & = 0\\\\\n",
    "x_1 = 0 ; x_2 &= -\\frac{b}{w_2} \\\\\n",
    "x_2 = 0 ; x_1 &= -\\frac{b}{w_1}\n",
    "\\end{align}\n",
    "\n",
    "This line can be interpreted as the line of equi-probability since $\\sigma(0) = 0.5$. Said otherwise, points on this line are as likely to belong to the blue or red class, given the training data."
   ]
  },
  {
   "cell_type": "code",
   "execution_count": null,
   "metadata": {
    "slideshow": {
     "slide_type": "subslide"
    }
   },
   "outputs": [],
   "source": [
    "plt.figure()\n",
    "plt.scatter(X[0:M,0],X[0:M,1],color=\"blue\")\n",
    "plt.scatter(X[M:,0],X[M:,1],color=\"red\")\n",
    "plt.plot([(-b/w[0]), 0], [0, (-b/w[1])], 'k-')\n",
    "\n",
    "plt.show()"
   ]
  },
  {
   "cell_type": "markdown",
   "metadata": {
    "slideshow": {
     "slide_type": "slide"
    }
   },
   "source": [
    "### Accuracy and test data\n",
    "What we've just done is provide some (artificial) test data to fit a regresssion line between two distributions. In real problems these distributions are unknown, but here we know the limit distribution perfectly since we simulated it. First it might be intersesting to revisit some classification principles and methods based on this example.\n",
    "\n",
    "The first thing to realize is that we classify as positives the dots associated with a $\\sigma \\geq 0.5$ and negative the remainder. By doing so, we make some mistakes since some blue dots are beyond the equiprobable line and some red dots are before it.\n",
    "\n",
    "There are 4 classes of points: the red dots that are correctly classified \n",
    "    as positive (True Positives), the red dots that are incorrectly classified as negative (False Negatives), the blue dots that are incorrectly classified as positives (False Positives) and finally the blue dots that are correcty classified as negatives (True Negatives)."
   ]
  },
  {
   "cell_type": "markdown",
   "metadata": {
    "slideshow": {
     "slide_type": "subslide"
    }
   },
   "source": [
    "The arrangement of these 4 numbers in a matrix is called the confusion matrix:\n",
    "\n",
    "|                             | True condition  | False Condition |\n",
    "|-----------------------------|-----------------|-----------------|\n",
    "|Predicted condition positive | True Positives  | False Positives |\n",
    "|Predicted condition negative | False Negatives | True Negatives  |\n",
    "\n",
    "One way to summarize the mistakes made is to compute a few ratios. \n",
    "The two more common to medicine are the sensitivity and specificity. More specifically\n",
    "\n",
    "sensitivity (or true positive rate, TPR) = $\\frac{\\text{TP}}{\\text{TP}+\\text{FN}}$ ; specificity (or true negative rate TNR) = $\\frac{\\text{TN}}{\\text{FP}+\\text{TN}}$\n",
    "\n",
    "General accuracy (which is only appropriate for a balanced example) is the average of these two ratios, or $\\text{accuracy} = \\frac{\\text{TP}+\\text{TN}}{\\text{TP}+\\text{TN}+\\text{FP}+\\text{FN}}$. Generally, the higher the accuracy the better, but in some instances it might be better to lower the FN vs. the FP or vice-versa."
   ]
  },
  {
   "cell_type": "code",
   "execution_count": null,
   "metadata": {
    "slideshow": {
     "slide_type": "skip"
    }
   },
   "outputs": [],
   "source": [
    "def logit_test(x):\n",
    "    return(sigma(w.dot(x.T)+b))\n",
    "\n",
    "def classif_results(X, cut=0.5):\n",
    "    \"\"\" Returns the confusion matrix of a balanced logistic regression\n",
    "    \"\"\"\n",
    "    M = int(X.shape[0]/2) ## assuming as many negatives as positive, as is the case here\n",
    "    res = logit_test(X)\n",
    "    neg = res[0:M] ; pos = res[M:(2*M)]\n",
    "    TP = pos[pos[0:M] >= cut].shape[0] ## red dots that should be red\n",
    "    FN = M-TP\n",
    "    TN = neg[neg[0:M] < cut].shape[0]\n",
    "    FP = M-TN\n",
    "    return((TP,FP,FN,TN))\n",
    "\n",
    "TP,FP,FN,TN = classif_results(X)\n",
    "print(\"Sensitivity = \", TP/(TP+FN), \" Specificity = \", TN/(FP+TN))"
   ]
  },
  {
   "cell_type": "markdown",
   "metadata": {
    "slideshow": {
     "slide_type": "subslide"
    }
   },
   "source": [
    "With the default cutoff at 0.5, the ratios are about the same. We can see how these numbers change if we change the cutoff. To display this in a synthetic fashion, we can plot them in a sensitivity vs. specificity scatter plot, called the <a href=https://en.wikipedia.org/wiki/Receiver_operating_characteristic>Receiver Operating Characteristic</a> or ROC. Typically the abcissa are the FP (or 1-specificity) and the ordinates are the TP (or sensitivity)."
   ]
  },
  {
   "cell_type": "code",
   "execution_count": null,
   "metadata": {
    "slideshow": {
     "slide_type": "subslide"
    }
   },
   "outputs": [],
   "source": [
    "v=np.arange(10,-5,step=-0.2)\n",
    "roc = np.zeros((v.shape[0],2))\n",
    "bestacc = 0\n",
    "besti = 0\n",
    "for i in range(0,v.shape[0]):\n",
    "    cut = sigma(v[i])\n",
    "    TP,FP,FN,TN = classif_results(X,cut)\n",
    "    roc[i,0]=1-(TN/(FP+TN))\n",
    "    roc[i,1]=TP/(TP+FN)\n",
    "    acc = (TP+TN)/(TP+TN+FN+FP)\n",
    "    if (acc > bestacc):\n",
    "        bestacc = acc\n",
    "        besti = i\n",
    "    \n",
    "plt.figure(figsize=(8,6))\n",
    "plt.plot(roc[:,0],roc[:,1])\n",
    "plt.scatter(roc[:,0],roc[:,1],color='red')\n",
    "plt.scatter(roc[besti,0],roc[besti,1],color='green')\n",
    "plt.title(\"Receiver Operating Characteristic\")\n",
    "plt.xlabel(\"False Positives\")\n",
    "plt.ylabel(\"True positives\")\n",
    "\n",
    "print(\"Best accuracy (green dot) = \", bestacc, \", for FPR=%.3g\"%roc[besti,0],\" TPR=%.3g\"%roc[besti,1], \", i.e. cutoff=%g\"%sigma(v[besti]))"
   ]
  },
  {
   "cell_type": "markdown",
   "metadata": {},
   "source": [
    "#### Remarks:\n",
    "As can be seen, the best cutoff in terms of accuracy is not 0.5, but close to 0.3 in this example. This is because Logistic regression does not try to optimize accuracy. However, choosing a cutoff other than 0.5 generates a bias in the method, which is often undesirable. This is an early example of the unavoidable variance-bias tradeoff in all machine learning methods that will merit consideration in a later course.\n"
   ]
  },
  {
   "cell_type": "markdown",
   "metadata": {
    "slideshow": {
     "slide_type": "slide"
    }
   },
   "source": [
    "## Applying logistic regression to a real problem\n",
    "\n",
    "Here we apply our logistic regression approch to a real problem, the Wisconsin Breast Cancer dataset. Features are computed from a digitized image of a fine needle aspirate (FNA) of a breast mass.  They describe characteristics of the cell nuclei present in the image.\n"
   ]
  },
  {
   "cell_type": "code",
   "execution_count": null,
   "metadata": {
    "slideshow": {
     "slide_type": "subslide"
    }
   },
   "outputs": [],
   "source": [
    "from sklearn.datasets import load_breast_cancer\n",
    "cancer = load_breast_cancer()\n",
    "print(\"Dataset keys=\", cancer.keys())\n",
    "print(\"Dataset features = \", cancer['feature_names'], \"\\n There are\", len(cancer['feature_names']), \"features\")"
   ]
  },
  {
   "cell_type": "code",
   "execution_count": null,
   "metadata": {
    "slideshow": {
     "slide_type": "subslide"
    }
   },
   "outputs": [],
   "source": [
    "import pandas\n",
    "\n",
    "data = np.c_[cancer.data, cancer.target]\n",
    "columns = np.append(cancer.feature_names, [\"target\"])\n",
    "frame = pandas.DataFrame(data, columns=columns)"
   ]
  },
  {
   "cell_type": "markdown",
   "metadata": {
    "slideshow": {
     "slide_type": "fragment"
    }
   },
   "source": [
    "We show a few data points below. Overall there are 569 cases. The last column is the target, i.e. what the model should predict. 0 is benign and 1 is cancer."
   ]
  },
  {
   "cell_type": "code",
   "execution_count": null,
   "metadata": {
    "slideshow": {
     "slide_type": "fragment"
    }
   },
   "outputs": [],
   "source": [
    "print(\"Number of cases = \", len(frame))\n",
    "frame[1:10]"
   ]
  },
  {
   "cell_type": "markdown",
   "metadata": {
    "slideshow": {
     "slide_type": "subslide"
    }
   },
   "source": [
    "### Training and testing subsets\n",
    "We split the data set into training and testing cases subsets. This is very common but not the only way to ensure that the classification works correctly."
   ]
  },
  {
   "cell_type": "code",
   "execution_count": null,
   "metadata": {
    "slideshow": {
     "slide_type": "fragment"
    }
   },
   "outputs": [],
   "source": [
    "from sklearn.model_selection import train_test_split\n",
    "\n",
    "X = frame[frame.columns[:-1]] # we remove the last column\n",
    "y = frame.target\n",
    "X_train, X_test, y_train, y_test = train_test_split(X, y,\n",
    "                                                   random_state = 0)\n",
    "print(\"Number of training samples = \", len(y_train), \", number of test samples =\", len(y_test))\n",
    "X_train_matrix=X_train.values ## much faster if we do this\n",
    "y_train_vector=y_train.values ## same"
   ]
  },
  {
   "cell_type": "code",
   "execution_count": null,
   "metadata": {},
   "outputs": [],
   "source": []
  },
  {
   "cell_type": "markdown",
   "metadata": {
    "slideshow": {
     "slide_type": "slide"
    }
   },
   "source": [
    "#### Running the algorithm\n",
    "\n",
    "We now run the algorithm we wrote earlier. Unfortunately in this case, we perform gradient descent in a high-dimensional space and it can be very slow. In order to improve things somewhat we perform a \"warm restart\" of the algorithm, which allows us to increase the step size. This is still very slow. In subsequent work, we will see how to improve this aspect of the algorithm."
   ]
  },
  {
   "cell_type": "code",
   "execution_count": null,
   "metadata": {
    "slideshow": {
     "slide_type": "subslide"
    }
   },
   "outputs": [],
   "source": [
    "import time\n",
    "\n",
    "(w,b,J,i) = iterative_sol_nd_logistic_gd(X_train_matrix.T,y_train_vector,step=1e-6,epsilon=1e-5,maxiter=40000)\n",
    "print(\"w0=\",w, \" b0=\", b)\n",
    "# WR1\n",
    "tic=time.time()\n",
    "(w,b,J,i) = iterative_sol_nd_logistic_gd(X_train_matrix.T,y_train_vector, \n",
    "                                          warm_restart=w,b=b,\n",
    "                                          step=2e-6,epsilon=1e-5,maxiter=400000,verbose=True)\n",
    "toc=time.time()\n",
    "elapsed = toc - tic\n",
    "print(\"Elapsed=\",elapsed,\"s\")\n",
    "trueJ = J[0:i] ; lastJ = trueJ[-1]\n",
    "print(\"w=\",w, \" b=\", b)\n",
    "plt.figure()\n",
    "plt.title(\"Log10 of the loss convergence\")\n",
    "plt.plot(np.log10(trueJ-lastJ))\n",
    "plt.show()"
   ]
  },
  {
   "cell_type": "code",
   "execution_count": null,
   "metadata": {
    "scrolled": true,
    "slideshow": {
     "slide_type": "skip"
    }
   },
   "outputs": [],
   "source": [
    "trueJ"
   ]
  },
  {
   "cell_type": "markdown",
   "metadata": {
    "slideshow": {
     "slide_type": "slide"
    }
   },
   "source": [
    "### Classification results on the real data\n",
    "Even though convergence is not achieved, we use the weight we have learn to perform classification and see how we go."
   ]
  },
  {
   "cell_type": "code",
   "execution_count": null,
   "metadata": {
    "slideshow": {
     "slide_type": "fragment"
    }
   },
   "outputs": [],
   "source": [
    "def confusion(w,b,X,y):\n",
    "    z = w.T.dot(X.T) + b\n",
    "    prob = (sigma(z) >= 0.5).astype(int) ## prediction\n",
    "    trueP = (y == 1)\n",
    "    ptp = prob[trueP]\n",
    "    TP=np.sum(ptp) ## works because the outcomes are binary\n",
    "    FN=np.sum(1-ptp)\n",
    "    trueN = (y == 0)\n",
    "    ptn = prob[trueN]\n",
    "    TN = np.sum(1-ptn)\n",
    "    FP = np.sum(ptn)\n",
    "    return((TP,FP,FN,TN))\n",
    "\n",
    "\n",
    "print(\"Training set:\")\n",
    "print(\"Confusion matrix=\")\n",
    "TP,FP,FN,TN=confusion(w,b,X_train_matrix,y_train_vector)\n",
    "print(np.array([[TP,FP],[FN,TN]]))\n",
    "print(\"Sensitivity = %.3g\"% (TP/(TP+FN)), \" Specificity = %.3g\"% (TN/(FP+TN)))\n",
    "\n",
    "print(\"Test set: \")\n",
    "X_test_matrix=X_test.as_matrix() ## much faster if we do this\n",
    "y_test_vector=y_test.as_matrix() ## same\n",
    "TP,FP,FN,TN=confusion(w,b,X_test_matrix,y_test_vector)\n",
    "print(np.array([[TP,FP],[FN,TN]]))\n",
    "print(\"Sensitivity = %.3g\"% (TP/(TP+FN)), \" Specificity = %.3g\"% (TN/(FP+TN)))\n"
   ]
  },
  {
   "cell_type": "markdown",
   "metadata": {
    "slideshow": {
     "slide_type": "subslide"
    }
   },
   "source": [
    "Not bad ! 94.4% sensitivity on the test set means we detect 94.4% of breast cancers; while 98.1% specificity means only 1.9% of cases (100%-98.1%) are benign cases misclassified as cancers. We also notice that the results on the test set are not very different that those of the training set. This is a feature of linear classifiers like Logistic Regression: they are unbiased."
   ]
  },
  {
   "cell_type": "markdown",
   "metadata": {
    "slideshow": {
     "slide_type": "slide"
    }
   },
   "source": [
    "### Professional version of logistic regression\n",
    "Scikit-learn provides an efficient version of logistic regression that converges quickly. Let's use that."
   ]
  },
  {
   "cell_type": "code",
   "execution_count": null,
   "metadata": {
    "slideshow": {
     "slide_type": "fragment"
    }
   },
   "outputs": [],
   "source": [
    "from sklearn.linear_model import LogisticRegression\n",
    "from sklearn.datasets import make_classification, make_blobs\n",
    "from sklearn.metrics import confusion_matrix\n",
    "from matplotlib.colors import ListedColormap\n",
    "from sklearn.datasets import load_breast_cancer\n",
    "\n",
    "# Load the cancer data\n",
    "(X_cancer, y_cancer) = load_breast_cancer(return_X_y = True)\n",
    "X_train_pro, X_test_pro, y_train_pro, y_test_pro = train_test_split(X_cancer, y_cancer,\n",
    "                                                   random_state = 0)\n",
    "# Call the Logisitic Regression function\n",
    "clf = LogisticRegression()\n",
    "clf.verbose=1\n",
    "clf.fit(X_train_pro, y_train_pro)"
   ]
  },
  {
   "cell_type": "code",
   "execution_count": null,
   "metadata": {
    "scrolled": true,
    "slideshow": {
     "slide_type": "skip"
    }
   },
   "outputs": [],
   "source": [
    "print(clf.coef_[0])\n",
    "print(clf.intercept_)\n"
   ]
  },
  {
   "cell_type": "code",
   "execution_count": null,
   "metadata": {
    "scrolled": true,
    "slideshow": {
     "slide_type": "subslide"
    }
   },
   "outputs": [],
   "source": [
    "from sklearn.metrics import accuracy_score, precision_score, recall_score, f1_score\n",
    "\n",
    "# Compute and print the Accuray scores\n",
    "print('Accuracy of Logistic regression classifier on training set: {:.2f}'\n",
    "     .format(clf.score(X_train_pro, y_train_pro)))\n",
    "print('Accuracy of Logistic regression classifier on test set: {:.2f}'\n",
    "     .format(clf.score(X_test_pro, y_test_pro)))\n",
    "\n",
    "y_predicted_0 = clf.predict(X_train_pro)\n",
    "confusion0 = confusion_matrix(y_train_pro, y_predicted_0)\n",
    "print(confusion0)\n",
    "print(\"The above is perhaps optimistic...\")\n",
    "print('Accuracy: {:.3f}'.format(accuracy_score(y_train_pro, y_predicted_0)))\n",
    "print('Precision: {:.3f}'.format(precision_score(y_train_pro, y_predicted_0)))\n",
    "print('Recall: {:.3f}'.format(recall_score(y_train_pro, y_predicted_0)))\n",
    "print('F1: {:.3f}'.format(f1_score(y_train_pro, y_predicted_0)))\n",
    "print(\"-----\")\n",
    "print(\"More realistic\")\n",
    "y_predicted=clf.predict(X_test_pro)\n",
    "# Compute and print confusion matrix\n",
    "confusion = confusion_matrix(y_test_pro, y_predicted)\n",
    "print(confusion)\n",
    "print('Accuracy: {:.3f}'.format(accuracy_score(y_test_pro, y_predicted)))\n",
    "print('Precision: {:.3f}'.format(precision_score(y_test_pro, y_predicted)))\n",
    "print('Recall: {:.3f}'.format(recall_score(y_test_pro, y_predicted)))\n",
    "print('F1: {:.3f}'.format(f1_score(y_test_pro, y_predicted)))"
   ]
  },
  {
   "cell_type": "markdown",
   "metadata": {
    "slideshow": {
     "slide_type": "fragment"
    }
   },
   "source": [
    "The results are exactly the same !"
   ]
  },
  {
   "cell_type": "markdown",
   "metadata": {},
   "source": [
    "## Using the k-NN method\n",
    "\n",
    "We use the k-Nearest-Neighbours model instead of the logistic regression"
   ]
  },
  {
   "cell_type": "code",
   "execution_count": null,
   "metadata": {},
   "outputs": [],
   "source": [
    "# was: from sklearn.linear_model import LogisticRegression\n",
    "from sklearn.neighbors import KNeighborsClassifier\n",
    "\n",
    "# Load the cancer data\n",
    "(X_cancer, y_cancer) = load_breast_cancer(return_X_y = True)\n",
    "X_train_pro, X_test_pro, y_train_pro, y_test_pro = train_test_split(X_cancer, y_cancer,\n",
    "                                                   random_state = 0)\n",
    "# Call the Logisitic Regression function\n",
    "klf = KNeighborsClassifier(n_neighbors=20)\n",
    "klf.verbose=1\n",
    "klf.fit(X_train_pro, y_train_pro)"
   ]
  },
  {
   "cell_type": "code",
   "execution_count": null,
   "metadata": {},
   "outputs": [],
   "source": [
    "# Compute and print the Accuray scores\n",
    "print('Accuracy of k-NN classifier on training set: {:.2f}'\n",
    "     .format(klf.score(X_train_pro, y_train_pro)))\n",
    "print('Accuracy of k-NN classifier on test set: {:.2f}'\n",
    "     .format(klf.score(X_test_pro, y_test_pro)))\n",
    "\n",
    "y_predicted_0 = klf.predict(X_train_pro)\n",
    "confusion0 = confusion_matrix(y_train_pro, y_predicted_0)\n",
    "print(confusion0)\n",
    "print(\"The above is perhaps optimistic...\")\n",
    "print('Accuracy: {:.3f}'.format(accuracy_score(y_train_pro, y_predicted_0)))\n",
    "print('Precision: {:.3f}'.format(precision_score(y_train_pro, y_predicted_0)))\n",
    "print('Recall: {:.3f}'.format(recall_score(y_train_pro, y_predicted_0)))\n",
    "print('F1: {:.3f}'.format(f1_score(y_train_pro, y_predicted_0)))\n",
    "print(\"-----\")\n",
    "print(\"More realistic\")\n",
    "y_predicted=klf.predict(X_test_pro)\n",
    "# Compute and print confusion matrix\n",
    "confusion = confusion_matrix(y_test_pro, y_predicted)\n",
    "print(confusion)\n",
    "from sklearn.metrics import accuracy_score, precision_score, recall_score, f1_score\n",
    "print('Accuracy: {:.3f}'.format(accuracy_score(y_test_pro, y_predicted)))\n",
    "print('Precision: {:.3f}'.format(precision_score(y_test_pro, y_predicted)))\n",
    "print('Recall: {:.3f}'.format(recall_score(y_test_pro, y_predicted)))\n",
    "print('F1: {:.3f}'.format(f1_score(y_test_pro, y_predicted)))"
   ]
  },
  {
   "cell_type": "markdown",
   "metadata": {},
   "source": [
    "## Using decision trees"
   ]
  },
  {
   "cell_type": "code",
   "execution_count": null,
   "metadata": {},
   "outputs": [],
   "source": [
    "# was: from sklearn.linear_model import LogisticRegression\n",
    "from sklearn.tree import DecisionTreeClassifier\n",
    "\n",
    "# Load the cancer data\n",
    "(X_cancer, y_cancer) = load_breast_cancer(return_X_y = True)\n",
    "X_train_pro, X_test_pro, y_train_pro, y_test_pro = train_test_split(X_cancer, y_cancer,\n",
    "                                                   random_state = 0)\n",
    "# Call the Logisitic Regression function\n",
    "tlf = DecisionTreeClassifier(min_samples_split=10, max_depth=2)\n",
    "tlf.verbose=1\n",
    "tlf.fit(X_train_pro, y_train_pro)"
   ]
  },
  {
   "cell_type": "code",
   "execution_count": null,
   "metadata": {},
   "outputs": [],
   "source": [
    "# Compute and print the Accuray scores\n",
    "print('Accuracy of Logistic regression classifier on training set: {:.2f}'\n",
    "     .format(tlf.score(X_train_pro, y_train_pro)))\n",
    "print('Accuracy of Logistic regression classifier on test set: {:.2f}'\n",
    "     .format(tlf.score(X_test_pro, y_test_pro)))\n",
    "\n",
    "y_predicted_0 = tlf.predict(X_train_pro)\n",
    "confusion0 = confusion_matrix(y_train_pro, y_predicted_0)\n",
    "print(confusion0)\n",
    "print(\"The above is perhaps optimistic...\")\n",
    "print('Accuracy: {:.3f}'.format(accuracy_score(y_train_pro, y_predicted_0)))\n",
    "print('Precision: {:.3f}'.format(precision_score(y_train_pro, y_predicted_0)))\n",
    "print('Recall: {:.3f}'.format(recall_score(y_train_pro, y_predicted_0)))\n",
    "print('F1: {:.3f}'.format(f1_score(y_train_pro, y_predicted_0)))\n",
    "print(\"-----\")\n",
    "print(\"More realistic\")\n",
    "y_predicted=tlf.predict(X_test_pro)\n",
    "# Compute and print confusion matrix\n",
    "confusion = confusion_matrix(y_test_pro, y_predicted)\n",
    "print(confusion)\n",
    "from sklearn.metrics import accuracy_score, precision_score, recall_score, f1_score\n",
    "print('Accuracy: {:.3f}'.format(accuracy_score(y_test_pro, y_predicted)))\n",
    "print('Precision: {:.3f}'.format(precision_score(y_test_pro, y_predicted)))\n",
    "print('Recall: {:.3f}'.format(recall_score(y_test_pro, y_predicted)))\n",
    "print('F1: {:.3f}'.format(f1_score(y_test_pro, y_predicted)))"
   ]
  },
  {
   "cell_type": "markdown",
   "metadata": {},
   "source": [
    "## Display tree\n"
   ]
  },
  {
   "cell_type": "code",
   "execution_count": null,
   "metadata": {},
   "outputs": [],
   "source": [
    "from sklearn import tree\n",
    "from os import system\n",
    "\n",
    "\n",
    "dotfile = open(\"dtree2.dot\", 'w')\n",
    "tree.export_graphviz(tlf, out_file = dotfile, feature_names = X.columns)\n",
    "dotfile.close()\n",
    "system(\"dot -Tpng dtree2.dot -o dtree2.png\")"
   ]
  },
  {
   "cell_type": "markdown",
   "metadata": {
    "slideshow": {
     "slide_type": "slide"
    }
   },
   "source": [
    "## Conclusion\n",
    "In this series of slides we have introduced the Perceptron, which is the simplest instance of a neural network: a simulation of a single neuron. We have seen that it is exactly equivalent to Logistic Regression, a classical machine learning technique.\n",
    "We have also shown how to train the perceptron via gradient descent. We have shown that this technique is not very  complicated but not very efficient. \n",
    "We have shown that in spite of its simplicity, it is possible to achieve very good results with it. Future work will involve cascades of neurons arranged in artificial neural networks (ANN), but will use much of the same techniques."
   ]
  }
 ],
 "metadata": {
  "celltoolbar": "Slideshow",
  "kernelspec": {
   "display_name": "Python 3",
   "language": "python",
   "name": "python3"
  },
  "language_info": {
   "codemirror_mode": {
    "name": "ipython",
    "version": 3
   },
   "file_extension": ".py",
   "mimetype": "text/x-python",
   "name": "python",
   "nbconvert_exporter": "python",
   "pygments_lexer": "ipython3",
   "version": "3.7.3"
  },
  "latex_envs": {
   "LaTeX_envs_menu_present": true,
   "autoclose": false,
   "autocomplete": true,
   "bibliofile": "biblio.bib",
   "cite_by": "apalike",
   "current_citInitial": 1,
   "eqLabelWithNumbers": true,
   "eqNumInitial": 1,
   "hotkeys": {
    "equation": "Ctrl-E",
    "itemize": "Ctrl-I"
   },
   "labels_anchors": true,
   "latex_user_defs": true,
   "report_style_numbering": false,
   "user_envs_cfg": true
  }
 },
 "nbformat": 4,
 "nbformat_minor": 4
}
