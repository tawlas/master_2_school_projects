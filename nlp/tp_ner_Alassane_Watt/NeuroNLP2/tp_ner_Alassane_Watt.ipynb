{
 "cells": [
  {
   "cell_type": "markdown",
   "metadata": {},
   "source": [
    "Author: Alassane Watt -- alassane.watt@student.ecp.fr\n"
   ]
  },
  {
   "cell_type": "markdown",
   "metadata": {},
   "source": [
    "Import statements"
   ]
  },
  {
   "cell_type": "code",
   "execution_count": 1,
   "metadata": {},
   "outputs": [],
   "source": [
    "import torch\n",
    "import torch.nn as nn\n",
    "import json\n",
    "import os\n",
    "import matplotlib.pyplot as plt\n",
    "from neuronlp2.io.alphabet import Alphabet\n",
    "from neuronlp2.models import BiRecurrentConv\n",
    "from experiments.ner import eval\n",
    "from neuronlp2.io import get_logger, conll03_data, CoNLL03Writer, iterate_data\n",
    "from gensim.models.word2vec import Word2Vec\n",
    "import gensim\n",
    "device = torch.device('cuda', 0) if torch.cuda.is_available() else torch.device('cpu')\n"
   ]
  },
  {
   "cell_type": "markdown",
   "metadata": {},
   "source": [
    "The following cell implements a pipeline class performing the main following tasks:\n",
    "- dataset statistics computation\n",
    "- ner model evaluation."
   ]
  },
  {
   "cell_type": "code",
   "execution_count": 3,
   "metadata": {},
   "outputs": [],
   "source": [
    "class Pipeline:\n",
    "    \"\"\" This is a class performing the pipeline consisting of dataset statistics computation and ner model evaluation.\n",
    "    \"\"\"\n",
    "    def __init__(self, train_path, model_dir):\n",
    "        self.train_path = train_path\n",
    "#         self.test_path = test_path\n",
    "        self.model_dir = model_dir\n",
    "        with open(self.train_path) as f:\n",
    "            self.train_data = [line.strip() for line in f.readlines()]\n",
    "        \n",
    "        self.result_path = os.path.join(self.model_dir, 'results')\n",
    "        if not os.path.exists(self.result_path):\n",
    "            os.makedirs(self.result_path)\n",
    "        \n",
    "    \n",
    "    def compute_stats(self):\n",
    "        # n_sentences\n",
    "        n_sentences = 0\n",
    "        for line in self.train_data:\n",
    "            if line == \"\":\n",
    "                n_sentences += 1\n",
    "        self.n_sentences = n_sentences\n",
    "        \n",
    "        # n_words\n",
    "        self.n_words = len([line for line in self.train_data if line != ''])\n",
    "        \n",
    "        #n_unique_words\n",
    "        self.n_unique_words = len(set([line.split(\" \")[1] for line in self.train_data if line != '']))\n",
    "        \n",
    "        #tags\n",
    "        self.tags = set([line.split(\" \")[4] for line in self.train_data if line != ''])\n",
    "        \n",
    "        # n_tokens per sentence\n",
    "        empty_indices = [i for i, line in enumerate(self.train_data) if line == \"\"]\n",
    "        i = 0\n",
    "        sentences_train = []\n",
    "        prev_i = 0\n",
    "        for i in empty_indices:\n",
    "            sentences_train.append(self.train_data[prev_i:i])\n",
    "            prev_i = i + 1\n",
    "        \n",
    "        self.n_tokens_per_sentence = [len(s) for s in sentences_train]\n",
    "    \n",
    "    def print_stats(self):\n",
    "        self.compute_stats()\n",
    "        print(\"Number of sentences: \", self.n_sentences)\n",
    "        print(\"Number of words: \", self.n_words)\n",
    "        print(\"Number of unique words: \", self.n_unique_words)\n",
    "        print(\"Number of tags: \", len(self.tags))\n",
    "        print(\"Different tags: \", self.tags)\n",
    "        \n",
    "        plt.hist(self.n_tokens_per_sentence, bins=50)\n",
    "        plt.title('Token per sentence')\n",
    "        plt.xlabel('Len (number of token)')\n",
    "        plt.ylabel('# samples')\n",
    "        plt.show()\n",
    "    \n",
    "    def load_model(self):\n",
    "        hyps_path = os.path.join(self.model_dir, \"config.json\")\n",
    "        with open(hyps_path) as f:\n",
    "            hyps = json.load(f)\n",
    "        \n",
    "        dropout = hyps['dropout']\n",
    "        crf = hyps['crf']\n",
    "        bigram = hyps['bigram']\n",
    "        embedd_dim = hyps['embedd_dim']\n",
    "        char_dim = hyps['char_dim']\n",
    "        mode = hyps['rnn_mode']\n",
    "        hidden_size = hyps['hidden_size']\n",
    "        out_features = hyps['out_features']\n",
    "        num_layers = hyps['num_layers']\n",
    "        p_in = hyps['p_in']\n",
    "        p_out = hyps['p_out']\n",
    "        p_rnn = hyps['p_rnn']\n",
    "        activation = hyps['activation']\n",
    "        \n",
    "        alphabets_dir = os.path.join(self.model_dir, \"alphabets\")\n",
    "        self.word_alphabet = Alphabet('word', defualt_value=True, singleton=True)\n",
    "        self.word_alphabet.load(alphabets_dir)\n",
    "\n",
    "        self.char_alphabet = Alphabet('character', defualt_value=True)\n",
    "        self.char_alphabet.load(alphabets_dir)\n",
    "\n",
    "        self.ner_alphabet = Alphabet('ner')\n",
    "        self.ner_alphabet.load(alphabets_dir)\n",
    "        num_labels = self.ner_alphabet.size()\n",
    "\n",
    "        self.pos_alphabet = Alphabet('pos')\n",
    "        self.pos_alphabet.load(alphabets_dir)\n",
    "\n",
    "        self.chunk_alphabet = Alphabet('chunk')\n",
    "        self.chunk_alphabet.load(alphabets_dir)\n",
    "\n",
    "        self.writer = CoNLL03Writer(self.word_alphabet, self.char_alphabet, self.pos_alphabet, self.chunk_alphabet, self.ner_alphabet)\n",
    "        \n",
    "        word_table = None\n",
    "        model_dict_path = os.path.join(self.model_dir, \"model.pt\")\n",
    "        model_state_dict = torch.load(model_dict_path)\n",
    "\n",
    "        model = BiRecurrentConv(embedd_dim, self.word_alphabet.size(), char_dim, self.char_alphabet.size(), mode, hidden_size, out_features, num_layers,\n",
    "                                              num_labels, embedd_word=word_table, p_in=p_in, p_out=p_out, p_rnn=p_rnn, activation=activation)\n",
    "\n",
    "        model.load_state_dict(model_state_dict)\n",
    "        self.model = model.to(device)\n",
    "        self.model.eval()        \n",
    "        \n",
    "    def get_results(self, test_path): \n",
    "        outfile = os.path.join(self.result_path, 'pred_test')\n",
    "        scorefile = os.path.join(self.result_path, 'score_test')\n",
    "        data_test = conll03_data.read_data(test_path, self.word_alphabet, self.char_alphabet, self.pos_alphabet, self.chunk_alphabet, self.ner_alphabet)\n",
    "\n",
    "        test_acc, test_precision, test_recall, test_f1 = eval(data_test, self.model, self.writer, outfile, scorefile, device)\n",
    "        return test_acc, test_precision, test_recall, test_f1\n",
    "\n",
    "        "
   ]
  },
  {
   "cell_type": "markdown",
   "metadata": {},
   "source": [
    "In the following we evaluate 10 configurations of the NeuroNLP2 NER model:\n",
    " - w2v embeddings trained on small press corpus + ner trained on press fra4_ID\n",
    " - w2v embeddings trained on med corpus + ner trained on emea\n",
    " - w2v embeddings trained on med corpus + ner trained on medline\n",
    " - w2v embeddings trained on full press corpus + ner trained on fra4\n",
    " - fasttext embeddings trained on small press corpus + ner trained on fra4\n",
    " - fasttext embeddings trained on full press corpus + ner trained on fra4\n",
    " - fasttext embeddings trained on med corpus + ner trained on emea\n",
    " - fasttext embeddings trained on med corpus + ner trained on medline\n",
    " - fasttext embeddings trained on med corpus + ner trained on fra4 press\n",
    " - fasttext embeddings trained on small press corpus + ner trained on emea\n",
    "\n",
    "__Plan:__\n",
    "\n",
    "1) Experimentations <br>\n",
    "2) Performance comparison<br>"
   ]
  },
  {
   "cell_type": "markdown",
   "metadata": {},
   "source": [
    "# Experimentations"
   ]
  },
  {
   "cell_type": "markdown",
   "metadata": {},
   "source": [
    "## w2v embeddings trained on small press corpus + ner trained on press fra4_ID"
   ]
  },
  {
   "cell_type": "code",
   "execution_count": 14,
   "metadata": {},
   "outputs": [
    {
     "name": "stdout",
     "output_type": "stream",
     "text": [
      "Number of sentences:  35723\n",
      "Number of words:  1156339\n",
      "Number of unique words:  37863\n",
      "Number of tags:  11\n",
      "Different tags:  {'i-func', 'b-org', 'b-pers', 'O', 'b-loc', 'b-func', 'i-loc', 'i-prod', 'i-pers', 'b-prod', 'i-org'}\n"
     ]
    },
    {
     "data": {
      "image/png": "[encoded data removed]",
      "text/plain": [
       "<Figure size 432x288 with 1 Axes>"
      ]
     },
     "metadata": {
      "needs_background": "light"
     },
     "output_type": "display_data"
    }
   ],
   "source": [
    "train_path = \"experiments/data/QUAERO_FrenchPress/fra4_ID.train\"\n",
    "model_dir = \"experiments/models/ner/ner_w2v_sg_p_small_fra4\"\n",
    "sg_pipeline = Pipeline(train_path, model_dir)\n",
    "sg_pipeline.print_stats()"
   ]
  },
  {
   "cell_type": "code",
   "execution_count": 15,
   "metadata": {},
   "outputs": [
    {
     "name": "stdout",
     "output_type": "stream",
     "text": [
      "Reading data from experiments/data/QUAERO_FrenchPress/fra4_ID.test\n",
      "Total number of data: 2880\n",
      "Evaluation for w2v|QUAERO_FrenchPress small|fra4_ID.test\n",
      "test acc: 97.29%, precision: 69.52%, recall: 64.44%, F1: 66.88%\n"
     ]
    }
   ],
   "source": [
    "# the pattern for get_results's first parameter is embedmodel_corpus_nercorpus\n",
    "sg_pipeline.load_model()\n",
    "test_path = \"experiments/data/QUAERO_FrenchPress/fra4_ID.test\"\n",
    "test_acc, test_precision, test_recall, test_f1 = sg_pipeline.get_results(test_path)\n",
    "print(\"Evaluation for w2v|QUAERO_FrenchPress small|fra4_ID.test\")\n",
    "print('test acc: %.2f%%, precision: %.2f%%, recall: %.2f%%, F1: %.2f%%' % (test_acc, test_precision, test_recall, test_f1))\n"
   ]
  },
  {
   "cell_type": "markdown",
   "metadata": {},
   "source": [
    "## w2v embeddings trained on med corpus + ner trained on emea"
   ]
  },
  {
   "cell_type": "code",
   "execution_count": 16,
   "metadata": {},
   "outputs": [
    {
     "name": "stdout",
     "output_type": "stream",
     "text": [
      "Number of sentences:  738\n",
      "Number of words:  15339\n",
      "Number of unique words:  2599\n",
      "Number of tags:  21\n",
      "Different tags:  {'B-DISO', 'O', 'I-ANAT', 'B-PHEN', 'I-PROC', 'B-CHEM', 'I-GEOG', 'I-DEVI', 'B-GEOG', 'I-LIVB', 'I-PHYS', 'B-PROC', 'I-OBJC', 'B-LIVB', 'B-PHYS', 'B-DEVI', 'B-ANAT', 'I-PHEN', 'B-OBJC', 'I-DISO', 'I-CHEM'}\n"
     ]
    },
    {
     "data": {
      "image/png": "[encoded data removed]",
      "text/plain": [
       "<Figure size 432x288 with 1 Axes>"
      ]
     },
     "metadata": {
      "needs_background": "light"
     },
     "output_type": "display_data"
    }
   ],
   "source": [
    "train_path = \"experiments/data/QUAERO_FrenchMed/EMEA/EMEAtrain_layer1_ID.conll\"\n",
    "model_dir = \"experiments/models/ner/ner_w2v_sg_emea\"\n",
    "sg_pipeline = Pipeline(train_path, model_dir)\n",
    "sg_pipeline.print_stats()"
   ]
  },
  {
   "cell_type": "code",
   "execution_count": 17,
   "metadata": {
    "scrolled": true
   },
   "outputs": [
    {
     "name": "stdout",
     "output_type": "stream",
     "text": [
      "Reading data from experiments/data/QUAERO_FrenchMed/EMEA/EMEAtest_layer1_ID.conll\n",
      "Total number of data: 578\n",
      "Evaluation for w2v|QUAERO_FrenchMed|EMEAtest_layer1_ID.conll\n",
      "test acc: 84.05%, precision: 47.17%, recall: 35.24%, F1: 40.34%\n"
     ]
    }
   ],
   "source": [
    "# the pattern for get_results's first parameter is embedmodel_corpus_nercorpus\n",
    "sg_pipeline.load_model()\n",
    "test_path = \"experiments/data/QUAERO_FrenchMed/EMEA/EMEAtest_layer1_ID.conll\"\n",
    "test_acc, test_precision, test_recall, test_f1 = sg_pipeline.get_results(test_path)\n",
    "print(\"Evaluation for w2v|QUAERO_FrenchMed|EMEAtest_layer1_ID.conll\")\n",
    "print('test acc: %.2f%%, precision: %.2f%%, recall: %.2f%%, F1: %.2f%%' % (test_acc, test_precision, test_recall, test_f1))\n"
   ]
  },
  {
   "cell_type": "code",
   "execution_count": null,
   "metadata": {},
   "outputs": [],
   "source": []
  },
  {
   "cell_type": "markdown",
   "metadata": {},
   "source": [
    "## w2v embeddings trained on med corpus + ner trained on medline"
   ]
  },
  {
   "cell_type": "code",
   "execution_count": 18,
   "metadata": {},
   "outputs": [
    {
     "name": "stdout",
     "output_type": "stream",
     "text": [
      "Number of sentences:  835\n",
      "Number of words:  11525\n",
      "Number of unique words:  3862\n",
      "Number of tags:  21\n",
      "Different tags:  {'B-DISO', 'O', 'I-ANAT', 'B-PHEN', 'I-PROC', 'B-CHEM', 'I-GEOG', 'I-DEVI', 'B-GEOG', 'I-LIVB', 'I-PHYS', 'B-PROC', 'I-OBJC', 'B-LIVB', 'B-PHYS', 'B-DEVI', 'B-ANAT', 'I-PHEN', 'B-OBJC', 'I-DISO', 'I-CHEM'}\n"
     ]
    },
    {
     "data": {
      "image/png": "[encoded data removed]",
      "text/plain": [
       "<Figure size 432x288 with 1 Axes>"
      ]
     },
     "metadata": {
      "needs_background": "light"
     },
     "output_type": "display_data"
    }
   ],
   "source": [
    "train_path = \"experiments/data/QUAERO_FrenchMed/MEDLINE/MEDLINEtrain_layer1_ID.conll\"\n",
    "model_dir = \"experiments/models/ner/ner_w2v_sg_medline\"\n",
    "sg_pipeline = Pipeline(train_path, model_dir)\n",
    "sg_pipeline.print_stats()"
   ]
  },
  {
   "cell_type": "code",
   "execution_count": 19,
   "metadata": {
    "scrolled": true
   },
   "outputs": [
    {
     "name": "stdout",
     "output_type": "stream",
     "text": [
      "Reading data from experiments/data/QUAERO_FrenchMed/MEDLINE/MEDLINEtest_layer1_ID.conll\n",
      "Total number of data: 835\n",
      "Evaluation for w2v|QUAERO_FrenchMed|Medlinetest_layer1_ID\n",
      "test acc: 72.69%, precision: 27.78%, recall: 23.28%, F1: 25.33%\n"
     ]
    }
   ],
   "source": [
    "# the pattern for get_results's first parameter is embedmodel_corpus_nercorpus\n",
    "sg_pipeline.load_model()\n",
    "test_path = \"experiments/data/QUAERO_FrenchMed/MEDLINE/MEDLINEtest_layer1_ID.conll\"\n",
    "test_acc, test_precision, test_recall, test_f1 = sg_pipeline.get_results(test_path)\n",
    "print(\"Evaluation for w2v|QUAERO_FrenchMed|Medlinetest_layer1_ID\")\n",
    "print('test acc: %.2f%%, precision: %.2f%%, recall: %.2f%%, F1: %.2f%%' % (test_acc, test_precision, test_recall, test_f1))\n"
   ]
  },
  {
   "cell_type": "markdown",
   "metadata": {},
   "source": [
    "## w2v embeddings trained on full press corpus + ner trained on fra4"
   ]
  },
  {
   "cell_type": "code",
   "execution_count": 20,
   "metadata": {},
   "outputs": [
    {
     "name": "stdout",
     "output_type": "stream",
     "text": [
      "Number of sentences:  35723\n",
      "Number of words:  1156339\n",
      "Number of unique words:  37863\n",
      "Number of tags:  11\n",
      "Different tags:  {'i-func', 'b-org', 'b-pers', 'O', 'b-loc', 'b-func', 'i-loc', 'i-prod', 'i-pers', 'b-prod', 'i-org'}\n"
     ]
    },
    {
     "data": {
      "image/png": "[encoded data removed]",
      "text/plain": [
       "<Figure size 432x288 with 1 Axes>"
      ]
     },
     "metadata": {
      "needs_background": "light"
     },
     "output_type": "display_data"
    }
   ],
   "source": [
    "train_path = \"experiments/data/QUAERO_FrenchPress/fra4_ID.train\"\n",
    "model_dir = \"experiments/models/ner/ner_w2v_sg_p_fra4\"\n",
    "sg_pipeline = Pipeline(train_path, model_dir)\n",
    "sg_pipeline.print_stats()"
   ]
  },
  {
   "cell_type": "code",
   "execution_count": 21,
   "metadata": {},
   "outputs": [
    {
     "name": "stdout",
     "output_type": "stream",
     "text": [
      "Reading data from experiments/data/QUAERO_FrenchPress/fra4_ID.test\n",
      "Total number of data: 2880\n",
      "Evaluation for w2v|QUAERO_FrenchPress|fra4\n",
      "test acc: 97.50%, precision: 73.81%, recall: 66.02%, F1: 69.70%\n"
     ]
    }
   ],
   "source": [
    "# the pattern for get_results's first parameter is embedmodel_corpus_nercorpus\n",
    "sg_pipeline.load_model()\n",
    "test_path = \"experiments/data/QUAERO_FrenchPress/fra4_ID.test\"\n",
    "test_acc, test_precision, test_recall, test_f1 = sg_pipeline.get_results(test_path)\n",
    "print(\"Evaluation for w2v|QUAERO_FrenchPress|fra4\")\n",
    "print('test acc: %.2f%%, precision: %.2f%%, recall: %.2f%%, F1: %.2f%%' % (test_acc, test_precision, test_recall, test_f1))\n"
   ]
  },
  {
   "cell_type": "code",
   "execution_count": null,
   "metadata": {},
   "outputs": [],
   "source": []
  },
  {
   "cell_type": "markdown",
   "metadata": {},
   "source": [
    "## fasttext embeddings trained on small press corpus + ner trained on fra4"
   ]
  },
  {
   "cell_type": "code",
   "execution_count": 22,
   "metadata": {},
   "outputs": [
    {
     "name": "stdout",
     "output_type": "stream",
     "text": [
      "Number of sentences:  35723\n",
      "Number of words:  1156339\n",
      "Number of unique words:  37863\n",
      "Number of tags:  11\n",
      "Different tags:  {'i-func', 'b-org', 'b-pers', 'O', 'b-loc', 'b-func', 'i-loc', 'i-prod', 'i-pers', 'b-prod', 'i-org'}\n"
     ]
    },
    {
     "data": {
      "image/png": "[encoded data removed]",
      "text/plain": [
       "<Figure size 432x288 with 1 Axes>"
      ]
     },
     "metadata": {
      "needs_background": "light"
     },
     "output_type": "display_data"
    }
   ],
   "source": [
    "train_path = \"experiments/data/QUAERO_FrenchPress/fra4_ID.train\"\n",
    "model_dir = \"experiments/models/ner/ner_ft_sg_p_small_fra4\"\n",
    "sg_pipeline = Pipeline(train_path, model_dir)\n",
    "sg_pipeline.print_stats()"
   ]
  },
  {
   "cell_type": "code",
   "execution_count": 23,
   "metadata": {},
   "outputs": [
    {
     "name": "stdout",
     "output_type": "stream",
     "text": [
      "Reading data from experiments/data/QUAERO_FrenchPress/fra4_ID.test\n",
      "Total number of data: 2880\n",
      "Evaluation for fasttext|QUAERO_FrenchPress|fra4\n",
      "test acc: 97.43%, precision: 72.46%, recall: 66.62%, F1: 69.41%\n"
     ]
    }
   ],
   "source": [
    "# the pattern for get_results's first parameter is embedmodel_corpus_nercorpus\n",
    "sg_pipeline.load_model()\n",
    "test_path = \"experiments/data/QUAERO_FrenchPress/fra4_ID.test\"\n",
    "test_acc, test_precision, test_recall, test_f1 = sg_pipeline.get_results(test_path)\n",
    "print(\"Evaluation for fasttext|QUAERO_FrenchPress|fra4\")\n",
    "print('test acc: %.2f%%, precision: %.2f%%, recall: %.2f%%, F1: %.2f%%' % (test_acc, test_precision, test_recall, test_f1))\n"
   ]
  },
  {
   "cell_type": "code",
   "execution_count": null,
   "metadata": {},
   "outputs": [],
   "source": []
  },
  {
   "cell_type": "markdown",
   "metadata": {},
   "source": [
    "## fasttext embeddings trained on full press corpus + ner trained on fra4"
   ]
  },
  {
   "cell_type": "code",
   "execution_count": 24,
   "metadata": {},
   "outputs": [
    {
     "name": "stdout",
     "output_type": "stream",
     "text": [
      "Number of sentences:  35723\n",
      "Number of words:  1156339\n",
      "Number of unique words:  37863\n",
      "Number of tags:  11\n",
      "Different tags:  {'i-func', 'b-org', 'b-pers', 'O', 'b-loc', 'b-func', 'i-loc', 'i-prod', 'i-pers', 'b-prod', 'i-org'}\n"
     ]
    },
    {
     "data": {
      "image/png": "[encoded data removed]",
      "text/plain": [
       "<Figure size 432x288 with 1 Axes>"
      ]
     },
     "metadata": {
      "needs_background": "light"
     },
     "output_type": "display_data"
    }
   ],
   "source": [
    "train_path = \"experiments/data/QUAERO_FrenchPress/fra4_ID.train\"\n",
    "model_dir = \"experiments/models/ner/ner_ft_sg_p_fra4\"\n",
    "sg_pipeline = Pipeline(train_path, model_dir)\n",
    "sg_pipeline.print_stats()"
   ]
  },
  {
   "cell_type": "code",
   "execution_count": 25,
   "metadata": {},
   "outputs": [
    {
     "name": "stdout",
     "output_type": "stream",
     "text": [
      "Reading data from experiments/data/QUAERO_FrenchPress/fra4_ID.test\n",
      "Total number of data: 2880\n",
      "Evaluation for fasttext|QUAERO_FrenchPress|fra4\n",
      "test acc: 97.50%, precision: 73.43%, recall: 66.14%, F1: 69.59%\n"
     ]
    }
   ],
   "source": [
    "# the pattern for get_results's first parameter is embedmodel_corpus_nercorpus\n",
    "sg_pipeline.load_model()\n",
    "test_path = \"experiments/data/QUAERO_FrenchPress/fra4_ID.test\"\n",
    "test_acc, test_precision, test_recall, test_f1 = sg_pipeline.get_results(test_path)\n",
    "print(\"Evaluation for fasttext|QUAERO_FrenchPress|fra4\")\n",
    "print('test acc: %.2f%%, precision: %.2f%%, recall: %.2f%%, F1: %.2f%%' % (test_acc, test_precision, test_recall, test_f1))\n"
   ]
  },
  {
   "cell_type": "code",
   "execution_count": null,
   "metadata": {},
   "outputs": [],
   "source": []
  },
  {
   "cell_type": "markdown",
   "metadata": {},
   "source": [
    "## fasttext embeddings trained on med corpus + ner trained on emea"
   ]
  },
  {
   "cell_type": "code",
   "execution_count": 26,
   "metadata": {},
   "outputs": [
    {
     "name": "stdout",
     "output_type": "stream",
     "text": [
      "Number of sentences:  738\n",
      "Number of words:  15339\n",
      "Number of unique words:  2599\n",
      "Number of tags:  21\n",
      "Different tags:  {'B-DISO', 'O', 'I-ANAT', 'B-PHEN', 'I-PROC', 'B-CHEM', 'I-GEOG', 'I-DEVI', 'B-GEOG', 'I-LIVB', 'I-PHYS', 'B-PROC', 'I-OBJC', 'B-LIVB', 'B-PHYS', 'B-DEVI', 'B-ANAT', 'I-PHEN', 'B-OBJC', 'I-DISO', 'I-CHEM'}\n"
     ]
    },
    {
     "data": {
      "image/png": "[encoded data removed]",
      "text/plain": [
       "<Figure size 432x288 with 1 Axes>"
      ]
     },
     "metadata": {
      "needs_background": "light"
     },
     "output_type": "display_data"
    }
   ],
   "source": [
    "train_path = \"experiments/data/QUAERO_FrenchMed/EMEA/EMEAtrain_layer1_ID.conll\"\n",
    "model_dir = \"experiments/models/ner/ner_ft_sg_emea\"\n",
    "sg_pipeline = Pipeline(train_path, model_dir)\n",
    "sg_pipeline.print_stats()"
   ]
  },
  {
   "cell_type": "code",
   "execution_count": 27,
   "metadata": {},
   "outputs": [
    {
     "name": "stdout",
     "output_type": "stream",
     "text": [
      "Reading data from experiments/data/QUAERO_FrenchMed/EMEA/EMEAtest_layer1_ID.conll\n",
      "Total number of data: 578\n",
      "Evaluation for fasttext|QUAERO_FrenchMed|emea\n",
      "test acc: 84.95%, precision: 61.07%, recall: 30.57%, F1: 40.75%\n"
     ]
    }
   ],
   "source": [
    "# the pattern for get_results's first parameter is embedmodel_corpus_nercorpus\n",
    "sg_pipeline.load_model()\n",
    "test_path = \"experiments/data/QUAERO_FrenchMed/EMEA/EMEAtest_layer1_ID.conll\"\n",
    "test_acc, test_precision, test_recall, test_f1 = sg_pipeline.get_results(test_path)\n",
    "print(\"Evaluation for fasttext|QUAERO_FrenchMed|emea\")\n",
    "print('test acc: %.2f%%, precision: %.2f%%, recall: %.2f%%, F1: %.2f%%' % (test_acc, test_precision, test_recall, test_f1))\n"
   ]
  },
  {
   "cell_type": "code",
   "execution_count": null,
   "metadata": {},
   "outputs": [],
   "source": []
  },
  {
   "cell_type": "markdown",
   "metadata": {},
   "source": [
    "## fasttext embeddings trained on med corpus + ner trained on medline"
   ]
  },
  {
   "cell_type": "code",
   "execution_count": 29,
   "metadata": {},
   "outputs": [
    {
     "name": "stdout",
     "output_type": "stream",
     "text": [
      "Number of sentences:  835\n",
      "Number of words:  11525\n",
      "Number of unique words:  3862\n",
      "Number of tags:  21\n",
      "Different tags:  {'B-DISO', 'O', 'I-ANAT', 'B-PHEN', 'I-PROC', 'B-CHEM', 'I-GEOG', 'I-DEVI', 'B-GEOG', 'I-LIVB', 'I-PHYS', 'B-PROC', 'I-OBJC', 'B-LIVB', 'B-PHYS', 'B-DEVI', 'B-ANAT', 'I-PHEN', 'B-OBJC', 'I-DISO', 'I-CHEM'}\n"
     ]
    },
    {
     "data": {
      "image/png": "[encoded data removed]",
      "text/plain": [
       "<Figure size 432x288 with 1 Axes>"
      ]
     },
     "metadata": {
      "needs_background": "light"
     },
     "output_type": "display_data"
    }
   ],
   "source": [
    "train_path = \"experiments/data/QUAERO_FrenchMed/MEDLINE/MEDLINEtrain_layer1_ID.conll\"\n",
    "model_dir = \"experiments/models/ner/ner_ft_sg_medline\"\n",
    "sg_pipeline = Pipeline(train_path, model_dir)\n",
    "sg_pipeline.print_stats()"
   ]
  },
  {
   "cell_type": "code",
   "execution_count": 30,
   "metadata": {},
   "outputs": [
    {
     "name": "stdout",
     "output_type": "stream",
     "text": [
      "Reading data from experiments/data/QUAERO_FrenchMed/MEDLINE/MEDLINEtest_layer1_ID.conll\n",
      "Total number of data: 835\n",
      "Evaluation for fasttext|QUAERO_FrenchMed|Medline\n",
      "test acc: 75.77%, precision: 42.71%, recall: 26.02%, F1: 32.34%\n"
     ]
    }
   ],
   "source": [
    "# the pattern for get_results's first parameter is embedmodel_corpus_nercorpus\n",
    "sg_pipeline.load_model()\n",
    "test_path = \"experiments/data/QUAERO_FrenchMed/MEDLINE/MEDLINEtest_layer1_ID.conll\"\n",
    "test_acc, test_precision, test_recall, test_f1 = sg_pipeline.get_results(test_path)\n",
    "print(\"Evaluation for fasttext|QUAERO_FrenchMed|Medline\")\n",
    "print('test acc: %.2f%%, precision: %.2f%%, recall: %.2f%%, F1: %.2f%%' % (test_acc, test_precision, test_recall, test_f1))\n"
   ]
  },
  {
   "cell_type": "code",
   "execution_count": null,
   "metadata": {},
   "outputs": [],
   "source": []
  },
  {
   "cell_type": "markdown",
   "metadata": {},
   "source": [
    "## fasttext embeddings trained on med corpus + ner trained on fra4 press"
   ]
  },
  {
   "cell_type": "code",
   "execution_count": 31,
   "metadata": {},
   "outputs": [
    {
     "name": "stdout",
     "output_type": "stream",
     "text": [
      "Number of sentences:  35723\n",
      "Number of words:  1156339\n",
      "Number of unique words:  37863\n",
      "Number of tags:  11\n",
      "Different tags:  {'i-func', 'b-org', 'b-pers', 'O', 'b-loc', 'b-func', 'i-loc', 'i-prod', 'i-pers', 'b-prod', 'i-org'}\n"
     ]
    },
    {
     "data": {
      "image/png": "[encoded data removed]",
      "text/plain": [
       "<Figure size 432x288 with 1 Axes>"
      ]
     },
     "metadata": {
      "needs_background": "light"
     },
     "output_type": "display_data"
    }
   ],
   "source": [
    "train_path = \"experiments/data/QUAERO_FrenchPress/fra4_ID.train\"\n",
    "model_dir = \"experiments/models/ner/ner_ft_sg_m-fra4\"\n",
    "sg_pipeline = Pipeline(train_path, model_dir)\n",
    "sg_pipeline.print_stats()"
   ]
  },
  {
   "cell_type": "code",
   "execution_count": 32,
   "metadata": {},
   "outputs": [
    {
     "name": "stdout",
     "output_type": "stream",
     "text": [
      "Reading data from experiments/data/QUAERO_FrenchPress/fra4_ID.test\n",
      "Total number of data: 2880\n",
      "Evaluation for fasttext|QUAERO_FrenchMed|Fra4\n",
      "test acc: 97.33%, precision: 73.10%, recall: 62.88%, F1: 67.60%\n"
     ]
    }
   ],
   "source": [
    "# the pattern for get_results's first parameter is embedmodel_corpus_nercorpus\n",
    "sg_pipeline.load_model()\n",
    "test_path = \"experiments/data/QUAERO_FrenchPress/fra4_ID.test\"\n",
    "test_acc, test_precision, test_recall, test_f1 = sg_pipeline.get_results(test_path)\n",
    "print(\"Evaluation for fasttext|QUAERO_FrenchMed|Fra4\")\n",
    "print('test acc: %.2f%%, precision: %.2f%%, recall: %.2f%%, F1: %.2f%%' % (test_acc, test_precision, test_recall, test_f1))\n"
   ]
  },
  {
   "cell_type": "code",
   "execution_count": null,
   "metadata": {},
   "outputs": [],
   "source": []
  },
  {
   "cell_type": "markdown",
   "metadata": {},
   "source": [
    "## fasttext embeddings trained on small press corpus + ner trained on emea"
   ]
  },
  {
   "cell_type": "code",
   "execution_count": 34,
   "metadata": {},
   "outputs": [
    {
     "name": "stdout",
     "output_type": "stream",
     "text": [
      "Number of sentences:  738\n",
      "Number of words:  15339\n",
      "Number of unique words:  2599\n",
      "Number of tags:  21\n",
      "Different tags:  {'B-DISO', 'O', 'I-ANAT', 'B-PHEN', 'I-PROC', 'B-CHEM', 'I-GEOG', 'I-DEVI', 'B-GEOG', 'I-LIVB', 'I-PHYS', 'B-PROC', 'I-OBJC', 'B-LIVB', 'B-PHYS', 'B-DEVI', 'B-ANAT', 'I-PHEN', 'B-OBJC', 'I-DISO', 'I-CHEM'}\n"
     ]
    },
    {
     "data": {
      "image/png": "[encoded data removed]",
      "text/plain": [
       "<Figure size 432x288 with 1 Axes>"
      ]
     },
     "metadata": {
      "needs_background": "light"
     },
     "output_type": "display_data"
    }
   ],
   "source": [
    "train_path = \"experiments/data/QUAERO_FrenchMed/EMEA/EMEAtrain_layer1_ID.conll\"\n",
    "model_dir = \"experiments/models/ner/ner_ft_sg_p_small-emea\"\n",
    "sg_pipeline = Pipeline(train_path, model_dir)\n",
    "sg_pipeline.print_stats()"
   ]
  },
  {
   "cell_type": "code",
   "execution_count": 35,
   "metadata": {},
   "outputs": [
    {
     "name": "stdout",
     "output_type": "stream",
     "text": [
      "Reading data from experiments/data/QUAERO_FrenchMed/EMEA/EMEAtest_layer1_ID.conll\n",
      "Total number of data: 578\n",
      "Evaluation for fasttext|QUAERO_FrenchPress small|Emea\n",
      "test acc: 84.19%, precision: 54.85%, recall: 31.34%, F1: 39.89%\n"
     ]
    }
   ],
   "source": [
    "# the pattern for get_results's first parameter is embedmodel_corpus_nercorpus\n",
    "sg_pipeline.load_model()\n",
    "test_path = \"experiments/data/QUAERO_FrenchMed/EMEA/EMEAtest_layer1_ID.conll\"\n",
    "test_acc, test_precision, test_recall, test_f1 = sg_pipeline.get_results(test_path)\n",
    "print(\"Evaluation for fasttext|QUAERO_FrenchPress small|Emea\")\n",
    "print('test acc: %.2f%%, precision: %.2f%%, recall: %.2f%%, F1: %.2f%%' % (test_acc, test_precision, test_recall, test_f1))\n"
   ]
  },
  {
   "cell_type": "markdown",
   "metadata": {},
   "source": [
    "# Performance comparison"
   ]
  },
  {
   "cell_type": "code",
   "execution_count": 53,
   "metadata": {},
   "outputs": [],
   "source": [
    "import matplotlib\n",
    "import matplotlib.pyplot as plt\n",
    "import numpy as np\n",
    "import pandas as pd"
   ]
  },
  {
   "cell_type": "code",
   "execution_count": 54,
   "metadata": {},
   "outputs": [],
   "source": [
    "def compare_configs(args, labels=labels):\n",
    "   \n",
    "    n = len(args)\n",
    "    df = pd.DataFrame({args[i][1]:args[i][0] for i in range(n)}, index=labels)\n",
    "    ax = df.plot.bar(rot=0)\n",
    "#     color={\"Positive Values\": \"green\", \"Negative Values\": \"red\"}\n",
    "\n",
    "#     x = np.arange(len(labels))  # the label locations\n",
    "#     width = 0.35  # the width of the bars\n",
    "#     fig, ax = plt.subplots()\n",
    "#     n = len(args)\n",
    "#     rects = [ax.bar(x - width/n, args[i][0], width, label=args[i][1]) for i in range(n)]\n",
    "    \n",
    "# #     rects1 = ax.bar(x - width/n, w2v_p_small, width, label='Men')\n",
    "# #     rects2 = ax.bar(x + width/n, women_means, width, label='Women')\n",
    "\n",
    "#     # Add some text for labels, title and custom x-axis tick labels, etc.\n",
    "#     ax.set_ylabel('Metrics')\n",
    "#     ax.set_title('Metrics by type and config')\n",
    "#     ax.set_xticks(x)\n",
    "#     ax.set_xticklabels(labels)\n",
    "#     ax.legend()\n",
    "    \n",
    "#     for rect in rects:\n",
    "#         ax.bar_label(rect, padding=3)\n",
    "\n",
    "#     fig.tight_layout()\n",
    "    plt.title('Metrics by type and config')\n",
    "    plt.show()"
   ]
  },
  {
   "cell_type": "code",
   "execution_count": 37,
   "metadata": {},
   "outputs": [],
   "source": [
    "labels = ['Accuracy', 'Precision', 'Recall', 'F1']\n",
    " \n",
    "ft_p_small = [97.43, 72.46, 66.62, 69.41]\n",
    "w2v_p_small = [97.29, 69.52, 64.44, 66.88]\n",
    "ft_emea = [84.95, 61.07, 30.57, 40.75]\n",
    "ft_medline = [75.77, 42.71, 26.02, 32.34]\n",
    "ft_p = [97.50, 73.43, 66.14, 69.59]\n",
    "w2v_p = [97.50, 73.81, 66.02, 69.70]\n",
    "ft_m_fra4 = [97.33, 73.10, 62.88, 67.60]\n",
    "ft_p_small_emea = [84.19, 54.85, 31.34, 39.89]\n",
    "w2v_emea = [84.05, 47.17, 35.24, 40.34]\n",
    "w2v_medline = [72.69, 27.78, 23.28, 25.33]"
   ]
  },
  {
   "cell_type": "markdown",
   "metadata": {},
   "source": [
    " ### The size of the corpus used to train word embedding\n",
    " use raw text samples of increasing sizes to train word embeddings"
   ]
  },
  {
   "cell_type": "markdown",
   "metadata": {},
   "source": [
    "Comparing w2v trained on small press vs w2v trained on full press"
   ]
  },
  {
   "cell_type": "code",
   "execution_count": 55,
   "metadata": {},
   "outputs": [
    {
     "data": {
      "image/png": "[encoded data removed]",
      "text/plain": [
       "<Figure size 432x288 with 1 Axes>"
      ]
     },
     "metadata": {
      "needs_background": "light"
     },
     "output_type": "display_data"
    }
   ],
   "source": [
    "# args: a list of (results, label of results)\n",
    "args = [(w2v_p_small, \"W2V small press\"), (w2v_p, \"W2V full press\")]\n",
    "compare_configs(args)"
   ]
  },
  {
   "cell_type": "markdown",
   "metadata": {},
   "source": [
    "Comparing Fasttext trained on small press vs Fasttext trained on full press"
   ]
  },
  {
   "cell_type": "code",
   "execution_count": 56,
   "metadata": {},
   "outputs": [
    {
     "data": {
      "image/png": "[encoded data removed]",
      "text/plain": [
       "<Figure size 432x288 with 1 Axes>"
      ]
     },
     "metadata": {
      "needs_background": "light"
     },
     "output_type": "display_data"
    }
   ],
   "source": [
    "args = [(ft_p_small, \"Fasttext on small press\"), (ft_p, \"Fasttext on full press\")]\n",
    "compare_configs(args)"
   ]
  },
  {
   "cell_type": "markdown",
   "metadata": {},
   "source": [
    "__Mini-conclusion:__ The two previous graphs of this section show that embeddings trained on a bigger corpus improve the ner model performance."
   ]
  },
  {
   "cell_type": "markdown",
   "metadata": {},
   "source": [
    "### The word embedding model\n",
    "use word embeddings created with word2vec skip-gram, fastText skip-gram"
   ]
  },
  {
   "cell_type": "markdown",
   "metadata": {},
   "source": [
    "Comparing w2v trained on full press vs fasttext trained on full press"
   ]
  },
  {
   "cell_type": "code",
   "execution_count": 57,
   "metadata": {},
   "outputs": [
    {
     "data": {
      "image/png": "[encoded data removed]",
      "text/plain": [
       "<Figure size 432x288 with 1 Axes>"
      ]
     },
     "metadata": {
      "needs_background": "light"
     },
     "output_type": "display_data"
    }
   ],
   "source": [
    "args = [(w2v_p, \"W2V full press\"), (ft_p, \"Fasttext full press\")]\n",
    "compare_configs(args)"
   ]
  },
  {
   "cell_type": "markdown",
   "metadata": {},
   "source": [
    "Comparing w2v trained on small press vs fasttext trained on small press"
   ]
  },
  {
   "cell_type": "code",
   "execution_count": 58,
   "metadata": {},
   "outputs": [
    {
     "data": {
      "image/png": "[encoded data removed]",
      "text/plain": [
       "<Figure size 432x288 with 1 Axes>"
      ]
     },
     "metadata": {
      "needs_background": "light"
     },
     "output_type": "display_data"
    }
   ],
   "source": [
    "args = [(w2v_p_small, \"W2V small press\"), (ft_p_small, \"Fasttext small press\")]\n",
    "compare_configs(args)"
   ]
  },
  {
   "cell_type": "markdown",
   "metadata": {},
   "source": [
    "Comparing w2v trained on medical corpus vs fasttext trained on medical corpus and ner on emea"
   ]
  },
  {
   "cell_type": "code",
   "execution_count": 59,
   "metadata": {},
   "outputs": [
    {
     "data": {
      "image/png": "[encoded data removed]",
      "text/plain": [
       "<Figure size 432x288 with 1 Axes>"
      ]
     },
     "metadata": {
      "needs_background": "light"
     },
     "output_type": "display_data"
    }
   ],
   "source": [
    "args = [(w2v_emea, \"W2V EMEA\"), (ft_emea, \"Fasttext EMEA\")]\n",
    "compare_configs(args)"
   ]
  },
  {
   "cell_type": "code",
   "execution_count": 60,
   "metadata": {},
   "outputs": [
    {
     "data": {
      "image/png": "[encoded data removed]",
      "text/plain": [
       "<Figure size 432x288 with 1 Axes>"
      ]
     },
     "metadata": {
      "needs_background": "light"
     },
     "output_type": "display_data"
    }
   ],
   "source": [
    "args = [(w2v_medline, \"W2V Medline\"), (ft_medline, \"Fasttext Medline\")]\n",
    "compare_configs(args)"
   ]
  },
  {
   "cell_type": "markdown",
   "metadata": {},
   "source": [
    "__Mini-conclusion:__ Fasttext seems to perform better than word2vec overall."
   ]
  },
  {
   "cell_type": "markdown",
   "metadata": {},
   "source": [
    "### The fit of the domain of the corpus used for named entity recognition and that of the word embeddings.\n",
    "use word embeddings trained on a news corpus vs. a medical corpus of the same size"
   ]
  },
  {
   "cell_type": "markdown",
   "metadata": {},
   "source": [
    "Comparing BETWEEN ner trained on press corpus with fasttext embeddings trained on medical corpus AND ner trained on press with fasttext embeddings trained on press"
   ]
  },
  {
   "cell_type": "code",
   "execution_count": 62,
   "metadata": {},
   "outputs": [
    {
     "data": {
      "image/png": "[encoded data removed]",
      "text/plain": [
       "<Figure size 432x288 with 1 Axes>"
      ]
     },
     "metadata": {
      "needs_background": "light"
     },
     "output_type": "display_data"
    }
   ],
   "source": [
    "args = [(ft_m_fra4, \"Different domains\"), (ft_p, \"Same domain\")]\n",
    "compare_configs(args)"
   ]
  },
  {
   "cell_type": "markdown",
   "metadata": {},
   "source": [
    "Comparing BETWEEN ner trained on medical emea corpus with fasttext embeddings trained on small press corpus AND ner trained on medical emea corpus with fasttext embeddings trained on medical corpus"
   ]
  },
  {
   "cell_type": "code",
   "execution_count": 63,
   "metadata": {},
   "outputs": [
    {
     "data": {
      "image/png": "[encoded data removed]",
      "text/plain": [
       "<Figure size 432x288 with 1 Axes>"
      ]
     },
     "metadata": {
      "needs_background": "light"
     },
     "output_type": "display_data"
    }
   ],
   "source": [
    "args = [(ft_p_small_emea, \"Different domains\"), (ft_emea, \"Same domain\")]\n",
    "compare_configs(args)"
   ]
  },
  {
   "cell_type": "markdown",
   "metadata": {},
   "source": [
    "__Mini_conclusion:__ As expected, having the word embeddings and the ner model trained on the same domain achieves higher performance than having them trained on different corpora."
   ]
  },
  {
   "cell_type": "code",
   "execution_count": null,
   "metadata": {},
   "outputs": [],
   "source": []
  }
 ],
 "metadata": {
  "kernelspec": {
   "display_name": "Python 3",
   "language": "python",
   "name": "python3"
  },
  "language_info": {
   "codemirror_mode": {
    "name": "ipython",
    "version": 3
   },
   "file_extension": ".py",
   "mimetype": "text/x-python",
   "name": "python",
   "nbconvert_exporter": "python",
   "pygments_lexer": "ipython3",
   "version": "3.7.3"
  }
 },
 "nbformat": 4,
 "nbformat_minor": 2
}
